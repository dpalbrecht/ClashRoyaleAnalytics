{
 "cells": [
  {
   "cell_type": "code",
   "execution_count": 1,
   "metadata": {},
   "outputs": [],
   "source": [
    "from googleapiclient.discovery import build\n",
    "import googleapiclient.discovery\n",
    "import datetime\n",
    "from google.cloud import storage\n",
    "import json\n",
    "import logging\n",
    "logging.getLogger().setLevel(logging.INFO)"
   ]
  },
  {
   "cell_type": "code",
   "execution_count": 2,
   "metadata": {},
   "outputs": [],
   "source": [
    "def trigger(request):\n",
    "    process_inputs = {\n",
    "        'scaleTier': 'BASIC',\n",
    "        'masterConfig': {'imageUri': 'gcr.io/royaleapp/process_battles_job'},\n",
    "        'pythonModule': 'main.py',\n",
    "        'region': 'us-west2'\n",
    "    }\n",
    "    job_spec = {\n",
    "        'jobId': 'process_battles_job_{}'.format(datetime.datetime.utcnow().strftime('%Y%m%dT%H%M%S')), \n",
    "        'trainingInput': process_inputs\n",
    "    }\n",
    "    cloudml = googleapiclient.discovery.build('ml', 'v1')\n",
    "    request = cloudml.projects().jobs().create(body=job_spec, parent='projects/royaleapp')\n",
    "    response = request.execute()\n",
    "    logging.info(json.dumps({'status':'success', 'response_object':response}))\n",
    "    return json.dumps({'status':'success', 'response_object':response}), 200"
   ]
  },
  {
   "cell_type": "code",
   "execution_count": 3,
   "metadata": {},
   "outputs": [
    {
     "name": "stderr",
     "output_type": "stream",
     "text": [
      "INFO:root:{\"status\": \"success\", \"response_object\": {\"jobId\": \"process_battles_job_20200428T235544\", \"trainingInput\": {\"pythonModule\": \"main.py\", \"region\": \"us-west2\", \"masterConfig\": {\"imageUri\": \"gcr.io/royaleapp/process_battles_job\"}}, \"createTime\": \"2020-04-28T23:55:45Z\", \"state\": \"QUEUED\", \"trainingOutput\": {}, \"etag\": \"/aGDJgfPAFo=\"}}\n"
     ]
    },
    {
     "data": {
      "text/plain": [
       "('{\"status\": \"success\", \"response_object\": {\"jobId\": \"process_battles_job_20200428T235544\", \"trainingInput\": {\"pythonModule\": \"main.py\", \"region\": \"us-west2\", \"masterConfig\": {\"imageUri\": \"gcr.io/royaleapp/process_battles_job\"}}, \"createTime\": \"2020-04-28T23:55:45Z\", \"state\": \"QUEUED\", \"trainingOutput\": {}, \"etag\": \"/aGDJgfPAFo=\"}}',\n",
       " 200)"
      ]
     },
     "execution_count": 3,
     "metadata": {},
     "output_type": "execute_result"
    }
   ],
   "source": [
    "out = trigger('test')\n",
    "out"
   ]
  },
  {
   "cell_type": "code",
   "execution_count": null,
   "metadata": {},
   "outputs": [],
   "source": []
  }
 ],
 "metadata": {
  "kernelspec": {
   "display_name": "Python 3",
   "language": "python",
   "name": "python3"
  },
  "language_info": {
   "codemirror_mode": {
    "name": "ipython",
    "version": 3
   },
   "file_extension": ".py",
   "mimetype": "text/x-python",
   "name": "python",
   "nbconvert_exporter": "python",
   "pygments_lexer": "ipython3",
   "version": "3.6.7"
  }
 },
 "nbformat": 4,
 "nbformat_minor": 4
}
