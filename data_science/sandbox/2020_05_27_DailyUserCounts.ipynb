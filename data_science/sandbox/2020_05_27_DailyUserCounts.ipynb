{
 "cells": [
  {
   "cell_type": "code",
   "execution_count": 21,
   "metadata": {},
   "outputs": [],
   "source": [
    "from google.cloud import storage\n",
    "import datetime\n",
    "import pandas as pd\n",
    "from io import BytesIO\n",
    "import os"
   ]
  },
  {
   "cell_type": "code",
   "execution_count": 31,
   "metadata": {},
   "outputs": [
    {
     "data": {
      "text/html": [
       "<div>\n",
       "<style scoped>\n",
       "    .dataframe tbody tr th:only-of-type {\n",
       "        vertical-align: middle;\n",
       "    }\n",
       "\n",
       "    .dataframe tbody tr th {\n",
       "        vertical-align: top;\n",
       "    }\n",
       "\n",
       "    .dataframe thead th {\n",
       "        text-align: right;\n",
       "    }\n",
       "</style>\n",
       "<table border=\"1\" class=\"dataframe\">\n",
       "  <thead>\n",
       "    <tr style=\"text-align: right;\">\n",
       "      <th></th>\n",
       "      <th>date</th>\n",
       "      <th>count</th>\n",
       "    </tr>\n",
       "  </thead>\n",
       "  <tbody>\n",
       "    <tr>\n",
       "      <th>0</th>\n",
       "      <td>05/26/2020</td>\n",
       "      <td>6</td>\n",
       "    </tr>\n",
       "  </tbody>\n",
       "</table>\n",
       "</div>"
      ],
      "text/plain": [
       "         date  count\n",
       "0  05/26/2020      6"
      ]
     },
     "execution_count": 31,
     "metadata": {},
     "output_type": "execute_result"
    }
   ],
   "source": [
    "client = storage.Client()\n",
    "bucket = client.get_bucket('royale-data')\n",
    "blobs = bucket.list_blobs(prefix='user_data/')\n",
    "blob_names = [b.name for b in blobs]\n",
    "num_users = len(blob_names) - 1\n",
    "date = (datetime.datetime.utcnow() - datetime.timedelta(days=1)).strftime('%m/%d/%Y')\n",
    "\n",
    "df = pd.read_csv(BytesIO(bucket.get_blob('data/daily_user_count.csv').download_as_string()))\n",
    "df.append(pd.DataFrame({'date':[date], 'count':[num_users]}))\n",
    "df = df.groupby('date', as_index=False).first()\n",
    "\n",
    "df"
   ]
  },
  {
   "cell_type": "code",
   "execution_count": null,
   "metadata": {},
   "outputs": [],
   "source": [
    "# save to storage\n",
    "fname = 'daily_user_count.csv'\n",
    "local_fname = '/tmp/'+fname\n",
    "df.to_csv(local_fname, index=False)\n",
    "BUCKET.blob('data/{}'.format(fname)).upload_from_file(open(local_fname, 'rb'))\n",
    "os.remove(local_fname)"
   ]
  }
 ],
 "metadata": {
  "kernelspec": {
   "display_name": "Python 3",
   "language": "python",
   "name": "python3"
  },
  "language_info": {
   "codemirror_mode": {
    "name": "ipython",
    "version": 3
   },
   "file_extension": ".py",
   "mimetype": "text/x-python",
   "name": "python",
   "nbconvert_exporter": "python",
   "pygments_lexer": "ipython3",
   "version": "3.7.6"
  }
 },
 "nbformat": 4,
 "nbformat_minor": 4
}
