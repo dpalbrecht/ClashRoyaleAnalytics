{
 "cells": [
  {
   "cell_type": "code",
   "execution_count": 32,
   "metadata": {},
   "outputs": [],
   "source": [
    "import pandas as pd\n",
    "from bs4 import BeautifulSoup\n",
    "import requests\n",
    "import numpy as np\n",
    "from tqdm import tqdm\n",
    "import time\n",
    "import matplotlib.pyplot as plt\n",
    "\n",
    "headers = {\n",
    "    'Access-Control-Allow-Origin': '*',\n",
    "    'Access-Control-Allow-Methods': 'GET',\n",
    "    'Access-Control-Allow-Headers': 'Content-Type',\n",
    "    'Access-Control-Max-Age': '3600',\n",
    "    'User-Agent': 'Mozilla/5.0 (X11; Ubuntu; Linux x86_64; rv:52.0) Gecko/20100101 Firefox/52.0'\n",
    "    }"
   ]
  },
  {
   "cell_type": "code",
   "execution_count": 28,
   "metadata": {},
   "outputs": [
    {
     "data": {
      "text/plain": [
       "(15381,)"
      ]
     },
     "execution_count": 28,
     "metadata": {},
     "output_type": "execute_result"
    }
   ],
   "source": [
    "df = pd.read_csv('../../../gc-data-2020.04-100000.csv')\n",
    "decks = np.array([d for d in df.values[:,1:] if 'Heal' not in d])\n",
    "unique_decks = np.unique([str(sorted(d)) for d in decks])\n",
    "unique_decks.shape"
   ]
  },
  {
   "cell_type": "code",
   "execution_count": null,
   "metadata": {
    "scrolled": true
   },
   "outputs": [],
   "source": [
    "unique_decks_win_dict = {}\n",
    "for deck in tqdm(unique_decks[:1000]):\n",
    "    url = 'https://royaleapi.com/decks/stats/{}'.format(','.join(eval(deck)))\n",
    "    req = requests.get(url, headers)\n",
    "    soup = BeautifulSoup(req.content, 'html.parser')\n",
    "    win_rate_row = soup.find(\"table\", {\"class\":\"ui very basic compact stats unstackable table\"}).find_all('td')[3]\n",
    "    win_rate = eval(win_rate_row.text[:-1])\n",
    "    unique_decks_win_dict[deck] = win_rate\n",
    "    time.sleep(.1)"
   ]
  },
  {
   "cell_type": "code",
   "execution_count": 44,
   "metadata": {},
   "outputs": [
    {
     "data": {
      "image/png": "[encoded data removed]",
      "text/plain": [
       "<Figure size 432x288 with 1 Axes>"
      ]
     },
     "metadata": {
      "needs_background": "light"
     },
     "output_type": "display_data"
    }
   ],
   "source": [
    "plt.hist(unique_decks_win_dict.values())\n",
    "plt.show();"
   ]
  },
  {
   "cell_type": "code",
   "execution_count": 47,
   "metadata": {},
   "outputs": [
    {
     "data": {
      "text/plain": [
       "[(0.0, 435),\n",
       " (100.0, 12),\n",
       " (50.0, 10),\n",
       " (57.1, 4),\n",
       " (60.0, 2),\n",
       " (80.0, 1),\n",
       " (49.6, 1),\n",
       " (66.7, 1),\n",
       " (54.8, 1),\n",
       " (54.5, 1),\n",
       " (48.4, 1),\n",
       " (53.7, 1),\n",
       " (48.8, 1),\n",
       " (56.6, 1),\n",
       " (43.8, 1),\n",
       " (58.5, 1),\n",
       " (92.9, 1),\n",
       " (61.3, 1),\n",
       " (53.8, 1),\n",
       " (62.6, 1),\n",
       " (51.7, 1),\n",
       " (86.1, 1),\n",
       " (57.9, 1),\n",
       " (54.2, 1),\n",
       " (68.1, 1),\n",
       " (77.3, 1),\n",
       " (58.6, 1),\n",
       " (71.2, 1),\n",
       " (36.4, 1),\n",
       " (61.5, 1),\n",
       " (53.6, 1),\n",
       " (37.5, 1),\n",
       " (56.7, 1),\n",
       " (78.6, 1),\n",
       " (49.9, 1),\n",
       " (47.8, 1),\n",
       " (39.3, 1),\n",
       " (25.9, 1),\n",
       " (56.2, 1),\n",
       " (40.0, 1),\n",
       " (48.1, 1),\n",
       " (52.4, 1),\n",
       " (57.3, 1),\n",
       " (51.4, 1),\n",
       " (20.0, 1),\n",
       " (46.3, 1),\n",
       " (59.7, 1),\n",
       " (56.1, 1),\n",
       " (28.6, 1),\n",
       " (40.5, 1),\n",
       " (44.4, 1)]"
      ]
     },
     "execution_count": 47,
     "metadata": {},
     "output_type": "execute_result"
    }
   ],
   "source": [
    "from collections import Counter\n",
    "Counter(list(unique_decks_win_dict.values())).most_common()"
   ]
  },
  {
   "cell_type": "code",
   "execution_count": null,
   "metadata": {},
   "outputs": [],
   "source": []
  }
 ],
 "metadata": {
  "kernelspec": {
   "display_name": "Python 3",
   "language": "python",
   "name": "python3"
  },
  "language_info": {
   "codemirror_mode": {
    "name": "ipython",
    "version": 3
   },
   "file_extension": ".py",
   "mimetype": "text/x-python",
   "name": "python",
   "nbconvert_exporter": "python",
   "pygments_lexer": "ipython3",
   "version": "3.6.7"
  }
 },
 "nbformat": 4,
 "nbformat_minor": 2
}
