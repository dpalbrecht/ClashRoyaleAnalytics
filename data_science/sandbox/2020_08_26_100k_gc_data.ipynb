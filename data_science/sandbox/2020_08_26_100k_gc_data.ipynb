{
 "cells": [
  {
   "cell_type": "code",
   "execution_count": 122,
   "metadata": {},
   "outputs": [],
   "source": [
    "import pandas as pd\n",
    "from collections import Counter\n",
    "import numpy as np\n",
    "from tqdm import tqdm\n",
    "from sklearn.preprocessing import normalize\n",
    "import requests\n",
    "from IPython.display import HTML"
   ]
  },
  {
   "cell_type": "code",
   "execution_count": 123,
   "metadata": {},
   "outputs": [],
   "source": [
    "card_images_dict = eval(requests.get('https://us-central1-royaleapp.cloudfunctions.net/getcardimages').text)"
   ]
  },
  {
   "cell_type": "markdown",
   "metadata": {},
   "source": [
    "# Read in GC Data"
   ]
  },
  {
   "cell_type": "code",
   "execution_count": 57,
   "metadata": {},
   "outputs": [
    {
     "name": "stdout",
     "output_type": "stream",
     "text": [
      "(100001, 9)\n"
     ]
    },
    {
     "data": {
      "text/html": [
       "<div>\n",
       "<style scoped>\n",
       "    .dataframe tbody tr th:only-of-type {\n",
       "        vertical-align: middle;\n",
       "    }\n",
       "\n",
       "    .dataframe tbody tr th {\n",
       "        vertical-align: top;\n",
       "    }\n",
       "\n",
       "    .dataframe thead th {\n",
       "        text-align: right;\n",
       "    }\n",
       "</style>\n",
       "<table border=\"1\" class=\"dataframe\">\n",
       "  <thead>\n",
       "    <tr style=\"text-align: right;\">\n",
       "      <th></th>\n",
       "      <th>doc_id</th>\n",
       "      <th>card1</th>\n",
       "      <th>card2</th>\n",
       "      <th>card3</th>\n",
       "      <th>card4</th>\n",
       "      <th>card5</th>\n",
       "      <th>card6</th>\n",
       "      <th>card7</th>\n",
       "      <th>card8</th>\n",
       "    </tr>\n",
       "  </thead>\n",
       "  <tbody>\n",
       "    <tr>\n",
       "      <th>0</th>\n",
       "      <td>2VVQ2RGC8-1585715128000-CYJGP8CL-R</td>\n",
       "      <td>Baby Dragon</td>\n",
       "      <td>Barbarian Barrel</td>\n",
       "      <td>Freeze</td>\n",
       "      <td>Goblins</td>\n",
       "      <td>Graveyard</td>\n",
       "      <td>Ice Wizard</td>\n",
       "      <td>Mega Knight</td>\n",
       "      <td>Tornado</td>\n",
       "    </tr>\n",
       "    <tr>\n",
       "      <th>1</th>\n",
       "      <td>RL2QYVY8-1586229529000-92CL822V</td>\n",
       "      <td>Balloon</td>\n",
       "      <td>Barbarian Barrel</td>\n",
       "      <td>Bats</td>\n",
       "      <td>Giant Snowball</td>\n",
       "      <td>Goblins</td>\n",
       "      <td>Ice Spirit</td>\n",
       "      <td>Lumberjack</td>\n",
       "      <td>Princess</td>\n",
       "    </tr>\n",
       "    <tr>\n",
       "      <th>2</th>\n",
       "      <td>8RUUL28QR-1585861468000-L2CUU2Y29-R</td>\n",
       "      <td>Baby Dragon</td>\n",
       "      <td>Barbarian Barrel</td>\n",
       "      <td>Firecracker</td>\n",
       "      <td>Golem</td>\n",
       "      <td>Lightning</td>\n",
       "      <td>Lumberjack</td>\n",
       "      <td>Night Witch</td>\n",
       "      <td>Tornado</td>\n",
       "    </tr>\n",
       "    <tr>\n",
       "      <th>3</th>\n",
       "      <td>GYRYCPV8-1586233796000-998GRLRY-R</td>\n",
       "      <td>Baby Dragon</td>\n",
       "      <td>Barbarian Barrel</td>\n",
       "      <td>Bomb Tower</td>\n",
       "      <td>Graveyard</td>\n",
       "      <td>Knight</td>\n",
       "      <td>Musketeer</td>\n",
       "      <td>Poison</td>\n",
       "      <td>Skeletons</td>\n",
       "    </tr>\n",
       "    <tr>\n",
       "      <th>4</th>\n",
       "      <td>8P8CV9LQC-1586291071000-9LR0C8VU-R</td>\n",
       "      <td>Balloon</td>\n",
       "      <td>Giant Snowball</td>\n",
       "      <td>Ice Golem</td>\n",
       "      <td>Inferno Tower</td>\n",
       "      <td>Miner</td>\n",
       "      <td>Musketeer</td>\n",
       "      <td>Skeletons</td>\n",
       "      <td>Valkyrie</td>\n",
       "    </tr>\n",
       "  </tbody>\n",
       "</table>\n",
       "</div>"
      ],
      "text/plain": [
       "                                doc_id        card1             card2  \\\n",
       "0   2VVQ2RGC8-1585715128000-CYJGP8CL-R  Baby Dragon  Barbarian Barrel   \n",
       "1      RL2QYVY8-1586229529000-92CL822V      Balloon  Barbarian Barrel   \n",
       "2  8RUUL28QR-1585861468000-L2CUU2Y29-R  Baby Dragon  Barbarian Barrel   \n",
       "3    GYRYCPV8-1586233796000-998GRLRY-R  Baby Dragon  Barbarian Barrel   \n",
       "4   8P8CV9LQC-1586291071000-9LR0C8VU-R      Balloon    Giant Snowball   \n",
       "\n",
       "         card3           card4      card5       card6        card7      card8  \n",
       "0       Freeze         Goblins  Graveyard  Ice Wizard  Mega Knight    Tornado  \n",
       "1         Bats  Giant Snowball    Goblins  Ice Spirit   Lumberjack   Princess  \n",
       "2  Firecracker           Golem  Lightning  Lumberjack  Night Witch    Tornado  \n",
       "3   Bomb Tower       Graveyard     Knight   Musketeer       Poison  Skeletons  \n",
       "4    Ice Golem   Inferno Tower      Miner   Musketeer    Skeletons   Valkyrie  "
      ]
     },
     "execution_count": 57,
     "metadata": {},
     "output_type": "execute_result"
    }
   ],
   "source": [
    "df = pd.read_csv('../../../gc-data-2020.04-100000.csv')\n",
    "\n",
    "for i in range(1,9):\n",
    "    df['card'+str(i)] = df['card'+str(i)].apply(lambda x: x.replace('-', ' ').title().replace('Pekka', 'P.E.K.K.A').replace('X Bow', 'X-Bow'))\n",
    "    \n",
    "print(df.shape)\n",
    "df.head()"
   ]
  },
  {
   "cell_type": "code",
   "execution_count": 35,
   "metadata": {},
   "outputs": [
    {
     "data": {
      "text/plain": [
       "903"
      ]
     },
     "execution_count": 35,
     "metadata": {},
     "output_type": "execute_result"
    }
   ],
   "source": [
    "# Out of 100,000 decks, only 903 are used at least 10 times\n",
    "# How are these decks selected?\n",
    "decks_str = df[['card'+str(i) for i in range(1,9)]].apply(lambda x: str(sorted(x)), axis=1).values.tolist()\n",
    "\n",
    "len([(d,c) for d,c in Counter(decks_str).most_common() if c>=10])"
   ]
  },
  {
   "cell_type": "code",
   "execution_count": 90,
   "metadata": {},
   "outputs": [
    {
     "data": {
      "text/plain": [
       "15380"
      ]
     },
     "execution_count": 90,
     "metadata": {},
     "output_type": "execute_result"
    }
   ],
   "source": [
    "# Only take unique decks - 15,380 of them\n",
    "decks = df[['card'+str(i) for i in range(1,9)]].values.tolist()\n",
    "decks = set([str(sorted(d)) for d in decks if 'Heal' not in d])\n",
    "decks = [eval(d) for d in decks]\n",
    "len(decks)"
   ]
  },
  {
   "cell_type": "markdown",
   "metadata": {},
   "source": [
    "# Read in Excel Stats"
   ]
  },
  {
   "cell_type": "code",
   "execution_count": 100,
   "metadata": {},
   "outputs": [],
   "source": [
    "card_stats = pd.read_excel('../../../card_stats.xlsx')\n",
    "stats_dict = dict(zip(card_stats['name'], card_stats.values[:,1:]))\n",
    "card2ind = dict(zip(card_stats['name'], card_stats.index))"
   ]
  },
  {
   "cell_type": "markdown",
   "metadata": {},
   "source": [
    "# Create Deck Matrices"
   ]
  },
  {
   "cell_type": "code",
   "execution_count": 181,
   "metadata": {},
   "outputs": [],
   "source": [
    "percentile_max = 105\n",
    "percentile_step = 5"
   ]
  },
  {
   "cell_type": "code",
   "execution_count": 182,
   "metadata": {},
   "outputs": [
    {
     "name": "stderr",
     "output_type": "stream",
     "text": [
      "100%|██████████████████████████████████████████████████████████████████████████| 15380/15380 [00:15<00:00, 1001.30it/s]\n"
     ]
    }
   ],
   "source": [
    "deck_matrix = np.array([normalize(np.percentile(np.array([stats_dict[c] for c in deck]), list(np.arange(0,percentile_max,percentile_step)), axis=0).flatten().reshape(-1, 1), norm='l2', axis=0).reshape(1,-1)[0] for deck in tqdm(decks)])"
   ]
  },
  {
   "cell_type": "code",
   "execution_count": 102,
   "metadata": {},
   "outputs": [
    {
     "name": "stderr",
     "output_type": "stream",
     "text": [
      "100%|██████████████████████████████████████████████████████████████████████████| 15380/15380 [00:03<00:00, 4514.01it/s]\n"
     ]
    }
   ],
   "source": [
    "one_hot_deck_matrix = []\n",
    "for deck in tqdm(decks):\n",
    "    blank_vec = np.zeros(len(card_stats['name']))\n",
    "    for card in deck:\n",
    "        blank_vec[card2ind[card]] = 1\n",
    "    blank_vec = normalize(blank_vec.reshape(-1, 1), norm='l2', axis=0).reshape(1,-1)[0]\n",
    "    one_hot_deck_matrix.append(blank_vec)\n",
    "    \n",
    "one_hot_deck_matrix = np.array(one_hot_deck_matrix)"
   ]
  },
  {
   "cell_type": "markdown",
   "metadata": {},
   "source": [
    "# Get Recommendations"
   ]
  },
  {
   "cell_type": "code",
   "execution_count": 178,
   "metadata": {},
   "outputs": [],
   "source": [
    "def display_decks(decks, input_deck):\n",
    "    deck_image_str = '<table>'\n",
    "    for deck in decks:\n",
    "        deck_image_str += '<tr>'\n",
    "        card_count = 0\n",
    "        for card in deck:\n",
    "            if card in input_deck:\n",
    "                card_count += 1\n",
    "            deck_image_str += '<td><img src={} style=\"height:75px\"></td>'.format(card_images_dict[card])\n",
    "        deck_image_str += '<td>{}/8 same cards</td>'.format(card_count)\n",
    "        deck_image_str += '</tr>'\n",
    "    deck_image_str += '</table>'\n",
    "    display(HTML(deck_image_str))"
   ]
  },
  {
   "cell_type": "code",
   "execution_count": 202,
   "metadata": {},
   "outputs": [],
   "source": [
    "# input_deck = ['Arrows', 'Balloon', 'Guards', 'Lava Hound', 'Mega Minion', 'Miner', 'Minions', 'Zap']\n",
    "# input_deck = ['Archers', 'Fireball', 'Ice Golem', 'Ice Spirit', 'The Log', 'Skeletons', 'Tesla', 'X-Bow']\n",
    "# input_deck = ['Giant Snowball', 'Bandit', 'Ram Rider', 'Electro Wizard', 'Barbarian Barrel', 'Poison', 'Baby Dragon', 'P.E.K.K.A']\n",
    "input_deck = ['Bats', 'Arrows', 'Miner', 'Wall Breakers', 'Musketeer', 'Electro Wizard', 'Mega Knight', 'Bandit']\n",
    "# input_deck = []\n",
    "random_ind = np.random.choice(range(len(decks))) #11142\n",
    "\n",
    "n_recs = 6\n",
    "input_deck = sorted(input_deck)"
   ]
  },
  {
   "cell_type": "code",
   "execution_count": 203,
   "metadata": {
    "scrolled": false
   },
   "outputs": [
    {
     "name": "stdout",
     "output_type": "stream",
     "text": [
      "Input Deck:\n"
     ]
    },
    {
     "data": {
      "text/html": [
       "<table><tr><td><img src=https://api-assets.clashroyale.com/cards/300/Flsoci-Y6y8ZFVi5uRFTmgkPnCmMyMVrU7YmmuPvSBo.png style=\"height:75px\"></td><td><img src=https://api-assets.clashroyale.com/cards/300/QWDdXMKJNpv0go-HYaWQWP6p8uIOHjqn-zX7G0p3DyM.png style=\"height:75px\"></td><td><img src=https://api-assets.clashroyale.com/cards/300/EnIcvO21hxiNpoI-zO6MDjLmzwPbq8Z4JPo2OKoVUjU.png style=\"height:75px\"></td><td><img src=https://api-assets.clashroyale.com/cards/300/RsFaHgB3w6vXsTjXdPr3x8l_GbV9TbOUCvIx07prbrQ.png style=\"height:75px\"></td><td><img src=https://api-assets.clashroyale.com/cards/300/O2NycChSNhn_UK9nqBXUhhC_lILkiANzPuJjtjoz0CE.png style=\"height:75px\"></td><td><img src=https://api-assets.clashroyale.com/cards/300/Y4yWvdwBCg2FpAZgs8T09Gy34WOwpLZW-ttL52Ae8NE.png style=\"height:75px\"></td><td><img src=https://api-assets.clashroyale.com/cards/300/Tex1C48UTq9FKtAX-3tzG0FJmc9jzncUZG3bb5Vf-Ds.png style=\"height:75px\"></td><td><img src=https://api-assets.clashroyale.com/cards/300/_xPphEfC8eEwFNrfU3cMQG9-f5JaLQ31ARCA7l3XtW4.png style=\"height:75px\"></td><td>8/8 same cards</td></tr></table>"
      ],
      "text/plain": [
       "<IPython.core.display.HTML object>"
      ]
     },
     "metadata": {},
     "output_type": "display_data"
    },
    {
     "name": "stdout",
     "output_type": "stream",
     "text": [
      "\n",
      "Stats Recommendations:\n"
     ]
    },
    {
     "data": {
      "text/html": [
       "<table><tr><td><img src=https://api-assets.clashroyale.com/cards/300/Flsoci-Y6y8ZFVi5uRFTmgkPnCmMyMVrU7YmmuPvSBo.png style=\"height:75px\"></td><td><img src=https://api-assets.clashroyale.com/cards/300/QWDdXMKJNpv0go-HYaWQWP6p8uIOHjqn-zX7G0p3DyM.png style=\"height:75px\"></td><td><img src=https://api-assets.clashroyale.com/cards/300/Gb0G1yNy0i5cIGUHin8uoFWxqntNtRPhY_jeMXg7HnA.png style=\"height:75px\"></td><td><img src=https://api-assets.clashroyale.com/cards/300/EnIcvO21hxiNpoI-zO6MDjLmzwPbq8Z4JPo2OKoVUjU.png style=\"height:75px\"></td><td><img src=https://api-assets.clashroyale.com/cards/300/O2NycChSNhn_UK9nqBXUhhC_lILkiANzPuJjtjoz0CE.png style=\"height:75px\"></td><td><img src=https://api-assets.clashroyale.com/cards/300/Y4yWvdwBCg2FpAZgs8T09Gy34WOwpLZW-ttL52Ae8NE.png style=\"height:75px\"></td><td><img src=https://api-assets.clashroyale.com/cards/300/Tex1C48UTq9FKtAX-3tzG0FJmc9jzncUZG3bb5Vf-Ds.png style=\"height:75px\"></td><td><img src=https://api-assets.clashroyale.com/cards/300/_xPphEfC8eEwFNrfU3cMQG9-f5JaLQ31ARCA7l3XtW4.png style=\"height:75px\"></td><td>7/8 same cards</td></tr><tr><td><img src=https://api-assets.clashroyale.com/cards/300/QWDdXMKJNpv0go-HYaWQWP6p8uIOHjqn-zX7G0p3DyM.png style=\"height:75px\"></td><td><img src=https://api-assets.clashroyale.com/cards/300/EnIcvO21hxiNpoI-zO6MDjLmzwPbq8Z4JPo2OKoVUjU.png style=\"height:75px\"></td><td><img src=https://api-assets.clashroyale.com/cards/300/RsFaHgB3w6vXsTjXdPr3x8l_GbV9TbOUCvIx07prbrQ.png style=\"height:75px\"></td><td><img src=https://api-assets.clashroyale.com/cards/300/O2NycChSNhn_UK9nqBXUhhC_lILkiANzPuJjtjoz0CE.png style=\"height:75px\"></td><td><img src=https://api-assets.clashroyale.com/cards/300/Y4yWvdwBCg2FpAZgs8T09Gy34WOwpLZW-ttL52Ae8NE.png style=\"height:75px\"></td><td><img src=https://api-assets.clashroyale.com/cards/300/Tex1C48UTq9FKtAX-3tzG0FJmc9jzncUZG3bb5Vf-Ds.png style=\"height:75px\"></td><td><img src=https://api-assets.clashroyale.com/cards/300/_xPphEfC8eEwFNrfU3cMQG9-f5JaLQ31ARCA7l3XtW4.png style=\"height:75px\"></td><td><img src=https://api-assets.clashroyale.com/cards/300/7dxh2-yCBy1x44GrBaL29vjqnEEeJXHEAlsi5g6D1eY.png style=\"height:75px\"></td><td>7/8 same cards</td></tr><tr><td><img src=https://api-assets.clashroyale.com/cards/300/Flsoci-Y6y8ZFVi5uRFTmgkPnCmMyMVrU7YmmuPvSBo.png style=\"height:75px\"></td><td><img src=https://api-assets.clashroyale.com/cards/300/RsFaHgB3w6vXsTjXdPr3x8l_GbV9TbOUCvIx07prbrQ.png style=\"height:75px\"></td><td><img src=https://api-assets.clashroyale.com/cards/300/Avli3W7BxU9HQ2SoLiXnBgGx25FoNXUSFm7OcAk68ek.png style=\"height:75px\"></td><td><img src=https://api-assets.clashroyale.com/cards/300/O2NycChSNhn_UK9nqBXUhhC_lILkiANzPuJjtjoz0CE.png style=\"height:75px\"></td><td><img src=https://api-assets.clashroyale.com/cards/300/Y4yWvdwBCg2FpAZgs8T09Gy34WOwpLZW-ttL52Ae8NE.png style=\"height:75px\"></td><td><img src=https://api-assets.clashroyale.com/cards/300/NpCrXDEDBBJgNv9QrBAcJmmMFbS7pe3KCY8xJ5VB18A.png style=\"height:75px\"></td><td><img src=https://api-assets.clashroyale.com/cards/300/fAOToOi1pRy7svN2xQS6mDkhQw2pj9m_17FauaNqyl4.png style=\"height:75px\"></td><td><img src=https://api-assets.clashroyale.com/cards/300/_xPphEfC8eEwFNrfU3cMQG9-f5JaLQ31ARCA7l3XtW4.png style=\"height:75px\"></td><td>5/8 same cards</td></tr><tr><td><img src=https://api-assets.clashroyale.com/cards/300/QWDdXMKJNpv0go-HYaWQWP6p8uIOHjqn-zX7G0p3DyM.png style=\"height:75px\"></td><td><img src=https://api-assets.clashroyale.com/cards/300/RsFaHgB3w6vXsTjXdPr3x8l_GbV9TbOUCvIx07prbrQ.png style=\"height:75px\"></td><td><img src=https://api-assets.clashroyale.com/cards/300/X_DQUye_OaS3QN6VC9CPw05Fit7wvSm3XegXIXKP--0.png style=\"height:75px\"></td><td><img src=https://api-assets.clashroyale.com/cards/300/O2NycChSNhn_UK9nqBXUhhC_lILkiANzPuJjtjoz0CE.png style=\"height:75px\"></td><td><img src=https://api-assets.clashroyale.com/cards/300/Y4yWvdwBCg2FpAZgs8T09Gy34WOwpLZW-ttL52Ae8NE.png style=\"height:75px\"></td><td><img src=https://api-assets.clashroyale.com/cards/300/Tex1C48UTq9FKtAX-3tzG0FJmc9jzncUZG3bb5Vf-Ds.png style=\"height:75px\"></td><td><img src=https://api-assets.clashroyale.com/cards/300/_xPphEfC8eEwFNrfU3cMQG9-f5JaLQ31ARCA7l3XtW4.png style=\"height:75px\"></td><td><img src=https://api-assets.clashroyale.com/cards/300/7dxh2-yCBy1x44GrBaL29vjqnEEeJXHEAlsi5g6D1eY.png style=\"height:75px\"></td><td>6/8 same cards</td></tr><tr><td><img src=https://api-assets.clashroyale.com/cards/300/QWDdXMKJNpv0go-HYaWQWP6p8uIOHjqn-zX7G0p3DyM.png style=\"height:75px\"></td><td><img src=https://api-assets.clashroyale.com/cards/300/Gb0G1yNy0i5cIGUHin8uoFWxqntNtRPhY_jeMXg7HnA.png style=\"height:75px\"></td><td><img src=https://api-assets.clashroyale.com/cards/300/EnIcvO21hxiNpoI-zO6MDjLmzwPbq8Z4JPo2OKoVUjU.png style=\"height:75px\"></td><td><img src=https://api-assets.clashroyale.com/cards/300/O2NycChSNhn_UK9nqBXUhhC_lILkiANzPuJjtjoz0CE.png style=\"height:75px\"></td><td><img src=https://api-assets.clashroyale.com/cards/300/Y4yWvdwBCg2FpAZgs8T09Gy34WOwpLZW-ttL52Ae8NE.png style=\"height:75px\"></td><td><img src=https://api-assets.clashroyale.com/cards/300/Tex1C48UTq9FKtAX-3tzG0FJmc9jzncUZG3bb5Vf-Ds.png style=\"height:75px\"></td><td><img src=https://api-assets.clashroyale.com/cards/300/_xPphEfC8eEwFNrfU3cMQG9-f5JaLQ31ARCA7l3XtW4.png style=\"height:75px\"></td><td><img src=https://api-assets.clashroyale.com/cards/300/7dxh2-yCBy1x44GrBaL29vjqnEEeJXHEAlsi5g6D1eY.png style=\"height:75px\"></td><td>6/8 same cards</td></tr><tr><td><img src=https://api-assets.clashroyale.com/cards/300/QWDdXMKJNpv0go-HYaWQWP6p8uIOHjqn-zX7G0p3DyM.png style=\"height:75px\"></td><td><img src=https://api-assets.clashroyale.com/cards/300/Gb0G1yNy0i5cIGUHin8uoFWxqntNtRPhY_jeMXg7HnA.png style=\"height:75px\"></td><td><img src=https://api-assets.clashroyale.com/cards/300/O2NycChSNhn_UK9nqBXUhhC_lILkiANzPuJjtjoz0CE.png style=\"height:75px\"></td><td><img src=https://api-assets.clashroyale.com/cards/300/Y4yWvdwBCg2FpAZgs8T09Gy34WOwpLZW-ttL52Ae8NE.png style=\"height:75px\"></td><td><img src=https://api-assets.clashroyale.com/cards/300/yHGpoEnmUWPGV_hBbhn-Kk-Bs838OjGzWzJJlQpQKQA.png style=\"height:75px\"></td><td><img src=https://api-assets.clashroyale.com/cards/300/Tex1C48UTq9FKtAX-3tzG0FJmc9jzncUZG3bb5Vf-Ds.png style=\"height:75px\"></td><td><img src=https://api-assets.clashroyale.com/cards/300/_xPphEfC8eEwFNrfU3cMQG9-f5JaLQ31ARCA7l3XtW4.png style=\"height:75px\"></td><td><img src=https://api-assets.clashroyale.com/cards/300/7dxh2-yCBy1x44GrBaL29vjqnEEeJXHEAlsi5g6D1eY.png style=\"height:75px\"></td><td>5/8 same cards</td></tr></table>"
      ],
      "text/plain": [
       "<IPython.core.display.HTML object>"
      ]
     },
     "metadata": {},
     "output_type": "display_data"
    },
    {
     "name": "stdout",
     "output_type": "stream",
     "text": [
      "\n",
      "One-Hot Recommendations:\n"
     ]
    },
    {
     "data": {
      "text/html": [
       "<table><tr><td><img src=https://api-assets.clashroyale.com/cards/300/QWDdXMKJNpv0go-HYaWQWP6p8uIOHjqn-zX7G0p3DyM.png style=\"height:75px\"></td><td><img src=https://api-assets.clashroyale.com/cards/300/EnIcvO21hxiNpoI-zO6MDjLmzwPbq8Z4JPo2OKoVUjU.png style=\"height:75px\"></td><td><img src=https://api-assets.clashroyale.com/cards/300/RsFaHgB3w6vXsTjXdPr3x8l_GbV9TbOUCvIx07prbrQ.png style=\"height:75px\"></td><td><img src=https://api-assets.clashroyale.com/cards/300/O2NycChSNhn_UK9nqBXUhhC_lILkiANzPuJjtjoz0CE.png style=\"height:75px\"></td><td><img src=https://api-assets.clashroyale.com/cards/300/Y4yWvdwBCg2FpAZgs8T09Gy34WOwpLZW-ttL52Ae8NE.png style=\"height:75px\"></td><td><img src=https://api-assets.clashroyale.com/cards/300/Tex1C48UTq9FKtAX-3tzG0FJmc9jzncUZG3bb5Vf-Ds.png style=\"height:75px\"></td><td><img src=https://api-assets.clashroyale.com/cards/300/_xPphEfC8eEwFNrfU3cMQG9-f5JaLQ31ARCA7l3XtW4.png style=\"height:75px\"></td><td><img src=https://api-assets.clashroyale.com/cards/300/7dxh2-yCBy1x44GrBaL29vjqnEEeJXHEAlsi5g6D1eY.png style=\"height:75px\"></td><td>7/8 same cards</td></tr><tr><td><img src=https://api-assets.clashroyale.com/cards/300/Flsoci-Y6y8ZFVi5uRFTmgkPnCmMyMVrU7YmmuPvSBo.png style=\"height:75px\"></td><td><img src=https://api-assets.clashroyale.com/cards/300/QWDdXMKJNpv0go-HYaWQWP6p8uIOHjqn-zX7G0p3DyM.png style=\"height:75px\"></td><td><img src=https://api-assets.clashroyale.com/cards/300/EnIcvO21hxiNpoI-zO6MDjLmzwPbq8Z4JPo2OKoVUjU.png style=\"height:75px\"></td><td><img src=https://api-assets.clashroyale.com/cards/300/O2NycChSNhn_UK9nqBXUhhC_lILkiANzPuJjtjoz0CE.png style=\"height:75px\"></td><td><img src=https://api-assets.clashroyale.com/cards/300/Y4yWvdwBCg2FpAZgs8T09Gy34WOwpLZW-ttL52Ae8NE.png style=\"height:75px\"></td><td><img src=https://api-assets.clashroyale.com/cards/300/Tex1C48UTq9FKtAX-3tzG0FJmc9jzncUZG3bb5Vf-Ds.png style=\"height:75px\"></td><td><img src=https://api-assets.clashroyale.com/cards/300/_xPphEfC8eEwFNrfU3cMQG9-f5JaLQ31ARCA7l3XtW4.png style=\"height:75px\"></td><td><img src=https://api-assets.clashroyale.com/cards/300/7dxh2-yCBy1x44GrBaL29vjqnEEeJXHEAlsi5g6D1eY.png style=\"height:75px\"></td><td>7/8 same cards</td></tr><tr><td><img src=https://api-assets.clashroyale.com/cards/300/Flsoci-Y6y8ZFVi5uRFTmgkPnCmMyMVrU7YmmuPvSBo.png style=\"height:75px\"></td><td><img src=https://api-assets.clashroyale.com/cards/300/QWDdXMKJNpv0go-HYaWQWP6p8uIOHjqn-zX7G0p3DyM.png style=\"height:75px\"></td><td><img src=https://api-assets.clashroyale.com/cards/300/Gb0G1yNy0i5cIGUHin8uoFWxqntNtRPhY_jeMXg7HnA.png style=\"height:75px\"></td><td><img src=https://api-assets.clashroyale.com/cards/300/EnIcvO21hxiNpoI-zO6MDjLmzwPbq8Z4JPo2OKoVUjU.png style=\"height:75px\"></td><td><img src=https://api-assets.clashroyale.com/cards/300/O2NycChSNhn_UK9nqBXUhhC_lILkiANzPuJjtjoz0CE.png style=\"height:75px\"></td><td><img src=https://api-assets.clashroyale.com/cards/300/Y4yWvdwBCg2FpAZgs8T09Gy34WOwpLZW-ttL52Ae8NE.png style=\"height:75px\"></td><td><img src=https://api-assets.clashroyale.com/cards/300/Tex1C48UTq9FKtAX-3tzG0FJmc9jzncUZG3bb5Vf-Ds.png style=\"height:75px\"></td><td><img src=https://api-assets.clashroyale.com/cards/300/_xPphEfC8eEwFNrfU3cMQG9-f5JaLQ31ARCA7l3XtW4.png style=\"height:75px\"></td><td>7/8 same cards</td></tr><tr><td><img src=https://api-assets.clashroyale.com/cards/300/QWDdXMKJNpv0go-HYaWQWP6p8uIOHjqn-zX7G0p3DyM.png style=\"height:75px\"></td><td><img src=https://api-assets.clashroyale.com/cards/300/RsFaHgB3w6vXsTjXdPr3x8l_GbV9TbOUCvIx07prbrQ.png style=\"height:75px\"></td><td><img src=https://api-assets.clashroyale.com/cards/300/X_DQUye_OaS3QN6VC9CPw05Fit7wvSm3XegXIXKP--0.png style=\"height:75px\"></td><td><img src=https://api-assets.clashroyale.com/cards/300/O2NycChSNhn_UK9nqBXUhhC_lILkiANzPuJjtjoz0CE.png style=\"height:75px\"></td><td><img src=https://api-assets.clashroyale.com/cards/300/Y4yWvdwBCg2FpAZgs8T09Gy34WOwpLZW-ttL52Ae8NE.png style=\"height:75px\"></td><td><img src=https://api-assets.clashroyale.com/cards/300/Tex1C48UTq9FKtAX-3tzG0FJmc9jzncUZG3bb5Vf-Ds.png style=\"height:75px\"></td><td><img src=https://api-assets.clashroyale.com/cards/300/_xPphEfC8eEwFNrfU3cMQG9-f5JaLQ31ARCA7l3XtW4.png style=\"height:75px\"></td><td><img src=https://api-assets.clashroyale.com/cards/300/7dxh2-yCBy1x44GrBaL29vjqnEEeJXHEAlsi5g6D1eY.png style=\"height:75px\"></td><td>6/8 same cards</td></tr><tr><td><img src=https://api-assets.clashroyale.com/cards/300/QWDdXMKJNpv0go-HYaWQWP6p8uIOHjqn-zX7G0p3DyM.png style=\"height:75px\"></td><td><img src=https://api-assets.clashroyale.com/cards/300/EnIcvO21hxiNpoI-zO6MDjLmzwPbq8Z4JPo2OKoVUjU.png style=\"height:75px\"></td><td><img src=https://api-assets.clashroyale.com/cards/300/O2NycChSNhn_UK9nqBXUhhC_lILkiANzPuJjtjoz0CE.png style=\"height:75px\"></td><td><img src=https://api-assets.clashroyale.com/cards/300/Y4yWvdwBCg2FpAZgs8T09Gy34WOwpLZW-ttL52Ae8NE.png style=\"height:75px\"></td><td><img src=https://api-assets.clashroyale.com/cards/300/yHGpoEnmUWPGV_hBbhn-Kk-Bs838OjGzWzJJlQpQKQA.png style=\"height:75px\"></td><td><img src=https://api-assets.clashroyale.com/cards/300/Tex1C48UTq9FKtAX-3tzG0FJmc9jzncUZG3bb5Vf-Ds.png style=\"height:75px\"></td><td><img src=https://api-assets.clashroyale.com/cards/300/_xPphEfC8eEwFNrfU3cMQG9-f5JaLQ31ARCA7l3XtW4.png style=\"height:75px\"></td><td><img src=https://api-assets.clashroyale.com/cards/300/7dxh2-yCBy1x44GrBaL29vjqnEEeJXHEAlsi5g6D1eY.png style=\"height:75px\"></td><td>6/8 same cards</td></tr><tr><td><img src=https://api-assets.clashroyale.com/cards/300/QWDdXMKJNpv0go-HYaWQWP6p8uIOHjqn-zX7G0p3DyM.png style=\"height:75px\"></td><td><img src=https://api-assets.clashroyale.com/cards/300/EnIcvO21hxiNpoI-zO6MDjLmzwPbq8Z4JPo2OKoVUjU.png style=\"height:75px\"></td><td><img src=https://api-assets.clashroyale.com/cards/300/X_DQUye_OaS3QN6VC9CPw05Fit7wvSm3XegXIXKP--0.png style=\"height:75px\"></td><td><img src=https://api-assets.clashroyale.com/cards/300/O2NycChSNhn_UK9nqBXUhhC_lILkiANzPuJjtjoz0CE.png style=\"height:75px\"></td><td><img src=https://api-assets.clashroyale.com/cards/300/Y4yWvdwBCg2FpAZgs8T09Gy34WOwpLZW-ttL52Ae8NE.png style=\"height:75px\"></td><td><img src=https://api-assets.clashroyale.com/cards/300/Tex1C48UTq9FKtAX-3tzG0FJmc9jzncUZG3bb5Vf-Ds.png style=\"height:75px\"></td><td><img src=https://api-assets.clashroyale.com/cards/300/_xPphEfC8eEwFNrfU3cMQG9-f5JaLQ31ARCA7l3XtW4.png style=\"height:75px\"></td><td><img src=https://api-assets.clashroyale.com/cards/300/7dxh2-yCBy1x44GrBaL29vjqnEEeJXHEAlsi5g6D1eY.png style=\"height:75px\"></td><td>6/8 same cards</td></tr></table>"
      ],
      "text/plain": [
       "<IPython.core.display.HTML object>"
      ]
     },
     "metadata": {},
     "output_type": "display_data"
    },
    {
     "name": "stdout",
     "output_type": "stream",
     "text": [
      "\n",
      " 50/50 Blended Recommendations:\n"
     ]
    },
    {
     "data": {
      "text/html": [
       "<table><tr><td><img src=https://api-assets.clashroyale.com/cards/300/Flsoci-Y6y8ZFVi5uRFTmgkPnCmMyMVrU7YmmuPvSBo.png style=\"height:75px\"></td><td><img src=https://api-assets.clashroyale.com/cards/300/QWDdXMKJNpv0go-HYaWQWP6p8uIOHjqn-zX7G0p3DyM.png style=\"height:75px\"></td><td><img src=https://api-assets.clashroyale.com/cards/300/Gb0G1yNy0i5cIGUHin8uoFWxqntNtRPhY_jeMXg7HnA.png style=\"height:75px\"></td><td><img src=https://api-assets.clashroyale.com/cards/300/EnIcvO21hxiNpoI-zO6MDjLmzwPbq8Z4JPo2OKoVUjU.png style=\"height:75px\"></td><td><img src=https://api-assets.clashroyale.com/cards/300/O2NycChSNhn_UK9nqBXUhhC_lILkiANzPuJjtjoz0CE.png style=\"height:75px\"></td><td><img src=https://api-assets.clashroyale.com/cards/300/Y4yWvdwBCg2FpAZgs8T09Gy34WOwpLZW-ttL52Ae8NE.png style=\"height:75px\"></td><td><img src=https://api-assets.clashroyale.com/cards/300/Tex1C48UTq9FKtAX-3tzG0FJmc9jzncUZG3bb5Vf-Ds.png style=\"height:75px\"></td><td><img src=https://api-assets.clashroyale.com/cards/300/_xPphEfC8eEwFNrfU3cMQG9-f5JaLQ31ARCA7l3XtW4.png style=\"height:75px\"></td><td>7/8 same cards</td></tr><tr><td><img src=https://api-assets.clashroyale.com/cards/300/QWDdXMKJNpv0go-HYaWQWP6p8uIOHjqn-zX7G0p3DyM.png style=\"height:75px\"></td><td><img src=https://api-assets.clashroyale.com/cards/300/EnIcvO21hxiNpoI-zO6MDjLmzwPbq8Z4JPo2OKoVUjU.png style=\"height:75px\"></td><td><img src=https://api-assets.clashroyale.com/cards/300/RsFaHgB3w6vXsTjXdPr3x8l_GbV9TbOUCvIx07prbrQ.png style=\"height:75px\"></td><td><img src=https://api-assets.clashroyale.com/cards/300/O2NycChSNhn_UK9nqBXUhhC_lILkiANzPuJjtjoz0CE.png style=\"height:75px\"></td><td><img src=https://api-assets.clashroyale.com/cards/300/Y4yWvdwBCg2FpAZgs8T09Gy34WOwpLZW-ttL52Ae8NE.png style=\"height:75px\"></td><td><img src=https://api-assets.clashroyale.com/cards/300/Tex1C48UTq9FKtAX-3tzG0FJmc9jzncUZG3bb5Vf-Ds.png style=\"height:75px\"></td><td><img src=https://api-assets.clashroyale.com/cards/300/_xPphEfC8eEwFNrfU3cMQG9-f5JaLQ31ARCA7l3XtW4.png style=\"height:75px\"></td><td><img src=https://api-assets.clashroyale.com/cards/300/7dxh2-yCBy1x44GrBaL29vjqnEEeJXHEAlsi5g6D1eY.png style=\"height:75px\"></td><td>7/8 same cards</td></tr><tr><td><img src=https://api-assets.clashroyale.com/cards/300/Flsoci-Y6y8ZFVi5uRFTmgkPnCmMyMVrU7YmmuPvSBo.png style=\"height:75px\"></td><td><img src=https://api-assets.clashroyale.com/cards/300/QWDdXMKJNpv0go-HYaWQWP6p8uIOHjqn-zX7G0p3DyM.png style=\"height:75px\"></td><td><img src=https://api-assets.clashroyale.com/cards/300/EnIcvO21hxiNpoI-zO6MDjLmzwPbq8Z4JPo2OKoVUjU.png style=\"height:75px\"></td><td><img src=https://api-assets.clashroyale.com/cards/300/O2NycChSNhn_UK9nqBXUhhC_lILkiANzPuJjtjoz0CE.png style=\"height:75px\"></td><td><img src=https://api-assets.clashroyale.com/cards/300/Y4yWvdwBCg2FpAZgs8T09Gy34WOwpLZW-ttL52Ae8NE.png style=\"height:75px\"></td><td><img src=https://api-assets.clashroyale.com/cards/300/Tex1C48UTq9FKtAX-3tzG0FJmc9jzncUZG3bb5Vf-Ds.png style=\"height:75px\"></td><td><img src=https://api-assets.clashroyale.com/cards/300/_xPphEfC8eEwFNrfU3cMQG9-f5JaLQ31ARCA7l3XtW4.png style=\"height:75px\"></td><td><img src=https://api-assets.clashroyale.com/cards/300/7dxh2-yCBy1x44GrBaL29vjqnEEeJXHEAlsi5g6D1eY.png style=\"height:75px\"></td><td>7/8 same cards</td></tr><tr><td><img src=https://api-assets.clashroyale.com/cards/300/QWDdXMKJNpv0go-HYaWQWP6p8uIOHjqn-zX7G0p3DyM.png style=\"height:75px\"></td><td><img src=https://api-assets.clashroyale.com/cards/300/RsFaHgB3w6vXsTjXdPr3x8l_GbV9TbOUCvIx07prbrQ.png style=\"height:75px\"></td><td><img src=https://api-assets.clashroyale.com/cards/300/X_DQUye_OaS3QN6VC9CPw05Fit7wvSm3XegXIXKP--0.png style=\"height:75px\"></td><td><img src=https://api-assets.clashroyale.com/cards/300/O2NycChSNhn_UK9nqBXUhhC_lILkiANzPuJjtjoz0CE.png style=\"height:75px\"></td><td><img src=https://api-assets.clashroyale.com/cards/300/Y4yWvdwBCg2FpAZgs8T09Gy34WOwpLZW-ttL52Ae8NE.png style=\"height:75px\"></td><td><img src=https://api-assets.clashroyale.com/cards/300/Tex1C48UTq9FKtAX-3tzG0FJmc9jzncUZG3bb5Vf-Ds.png style=\"height:75px\"></td><td><img src=https://api-assets.clashroyale.com/cards/300/_xPphEfC8eEwFNrfU3cMQG9-f5JaLQ31ARCA7l3XtW4.png style=\"height:75px\"></td><td><img src=https://api-assets.clashroyale.com/cards/300/7dxh2-yCBy1x44GrBaL29vjqnEEeJXHEAlsi5g6D1eY.png style=\"height:75px\"></td><td>6/8 same cards</td></tr><tr><td><img src=https://api-assets.clashroyale.com/cards/300/QWDdXMKJNpv0go-HYaWQWP6p8uIOHjqn-zX7G0p3DyM.png style=\"height:75px\"></td><td><img src=https://api-assets.clashroyale.com/cards/300/Gb0G1yNy0i5cIGUHin8uoFWxqntNtRPhY_jeMXg7HnA.png style=\"height:75px\"></td><td><img src=https://api-assets.clashroyale.com/cards/300/EnIcvO21hxiNpoI-zO6MDjLmzwPbq8Z4JPo2OKoVUjU.png style=\"height:75px\"></td><td><img src=https://api-assets.clashroyale.com/cards/300/O2NycChSNhn_UK9nqBXUhhC_lILkiANzPuJjtjoz0CE.png style=\"height:75px\"></td><td><img src=https://api-assets.clashroyale.com/cards/300/Y4yWvdwBCg2FpAZgs8T09Gy34WOwpLZW-ttL52Ae8NE.png style=\"height:75px\"></td><td><img src=https://api-assets.clashroyale.com/cards/300/Tex1C48UTq9FKtAX-3tzG0FJmc9jzncUZG3bb5Vf-Ds.png style=\"height:75px\"></td><td><img src=https://api-assets.clashroyale.com/cards/300/_xPphEfC8eEwFNrfU3cMQG9-f5JaLQ31ARCA7l3XtW4.png style=\"height:75px\"></td><td><img src=https://api-assets.clashroyale.com/cards/300/7dxh2-yCBy1x44GrBaL29vjqnEEeJXHEAlsi5g6D1eY.png style=\"height:75px\"></td><td>6/8 same cards</td></tr><tr><td><img src=https://api-assets.clashroyale.com/cards/300/QWDdXMKJNpv0go-HYaWQWP6p8uIOHjqn-zX7G0p3DyM.png style=\"height:75px\"></td><td><img src=https://api-assets.clashroyale.com/cards/300/EnIcvO21hxiNpoI-zO6MDjLmzwPbq8Z4JPo2OKoVUjU.png style=\"height:75px\"></td><td><img src=https://api-assets.clashroyale.com/cards/300/RsFaHgB3w6vXsTjXdPr3x8l_GbV9TbOUCvIx07prbrQ.png style=\"height:75px\"></td><td><img src=https://api-assets.clashroyale.com/cards/300/c1rL3LO1U2D9-TkeFfAC18gP3AO8ztSwrcHMZplwL2Q.png style=\"height:75px\"></td><td><img src=https://api-assets.clashroyale.com/cards/300/O2NycChSNhn_UK9nqBXUhhC_lILkiANzPuJjtjoz0CE.png style=\"height:75px\"></td><td><img src=https://api-assets.clashroyale.com/cards/300/Y4yWvdwBCg2FpAZgs8T09Gy34WOwpLZW-ttL52Ae8NE.png style=\"height:75px\"></td><td><img src=https://api-assets.clashroyale.com/cards/300/_xPphEfC8eEwFNrfU3cMQG9-f5JaLQ31ARCA7l3XtW4.png style=\"height:75px\"></td><td><img src=https://api-assets.clashroyale.com/cards/300/7dxh2-yCBy1x44GrBaL29vjqnEEeJXHEAlsi5g6D1eY.png style=\"height:75px\"></td><td>6/8 same cards</td></tr></table>"
      ],
      "text/plain": [
       "<IPython.core.display.HTML object>"
      ]
     },
     "metadata": {},
     "output_type": "display_data"
    }
   ],
   "source": [
    "if not input_deck:\n",
    "    input_deck = decks[random_ind]\n",
    "\n",
    "stat_embedding = normalize(np.percentile(np.array([stats_dict[c] for c in input_deck]), list(np.arange(0,percentile_max,percentile_step)), axis=0).flatten().reshape(-1, 1), norm='l2', axis=0).reshape(1,-1)[0]\n",
    "\n",
    "onehot_embedding = np.zeros(len(card_stats['name']))\n",
    "for card in input_deck:\n",
    "    onehot_embedding[card2ind[card]] = 1\n",
    "onehot_embedding = normalize(onehot_embedding.reshape(-1, 1), norm='l2', axis=0).reshape(1,-1)[0]\n",
    "\n",
    "rec_sims = stat_embedding.dot(deck_matrix.T)\n",
    "onehot_rec_sims = onehot_embedding.dot(one_hot_deck_matrix.T)\n",
    "blended_sims = rec_sims*.5 + onehot_rec_sims*.5\n",
    "\n",
    "rec_inds = np.argsort(rec_sims)[::-1][:n_recs]\n",
    "onehot_rec_inds = np.argsort(onehot_rec_sims)[::-1][:n_recs]\n",
    "blended_rec_inds = np.argsort(blended_sims)[::-1][:n_recs]\n",
    "\n",
    "print('Input Deck:')\n",
    "display_decks([input_deck], input_deck)\n",
    "\n",
    "print('\\nStats Recommendations:')\n",
    "display_decks([decks[r] for r in rec_inds if decks[r] != input_deck], input_deck)\n",
    "    \n",
    "print('\\nOne-Hot Recommendations:')\n",
    "display_decks([decks[r] for r in onehot_rec_inds if decks[r] != input_deck], input_deck)\n",
    "\n",
    "print('\\n 50/50 Blended Recommendations:')\n",
    "display_decks([decks[r] for r in blended_rec_inds if decks[r] != input_deck], input_deck)"
   ]
  },
  {
   "cell_type": "code",
   "execution_count": null,
   "metadata": {},
   "outputs": [],
   "source": []
  }
 ],
 "metadata": {
  "kernelspec": {
   "display_name": "Python 3",
   "language": "python",
   "name": "python3"
  },
  "language_info": {
   "codemirror_mode": {
    "name": "ipython",
    "version": 3
   },
   "file_extension": ".py",
   "mimetype": "text/x-python",
   "name": "python",
   "nbconvert_exporter": "python",
   "pygments_lexer": "ipython3",
   "version": "3.6.7"
  }
 },
 "nbformat": 4,
 "nbformat_minor": 2
}
