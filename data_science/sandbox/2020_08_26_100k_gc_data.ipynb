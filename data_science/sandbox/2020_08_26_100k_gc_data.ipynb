{
 "cells": [
  {
   "cell_type": "code",
   "execution_count": 1,
   "metadata": {},
   "outputs": [],
   "source": [
    "import pandas as pd\n",
    "from collections import Counter\n",
    "import numpy as np\n",
    "from tqdm import tqdm\n",
    "from sklearn.preprocessing import normalize, MinMaxScaler\n",
    "import requests\n",
    "from IPython.display import HTML\n",
    "import matplotlib.pyplot as plt\n",
    "import operator\n",
    "import pickle"
   ]
  },
  {
   "cell_type": "code",
   "execution_count": 2,
   "metadata": {},
   "outputs": [],
   "source": [
    "def apply_sml_clean(x):\n",
    "    return x.replace('.','').lower().replace(' ','-')"
   ]
  },
  {
   "cell_type": "code",
   "execution_count": 3,
   "metadata": {},
   "outputs": [],
   "source": [
    "card_images_dict = requests.get('https://us-central1-royaleapp.cloudfunctions.net/getcardimages').json()\n",
    "card_images_dict = {apply_sml_clean(k):v for k,v in card_images_dict.items()}"
   ]
  },
  {
   "cell_type": "markdown",
   "metadata": {},
   "source": [
    "# Read in GC Data"
   ]
  },
  {
   "cell_type": "code",
   "execution_count": 4,
   "metadata": {},
   "outputs": [
    {
     "name": "stdout",
     "output_type": "stream",
     "text": [
      "(100001, 9)\n"
     ]
    },
    {
     "data": {
      "text/html": [
       "<div>\n",
       "<style scoped>\n",
       "    .dataframe tbody tr th:only-of-type {\n",
       "        vertical-align: middle;\n",
       "    }\n",
       "\n",
       "    .dataframe tbody tr th {\n",
       "        vertical-align: top;\n",
       "    }\n",
       "\n",
       "    .dataframe thead th {\n",
       "        text-align: right;\n",
       "    }\n",
       "</style>\n",
       "<table border=\"1\" class=\"dataframe\">\n",
       "  <thead>\n",
       "    <tr style=\"text-align: right;\">\n",
       "      <th></th>\n",
       "      <th>doc_id</th>\n",
       "      <th>card1</th>\n",
       "      <th>card2</th>\n",
       "      <th>card3</th>\n",
       "      <th>card4</th>\n",
       "      <th>card5</th>\n",
       "      <th>card6</th>\n",
       "      <th>card7</th>\n",
       "      <th>card8</th>\n",
       "    </tr>\n",
       "  </thead>\n",
       "  <tbody>\n",
       "    <tr>\n",
       "      <th>0</th>\n",
       "      <td>2VVQ2RGC8-1585715128000-CYJGP8CL-R</td>\n",
       "      <td>baby-dragon</td>\n",
       "      <td>barbarian-barrel</td>\n",
       "      <td>freeze</td>\n",
       "      <td>goblins</td>\n",
       "      <td>graveyard</td>\n",
       "      <td>ice-wizard</td>\n",
       "      <td>mega-knight</td>\n",
       "      <td>tornado</td>\n",
       "    </tr>\n",
       "    <tr>\n",
       "      <th>1</th>\n",
       "      <td>RL2QYVY8-1586229529000-92CL822V</td>\n",
       "      <td>balloon</td>\n",
       "      <td>barbarian-barrel</td>\n",
       "      <td>bats</td>\n",
       "      <td>giant-snowball</td>\n",
       "      <td>goblins</td>\n",
       "      <td>ice-spirit</td>\n",
       "      <td>lumberjack</td>\n",
       "      <td>princess</td>\n",
       "    </tr>\n",
       "    <tr>\n",
       "      <th>2</th>\n",
       "      <td>8RUUL28QR-1585861468000-L2CUU2Y29-R</td>\n",
       "      <td>baby-dragon</td>\n",
       "      <td>barbarian-barrel</td>\n",
       "      <td>firecracker</td>\n",
       "      <td>golem</td>\n",
       "      <td>lightning</td>\n",
       "      <td>lumberjack</td>\n",
       "      <td>night-witch</td>\n",
       "      <td>tornado</td>\n",
       "    </tr>\n",
       "    <tr>\n",
       "      <th>3</th>\n",
       "      <td>GYRYCPV8-1586233796000-998GRLRY-R</td>\n",
       "      <td>baby-dragon</td>\n",
       "      <td>barbarian-barrel</td>\n",
       "      <td>bomb-tower</td>\n",
       "      <td>graveyard</td>\n",
       "      <td>knight</td>\n",
       "      <td>musketeer</td>\n",
       "      <td>poison</td>\n",
       "      <td>skeletons</td>\n",
       "    </tr>\n",
       "    <tr>\n",
       "      <th>4</th>\n",
       "      <td>8P8CV9LQC-1586291071000-9LR0C8VU-R</td>\n",
       "      <td>balloon</td>\n",
       "      <td>giant-snowball</td>\n",
       "      <td>ice-golem</td>\n",
       "      <td>inferno-tower</td>\n",
       "      <td>miner</td>\n",
       "      <td>musketeer</td>\n",
       "      <td>skeletons</td>\n",
       "      <td>valkyrie</td>\n",
       "    </tr>\n",
       "  </tbody>\n",
       "</table>\n",
       "</div>"
      ],
      "text/plain": [
       "                                doc_id        card1             card2  \\\n",
       "0   2VVQ2RGC8-1585715128000-CYJGP8CL-R  baby-dragon  barbarian-barrel   \n",
       "1      RL2QYVY8-1586229529000-92CL822V      balloon  barbarian-barrel   \n",
       "2  8RUUL28QR-1585861468000-L2CUU2Y29-R  baby-dragon  barbarian-barrel   \n",
       "3    GYRYCPV8-1586233796000-998GRLRY-R  baby-dragon  barbarian-barrel   \n",
       "4   8P8CV9LQC-1586291071000-9LR0C8VU-R      balloon    giant-snowball   \n",
       "\n",
       "         card3           card4      card5       card6        card7      card8  \n",
       "0       freeze         goblins  graveyard  ice-wizard  mega-knight    tornado  \n",
       "1         bats  giant-snowball    goblins  ice-spirit   lumberjack   princess  \n",
       "2  firecracker           golem  lightning  lumberjack  night-witch    tornado  \n",
       "3   bomb-tower       graveyard     knight   musketeer       poison  skeletons  \n",
       "4    ice-golem   inferno-tower      miner   musketeer    skeletons   valkyrie  "
      ]
     },
     "execution_count": 4,
     "metadata": {},
     "output_type": "execute_result"
    }
   ],
   "source": [
    "df = pd.read_csv('../../../gc-data-2020.04-100000.csv')\n",
    "\n",
    "for i in range(1,9):\n",
    "    df['card'+str(i)] = df['card'+str(i)].apply(lambda x: apply_sml_clean(x.replace('-', ' ').title().replace('Pekka', 'P.E.K.K.A').replace('X Bow', 'X-Bow')))\n",
    "    \n",
    "print(df.shape)\n",
    "df.head()"
   ]
  },
  {
   "cell_type": "code",
   "execution_count": 5,
   "metadata": {},
   "outputs": [
    {
     "data": {
      "text/plain": [
       "903"
      ]
     },
     "execution_count": 5,
     "metadata": {},
     "output_type": "execute_result"
    }
   ],
   "source": [
    "# Out of 100,000 decks, only 903 are used at least 10 times\n",
    "# How are these decks selected?\n",
    "decks_str = df[['card'+str(i) for i in range(1,9)]].apply(lambda x: str(sorted(x)), axis=1).values.tolist()\n",
    "\n",
    "len([(d,c) for d,c in Counter(decks_str).most_common() if c>=10])"
   ]
  },
  {
   "cell_type": "code",
   "execution_count": 6,
   "metadata": {},
   "outputs": [
    {
     "data": {
      "text/plain": [
       "15380"
      ]
     },
     "execution_count": 6,
     "metadata": {},
     "output_type": "execute_result"
    }
   ],
   "source": [
    "# Only take unique decks - 15,380 of them\n",
    "decks = df[['card'+str(i) for i in range(1,9)]].values.tolist()\n",
    "\n",
    "# Save deck counts dictionary before taking the set of all decks\n",
    "decks = [str(sorted(d)) for d in decks if 'heal' not in d]\n",
    "deck_counts = Counter(decks)\n",
    "\n",
    "decks = set(decks)\n",
    "decks = [eval(d) for d in decks]\n",
    "len(decks)"
   ]
  },
  {
   "cell_type": "code",
   "execution_count": 7,
   "metadata": {},
   "outputs": [
    {
     "data": {
      "image/png": "[encoded data removed]",
      "text/plain": [
       "<Figure size 432x288 with 1 Axes>"
      ]
     },
     "metadata": {
      "needs_background": "light"
     },
     "output_type": "display_data"
    }
   ],
   "source": [
    "# Clip deck counts between 0 and 5, and normalize between 0 and 1\n",
    "upper_deck_limit = 5\n",
    "\n",
    "d_ = []\n",
    "counts = []\n",
    "for d,c in deck_counts.most_common():\n",
    "    d_.append(d)\n",
    "    counts.append(c)\n",
    "\n",
    "scaler = MinMaxScaler(feature_range=(0, 1))\n",
    "scaled_counts = scaler.fit_transform(np.clip(np.array(counts), 0, upper_deck_limit).reshape(-1, 1)).flatten()\n",
    "\n",
    "# Inspect distribution of normalized count weights\n",
    "plt.hist(scaled_counts)\n",
    "plt.show();\n",
    "\n",
    "# Finalize deck counts dictionary\n",
    "normed_deck_counts = dict(zip(d_, scaled_counts))"
   ]
  },
  {
   "cell_type": "markdown",
   "metadata": {},
   "source": [
    "# Read in Excel Stats"
   ]
  },
  {
   "cell_type": "code",
   "execution_count": 8,
   "metadata": {},
   "outputs": [],
   "source": [
    "card_stats = pd.read_excel('../../../card_stats.xlsx')\n",
    "card_stats['name'] = card_stats['name'].apply(apply_sml_clean)\n",
    "\n",
    "stats_dict = dict(zip(card_stats['name'], card_stats.values[:,1:]))\n",
    "card2ind = dict(zip(card_stats['name'], card_stats.index))"
   ]
  },
  {
   "cell_type": "markdown",
   "metadata": {},
   "source": [
    "# Create Deck Matrices"
   ]
  },
  {
   "cell_type": "code",
   "execution_count": 9,
   "metadata": {},
   "outputs": [],
   "source": [
    "percentile_max = 105\n",
    "percentile_step = 5"
   ]
  },
  {
   "cell_type": "code",
   "execution_count": 10,
   "metadata": {},
   "outputs": [
    {
     "name": "stderr",
     "output_type": "stream",
     "text": [
      "100%|██████████████████████████████████████████████████████████████████████████| 15380/15380 [00:15<00:00, 1019.02it/s]\n"
     ]
    }
   ],
   "source": [
    "# Card stats matrix\n",
    "deck_matrix = np.array([normalize(np.percentile(np.array([stats_dict[c] for c in deck]), list(np.arange(0,percentile_max,percentile_step)), axis=0).flatten().reshape(-1, 1), norm='l2', axis=0).reshape(1,-1)[0] for deck in tqdm(decks)])"
   ]
  },
  {
   "cell_type": "code",
   "execution_count": 11,
   "metadata": {},
   "outputs": [
    {
     "name": "stderr",
     "output_type": "stream",
     "text": [
      "100%|██████████████████████████████████████████████████████████████████████████| 15380/15380 [00:03<00:00, 3985.32it/s]\n"
     ]
    }
   ],
   "source": [
    "# One-hot cards matrix\n",
    "one_hot_deck_matrix = []\n",
    "for deck in tqdm(decks):\n",
    "    blank_vec = np.zeros(len(card_stats['name']))\n",
    "    for card in deck:\n",
    "        blank_vec[card2ind[card]] = 1\n",
    "    blank_vec = normalize(blank_vec.reshape(-1, 1), norm='l2', axis=0).reshape(1,-1)[0]\n",
    "    one_hot_deck_matrix.append(blank_vec)\n",
    "    \n",
    "one_hot_deck_matrix = np.array(one_hot_deck_matrix)"
   ]
  },
  {
   "cell_type": "code",
   "execution_count": 12,
   "metadata": {},
   "outputs": [
    {
     "name": "stderr",
     "output_type": "stream",
     "text": [
      "100%|██████████████████████████████████████████████████████████████████████████| 15380/15380 [00:03<00:00, 4699.56it/s]\n"
     ]
    }
   ],
   "source": [
    "# One-hot win condition matrix\n",
    "\n",
    "wincons = ['Giant', 'P.E.K.K.A', 'Balloon', 'Golem', 'Prince', 'Giant Skeleton', 'Hog Rider',\n",
    "           'Royal Giant', 'Three Musketeers', 'Lava Hound', 'Miner', 'Sparky', 'Battle Ram', \n",
    "           'Elite Barbarians', 'Royal Recruits', 'Ram Rider', 'Mega Knight', 'Skeleton Barrel',\n",
    "           'Wall Breakers', 'Royal Hogs', 'Goblin Giant', 'Elixir Golem', 'Mortar', 'X-Bow',\n",
    "           'Rocket', 'Goblin Barrel', 'Graveyard']\n",
    "wincons = [apply_sml_clean(w) for w in wincons]\n",
    "wincon2ind = {w:i for w,i in card2ind.items() if w in wincons}\n",
    "\n",
    "one_hot_wincon_deck_matrix = []\n",
    "for deck in tqdm(decks):\n",
    "    blank_vec = np.zeros(len(card_stats['name']))\n",
    "    for card in deck:\n",
    "        wincon_index = wincon2ind.get(card)\n",
    "        if wincon_index:\n",
    "            blank_vec[wincon_index] = 1\n",
    "    blank_vec = normalize(blank_vec.reshape(-1, 1), norm='l2', axis=0).reshape(1,-1)[0]\n",
    "    one_hot_wincon_deck_matrix.append(blank_vec)\n",
    "    \n",
    "one_hot_wincon_deck_matrix = np.array(one_hot_wincon_deck_matrix)"
   ]
  },
  {
   "cell_type": "markdown",
   "metadata": {},
   "source": [
    "# Get Recommendations"
   ]
  },
  {
   "cell_type": "code",
   "execution_count": 13,
   "metadata": {},
   "outputs": [],
   "source": [
    "def display_decks(decks, input_deck, sims, play_count_dict=deck_counts):\n",
    "    deck_image_str = '<table>'\n",
    "    for n, deck in enumerate(decks):\n",
    "        deck_image_str += '<tr>'\n",
    "        card_count = 0\n",
    "        for card in deck:\n",
    "            if card in input_deck:\n",
    "                card_count += 1\n",
    "            deck_image_str += '<td><img src={} style=\"height:75px\"></td>'.format(card_images_dict[card])\n",
    "        deck_image_str += '<td>{}/8 same cards</td>'.format(card_count)\n",
    "        deck_image_str += '<td>score: {:.5f}</td>'.format(sims[n])\n",
    "        deck_image_str += '<td>play count: {}</td>'.format(deck_counts[str(deck)])\n",
    "        deck_image_str += '</tr>'\n",
    "    deck_image_str += '</table>'\n",
    "    display(HTML(deck_image_str))\n",
    "    \n",
    "def get_decks_sims(input_inds, input_sims, input_deck, all_decks=decks):\n",
    "    rec_decks = []\n",
    "    rec_sims = []\n",
    "    for n, r in enumerate(input_inds):\n",
    "        if all_decks[r] != input_deck:\n",
    "            rec_decks.append(all_decks[r])\n",
    "            rec_sims.append(input_sims[n])\n",
    "\n",
    "    return rec_decks, rec_sims\n",
    "\n",
    "def get_decks_sims2(input_decks, input_sims, input_deck):\n",
    "    rec_decks = []\n",
    "    rec_sims = []\n",
    "    for n, d in enumerate(input_decks):\n",
    "        if d != input_deck:\n",
    "            rec_decks.append(d)\n",
    "            rec_sims.append(input_sims[n])\n",
    "\n",
    "    return rec_decks, rec_sims"
   ]
  },
  {
   "cell_type": "code",
   "execution_count": 14,
   "metadata": {},
   "outputs": [],
   "source": [
    "# input_deck = ['Arrows', 'Balloon', 'Guards', 'Lava Hound', 'Mega Minion', 'Miner', 'Minions', 'Zap']\n",
    "# input_deck = ['Archers', 'Fireball', 'Ice Golem', 'Ice Spirit', 'The Log', 'Skeletons', 'Tesla', 'X-Bow']\n",
    "# input_deck = ['Giant Snowball', 'Bandit', 'Ram Rider', 'Electro Wizard', 'Barbarian Barrel', 'Poison', 'Baby Dragon', 'P.E.K.K.A']\n",
    "# input_deck = ['Bats', 'Arrows', 'Miner', 'Wall Breakers', 'Musketeer', 'Electro Wizard', 'Mega Knight', 'Bandit']\n",
    "# input_deck = ['Ice Golem', 'Ice Spirit', 'Fireball', 'Cannon', 'Hog Rider', 'The Log', 'Skeletons', 'Musketeer']\n",
    "input_deck = ['mortar', 'lightning', 'knight', 'fire-spirits', 'musketeer', 'skeleton-barrel', 'barbarian-barrel', 'goblin-gang']\n",
    "# input_deck = []\n",
    "random_ind = 1498 #np.random.choice(range(len(decks))) #11142 #10353 #12059 #6024 #1 #10545 #1498\n",
    "\n",
    "n_recs = 6\n",
    "input_deck = sorted(input_deck)"
   ]
  },
  {
   "cell_type": "markdown",
   "metadata": {},
   "source": [
    "* Stats Recommendations: Purely based on aggregated deck stats from individual card stats (used on my website). Seeks to find decks with the most similar \"feel\" or play style.\n",
    "* One-Hot Recommendations: Purely based on exact card contents (like those on RoyaleAPI). Seeks to find decks with the most number of similar cards.\n",
    "* 50/50 Blended Recommendations: A blend of 50% Stats Recommendations and 50% One-Hot Recommendations. Seeks to find decks with similar \"feel\" or play style, as well as all similar cards.\n",
    "* 50/50 Blended WinCon Recommendations: A blend of 50% Stats Recommendations and 50% One-Hot Win Condition Recommendations. One-Hot Win Condition Recommendations only give weight to win conditions in a deck. Seeks to find decks with similar \"feel\" or play style, as well as similar win conditions.\n",
    "* 50/50 Blended WinCon Recommendations + Play Counts: Top-n recommendations are found with the 50/50 Blended WinCon Recommendations algorithm, and then those results are re-ranked to give more weight to decks which are played more frequently. Seeks to display the most played 50/50 Blended WinCon Recommendations decks. This sort of recommendation would additionally benefit from a win count or percentage per deck.\n",
    "\n",
    "Overall, we get superior, diverse recommendations using 50/50 Blended WinCon Recommendations (with or without Play Counts). These recommendations show the user novel decks to play given their play style. Only when the user is truly looking for very, very similar decks does One-Hot Recommendations look appropriate. Even then, if the deck is a bit odd (golem_support.png) then it may fail to give more weight to the central card in the deck (golem). Further, switching out one or two cards in a deck is not difficult, and users may not need this as they can do it themselves."
   ]
  },
  {
   "cell_type": "code",
   "execution_count": 15,
   "metadata": {},
   "outputs": [],
   "source": [
    "# import pickle\n",
    "# for fname, data in {'stats_dict':stats_dict, \n",
    "#                     'card2ind':card2ind, \n",
    "#                     'wincon2ind':wincon2ind,\n",
    "#                     'deck_matrix':deck_matrix, \n",
    "#                     'one_hot_deck_matrix':one_hot_deck_matrix,\n",
    "#                     'one_hot_wincon_deck_matrix':one_hot_wincon_deck_matrix, \n",
    "#                     'normed_deck_counts':normed_deck_counts,\n",
    "#                     'decks':decks}.items():\n",
    "#     with open('../../../100k_gc_deck_models/'+fname+'.p', 'wb') as f:\n",
    "#         pickle.dump(data, f)"
   ]
  },
  {
   "cell_type": "code",
   "execution_count": 16,
   "metadata": {
    "scrolled": false
   },
   "outputs": [
    {
     "name": "stdout",
     "output_type": "stream",
     "text": [
      "Input Deck:\n"
     ]
    },
    {
     "data": {
      "text/html": [
       "<table><tr><td><img src=https://api-assets.clashroyale.com/cards/300/cjC9n4AvEZJ3urkVh-rwBkJ-aRSsydIMqSAV48hAih0.png style=\"height:75px\"></td><td><img src=https://api-assets.clashroyale.com/cards/300/qBipxLo-3hhCnPrApp2Nn3b2NgrSrvwzWytvREev0CY.png style=\"height:75px\"></td><td><img src=https://api-assets.clashroyale.com/cards/300/I1M20_Zs_p_BS1NaNIVQjuMJkYI_1-ePtwYZahn0JXQ.png style=\"height:75px\"></td><td><img src=https://api-assets.clashroyale.com/cards/300/1ArKfLJxYo6_NU_S9cAeIrfbXqWH0oULVJXedxBXQlU.png style=\"height:75px\"></td><td><img src=https://api-assets.clashroyale.com/cards/300/lv1budiafU9XmSdrDkk0NYyqASAFYyZ06CPysXKZXlA.png style=\"height:75px\"></td><td><img src=https://api-assets.clashroyale.com/cards/300/W3dkw0HTw9n1jB-zbknY2w3wHuyuLxSRIAV5fUT1SEY.png style=\"height:75px\"></td><td><img src=https://api-assets.clashroyale.com/cards/300/MlArURKhn_zWAZY-Xj1qIRKLVKquarG25BXDjUQajNs.png style=\"height:75px\"></td><td><img src=https://api-assets.clashroyale.com/cards/300/QJB-QK1QJHdw4hjpAwVSyZBozc2ZWAR9pQ-SMUyKaT0.png style=\"height:75px\"></td><td>8/8 same cards</td><td>score: 1.00000</td><td>play count: 1</td></tr></table>"
      ],
      "text/plain": [
       "<IPython.core.display.HTML object>"
      ]
     },
     "metadata": {},
     "output_type": "display_data"
    },
    {
     "name": "stdout",
     "output_type": "stream",
     "text": [
      "\n",
      "Stats Recommendations:\n"
     ]
    },
    {
     "data": {
      "text/html": [
       "<table><tr><td><img src=https://api-assets.clashroyale.com/cards/300/qBipxLo-3hhCnPrApp2Nn3b2NgrSrvwzWytvREev0CY.png style=\"height:75px\"></td><td><img src=https://api-assets.clashroyale.com/cards/300/I1M20_Zs_p_BS1NaNIVQjuMJkYI_1-ePtwYZahn0JXQ.png style=\"height:75px\"></td><td><img src=https://api-assets.clashroyale.com/cards/300/W3dkw0HTw9n1jB-zbknY2w3wHuyuLxSRIAV5fUT1SEY.png style=\"height:75px\"></td><td><img src=https://api-assets.clashroyale.com/cards/300/E6RWrnCuk13xMX5OE1EQtLEKTZQV6B78d00y8PlXt6Q.png style=\"height:75px\"></td><td><img src=https://api-assets.clashroyale.com/cards/300/yHGpoEnmUWPGV_hBbhn-Kk-Bs838OjGzWzJJlQpQKQA.png style=\"height:75px\"></td><td><img src=https://api-assets.clashroyale.com/cards/300/MlArURKhn_zWAZY-Xj1qIRKLVKquarG25BXDjUQajNs.png style=\"height:75px\"></td><td><img src=https://api-assets.clashroyale.com/cards/300/QJB-QK1QJHdw4hjpAwVSyZBozc2ZWAR9pQ-SMUyKaT0.png style=\"height:75px\"></td><td><img src=https://api-assets.clashroyale.com/cards/300/7dxh2-yCBy1x44GrBaL29vjqnEEeJXHEAlsi5g6D1eY.png style=\"height:75px\"></td><td>5/8 same cards</td><td>score: 0.99856</td><td>play count: 1</td></tr><tr><td><img src=https://api-assets.clashroyale.com/cards/300/qBipxLo-3hhCnPrApp2Nn3b2NgrSrvwzWytvREev0CY.png style=\"height:75px\"></td><td><img src=https://api-assets.clashroyale.com/cards/300/RsFaHgB3w6vXsTjXdPr3x8l_GbV9TbOUCvIx07prbrQ.png style=\"height:75px\"></td><td><img src=https://api-assets.clashroyale.com/cards/300/NHflxzVAQT4oAz7eDfdueqpictb5vrWezn1nuqFhE4w.png style=\"height:75px\"></td><td><img src=https://api-assets.clashroyale.com/cards/300/r05cmpwV1o7i7FHodtZwW3fmjbXCW34IJCsDEV5cZC4.png style=\"height:75px\"></td><td><img src=https://api-assets.clashroyale.com/cards/300/yHGpoEnmUWPGV_hBbhn-Kk-Bs838OjGzWzJJlQpQKQA.png style=\"height:75px\"></td><td><img src=https://api-assets.clashroyale.com/cards/300/MlArURKhn_zWAZY-Xj1qIRKLVKquarG25BXDjUQajNs.png style=\"height:75px\"></td><td><img src=https://api-assets.clashroyale.com/cards/300/98HDkG2189yOULcVG9jz2QbJKtfuhH21DIrIjkOjxI8.png style=\"height:75px\"></td><td><img src=https://api-assets.clashroyale.com/cards/300/7dxh2-yCBy1x44GrBaL29vjqnEEeJXHEAlsi5g6D1eY.png style=\"height:75px\"></td><td>2/8 same cards</td><td>score: 0.99826</td><td>play count: 2</td></tr><tr><td><img src=https://api-assets.clashroyale.com/cards/300/qBipxLo-3hhCnPrApp2Nn3b2NgrSrvwzWytvREev0CY.png style=\"height:75px\"></td><td><img src=https://api-assets.clashroyale.com/cards/300/16-BqusVvynIgYI8_Jci3LDC-r8AI_xaIYLgXqtlmS8.png style=\"height:75px\"></td><td><img src=https://api-assets.clashroyale.com/cards/300/CoZdp5PpsTH858l212lAMeJxVJ0zxv9V-f5xC8Bvj5g.png style=\"height:75px\"></td><td><img src=https://api-assets.clashroyale.com/cards/300/W3dkw0HTw9n1jB-zbknY2w3wHuyuLxSRIAV5fUT1SEY.png style=\"height:75px\"></td><td><img src=https://api-assets.clashroyale.com/cards/300/E6RWrnCuk13xMX5OE1EQtLEKTZQV6B78d00y8PlXt6Q.png style=\"height:75px\"></td><td><img src=https://api-assets.clashroyale.com/cards/300/Wyjq5l0IXHTkX9Rmpap6HaH08MvjbxFp1xBO9a47YSI.png style=\"height:75px\"></td><td><img src=https://api-assets.clashroyale.com/cards/300/MlArURKhn_zWAZY-Xj1qIRKLVKquarG25BXDjUQajNs.png style=\"height:75px\"></td><td><img src=https://api-assets.clashroyale.com/cards/300/7dxh2-yCBy1x44GrBaL29vjqnEEeJXHEAlsi5g6D1eY.png style=\"height:75px\"></td><td>3/8 same cards</td><td>score: 0.99755</td><td>play count: 1</td></tr><tr><td><img src=https://api-assets.clashroyale.com/cards/300/W4Hmp8MTSdXANN8KdblbtHwtsbt0o749BbxNqmJYfA8.png style=\"height:75px\"></td><td><img src=https://api-assets.clashroyale.com/cards/300/qBipxLo-3hhCnPrApp2Nn3b2NgrSrvwzWytvREev0CY.png style=\"height:75px\"></td><td><img src=https://api-assets.clashroyale.com/cards/300/I1M20_Zs_p_BS1NaNIVQjuMJkYI_1-ePtwYZahn0JXQ.png style=\"height:75px\"></td><td><img src=https://api-assets.clashroyale.com/cards/300/Tex1C48UTq9FKtAX-3tzG0FJmc9jzncUZG3bb5Vf-Ds.png style=\"height:75px\"></td><td><img src=https://api-assets.clashroyale.com/cards/300/MlArURKhn_zWAZY-Xj1qIRKLVKquarG25BXDjUQajNs.png style=\"height:75px\"></td><td><img src=https://api-assets.clashroyale.com/cards/300/OiwnGrxFMNiHetYEerE-UZt0L_uYNzFY7qV_CA_OxR4.png style=\"height:75px\"></td><td><img src=https://api-assets.clashroyale.com/cards/300/_iDwuDLexHPFZ_x4_a0eP-rxCS6vwWgTs6DLauwwoaY.png style=\"height:75px\"></td><td><img src=https://api-assets.clashroyale.com/cards/300/7dxh2-yCBy1x44GrBaL29vjqnEEeJXHEAlsi5g6D1eY.png style=\"height:75px\"></td><td>3/8 same cards</td><td>score: 0.99648</td><td>play count: 1</td></tr><tr><td><img src=https://api-assets.clashroyale.com/cards/300/qBipxLo-3hhCnPrApp2Nn3b2NgrSrvwzWytvREev0CY.png style=\"height:75px\"></td><td><img src=https://api-assets.clashroyale.com/cards/300/EnIcvO21hxiNpoI-zO6MDjLmzwPbq8Z4JPo2OKoVUjU.png style=\"height:75px\"></td><td><img src=https://api-assets.clashroyale.com/cards/300/7MaJLa6hK9WN2_VIshuh5DIDfGwm0wEv98gXtAxLDPs.png style=\"height:75px\"></td><td><img src=https://api-assets.clashroyale.com/cards/300/lv1budiafU9XmSdrDkk0NYyqASAFYyZ06CPysXKZXlA.png style=\"height:75px\"></td><td><img src=https://api-assets.clashroyale.com/cards/300/-T_e4YLbuhPBKbYnBwQfXgynNpp5eOIN_0RracYwL9c.png style=\"height:75px\"></td><td><img src=https://api-assets.clashroyale.com/cards/300/Y4yWvdwBCg2FpAZgs8T09Gy34WOwpLZW-ttL52Ae8NE.png style=\"height:75px\"></td><td><img src=https://api-assets.clashroyale.com/cards/300/MlArURKhn_zWAZY-Xj1qIRKLVKquarG25BXDjUQajNs.png style=\"height:75px\"></td><td><img src=https://api-assets.clashroyale.com/cards/300/oO7iKMU5m0cdxhYPZA3nWQiAUh2yoGgdThLWB1rVSec.png style=\"height:75px\"></td><td>3/8 same cards</td><td>score: 0.99636</td><td>play count: 1</td></tr></table>"
      ],
      "text/plain": [
       "<IPython.core.display.HTML object>"
      ]
     },
     "metadata": {},
     "output_type": "display_data"
    },
    {
     "name": "stdout",
     "output_type": "stream",
     "text": [
      "\n",
      "One-Hot Recommendations:\n"
     ]
    },
    {
     "data": {
      "text/html": [
       "<table><tr><td><img src=https://api-assets.clashroyale.com/cards/300/cjC9n4AvEZJ3urkVh-rwBkJ-aRSsydIMqSAV48hAih0.png style=\"height:75px\"></td><td><img src=https://api-assets.clashroyale.com/cards/300/qBipxLo-3hhCnPrApp2Nn3b2NgrSrvwzWytvREev0CY.png style=\"height:75px\"></td><td><img src=https://api-assets.clashroyale.com/cards/300/I1M20_Zs_p_BS1NaNIVQjuMJkYI_1-ePtwYZahn0JXQ.png style=\"height:75px\"></td><td><img src=https://api-assets.clashroyale.com/cards/300/W3dkw0HTw9n1jB-zbknY2w3wHuyuLxSRIAV5fUT1SEY.png style=\"height:75px\"></td><td><img src=https://api-assets.clashroyale.com/cards/300/E6RWrnCuk13xMX5OE1EQtLEKTZQV6B78d00y8PlXt6Q.png style=\"height:75px\"></td><td><img src=https://api-assets.clashroyale.com/cards/300/MlArURKhn_zWAZY-Xj1qIRKLVKquarG25BXDjUQajNs.png style=\"height:75px\"></td><td><img src=https://api-assets.clashroyale.com/cards/300/QJB-QK1QJHdw4hjpAwVSyZBozc2ZWAR9pQ-SMUyKaT0.png style=\"height:75px\"></td><td><img src=https://api-assets.clashroyale.com/cards/300/7dxh2-yCBy1x44GrBaL29vjqnEEeJXHEAlsi5g6D1eY.png style=\"height:75px\"></td><td>6/8 same cards</td><td>score: 0.75000</td><td>play count: 32</td></tr><tr><td><img src=https://api-assets.clashroyale.com/cards/300/cjC9n4AvEZJ3urkVh-rwBkJ-aRSsydIMqSAV48hAih0.png style=\"height:75px\"></td><td><img src=https://api-assets.clashroyale.com/cards/300/qBipxLo-3hhCnPrApp2Nn3b2NgrSrvwzWytvREev0CY.png style=\"height:75px\"></td><td><img src=https://api-assets.clashroyale.com/cards/300/I1M20_Zs_p_BS1NaNIVQjuMJkYI_1-ePtwYZahn0JXQ.png style=\"height:75px\"></td><td><img src=https://api-assets.clashroyale.com/cards/300/W3dkw0HTw9n1jB-zbknY2w3wHuyuLxSRIAV5fUT1SEY.png style=\"height:75px\"></td><td><img src=https://api-assets.clashroyale.com/cards/300/E6RWrnCuk13xMX5OE1EQtLEKTZQV6B78d00y8PlXt6Q.png style=\"height:75px\"></td><td><img src=https://api-assets.clashroyale.com/cards/300/Y4yWvdwBCg2FpAZgs8T09Gy34WOwpLZW-ttL52Ae8NE.png style=\"height:75px\"></td><td><img src=https://api-assets.clashroyale.com/cards/300/MlArURKhn_zWAZY-Xj1qIRKLVKquarG25BXDjUQajNs.png style=\"height:75px\"></td><td><img src=https://api-assets.clashroyale.com/cards/300/QJB-QK1QJHdw4hjpAwVSyZBozc2ZWAR9pQ-SMUyKaT0.png style=\"height:75px\"></td><td>6/8 same cards</td><td>score: 0.75000</td><td>play count: 4</td></tr><tr><td><img src=https://api-assets.clashroyale.com/cards/300/cjC9n4AvEZJ3urkVh-rwBkJ-aRSsydIMqSAV48hAih0.png style=\"height:75px\"></td><td><img src=https://api-assets.clashroyale.com/cards/300/qBipxLo-3hhCnPrApp2Nn3b2NgrSrvwzWytvREev0CY.png style=\"height:75px\"></td><td><img src=https://api-assets.clashroyale.com/cards/300/M7fXlrKXHu2IvpSGpk36kXVstslbR08Bbxcy0jQcln8.png style=\"height:75px\"></td><td><img src=https://api-assets.clashroyale.com/cards/300/I1M20_Zs_p_BS1NaNIVQjuMJkYI_1-ePtwYZahn0JXQ.png style=\"height:75px\"></td><td><img src=https://api-assets.clashroyale.com/cards/300/W3dkw0HTw9n1jB-zbknY2w3wHuyuLxSRIAV5fUT1SEY.png style=\"height:75px\"></td><td><img src=https://api-assets.clashroyale.com/cards/300/MlArURKhn_zWAZY-Xj1qIRKLVKquarG25BXDjUQajNs.png style=\"height:75px\"></td><td><img src=https://api-assets.clashroyale.com/cards/300/QJB-QK1QJHdw4hjpAwVSyZBozc2ZWAR9pQ-SMUyKaT0.png style=\"height:75px\"></td><td><img src=https://api-assets.clashroyale.com/cards/300/7dxh2-yCBy1x44GrBaL29vjqnEEeJXHEAlsi5g6D1eY.png style=\"height:75px\"></td><td>6/8 same cards</td><td>score: 0.75000</td><td>play count: 2</td></tr><tr><td><img src=https://api-assets.clashroyale.com/cards/300/cjC9n4AvEZJ3urkVh-rwBkJ-aRSsydIMqSAV48hAih0.png style=\"height:75px\"></td><td><img src=https://api-assets.clashroyale.com/cards/300/SU4qFXmbQXWjvASxVI6z9IJuTYolx4A0MKK90sTIE88.png style=\"height:75px\"></td><td><img src=https://api-assets.clashroyale.com/cards/300/9XL5BP2mqzV8kza6KF8rOxrpCZTyuGLp2l413DTjEoM.png style=\"height:75px\"></td><td><img src=https://api-assets.clashroyale.com/cards/300/I1M20_Zs_p_BS1NaNIVQjuMJkYI_1-ePtwYZahn0JXQ.png style=\"height:75px\"></td><td><img src=https://api-assets.clashroyale.com/cards/300/Icp8BIyyfBTj1ncCJS7mb82SY7TPV-MAE-J2L2R48DI.png style=\"height:75px\"></td><td><img src=https://api-assets.clashroyale.com/cards/300/1ArKfLJxYo6_NU_S9cAeIrfbXqWH0oULVJXedxBXQlU.png style=\"height:75px\"></td><td><img src=https://api-assets.clashroyale.com/cards/300/W3dkw0HTw9n1jB-zbknY2w3wHuyuLxSRIAV5fUT1SEY.png style=\"height:75px\"></td><td><img src=https://api-assets.clashroyale.com/cards/300/QJB-QK1QJHdw4hjpAwVSyZBozc2ZWAR9pQ-SMUyKaT0.png style=\"height:75px\"></td><td>5/8 same cards</td><td>score: 0.62500</td><td>play count: 1</td></tr><tr><td><img src=https://api-assets.clashroyale.com/cards/300/cjC9n4AvEZJ3urkVh-rwBkJ-aRSsydIMqSAV48hAih0.png style=\"height:75px\"></td><td><img src=https://api-assets.clashroyale.com/cards/300/SU4qFXmbQXWjvASxVI6z9IJuTYolx4A0MKK90sTIE88.png style=\"height:75px\"></td><td><img src=https://api-assets.clashroyale.com/cards/300/I1M20_Zs_p_BS1NaNIVQjuMJkYI_1-ePtwYZahn0JXQ.png style=\"height:75px\"></td><td><img src=https://api-assets.clashroyale.com/cards/300/Icp8BIyyfBTj1ncCJS7mb82SY7TPV-MAE-J2L2R48DI.png style=\"height:75px\"></td><td><img src=https://api-assets.clashroyale.com/cards/300/1ArKfLJxYo6_NU_S9cAeIrfbXqWH0oULVJXedxBXQlU.png style=\"height:75px\"></td><td><img src=https://api-assets.clashroyale.com/cards/300/W3dkw0HTw9n1jB-zbknY2w3wHuyuLxSRIAV5fUT1SEY.png style=\"height:75px\"></td><td><img src=https://api-assets.clashroyale.com/cards/300/y5HDbKtTbWG6En6TGWU0xoVIGs1-iQpIP4HC-VM7u8A.png style=\"height:75px\"></td><td><img src=https://api-assets.clashroyale.com/cards/300/QJB-QK1QJHdw4hjpAwVSyZBozc2ZWAR9pQ-SMUyKaT0.png style=\"height:75px\"></td><td>5/8 same cards</td><td>score: 0.62500</td><td>play count: 3</td></tr></table>"
      ],
      "text/plain": [
       "<IPython.core.display.HTML object>"
      ]
     },
     "metadata": {},
     "output_type": "display_data"
    },
    {
     "name": "stdout",
     "output_type": "stream",
     "text": [
      "\n",
      "50/50 Blended Recommendations:\n"
     ]
    },
    {
     "data": {
      "text/html": [
       "<table><tr><td><img src=https://api-assets.clashroyale.com/cards/300/cjC9n4AvEZJ3urkVh-rwBkJ-aRSsydIMqSAV48hAih0.png style=\"height:75px\"></td><td><img src=https://api-assets.clashroyale.com/cards/300/qBipxLo-3hhCnPrApp2Nn3b2NgrSrvwzWytvREev0CY.png style=\"height:75px\"></td><td><img src=https://api-assets.clashroyale.com/cards/300/I1M20_Zs_p_BS1NaNIVQjuMJkYI_1-ePtwYZahn0JXQ.png style=\"height:75px\"></td><td><img src=https://api-assets.clashroyale.com/cards/300/W3dkw0HTw9n1jB-zbknY2w3wHuyuLxSRIAV5fUT1SEY.png style=\"height:75px\"></td><td><img src=https://api-assets.clashroyale.com/cards/300/E6RWrnCuk13xMX5OE1EQtLEKTZQV6B78d00y8PlXt6Q.png style=\"height:75px\"></td><td><img src=https://api-assets.clashroyale.com/cards/300/MlArURKhn_zWAZY-Xj1qIRKLVKquarG25BXDjUQajNs.png style=\"height:75px\"></td><td><img src=https://api-assets.clashroyale.com/cards/300/QJB-QK1QJHdw4hjpAwVSyZBozc2ZWAR9pQ-SMUyKaT0.png style=\"height:75px\"></td><td><img src=https://api-assets.clashroyale.com/cards/300/7dxh2-yCBy1x44GrBaL29vjqnEEeJXHEAlsi5g6D1eY.png style=\"height:75px\"></td><td>6/8 same cards</td><td>score: 0.86992</td><td>play count: 32</td></tr><tr><td><img src=https://api-assets.clashroyale.com/cards/300/cjC9n4AvEZJ3urkVh-rwBkJ-aRSsydIMqSAV48hAih0.png style=\"height:75px\"></td><td><img src=https://api-assets.clashroyale.com/cards/300/qBipxLo-3hhCnPrApp2Nn3b2NgrSrvwzWytvREev0CY.png style=\"height:75px\"></td><td><img src=https://api-assets.clashroyale.com/cards/300/M7fXlrKXHu2IvpSGpk36kXVstslbR08Bbxcy0jQcln8.png style=\"height:75px\"></td><td><img src=https://api-assets.clashroyale.com/cards/300/I1M20_Zs_p_BS1NaNIVQjuMJkYI_1-ePtwYZahn0JXQ.png style=\"height:75px\"></td><td><img src=https://api-assets.clashroyale.com/cards/300/W3dkw0HTw9n1jB-zbknY2w3wHuyuLxSRIAV5fUT1SEY.png style=\"height:75px\"></td><td><img src=https://api-assets.clashroyale.com/cards/300/MlArURKhn_zWAZY-Xj1qIRKLVKquarG25BXDjUQajNs.png style=\"height:75px\"></td><td><img src=https://api-assets.clashroyale.com/cards/300/QJB-QK1QJHdw4hjpAwVSyZBozc2ZWAR9pQ-SMUyKaT0.png style=\"height:75px\"></td><td><img src=https://api-assets.clashroyale.com/cards/300/7dxh2-yCBy1x44GrBaL29vjqnEEeJXHEAlsi5g6D1eY.png style=\"height:75px\"></td><td>6/8 same cards</td><td>score: 0.86899</td><td>play count: 2</td></tr><tr><td><img src=https://api-assets.clashroyale.com/cards/300/cjC9n4AvEZJ3urkVh-rwBkJ-aRSsydIMqSAV48hAih0.png style=\"height:75px\"></td><td><img src=https://api-assets.clashroyale.com/cards/300/qBipxLo-3hhCnPrApp2Nn3b2NgrSrvwzWytvREev0CY.png style=\"height:75px\"></td><td><img src=https://api-assets.clashroyale.com/cards/300/I1M20_Zs_p_BS1NaNIVQjuMJkYI_1-ePtwYZahn0JXQ.png style=\"height:75px\"></td><td><img src=https://api-assets.clashroyale.com/cards/300/W3dkw0HTw9n1jB-zbknY2w3wHuyuLxSRIAV5fUT1SEY.png style=\"height:75px\"></td><td><img src=https://api-assets.clashroyale.com/cards/300/E6RWrnCuk13xMX5OE1EQtLEKTZQV6B78d00y8PlXt6Q.png style=\"height:75px\"></td><td><img src=https://api-assets.clashroyale.com/cards/300/Y4yWvdwBCg2FpAZgs8T09Gy34WOwpLZW-ttL52Ae8NE.png style=\"height:75px\"></td><td><img src=https://api-assets.clashroyale.com/cards/300/MlArURKhn_zWAZY-Xj1qIRKLVKquarG25BXDjUQajNs.png style=\"height:75px\"></td><td><img src=https://api-assets.clashroyale.com/cards/300/QJB-QK1QJHdw4hjpAwVSyZBozc2ZWAR9pQ-SMUyKaT0.png style=\"height:75px\"></td><td>6/8 same cards</td><td>score: 0.85829</td><td>play count: 4</td></tr><tr><td><img src=https://api-assets.clashroyale.com/cards/300/qBipxLo-3hhCnPrApp2Nn3b2NgrSrvwzWytvREev0CY.png style=\"height:75px\"></td><td><img src=https://api-assets.clashroyale.com/cards/300/I1M20_Zs_p_BS1NaNIVQjuMJkYI_1-ePtwYZahn0JXQ.png style=\"height:75px\"></td><td><img src=https://api-assets.clashroyale.com/cards/300/W3dkw0HTw9n1jB-zbknY2w3wHuyuLxSRIAV5fUT1SEY.png style=\"height:75px\"></td><td><img src=https://api-assets.clashroyale.com/cards/300/E6RWrnCuk13xMX5OE1EQtLEKTZQV6B78d00y8PlXt6Q.png style=\"height:75px\"></td><td><img src=https://api-assets.clashroyale.com/cards/300/yHGpoEnmUWPGV_hBbhn-Kk-Bs838OjGzWzJJlQpQKQA.png style=\"height:75px\"></td><td><img src=https://api-assets.clashroyale.com/cards/300/MlArURKhn_zWAZY-Xj1qIRKLVKquarG25BXDjUQajNs.png style=\"height:75px\"></td><td><img src=https://api-assets.clashroyale.com/cards/300/QJB-QK1QJHdw4hjpAwVSyZBozc2ZWAR9pQ-SMUyKaT0.png style=\"height:75px\"></td><td><img src=https://api-assets.clashroyale.com/cards/300/7dxh2-yCBy1x44GrBaL29vjqnEEeJXHEAlsi5g6D1eY.png style=\"height:75px\"></td><td>5/8 same cards</td><td>score: 0.81178</td><td>play count: 1</td></tr><tr><td><img src=https://api-assets.clashroyale.com/cards/300/qBipxLo-3hhCnPrApp2Nn3b2NgrSrvwzWytvREev0CY.png style=\"height:75px\"></td><td><img src=https://api-assets.clashroyale.com/cards/300/1ArKfLJxYo6_NU_S9cAeIrfbXqWH0oULVJXedxBXQlU.png style=\"height:75px\"></td><td><img src=https://api-assets.clashroyale.com/cards/300/W3dkw0HTw9n1jB-zbknY2w3wHuyuLxSRIAV5fUT1SEY.png style=\"height:75px\"></td><td><img src=https://api-assets.clashroyale.com/cards/300/E6RWrnCuk13xMX5OE1EQtLEKTZQV6B78d00y8PlXt6Q.png style=\"height:75px\"></td><td><img src=https://api-assets.clashroyale.com/cards/300/MlArURKhn_zWAZY-Xj1qIRKLVKquarG25BXDjUQajNs.png style=\"height:75px\"></td><td><img src=https://api-assets.clashroyale.com/cards/300/QJB-QK1QJHdw4hjpAwVSyZBozc2ZWAR9pQ-SMUyKaT0.png style=\"height:75px\"></td><td><img src=https://api-assets.clashroyale.com/cards/300/Mej7vnv4H_3p_8qPs_N6_GKahy6HDr7pU7i9eTHS84U.png style=\"height:75px\"></td><td><img src=https://api-assets.clashroyale.com/cards/300/7dxh2-yCBy1x44GrBaL29vjqnEEeJXHEAlsi5g6D1eY.png style=\"height:75px\"></td><td>5/8 same cards</td><td>score: 0.80879</td><td>play count: 3</td></tr></table>"
      ],
      "text/plain": [
       "<IPython.core.display.HTML object>"
      ]
     },
     "metadata": {},
     "output_type": "display_data"
    },
    {
     "name": "stdout",
     "output_type": "stream",
     "text": [
      "\n",
      "50/50 Blended WinCon Recommendations:\n"
     ]
    },
    {
     "data": {
      "text/html": [
       "<table><tr><td><img src=https://api-assets.clashroyale.com/cards/300/qBipxLo-3hhCnPrApp2Nn3b2NgrSrvwzWytvREev0CY.png style=\"height:75px\"></td><td><img src=https://api-assets.clashroyale.com/cards/300/I1M20_Zs_p_BS1NaNIVQjuMJkYI_1-ePtwYZahn0JXQ.png style=\"height:75px\"></td><td><img src=https://api-assets.clashroyale.com/cards/300/W3dkw0HTw9n1jB-zbknY2w3wHuyuLxSRIAV5fUT1SEY.png style=\"height:75px\"></td><td><img src=https://api-assets.clashroyale.com/cards/300/E6RWrnCuk13xMX5OE1EQtLEKTZQV6B78d00y8PlXt6Q.png style=\"height:75px\"></td><td><img src=https://api-assets.clashroyale.com/cards/300/yHGpoEnmUWPGV_hBbhn-Kk-Bs838OjGzWzJJlQpQKQA.png style=\"height:75px\"></td><td><img src=https://api-assets.clashroyale.com/cards/300/MlArURKhn_zWAZY-Xj1qIRKLVKquarG25BXDjUQajNs.png style=\"height:75px\"></td><td><img src=https://api-assets.clashroyale.com/cards/300/QJB-QK1QJHdw4hjpAwVSyZBozc2ZWAR9pQ-SMUyKaT0.png style=\"height:75px\"></td><td><img src=https://api-assets.clashroyale.com/cards/300/7dxh2-yCBy1x44GrBaL29vjqnEEeJXHEAlsi5g6D1eY.png style=\"height:75px\"></td><td>5/8 same cards</td><td>score: 0.99928</td><td>play count: 1</td></tr><tr><td><img src=https://api-assets.clashroyale.com/cards/300/qBipxLo-3hhCnPrApp2Nn3b2NgrSrvwzWytvREev0CY.png style=\"height:75px\"></td><td><img src=https://api-assets.clashroyale.com/cards/300/RsFaHgB3w6vXsTjXdPr3x8l_GbV9TbOUCvIx07prbrQ.png style=\"height:75px\"></td><td><img src=https://api-assets.clashroyale.com/cards/300/NHflxzVAQT4oAz7eDfdueqpictb5vrWezn1nuqFhE4w.png style=\"height:75px\"></td><td><img src=https://api-assets.clashroyale.com/cards/300/r05cmpwV1o7i7FHodtZwW3fmjbXCW34IJCsDEV5cZC4.png style=\"height:75px\"></td><td><img src=https://api-assets.clashroyale.com/cards/300/yHGpoEnmUWPGV_hBbhn-Kk-Bs838OjGzWzJJlQpQKQA.png style=\"height:75px\"></td><td><img src=https://api-assets.clashroyale.com/cards/300/MlArURKhn_zWAZY-Xj1qIRKLVKquarG25BXDjUQajNs.png style=\"height:75px\"></td><td><img src=https://api-assets.clashroyale.com/cards/300/98HDkG2189yOULcVG9jz2QbJKtfuhH21DIrIjkOjxI8.png style=\"height:75px\"></td><td><img src=https://api-assets.clashroyale.com/cards/300/7dxh2-yCBy1x44GrBaL29vjqnEEeJXHEAlsi5g6D1eY.png style=\"height:75px\"></td><td>2/8 same cards</td><td>score: 0.99913</td><td>play count: 2</td></tr><tr><td><img src=https://api-assets.clashroyale.com/cards/300/W4Hmp8MTSdXANN8KdblbtHwtsbt0o749BbxNqmJYfA8.png style=\"height:75px\"></td><td><img src=https://api-assets.clashroyale.com/cards/300/qBipxLo-3hhCnPrApp2Nn3b2NgrSrvwzWytvREev0CY.png style=\"height:75px\"></td><td><img src=https://api-assets.clashroyale.com/cards/300/I1M20_Zs_p_BS1NaNIVQjuMJkYI_1-ePtwYZahn0JXQ.png style=\"height:75px\"></td><td><img src=https://api-assets.clashroyale.com/cards/300/Tex1C48UTq9FKtAX-3tzG0FJmc9jzncUZG3bb5Vf-Ds.png style=\"height:75px\"></td><td><img src=https://api-assets.clashroyale.com/cards/300/MlArURKhn_zWAZY-Xj1qIRKLVKquarG25BXDjUQajNs.png style=\"height:75px\"></td><td><img src=https://api-assets.clashroyale.com/cards/300/OiwnGrxFMNiHetYEerE-UZt0L_uYNzFY7qV_CA_OxR4.png style=\"height:75px\"></td><td><img src=https://api-assets.clashroyale.com/cards/300/_iDwuDLexHPFZ_x4_a0eP-rxCS6vwWgTs6DLauwwoaY.png style=\"height:75px\"></td><td><img src=https://api-assets.clashroyale.com/cards/300/7dxh2-yCBy1x44GrBaL29vjqnEEeJXHEAlsi5g6D1eY.png style=\"height:75px\"></td><td>3/8 same cards</td><td>score: 0.99824</td><td>play count: 1</td></tr><tr><td><img src=https://api-assets.clashroyale.com/cards/300/qBipxLo-3hhCnPrApp2Nn3b2NgrSrvwzWytvREev0CY.png style=\"height:75px\"></td><td><img src=https://api-assets.clashroyale.com/cards/300/7MaJLa6hK9WN2_VIshuh5DIDfGwm0wEv98gXtAxLDPs.png style=\"height:75px\"></td><td><img src=https://api-assets.clashroyale.com/cards/300/lv1budiafU9XmSdrDkk0NYyqASAFYyZ06CPysXKZXlA.png style=\"height:75px\"></td><td><img src=https://api-assets.clashroyale.com/cards/300/E6RWrnCuk13xMX5OE1EQtLEKTZQV6B78d00y8PlXt6Q.png style=\"height:75px\"></td><td><img src=https://api-assets.clashroyale.com/cards/300/MlArURKhn_zWAZY-Xj1qIRKLVKquarG25BXDjUQajNs.png style=\"height:75px\"></td><td><img src=https://api-assets.clashroyale.com/cards/300/QJB-QK1QJHdw4hjpAwVSyZBozc2ZWAR9pQ-SMUyKaT0.png style=\"height:75px\"></td><td><img src=https://api-assets.clashroyale.com/cards/300/Mej7vnv4H_3p_8qPs_N6_GKahy6HDr7pU7i9eTHS84U.png style=\"height:75px\"></td><td><img src=https://api-assets.clashroyale.com/cards/300/7dxh2-yCBy1x44GrBaL29vjqnEEeJXHEAlsi5g6D1eY.png style=\"height:75px\"></td><td>4/8 same cards</td><td>score: 0.99804</td><td>play count: 1</td></tr><tr><td><img src=https://api-assets.clashroyale.com/cards/300/Flsoci-Y6y8ZFVi5uRFTmgkPnCmMyMVrU7YmmuPvSBo.png style=\"height:75px\"></td><td><img src=https://api-assets.clashroyale.com/cards/300/qBipxLo-3hhCnPrApp2Nn3b2NgrSrvwzWytvREev0CY.png style=\"height:75px\"></td><td><img src=https://api-assets.clashroyale.com/cards/300/EnIcvO21hxiNpoI-zO6MDjLmzwPbq8Z4JPo2OKoVUjU.png style=\"height:75px\"></td><td><img src=https://api-assets.clashroyale.com/cards/300/E6RWrnCuk13xMX5OE1EQtLEKTZQV6B78d00y8PlXt6Q.png style=\"height:75px\"></td><td><img src=https://api-assets.clashroyale.com/cards/300/Avli3W7BxU9HQ2SoLiXnBgGx25FoNXUSFm7OcAk68ek.png style=\"height:75px\"></td><td><img src=https://api-assets.clashroyale.com/cards/300/MlArURKhn_zWAZY-Xj1qIRKLVKquarG25BXDjUQajNs.png style=\"height:75px\"></td><td><img src=https://api-assets.clashroyale.com/cards/300/fAOToOi1pRy7svN2xQS6mDkhQw2pj9m_17FauaNqyl4.png style=\"height:75px\"></td><td><img src=https://api-assets.clashroyale.com/cards/300/7dxh2-yCBy1x44GrBaL29vjqnEEeJXHEAlsi5g6D1eY.png style=\"height:75px\"></td><td>2/8 same cards</td><td>score: 0.99705</td><td>play count: 1</td></tr></table>"
      ],
      "text/plain": [
       "<IPython.core.display.HTML object>"
      ]
     },
     "metadata": {},
     "output_type": "display_data"
    },
    {
     "name": "stdout",
     "output_type": "stream",
     "text": [
      "\n",
      "50/50 Blended WinCon Recommendations + Play Counts:\n"
     ]
    },
    {
     "data": {
      "text/html": [
       "<table><tr><td><img src=https://api-assets.clashroyale.com/cards/300/qBipxLo-3hhCnPrApp2Nn3b2NgrSrvwzWytvREev0CY.png style=\"height:75px\"></td><td><img src=https://api-assets.clashroyale.com/cards/300/I1M20_Zs_p_BS1NaNIVQjuMJkYI_1-ePtwYZahn0JXQ.png style=\"height:75px\"></td><td><img src=https://api-assets.clashroyale.com/cards/300/W3dkw0HTw9n1jB-zbknY2w3wHuyuLxSRIAV5fUT1SEY.png style=\"height:75px\"></td><td><img src=https://api-assets.clashroyale.com/cards/300/E6RWrnCuk13xMX5OE1EQtLEKTZQV6B78d00y8PlXt6Q.png style=\"height:75px\"></td><td><img src=https://api-assets.clashroyale.com/cards/300/-T_e4YLbuhPBKbYnBwQfXgynNpp5eOIN_0RracYwL9c.png style=\"height:75px\"></td><td><img src=https://api-assets.clashroyale.com/cards/300/MlArURKhn_zWAZY-Xj1qIRKLVKquarG25BXDjUQajNs.png style=\"height:75px\"></td><td><img src=https://api-assets.clashroyale.com/cards/300/QJB-QK1QJHdw4hjpAwVSyZBozc2ZWAR9pQ-SMUyKaT0.png style=\"height:75px\"></td><td><img src=https://api-assets.clashroyale.com/cards/300/7dxh2-yCBy1x44GrBaL29vjqnEEeJXHEAlsi5g6D1eY.png style=\"height:75px\"></td><td>5/8 same cards</td><td>score: 0.99799</td><td>play count: 34</td></tr><tr><td><img src=https://api-assets.clashroyale.com/cards/300/W4Hmp8MTSdXANN8KdblbtHwtsbt0o749BbxNqmJYfA8.png style=\"height:75px\"></td><td><img src=https://api-assets.clashroyale.com/cards/300/qBipxLo-3hhCnPrApp2Nn3b2NgrSrvwzWytvREev0CY.png style=\"height:75px\"></td><td><img src=https://api-assets.clashroyale.com/cards/300/Gb0G1yNy0i5cIGUHin8uoFWxqntNtRPhY_jeMXg7HnA.png style=\"height:75px\"></td><td><img src=https://api-assets.clashroyale.com/cards/300/RsFaHgB3w6vXsTjXdPr3x8l_GbV9TbOUCvIx07prbrQ.png style=\"height:75px\"></td><td><img src=https://api-assets.clashroyale.com/cards/300/7MaJLa6hK9WN2_VIshuh5DIDfGwm0wEv98gXtAxLDPs.png style=\"height:75px\"></td><td><img src=https://api-assets.clashroyale.com/cards/300/E6RWrnCuk13xMX5OE1EQtLEKTZQV6B78d00y8PlXt6Q.png style=\"height:75px\"></td><td><img src=https://api-assets.clashroyale.com/cards/300/MlArURKhn_zWAZY-Xj1qIRKLVKquarG25BXDjUQajNs.png style=\"height:75px\"></td><td><img src=https://api-assets.clashroyale.com/cards/300/oO7iKMU5m0cdxhYPZA3nWQiAUh2yoGgdThLWB1rVSec.png style=\"height:75px\"></td><td>2/8 same cards</td><td>score: 0.99762</td><td>play count: 5</td></tr><tr><td><img src=https://api-assets.clashroyale.com/cards/300/cjC9n4AvEZJ3urkVh-rwBkJ-aRSsydIMqSAV48hAih0.png style=\"height:75px\"></td><td><img src=https://api-assets.clashroyale.com/cards/300/qBipxLo-3hhCnPrApp2Nn3b2NgrSrvwzWytvREev0CY.png style=\"height:75px\"></td><td><img src=https://api-assets.clashroyale.com/cards/300/I1M20_Zs_p_BS1NaNIVQjuMJkYI_1-ePtwYZahn0JXQ.png style=\"height:75px\"></td><td><img src=https://api-assets.clashroyale.com/cards/300/W3dkw0HTw9n1jB-zbknY2w3wHuyuLxSRIAV5fUT1SEY.png style=\"height:75px\"></td><td><img src=https://api-assets.clashroyale.com/cards/300/E6RWrnCuk13xMX5OE1EQtLEKTZQV6B78d00y8PlXt6Q.png style=\"height:75px\"></td><td><img src=https://api-assets.clashroyale.com/cards/300/MlArURKhn_zWAZY-Xj1qIRKLVKquarG25BXDjUQajNs.png style=\"height:75px\"></td><td><img src=https://api-assets.clashroyale.com/cards/300/QJB-QK1QJHdw4hjpAwVSyZBozc2ZWAR9pQ-SMUyKaT0.png style=\"height:75px\"></td><td><img src=https://api-assets.clashroyale.com/cards/300/7dxh2-yCBy1x44GrBaL29vjqnEEeJXHEAlsi5g6D1eY.png style=\"height:75px\"></td><td>6/8 same cards</td><td>score: 0.99746</td><td>play count: 32</td></tr><tr><td><img src=https://api-assets.clashroyale.com/cards/300/cjC9n4AvEZJ3urkVh-rwBkJ-aRSsydIMqSAV48hAih0.png style=\"height:75px\"></td><td><img src=https://api-assets.clashroyale.com/cards/300/qBipxLo-3hhCnPrApp2Nn3b2NgrSrvwzWytvREev0CY.png style=\"height:75px\"></td><td><img src=https://api-assets.clashroyale.com/cards/300/lZD9MILQv7O-P3XBr_xOLS5idwuz3_7Ws9G60U36yhc.png style=\"height:75px\"></td><td><img src=https://api-assets.clashroyale.com/cards/300/W3dkw0HTw9n1jB-zbknY2w3wHuyuLxSRIAV5fUT1SEY.png style=\"height:75px\"></td><td><img src=https://api-assets.clashroyale.com/cards/300/E6RWrnCuk13xMX5OE1EQtLEKTZQV6B78d00y8PlXt6Q.png style=\"height:75px\"></td><td><img src=https://api-assets.clashroyale.com/cards/300/MlArURKhn_zWAZY-Xj1qIRKLVKquarG25BXDjUQajNs.png style=\"height:75px\"></td><td><img src=https://api-assets.clashroyale.com/cards/300/QJB-QK1QJHdw4hjpAwVSyZBozc2ZWAR9pQ-SMUyKaT0.png style=\"height:75px\"></td><td><img src=https://api-assets.clashroyale.com/cards/300/7dxh2-yCBy1x44GrBaL29vjqnEEeJXHEAlsi5g6D1eY.png style=\"height:75px\"></td><td>5/8 same cards</td><td>score: 0.99453</td><td>play count: 6</td></tr><tr><td><img src=https://api-assets.clashroyale.com/cards/300/qBipxLo-3hhCnPrApp2Nn3b2NgrSrvwzWytvREev0CY.png style=\"height:75px\"></td><td><img src=https://api-assets.clashroyale.com/cards/300/EnIcvO21hxiNpoI-zO6MDjLmzwPbq8Z4JPo2OKoVUjU.png style=\"height:75px\"></td><td><img src=https://api-assets.clashroyale.com/cards/300/9XL5BP2mqzV8kza6KF8rOxrpCZTyuGLp2l413DTjEoM.png style=\"height:75px\"></td><td><img src=https://api-assets.clashroyale.com/cards/300/c1rL3LO1U2D9-TkeFfAC18gP3AO8ztSwrcHMZplwL2Q.png style=\"height:75px\"></td><td><img src=https://api-assets.clashroyale.com/cards/300/E6RWrnCuk13xMX5OE1EQtLEKTZQV6B78d00y8PlXt6Q.png style=\"height:75px\"></td><td><img src=https://api-assets.clashroyale.com/cards/300/-T_e4YLbuhPBKbYnBwQfXgynNpp5eOIN_0RracYwL9c.png style=\"height:75px\"></td><td><img src=https://api-assets.clashroyale.com/cards/300/MlArURKhn_zWAZY-Xj1qIRKLVKquarG25BXDjUQajNs.png style=\"height:75px\"></td><td><img src=https://api-assets.clashroyale.com/cards/300/QJB-QK1QJHdw4hjpAwVSyZBozc2ZWAR9pQ-SMUyKaT0.png style=\"height:75px\"></td><td>3/8 same cards</td><td>score: 0.99359</td><td>play count: 6</td></tr><tr><td><img src=https://api-assets.clashroyale.com/cards/300/qBipxLo-3hhCnPrApp2Nn3b2NgrSrvwzWytvREev0CY.png style=\"height:75px\"></td><td><img src=https://api-assets.clashroyale.com/cards/300/1ArKfLJxYo6_NU_S9cAeIrfbXqWH0oULVJXedxBXQlU.png style=\"height:75px\"></td><td><img src=https://api-assets.clashroyale.com/cards/300/W3dkw0HTw9n1jB-zbknY2w3wHuyuLxSRIAV5fUT1SEY.png style=\"height:75px\"></td><td><img src=https://api-assets.clashroyale.com/cards/300/E6RWrnCuk13xMX5OE1EQtLEKTZQV6B78d00y8PlXt6Q.png style=\"height:75px\"></td><td><img src=https://api-assets.clashroyale.com/cards/300/MlArURKhn_zWAZY-Xj1qIRKLVKquarG25BXDjUQajNs.png style=\"height:75px\"></td><td><img src=https://api-assets.clashroyale.com/cards/300/QJB-QK1QJHdw4hjpAwVSyZBozc2ZWAR9pQ-SMUyKaT0.png style=\"height:75px\"></td><td><img src=https://api-assets.clashroyale.com/cards/300/Mej7vnv4H_3p_8qPs_N6_GKahy6HDr7pU7i9eTHS84U.png style=\"height:75px\"></td><td><img src=https://api-assets.clashroyale.com/cards/300/7dxh2-yCBy1x44GrBaL29vjqnEEeJXHEAlsi5g6D1eY.png style=\"height:75px\"></td><td>5/8 same cards</td><td>score: 0.74814</td><td>play count: 3</td></tr></table>"
      ],
      "text/plain": [
       "<IPython.core.display.HTML object>"
      ]
     },
     "metadata": {},
     "output_type": "display_data"
    }
   ],
   "source": [
    "random_ind = np.random.choice(range(len(decks)))\n",
    "input_deck = None\n",
    "\n",
    "if not input_deck:\n",
    "    input_deck = decks[random_ind]\n",
    "\n",
    "stat_embedding = normalize(np.percentile(np.array([stats_dict[c] for c in input_deck]), list(np.arange(0,percentile_max,percentile_step)), axis=0).flatten().reshape(-1, 1), norm='l2', axis=0).reshape(1,-1)[0]\n",
    "\n",
    "onehot_embedding = np.zeros(len(card_stats['name']))\n",
    "for card in input_deck:\n",
    "    onehot_embedding[card2ind[card]] = 1\n",
    "onehot_embedding = normalize(onehot_embedding.reshape(-1, 1), norm='l2', axis=0).reshape(1,-1)[0]\n",
    "\n",
    "onehot_wincon_embedding = np.zeros(len(card_stats['name']))\n",
    "for card in input_deck:\n",
    "    wincon_index = wincon2ind.get(card)\n",
    "    if wincon_index:\n",
    "        onehot_wincon_embedding[wincon_index] = 1\n",
    "onehot_wincon_embedding = normalize(onehot_wincon_embedding.reshape(-1, 1), norm='l2', axis=0).reshape(1,-1)[0]\n",
    "\n",
    "rec_sims = stat_embedding.dot(deck_matrix.T)\n",
    "onehot_rec_sims = onehot_embedding.dot(one_hot_deck_matrix.T)\n",
    "blended_sims = rec_sims*.5 + onehot_rec_sims*.5\n",
    "blended_wincon_rec_sims = onehot_wincon_embedding.dot(one_hot_wincon_deck_matrix.T)*.5 + rec_sims*.5\n",
    "\n",
    "rec_inds = np.argsort(rec_sims)[::-1][:n_recs]\n",
    "onehot_rec_inds = np.argsort(onehot_rec_sims)[::-1][:n_recs]\n",
    "blended_rec_inds = np.argsort(blended_sims)[::-1][:n_recs]\n",
    "blended_wincon_rec_inds = np.argsort(blended_wincon_rec_sims)[::-1]\n",
    "blended_wincon_playcount_rec_decks = [(decks[ind], blended_wincon_rec_sims[ind]*0.5+normed_deck_counts[str(decks[ind])]*0.5) \\\n",
    "                                      for ind in blended_wincon_rec_inds[:50]]\n",
    "\n",
    "rec_dict_original = {}\n",
    "\n",
    "print('Input Deck:')\n",
    "display_decks([input_deck], input_deck, [1])\n",
    "\n",
    "print('\\nStats Recommendations:')\n",
    "rec_decks, rec_sims = get_decks_sims(rec_inds, rec_sims[rec_inds], input_deck)\n",
    "rec_dict_original['card_constants_recs'] = rec_decks\n",
    "display_decks(rec_decks, input_deck, rec_sims)\n",
    "    \n",
    "print('\\nOne-Hot Recommendations:')\n",
    "rec_decks, rec_sims = get_decks_sims(onehot_rec_inds, onehot_rec_sims[onehot_rec_inds], input_deck)\n",
    "rec_dict_original['one_hot_recs'] = rec_decks\n",
    "display_decks(rec_decks, input_deck, rec_sims)\n",
    "\n",
    "print('\\n50/50 Blended Recommendations:')\n",
    "rec_decks, rec_sims = get_decks_sims(blended_rec_inds, blended_sims[blended_rec_inds], input_deck)\n",
    "rec_dict_original['5050_blended_recs'] = rec_decks\n",
    "display_decks(rec_decks, input_deck, rec_sims)\n",
    "\n",
    "print('\\n50/50 Blended WinCon Recommendations:')\n",
    "rec_decks, rec_sims = get_decks_sims(blended_wincon_rec_inds[:n_recs], blended_wincon_rec_sims[blended_wincon_rec_inds[:n_recs]], input_deck)\n",
    "rec_dict_original['5050_blended_wincon_recs'] = rec_decks\n",
    "display_decks(rec_decks, input_deck, rec_sims)\n",
    "\n",
    "print('\\n50/50 Blended WinCon Recommendations + Play Counts:')\n",
    "rec_decks = [] \n",
    "rec_sims = []\n",
    "for deck, sim in sorted(blended_wincon_playcount_rec_decks, key=operator.itemgetter(1), reverse=True):\n",
    "    rec_decks.append(deck)\n",
    "    rec_sims.append(sim)\n",
    "rec_decks, rec_sims = get_decks_sims2(rec_decks[:n_recs], rec_sims[:n_recs], input_deck)\n",
    "rec_dict_original['5050_blended_wincon_playcount_recs'] = rec_decks\n",
    "display_decks(rec_decks, input_deck, rec_sims)"
   ]
  },
  {
   "cell_type": "code",
   "execution_count": 17,
   "metadata": {},
   "outputs": [],
   "source": [
    "# Develop function for GCF\n",
    "\n",
    "STATS_DICT = pickle.loads(open('../../../100k_gc_deck_models/stats_dict.p', 'rb').read()) # same\n",
    "CARD2IND = pickle.loads(open('../../../100k_gc_deck_models/card2ind.p', 'rb').read()) # same\n",
    "WINCON2IND = pickle.loads(open('../../../100k_gc_deck_models/wincon2ind.p', 'rb').read()) # same\n",
    "DECK_MATRIX = pickle.loads(open('../../../100k_gc_deck_models/deck_matrix.p', 'rb').read()) # different\n",
    "ONE_HOT_DECK_MATRIX = pickle.loads(open('../../../100k_gc_deck_models/one_hot_deck_matrix.p', 'rb').read()) # different\n",
    "ONE_HOT_WINCON_DECK_MATRIX = pickle.loads(open('../../../100k_gc_deck_models/one_hot_wincon_deck_matrix.p', 'rb').read()) # different\n",
    "NORMED_DECK_COUNTS = pickle.loads(open('../../../100k_gc_deck_models/normed_deck_counts.p', 'rb').read()) # same\n",
    "DECKS = pickle.loads(open('../../../100k_gc_deck_models/decks.p', 'rb').read()) # different (maybe it stems from here?)\n",
    "\n",
    "def ind2deck(input_inds, input_deck):\n",
    "    return [DECKS[r] for r in input_inds if DECKS[r] != input_deck]\n",
    "\n",
    "def predict(input_deck, n_recs=6):\n",
    "    rec_dict = {}\n",
    "    \n",
    "    # Make card stats embedding\n",
    "    stat_embedding = normalize(np.percentile(np.array([STATS_DICT[c] for c in input_deck]), \n",
    "                                             list(np.arange(0,105,5)), axis=0).flatten().reshape(-1, 1), norm='l2', axis=0).reshape(1,-1)[0]\n",
    "    \n",
    "    # Make one-hot embedding\n",
    "    onehot_embedding = np.zeros(99)\n",
    "    for card in input_deck:\n",
    "        onehot_embedding[CARD2IND[card]] = 1\n",
    "    onehot_embedding = normalize(onehot_embedding.reshape(-1, 1), norm='l2', axis=0).reshape(1,-1)[0]\n",
    "    \n",
    "    # Make one-hot/wincon embedding\n",
    "    onehot_wincon_embedding = np.zeros(99)\n",
    "    for card in input_deck:\n",
    "        wincon_index = WINCON2IND.get(card)\n",
    "        if wincon_index:\n",
    "            onehot_wincon_embedding[wincon_index] = 1\n",
    "    onehot_wincon_embedding = normalize(onehot_wincon_embedding.reshape(-1, 1), norm='l2', axis=0).reshape(1,-1)[0]\n",
    "\n",
    "    # Calculate recommendation sims and extract most similar indices\n",
    "    rec_sims = stat_embedding.dot(DECK_MATRIX.T)\n",
    "    onehot_rec_sims = onehot_embedding.dot(ONE_HOT_DECK_MATRIX.T)\n",
    "    blended_sims = rec_sims*.5 + onehot_rec_sims*.5\n",
    "    blended_wincon_rec_sims = onehot_wincon_embedding.dot(ONE_HOT_WINCON_DECK_MATRIX.T)*.5 + rec_sims*.5\n",
    "\n",
    "    rec_inds = np.argsort(rec_sims)[::-1][:n_recs]\n",
    "    onehot_rec_inds = np.argsort(onehot_rec_sims)[::-1][:n_recs]\n",
    "    blended_rec_inds = np.argsort(blended_sims)[::-1][:n_recs]\n",
    "    blended_wincon_rec_inds = np.argsort(blended_wincon_rec_sims)[::-1]\n",
    "    blended_wincon_playcount_rec_decks = [(DECKS[ind], blended_wincon_rec_sims[ind]*0.5+NORMED_DECK_COUNTS[str(DECKS[ind])]*0.5) \\\n",
    "                                          for ind in blended_wincon_rec_inds[:50]] # TODO: Change back to n_recs*10\n",
    "    \n",
    "    # Get stats recs\n",
    "    rec_dict['card_constants_recs'] = ind2deck(rec_inds, input_deck)\n",
    "    \n",
    "    # Get one-hot recs\n",
    "    rec_dict['one_hot_recs'] = ind2deck(onehot_rec_inds, input_deck)\n",
    "    \n",
    "    # Get 50/50 blended recs\n",
    "    rec_dict['5050_blended_recs'] = ind2deck(blended_rec_inds, input_deck)\n",
    "    \n",
    "    # Get 50/50 wincon blended recs\n",
    "    rec_dict['5050_blended_wincon_recs'] = ind2deck(blended_wincon_rec_inds[:n_recs], input_deck) \n",
    "    \n",
    "    # Get 50/50 wincon play count blended recs\n",
    "    rec_dict['5050_blended_wincon_playcount_recs'] = [deck for deck, sim in \\\n",
    "                                                       sorted(blended_wincon_playcount_rec_decks, key=operator.itemgetter(1), reverse=True)[:n_recs] \\\n",
    "                                                       if deck != input_deck]\n",
    "    \n",
    "    return rec_dict"
   ]
  },
  {
   "cell_type": "code",
   "execution_count": 18,
   "metadata": {},
   "outputs": [],
   "source": [
    "deck_predictions = predict(input_deck)"
   ]
  },
  {
   "cell_type": "code",
   "execution_count": 19,
   "metadata": {},
   "outputs": [
    {
     "data": {
      "text/plain": [
       "False"
      ]
     },
     "execution_count": 19,
     "metadata": {},
     "output_type": "execute_result"
    }
   ],
   "source": [
    "# Check whether everything is the same as before\n",
    "deck_predictions == rec_dict_original"
   ]
  },
  {
   "cell_type": "code",
   "execution_count": 82,
   "metadata": {},
   "outputs": [
    {
     "data": {
      "text/plain": [
       "False"
      ]
     },
     "execution_count": 82,
     "metadata": {},
     "output_type": "execute_result"
    }
   ],
   "source": [
    "random_ind = np.random.choice(range(len(decks)))\n",
    "input_deck = decks[random_ind]\n",
    "input_deck_str = ','.join(input_deck)\n",
    "\n",
    "notebook_rec_dict = predict(input_deck)\n",
    "gcf_rec_dict = requests.post('https://us-central1-royaleapp.cloudfunctions.net/gc100krecs', \n",
    "                             json={'input_deck':input_deck_str,'n_recs':6}).json()\n",
    "\n",
    "notebook_rec_dict == gcf_rec_dict['recs']"
   ]
  },
  {
   "cell_type": "code",
   "execution_count": 83,
   "metadata": {},
   "outputs": [
    {
     "data": {
      "text/plain": [
       "False"
      ]
     },
     "execution_count": 83,
     "metadata": {},
     "output_type": "execute_result"
    }
   ],
   "source": [
    "# Why are the one_hot_recs not equivalent? Looks like the files get saved differently each time?\n",
    "gcf_rec_dict['recs']['one_hot_recs'] == notebook_rec_dict['one_hot_recs']"
   ]
  },
  {
   "cell_type": "code",
   "execution_count": null,
   "metadata": {},
   "outputs": [],
   "source": []
  }
 ],
 "metadata": {
  "kernelspec": {
   "display_name": "Python 3",
   "language": "python",
   "name": "python3"
  },
  "language_info": {
   "codemirror_mode": {
    "name": "ipython",
    "version": 3
   },
   "file_extension": ".py",
   "mimetype": "text/x-python",
   "name": "python",
   "nbconvert_exporter": "python",
   "pygments_lexer": "ipython3",
   "version": "3.6.7"
  }
 },
 "nbformat": 4,
 "nbformat_minor": 2
}
