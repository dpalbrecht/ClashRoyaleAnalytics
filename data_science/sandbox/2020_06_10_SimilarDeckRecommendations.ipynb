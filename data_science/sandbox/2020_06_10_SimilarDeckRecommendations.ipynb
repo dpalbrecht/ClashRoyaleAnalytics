{
 "cells": [
  {
   "cell_type": "code",
   "execution_count": 1,
   "metadata": {},
   "outputs": [],
   "source": [
    "import pandas as pd\n",
    "import xlrd\n",
    "import numpy as np\n",
    "from scipy.spatial.distance import pdist, squareform\n",
    "import pickle\n",
    "from tqdm import tqdm\n",
    "from annoy import AnnoyIndex\n",
    "from sklearn.preprocessing import normalize\n",
    "import itertools\n",
    "from statsmodels.stats.proportion import proportion_confint\n",
    "from operator import itemgetter\n",
    "from collections import defaultdict\n",
    "import os\n",
    "from google.cloud import storage\n",
    "import json\n",
    "from tqdm import tqdm"
   ]
  },
  {
   "cell_type": "code",
   "execution_count": 2,
   "metadata": {},
   "outputs": [
    {
     "name": "stdout",
     "output_type": "stream",
     "text": [
      "(99, 35)\n"
     ]
    },
    {
     "data": {
      "text/html": [
       "<div>\n",
       "<style scoped>\n",
       "    .dataframe tbody tr th:only-of-type {\n",
       "        vertical-align: middle;\n",
       "    }\n",
       "\n",
       "    .dataframe tbody tr th {\n",
       "        vertical-align: top;\n",
       "    }\n",
       "\n",
       "    .dataframe thead th {\n",
       "        text-align: right;\n",
       "    }\n",
       "</style>\n",
       "<table border=\"1\" class=\"dataframe\">\n",
       "  <thead>\n",
       "    <tr style=\"text-align: right;\">\n",
       "      <th></th>\n",
       "      <th>name</th>\n",
       "      <th>rarity_common</th>\n",
       "      <th>rarity_rare</th>\n",
       "      <th>rarity_epic</th>\n",
       "      <th>rarity_legendary</th>\n",
       "      <th>troop</th>\n",
       "      <th>troop_ground</th>\n",
       "      <th>troop_air</th>\n",
       "      <th>building</th>\n",
       "      <th>spell</th>\n",
       "      <th>...</th>\n",
       "      <th>move_speed_very_fast</th>\n",
       "      <th>radius</th>\n",
       "      <th>width</th>\n",
       "      <th>range</th>\n",
       "      <th>range_melee_short</th>\n",
       "      <th>range_melee_medium</th>\n",
       "      <th>range_melee_long</th>\n",
       "      <th>spawner</th>\n",
       "      <th>duration</th>\n",
       "      <th>hitpoints</th>\n",
       "    </tr>\n",
       "  </thead>\n",
       "  <tbody>\n",
       "    <tr>\n",
       "      <th>0</th>\n",
       "      <td>Knight</td>\n",
       "      <td>1</td>\n",
       "      <td>0</td>\n",
       "      <td>0</td>\n",
       "      <td>0</td>\n",
       "      <td>1</td>\n",
       "      <td>1</td>\n",
       "      <td>0</td>\n",
       "      <td>0</td>\n",
       "      <td>0</td>\n",
       "      <td>...</td>\n",
       "      <td>0</td>\n",
       "      <td>0.0</td>\n",
       "      <td>0.0</td>\n",
       "      <td>0.0</td>\n",
       "      <td>0</td>\n",
       "      <td>1</td>\n",
       "      <td>0</td>\n",
       "      <td>0</td>\n",
       "      <td>0.0</td>\n",
       "      <td>1452.0</td>\n",
       "    </tr>\n",
       "    <tr>\n",
       "      <th>1</th>\n",
       "      <td>Archers</td>\n",
       "      <td>1</td>\n",
       "      <td>0</td>\n",
       "      <td>0</td>\n",
       "      <td>0</td>\n",
       "      <td>1</td>\n",
       "      <td>1</td>\n",
       "      <td>0</td>\n",
       "      <td>0</td>\n",
       "      <td>0</td>\n",
       "      <td>...</td>\n",
       "      <td>0</td>\n",
       "      <td>0.0</td>\n",
       "      <td>0.0</td>\n",
       "      <td>5.0</td>\n",
       "      <td>0</td>\n",
       "      <td>0</td>\n",
       "      <td>0</td>\n",
       "      <td>0</td>\n",
       "      <td>0.0</td>\n",
       "      <td>252.0</td>\n",
       "    </tr>\n",
       "    <tr>\n",
       "      <th>2</th>\n",
       "      <td>Goblins</td>\n",
       "      <td>1</td>\n",
       "      <td>0</td>\n",
       "      <td>0</td>\n",
       "      <td>0</td>\n",
       "      <td>1</td>\n",
       "      <td>1</td>\n",
       "      <td>0</td>\n",
       "      <td>0</td>\n",
       "      <td>0</td>\n",
       "      <td>...</td>\n",
       "      <td>1</td>\n",
       "      <td>0.0</td>\n",
       "      <td>0.0</td>\n",
       "      <td>0.0</td>\n",
       "      <td>1</td>\n",
       "      <td>0</td>\n",
       "      <td>0</td>\n",
       "      <td>0</td>\n",
       "      <td>0.0</td>\n",
       "      <td>167.0</td>\n",
       "    </tr>\n",
       "    <tr>\n",
       "      <th>3</th>\n",
       "      <td>Giant</td>\n",
       "      <td>0</td>\n",
       "      <td>1</td>\n",
       "      <td>0</td>\n",
       "      <td>0</td>\n",
       "      <td>1</td>\n",
       "      <td>1</td>\n",
       "      <td>0</td>\n",
       "      <td>0</td>\n",
       "      <td>0</td>\n",
       "      <td>...</td>\n",
       "      <td>0</td>\n",
       "      <td>0.0</td>\n",
       "      <td>0.0</td>\n",
       "      <td>0.0</td>\n",
       "      <td>0</td>\n",
       "      <td>1</td>\n",
       "      <td>0</td>\n",
       "      <td>0</td>\n",
       "      <td>0.0</td>\n",
       "      <td>3275.0</td>\n",
       "    </tr>\n",
       "    <tr>\n",
       "      <th>4</th>\n",
       "      <td>P.E.K.K.A</td>\n",
       "      <td>0</td>\n",
       "      <td>0</td>\n",
       "      <td>1</td>\n",
       "      <td>0</td>\n",
       "      <td>1</td>\n",
       "      <td>1</td>\n",
       "      <td>0</td>\n",
       "      <td>0</td>\n",
       "      <td>0</td>\n",
       "      <td>...</td>\n",
       "      <td>0</td>\n",
       "      <td>0.0</td>\n",
       "      <td>0.0</td>\n",
       "      <td>0.0</td>\n",
       "      <td>0</td>\n",
       "      <td>1</td>\n",
       "      <td>0</td>\n",
       "      <td>0</td>\n",
       "      <td>0.0</td>\n",
       "      <td>3125.0</td>\n",
       "    </tr>\n",
       "  </tbody>\n",
       "</table>\n",
       "<p>5 rows × 35 columns</p>\n",
       "</div>"
      ],
      "text/plain": [
       "        name  rarity_common  rarity_rare  rarity_epic  rarity_legendary  \\\n",
       "0     Knight              1            0            0                 0   \n",
       "1    Archers              1            0            0                 0   \n",
       "2    Goblins              1            0            0                 0   \n",
       "3      Giant              0            1            0                 0   \n",
       "4  P.E.K.K.A              0            0            1                 0   \n",
       "\n",
       "   troop  troop_ground  troop_air  building  spell  ...  move_speed_very_fast  \\\n",
       "0      1             1          0         0      0  ...                     0   \n",
       "1      1             1          0         0      0  ...                     0   \n",
       "2      1             1          0         0      0  ...                     1   \n",
       "3      1             1          0         0      0  ...                     0   \n",
       "4      1             1          0         0      0  ...                     0   \n",
       "\n",
       "   radius  width  range  range_melee_short  range_melee_medium  \\\n",
       "0     0.0    0.0    0.0                  0                   1   \n",
       "1     0.0    0.0    5.0                  0                   0   \n",
       "2     0.0    0.0    0.0                  1                   0   \n",
       "3     0.0    0.0    0.0                  0                   1   \n",
       "4     0.0    0.0    0.0                  0                   1   \n",
       "\n",
       "   range_melee_long  spawner  duration  hitpoints  \n",
       "0                 0        0       0.0     1452.0  \n",
       "1                 0        0       0.0      252.0  \n",
       "2                 0        0       0.0      167.0  \n",
       "3                 0        0       0.0     3275.0  \n",
       "4                 0        0       0.0     3125.0  \n",
       "\n",
       "[5 rows x 35 columns]"
      ]
     },
     "execution_count": 2,
     "metadata": {},
     "output_type": "execute_result"
    }
   ],
   "source": [
    "df = pd.read_excel('card_stats.xlsx')\n",
    "print(df.shape)\n",
    "df.head()"
   ]
  },
  {
   "cell_type": "code",
   "execution_count": 3,
   "metadata": {},
   "outputs": [
    {
     "data": {
      "text/plain": [
       "(99, 34)"
      ]
     },
     "execution_count": 3,
     "metadata": {},
     "output_type": "execute_result"
    }
   ],
   "source": [
    "stats_matrix = df.values[:,1:]\n",
    "stats_matrix.shape"
   ]
  },
  {
   "cell_type": "markdown",
   "metadata": {
    "heading_collapsed": true
   },
   "source": [
    "# Get single card recommendations"
   ]
  },
  {
   "cell_type": "code",
   "execution_count": null,
   "metadata": {
    "hidden": true
   },
   "outputs": [],
   "source": [
    "sim_matrix = 1 - squareform(pdist(stats_matrix, 'cosine'))\n",
    "sim_matrix.shape"
   ]
  },
  {
   "cell_type": "code",
   "execution_count": 4,
   "metadata": {
    "hidden": true
   },
   "outputs": [
    {
     "data": {
      "text/plain": [
       "array(['Ram Rider', 'Cannon Cart', 'Knight', 'Hog Rider', 'Barbarian Hut',\n",
       "       'Royal Giant', 'Battle Healer', 'Royal Recruits', 'Goblin Hut',\n",
       "       'Royal Hogs'], dtype=object)"
      ]
     },
     "execution_count": 4,
     "metadata": {},
     "output_type": "execute_result"
    }
   ],
   "source": [
    "card_name = 'Ram Rider'\n",
    "card_ind = np.where(df['name'] == card_name)[0][0]\n",
    "card_sim_vec = sim_matrix[card_ind]\n",
    "rec_inds = np.argsort(card_sim_vec)[::-1]\n",
    "df['name'].values[rec_inds][:10]"
   ]
  },
  {
   "cell_type": "markdown",
   "metadata": {
    "heading_collapsed": true
   },
   "source": [
    "# Get full deck recommendations (using deck averages)"
   ]
  },
  {
   "cell_type": "code",
   "execution_count": 5,
   "metadata": {
    "hidden": true
   },
   "outputs": [],
   "source": [
    "battles = pickle.loads(open('user_data_9Q9GY29CQ.p', 'rb').read())\n",
    "stats_dict = dict(zip(df['name'], stats_matrix))"
   ]
  },
  {
   "cell_type": "code",
   "execution_count": 6,
   "metadata": {
    "hidden": true
   },
   "outputs": [
    {
     "data": {
      "text/plain": [
       "744"
      ]
     },
     "execution_count": 6,
     "metadata": {},
     "output_type": "execute_result"
    }
   ],
   "source": [
    "all_battles = battles['team_cards'] + battles['opponent_cards']\n",
    "all_battles = [str(sorted(b)) for b in all_battles]\n",
    "all_battles = set(all_battles)\n",
    "all_battles = [eval(b) for b in all_battles]\n",
    "len(all_battles)"
   ]
  },
  {
   "cell_type": "code",
   "execution_count": 7,
   "metadata": {
    "hidden": true
   },
   "outputs": [
    {
     "data": {
      "text/plain": [
       "744"
      ]
     },
     "execution_count": 7,
     "metadata": {},
     "output_type": "execute_result"
    }
   ],
   "source": [
    "all_battles_dict = {}\n",
    "for b in all_battles:\n",
    "    all_battles_dict[str(b)] = np.array([stats_dict[c] for c in b]).mean(axis=0)\n",
    "len(all_battles_dict)"
   ]
  },
  {
   "cell_type": "code",
   "execution_count": 28,
   "metadata": {
    "hidden": true
   },
   "outputs": [
    {
     "name": "stderr",
     "output_type": "stream",
     "text": [
      "100%|██████████████████████████████████████████████████████████████████████████████| 744/744 [00:00<00:00, 5471.59it/s]\n"
     ]
    },
    {
     "data": {
      "text/plain": [
       "True"
      ]
     },
     "execution_count": 28,
     "metadata": {},
     "output_type": "execute_result"
    }
   ],
   "source": [
    "model = AnnoyIndex(34, 'dot')\n",
    "c = 0\n",
    "index2id = {}\n",
    "for deck, vec in tqdm(all_battles_dict.items()):\n",
    "    vec_norm = normalize(vec.reshape(-1, 1), norm='l2', axis=0).reshape(1,-1)[0]\n",
    "    model.add_item(c, vec_norm)\n",
    "    index2id[c] = deck\n",
    "    c += 1\n",
    "\n",
    "model.build(10)"
   ]
  },
  {
   "cell_type": "code",
   "execution_count": 29,
   "metadata": {
    "hidden": true
   },
   "outputs": [],
   "source": [
    "# model.save('2020_06_10_deck_model.ann')\n",
    "# model = AnnoyIndex(34, 'dot')\n",
    "# model.load('2020_06_10_deck_model.ann')"
   ]
  },
  {
   "cell_type": "code",
   "execution_count": 30,
   "metadata": {
    "hidden": true
   },
   "outputs": [
    {
     "name": "stdout",
     "output_type": "stream",
     "text": [
      "[0.9997736811637878, 0.99971604347229, 0.9997141361236572, 0.999648928642273, 0.999648928642273]\n"
     ]
    },
    {
     "data": {
      "text/plain": [
       "[\"['Archers', 'Goblin Barrel', 'Inferno Dragon', 'Mega Knight', 'Miner', 'Skeleton Army', 'Valkyrie', 'Zap']\",\n",
       " \"['Battle Healer', 'Cannon Cart', 'Dart Goblin', 'Elixir Golem', 'Goblins', 'Magic Archer', 'Poison', 'The Log']\",\n",
       " \"['Cannon Cart', 'Dark Prince', 'Electro Wizard', 'Freeze', 'Magic Archer', 'Mega Knight', 'Skeleton Army', 'Witch']\",\n",
       " \"['Bandit', 'Barbarian Barrel', 'Bats', 'Electro Wizard', 'Magic Archer', 'Mega Knight', 'Poison', 'Royal Hogs']\",\n",
       " \"['Bats', 'Elixir Collector', 'Golem', 'Mini P.E.K.K.A', 'Tornado', 'Valkyrie', 'Wizard', 'Zap']\"]"
      ]
     },
     "execution_count": 30,
     "metadata": {},
     "output_type": "execute_result"
    }
   ],
   "source": [
    "deck_cards = ['Bomb Tower', 'Hog Rider', 'The Log', 'Tornado', \n",
    "              'Earthquake', 'Skeletons', 'Musketeer', 'Ice Golem']\n",
    "deck_cards = ['Cannon', 'Hog Rider', 'The Log', 'Fireball', \n",
    "              'Ice Spirit', 'Skeletons', 'Musketeer', 'Ice Golem']\n",
    "deck_cards = ['Mega Knight', 'Ram Rider', 'Inferno Dragon', 'Bandit', \n",
    "              'Valkyrie', 'Tornado', 'Barbarian Barrel', 'Poison']\n",
    "search_vec = np.array([stats_dict[c] for c in deck_cards]).mean(axis=0)\n",
    "norm_search_vec = normalize(search_vec.reshape(-1, 1), norm='l2', axis=0)\n",
    "rec_inds, scores = model.get_nns_by_vector(norm_search_vec, 5, include_distances=True)\n",
    "print(scores)\n",
    "[index2id[i] for i in rec_inds]"
   ]
  },
  {
   "cell_type": "code",
   "execution_count": 34,
   "metadata": {
    "hidden": true
   },
   "outputs": [
    {
     "data": {
      "text/plain": [
       "[\"['Fireball', 'Furnace', 'Mini P.E.K.K.A', 'Prince', 'Valkyrie', 'Witch', 'Wizard', 'Zap']\",\n",
       " \"['Ice Golem', 'Ice Wizard', 'Mega Minion', 'Rocket', 'Skeletons', 'Tesla', 'Tornado', 'X-Bow']\",\n",
       " \"['Balloon', 'Bats', 'Giant Snowball', 'Ice Golem', 'Magic Archer', 'Miner', 'Sparky', 'Tornado']\",\n",
       " \"['Baby Dragon', 'Bats', 'Goblin Gang', 'Hog Rider', 'Mini P.E.K.K.A', 'Royal Giant', 'The Log', 'Valkyrie']\",\n",
       " \"['Baby Dragon', 'Bats', 'Firecracker', 'Goblin Barrel', 'Mega Knight', 'The Log', 'Valkyrie', 'Wall Breakers']\"]"
      ]
     },
     "execution_count": 34,
     "metadata": {},
     "output_type": "execute_result"
    }
   ],
   "source": [
    "list([str(b) for b in np.random.choice(all_battles, 5)])"
   ]
  },
  {
   "cell_type": "code",
   "execution_count": null,
   "metadata": {
    "hidden": true
   },
   "outputs": [],
   "source": [
    "# Scores are a bit too similar... maybe a different way to combine card vectors?\n",
    "# Re-rank by win percentage and play count?"
   ]
  },
  {
   "cell_type": "markdown",
   "metadata": {
    "heading_collapsed": true
   },
   "source": [
    "# Get full deck recommendations (using all card vectors)"
   ]
  },
  {
   "cell_type": "code",
   "execution_count": 6,
   "metadata": {
    "hidden": true
   },
   "outputs": [],
   "source": [
    "battles = pickle.loads(open('user_data/user_data_9Q9GY29CQ.p', 'rb').read())\n",
    "stats_dict = dict(zip(df['name'], stats_matrix))"
   ]
  },
  {
   "cell_type": "code",
   "execution_count": 8,
   "metadata": {
    "hidden": true
   },
   "outputs": [
    {
     "data": {
      "text/plain": [
       "744"
      ]
     },
     "execution_count": 8,
     "metadata": {},
     "output_type": "execute_result"
    }
   ],
   "source": [
    "all_battles = battles['team_cards'] + battles['opponent_cards']\n",
    "all_battles = [str(sorted(b)) for b in all_battles]\n",
    "all_battles = set(all_battles)\n",
    "all_battles = [sorted(eval(b)) for b in all_battles]\n",
    "len(all_battles)"
   ]
  },
  {
   "cell_type": "code",
   "execution_count": 9,
   "metadata": {
    "hidden": true
   },
   "outputs": [
    {
     "data": {
      "text/plain": [
       "744"
      ]
     },
     "execution_count": 9,
     "metadata": {},
     "output_type": "execute_result"
    }
   ],
   "source": [
    "all_battles_dict = {}\n",
    "for b in all_battles:\n",
    "    all_battles_dict[str(b)] = np.array(list(itertools.chain(*[stats_dict[c] for c in b])))\n",
    "len(all_battles_dict)"
   ]
  },
  {
   "cell_type": "code",
   "execution_count": 10,
   "metadata": {
    "hidden": true
   },
   "outputs": [
    {
     "name": "stderr",
     "output_type": "stream",
     "text": [
      "100%|██████████████████████████████████████████████████████████████████████████████| 744/744 [00:00<00:00, 3180.24it/s]\n"
     ]
    },
    {
     "data": {
      "text/plain": [
       "True"
      ]
     },
     "execution_count": 10,
     "metadata": {},
     "output_type": "execute_result"
    }
   ],
   "source": [
    "model = AnnoyIndex(272, 'dot')\n",
    "c = 0\n",
    "e = 0\n",
    "index2id = {}\n",
    "for deck, vec in tqdm(all_battles_dict.items()):\n",
    "    if len(vec)==272:\n",
    "        vec_norm = normalize(vec.reshape(-1, 1), norm='l2', axis=0).reshape(1,-1)[0]\n",
    "        model.add_item(c, vec_norm)\n",
    "        index2id[c] = deck\n",
    "        c += 1\n",
    "    else:\n",
    "        e += 1\n",
    "\n",
    "model.build(10)"
   ]
  },
  {
   "cell_type": "code",
   "execution_count": 11,
   "metadata": {
    "hidden": true
   },
   "outputs": [
    {
     "data": {
      "text/plain": [
       "10"
      ]
     },
     "execution_count": 11,
     "metadata": {},
     "output_type": "execute_result"
    }
   ],
   "source": [
    "e"
   ]
  },
  {
   "cell_type": "code",
   "execution_count": 12,
   "metadata": {
    "hidden": true
   },
   "outputs": [
    {
     "name": "stdout",
     "output_type": "stream",
     "text": [
      "[0.9999998807907104, 0.8810864686965942, 0.8694665431976318, 0.8665416240692139, 0.8472418189048767]\n"
     ]
    },
    {
     "data": {
      "text/plain": [
       "[\"['Bomb Tower', 'Earthquake', 'Hog Rider', 'Ice Golem', 'Musketeer', 'Skeletons', 'The Log', 'Tornado']\",\n",
       " \"['Balloon', 'Bats', 'Cannon Cart', 'Dark Prince', 'Goblin Hut', 'Musketeer', 'Poison', 'The Log']\",\n",
       " \"['Bowler', 'Earthquake', 'Hog Rider', 'Mini P.E.K.K.A', 'Princess', 'Skeleton Army', 'Tornado', 'Wizard']\",\n",
       " \"['Giant Skeleton', 'Goblin Barrel', 'Goblin Cage', 'Inferno Dragon', 'Skeleton Army', 'Skeleton Barrel', 'Tornado', 'Zap']\",\n",
       " \"['Elite Barbarians', 'Ice Spirit', 'Inferno Dragon', 'Miner', 'Mini P.E.K.K.A', 'Rage', 'Wizard', 'Zap']\"]"
      ]
     },
     "execution_count": 12,
     "metadata": {},
     "output_type": "execute_result"
    }
   ],
   "source": [
    "deck_cards = ['Bomb Tower', 'Hog Rider', 'The Log', 'Tornado', \n",
    "              'Earthquake', 'Skeletons', 'Musketeer', 'Ice Golem']\n",
    "# deck_cards = ['Cannon', 'Hog Rider', 'The Log', 'Fireball', \n",
    "#               'Ice Spirit', 'Skeletons', 'Musketeer', 'Ice Golem']\n",
    "# deck_cards = ['Mega Knight', 'Ram Rider', 'Inferno Dragon', 'Bandit', \n",
    "#               'Valkyrie', 'Tornado', 'Barbarian Barrel', 'Poison']\n",
    "search_vec = np.array(list(itertools.chain(*[stats_dict[c] for c in sorted(deck_cards)])))\n",
    "norm_search_vec = normalize(search_vec.reshape(-1, 1), norm='l2', axis=0)\n",
    "rec_inds, scores = model.get_nns_by_vector(norm_search_vec, 5, include_distances=True)\n",
    "print(scores)\n",
    "[index2id[i] for i in rec_inds]"
   ]
  },
  {
   "cell_type": "code",
   "execution_count": null,
   "metadata": {
    "hidden": true
   },
   "outputs": [],
   "source": [
    "# I liked the other ones better I think\n",
    "# It doesn't seem to capture whether a card is in the right place\n",
    "# How to make a vector where the order doesn't exactly matter?"
   ]
  },
  {
   "cell_type": "markdown",
   "metadata": {},
   "source": [
    "# Get full deck recommendations (percentiles of card vectors)"
   ]
  },
  {
   "cell_type": "code",
   "execution_count": 4,
   "metadata": {},
   "outputs": [],
   "source": [
    "stats_dict = dict(zip(df['name'], stats_matrix))"
   ]
  },
  {
   "cell_type": "code",
   "execution_count": 5,
   "metadata": {},
   "outputs": [
    {
     "data": {
      "text/plain": [
       "['220PV9GU',\n",
       " '2UGUVYU29',\n",
       " '80G9U0L9V',\n",
       " '80URVV8JY',\n",
       " '9L9009G9P',\n",
       " '9Q9GY29CQ',\n",
       " 'P2RUP82LJ',\n",
       " 'P9VUGYL8L',\n",
       " 'Y8LGYQYC',\n",
       " 'YLV0PUJQ']"
      ]
     },
     "execution_count": 5,
     "metadata": {},
     "output_type": "execute_result"
    }
   ],
   "source": [
    "client = storage.Client.from_service_account_json('../royaleapp-296a6cea39ad.json')\n",
    "bucket = client.bucket('royale-data')\n",
    "blobs = bucket.list_blobs(prefix='user_data')\n",
    "player_tags = [blob.name.split('/')[1][:-5] for blob in blobs if blob.name.endswith('.json')]\n",
    "player_tags"
   ]
  },
  {
   "cell_type": "markdown",
   "metadata": {
    "heading_collapsed": true
   },
   "source": [
    "## Original Training"
   ]
  },
  {
   "cell_type": "code",
   "execution_count": 30,
   "metadata": {
    "hidden": true
   },
   "outputs": [
    {
     "name": "stderr",
     "output_type": "stream",
     "text": [
      "100%|██████████████████████████████████████████████████████████████████████████████████| 10/10 [00:02<00:00,  4.88it/s]\n"
     ]
    },
    {
     "name": "stdout",
     "output_type": "stream",
     "text": [
      "Wall time: 7.25 s\n"
     ]
    },
    {
     "data": {
      "text/plain": [
       "(7001, 6934, 6934)"
      ]
     },
     "execution_count": 30,
     "metadata": {},
     "output_type": "execute_result"
    }
   ],
   "source": [
    "%%time\n",
    "all_battles = []\n",
    "deck_win_dict = defaultdict(lambda: {'play_count':0, 'win_count':0, 'win_rate':0})\n",
    "for player_tag in tqdm(player_tags):\n",
    "    blob = bucket.get_blob('user_data/{}.json'.format(player_tag))\n",
    "    battles = json.loads(blob.download_as_string())  \n",
    "    \n",
    "    # Make list of all battles\n",
    "    all_battles += battles['team_cards'] + battles['opponent_cards']\n",
    "    \n",
    "    # Make deck win count dictionary\n",
    "    for team_cards, opponent_cards, win_loss in zip(battles['team_cards'], \n",
    "                                                    battles['opponent_cards'], \n",
    "                                                    battles['win_loss']):\n",
    "        if len(team_cards) != 8:\n",
    "            pass\n",
    "        else:\n",
    "            team_cards = str(sorted(team_cards))\n",
    "            opponent_cards = str(sorted(opponent_cards))\n",
    "            deck_win_dict[team_cards]['play_count'] += 1\n",
    "            deck_win_dict[opponent_cards]['play_count'] += 1\n",
    "            if win_loss == 'win':\n",
    "                deck_win_dict[team_cards]['win_count'] += 1\n",
    "                deck_win_dict[team_cards]['win_rate'] = deck_win_dict[team_cards]['win_count'] \\\n",
    "                    / deck_win_dict[team_cards]['play_count']\n",
    "            else:\n",
    "                deck_win_dict[opponent_cards]['win_count'] += 1\n",
    "                deck_win_dict[opponent_cards]['win_rate'] = deck_win_dict[opponent_cards]['win_count'] \\\n",
    "                    / deck_win_dict[opponent_cards]['play_count']\n",
    "\n",
    "all_battles = [str(sorted(b)) for b in all_battles]\n",
    "all_battles = set(all_battles)\n",
    "all_battles = [sorted(eval(b)) for b in all_battles]\n",
    "\n",
    "all_battles_dict = {}\n",
    "for b in all_battles:\n",
    "    if len(b) == 8:\n",
    "        all_battles_dict[str(b)] = np.percentile(np.array([stats_dict[c] for c in b]), list(np.arange(0,105,5)), axis=0).flatten()\n",
    "\n",
    "len(all_battles), len(deck_win_dict), len(all_battles_dict)"
   ]
  },
  {
   "cell_type": "markdown",
   "metadata": {},
   "source": [
    "## Modified Original Training x 100 Load\n",
    "(original training with 100x load is ~30x increased time at 3 min 47 sec)"
   ]
  },
  {
   "cell_type": "code",
   "execution_count": 6,
   "metadata": {},
   "outputs": [
    {
     "name": "stderr",
     "output_type": "stream",
     "text": [
      "100%|██████████████████████████████████████████████████████████████████████████████████| 10/10 [00:03<00:00,  2.72it/s]\n"
     ]
    },
    {
     "name": "stdout",
     "output_type": "stream",
     "text": [
      "Wall time: 9.4 s\n"
     ]
    },
    {
     "data": {
      "text/plain": [
       "(7928, 7861, 7861)"
      ]
     },
     "execution_count": 6,
     "metadata": {},
     "output_type": "execute_result"
    }
   ],
   "source": [
    "%%time\n",
    "from collections import Counter\n",
    "all_battles = []\n",
    "deck_win_dict = defaultdict(lambda: {'play_count':0, 'win_count':0, 'win_rate':0})\n",
    "for player_tag in tqdm(player_tags): # tested * 100x original load (~30x increased time)\n",
    "    blob = bucket.get_blob('user_data/{}.json'.format(player_tag))\n",
    "    battles = json.loads(blob.download_as_string())  \n",
    "    \n",
    "    # Make list of all battles\n",
    "    all_battles += battles['team_cards'] + battles['opponent_cards']\n",
    "    \n",
    "    # Make deck win count dictionary\n",
    "    for team_cards, opponent_cards, win_loss in zip(battles['team_cards'], \n",
    "                                                    battles['opponent_cards'], \n",
    "                                                    battles['win_loss']):\n",
    "        if len(team_cards) != 8:\n",
    "            pass\n",
    "        else:\n",
    "            team_cards = str(sorted(team_cards))\n",
    "            opponent_cards = str(sorted(opponent_cards))\n",
    "            deck_win_dict[team_cards]['play_count'] += 1\n",
    "            deck_win_dict[opponent_cards]['play_count'] += 1\n",
    "            if win_loss == 'win':\n",
    "                deck_win_dict[team_cards]['win_count'] += 1\n",
    "                deck_win_dict[team_cards]['win_rate'] = deck_win_dict[team_cards]['win_count'] \\\n",
    "                    / deck_win_dict[team_cards]['play_count'] # Could do this calculation at the end\n",
    "            else:\n",
    "                deck_win_dict[opponent_cards]['win_count'] += 1\n",
    "                deck_win_dict[opponent_cards]['win_rate'] = deck_win_dict[opponent_cards]['win_count'] \\\n",
    "                    / deck_win_dict[opponent_cards]['play_count']\n",
    "\n",
    "all_battles = [str(sorted(b)) for b in all_battles]\n",
    "all_battles = [sorted(eval(b[0])) for b in Counter(all_battles).most_common()[:10000]]\n",
    "\n",
    "all_battles_dict = {}\n",
    "for b in all_battles:\n",
    "    if len(b) == 8:\n",
    "        all_battles_dict[str(b)] = np.percentile(np.array([stats_dict[c] for c in b]), list(np.arange(0,105,5)), axis=0).flatten()\n",
    "\n",
    "len(all_battles), len(deck_win_dict), len(all_battles_dict)"
   ]
  },
  {
   "cell_type": "markdown",
   "metadata": {},
   "source": [
    "## Build the Model"
   ]
  },
  {
   "cell_type": "code",
   "execution_count": 28,
   "metadata": {},
   "outputs": [
    {
     "name": "stderr",
     "output_type": "stream",
     "text": [
      "100%|████████████████████████████████████████████████████████████████████████████| 7861/7861 [00:03<00:00, 2102.47it/s]\n"
     ]
    },
    {
     "name": "stdout",
     "output_type": "stream",
     "text": [
      "Wall time: 4.98 s\n"
     ]
    },
    {
     "data": {
      "text/plain": [
       "True"
      ]
     },
     "execution_count": 28,
     "metadata": {},
     "output_type": "execute_result"
    }
   ],
   "source": [
    "%%time\n",
    "vec_len = list(all_battles_dict.values())[0].shape[0]\n",
    "model = AnnoyIndex(vec_len, 'dot')\n",
    "c = 0\n",
    "index2id = {}\n",
    "for deck, vec in tqdm(all_battles_dict.items()):\n",
    "    vec_norm = normalize(vec.reshape(-1, 1), norm='l2', axis=0).reshape(1,-1)[0]\n",
    "    model.add_item(c, vec_norm)\n",
    "    index2id[c] = deck\n",
    "    c += 1\n",
    "\n",
    "model.build(10)"
   ]
  },
  {
   "cell_type": "code",
   "execution_count": 29,
   "metadata": {},
   "outputs": [
    {
     "name": "stdout",
     "output_type": "stream",
     "text": [
      "26.5 ms ± 558 µs per loop (mean ± std. dev. of 7 runs, 10 loops each)\n"
     ]
    }
   ],
   "source": [
    "%%timeit\n",
    "# test\n",
    "len(model.get_nns_by_item(0, n=-1))"
   ]
  },
  {
   "cell_type": "markdown",
   "metadata": {},
   "source": [
    "## Save Models"
   ]
  },
  {
   "cell_type": "code",
   "execution_count": 30,
   "metadata": {},
   "outputs": [],
   "source": [
    "# # Save for use in app\n",
    "# model.save('2020_07_24_deck_recommender.ann')\n",
    "# json.dump(deck_win_dict, open('2020_07_24_deck_win_dict.json', 'w'))\n",
    "# json.dump(index2id, open('2020_07_24_index2id.json', 'w'))"
   ]
  },
  {
   "cell_type": "code",
   "execution_count": 31,
   "metadata": {},
   "outputs": [],
   "source": [
    "# index2id == json.loads(open('2020_07_24_index2id.json', 'r').read()), deck_win_dict == json.loads(open('2020_07_24_deck_win_dict.json', 'r').read())"
   ]
  },
  {
   "cell_type": "markdown",
   "metadata": {},
   "source": [
    "## Predictions"
   ]
  },
  {
   "cell_type": "code",
   "execution_count": 33,
   "metadata": {},
   "outputs": [
    {
     "data": {
      "text/plain": [
       "[[\"['Bats', 'Giant', 'Poison', 'Skeleton Army', 'Skeleton Dragons', 'Sparky', 'Spear Goblins', 'The Log']\",\n",
       "  5,\n",
       "  0.6,\n",
       "  1.000000238418579,\n",
       "  0.23072433628496822],\n",
       " [\"['Bats', 'Giant', 'Poison', 'Skeleton Army', 'Sparky', 'Spear Goblins', 'Wizard', 'Zap']\",\n",
       "  5,\n",
       "  0.6666666666666666,\n",
       "  0.9985234141349792,\n",
       "  0.23038359706356368],\n",
       " [\"['Bats', 'Giant', 'Poison', 'Skeleton Army', 'Sparky', 'Spear Goblins', 'The Log', 'Wizard']\",\n",
       "  1,\n",
       "  0,\n",
       "  0.9983831644058228,\n",
       "  0.0],\n",
       " [\"['Bats', 'Firecracker', 'Giant', 'Poison', 'Skeleton Army', 'Sparky', 'Spear Goblins', 'The Log']\",\n",
       "  1,\n",
       "  0,\n",
       "  0.9975006580352783,\n",
       "  0.0],\n",
       " [\"['Arrows', 'Bats', 'Giant', 'Graveyard', 'Musketeer', 'Skeleton Army', 'Sparky', 'Zap']\",\n",
       "  2,\n",
       "  0.5,\n",
       "  0.996845006942749,\n",
       "  0.09423296043644562],\n",
       " [\"['Arrows', 'Bats', 'Giant', 'Giant Snowball', 'Graveyard', 'Musketeer', 'Skeleton Army', 'Sparky']\",\n",
       "  1,\n",
       "  1.0,\n",
       "  0.996845006942749,\n",
       "  0.20589765272439725],\n",
       " [\"['Arrows', 'Bats', 'Giant', 'Goblin Gang', 'Minion Horde', 'Skeleton Army', 'Sparky', 'Zap']\",\n",
       "  1,\n",
       "  1.0,\n",
       "  0.9965112209320068,\n",
       "  0.20582870945272974],\n",
       " [\"['Fire Spirits', 'Giant', 'Minion Horde', 'Rage', 'Sparky', 'The Log', 'Witch', 'Zap']\",\n",
       "  1,\n",
       "  1.0,\n",
       "  0.9956350326538086,\n",
       "  0.20564773336460251],\n",
       " [\"['Arrows', 'Bats', 'Giant', 'Musketeer', 'Skeleton Army', 'Sparky', 'The Log', 'Zap']\",\n",
       "  1,\n",
       "  0,\n",
       "  0.9947817325592041,\n",
       "  0.0],\n",
       " [\"['Arrows', 'Giant', 'Goblin Barrel', 'Mega Minion', 'Minion Horde', 'Skeleton Army', 'Sparky', 'Zap']\",\n",
       "  1,\n",
       "  0,\n",
       "  0.9934122562408447,\n",
       "  0.0]]"
      ]
     },
     "execution_count": 33,
     "metadata": {},
     "output_type": "execute_result"
    }
   ],
   "source": [
    "# deck_cards = ['Cannon', 'Hog Rider', 'The Log', 'Ice Spirit', \n",
    "#               'Fireball', 'Skeletons', 'Musketeer', 'Ice Golem']\n",
    "# deck_cards = ['Royal Giant', 'Goblin Cage', 'Royal Delivery', 'Heal Spirit', \n",
    "#               'Firecracker', 'Skeletons', 'Bats', 'Earthquake']\n",
    "# deck_cards = ['Valkyrie', 'Bandit', 'Miner', 'Arrows', \n",
    "#               'Bats', 'Wall Breakers', 'Musketeer', 'Royal Delivery']\n",
    "deck_cards = ['Sparky', 'Giant', 'Spear Goblins', 'Poison', \n",
    "              'The Log', 'Skeleton Army', 'Skeleton Dragons', 'Bats']\n",
    "search_vec = np.percentile(np.array([stats_dict[c] for c in deck_cards]), list(np.arange(0,105,5)), axis=0).flatten()\n",
    "norm_search_vec = normalize(search_vec.reshape(-1, 1), norm='l2', axis=0)\n",
    "rec_inds, scores = model.get_nns_by_vector(norm_search_vec, 50, include_distances=True)\n",
    "\n",
    "# Rank recommendations\n",
    "out = []\n",
    "for rec_ind, score in zip(rec_inds, scores):\n",
    "    deck_data = deck_win_dict[index2id[rec_ind]]\n",
    "    int_play_counts = deck_data['play_count']\n",
    "    float_win_percs = deck_data['win_rate']\n",
    "    win_confidence = proportion_confint(np.round(float_win_percs*int_play_counts).astype(int), int_play_counts, alpha=0.05, method='wilson')[0]\n",
    "    out.append([index2id[rec_ind], int_play_counts, float_win_percs, score, win_confidence*score])\n",
    "    \n",
    "# Display recommendations\n",
    "# sorted(out, key=itemgetter(4), reverse=True)[:10]\n",
    "out[:10]"
   ]
  },
  {
   "cell_type": "code",
   "execution_count": null,
   "metadata": {},
   "outputs": [],
   "source": []
  }
 ],
 "metadata": {
  "kernelspec": {
   "display_name": "Python 3",
   "language": "python",
   "name": "python3"
  },
  "language_info": {
   "codemirror_mode": {
    "name": "ipython",
    "version": 3
   },
   "file_extension": ".py",
   "mimetype": "text/x-python",
   "name": "python",
   "nbconvert_exporter": "python",
   "pygments_lexer": "ipython3",
   "version": "3.6.7"
  }
 },
 "nbformat": 4,
 "nbformat_minor": 2
}
