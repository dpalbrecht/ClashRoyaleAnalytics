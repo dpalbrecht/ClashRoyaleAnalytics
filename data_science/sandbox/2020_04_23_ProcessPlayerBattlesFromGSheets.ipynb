{
 "cells": [
  {
   "cell_type": "code",
   "execution_count": 1,
   "metadata": {},
   "outputs": [],
   "source": [
    "from google.cloud import storage\n",
    "import pickle\n",
    "import requests\n",
    "from google.oauth2.service_account import Credentials\n",
    "from googleapiclient.discovery import build # google-api-python-client\n",
    "import os"
   ]
  },
  {
   "cell_type": "code",
   "execution_count": 2,
   "metadata": {},
   "outputs": [],
   "source": [
    "# TODO: Will need to update this for Gcloud\n",
    "# New token\n",
    "# Don't need storage creds\n",
    "TOKEN = open('../token.txt', 'rb').read().decode('utf-8')\n",
    "try:\n",
    "    CLIENT = storage.Client()\n",
    "except:\n",
    "    CLIENT = storage.Client.from_service_account_json('../royaleapp-296a6cea39ad.json')\n",
    "BUCKET = CLIENT.bucket('royale-data')"
   ]
  },
  {
   "cell_type": "code",
   "execution_count": 19,
   "metadata": {},
   "outputs": [],
   "source": [
    "def read_player_tags():\n",
    "    blob = BUCKET.get_blob('credentials/2020_04_23_gsheet_credentials.json')\n",
    "    blob.download_to_filename('creds.json')\n",
    "    scope = ['https://spreadsheets.google.com/feeds']\n",
    "    credentials = Credentials.from_service_account_file('creds.json', scopes=scope)\n",
    "    os.remove('creds.json')\n",
    "    service = build('sheets', 'v4', credentials=credentials)\n",
    "    sheet = service.spreadsheets()\n",
    "    result = sheet.values().get(spreadsheetId='1cmSIq5-6NI5Bn1n8WTfaVTYthxTIRUQ8aNsDTixsHno',\n",
    "                                range='Sheet1').execute()\n",
    "    return result\n",
    "\n",
    "def process_battles(player_tag):\n",
    "    # read in data from storage\n",
    "    # if no data, create data\n",
    "    blob = BUCKET.get_blob('user_data/{}.p'.format(player_tag))\n",
    "    if blob is None:\n",
    "        data = {\n",
    "            'battle_time':[],\n",
    "            'team_cards':[],\n",
    "            'opponent_cards':[],\n",
    "            'team_trophy_count':[],\n",
    "            'game_mode':[],\n",
    "            'arena':[],\n",
    "            'win_loss':[]\n",
    "        }\n",
    "    else:\n",
    "        data = pickle.loads(blob.download_as_string())\n",
    "    # process battles and add to data\n",
    "    response = requests.get('https://api.clashroyale.com/v1/players/%23{}/battlelog'.format(player_tag),\n",
    "                            headers={\"Authorization\": \"Bearer {}\".format(TOKEN)})\n",
    "    battle_list = eval(response.text.replace('false', 'False').replace('true', 'True'))\n",
    "    for battle in battle_list:\n",
    "        # make sure you don't add the same battles twice\n",
    "        # battles in 2v2, where it's harder to get data for both teams, are excluded\n",
    "        if (battle['battleTime'] not in data['battle_time']) and ('2v2' not in battle['type']):\n",
    "            data['battle_time'].append(battle['battleTime'])\n",
    "            data['team_cards'].append([card['name'] for card in battle['team'][0]['cards']])\n",
    "            data['opponent_cards'].append([card['name'] for card in battle['opponent'][0]['cards']])\n",
    "            data['team_trophy_count'].append(battle['team'][0]['startingTrophies'])\n",
    "            data['game_mode'].append(\"{} - {}\".format(battle['type'], battle['gameMode']['name']))\n",
    "            data['arena'].append(battle['arena']['name'])\n",
    "            if battle['team'][0]['crowns'] > battle['opponent'][0]['crowns']:\n",
    "                data['win_loss'].append('win')\n",
    "            elif battle['team'][0]['crowns'] < battle['opponent'][0]['crowns']:\n",
    "                data['win_loss'].append('loss')\n",
    "            else:\n",
    "                assert 1 == 2\n",
    "#     # save to storage\n",
    "#     local_fname = '{}.p'.format(player_tag)\n",
    "#     with open(local_fname, 'wb') as f:\n",
    "#         pickle.dump(data, f)\n",
    "#     BUCKET.blob('user_data/{}.p'.format(player_tag)).upload_from_file(open(local_fname, 'rb'))\n",
    "#     os.remove(local_fname)\n",
    "    \n",
    "def main():\n",
    "    result = read_player_tags()\n",
    "    for val in result['values']:\n",
    "        player_tag = val[0]\n",
    "        process_battles(player_tag)\n",
    "    "
   ]
  },
  {
   "cell_type": "code",
   "execution_count": 23,
   "metadata": {},
   "outputs": [
    {
     "data": {
      "text/plain": [
       "53"
      ]
     },
     "execution_count": 23,
     "metadata": {},
     "output_type": "execute_result"
    }
   ],
   "source": [
    "# Check how many battles I have right now\n",
    "blob = BUCKET.get_blob('user_data/{}.p'.format('9Q9GY29CQ'))\n",
    "data = pickle.loads(blob.download_as_string())\n",
    "len(data['win_loss'])"
   ]
  },
  {
   "cell_type": "code",
   "execution_count": 20,
   "metadata": {},
   "outputs": [],
   "source": [
    "result = read_player_tags()"
   ]
  },
  {
   "cell_type": "code",
   "execution_count": 22,
   "metadata": {},
   "outputs": [
    {
     "name": "stdout",
     "output_type": "stream",
     "text": [
      "554 ms ± 93.1 ms per loop (mean ± std. dev. of 7 runs, 1 loop each)\n"
     ]
    }
   ],
   "source": [
    "%%timeit\n",
    "process_battles(result['values'][0][0])"
   ]
  },
  {
   "cell_type": "code",
   "execution_count": null,
   "metadata": {},
   "outputs": [],
   "source": [
    "# Can do about 1000 users in 9 minutes: Start with this through testing\n",
    "\n",
    "# For full launch: How much does this cost?\n",
    "# Will need to put this into AI Jobs and trigger the Job through the cloud function\n",
    "# Can I paraellelize in AI Jobs?"
   ]
  },
  {
   "cell_type": "code",
   "execution_count": 2,
   "metadata": {},
   "outputs": [],
   "source": [
    "# Do it from Storage instead"
   ]
  },
  {
   "cell_type": "code",
   "execution_count": 3,
   "metadata": {},
   "outputs": [],
   "source": [
    "client = storage.Client()\n",
    "bucket = client.bucket('royale-data')"
   ]
  },
  {
   "cell_type": "code",
   "execution_count": 47,
   "metadata": {},
   "outputs": [],
   "source": [
    "blobs = bucket.list_blobs(prefix='user_data')"
   ]
  },
  {
   "cell_type": "code",
   "execution_count": 48,
   "metadata": {},
   "outputs": [
    {
     "data": {
      "text/plain": [
       "['9Q9GY29CQ', 'P9VUGYL8L']"
      ]
     },
     "execution_count": 48,
     "metadata": {},
     "output_type": "execute_result"
    }
   ],
   "source": [
    "[blob.name.split('/')[1][:-2] for blob in blobs if blob.name.endswith('.p')]"
   ]
  },
  {
   "cell_type": "code",
   "execution_count": null,
   "metadata": {},
   "outputs": [],
   "source": []
  }
 ],
 "metadata": {
  "kernelspec": {
   "display_name": "Python 3",
   "language": "python",
   "name": "python3"
  },
  "language_info": {
   "codemirror_mode": {
    "name": "ipython",
    "version": 3
   },
   "file_extension": ".py",
   "mimetype": "text/x-python",
   "name": "python",
   "nbconvert_exporter": "python",
   "pygments_lexer": "ipython3",
   "version": "3.6.7"
  }
 },
 "nbformat": 4,
 "nbformat_minor": 4
}
