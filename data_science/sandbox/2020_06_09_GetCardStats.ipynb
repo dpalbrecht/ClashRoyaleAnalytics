{
 "cells": [
  {
   "cell_type": "code",
   "execution_count": 95,
   "metadata": {},
   "outputs": [],
   "source": [
    "import numpy as np\n",
    "import pandas as pd\n",
    "from bs4 import BeautifulSoup\n",
    "import requests\n",
    "from tqdm import tqdm\n",
    "import pickle"
   ]
  },
  {
   "cell_type": "markdown",
   "metadata": {
    "heading_collapsed": true
   },
   "source": [
    "# Get list of card names"
   ]
  },
  {
   "cell_type": "code",
   "execution_count": 8,
   "metadata": {
    "hidden": true
   },
   "outputs": [],
   "source": [
    "cards_page = requests.get('https://statsroyale.com/cards')\n",
    "cards_page_soup = BeautifulSoup(cards_page.content, 'html.parser')"
   ]
  },
  {
   "cell_type": "code",
   "execution_count": 43,
   "metadata": {
    "hidden": true
   },
   "outputs": [
    {
     "data": {
      "text/plain": [
       "(99,\n",
       " ['Three Musketeers', 'Golem', 'Royal Recruits', 'P.E.K.K.A', 'Lava Hound'])"
      ]
     },
     "execution_count": 43,
     "metadata": {},
     "output_type": "execute_result"
    }
   ],
   "source": [
    "card_names = []\n",
    "for card_group in cards_page_soup.find_all('div', class_='cards__group'):\n",
    "    for card in card_group.find_all('div', class_='ui__tooltip ui__tooltipTop ui__tooltipMiddle cards__tooltip'):\n",
    "        card_names.append(card.text.replace('\\n',''))\n",
    "\n",
    "len(card_names), card_names[:5]"
   ]
  },
  {
   "cell_type": "markdown",
   "metadata": {
    "heading_collapsed": true
   },
   "source": [
    "# Get stats for cards"
   ]
  },
  {
   "cell_type": "code",
   "execution_count": 99,
   "metadata": {
    "hidden": true
   },
   "outputs": [
    {
     "name": "stderr",
     "output_type": "stream",
     "text": [
      "100%|██████████████████████████████████████████████████████████████████████████████████| 99/99 [01:02<00:00,  1.58it/s]\n"
     ]
    },
    {
     "data": {
      "text/plain": [
       "99"
      ]
     },
     "execution_count": 99,
     "metadata": {},
     "output_type": "execute_result"
    }
   ],
   "source": [
    "metrics_dict = {}\n",
    "for card_name in tqdm(card_names):\n",
    "    metrics_dict[card_name] = {}\n",
    "    card_page = requests.get('https://statsroyale.com/card/{}'.format(card_name.replace(' ', '+')))\n",
    "    card_page_soup = BeautifulSoup(card_page.content, 'html.parser')\n",
    "    for card_metrics in card_page_soup.find_all('div', class_='card__metrics'):\n",
    "        try:\n",
    "            metrics_header = card_metrics.find('div', class_='ui__mediumText card__metricsHeader').text.replace('\\n', '')\n",
    "        except:\n",
    "            metrics_header = card_name\n",
    "        metrics_dict[card_name][metrics_header] = {}\n",
    "        for c in card_metrics.children:\n",
    "            try:\n",
    "                metrics_list = c.text.split('\\n\\n')\n",
    "                metrics_dict[card_name][metrics_header][metrics_list[1]] = metrics_list[2]\n",
    "            except:\n",
    "                pass\n",
    "len(metrics_dict)"
   ]
  },
  {
   "cell_type": "code",
   "execution_count": 106,
   "metadata": {
    "code_folding": [],
    "hidden": true
   },
   "outputs": [],
   "source": [
    "with open('2020_06_09_card_stats_dict.p', 'wb') as f:\n",
    "    pickle.dump(metrics_dict, f)"
   ]
  },
  {
   "cell_type": "markdown",
   "metadata": {},
   "source": [
    "# Inspect data"
   ]
  },
  {
   "cell_type": "code",
   "execution_count": 107,
   "metadata": {},
   "outputs": [],
   "source": [
    "metrics_dict = pickle.loads(open('2020_06_09_card_stats_dict.p', 'rb').read())"
   ]
  },
  {
   "cell_type": "code",
   "execution_count": 115,
   "metadata": {},
   "outputs": [
    {
     "data": {
      "text/plain": [
       "99"
      ]
     },
     "execution_count": 115,
     "metadata": {},
     "output_type": "execute_result"
    }
   ],
   "source": [
    "metrics_dict2 = {}\n",
    "for card_name, card_dict in metrics_dict.items():\n",
    "    metrics_dict2[card_name] = {}\n",
    "    for key, values_dict in card_dict.items():\n",
    "        for k,v in values_dict.items():\n",
    "            if key == card_name:\n",
    "                metrics_dict2[card_name][k] = v\n",
    "            else:\n",
    "                metrics_dict2[card_name][key+'_'+k] = v\n",
    "len(metrics_dict2)"
   ]
  },
  {
   "cell_type": "code",
   "execution_count": 120,
   "metadata": {},
   "outputs": [
    {
     "data": {
      "text/plain": [
       "{'Rarity': 'Rare',\n",
       " 'Targets': 'Buildings',\n",
       " 'Range': 'Melee',\n",
       " 'Hit Speed': '1.6sec',\n",
       " 'Speed': 'Very Fast'}"
      ]
     },
     "execution_count": 120,
     "metadata": {},
     "output_type": "execute_result"
    }
   ],
   "source": [
    "metrics_dict2['Hog Rider']"
   ]
  },
  {
   "cell_type": "code",
   "execution_count": 119,
   "metadata": {},
   "outputs": [
    {
     "data": {
      "text/plain": [
       "['Rarity',\n",
       " 'Count',\n",
       " 'Targets',\n",
       " 'Range',\n",
       " 'Hit Speed',\n",
       " 'Speed',\n",
       " 'Golemite (On Death)_Count',\n",
       " 'Golemite (On Death)_Targets',\n",
       " 'Golemite (On Death)_Range',\n",
       " 'Golemite (On Death)_Hit Speed',\n",
       " 'Golemite (On Death)_Speed',\n",
       " 'Lava Pups (On Death)_Count',\n",
       " 'Lava Pups (On Death)_Targets',\n",
       " 'Lava Pups (On Death)_Range',\n",
       " 'Lava Pups (On Death)_Hit Speed',\n",
       " 'Lava Pups (On Death)_Speed',\n",
       " 'Radius',\n",
       " 'Dash Range',\n",
       " 'Bomb (On Death)_Targets',\n",
       " 'Giant_Rarity',\n",
       " 'Giant_Targets',\n",
       " 'Giant_Range',\n",
       " 'Giant_Hit Speed',\n",
       " 'Giant_Speed',\n",
       " 'Spear Goblin_Count',\n",
       " 'Spear Goblin_Spawn Speed',\n",
       " 'Spear Goblin_Targets',\n",
       " 'Spear Goblin_Range',\n",
       " 'Spear Goblin_Hit Speed',\n",
       " 'Spear Goblin_Speed',\n",
       " 'Rascal Boy_Rarity',\n",
       " 'Rascal Boy_Targets',\n",
       " 'Rascal Boy_Range',\n",
       " 'Rascal Boy_Hit Speed',\n",
       " 'Rascal Boy_Speed',\n",
       " 'Rascal Girl_Count',\n",
       " 'Rascal Girl_Targets',\n",
       " 'Rascal Girl_Range',\n",
       " 'Rascal Girl_Hit Speed',\n",
       " 'Rascal Girl_Speed',\n",
       " 'Skeleton_Count',\n",
       " 'Skeleton_Spawn Speed',\n",
       " 'Skeleton_Targets',\n",
       " 'Skeleton_Range',\n",
       " 'Skeleton_Hit Speed',\n",
       " 'Skeleton_Speed',\n",
       " 'Projectile Range',\n",
       " 'Cannon Cart (On Death)_Targets',\n",
       " 'Cannon Cart (On Death)_Range',\n",
       " 'Cannon Cart (On Death)_Hit Speed',\n",
       " 'Freeze Duration',\n",
       " 'Hog Rider_Rarity',\n",
       " 'Hog Rider_Targets',\n",
       " 'Hog Rider_Range',\n",
       " 'Hog Rider_Hit Speed',\n",
       " 'Hog Rider_Speed',\n",
       " 'Rider_Spawn Speed',\n",
       " 'Rider_Targets',\n",
       " 'Rider_Range',\n",
       " 'Rider_Hit Speed',\n",
       " 'Rider_Speed',\n",
       " 'Rider_Snare',\n",
       " 'Rage Barbarian_Rarity',\n",
       " 'Rage Barbarian_Targets',\n",
       " 'Rage Barbarian_Range',\n",
       " 'Rage Barbarian_Hit Speed',\n",
       " 'Rage Barbarian_Speed',\n",
       " 'Spawn ElectroWizardZap_Rarity',\n",
       " 'Spawn ElectroWizardZap_Radius',\n",
       " 'Spawn ElectroWizardZap_Targets',\n",
       " 'Stun Duration',\n",
       " 'Bat_Count',\n",
       " 'Bat_Spawn Speed',\n",
       " 'Bat_Targets',\n",
       " 'Bat_Range',\n",
       " 'Bat_Hit Speed',\n",
       " 'Bat_Speed',\n",
       " 'Bat (On Death)_Count',\n",
       " 'Bat (On Death)_Targets',\n",
       " 'Bat (On Death)_Range',\n",
       " 'Bat (On Death)_Hit Speed',\n",
       " 'Bat (On Death)_Speed',\n",
       " 'Barbarian (On Death)_Count',\n",
       " 'Barbarian (On Death)_Targets',\n",
       " 'Barbarian (On Death)_Range',\n",
       " 'Barbarian (On Death)_Hit Speed',\n",
       " 'Barbarian (On Death)_Speed',\n",
       " 'Goblin_Rarity',\n",
       " 'Goblin_Count',\n",
       " 'Goblin_Targets',\n",
       " 'Goblin_Range',\n",
       " 'Goblin_Hit Speed',\n",
       " 'Goblin_Speed',\n",
       " 'Balloon_Rarity',\n",
       " 'Balloon_Targets',\n",
       " 'Balloon_Range',\n",
       " 'Balloon_Speed',\n",
       " 'Skeleton Barrel (On Death)_Targets',\n",
       " 'Slowdown',\n",
       " 'Elixir Golemite (On Death)_Count',\n",
       " 'Elixir Golemite (On Death)_Targets',\n",
       " 'Elixir Golemite (On Death)_Range',\n",
       " 'Elixir Golemite (On Death)_Hit Speed',\n",
       " 'Elixir Golemite (On Death)_Speed',\n",
       " 'Deploy Time',\n",
       " 'Lifetime',\n",
       " 'Barbarian_Count',\n",
       " 'Barbarian_Spawn Speed',\n",
       " 'Barbarian_Targets',\n",
       " 'Barbarian_Range',\n",
       " 'Barbarian_Hit Speed',\n",
       " 'Barbarian_Speed',\n",
       " 'Production Speed',\n",
       " 'Spear Goblin (On Death)_Count',\n",
       " 'Spear Goblin (On Death)_Targets',\n",
       " 'Spear Goblin (On Death)_Range',\n",
       " 'Spear Goblin (On Death)_Hit Speed',\n",
       " 'Spear Goblin (On Death)_Speed',\n",
       " 'Fire Spirits_Count',\n",
       " 'Fire Spirits_Spawn Speed',\n",
       " 'Fire Spirits_Targets',\n",
       " 'Fire Spirits_Range',\n",
       " 'Fire Spirits_Hit Speed',\n",
       " 'Fire Spirits_Speed',\n",
       " 'Fire Spirits_Radius',\n",
       " 'Goblin Brawler (On Death)_Targets',\n",
       " 'Goblin Brawler (On Death)_Range',\n",
       " 'Goblin Brawler (On Death)_Hit Speed',\n",
       " 'Goblin Brawler (On Death)_Speed',\n",
       " 'Skeleton (On Death)_Count',\n",
       " 'Skeleton (On Death)_Targets',\n",
       " 'Skeleton (On Death)_Range',\n",
       " 'Skeleton (On Death)_Hit Speed',\n",
       " 'Skeleton (On Death)_Speed',\n",
       " 'Duration',\n",
       " 'Skeleton_Deploy Time',\n",
       " 'Clone Hitpoints',\n",
       " 'Clone Shield Hitpoints',\n",
       " 'Earthquake Slow',\n",
       " 'Rage Boost']"
      ]
     },
     "execution_count": 119,
     "metadata": {},
     "output_type": "execute_result"
    }
   ],
   "source": [
    "list(pd.DataFrame(metrics_dict2).T.columns)"
   ]
  },
  {
   "cell_type": "code",
   "execution_count": 122,
   "metadata": {},
   "outputs": [
    {
     "data": {
      "text/plain": [
       "array([nan, nan, nan, nan, nan, nan, nan, nan, nan, nan, nan, nan, nan,\n",
       "       nan, nan, nan, nan, nan, nan, nan, nan, 'Legendary', nan, nan, nan,\n",
       "       nan, nan, nan, nan, nan, nan, nan, nan, nan, nan, nan, nan, nan,\n",
       "       nan, nan, nan, nan, nan, nan, nan, nan, nan, nan, nan, nan, nan,\n",
       "       nan, nan, nan, nan, nan, nan, nan, nan, nan, nan, nan, nan, nan,\n",
       "       nan, nan, nan, nan, nan, nan, nan, nan, nan, nan, nan, nan, nan,\n",
       "       nan, nan, nan, nan, nan, nan, nan, nan, nan, nan, nan, nan, nan,\n",
       "       nan, nan, nan, nan, nan, nan, nan, nan, nan], dtype=object)"
      ]
     },
     "execution_count": 122,
     "metadata": {},
     "output_type": "execute_result"
    }
   ],
   "source": [
    "d = pd.DataFrame(metrics_dict2).T\n",
    "d['Hog Rider_Rarity'].values"
   ]
  },
  {
   "cell_type": "code",
   "execution_count": null,
   "metadata": {},
   "outputs": [],
   "source": []
  }
 ],
 "metadata": {
  "kernelspec": {
   "display_name": "Python 3",
   "language": "python",
   "name": "python3"
  },
  "language_info": {
   "codemirror_mode": {
    "name": "ipython",
    "version": 3
   },
   "file_extension": ".py",
   "mimetype": "text/x-python",
   "name": "python",
   "nbconvert_exporter": "python",
   "pygments_lexer": "ipython3",
   "version": "3.6.7"
  }
 },
 "nbformat": 4,
 "nbformat_minor": 2
}
