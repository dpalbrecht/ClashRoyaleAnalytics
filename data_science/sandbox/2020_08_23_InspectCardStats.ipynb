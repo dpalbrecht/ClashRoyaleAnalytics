{
 "cells": [
  {
   "cell_type": "code",
   "execution_count": 1,
   "metadata": {},
   "outputs": [
    {
     "data": {
      "text/html": [
       "        <script type=\"text/javascript\">\n",
       "        window.PlotlyConfig = {MathJaxConfig: 'local'};\n",
       "        if (window.MathJax) {MathJax.Hub.Config({SVG: {font: \"STIX-Web\"}});}\n",
       "        if (typeof require !== 'undefined') {\n",
       "        require.undef(\"plotly\");\n",
       "        requirejs.config({\n",
       "            paths: {\n",
       "                'plotly': ['https://cdn.plot.ly/plotly-latest.min']\n",
       "            }\n",
       "        });\n",
       "        require(['plotly'], function(Plotly) {\n",
       "            window._Plotly = Plotly;\n",
       "        });\n",
       "        }\n",
       "        </script>\n",
       "        "
      ]
     },
     "metadata": {},
     "output_type": "display_data"
    }
   ],
   "source": [
    "from google.cloud import storage\n",
    "import pandas as pd\n",
    "from io import BytesIO\n",
    "import tempfile\n",
    "import os\n",
    "import logging\n",
    "import matplotlib.pyplot as plt\n",
    "from sklearn import datasets\n",
    "from sklearn.decomposition import PCA\n",
    "import numpy as np\n",
    "import chart_studio.plotly as py\n",
    "import plotly.graph_objs as go\n",
    "from plotly.offline import download_plotlyjs, init_notebook_mode, plot, iplot\n",
    "init_notebook_mode(connected=True)\n",
    "\n",
    "try:\n",
    "    CLIENT = storage.Client()\n",
    "except:\n",
    "    CLIENT = storage.Client.from_service_account_json('../royaleapp-296a6cea39ad.json')\n",
    "BUCKET = CLIENT.bucket('royale-data')"
   ]
  },
  {
   "cell_type": "code",
   "execution_count": 2,
   "metadata": {},
   "outputs": [],
   "source": [
    "def get_latest_file(fname, folder_name='live_app_data'):\n",
    "    blobs = BUCKET.list_blobs(prefix=folder_name)\n",
    "    fname_blobs = [b.name.split('/')[1] for b in blobs if fname in b.name]\n",
    "    latest_fname = sorted(fname_blobs)[-1]\n",
    "    latest_fname_blob = BUCKET.get_blob(folder_name+'/'+latest_fname)\n",
    "    if latest_fname.endswith('.json'):\n",
    "        data = json.loads(latest_fname_blob.download_as_string())\n",
    "    elif latest_fname.endswith('.xlsx'):\n",
    "        data = pd.read_excel(BytesIO(latest_fname_blob.download_as_string()))\n",
    "    elif latest_fname.endswith('.ann'):\n",
    "        temp_file = tempfile.NamedTemporaryFile(mode='w', delete=False)\n",
    "        latest_fname_blob.download_to_filename(temp_file.name)\n",
    "        data = AnnoyIndex(714, 'dot')\n",
    "        data.load(temp_file.name)\n",
    "        temp_file.close()\n",
    "        try:\n",
    "            os.remove(temp_file.name)\n",
    "        except:\n",
    "            pass\n",
    "    logging.info(f\"{latest_fname} loaded.\")\n",
    "    return data\n",
    "\n",
    "def scree_plot(X, pca_object):\n",
    "    # Find the right number of components with a scree plot\n",
    "    variance = PCA(random_state=42).fit(X).explained_variance_\n",
    "    cumulative_variance = np.cumsum(variance)/sum(variance)*100\n",
    "    x_vals = np.arange(1, X.shape[1]+1)\n",
    "\n",
    "    fig, ax1 = plt.subplots()\n",
    "    ax2 = ax1.twinx() \n",
    "\n",
    "    ax1.set_xlabel('Principal Component')\n",
    "    ax1.set_xticks(x_vals)\n",
    "\n",
    "    ax1.set_ylabel('Explained Variance', color='r')\n",
    "    ax1.plot(x_vals, variance, 'r-o')\n",
    "    ax1.tick_params(axis='y', labelcolor='r')\n",
    "\n",
    "    ax2.plot(x_vals, cumulative_variance, 'b-o')\n",
    "    ax2.set_ylabel('Cumulative Explained Variance', color='b')\n",
    "    ax2.tick_params(axis='y', labelcolor='b')\n",
    "    plt.show();"
   ]
  },
  {
   "cell_type": "code",
   "execution_count": 3,
   "metadata": {},
   "outputs": [
    {
     "data": {
      "text/plain": [
       "((99,), (99, 34))"
      ]
     },
     "execution_count": 3,
     "metadata": {},
     "output_type": "execute_result"
    }
   ],
   "source": [
    "df_stats = get_latest_file('card_stats.xlsx')\n",
    "names = df_stats['name'].values\n",
    "vals = df_stats.values[:,1:]\n",
    "\n",
    "names.shape, vals.shape"
   ]
  },
  {
   "cell_type": "code",
   "execution_count": 4,
   "metadata": {},
   "outputs": [
    {
     "data": {
      "image/png": "[encoded data removed]",
      "text/plain": [
       "<Figure size 432x288 with 2 Axes>"
      ]
     },
     "metadata": {
      "needs_background": "light"
     },
     "output_type": "display_data"
    }
   ],
   "source": [
    "scree_plot(vals, PCA(random_state=42).fit(vals))"
   ]
  },
  {
   "cell_type": "code",
   "execution_count": 5,
   "metadata": {},
   "outputs": [
    {
     "data": {
      "text/plain": [
       "(9, 8)"
      ]
     },
     "execution_count": 5,
     "metadata": {},
     "output_type": "execute_result"
    }
   ],
   "source": [
    "len(plt.cm.Set1.colors), len(plt.cm.Dark2.colors)"
   ]
  },
  {
   "cell_type": "code",
   "execution_count": 20,
   "metadata": {},
   "outputs": [],
   "source": [
    "def get_traces(data, target, eig_vectors, loadings, dot_opacity):\n",
    "    traces = []\n",
    "    # plot each class on the first 3 principal components\n",
    "    for feat in range(len(np.unique(target))):\n",
    "        pc_trace = go.Scatter3d(\n",
    "            x = data[:,0][np.where(target==feat)],\n",
    "            y = data[:,1][np.where(target==feat)],\n",
    "            z = data[:,2][np.where(target==feat)],\n",
    "            mode='markers',\n",
    "            marker=dict(\n",
    "                color='rgba(44, 130, 201, 1)',\n",
    "                size=12,\n",
    "                line=dict(\n",
    "                    color='black',\n",
    "                    width=0.5,\n",
    "                ),\n",
    "                opacity=dot_opacity\n",
    "            ),\n",
    "            name='Class {}'.format(feat+1)        \n",
    "        )\n",
    "        traces.append(pc_trace)\n",
    "        \n",
    "    # plot the eigenvector for each feature\n",
    "    for eig_feat in range(eig_vectors.shape[0]):\n",
    "        eig_trace = go.Scatter3d(\n",
    "            x=[0, eig_vectors[eig_feat][0]], \n",
    "            y=[0, eig_vectors[eig_feat][1]], \n",
    "            z=[0, eig_vectors[eig_feat][2]],\n",
    "            marker=dict(\n",
    "                size=5,\n",
    "                color='rgba(44, 130, 201, 1)'\n",
    "            ),\n",
    "            line=dict(\n",
    "                color='rgba(44, 130, 201, 1)',\n",
    "                width=3\n",
    "            ),\n",
    "            name=target[eig_feat]\n",
    "        )\n",
    "        traces.append(eig_trace)\n",
    "        \n",
    "#     # plot the loading for each feature\n",
    "#     for loading in range(loadings.shape[0]):\n",
    "#         load_trace = go.Scatter3d(\n",
    "#             x=[0, loadings[loading][0]], \n",
    "#             y=[0, loadings[loading][1]], \n",
    "#             z=[0, loadings[loading][2]],\n",
    "#             marker=dict(\n",
    "#                 size=5,\n",
    "#                 color='rgba(44, 130, 201, 1)'\n",
    "#             ),\n",
    "#             line=dict(\n",
    "#                 color='rgba(44, 130, 201, 1)',\n",
    "#                 width=3\n",
    "#             ),\n",
    "#             name=target[loading]\n",
    "#         )\n",
    "#         traces.append(load_trace)\n",
    "        \n",
    "    return traces\n",
    "\n",
    "def plot_3d(data, target, eig_vectors, loadings, dot_opac=0.3):\n",
    "    data = get_traces(data, target, eig_vectors, loadings, dot_opac)\n",
    "    layout = go.Layout(\n",
    "        margin=dict(\n",
    "            l=0,\n",
    "            r=0,\n",
    "            b=0,\n",
    "            t=0\n",
    "        ),\n",
    "        scene = {\n",
    "            'xaxis':{'title':'PC 1'},\n",
    "            'yaxis':{'title':'PC 2'},\n",
    "            'zaxis':{'title':'PC 3'}\n",
    "        }\n",
    "    )\n",
    "    fig = go.Figure(data=data, layout=layout)\n",
    "    iplot(fig)"
   ]
  },
  {
   "cell_type": "code",
   "execution_count": 21,
   "metadata": {},
   "outputs": [
    {
     "data": {
      "application/vnd.plotly.v1+json": {
       "config": {
        "linkText": "Export to plot.ly",
        "plotlyServerURL": "https://plot.ly",
        "showLink": false
       },
       "data": [
        {
         "marker": {
          "color": "rgba(44, 130, 201, 1)",
          "line": {
           "color": "black",
           "width": 0.5
          },
          "opacity": 0.3,
          "size": 12
         },
         "mode": "markers",
         "name": "Class 1",
         "type": "scatter3d",
         "x": [],
         "y": [],
         "z": []
        },
        {
         "marker": {
          "color": "rgba(44, 130, 201, 1)",
          "line": {
           "color": "black",
           "width": 0.5
          },
          "opacity": 0.3,
          "size": 12
         },
         "mode": "markers",
         "name": "Class 2",
         "type": "scatter3d",
         "x": [],
         "y": [],
         "z": []
        },
        {
         "marker": {
          "color": "rgba(44, 130, 201, 1)",
          "line": {
           "color": "black",
           "width": 0.5
          },
          "opacity": 0.3,
          "size": 12
         },
         "mode": "markers",
         "name": "Class 3",
         "type": "scatter3d",
         "x": [],
         "y": [],
         "z": []
        },
        {
         "marker": {
          "color": "rgba(44, 130, 201, 1)",
          "line": {
           "color": "black",
           "width": 0.5
          },
          "opacity": 0.3,
          "size": 12
         },
         "mode": "markers",
         "name": "Class 4",
         "type": "scatter3d",
         "x": [],
         "y": [],
         "z": []
        },
        {
         "marker": {
          "color": "rgba(44, 130, 201, 1)",
          "line": {
           "color": "black",
           "width": 0.5
          },
          "opacity": 0.3,
          "size": 12
         },
         "mode": "markers",
         "name": "Class 5",
         "type": "scatter3d",
         "x": [],
         "y": [],
         "z": []
        },
        {
         "marker": {
          "color": "rgba(44, 130, 201, 1)",
          "line": {
           "color": "black",
           "width": 0.5
          },
          "opacity": 0.3,
          "size": 12
         },
         "mode": "markers",
         "name": "Class 6",
         "type": "scatter3d",
         "x": [],
         "y": [],
         "z": []
        },
        {
         "marker": {
          "color": "rgba(44, 130, 201, 1)",
          "line": {
           "color": "black",
           "width": 0.5
          },
          "opacity": 0.3,
          "size": 12
         },
         "mode": "markers",
         "name": "Class 7",
         "type": "scatter3d",
         "x": [],
         "y": [],
         "z": []
        },
        {
         "marker": {
          "color": "rgba(44, 130, 201, 1)",
          "line": {
           "color": "black",
           "width": 0.5
          },
          "opacity": 0.3,
          "size": 12
         },
         "mode": "markers",
         "name": "Class 8",
         "type": "scatter3d",
         "x": [],
         "y": [],
         "z": []
        },
        {
         "marker": {
          "color": "rgba(44, 130, 201, 1)",
          "line": {
           "color": "black",
           "width": 0.5
          },
          "opacity": 0.3,
          "size": 12
         },
         "mode": "markers",
         "name": "Class 9",
         "type": "scatter3d",
         "x": [],
         "y": [],
         "z": []
        },
        {
         "marker": {
          "color": "rgba(44, 130, 201, 1)",
          "line": {
           "color": "black",
           "width": 0.5
          },
          "opacity": 0.3,
          "size": 12
         },
         "mode": "markers",
         "name": "Class 10",
         "type": "scatter3d",
         "x": [],
         "y": [],
         "z": []
        },
        {
         "marker": {
          "color": "rgba(44, 130, 201, 1)",
          "line": {
           "color": "black",
           "width": 0.5
          },
          "opacity": 0.3,
          "size": 12
         },
         "mode": "markers",
         "name": "Class 11",
         "type": "scatter3d",
         "x": [],
         "y": [],
         "z": []
        },
        {
         "marker": {
          "color": "rgba(44, 130, 201, 1)",
          "line": {
           "color": "black",
           "width": 0.5
          },
          "opacity": 0.3,
          "size": 12
         },
         "mode": "markers",
         "name": "Class 12",
         "type": "scatter3d",
         "x": [],
         "y": [],
         "z": []
        },
        {
         "marker": {
          "color": "rgba(44, 130, 201, 1)",
          "line": {
           "color": "black",
           "width": 0.5
          },
          "opacity": 0.3,
          "size": 12
         },
         "mode": "markers",
         "name": "Class 13",
         "type": "scatter3d",
         "x": [],
         "y": [],
         "z": []
        },
        {
         "marker": {
          "color": "rgba(44, 130, 201, 1)",
          "line": {
           "color": "black",
           "width": 0.5
          },
          "opacity": 0.3,
          "size": 12
         },
         "mode": "markers",
         "name": "Class 14",
         "type": "scatter3d",
         "x": [],
         "y": [],
         "z": []
        },
        {
         "marker": {
          "color": "rgba(44, 130, 201, 1)",
          "line": {
           "color": "black",
           "width": 0.5
          },
          "opacity": 0.3,
          "size": 12
         },
         "mode": "markers",
         "name": "Class 15",
         "type": "scatter3d",
         "x": [],
         "y": [],
         "z": []
        },
        {
         "marker": {
          "color": "rgba(44, 130, 201, 1)",
          "line": {
           "color": "black",
           "width": 0.5
          },
          "opacity": 0.3,
          "size": 12
         },
         "mode": "markers",
         "name": "Class 16",
         "type": "scatter3d",
         "x": [],
         "y": [],
         "z": []
        },
        {
         "marker": {
          "color": "rgba(44, 130, 201, 1)",
          "line": {
           "color": "black",
           "width": 0.5
          },
          "opacity": 0.3,
          "size": 12
         },
         "mode": "markers",
         "name": "Class 17",
         "type": "scatter3d",
         "x": [],
         "y": [],
         "z": []
        },
        {
         "marker": {
          "color": "rgba(44, 130, 201, 1)",
          "line": {
           "color": "black",
           "width": 0.5
          },
          "opacity": 0.3,
          "size": 12
         },
         "mode": "markers",
         "name": "Class 18",
         "type": "scatter3d",
         "x": [],
         "y": [],
         "z": []
        },
        {
         "marker": {
          "color": "rgba(44, 130, 201, 1)",
          "line": {
           "color": "black",
           "width": 0.5
          },
          "opacity": 0.3,
          "size": 12
         },
         "mode": "markers",
         "name": "Class 19",
         "type": "scatter3d",
         "x": [],
         "y": [],
         "z": []
        },
        {
         "marker": {
          "color": "rgba(44, 130, 201, 1)",
          "line": {
           "color": "black",
           "width": 0.5
          },
          "opacity": 0.3,
          "size": 12
         },
         "mode": "markers",
         "name": "Class 20",
         "type": "scatter3d",
         "x": [],
         "y": [],
         "z": []
        },
        {
         "marker": {
          "color": "rgba(44, 130, 201, 1)",
          "line": {
           "color": "black",
           "width": 0.5
          },
          "opacity": 0.3,
          "size": 12
         },
         "mode": "markers",
         "name": "Class 21",
         "type": "scatter3d",
         "x": [],
         "y": [],
         "z": []
        },
        {
         "marker": {
          "color": "rgba(44, 130, 201, 1)",
          "line": {
           "color": "black",
           "width": 0.5
          },
          "opacity": 0.3,
          "size": 12
         },
         "mode": "markers",
         "name": "Class 22",
         "type": "scatter3d",
         "x": [],
         "y": [],
         "z": []
        },
        {
         "marker": {
          "color": "rgba(44, 130, 201, 1)",
          "line": {
           "color": "black",
           "width": 0.5
          },
          "opacity": 0.3,
          "size": 12
         },
         "mode": "markers",
         "name": "Class 23",
         "type": "scatter3d",
         "x": [],
         "y": [],
         "z": []
        },
        {
         "marker": {
          "color": "rgba(44, 130, 201, 1)",
          "line": {
           "color": "black",
           "width": 0.5
          },
          "opacity": 0.3,
          "size": 12
         },
         "mode": "markers",
         "name": "Class 24",
         "type": "scatter3d",
         "x": [],
         "y": [],
         "z": []
        },
        {
         "marker": {
          "color": "rgba(44, 130, 201, 1)",
          "line": {
           "color": "black",
           "width": 0.5
          },
          "opacity": 0.3,
          "size": 12
         },
         "mode": "markers",
         "name": "Class 25",
         "type": "scatter3d",
         "x": [],
         "y": [],
         "z": []
        },
        {
         "marker": {
          "color": "rgba(44, 130, 201, 1)",
          "line": {
           "color": "black",
           "width": 0.5
          },
          "opacity": 0.3,
          "size": 12
         },
         "mode": "markers",
         "name": "Class 26",
         "type": "scatter3d",
         "x": [],
         "y": [],
         "z": []
        },
        {
         "marker": {
          "color": "rgba(44, 130, 201, 1)",
          "line": {
           "color": "black",
           "width": 0.5
          },
          "opacity": 0.3,
          "size": 12
         },
         "mode": "markers",
         "name": "Class 27",
         "type": "scatter3d",
         "x": [],
         "y": [],
         "z": []
        },
        {
         "marker": {
          "color": "rgba(44, 130, 201, 1)",
          "line": {
           "color": "black",
           "width": 0.5
          },
          "opacity": 0.3,
          "size": 12
         },
         "mode": "markers",
         "name": "Class 28",
         "type": "scatter3d",
         "x": [],
         "y": [],
         "z": []
        },
        {
         "marker": {
          "color": "rgba(44, 130, 201, 1)",
          "line": {
           "color": "black",
           "width": 0.5
          },
          "opacity": 0.3,
          "size": 12
         },
         "mode": "markers",
         "name": "Class 29",
         "type": "scatter3d",
         "x": [],
         "y": [],
         "z": []
        },
        {
         "marker": {
          "color": "rgba(44, 130, 201, 1)",
          "line": {
           "color": "black",
           "width": 0.5
          },
          "opacity": 0.3,
          "size": 12
         },
         "mode": "markers",
         "name": "Class 30",
         "type": "scatter3d",
         "x": [],
         "y": [],
         "z": []
        },
        {
         "marker": {
          "color": "rgba(44, 130, 201, 1)",
          "line": {
           "color": "black",
           "width": 0.5
          },
          "opacity": 0.3,
          "size": 12
         },
         "mode": "markers",
         "name": "Class 31",
         "type": "scatter3d",
         "x": [],
         "y": [],
         "z": []
        },
        {
         "marker": {
          "color": "rgba(44, 130, 201, 1)",
          "line": {
           "color": "black",
           "width": 0.5
          },
          "opacity": 0.3,
          "size": 12
         },
         "mode": "markers",
         "name": "Class 32",
         "type": "scatter3d",
         "x": [],
         "y": [],
         "z": []
        },
        {
         "marker": {
          "color": "rgba(44, 130, 201, 1)",
          "line": {
           "color": "black",
           "width": 0.5
          },
          "opacity": 0.3,
          "size": 12
         },
         "mode": "markers",
         "name": "Class 33",
         "type": "scatter3d",
         "x": [],
         "y": [],
         "z": []
        },
        {
         "marker": {
          "color": "rgba(44, 130, 201, 1)",
          "line": {
           "color": "black",
           "width": 0.5
          },
          "opacity": 0.3,
          "size": 12
         },
         "mode": "markers",
         "name": "Class 34",
         "type": "scatter3d",
         "x": [],
         "y": [],
         "z": []
        },
        {
         "marker": {
          "color": "rgba(44, 130, 201, 1)",
          "line": {
           "color": "black",
           "width": 0.5
          },
          "opacity": 0.3,
          "size": 12
         },
         "mode": "markers",
         "name": "Class 35",
         "type": "scatter3d",
         "x": [],
         "y": [],
         "z": []
        },
        {
         "marker": {
          "color": "rgba(44, 130, 201, 1)",
          "line": {
           "color": "black",
           "width": 0.5
          },
          "opacity": 0.3,
          "size": 12
         },
         "mode": "markers",
         "name": "Class 36",
         "type": "scatter3d",
         "x": [],
         "y": [],
         "z": []
        },
        {
         "marker": {
          "color": "rgba(44, 130, 201, 1)",
          "line": {
           "color": "black",
           "width": 0.5
          },
          "opacity": 0.3,
          "size": 12
         },
         "mode": "markers",
         "name": "Class 37",
         "type": "scatter3d",
         "x": [],
         "y": [],
         "z": []
        },
        {
         "marker": {
          "color": "rgba(44, 130, 201, 1)",
          "line": {
           "color": "black",
           "width": 0.5
          },
          "opacity": 0.3,
          "size": 12
         },
         "mode": "markers",
         "name": "Class 38",
         "type": "scatter3d",
         "x": [],
         "y": [],
         "z": []
        },
        {
         "marker": {
          "color": "rgba(44, 130, 201, 1)",
          "line": {
           "color": "black",
           "width": 0.5
          },
          "opacity": 0.3,
          "size": 12
         },
         "mode": "markers",
         "name": "Class 39",
         "type": "scatter3d",
         "x": [],
         "y": [],
         "z": []
        },
        {
         "marker": {
          "color": "rgba(44, 130, 201, 1)",
          "line": {
           "color": "black",
           "width": 0.5
          },
          "opacity": 0.3,
          "size": 12
         },
         "mode": "markers",
         "name": "Class 40",
         "type": "scatter3d",
         "x": [],
         "y": [],
         "z": []
        },
        {
         "marker": {
          "color": "rgba(44, 130, 201, 1)",
          "line": {
           "color": "black",
           "width": 0.5
          },
          "opacity": 0.3,
          "size": 12
         },
         "mode": "markers",
         "name": "Class 41",
         "type": "scatter3d",
         "x": [],
         "y": [],
         "z": []
        },
        {
         "marker": {
          "color": "rgba(44, 130, 201, 1)",
          "line": {
           "color": "black",
           "width": 0.5
          },
          "opacity": 0.3,
          "size": 12
         },
         "mode": "markers",
         "name": "Class 42",
         "type": "scatter3d",
         "x": [],
         "y": [],
         "z": []
        },
        {
         "marker": {
          "color": "rgba(44, 130, 201, 1)",
          "line": {
           "color": "black",
           "width": 0.5
          },
          "opacity": 0.3,
          "size": 12
         },
         "mode": "markers",
         "name": "Class 43",
         "type": "scatter3d",
         "x": [],
         "y": [],
         "z": []
        },
        {
         "marker": {
          "color": "rgba(44, 130, 201, 1)",
          "line": {
           "color": "black",
           "width": 0.5
          },
          "opacity": 0.3,
          "size": 12
         },
         "mode": "markers",
         "name": "Class 44",
         "type": "scatter3d",
         "x": [],
         "y": [],
         "z": []
        },
        {
         "marker": {
          "color": "rgba(44, 130, 201, 1)",
          "line": {
           "color": "black",
           "width": 0.5
          },
          "opacity": 0.3,
          "size": 12
         },
         "mode": "markers",
         "name": "Class 45",
         "type": "scatter3d",
         "x": [],
         "y": [],
         "z": []
        },
        {
         "marker": {
          "color": "rgba(44, 130, 201, 1)",
          "line": {
           "color": "black",
           "width": 0.5
          },
          "opacity": 0.3,
          "size": 12
         },
         "mode": "markers",
         "name": "Class 46",
         "type": "scatter3d",
         "x": [],
         "y": [],
         "z": []
        },
        {
         "marker": {
          "color": "rgba(44, 130, 201, 1)",
          "line": {
           "color": "black",
           "width": 0.5
          },
          "opacity": 0.3,
          "size": 12
         },
         "mode": "markers",
         "name": "Class 47",
         "type": "scatter3d",
         "x": [],
         "y": [],
         "z": []
        },
        {
         "marker": {
          "color": "rgba(44, 130, 201, 1)",
          "line": {
           "color": "black",
           "width": 0.5
          },
          "opacity": 0.3,
          "size": 12
         },
         "mode": "markers",
         "name": "Class 48",
         "type": "scatter3d",
         "x": [],
         "y": [],
         "z": []
        },
        {
         "marker": {
          "color": "rgba(44, 130, 201, 1)",
          "line": {
           "color": "black",
           "width": 0.5
          },
          "opacity": 0.3,
          "size": 12
         },
         "mode": "markers",
         "name": "Class 49",
         "type": "scatter3d",
         "x": [],
         "y": [],
         "z": []
        },
        {
         "marker": {
          "color": "rgba(44, 130, 201, 1)",
          "line": {
           "color": "black",
           "width": 0.5
          },
          "opacity": 0.3,
          "size": 12
         },
         "mode": "markers",
         "name": "Class 50",
         "type": "scatter3d",
         "x": [],
         "y": [],
         "z": []
        },
        {
         "marker": {
          "color": "rgba(44, 130, 201, 1)",
          "line": {
           "color": "black",
           "width": 0.5
          },
          "opacity": 0.3,
          "size": 12
         },
         "mode": "markers",
         "name": "Class 51",
         "type": "scatter3d",
         "x": [],
         "y": [],
         "z": []
        },
        {
         "marker": {
          "color": "rgba(44, 130, 201, 1)",
          "line": {
           "color": "black",
           "width": 0.5
          },
          "opacity": 0.3,
          "size": 12
         },
         "mode": "markers",
         "name": "Class 52",
         "type": "scatter3d",
         "x": [],
         "y": [],
         "z": []
        },
        {
         "marker": {
          "color": "rgba(44, 130, 201, 1)",
          "line": {
           "color": "black",
           "width": 0.5
          },
          "opacity": 0.3,
          "size": 12
         },
         "mode": "markers",
         "name": "Class 53",
         "type": "scatter3d",
         "x": [],
         "y": [],
         "z": []
        },
        {
         "marker": {
          "color": "rgba(44, 130, 201, 1)",
          "line": {
           "color": "black",
           "width": 0.5
          },
          "opacity": 0.3,
          "size": 12
         },
         "mode": "markers",
         "name": "Class 54",
         "type": "scatter3d",
         "x": [],
         "y": [],
         "z": []
        },
        {
         "marker": {
          "color": "rgba(44, 130, 201, 1)",
          "line": {
           "color": "black",
           "width": 0.5
          },
          "opacity": 0.3,
          "size": 12
         },
         "mode": "markers",
         "name": "Class 55",
         "type": "scatter3d",
         "x": [],
         "y": [],
         "z": []
        },
        {
         "marker": {
          "color": "rgba(44, 130, 201, 1)",
          "line": {
           "color": "black",
           "width": 0.5
          },
          "opacity": 0.3,
          "size": 12
         },
         "mode": "markers",
         "name": "Class 56",
         "type": "scatter3d",
         "x": [],
         "y": [],
         "z": []
        },
        {
         "marker": {
          "color": "rgba(44, 130, 201, 1)",
          "line": {
           "color": "black",
           "width": 0.5
          },
          "opacity": 0.3,
          "size": 12
         },
         "mode": "markers",
         "name": "Class 57",
         "type": "scatter3d",
         "x": [],
         "y": [],
         "z": []
        },
        {
         "marker": {
          "color": "rgba(44, 130, 201, 1)",
          "line": {
           "color": "black",
           "width": 0.5
          },
          "opacity": 0.3,
          "size": 12
         },
         "mode": "markers",
         "name": "Class 58",
         "type": "scatter3d",
         "x": [],
         "y": [],
         "z": []
        },
        {
         "marker": {
          "color": "rgba(44, 130, 201, 1)",
          "line": {
           "color": "black",
           "width": 0.5
          },
          "opacity": 0.3,
          "size": 12
         },
         "mode": "markers",
         "name": "Class 59",
         "type": "scatter3d",
         "x": [],
         "y": [],
         "z": []
        },
        {
         "marker": {
          "color": "rgba(44, 130, 201, 1)",
          "line": {
           "color": "black",
           "width": 0.5
          },
          "opacity": 0.3,
          "size": 12
         },
         "mode": "markers",
         "name": "Class 60",
         "type": "scatter3d",
         "x": [],
         "y": [],
         "z": []
        },
        {
         "marker": {
          "color": "rgba(44, 130, 201, 1)",
          "line": {
           "color": "black",
           "width": 0.5
          },
          "opacity": 0.3,
          "size": 12
         },
         "mode": "markers",
         "name": "Class 61",
         "type": "scatter3d",
         "x": [],
         "y": [],
         "z": []
        },
        {
         "marker": {
          "color": "rgba(44, 130, 201, 1)",
          "line": {
           "color": "black",
           "width": 0.5
          },
          "opacity": 0.3,
          "size": 12
         },
         "mode": "markers",
         "name": "Class 62",
         "type": "scatter3d",
         "x": [],
         "y": [],
         "z": []
        },
        {
         "marker": {
          "color": "rgba(44, 130, 201, 1)",
          "line": {
           "color": "black",
           "width": 0.5
          },
          "opacity": 0.3,
          "size": 12
         },
         "mode": "markers",
         "name": "Class 63",
         "type": "scatter3d",
         "x": [],
         "y": [],
         "z": []
        },
        {
         "marker": {
          "color": "rgba(44, 130, 201, 1)",
          "line": {
           "color": "black",
           "width": 0.5
          },
          "opacity": 0.3,
          "size": 12
         },
         "mode": "markers",
         "name": "Class 64",
         "type": "scatter3d",
         "x": [],
         "y": [],
         "z": []
        },
        {
         "marker": {
          "color": "rgba(44, 130, 201, 1)",
          "line": {
           "color": "black",
           "width": 0.5
          },
          "opacity": 0.3,
          "size": 12
         },
         "mode": "markers",
         "name": "Class 65",
         "type": "scatter3d",
         "x": [],
         "y": [],
         "z": []
        },
        {
         "marker": {
          "color": "rgba(44, 130, 201, 1)",
          "line": {
           "color": "black",
           "width": 0.5
          },
          "opacity": 0.3,
          "size": 12
         },
         "mode": "markers",
         "name": "Class 66",
         "type": "scatter3d",
         "x": [],
         "y": [],
         "z": []
        },
        {
         "marker": {
          "color": "rgba(44, 130, 201, 1)",
          "line": {
           "color": "black",
           "width": 0.5
          },
          "opacity": 0.3,
          "size": 12
         },
         "mode": "markers",
         "name": "Class 67",
         "type": "scatter3d",
         "x": [],
         "y": [],
         "z": []
        },
        {
         "marker": {
          "color": "rgba(44, 130, 201, 1)",
          "line": {
           "color": "black",
           "width": 0.5
          },
          "opacity": 0.3,
          "size": 12
         },
         "mode": "markers",
         "name": "Class 68",
         "type": "scatter3d",
         "x": [],
         "y": [],
         "z": []
        },
        {
         "marker": {
          "color": "rgba(44, 130, 201, 1)",
          "line": {
           "color": "black",
           "width": 0.5
          },
          "opacity": 0.3,
          "size": 12
         },
         "mode": "markers",
         "name": "Class 69",
         "type": "scatter3d",
         "x": [],
         "y": [],
         "z": []
        },
        {
         "marker": {
          "color": "rgba(44, 130, 201, 1)",
          "line": {
           "color": "black",
           "width": 0.5
          },
          "opacity": 0.3,
          "size": 12
         },
         "mode": "markers",
         "name": "Class 70",
         "type": "scatter3d",
         "x": [],
         "y": [],
         "z": []
        },
        {
         "marker": {
          "color": "rgba(44, 130, 201, 1)",
          "line": {
           "color": "black",
           "width": 0.5
          },
          "opacity": 0.3,
          "size": 12
         },
         "mode": "markers",
         "name": "Class 71",
         "type": "scatter3d",
         "x": [],
         "y": [],
         "z": []
        },
        {
         "marker": {
          "color": "rgba(44, 130, 201, 1)",
          "line": {
           "color": "black",
           "width": 0.5
          },
          "opacity": 0.3,
          "size": 12
         },
         "mode": "markers",
         "name": "Class 72",
         "type": "scatter3d",
         "x": [],
         "y": [],
         "z": []
        },
        {
         "marker": {
          "color": "rgba(44, 130, 201, 1)",
          "line": {
           "color": "black",
           "width": 0.5
          },
          "opacity": 0.3,
          "size": 12
         },
         "mode": "markers",
         "name": "Class 73",
         "type": "scatter3d",
         "x": [],
         "y": [],
         "z": []
        },
        {
         "marker": {
          "color": "rgba(44, 130, 201, 1)",
          "line": {
           "color": "black",
           "width": 0.5
          },
          "opacity": 0.3,
          "size": 12
         },
         "mode": "markers",
         "name": "Class 74",
         "type": "scatter3d",
         "x": [],
         "y": [],
         "z": []
        },
        {
         "marker": {
          "color": "rgba(44, 130, 201, 1)",
          "line": {
           "color": "black",
           "width": 0.5
          },
          "opacity": 0.3,
          "size": 12
         },
         "mode": "markers",
         "name": "Class 75",
         "type": "scatter3d",
         "x": [],
         "y": [],
         "z": []
        },
        {
         "marker": {
          "color": "rgba(44, 130, 201, 1)",
          "line": {
           "color": "black",
           "width": 0.5
          },
          "opacity": 0.3,
          "size": 12
         },
         "mode": "markers",
         "name": "Class 76",
         "type": "scatter3d",
         "x": [],
         "y": [],
         "z": []
        },
        {
         "marker": {
          "color": "rgba(44, 130, 201, 1)",
          "line": {
           "color": "black",
           "width": 0.5
          },
          "opacity": 0.3,
          "size": 12
         },
         "mode": "markers",
         "name": "Class 77",
         "type": "scatter3d",
         "x": [],
         "y": [],
         "z": []
        },
        {
         "marker": {
          "color": "rgba(44, 130, 201, 1)",
          "line": {
           "color": "black",
           "width": 0.5
          },
          "opacity": 0.3,
          "size": 12
         },
         "mode": "markers",
         "name": "Class 78",
         "type": "scatter3d",
         "x": [],
         "y": [],
         "z": []
        },
        {
         "marker": {
          "color": "rgba(44, 130, 201, 1)",
          "line": {
           "color": "black",
           "width": 0.5
          },
          "opacity": 0.3,
          "size": 12
         },
         "mode": "markers",
         "name": "Class 79",
         "type": "scatter3d",
         "x": [],
         "y": [],
         "z": []
        },
        {
         "marker": {
          "color": "rgba(44, 130, 201, 1)",
          "line": {
           "color": "black",
           "width": 0.5
          },
          "opacity": 0.3,
          "size": 12
         },
         "mode": "markers",
         "name": "Class 80",
         "type": "scatter3d",
         "x": [],
         "y": [],
         "z": []
        },
        {
         "marker": {
          "color": "rgba(44, 130, 201, 1)",
          "line": {
           "color": "black",
           "width": 0.5
          },
          "opacity": 0.3,
          "size": 12
         },
         "mode": "markers",
         "name": "Class 81",
         "type": "scatter3d",
         "x": [],
         "y": [],
         "z": []
        },
        {
         "marker": {
          "color": "rgba(44, 130, 201, 1)",
          "line": {
           "color": "black",
           "width": 0.5
          },
          "opacity": 0.3,
          "size": 12
         },
         "mode": "markers",
         "name": "Class 82",
         "type": "scatter3d",
         "x": [],
         "y": [],
         "z": []
        },
        {
         "marker": {
          "color": "rgba(44, 130, 201, 1)",
          "line": {
           "color": "black",
           "width": 0.5
          },
          "opacity": 0.3,
          "size": 12
         },
         "mode": "markers",
         "name": "Class 83",
         "type": "scatter3d",
         "x": [],
         "y": [],
         "z": []
        },
        {
         "marker": {
          "color": "rgba(44, 130, 201, 1)",
          "line": {
           "color": "black",
           "width": 0.5
          },
          "opacity": 0.3,
          "size": 12
         },
         "mode": "markers",
         "name": "Class 84",
         "type": "scatter3d",
         "x": [],
         "y": [],
         "z": []
        },
        {
         "marker": {
          "color": "rgba(44, 130, 201, 1)",
          "line": {
           "color": "black",
           "width": 0.5
          },
          "opacity": 0.3,
          "size": 12
         },
         "mode": "markers",
         "name": "Class 85",
         "type": "scatter3d",
         "x": [],
         "y": [],
         "z": []
        },
        {
         "marker": {
          "color": "rgba(44, 130, 201, 1)",
          "line": {
           "color": "black",
           "width": 0.5
          },
          "opacity": 0.3,
          "size": 12
         },
         "mode": "markers",
         "name": "Class 86",
         "type": "scatter3d",
         "x": [],
         "y": [],
         "z": []
        },
        {
         "marker": {
          "color": "rgba(44, 130, 201, 1)",
          "line": {
           "color": "black",
           "width": 0.5
          },
          "opacity": 0.3,
          "size": 12
         },
         "mode": "markers",
         "name": "Class 87",
         "type": "scatter3d",
         "x": [],
         "y": [],
         "z": []
        },
        {
         "marker": {
          "color": "rgba(44, 130, 201, 1)",
          "line": {
           "color": "black",
           "width": 0.5
          },
          "opacity": 0.3,
          "size": 12
         },
         "mode": "markers",
         "name": "Class 88",
         "type": "scatter3d",
         "x": [],
         "y": [],
         "z": []
        },
        {
         "marker": {
          "color": "rgba(44, 130, 201, 1)",
          "line": {
           "color": "black",
           "width": 0.5
          },
          "opacity": 0.3,
          "size": 12
         },
         "mode": "markers",
         "name": "Class 89",
         "type": "scatter3d",
         "x": [],
         "y": [],
         "z": []
        },
        {
         "marker": {
          "color": "rgba(44, 130, 201, 1)",
          "line": {
           "color": "black",
           "width": 0.5
          },
          "opacity": 0.3,
          "size": 12
         },
         "mode": "markers",
         "name": "Class 90",
         "type": "scatter3d",
         "x": [],
         "y": [],
         "z": []
        },
        {
         "marker": {
          "color": "rgba(44, 130, 201, 1)",
          "line": {
           "color": "black",
           "width": 0.5
          },
          "opacity": 0.3,
          "size": 12
         },
         "mode": "markers",
         "name": "Class 91",
         "type": "scatter3d",
         "x": [],
         "y": [],
         "z": []
        },
        {
         "marker": {
          "color": "rgba(44, 130, 201, 1)",
          "line": {
           "color": "black",
           "width": 0.5
          },
          "opacity": 0.3,
          "size": 12
         },
         "mode": "markers",
         "name": "Class 92",
         "type": "scatter3d",
         "x": [],
         "y": [],
         "z": []
        },
        {
         "marker": {
          "color": "rgba(44, 130, 201, 1)",
          "line": {
           "color": "black",
           "width": 0.5
          },
          "opacity": 0.3,
          "size": 12
         },
         "mode": "markers",
         "name": "Class 93",
         "type": "scatter3d",
         "x": [],
         "y": [],
         "z": []
        },
        {
         "marker": {
          "color": "rgba(44, 130, 201, 1)",
          "line": {
           "color": "black",
           "width": 0.5
          },
          "opacity": 0.3,
          "size": 12
         },
         "mode": "markers",
         "name": "Class 94",
         "type": "scatter3d",
         "x": [],
         "y": [],
         "z": []
        },
        {
         "marker": {
          "color": "rgba(44, 130, 201, 1)",
          "line": {
           "color": "black",
           "width": 0.5
          },
          "opacity": 0.3,
          "size": 12
         },
         "mode": "markers",
         "name": "Class 95",
         "type": "scatter3d",
         "x": [],
         "y": [],
         "z": []
        },
        {
         "marker": {
          "color": "rgba(44, 130, 201, 1)",
          "line": {
           "color": "black",
           "width": 0.5
          },
          "opacity": 0.3,
          "size": 12
         },
         "mode": "markers",
         "name": "Class 96",
         "type": "scatter3d",
         "x": [],
         "y": [],
         "z": []
        },
        {
         "marker": {
          "color": "rgba(44, 130, 201, 1)",
          "line": {
           "color": "black",
           "width": 0.5
          },
          "opacity": 0.3,
          "size": 12
         },
         "mode": "markers",
         "name": "Class 97",
         "type": "scatter3d",
         "x": [],
         "y": [],
         "z": []
        },
        {
         "marker": {
          "color": "rgba(44, 130, 201, 1)",
          "line": {
           "color": "black",
           "width": 0.5
          },
          "opacity": 0.3,
          "size": 12
         },
         "mode": "markers",
         "name": "Class 98",
         "type": "scatter3d",
         "x": [],
         "y": [],
         "z": []
        },
        {
         "marker": {
          "color": "rgba(44, 130, 201, 1)",
          "line": {
           "color": "black",
           "width": 0.5
          },
          "opacity": 0.3,
          "size": 12
         },
         "mode": "markers",
         "name": "Class 99",
         "type": "scatter3d",
         "x": [],
         "y": [],
         "z": []
        },
        {
         "line": {
          "color": "rgba(44, 130, 201, 1)",
          "width": 3
         },
         "marker": {
          "color": "rgba(44, 130, 201, 1)",
          "size": 5
         },
         "name": "Knight",
         "type": "scatter3d",
         "x": [
          0,
          0.11191377107996153
         ],
         "y": [
          0,
          -0.007254086134824314
         ],
         "z": [
          0,
          -0.023092038089644374
         ]
        },
        {
         "line": {
          "color": "rgba(44, 130, 201, 1)",
          "width": 3
         },
         "marker": {
          "color": "rgba(44, 130, 201, 1)",
          "size": 5
         },
         "name": "Archers",
         "type": "scatter3d",
         "x": [
          0,
          0.02029751548835072
         ],
         "y": [
          0,
          0.024460927185995504
         ],
         "z": [
          0,
          0.01755675706500039
         ]
        },
        {
         "line": {
          "color": "rgba(44, 130, 201, 1)",
          "width": 3
         },
         "marker": {
          "color": "rgba(44, 130, 201, 1)",
          "size": 5
         },
         "name": "Goblins",
         "type": "scatter3d",
         "x": [
          0,
          0.014169688647837821
         ],
         "y": [
          0,
          0.02409899621454702
         ],
         "z": [
          0,
          -0.04218519512961249
         ]
        },
        {
         "line": {
          "color": "rgba(44, 130, 201, 1)",
          "width": 3
         },
         "marker": {
          "color": "rgba(44, 130, 201, 1)",
          "size": 5
         },
         "name": "Giant",
         "type": "scatter3d",
         "x": [
          0,
          0.24877440013691302
         ],
         "y": [
          0,
          -0.09360234882140042
         ],
         "z": [
          0,
          0.03466614767390298
         ]
        },
        {
         "line": {
          "color": "rgba(44, 130, 201, 1)",
          "width": 3
         },
         "marker": {
          "color": "rgba(44, 130, 201, 1)",
          "size": 5
         },
         "name": "P.E.K.K.A",
         "type": "scatter3d",
         "x": [
          0,
          0.24621448442457688
         ],
         "y": [
          0,
          0.08473994639364081
         ],
         "z": [
          0,
          -0.20730139748592671
         ]
        },
        {
         "line": {
          "color": "rgba(44, 130, 201, 1)",
          "width": 3
         },
         "marker": {
          "color": "rgba(44, 130, 201, 1)",
          "size": 5
         },
         "name": "Minions",
         "type": "scatter3d",
         "x": [
          0,
          0.015568861461441914
         ],
         "y": [
          0,
          0.025090069321569347
         ],
         "z": [
          0,
          0.014612135522977094
         ]
        },
        {
         "line": {
          "color": "rgba(44, 130, 201, 1)",
          "width": 3
         },
         "marker": {
          "color": "rgba(44, 130, 201, 1)",
          "size": 5
         },
         "name": "Balloon",
         "type": "scatter3d",
         "x": [
          0,
          0.11548406767567587
         ],
         "y": [
          0,
          0.17153861998856185
         ],
         "z": [
          0,
          -0.17639994531070127
         ]
        },
        {
         "line": {
          "color": "rgba(44, 130, 201, 1)",
          "width": 3
         },
         "marker": {
          "color": "rgba(44, 130, 201, 1)",
          "size": 5
         },
         "name": "Witch",
         "type": "scatter3d",
         "x": [
          0,
          0.053687476876845816
         ],
         "y": [
          0,
          0.019006751077144075
         ],
         "z": [
          0,
          0.04122035523256371
         ]
        },
        {
         "line": {
          "color": "rgba(44, 130, 201, 1)",
          "width": 3
         },
         "marker": {
          "color": "rgba(44, 130, 201, 1)",
          "size": 5
         },
         "name": "Barbarians",
         "type": "scatter3d",
         "x": [
          0,
          0.0443240040888753
         ],
         "y": [
          0,
          0.026959220191983414
         ],
         "z": [
          0,
          -0.05597146851368765
         ]
        },
        {
         "line": {
          "color": "rgba(44, 130, 201, 1)",
          "width": 3
         },
         "marker": {
          "color": "rgba(44, 130, 201, 1)",
          "size": 5
         },
         "name": "Golem",
         "type": "scatter3d",
         "x": [
          0,
          0.4656185467212207
         ],
         "y": [
          0,
          -0.20722676912441076
         ],
         "z": [
          0,
          0.13594373927608516
         ]
        },
        {
         "line": {
          "color": "rgba(44, 130, 201, 1)",
          "width": 3
         },
         "marker": {
          "color": "rgba(44, 130, 201, 1)",
          "size": 5
         },
         "name": "Skeletons",
         "type": "scatter3d",
         "x": [
          0,
          0.006120643392796068
         ],
         "y": [
          0,
          0.01815557879026887
         ],
         "z": [
          0,
          -0.03045152543164922
         ]
        },
        {
         "line": {
          "color": "rgba(44, 130, 201, 1)",
          "width": 3
         },
         "marker": {
          "color": "rgba(44, 130, 201, 1)",
          "size": 5
         },
         "name": "Valkyrie",
         "type": "scatter3d",
         "x": [
          0,
          0.1279573190042301
         ],
         "y": [
          0,
          0.021254948087061833
         ],
         "z": [
          0,
          -0.05248733404940574
         ]
        },
        {
         "line": {
          "color": "rgba(44, 130, 201, 1)",
          "width": 3
         },
         "marker": {
          "color": "rgba(44, 130, 201, 1)",
          "size": 5
         },
         "name": "Skeleton Army",
         "type": "scatter3d",
         "x": [
          0,
          0.006074513093707322
         ],
         "y": [
          0,
          0.01793803824010816
         ],
         "z": [
          0,
          -0.03051413122372305
         ]
        },
        {
         "line": {
          "color": "rgba(44, 130, 201, 1)",
          "width": 3
         },
         "marker": {
          "color": "rgba(44, 130, 201, 1)",
          "size": 5
         },
         "name": "Bomber",
         "type": "scatter3d",
         "x": [
          0,
          0.03434754950262862
         ],
         "y": [
          0,
          0.09298395037421961
         ],
         "z": [
          0,
          -0.1312640111610612
         ]
        },
        {
         "line": {
          "color": "rgba(44, 130, 201, 1)",
          "width": 3
         },
         "marker": {
          "color": "rgba(44, 130, 201, 1)",
          "size": 5
         },
         "name": "Musketeer",
         "type": "scatter3d",
         "x": [
          0,
          0.04776515004332213
         ],
         "y": [
          0,
          0.04650703052701318
         ],
         "z": [
          0,
          0.03928177769387832
         ]
        },
        {
         "line": {
          "color": "rgba(44, 130, 201, 1)",
          "width": 3
         },
         "marker": {
          "color": "rgba(44, 130, 201, 1)",
          "size": 5
         },
         "name": "Baby Dragon",
         "type": "scatter3d",
         "x": [
          0,
          0.07397346695120435
         ],
         "y": [
          0,
          0.024806303013074828
         ],
         "z": [
          0,
          0.043494775941365964
         ]
        },
        {
         "line": {
          "color": "rgba(44, 130, 201, 1)",
          "width": 3
         },
         "marker": {
          "color": "rgba(44, 130, 201, 1)",
          "size": 5
         },
         "name": "Prince",
         "type": "scatter3d",
         "x": [
          0,
          0.13086155710457925
         ],
         "y": [
          0,
          0.03350753417869725
         ],
         "z": [
          0,
          -0.09237413860009003
         ]
        },
        {
         "line": {
          "color": "rgba(44, 130, 201, 1)",
          "width": 3
         },
         "marker": {
          "color": "rgba(44, 130, 201, 1)",
          "size": 5
         },
         "name": "Wizard",
         "type": "scatter3d",
         "x": [
          0,
          0.048557980701311294
         ],
         "y": [
          0,
          0.08838114961981261
         ],
         "z": [
          0,
          0.032007071560092255
         ]
        },
        {
         "line": {
          "color": "rgba(44, 130, 201, 1)",
          "width": 3
         },
         "marker": {
          "color": "rgba(44, 130, 201, 1)",
          "size": 5
         },
         "name": "Mini P.E.K.K.A",
         "type": "scatter3d",
         "x": [
          0,
          0.09483019175818297
         ],
         "y": [
          0,
          0.14156810988554172
         ],
         "z": [
          0,
          -0.2496210713117258
         ]
        },
        {
         "line": {
          "color": "rgba(44, 130, 201, 1)",
          "width": 3
         },
         "marker": {
          "color": "rgba(44, 130, 201, 1)",
          "size": 5
         },
         "name": "Spear Goblins",
         "type": "scatter3d",
         "x": [
          0,
          0.009268358235630518
         ],
         "y": [
          0,
          0.021595667520205926
         ],
         "z": [
          0,
          0.009920676282277474
         ]
        },
        {
         "line": {
          "color": "rgba(44, 130, 201, 1)",
          "width": 3
         },
         "marker": {
          "color": "rgba(44, 130, 201, 1)",
          "size": 5
         },
         "name": "Giant Skeleton",
         "type": "scatter3d",
         "x": [
          0,
          0.21217963815853297
         ],
         "y": [
          0,
          -0.07803465451056209
         ],
         "z": [
          0,
          0.05098179473636104
         ]
        },
        {
         "line": {
          "color": "rgba(44, 130, 201, 1)",
          "width": 3
         },
         "marker": {
          "color": "rgba(44, 130, 201, 1)",
          "size": 5
         },
         "name": "Hog Rider",
         "type": "scatter3d",
         "x": [
          0,
          0.10907358735550406
         ],
         "y": [
          0,
          -0.006621504408683389
         ],
         "z": [
          0,
          -0.06699050377285663
         ]
        },
        {
         "line": {
          "color": "rgba(44, 130, 201, 1)",
          "width": 3
         },
         "marker": {
          "color": "rgba(44, 130, 201, 1)",
          "size": 5
         },
         "name": "Minion Horde",
         "type": "scatter3d",
         "x": [
          0,
          0.015549406557460399
         ],
         "y": [
          0,
          0.02499819413812392
         ],
         "z": [
          0,
          0.014590133821271568
         ]
        },
        {
         "line": {
          "color": "rgba(44, 130, 201, 1)",
          "width": 3
         },
         "marker": {
          "color": "rgba(44, 130, 201, 1)",
          "size": 5
         },
         "name": "Ice Wizard",
         "type": "scatter3d",
         "x": [
          0,
          0.045468999411446706
         ],
         "y": [
          0,
          0.011782261368650267
         ],
         "z": [
          0,
          0.026559557593752194
         ]
        },
        {
         "line": {
          "color": "rgba(44, 130, 201, 1)",
          "width": 3
         },
         "marker": {
          "color": "rgba(44, 130, 201, 1)",
          "size": 5
         },
         "name": "Royal Giant",
         "type": "scatter3d",
         "x": [
          0,
          0.19433313628554655
         ],
         "y": [
          0,
          -0.0553012143517845
         ],
         "z": [
          0,
          -0.015662606567804892
         ]
        },
        {
         "line": {
          "color": "rgba(44, 130, 201, 1)",
          "width": 3
         },
         "marker": {
          "color": "rgba(44, 130, 201, 1)",
          "size": 5
         },
         "name": "Guards",
         "type": "scatter3d",
         "x": [
          0,
          0.008227299329831211
         ],
         "y": [
          0,
          0.024414030705700775
         ],
         "z": [
          0,
          -0.04089405969537666
         ]
        },
        {
         "line": {
          "color": "rgba(44, 130, 201, 1)",
          "width": 3
         },
         "marker": {
          "color": "rgba(44, 130, 201, 1)",
          "size": 5
         },
         "name": "Princess",
         "type": "scatter3d",
         "x": [
          0,
          0.018346079571960546
         ],
         "y": [
          0,
          0.058478168490990766
         ],
         "z": [
          0,
          0.013276347985579858
         ]
        },
        {
         "line": {
          "color": "rgba(44, 130, 201, 1)",
          "width": 3
         },
         "marker": {
          "color": "rgba(44, 130, 201, 1)",
          "size": 5
         },
         "name": "Dark Prince",
         "type": "scatter3d",
         "x": [
          0,
          0.09575973349625905
         ],
         "y": [
          0,
          0.03264519925177745
         ],
         "z": [
          0,
          -0.061760579157608964
         ]
        },
        {
         "line": {
          "color": "rgba(44, 130, 201, 1)",
          "width": 3
         },
         "marker": {
          "color": "rgba(44, 130, 201, 1)",
          "size": 5
         },
         "name": "Three Musketeers",
         "type": "scatter3d",
         "x": [
          0,
          0.047742675274016246
         ],
         "y": [
          0,
          0.04640079522020042
         ],
         "z": [
          0,
          0.03925952270355964
         ]
        },
        {
         "line": {
          "color": "rgba(44, 130, 201, 1)",
          "width": 3
         },
         "marker": {
          "color": "rgba(44, 130, 201, 1)",
          "size": 5
         },
         "name": "Lava Hound",
         "type": "scatter3d",
         "x": [
          0,
          0.23771863733489318
         ],
         "y": [
          0,
          -0.103146569812059
         ],
         "z": [
          0,
          0.14239161785086007
         ]
        },
        {
         "line": {
          "color": "rgba(44, 130, 201, 1)",
          "width": 3
         },
         "marker": {
          "color": "rgba(44, 130, 201, 1)",
          "size": 5
         },
         "name": "Ice Spirit",
         "type": "scatter3d",
         "x": [
          0,
          0.015622402551115279
         ],
         "y": [
          0,
          0.03446429975301165
         ],
         "z": [
          0,
          0.012743379541316926
         ]
        },
        {
         "line": {
          "color": "rgba(44, 130, 201, 1)",
          "width": 3
         },
         "marker": {
          "color": "rgba(44, 130, 201, 1)",
          "size": 5
         },
         "name": "Fire Spirits",
         "type": "scatter3d",
         "x": [
          0,
          0.00959670611712915
         ],
         "y": [
          0,
          0.08224561429679127
         ],
         "z": [
          0,
          0.009425858614969328
         ]
        },
        {
         "line": {
          "color": "rgba(44, 130, 201, 1)",
          "width": 3
         },
         "marker": {
          "color": "rgba(44, 130, 201, 1)",
          "size": 5
         },
         "name": "Miner",
         "type": "scatter3d",
         "x": [
          0,
          0.0772089648520487
         ],
         "y": [
          0,
          0.0013329272279392237
         ],
         "z": [
          0,
          0.0043796498632227045
         ]
        },
        {
         "line": {
          "color": "rgba(44, 130, 201, 1)",
          "width": 3
         },
         "marker": {
          "color": "rgba(44, 130, 201, 1)",
          "size": 5
         },
         "name": "Sparky",
         "type": "scatter3d",
         "x": [
          0,
          0.10832706178140417
         ],
         "y": [
          0,
          0.3951681963773423
         ],
         "z": [
          0,
          -0.5496936509689705
         ]
        },
        {
         "line": {
          "color": "rgba(44, 130, 201, 1)",
          "width": 3
         },
         "marker": {
          "color": "rgba(44, 130, 201, 1)",
          "size": 5
         },
         "name": "Bowler",
         "type": "scatter3d",
         "x": [
          0,
          0.12387181943456416
         ],
         "y": [
          0,
          0.030808079779298447
         ],
         "z": [
          0,
          -0.06469100816893689
         ]
        },
        {
         "line": {
          "color": "rgba(44, 130, 201, 1)",
          "width": 3
         },
         "marker": {
          "color": "rgba(44, 130, 201, 1)",
          "size": 5
         },
         "name": "Lumberjack",
         "type": "scatter3d",
         "x": [
          0,
          0.08299504191667234
         ],
         "y": [
          0,
          0.019219926485070583
         ],
         "z": [
          0,
          -0.055506578861102995
         ]
        },
        {
         "line": {
          "color": "rgba(44, 130, 201, 1)",
          "width": 3
         },
         "marker": {
          "color": "rgba(44, 130, 201, 1)",
          "size": 5
         },
         "name": "Battle Ram",
         "type": "scatter3d",
         "x": [
          0,
          0.10076603481719214
         ],
         "y": [
          0,
          -0.013810081175299692
         ],
         "z": [
          0,
          -0.010545072152215278
         ]
        },
        {
         "line": {
          "color": "rgba(44, 130, 201, 1)",
          "width": 3
         },
         "marker": {
          "color": "rgba(44, 130, 201, 1)",
          "size": 5
         },
         "name": "Inferno Dragon",
         "type": "scatter3d",
         "x": [
          0,
          0.08340380467601015
         ],
         "y": [
          0,
          0.030730242425144598
         ],
         "z": [
          0,
          0.05940067943227304
         ]
        },
        {
         "line": {
          "color": "rgba(44, 130, 201, 1)",
          "width": 3
         },
         "marker": {
          "color": "rgba(44, 130, 201, 1)",
          "size": 5
         },
         "name": "Ice Golem",
         "type": "scatter3d",
         "x": [
          0,
          0.07551179568721457
         ],
         "y": [
          0,
          -0.028615986513586322
         ],
         "z": [
          0,
          0.009250597015589739
         ]
        },
        {
         "line": {
          "color": "rgba(44, 130, 201, 1)",
          "width": 3
         },
         "marker": {
          "color": "rgba(44, 130, 201, 1)",
          "size": 5
         },
         "name": "Mega Minion",
         "type": "scatter3d",
         "x": [
          0,
          0.05629217978404119
         ],
         "y": [
          0,
          0.07294166706753874
         ],
         "z": [
          0,
          0.04956983940739048
         ]
        },
        {
         "line": {
          "color": "rgba(44, 130, 201, 1)",
          "width": 3
         },
         "marker": {
          "color": "rgba(44, 130, 201, 1)",
          "size": 5
         },
         "name": "Dart Goblin",
         "type": "scatter3d",
         "x": [
          0,
          0.017768808147228834
         ],
         "y": [
          0,
          0.030290786669626032
         ],
         "z": [
          0,
          0.016986657891608716
         ]
        },
        {
         "line": {
          "color": "rgba(44, 130, 201, 1)",
          "width": 3
         },
         "marker": {
          "color": "rgba(44, 130, 201, 1)",
          "size": 5
         },
         "name": "Goblin Gang",
         "type": "scatter3d",
         "x": [
          0,
          0.01166728830047876
         ],
         "y": [
          0,
          0.025406425882101156
         ],
         "z": [
          0,
          0.003160255028624599
         ]
        },
        {
         "line": {
          "color": "rgba(44, 130, 201, 1)",
          "width": 3
         },
         "marker": {
          "color": "rgba(44, 130, 201, 1)",
          "size": 5
         },
         "name": "Electro Wizard",
         "type": "scatter3d",
         "x": [
          0,
          0.04733431161985726
         ],
         "y": [
          0,
          0.051153619489945054
         ],
         "z": [
          0,
          0.039845493652522254
         ]
        },
        {
         "line": {
          "color": "rgba(44, 130, 201, 1)",
          "width": 3
         },
         "marker": {
          "color": "rgba(44, 130, 201, 1)",
          "size": 5
         },
         "name": "Elite Barbarians",
         "type": "scatter3d",
         "x": [
          0,
          0.07790204540026863
         ],
         "y": [
          0,
          0.05461647158341506
         ],
         "z": [
          0,
          -0.10919547075312572
         ]
        },
        {
         "line": {
          "color": "rgba(44, 130, 201, 1)",
          "width": 3
         },
         "marker": {
          "color": "rgba(44, 130, 201, 1)",
          "size": 5
         },
         "name": "Hunter",
         "type": "scatter3d",
         "x": [
          0,
          0.0632217983326471
         ],
         "y": [
          0,
          0.3098454316346503
         ],
         "z": [
          0,
          0.05102529388596755
         ]
        },
        {
         "line": {
          "color": "rgba(44, 130, 201, 1)",
          "width": 3
         },
         "marker": {
          "color": "rgba(44, 130, 201, 1)",
          "size": 5
         },
         "name": "Executioner",
         "type": "scatter3d",
         "x": [
          0,
          0.08024214730022997
         ],
         "y": [
          0,
          0.09367875256558983
         ],
         "z": [
          0,
          0.05038203392154497
         ]
        },
        {
         "line": {
          "color": "rgba(44, 130, 201, 1)",
          "width": 3
         },
         "marker": {
          "color": "rgba(44, 130, 201, 1)",
          "size": 5
         },
         "name": "Bandit",
         "type": "scatter3d",
         "x": [
          0,
          0.05900720669225407
         ],
         "y": [
          0,
          0.019299779742660426
         ],
         "z": [
          0,
          -0.04844922312162539
         ]
        },
        {
         "line": {
          "color": "rgba(44, 130, 201, 1)",
          "width": 3
         },
         "marker": {
          "color": "rgba(44, 130, 201, 1)",
          "size": 5
         },
         "name": "Royal Recruits",
         "type": "scatter3d",
         "x": [
          0,
          0.04966024940700546
         ],
         "y": [
          0,
          0.005220831731944408
         ],
         "z": [
          0,
          -0.023833522780908705
         ]
        },
        {
         "line": {
          "color": "rgba(44, 130, 201, 1)",
          "width": 3
         },
         "marker": {
          "color": "rgba(44, 130, 201, 1)",
          "size": 5
         },
         "name": "Night Witch",
         "type": "scatter3d",
         "x": [
          0,
          0.05898717200186171
         ],
         "y": [
          0,
          0.025634624702094714
         ],
         "z": [
          0,
          -0.011571256605971733
         ]
        },
        {
         "line": {
          "color": "rgba(44, 130, 201, 1)",
          "width": 3
         },
         "marker": {
          "color": "rgba(44, 130, 201, 1)",
          "size": 5
         },
         "name": "Bats",
         "type": "scatter3d",
         "x": [
          0,
          0.0060480355949887425
         ],
         "y": [
          0,
          0.023418628470261466
         ],
         "z": [
          0,
          0.008165484402438097
         ]
        },
        {
         "line": {
          "color": "rgba(44, 130, 201, 1)",
          "width": 3
         },
         "marker": {
          "color": "rgba(44, 130, 201, 1)",
          "size": 5
         },
         "name": "Royal Ghost",
         "type": "scatter3d",
         "x": [
          0,
          0.0787090744887022
         ],
         "y": [
          0,
          0.04609052209534064
         ],
         "z": [
          0,
          -0.07660601213422255
         ]
        },
        {
         "line": {
          "color": "rgba(44, 130, 201, 1)",
          "width": 3
         },
         "marker": {
          "color": "rgba(44, 130, 201, 1)",
          "size": 5
         },
         "name": "Ram Rider",
         "type": "scatter3d",
         "x": [
          0,
          0.11278628528792786
         ],
         "y": [
          0,
          -0.00033168348705373446
         ],
         "z": [
          0,
          0.0036089719369761346
         ]
        },
        {
         "line": {
          "color": "rgba(44, 130, 201, 1)",
          "width": 3
         },
         "marker": {
          "color": "rgba(44, 130, 201, 1)",
          "size": 5
         },
         "name": "Zappies",
         "type": "scatter3d",
         "x": [
          0,
          0.03433898953131898
         ],
         "y": [
          0,
          0.014710824414829507
         ],
         "z": [
          0,
          0.0248464534039416
         ]
        },
        {
         "line": {
          "color": "rgba(44, 130, 201, 1)",
          "width": 3
         },
         "marker": {
          "color": "rgba(44, 130, 201, 1)",
          "size": 5
         },
         "name": "Rascals",
         "type": "scatter3d",
         "x": [
          0,
          0.14804447447370545
         ],
         "y": [
          0,
          -0.03691789246833059
         ],
         "z": [
          0,
          0.08881942817930884
         ]
        },
        {
         "line": {
          "color": "rgba(44, 130, 201, 1)",
          "width": 3
         },
         "marker": {
          "color": "rgba(44, 130, 201, 1)",
          "size": 5
         },
         "name": "Cannon Cart",
         "type": "scatter3d",
         "x": [
          0,
          0.11444691912319765
         ],
         "y": [
          0,
          -0.005844466686674164
         ],
         "z": [
          0,
          -0.026250405173487222
         ]
        },
        {
         "line": {
          "color": "rgba(44, 130, 201, 1)",
          "width": 3
         },
         "marker": {
          "color": "rgba(44, 130, 201, 1)",
          "size": 5
         },
         "name": "Mega Knight",
         "type": "scatter3d",
         "x": [
          0,
          0.2517067709817466
         ],
         "y": [
          0,
          -0.04597311928973721
         ],
         "z": [
          0,
          0.01450691150370424
         ]
        },
        {
         "line": {
          "color": "rgba(44, 130, 201, 1)",
          "width": 3
         },
         "marker": {
          "color": "rgba(44, 130, 201, 1)",
          "size": 5
         },
         "name": "Skeleton Barrel",
         "type": "scatter3d",
         "x": [
          0,
          0.04167927154816205
         ],
         "y": [
          0,
          0.00870390824326118
         ],
         "z": [
          0,
          -0.017505584718090765
         ]
        },
        {
         "line": {
          "color": "rgba(44, 130, 201, 1)",
          "width": 3
         },
         "marker": {
          "color": "rgba(44, 130, 201, 1)",
          "size": 5
         },
         "name": "Flying Machine",
         "type": "scatter3d",
         "x": [
          0,
          0.04053133293457833
         ],
         "y": [
          0,
          0.034748050332075814
         ],
         "z": [
          0,
          0.032480987940114184
         ]
        },
        {
         "line": {
          "color": "rgba(44, 130, 201, 1)",
          "width": 3
         },
         "marker": {
          "color": "rgba(44, 130, 201, 1)",
          "size": 5
         },
         "name": "Wall Breakers",
         "type": "scatter3d",
         "x": [
          0,
          0.025525020036211956
         ],
         "y": [
          0,
          0.1399878283308535
         ],
         "z": [
          0,
          0.029025293636123464
         ]
        },
        {
         "line": {
          "color": "rgba(44, 130, 201, 1)",
          "width": 3
         },
         "marker": {
          "color": "rgba(44, 130, 201, 1)",
          "size": 5
         },
         "name": "Royal Hogs",
         "type": "scatter3d",
         "x": [
          0,
          0.05292450118139533
         ],
         "y": [
          0,
          -0.017306140285728175
         ],
         "z": [
          0,
          0.0005831574338751005
         ]
        },
        {
         "line": {
          "color": "rgba(44, 130, 201, 1)",
          "width": 3
         },
         "marker": {
          "color": "rgba(44, 130, 201, 1)",
          "size": 5
         },
         "name": "Goblin Giant",
         "type": "scatter3d",
         "x": [
          0,
          0.20692767182617428
         ],
         "y": [
          0,
          -0.06217925809278527
         ],
         "z": [
          0,
          0.11577591586623467
         ]
        },
        {
         "line": {
          "color": "rgba(44, 130, 201, 1)",
          "width": 3
         },
         "marker": {
          "color": "rgba(44, 130, 201, 1)",
          "size": 5
         },
         "name": "Fisherman",
         "type": "scatter3d",
         "x": [
          0,
          0.06276118302026566
         ],
         "y": [
          0,
          0.017223682867484824
         ],
         "z": [
          0,
          -0.046403795931233345
         ]
        },
        {
         "line": {
          "color": "rgba(44, 130, 201, 1)",
          "width": 3
         },
         "marker": {
          "color": "rgba(44, 130, 201, 1)",
          "size": 5
         },
         "name": "Magic Archer",
         "type": "scatter3d",
         "x": [
          0,
          0.034747565482517596
         ],
         "y": [
          0,
          0.035321613876192454
         ],
         "z": [
          0,
          0.021558711441284233
         ]
        },
        {
         "line": {
          "color": "rgba(44, 130, 201, 1)",
          "width": 3
         },
         "marker": {
          "color": "rgba(44, 130, 201, 1)",
          "size": 5
         },
         "name": "Electro Dragon",
         "type": "scatter3d",
         "x": [
          0,
          0.06184575946142919
         ],
         "y": [
          0,
          0.02992886755478688
         ],
         "z": [
          0,
          0.0453530515146934
         ]
        },
        {
         "line": {
          "color": "rgba(44, 130, 201, 1)",
          "width": 3
         },
         "marker": {
          "color": "rgba(44, 130, 201, 1)",
          "size": 5
         },
         "name": "Firecracker",
         "type": "scatter3d",
         "x": [
          0,
          0.023020563890996087
         ],
         "y": [
          0,
          0.11753597374192734
         ],
         "z": [
          0,
          0.01878703896044391
         ]
        },
        {
         "line": {
          "color": "rgba(44, 130, 201, 1)",
          "width": 3
         },
         "marker": {
          "color": "rgba(44, 130, 201, 1)",
          "size": 5
         },
         "name": "Elixir Golem",
         "type": "scatter3d",
         "x": [
          0,
          0.16541180697800922
         ],
         "y": [
          0,
          -0.06492041119179862
         ],
         "z": [
          0,
          0.02908650520563404
         ]
        },
        {
         "line": {
          "color": "rgba(44, 130, 201, 1)",
          "width": 3
         },
         "marker": {
          "color": "rgba(44, 130, 201, 1)",
          "size": 5
         },
         "name": "Battle Healer",
         "type": "scatter3d",
         "x": [
          0,
          0.1091457776845119
         ],
         "y": [
          0,
          -0.019999967704325484
         ],
         "z": [
          0,
          -0.002429179891196807
         ]
        },
        {
         "line": {
          "color": "rgba(44, 130, 201, 1)",
          "width": 3
         },
         "marker": {
          "color": "rgba(44, 130, 201, 1)",
          "size": 5
         },
         "name": "Skeleton Dragons",
         "type": "scatter3d",
         "x": [
          0,
          0.03524187270112602
         ],
         "y": [
          0,
          0.05036346647891106
         ],
         "z": [
          0,
          0.022560101758839633
         ]
        },
        {
         "line": {
          "color": "rgba(44, 130, 201, 1)",
          "width": 3
         },
         "marker": {
          "color": "rgba(44, 130, 201, 1)",
          "size": 5
         },
         "name": "Cannon",
         "type": "scatter3d",
         "x": [
          0,
          0.05755135085630624
         ],
         "y": [
          0,
          0.010852111099794887
         ],
         "z": [
          0,
          0.01554627966105559
         ]
        },
        {
         "line": {
          "color": "rgba(44, 130, 201, 1)",
          "width": 3
         },
         "marker": {
          "color": "rgba(44, 130, 201, 1)",
          "size": 5
         },
         "name": "Goblin Hut",
         "type": "scatter3d",
         "x": [
          0,
          0.06428706896745873
         ],
         "y": [
          0,
          -0.0093440245391436
         ],
         "z": [
          0,
          0.040160790269568356
         ]
        },
        {
         "line": {
          "color": "rgba(44, 130, 201, 1)",
          "width": 3
         },
         "marker": {
          "color": "rgba(44, 130, 201, 1)",
          "size": 5
         },
         "name": "Mortar",
         "type": "scatter3d",
         "x": [
          0,
          0.0950960052072525
         ],
         "y": [
          0,
          0.03801455431499822
         ],
         "z": [
          0,
          -0.06973023745907672
         ]
        },
        {
         "line": {
          "color": "rgba(44, 130, 201, 1)",
          "width": 3
         },
         "marker": {
          "color": "rgba(44, 130, 201, 1)",
          "size": 5
         },
         "name": "Inferno Tower",
         "type": "scatter3d",
         "x": [
          0,
          0.11271386272249753
         ],
         "y": [
          0,
          0.057714702970656305
         ],
         "z": [
          0,
          0.24108335033212624
         ]
        },
        {
         "line": {
          "color": "rgba(44, 130, 201, 1)",
          "width": 3
         },
         "marker": {
          "color": "rgba(44, 130, 201, 1)",
          "size": 5
         },
         "name": "Bomb Tower",
         "type": "scatter3d",
         "x": [
          0,
          0.08624870163076868
         ],
         "y": [
          0,
          0.007136359474014887
         ],
         "z": [
          0,
          0.029675745751253566
         ]
        },
        {
         "line": {
          "color": "rgba(44, 130, 201, 1)",
          "width": 3
         },
         "marker": {
          "color": "rgba(44, 130, 201, 1)",
          "size": 5
         },
         "name": "Barbarian Hut",
         "type": "scatter3d",
         "x": [
          0,
          0.11183251118137565
         ],
         "y": [
          0,
          -0.0060341538124158945
         ],
         "z": [
          0,
          -0.026404508050365597
         ]
        },
        {
         "line": {
          "color": "rgba(44, 130, 201, 1)",
          "width": 3
         },
         "marker": {
          "color": "rgba(44, 130, 201, 1)",
          "size": 5
         },
         "name": "Tesla",
         "type": "scatter3d",
         "x": [
          0,
          0.07346348122482488
         ],
         "y": [
          0,
          0.020746355443372534
         ],
         "z": [
          0,
          0.13252984895535322
         ]
        },
        {
         "line": {
          "color": "rgba(44, 130, 201, 1)",
          "width": 3
         },
         "marker": {
          "color": "rgba(44, 130, 201, 1)",
          "size": 5
         },
         "name": "Elixir Collector",
         "type": "scatter3d",
         "x": [
          0,
          0.06650870269519031
         ],
         "y": [
          0,
          -0.03770284245313339
         ],
         "z": [
          0,
          0.03669062855719251
         ]
        },
        {
         "line": {
          "color": "rgba(44, 130, 201, 1)",
          "width": 3
         },
         "marker": {
          "color": "rgba(44, 130, 201, 1)",
          "size": 5
         },
         "name": "X-Bow",
         "type": "scatter3d",
         "x": [
          0,
          0.10421233097892421
         ],
         "y": [
          0,
          -0.049554967909536965
         ],
         "z": [
          0,
          0.043986387184275694
         ]
        },
        {
         "line": {
          "color": "rgba(44, 130, 201, 1)",
          "width": 3
         },
         "marker": {
          "color": "rgba(44, 130, 201, 1)",
          "size": 5
         },
         "name": "Tombstone",
         "type": "scatter3d",
         "x": [
          0,
          0.03263327708323199
         ],
         "y": [
          0,
          0.0027135245078427437
         ],
         "z": [
          0,
          -0.01578597440098194
         ]
        },
        {
         "line": {
          "color": "rgba(44, 130, 201, 1)",
          "width": 3
         },
         "marker": {
          "color": "rgba(44, 130, 201, 1)",
          "size": 5
         },
         "name": "Furnace",
         "type": "scatter3d",
         "x": [
          0,
          0.06494703172489126
         ],
         "y": [
          0,
          0.01746230876218642
         ],
         "z": [
          0,
          0.03829170523357024
         ]
        },
        {
         "line": {
          "color": "rgba(44, 130, 201, 1)",
          "width": 3
         },
         "marker": {
          "color": "rgba(44, 130, 201, 1)",
          "size": 5
         },
         "name": "Goblin Cage",
         "type": "scatter3d",
         "x": [
          0,
          0.12882826511982146
         ],
         "y": [
          0,
          0.0193846966312217
         ],
         "z": [
          0,
          -0.07018667252090155
         ]
        },
        {
         "line": {
          "color": "rgba(44, 130, 201, 1)",
          "width": 3
         },
         "marker": {
          "color": "rgba(44, 130, 201, 1)",
          "size": 5
         },
         "name": "Fireball",
         "type": "scatter3d",
         "x": [
          0,
          0.006767403169391586
         ],
         "y": [
          0,
          0.24895768128897278
         ],
         "z": [
          0,
          0.17021123794212184
         ]
        },
        {
         "line": {
          "color": "rgba(44, 130, 201, 1)",
          "width": 3
         },
         "marker": {
          "color": "rgba(44, 130, 201, 1)",
          "size": 5
         },
         "name": "Arrows",
         "type": "scatter3d",
         "x": [
          0,
          0.003578745913460392
         ],
         "y": [
          0,
          0.131922154415804
         ],
         "z": [
          0,
          0.08952731848515262
         ]
        },
        {
         "line": {
          "color": "rgba(44, 130, 201, 1)",
          "width": 3
         },
         "marker": {
          "color": "rgba(44, 130, 201, 1)",
          "size": 5
         },
         "name": "Rage",
         "type": "scatter3d",
         "x": [
          0,
          -5.358940928437344e-05
         ],
         "y": [
          0,
          -0.00025802818108598333
         ],
         "z": [
          0,
          4.843373612060622e-06
         ]
        },
        {
         "line": {
          "color": "rgba(44, 130, 201, 1)",
          "width": 3
         },
         "marker": {
          "color": "rgba(44, 130, 201, 1)",
          "size": 5
         },
         "name": "Rocket",
         "type": "scatter3d",
         "x": [
          0,
          0.014598038038298155
         ],
         "y": [
          0,
          0.5362759964819153
         ],
         "z": [
          0,
          0.3670095633037084
         ]
        },
        {
         "line": {
          "color": "rgba(44, 130, 201, 1)",
          "width": 3
         },
         "marker": {
          "color": "rgba(44, 130, 201, 1)",
          "size": 5
         },
         "name": "Goblin Barrel",
         "type": "scatter3d",
         "x": [
          0,
          0.00160328732777266
         ],
         "y": [
          0,
          0.030901517077534905
         ],
         "z": [
          0,
          -0.04904815030123418
         ]
        },
        {
         "line": {
          "color": "rgba(44, 130, 201, 1)",
          "width": 3
         },
         "marker": {
          "color": "rgba(44, 130, 201, 1)",
          "size": 5
         },
         "name": "Freeze",
         "type": "scatter3d",
         "x": [
          0,
          0.0010900407030779843
         ],
         "y": [
          0,
          0.04121411936248483
         ],
         "z": [
          0,
          0.028011687959013234
         ]
        },
        {
         "line": {
          "color": "rgba(44, 130, 201, 1)",
          "width": 3
         },
         "marker": {
          "color": "rgba(44, 130, 201, 1)",
          "size": 5
         },
         "name": "Mirror",
         "type": "scatter3d",
         "x": [
          0,
          -2.9463023116730412e-05
         ],
         "y": [
          0,
          -0.00013886354349276783
         ],
         "z": [
          0,
          -2.963571280950062e-05
         ]
        },
        {
         "line": {
          "color": "rgba(44, 130, 201, 1)",
          "width": 3
         },
         "marker": {
          "color": "rgba(44, 130, 201, 1)",
          "size": 5
         },
         "name": "Lightning",
         "type": "scatter3d",
         "x": [
          0,
          0.010533753806358601
         ],
         "y": [
          0,
          0.30291680649030317
         ],
         "z": [
          0,
          0.3049482286470739
         ]
        },
        {
         "line": {
          "color": "rgba(44, 130, 201, 1)",
          "width": 3
         },
         "marker": {
          "color": "rgba(44, 130, 201, 1)",
          "size": 5
         },
         "name": "Zap",
         "type": "scatter3d",
         "x": [
          0,
          0.0018681187659216941
         ],
         "y": [
          0,
          0.06914854499203128
         ],
         "z": [
          0,
          0.04724968193115747
         ]
        },
        {
         "line": {
          "color": "rgba(44, 130, 201, 1)",
          "width": 3
         },
         "marker": {
          "color": "rgba(44, 130, 201, 1)",
          "size": 5
         },
         "name": "Poison",
         "type": "scatter3d",
         "x": [
          0,
          0.00082831464516851
         ],
         "y": [
          0,
          0.03238894897319383
         ],
         "z": [
          0,
          0.022048749497716017
         ]
        },
        {
         "line": {
          "color": "rgba(44, 130, 201, 1)",
          "width": 3
         },
         "marker": {
          "color": "rgba(44, 130, 201, 1)",
          "size": 5
         },
         "name": "Graveyard",
         "type": "scatter3d",
         "x": [
          0,
          0.006003157470094473
         ],
         "y": [
          0,
          0.017593602498255718
         ],
         "z": [
          0,
          -0.030517147671525687
         ]
        },
        {
         "line": {
          "color": "rgba(44, 130, 201, 1)",
          "width": 3
         },
         "marker": {
          "color": "rgba(44, 130, 201, 1)",
          "size": 5
         },
         "name": "The Log",
         "type": "scatter3d",
         "x": [
          0,
          0.0030216459523578075
         ],
         "y": [
          0,
          0.08546005595846431
         ],
         "z": [
          0,
          -0.06893012084147995
         ]
        },
        {
         "line": {
          "color": "rgba(44, 130, 201, 1)",
          "width": 3
         },
         "marker": {
          "color": "rgba(44, 130, 201, 1)",
          "size": 5
         },
         "name": "Tornado",
         "type": "scatter3d",
         "x": [
          0,
          0.0014681474498489716
         ],
         "y": [
          0,
          0.05885851225402007
         ],
         "z": [
          0,
          0.051937951841018674
         ]
        },
        {
         "line": {
          "color": "rgba(44, 130, 201, 1)",
          "width": 3
         },
         "marker": {
          "color": "rgba(44, 130, 201, 1)",
          "size": 5
         },
         "name": "Clone",
         "type": "scatter3d",
         "x": [
          0,
          3.876166808902136e-05
         ],
         "y": [
          0,
          -0.0002117084269778311
         ],
         "z": [
          0,
          6.440665310145576e-06
         ]
        },
        {
         "line": {
          "color": "rgba(44, 130, 201, 1)",
          "width": 3
         },
         "marker": {
          "color": "rgba(44, 130, 201, 1)",
          "size": 5
         },
         "name": "Earthquake",
         "type": "scatter3d",
         "x": [
          0,
          0.002760009950361979
         ],
         "y": [
          0,
          0.05374952964600418
         ],
         "z": [
          0,
          -0.10129588256270067
         ]
        },
        {
         "line": {
          "color": "rgba(44, 130, 201, 1)",
          "width": 3
         },
         "marker": {
          "color": "rgba(44, 130, 201, 1)",
          "size": 5
         },
         "name": "Barbarian Barrel",
         "type": "scatter3d",
         "x": [
          0,
          0.04440783134935959
         ],
         "y": [
          0,
          0.029393894198777037
         ],
         "z": [
          0,
          -0.056430949823401334
         ]
        },
        {
         "line": {
          "color": "rgba(44, 130, 201, 1)",
          "width": 3
         },
         "marker": {
          "color": "rgba(44, 130, 201, 1)",
          "size": 5
         },
         "name": "Heal Spirit",
         "type": "scatter3d",
         "x": [
          0,
          0.014342491093616506
         ],
         "y": [
          0,
          -0.007920056416710262
         ],
         "z": [
          0,
          0.007820197182977842
         ]
        },
        {
         "line": {
          "color": "rgba(44, 130, 201, 1)",
          "width": 3
         },
         "marker": {
          "color": "rgba(44, 130, 201, 1)",
          "size": 5
         },
         "name": "Giant Snowball",
         "type": "scatter3d",
         "x": [
          0,
          0.0018681187659216941
         ],
         "y": [
          0,
          0.06914854499203128
         ],
         "z": [
          0,
          0.04724968193115747
         ]
        },
        {
         "line": {
          "color": "rgba(44, 130, 201, 1)",
          "width": 3
         },
         "marker": {
          "color": "rgba(44, 130, 201, 1)",
          "size": 5
         },
         "name": "Royal Delivery",
         "type": "scatter3d",
         "x": [
          0,
          0.04961351100722157
         ],
         "y": [
          0,
          0.03780773004350206
         ],
         "z": [
          0,
          -0.04175886131313856
         ]
        }
       ],
       "layout": {
        "margin": {
         "b": 0,
         "l": 0,
         "r": 0,
         "t": 0
        },
        "scene": {
         "xaxis": {
          "title": {
           "text": "PC 1"
          }
         },
         "yaxis": {
          "title": {
           "text": "PC 2"
          }
         },
         "zaxis": {
          "title": {
           "text": "PC 3"
          }
         }
        },
        "template": {
         "data": {
          "bar": [
           {
            "error_x": {
             "color": "#2a3f5f"
            },
            "error_y": {
             "color": "#2a3f5f"
            },
            "marker": {
             "line": {
              "color": "#E5ECF6",
              "width": 0.5
             }
            },
            "type": "bar"
           }
          ],
          "barpolar": [
           {
            "marker": {
             "line": {
              "color": "#E5ECF6",
              "width": 0.5
             }
            },
            "type": "barpolar"
           }
          ],
          "carpet": [
           {
            "aaxis": {
             "endlinecolor": "#2a3f5f",
             "gridcolor": "white",
             "linecolor": "white",
             "minorgridcolor": "white",
             "startlinecolor": "#2a3f5f"
            },
            "baxis": {
             "endlinecolor": "#2a3f5f",
             "gridcolor": "white",
             "linecolor": "white",
             "minorgridcolor": "white",
             "startlinecolor": "#2a3f5f"
            },
            "type": "carpet"
           }
          ],
          "choropleth": [
           {
            "colorbar": {
             "outlinewidth": 0,
             "ticks": ""
            },
            "type": "choropleth"
           }
          ],
          "contour": [
           {
            "colorbar": {
             "outlinewidth": 0,
             "ticks": ""
            },
            "colorscale": [
             [
              0,
              "#0d0887"
             ],
             [
              0.1111111111111111,
              "#46039f"
             ],
             [
              0.2222222222222222,
              "#7201a8"
             ],
             [
              0.3333333333333333,
              "#9c179e"
             ],
             [
              0.4444444444444444,
              "#bd3786"
             ],
             [
              0.5555555555555556,
              "#d8576b"
             ],
             [
              0.6666666666666666,
              "#ed7953"
             ],
             [
              0.7777777777777778,
              "#fb9f3a"
             ],
             [
              0.8888888888888888,
              "#fdca26"
             ],
             [
              1,
              "#f0f921"
             ]
            ],
            "type": "contour"
           }
          ],
          "contourcarpet": [
           {
            "colorbar": {
             "outlinewidth": 0,
             "ticks": ""
            },
            "type": "contourcarpet"
           }
          ],
          "heatmap": [
           {
            "colorbar": {
             "outlinewidth": 0,
             "ticks": ""
            },
            "colorscale": [
             [
              0,
              "#0d0887"
             ],
             [
              0.1111111111111111,
              "#46039f"
             ],
             [
              0.2222222222222222,
              "#7201a8"
             ],
             [
              0.3333333333333333,
              "#9c179e"
             ],
             [
              0.4444444444444444,
              "#bd3786"
             ],
             [
              0.5555555555555556,
              "#d8576b"
             ],
             [
              0.6666666666666666,
              "#ed7953"
             ],
             [
              0.7777777777777778,
              "#fb9f3a"
             ],
             [
              0.8888888888888888,
              "#fdca26"
             ],
             [
              1,
              "#f0f921"
             ]
            ],
            "type": "heatmap"
           }
          ],
          "heatmapgl": [
           {
            "colorbar": {
             "outlinewidth": 0,
             "ticks": ""
            },
            "colorscale": [
             [
              0,
              "#0d0887"
             ],
             [
              0.1111111111111111,
              "#46039f"
             ],
             [
              0.2222222222222222,
              "#7201a8"
             ],
             [
              0.3333333333333333,
              "#9c179e"
             ],
             [
              0.4444444444444444,
              "#bd3786"
             ],
             [
              0.5555555555555556,
              "#d8576b"
             ],
             [
              0.6666666666666666,
              "#ed7953"
             ],
             [
              0.7777777777777778,
              "#fb9f3a"
             ],
             [
              0.8888888888888888,
              "#fdca26"
             ],
             [
              1,
              "#f0f921"
             ]
            ],
            "type": "heatmapgl"
           }
          ],
          "histogram": [
           {
            "marker": {
             "colorbar": {
              "outlinewidth": 0,
              "ticks": ""
             }
            },
            "type": "histogram"
           }
          ],
          "histogram2d": [
           {
            "colorbar": {
             "outlinewidth": 0,
             "ticks": ""
            },
            "colorscale": [
             [
              0,
              "#0d0887"
             ],
             [
              0.1111111111111111,
              "#46039f"
             ],
             [
              0.2222222222222222,
              "#7201a8"
             ],
             [
              0.3333333333333333,
              "#9c179e"
             ],
             [
              0.4444444444444444,
              "#bd3786"
             ],
             [
              0.5555555555555556,
              "#d8576b"
             ],
             [
              0.6666666666666666,
              "#ed7953"
             ],
             [
              0.7777777777777778,
              "#fb9f3a"
             ],
             [
              0.8888888888888888,
              "#fdca26"
             ],
             [
              1,
              "#f0f921"
             ]
            ],
            "type": "histogram2d"
           }
          ],
          "histogram2dcontour": [
           {
            "colorbar": {
             "outlinewidth": 0,
             "ticks": ""
            },
            "colorscale": [
             [
              0,
              "#0d0887"
             ],
             [
              0.1111111111111111,
              "#46039f"
             ],
             [
              0.2222222222222222,
              "#7201a8"
             ],
             [
              0.3333333333333333,
              "#9c179e"
             ],
             [
              0.4444444444444444,
              "#bd3786"
             ],
             [
              0.5555555555555556,
              "#d8576b"
             ],
             [
              0.6666666666666666,
              "#ed7953"
             ],
             [
              0.7777777777777778,
              "#fb9f3a"
             ],
             [
              0.8888888888888888,
              "#fdca26"
             ],
             [
              1,
              "#f0f921"
             ]
            ],
            "type": "histogram2dcontour"
           }
          ],
          "mesh3d": [
           {
            "colorbar": {
             "outlinewidth": 0,
             "ticks": ""
            },
            "type": "mesh3d"
           }
          ],
          "parcoords": [
           {
            "line": {
             "colorbar": {
              "outlinewidth": 0,
              "ticks": ""
             }
            },
            "type": "parcoords"
           }
          ],
          "pie": [
           {
            "automargin": true,
            "type": "pie"
           }
          ],
          "scatter": [
           {
            "marker": {
             "colorbar": {
              "outlinewidth": 0,
              "ticks": ""
             }
            },
            "type": "scatter"
           }
          ],
          "scatter3d": [
           {
            "line": {
             "colorbar": {
              "outlinewidth": 0,
              "ticks": ""
             }
            },
            "marker": {
             "colorbar": {
              "outlinewidth": 0,
              "ticks": ""
             }
            },
            "type": "scatter3d"
           }
          ],
          "scattercarpet": [
           {
            "marker": {
             "colorbar": {
              "outlinewidth": 0,
              "ticks": ""
             }
            },
            "type": "scattercarpet"
           }
          ],
          "scattergeo": [
           {
            "marker": {
             "colorbar": {
              "outlinewidth": 0,
              "ticks": ""
             }
            },
            "type": "scattergeo"
           }
          ],
          "scattergl": [
           {
            "marker": {
             "colorbar": {
              "outlinewidth": 0,
              "ticks": ""
             }
            },
            "type": "scattergl"
           }
          ],
          "scattermapbox": [
           {
            "marker": {
             "colorbar": {
              "outlinewidth": 0,
              "ticks": ""
             }
            },
            "type": "scattermapbox"
           }
          ],
          "scatterpolar": [
           {
            "marker": {
             "colorbar": {
              "outlinewidth": 0,
              "ticks": ""
             }
            },
            "type": "scatterpolar"
           }
          ],
          "scatterpolargl": [
           {
            "marker": {
             "colorbar": {
              "outlinewidth": 0,
              "ticks": ""
             }
            },
            "type": "scatterpolargl"
           }
          ],
          "scatterternary": [
           {
            "marker": {
             "colorbar": {
              "outlinewidth": 0,
              "ticks": ""
             }
            },
            "type": "scatterternary"
           }
          ],
          "surface": [
           {
            "colorbar": {
             "outlinewidth": 0,
             "ticks": ""
            },
            "colorscale": [
             [
              0,
              "#0d0887"
             ],
             [
              0.1111111111111111,
              "#46039f"
             ],
             [
              0.2222222222222222,
              "#7201a8"
             ],
             [
              0.3333333333333333,
              "#9c179e"
             ],
             [
              0.4444444444444444,
              "#bd3786"
             ],
             [
              0.5555555555555556,
              "#d8576b"
             ],
             [
              0.6666666666666666,
              "#ed7953"
             ],
             [
              0.7777777777777778,
              "#fb9f3a"
             ],
             [
              0.8888888888888888,
              "#fdca26"
             ],
             [
              1,
              "#f0f921"
             ]
            ],
            "type": "surface"
           }
          ],
          "table": [
           {
            "cells": {
             "fill": {
              "color": "#EBF0F8"
             },
             "line": {
              "color": "white"
             }
            },
            "header": {
             "fill": {
              "color": "#C8D4E3"
             },
             "line": {
              "color": "white"
             }
            },
            "type": "table"
           }
          ]
         },
         "layout": {
          "annotationdefaults": {
           "arrowcolor": "#2a3f5f",
           "arrowhead": 0,
           "arrowwidth": 1
          },
          "coloraxis": {
           "colorbar": {
            "outlinewidth": 0,
            "ticks": ""
           }
          },
          "colorscale": {
           "diverging": [
            [
             0,
             "#8e0152"
            ],
            [
             0.1,
             "#c51b7d"
            ],
            [
             0.2,
             "#de77ae"
            ],
            [
             0.3,
             "#f1b6da"
            ],
            [
             0.4,
             "#fde0ef"
            ],
            [
             0.5,
             "#f7f7f7"
            ],
            [
             0.6,
             "#e6f5d0"
            ],
            [
             0.7,
             "#b8e186"
            ],
            [
             0.8,
             "#7fbc41"
            ],
            [
             0.9,
             "#4d9221"
            ],
            [
             1,
             "#276419"
            ]
           ],
           "sequential": [
            [
             0,
             "#0d0887"
            ],
            [
             0.1111111111111111,
             "#46039f"
            ],
            [
             0.2222222222222222,
             "#7201a8"
            ],
            [
             0.3333333333333333,
             "#9c179e"
            ],
            [
             0.4444444444444444,
             "#bd3786"
            ],
            [
             0.5555555555555556,
             "#d8576b"
            ],
            [
             0.6666666666666666,
             "#ed7953"
            ],
            [
             0.7777777777777778,
             "#fb9f3a"
            ],
            [
             0.8888888888888888,
             "#fdca26"
            ],
            [
             1,
             "#f0f921"
            ]
           ],
           "sequentialminus": [
            [
             0,
             "#0d0887"
            ],
            [
             0.1111111111111111,
             "#46039f"
            ],
            [
             0.2222222222222222,
             "#7201a8"
            ],
            [
             0.3333333333333333,
             "#9c179e"
            ],
            [
             0.4444444444444444,
             "#bd3786"
            ],
            [
             0.5555555555555556,
             "#d8576b"
            ],
            [
             0.6666666666666666,
             "#ed7953"
            ],
            [
             0.7777777777777778,
             "#fb9f3a"
            ],
            [
             0.8888888888888888,
             "#fdca26"
            ],
            [
             1,
             "#f0f921"
            ]
           ]
          },
          "colorway": [
           "#636efa",
           "#EF553B",
           "#00cc96",
           "#ab63fa",
           "#FFA15A",
           "#19d3f3",
           "#FF6692",
           "#B6E880",
           "#FF97FF",
           "#FECB52"
          ],
          "font": {
           "color": "#2a3f5f"
          },
          "geo": {
           "bgcolor": "white",
           "lakecolor": "white",
           "landcolor": "#E5ECF6",
           "showlakes": true,
           "showland": true,
           "subunitcolor": "white"
          },
          "hoverlabel": {
           "align": "left"
          },
          "hovermode": "closest",
          "mapbox": {
           "style": "light"
          },
          "paper_bgcolor": "white",
          "plot_bgcolor": "#E5ECF6",
          "polar": {
           "angularaxis": {
            "gridcolor": "white",
            "linecolor": "white",
            "ticks": ""
           },
           "bgcolor": "#E5ECF6",
           "radialaxis": {
            "gridcolor": "white",
            "linecolor": "white",
            "ticks": ""
           }
          },
          "scene": {
           "xaxis": {
            "backgroundcolor": "#E5ECF6",
            "gridcolor": "white",
            "gridwidth": 2,
            "linecolor": "white",
            "showbackground": true,
            "ticks": "",
            "zerolinecolor": "white"
           },
           "yaxis": {
            "backgroundcolor": "#E5ECF6",
            "gridcolor": "white",
            "gridwidth": 2,
            "linecolor": "white",
            "showbackground": true,
            "ticks": "",
            "zerolinecolor": "white"
           },
           "zaxis": {
            "backgroundcolor": "#E5ECF6",
            "gridcolor": "white",
            "gridwidth": 2,
            "linecolor": "white",
            "showbackground": true,
            "ticks": "",
            "zerolinecolor": "white"
           }
          },
          "shapedefaults": {
           "line": {
            "color": "#2a3f5f"
           }
          },
          "ternary": {
           "aaxis": {
            "gridcolor": "white",
            "linecolor": "white",
            "ticks": ""
           },
           "baxis": {
            "gridcolor": "white",
            "linecolor": "white",
            "ticks": ""
           },
           "bgcolor": "#E5ECF6",
           "caxis": {
            "gridcolor": "white",
            "linecolor": "white",
            "ticks": ""
           }
          },
          "title": {
           "x": 0.05
          },
          "xaxis": {
           "automargin": true,
           "gridcolor": "white",
           "linecolor": "white",
           "ticks": "",
           "title": {
            "standoff": 15
           },
           "zerolinecolor": "white",
           "zerolinewidth": 2
          },
          "yaxis": {
           "automargin": true,
           "gridcolor": "white",
           "linecolor": "white",
           "ticks": "",
           "title": {
            "standoff": 15
           },
           "zerolinecolor": "white",
           "zerolinewidth": 2
          }
         }
        }
       }
      },
      "text/html": [
       "<div>\n",
       "        \n",
       "        \n",
       "            <div id=\"85b18634-d770-4e1e-be2d-ed523a0a20b7\" class=\"plotly-graph-div\" style=\"height:525px; width:100%;\"></div>\n",
       "            <script type=\"text/javascript\">\n",
       "                require([\"plotly\"], function(Plotly) {\n",
       "                    window.PLOTLYENV=window.PLOTLYENV || {};\n",
       "                    \n",
       "                if (document.getElementById(\"85b18634-d770-4e1e-be2d-ed523a0a20b7\")) {\n",
       "                    Plotly.newPlot(\n",
       "                        '85b18634-d770-4e1e-be2d-ed523a0a20b7',\n",
       "                        [{\"marker\": {\"color\": \"rgba(44, 130, 201, 1)\", \"line\": {\"color\": \"black\", \"width\": 0.5}, \"opacity\": 0.3, \"size\": 12}, \"mode\": \"markers\", \"name\": \"Class 1\", \"type\": \"scatter3d\", \"x\": [], \"y\": [], \"z\": []}, {\"marker\": {\"color\": \"rgba(44, 130, 201, 1)\", \"line\": {\"color\": \"black\", \"width\": 0.5}, \"opacity\": 0.3, \"size\": 12}, \"mode\": \"markers\", \"name\": \"Class 2\", \"type\": \"scatter3d\", \"x\": [], \"y\": [], \"z\": []}, {\"marker\": {\"color\": \"rgba(44, 130, 201, 1)\", \"line\": {\"color\": \"black\", \"width\": 0.5}, \"opacity\": 0.3, \"size\": 12}, \"mode\": \"markers\", \"name\": \"Class 3\", \"type\": \"scatter3d\", \"x\": [], \"y\": [], \"z\": []}, {\"marker\": {\"color\": \"rgba(44, 130, 201, 1)\", \"line\": {\"color\": \"black\", \"width\": 0.5}, \"opacity\": 0.3, \"size\": 12}, \"mode\": \"markers\", \"name\": \"Class 4\", \"type\": \"scatter3d\", \"x\": [], \"y\": [], \"z\": []}, {\"marker\": {\"color\": \"rgba(44, 130, 201, 1)\", \"line\": {\"color\": \"black\", \"width\": 0.5}, \"opacity\": 0.3, \"size\": 12}, \"mode\": \"markers\", \"name\": \"Class 5\", \"type\": \"scatter3d\", \"x\": [], \"y\": [], \"z\": []}, {\"marker\": {\"color\": \"rgba(44, 130, 201, 1)\", \"line\": {\"color\": \"black\", \"width\": 0.5}, \"opacity\": 0.3, \"size\": 12}, \"mode\": \"markers\", \"name\": \"Class 6\", \"type\": \"scatter3d\", \"x\": [], \"y\": [], \"z\": []}, {\"marker\": {\"color\": \"rgba(44, 130, 201, 1)\", \"line\": {\"color\": \"black\", \"width\": 0.5}, \"opacity\": 0.3, \"size\": 12}, \"mode\": \"markers\", \"name\": \"Class 7\", \"type\": \"scatter3d\", \"x\": [], \"y\": [], \"z\": []}, {\"marker\": {\"color\": \"rgba(44, 130, 201, 1)\", \"line\": {\"color\": \"black\", \"width\": 0.5}, \"opacity\": 0.3, \"size\": 12}, \"mode\": \"markers\", \"name\": \"Class 8\", \"type\": \"scatter3d\", \"x\": [], \"y\": [], \"z\": []}, {\"marker\": {\"color\": \"rgba(44, 130, 201, 1)\", \"line\": {\"color\": \"black\", \"width\": 0.5}, \"opacity\": 0.3, \"size\": 12}, \"mode\": \"markers\", \"name\": \"Class 9\", \"type\": \"scatter3d\", \"x\": [], \"y\": [], \"z\": []}, {\"marker\": {\"color\": \"rgba(44, 130, 201, 1)\", \"line\": {\"color\": \"black\", \"width\": 0.5}, \"opacity\": 0.3, \"size\": 12}, \"mode\": \"markers\", \"name\": \"Class 10\", \"type\": \"scatter3d\", \"x\": [], \"y\": [], \"z\": []}, {\"marker\": {\"color\": \"rgba(44, 130, 201, 1)\", \"line\": {\"color\": \"black\", \"width\": 0.5}, \"opacity\": 0.3, \"size\": 12}, \"mode\": \"markers\", \"name\": \"Class 11\", \"type\": \"scatter3d\", \"x\": [], \"y\": [], \"z\": []}, {\"marker\": {\"color\": \"rgba(44, 130, 201, 1)\", \"line\": {\"color\": \"black\", \"width\": 0.5}, \"opacity\": 0.3, \"size\": 12}, \"mode\": \"markers\", \"name\": \"Class 12\", \"type\": \"scatter3d\", \"x\": [], \"y\": [], \"z\": []}, {\"marker\": {\"color\": \"rgba(44, 130, 201, 1)\", \"line\": {\"color\": \"black\", \"width\": 0.5}, \"opacity\": 0.3, \"size\": 12}, \"mode\": \"markers\", \"name\": \"Class 13\", \"type\": \"scatter3d\", \"x\": [], \"y\": [], \"z\": []}, {\"marker\": {\"color\": \"rgba(44, 130, 201, 1)\", \"line\": {\"color\": \"black\", \"width\": 0.5}, \"opacity\": 0.3, \"size\": 12}, \"mode\": \"markers\", \"name\": \"Class 14\", \"type\": \"scatter3d\", \"x\": [], \"y\": [], \"z\": []}, {\"marker\": {\"color\": \"rgba(44, 130, 201, 1)\", \"line\": {\"color\": \"black\", \"width\": 0.5}, \"opacity\": 0.3, \"size\": 12}, \"mode\": \"markers\", \"name\": \"Class 15\", \"type\": \"scatter3d\", \"x\": [], \"y\": [], \"z\": []}, {\"marker\": {\"color\": \"rgba(44, 130, 201, 1)\", \"line\": {\"color\": \"black\", \"width\": 0.5}, \"opacity\": 0.3, \"size\": 12}, \"mode\": \"markers\", \"name\": \"Class 16\", \"type\": \"scatter3d\", \"x\": [], \"y\": [], \"z\": []}, {\"marker\": {\"color\": \"rgba(44, 130, 201, 1)\", \"line\": {\"color\": \"black\", \"width\": 0.5}, \"opacity\": 0.3, \"size\": 12}, \"mode\": \"markers\", \"name\": \"Class 17\", \"type\": \"scatter3d\", \"x\": [], \"y\": [], \"z\": []}, {\"marker\": {\"color\": \"rgba(44, 130, 201, 1)\", \"line\": {\"color\": \"black\", \"width\": 0.5}, \"opacity\": 0.3, \"size\": 12}, \"mode\": \"markers\", \"name\": \"Class 18\", \"type\": \"scatter3d\", \"x\": [], \"y\": [], \"z\": []}, {\"marker\": {\"color\": \"rgba(44, 130, 201, 1)\", \"line\": {\"color\": \"black\", \"width\": 0.5}, \"opacity\": 0.3, \"size\": 12}, \"mode\": \"markers\", \"name\": \"Class 19\", \"type\": \"scatter3d\", \"x\": [], \"y\": [], \"z\": []}, {\"marker\": {\"color\": \"rgba(44, 130, 201, 1)\", \"line\": {\"color\": \"black\", \"width\": 0.5}, \"opacity\": 0.3, \"size\": 12}, \"mode\": \"markers\", \"name\": \"Class 20\", \"type\": \"scatter3d\", \"x\": [], \"y\": [], \"z\": []}, {\"marker\": {\"color\": \"rgba(44, 130, 201, 1)\", \"line\": {\"color\": \"black\", \"width\": 0.5}, \"opacity\": 0.3, \"size\": 12}, \"mode\": \"markers\", \"name\": \"Class 21\", \"type\": \"scatter3d\", \"x\": [], \"y\": [], \"z\": []}, {\"marker\": {\"color\": \"rgba(44, 130, 201, 1)\", \"line\": {\"color\": \"black\", \"width\": 0.5}, \"opacity\": 0.3, \"size\": 12}, \"mode\": \"markers\", \"name\": \"Class 22\", \"type\": \"scatter3d\", \"x\": [], \"y\": [], \"z\": []}, {\"marker\": {\"color\": \"rgba(44, 130, 201, 1)\", \"line\": {\"color\": \"black\", \"width\": 0.5}, \"opacity\": 0.3, \"size\": 12}, \"mode\": \"markers\", \"name\": \"Class 23\", \"type\": \"scatter3d\", \"x\": [], \"y\": [], \"z\": []}, {\"marker\": {\"color\": \"rgba(44, 130, 201, 1)\", \"line\": {\"color\": \"black\", \"width\": 0.5}, \"opacity\": 0.3, \"size\": 12}, \"mode\": \"markers\", \"name\": \"Class 24\", \"type\": \"scatter3d\", \"x\": [], \"y\": [], \"z\": []}, {\"marker\": {\"color\": \"rgba(44, 130, 201, 1)\", \"line\": {\"color\": \"black\", \"width\": 0.5}, \"opacity\": 0.3, \"size\": 12}, \"mode\": \"markers\", \"name\": \"Class 25\", \"type\": \"scatter3d\", \"x\": [], \"y\": [], \"z\": []}, {\"marker\": {\"color\": \"rgba(44, 130, 201, 1)\", \"line\": {\"color\": \"black\", \"width\": 0.5}, \"opacity\": 0.3, \"size\": 12}, \"mode\": \"markers\", \"name\": \"Class 26\", \"type\": \"scatter3d\", \"x\": [], \"y\": [], \"z\": []}, {\"marker\": {\"color\": \"rgba(44, 130, 201, 1)\", \"line\": {\"color\": \"black\", \"width\": 0.5}, \"opacity\": 0.3, \"size\": 12}, \"mode\": \"markers\", \"name\": \"Class 27\", \"type\": \"scatter3d\", \"x\": [], \"y\": [], \"z\": []}, {\"marker\": {\"color\": \"rgba(44, 130, 201, 1)\", \"line\": {\"color\": \"black\", \"width\": 0.5}, \"opacity\": 0.3, \"size\": 12}, \"mode\": \"markers\", \"name\": \"Class 28\", \"type\": \"scatter3d\", \"x\": [], \"y\": [], \"z\": []}, {\"marker\": {\"color\": \"rgba(44, 130, 201, 1)\", \"line\": {\"color\": \"black\", \"width\": 0.5}, \"opacity\": 0.3, \"size\": 12}, \"mode\": \"markers\", \"name\": \"Class 29\", \"type\": \"scatter3d\", \"x\": [], \"y\": [], \"z\": []}, {\"marker\": {\"color\": \"rgba(44, 130, 201, 1)\", \"line\": {\"color\": \"black\", \"width\": 0.5}, \"opacity\": 0.3, \"size\": 12}, \"mode\": \"markers\", \"name\": \"Class 30\", \"type\": \"scatter3d\", \"x\": [], \"y\": [], \"z\": []}, {\"marker\": {\"color\": \"rgba(44, 130, 201, 1)\", \"line\": {\"color\": \"black\", \"width\": 0.5}, \"opacity\": 0.3, \"size\": 12}, \"mode\": \"markers\", \"name\": \"Class 31\", \"type\": \"scatter3d\", \"x\": [], \"y\": [], \"z\": []}, {\"marker\": {\"color\": \"rgba(44, 130, 201, 1)\", \"line\": {\"color\": \"black\", \"width\": 0.5}, \"opacity\": 0.3, \"size\": 12}, \"mode\": \"markers\", \"name\": \"Class 32\", \"type\": \"scatter3d\", \"x\": [], \"y\": [], \"z\": []}, {\"marker\": {\"color\": \"rgba(44, 130, 201, 1)\", \"line\": {\"color\": \"black\", \"width\": 0.5}, \"opacity\": 0.3, \"size\": 12}, \"mode\": \"markers\", \"name\": \"Class 33\", \"type\": \"scatter3d\", \"x\": [], \"y\": [], \"z\": []}, {\"marker\": {\"color\": \"rgba(44, 130, 201, 1)\", \"line\": {\"color\": \"black\", \"width\": 0.5}, \"opacity\": 0.3, \"size\": 12}, \"mode\": \"markers\", \"name\": \"Class 34\", \"type\": \"scatter3d\", \"x\": [], \"y\": [], \"z\": []}, {\"marker\": {\"color\": \"rgba(44, 130, 201, 1)\", \"line\": {\"color\": \"black\", \"width\": 0.5}, \"opacity\": 0.3, \"size\": 12}, \"mode\": \"markers\", \"name\": \"Class 35\", \"type\": \"scatter3d\", \"x\": [], \"y\": [], \"z\": []}, {\"marker\": {\"color\": \"rgba(44, 130, 201, 1)\", \"line\": {\"color\": \"black\", \"width\": 0.5}, \"opacity\": 0.3, \"size\": 12}, \"mode\": \"markers\", \"name\": \"Class 36\", \"type\": \"scatter3d\", \"x\": [], \"y\": [], \"z\": []}, {\"marker\": {\"color\": \"rgba(44, 130, 201, 1)\", \"line\": {\"color\": \"black\", \"width\": 0.5}, \"opacity\": 0.3, \"size\": 12}, \"mode\": \"markers\", \"name\": \"Class 37\", \"type\": \"scatter3d\", \"x\": [], \"y\": [], \"z\": []}, {\"marker\": {\"color\": \"rgba(44, 130, 201, 1)\", \"line\": {\"color\": \"black\", \"width\": 0.5}, \"opacity\": 0.3, \"size\": 12}, \"mode\": \"markers\", \"name\": \"Class 38\", \"type\": \"scatter3d\", \"x\": [], \"y\": [], \"z\": []}, {\"marker\": {\"color\": \"rgba(44, 130, 201, 1)\", \"line\": {\"color\": \"black\", \"width\": 0.5}, \"opacity\": 0.3, \"size\": 12}, \"mode\": \"markers\", \"name\": \"Class 39\", \"type\": \"scatter3d\", \"x\": [], \"y\": [], \"z\": []}, {\"marker\": {\"color\": \"rgba(44, 130, 201, 1)\", \"line\": {\"color\": \"black\", \"width\": 0.5}, \"opacity\": 0.3, \"size\": 12}, \"mode\": \"markers\", \"name\": \"Class 40\", \"type\": \"scatter3d\", \"x\": [], \"y\": [], \"z\": []}, {\"marker\": {\"color\": \"rgba(44, 130, 201, 1)\", \"line\": {\"color\": \"black\", \"width\": 0.5}, \"opacity\": 0.3, \"size\": 12}, \"mode\": \"markers\", \"name\": \"Class 41\", \"type\": \"scatter3d\", \"x\": [], \"y\": [], \"z\": []}, {\"marker\": {\"color\": \"rgba(44, 130, 201, 1)\", \"line\": {\"color\": \"black\", \"width\": 0.5}, \"opacity\": 0.3, \"size\": 12}, \"mode\": \"markers\", \"name\": \"Class 42\", \"type\": \"scatter3d\", \"x\": [], \"y\": [], \"z\": []}, {\"marker\": {\"color\": \"rgba(44, 130, 201, 1)\", \"line\": {\"color\": \"black\", \"width\": 0.5}, \"opacity\": 0.3, \"size\": 12}, \"mode\": \"markers\", \"name\": \"Class 43\", \"type\": \"scatter3d\", \"x\": [], \"y\": [], \"z\": []}, {\"marker\": {\"color\": \"rgba(44, 130, 201, 1)\", \"line\": {\"color\": \"black\", \"width\": 0.5}, \"opacity\": 0.3, \"size\": 12}, \"mode\": \"markers\", \"name\": \"Class 44\", \"type\": \"scatter3d\", \"x\": [], \"y\": [], \"z\": []}, {\"marker\": {\"color\": \"rgba(44, 130, 201, 1)\", \"line\": {\"color\": \"black\", \"width\": 0.5}, \"opacity\": 0.3, \"size\": 12}, \"mode\": \"markers\", \"name\": \"Class 45\", \"type\": \"scatter3d\", \"x\": [], \"y\": [], \"z\": []}, {\"marker\": {\"color\": \"rgba(44, 130, 201, 1)\", \"line\": {\"color\": \"black\", \"width\": 0.5}, \"opacity\": 0.3, \"size\": 12}, \"mode\": \"markers\", \"name\": \"Class 46\", \"type\": \"scatter3d\", \"x\": [], \"y\": [], \"z\": []}, {\"marker\": {\"color\": \"rgba(44, 130, 201, 1)\", \"line\": {\"color\": \"black\", \"width\": 0.5}, \"opacity\": 0.3, \"size\": 12}, \"mode\": \"markers\", \"name\": \"Class 47\", \"type\": \"scatter3d\", \"x\": [], \"y\": [], \"z\": []}, {\"marker\": {\"color\": \"rgba(44, 130, 201, 1)\", \"line\": {\"color\": \"black\", \"width\": 0.5}, \"opacity\": 0.3, \"size\": 12}, \"mode\": \"markers\", \"name\": \"Class 48\", \"type\": \"scatter3d\", \"x\": [], \"y\": [], \"z\": []}, {\"marker\": {\"color\": \"rgba(44, 130, 201, 1)\", \"line\": {\"color\": \"black\", \"width\": 0.5}, \"opacity\": 0.3, \"size\": 12}, \"mode\": \"markers\", \"name\": \"Class 49\", \"type\": \"scatter3d\", \"x\": [], \"y\": [], \"z\": []}, {\"marker\": {\"color\": \"rgba(44, 130, 201, 1)\", \"line\": {\"color\": \"black\", \"width\": 0.5}, \"opacity\": 0.3, \"size\": 12}, \"mode\": \"markers\", \"name\": \"Class 50\", \"type\": \"scatter3d\", \"x\": [], \"y\": [], \"z\": []}, {\"marker\": {\"color\": \"rgba(44, 130, 201, 1)\", \"line\": {\"color\": \"black\", \"width\": 0.5}, \"opacity\": 0.3, \"size\": 12}, \"mode\": \"markers\", \"name\": \"Class 51\", \"type\": \"scatter3d\", \"x\": [], \"y\": [], \"z\": []}, {\"marker\": {\"color\": \"rgba(44, 130, 201, 1)\", \"line\": {\"color\": \"black\", \"width\": 0.5}, \"opacity\": 0.3, \"size\": 12}, \"mode\": \"markers\", \"name\": \"Class 52\", \"type\": \"scatter3d\", \"x\": [], \"y\": [], \"z\": []}, {\"marker\": {\"color\": \"rgba(44, 130, 201, 1)\", \"line\": {\"color\": \"black\", \"width\": 0.5}, \"opacity\": 0.3, \"size\": 12}, \"mode\": \"markers\", \"name\": \"Class 53\", \"type\": \"scatter3d\", \"x\": [], \"y\": [], \"z\": []}, {\"marker\": {\"color\": \"rgba(44, 130, 201, 1)\", \"line\": {\"color\": \"black\", \"width\": 0.5}, \"opacity\": 0.3, \"size\": 12}, \"mode\": \"markers\", \"name\": \"Class 54\", \"type\": \"scatter3d\", \"x\": [], \"y\": [], \"z\": []}, {\"marker\": {\"color\": \"rgba(44, 130, 201, 1)\", \"line\": {\"color\": \"black\", \"width\": 0.5}, \"opacity\": 0.3, \"size\": 12}, \"mode\": \"markers\", \"name\": \"Class 55\", \"type\": \"scatter3d\", \"x\": [], \"y\": [], \"z\": []}, {\"marker\": {\"color\": \"rgba(44, 130, 201, 1)\", \"line\": {\"color\": \"black\", \"width\": 0.5}, \"opacity\": 0.3, \"size\": 12}, \"mode\": \"markers\", \"name\": \"Class 56\", \"type\": \"scatter3d\", \"x\": [], \"y\": [], \"z\": []}, {\"marker\": {\"color\": \"rgba(44, 130, 201, 1)\", \"line\": {\"color\": \"black\", \"width\": 0.5}, \"opacity\": 0.3, \"size\": 12}, \"mode\": \"markers\", \"name\": \"Class 57\", \"type\": \"scatter3d\", \"x\": [], \"y\": [], \"z\": []}, {\"marker\": {\"color\": \"rgba(44, 130, 201, 1)\", \"line\": {\"color\": \"black\", \"width\": 0.5}, \"opacity\": 0.3, \"size\": 12}, \"mode\": \"markers\", \"name\": \"Class 58\", \"type\": \"scatter3d\", \"x\": [], \"y\": [], \"z\": []}, {\"marker\": {\"color\": \"rgba(44, 130, 201, 1)\", \"line\": {\"color\": \"black\", \"width\": 0.5}, \"opacity\": 0.3, \"size\": 12}, \"mode\": \"markers\", \"name\": \"Class 59\", \"type\": \"scatter3d\", \"x\": [], \"y\": [], \"z\": []}, {\"marker\": {\"color\": \"rgba(44, 130, 201, 1)\", \"line\": {\"color\": \"black\", \"width\": 0.5}, \"opacity\": 0.3, \"size\": 12}, \"mode\": \"markers\", \"name\": \"Class 60\", \"type\": \"scatter3d\", \"x\": [], \"y\": [], \"z\": []}, {\"marker\": {\"color\": \"rgba(44, 130, 201, 1)\", \"line\": {\"color\": \"black\", \"width\": 0.5}, \"opacity\": 0.3, \"size\": 12}, \"mode\": \"markers\", \"name\": \"Class 61\", \"type\": \"scatter3d\", \"x\": [], \"y\": [], \"z\": []}, {\"marker\": {\"color\": \"rgba(44, 130, 201, 1)\", \"line\": {\"color\": \"black\", \"width\": 0.5}, \"opacity\": 0.3, \"size\": 12}, \"mode\": \"markers\", \"name\": \"Class 62\", \"type\": \"scatter3d\", \"x\": [], \"y\": [], \"z\": []}, {\"marker\": {\"color\": \"rgba(44, 130, 201, 1)\", \"line\": {\"color\": \"black\", \"width\": 0.5}, \"opacity\": 0.3, \"size\": 12}, \"mode\": \"markers\", \"name\": \"Class 63\", \"type\": \"scatter3d\", \"x\": [], \"y\": [], \"z\": []}, {\"marker\": {\"color\": \"rgba(44, 130, 201, 1)\", \"line\": {\"color\": \"black\", \"width\": 0.5}, \"opacity\": 0.3, \"size\": 12}, \"mode\": \"markers\", \"name\": \"Class 64\", \"type\": \"scatter3d\", \"x\": [], \"y\": [], \"z\": []}, {\"marker\": {\"color\": \"rgba(44, 130, 201, 1)\", \"line\": {\"color\": \"black\", \"width\": 0.5}, \"opacity\": 0.3, \"size\": 12}, \"mode\": \"markers\", \"name\": \"Class 65\", \"type\": \"scatter3d\", \"x\": [], \"y\": [], \"z\": []}, {\"marker\": {\"color\": \"rgba(44, 130, 201, 1)\", \"line\": {\"color\": \"black\", \"width\": 0.5}, \"opacity\": 0.3, \"size\": 12}, \"mode\": \"markers\", \"name\": \"Class 66\", \"type\": \"scatter3d\", \"x\": [], \"y\": [], \"z\": []}, {\"marker\": {\"color\": \"rgba(44, 130, 201, 1)\", \"line\": {\"color\": \"black\", \"width\": 0.5}, \"opacity\": 0.3, \"size\": 12}, \"mode\": \"markers\", \"name\": \"Class 67\", \"type\": \"scatter3d\", \"x\": [], \"y\": [], \"z\": []}, {\"marker\": {\"color\": \"rgba(44, 130, 201, 1)\", \"line\": {\"color\": \"black\", \"width\": 0.5}, \"opacity\": 0.3, \"size\": 12}, \"mode\": \"markers\", \"name\": \"Class 68\", \"type\": \"scatter3d\", \"x\": [], \"y\": [], \"z\": []}, {\"marker\": {\"color\": \"rgba(44, 130, 201, 1)\", \"line\": {\"color\": \"black\", \"width\": 0.5}, \"opacity\": 0.3, \"size\": 12}, \"mode\": \"markers\", \"name\": \"Class 69\", \"type\": \"scatter3d\", \"x\": [], \"y\": [], \"z\": []}, {\"marker\": {\"color\": \"rgba(44, 130, 201, 1)\", \"line\": {\"color\": \"black\", \"width\": 0.5}, \"opacity\": 0.3, \"size\": 12}, \"mode\": \"markers\", \"name\": \"Class 70\", \"type\": \"scatter3d\", \"x\": [], \"y\": [], \"z\": []}, {\"marker\": {\"color\": \"rgba(44, 130, 201, 1)\", \"line\": {\"color\": \"black\", \"width\": 0.5}, \"opacity\": 0.3, \"size\": 12}, \"mode\": \"markers\", \"name\": \"Class 71\", \"type\": \"scatter3d\", \"x\": [], \"y\": [], \"z\": []}, {\"marker\": {\"color\": \"rgba(44, 130, 201, 1)\", \"line\": {\"color\": \"black\", \"width\": 0.5}, \"opacity\": 0.3, \"size\": 12}, \"mode\": \"markers\", \"name\": \"Class 72\", \"type\": \"scatter3d\", \"x\": [], \"y\": [], \"z\": []}, {\"marker\": {\"color\": \"rgba(44, 130, 201, 1)\", \"line\": {\"color\": \"black\", \"width\": 0.5}, \"opacity\": 0.3, \"size\": 12}, \"mode\": \"markers\", \"name\": \"Class 73\", \"type\": \"scatter3d\", \"x\": [], \"y\": [], \"z\": []}, {\"marker\": {\"color\": \"rgba(44, 130, 201, 1)\", \"line\": {\"color\": \"black\", \"width\": 0.5}, \"opacity\": 0.3, \"size\": 12}, \"mode\": \"markers\", \"name\": \"Class 74\", \"type\": \"scatter3d\", \"x\": [], \"y\": [], \"z\": []}, {\"marker\": {\"color\": \"rgba(44, 130, 201, 1)\", \"line\": {\"color\": \"black\", \"width\": 0.5}, \"opacity\": 0.3, \"size\": 12}, \"mode\": \"markers\", \"name\": \"Class 75\", \"type\": \"scatter3d\", \"x\": [], \"y\": [], \"z\": []}, {\"marker\": {\"color\": \"rgba(44, 130, 201, 1)\", \"line\": {\"color\": \"black\", \"width\": 0.5}, \"opacity\": 0.3, \"size\": 12}, \"mode\": \"markers\", \"name\": \"Class 76\", \"type\": \"scatter3d\", \"x\": [], \"y\": [], \"z\": []}, {\"marker\": {\"color\": \"rgba(44, 130, 201, 1)\", \"line\": {\"color\": \"black\", \"width\": 0.5}, \"opacity\": 0.3, \"size\": 12}, \"mode\": \"markers\", \"name\": \"Class 77\", \"type\": \"scatter3d\", \"x\": [], \"y\": [], \"z\": []}, {\"marker\": {\"color\": \"rgba(44, 130, 201, 1)\", \"line\": {\"color\": \"black\", \"width\": 0.5}, \"opacity\": 0.3, \"size\": 12}, \"mode\": \"markers\", \"name\": \"Class 78\", \"type\": \"scatter3d\", \"x\": [], \"y\": [], \"z\": []}, {\"marker\": {\"color\": \"rgba(44, 130, 201, 1)\", \"line\": {\"color\": \"black\", \"width\": 0.5}, \"opacity\": 0.3, \"size\": 12}, \"mode\": \"markers\", \"name\": \"Class 79\", \"type\": \"scatter3d\", \"x\": [], \"y\": [], \"z\": []}, {\"marker\": {\"color\": \"rgba(44, 130, 201, 1)\", \"line\": {\"color\": \"black\", \"width\": 0.5}, \"opacity\": 0.3, \"size\": 12}, \"mode\": \"markers\", \"name\": \"Class 80\", \"type\": \"scatter3d\", \"x\": [], \"y\": [], \"z\": []}, {\"marker\": {\"color\": \"rgba(44, 130, 201, 1)\", \"line\": {\"color\": \"black\", \"width\": 0.5}, \"opacity\": 0.3, \"size\": 12}, \"mode\": \"markers\", \"name\": \"Class 81\", \"type\": \"scatter3d\", \"x\": [], \"y\": [], \"z\": []}, {\"marker\": {\"color\": \"rgba(44, 130, 201, 1)\", \"line\": {\"color\": \"black\", \"width\": 0.5}, \"opacity\": 0.3, \"size\": 12}, \"mode\": \"markers\", \"name\": \"Class 82\", \"type\": \"scatter3d\", \"x\": [], \"y\": [], \"z\": []}, {\"marker\": {\"color\": \"rgba(44, 130, 201, 1)\", \"line\": {\"color\": \"black\", \"width\": 0.5}, \"opacity\": 0.3, \"size\": 12}, \"mode\": \"markers\", \"name\": \"Class 83\", \"type\": \"scatter3d\", \"x\": [], \"y\": [], \"z\": []}, {\"marker\": {\"color\": \"rgba(44, 130, 201, 1)\", \"line\": {\"color\": \"black\", \"width\": 0.5}, \"opacity\": 0.3, \"size\": 12}, \"mode\": \"markers\", \"name\": \"Class 84\", \"type\": \"scatter3d\", \"x\": [], \"y\": [], \"z\": []}, {\"marker\": {\"color\": \"rgba(44, 130, 201, 1)\", \"line\": {\"color\": \"black\", \"width\": 0.5}, \"opacity\": 0.3, \"size\": 12}, \"mode\": \"markers\", \"name\": \"Class 85\", \"type\": \"scatter3d\", \"x\": [], \"y\": [], \"z\": []}, {\"marker\": {\"color\": \"rgba(44, 130, 201, 1)\", \"line\": {\"color\": \"black\", \"width\": 0.5}, \"opacity\": 0.3, \"size\": 12}, \"mode\": \"markers\", \"name\": \"Class 86\", \"type\": \"scatter3d\", \"x\": [], \"y\": [], \"z\": []}, {\"marker\": {\"color\": \"rgba(44, 130, 201, 1)\", \"line\": {\"color\": \"black\", \"width\": 0.5}, \"opacity\": 0.3, \"size\": 12}, \"mode\": \"markers\", \"name\": \"Class 87\", \"type\": \"scatter3d\", \"x\": [], \"y\": [], \"z\": []}, {\"marker\": {\"color\": \"rgba(44, 130, 201, 1)\", \"line\": {\"color\": \"black\", \"width\": 0.5}, \"opacity\": 0.3, \"size\": 12}, \"mode\": \"markers\", \"name\": \"Class 88\", \"type\": \"scatter3d\", \"x\": [], \"y\": [], \"z\": []}, {\"marker\": {\"color\": \"rgba(44, 130, 201, 1)\", \"line\": {\"color\": \"black\", \"width\": 0.5}, \"opacity\": 0.3, \"size\": 12}, \"mode\": \"markers\", \"name\": \"Class 89\", \"type\": \"scatter3d\", \"x\": [], \"y\": [], \"z\": []}, {\"marker\": {\"color\": \"rgba(44, 130, 201, 1)\", \"line\": {\"color\": \"black\", \"width\": 0.5}, \"opacity\": 0.3, \"size\": 12}, \"mode\": \"markers\", \"name\": \"Class 90\", \"type\": \"scatter3d\", \"x\": [], \"y\": [], \"z\": []}, {\"marker\": {\"color\": \"rgba(44, 130, 201, 1)\", \"line\": {\"color\": \"black\", \"width\": 0.5}, \"opacity\": 0.3, \"size\": 12}, \"mode\": \"markers\", \"name\": \"Class 91\", \"type\": \"scatter3d\", \"x\": [], \"y\": [], \"z\": []}, {\"marker\": {\"color\": \"rgba(44, 130, 201, 1)\", \"line\": {\"color\": \"black\", \"width\": 0.5}, \"opacity\": 0.3, \"size\": 12}, \"mode\": \"markers\", \"name\": \"Class 92\", \"type\": \"scatter3d\", \"x\": [], \"y\": [], \"z\": []}, {\"marker\": {\"color\": \"rgba(44, 130, 201, 1)\", \"line\": {\"color\": \"black\", \"width\": 0.5}, \"opacity\": 0.3, \"size\": 12}, \"mode\": \"markers\", \"name\": \"Class 93\", \"type\": \"scatter3d\", \"x\": [], \"y\": [], \"z\": []}, {\"marker\": {\"color\": \"rgba(44, 130, 201, 1)\", \"line\": {\"color\": \"black\", \"width\": 0.5}, \"opacity\": 0.3, \"size\": 12}, \"mode\": \"markers\", \"name\": \"Class 94\", \"type\": \"scatter3d\", \"x\": [], \"y\": [], \"z\": []}, {\"marker\": {\"color\": \"rgba(44, 130, 201, 1)\", \"line\": {\"color\": \"black\", \"width\": 0.5}, \"opacity\": 0.3, \"size\": 12}, \"mode\": \"markers\", \"name\": \"Class 95\", \"type\": \"scatter3d\", \"x\": [], \"y\": [], \"z\": []}, {\"marker\": {\"color\": \"rgba(44, 130, 201, 1)\", \"line\": {\"color\": \"black\", \"width\": 0.5}, \"opacity\": 0.3, \"size\": 12}, \"mode\": \"markers\", \"name\": \"Class 96\", \"type\": \"scatter3d\", \"x\": [], \"y\": [], \"z\": []}, {\"marker\": {\"color\": \"rgba(44, 130, 201, 1)\", \"line\": {\"color\": \"black\", \"width\": 0.5}, \"opacity\": 0.3, \"size\": 12}, \"mode\": \"markers\", \"name\": \"Class 97\", \"type\": \"scatter3d\", \"x\": [], \"y\": [], \"z\": []}, {\"marker\": {\"color\": \"rgba(44, 130, 201, 1)\", \"line\": {\"color\": \"black\", \"width\": 0.5}, \"opacity\": 0.3, \"size\": 12}, \"mode\": \"markers\", \"name\": \"Class 98\", \"type\": \"scatter3d\", \"x\": [], \"y\": [], \"z\": []}, {\"marker\": {\"color\": \"rgba(44, 130, 201, 1)\", \"line\": {\"color\": \"black\", \"width\": 0.5}, \"opacity\": 0.3, \"size\": 12}, \"mode\": \"markers\", \"name\": \"Class 99\", \"type\": \"scatter3d\", \"x\": [], \"y\": [], \"z\": []}, {\"line\": {\"color\": \"rgba(44, 130, 201, 1)\", \"width\": 3}, \"marker\": {\"color\": \"rgba(44, 130, 201, 1)\", \"size\": 5}, \"name\": \"Knight\", \"type\": \"scatter3d\", \"x\": [0, 0.11191377107996153], \"y\": [0, -0.007254086134824314], \"z\": [0, -0.023092038089644374]}, {\"line\": {\"color\": \"rgba(44, 130, 201, 1)\", \"width\": 3}, \"marker\": {\"color\": \"rgba(44, 130, 201, 1)\", \"size\": 5}, \"name\": \"Archers\", \"type\": \"scatter3d\", \"x\": [0, 0.02029751548835072], \"y\": [0, 0.024460927185995504], \"z\": [0, 0.01755675706500039]}, {\"line\": {\"color\": \"rgba(44, 130, 201, 1)\", \"width\": 3}, \"marker\": {\"color\": \"rgba(44, 130, 201, 1)\", \"size\": 5}, \"name\": \"Goblins\", \"type\": \"scatter3d\", \"x\": [0, 0.014169688647837821], \"y\": [0, 0.02409899621454702], \"z\": [0, -0.04218519512961249]}, {\"line\": {\"color\": \"rgba(44, 130, 201, 1)\", \"width\": 3}, \"marker\": {\"color\": \"rgba(44, 130, 201, 1)\", \"size\": 5}, \"name\": \"Giant\", \"type\": \"scatter3d\", \"x\": [0, 0.24877440013691302], \"y\": [0, -0.09360234882140042], \"z\": [0, 0.03466614767390298]}, {\"line\": {\"color\": \"rgba(44, 130, 201, 1)\", \"width\": 3}, \"marker\": {\"color\": \"rgba(44, 130, 201, 1)\", \"size\": 5}, \"name\": \"P.E.K.K.A\", \"type\": \"scatter3d\", \"x\": [0, 0.24621448442457688], \"y\": [0, 0.08473994639364081], \"z\": [0, -0.20730139748592671]}, {\"line\": {\"color\": \"rgba(44, 130, 201, 1)\", \"width\": 3}, \"marker\": {\"color\": \"rgba(44, 130, 201, 1)\", \"size\": 5}, \"name\": \"Minions\", \"type\": \"scatter3d\", \"x\": [0, 0.015568861461441914], \"y\": [0, 0.025090069321569347], \"z\": [0, 0.014612135522977094]}, {\"line\": {\"color\": \"rgba(44, 130, 201, 1)\", \"width\": 3}, \"marker\": {\"color\": \"rgba(44, 130, 201, 1)\", \"size\": 5}, \"name\": \"Balloon\", \"type\": \"scatter3d\", \"x\": [0, 0.11548406767567587], \"y\": [0, 0.17153861998856185], \"z\": [0, -0.17639994531070127]}, {\"line\": {\"color\": \"rgba(44, 130, 201, 1)\", \"width\": 3}, \"marker\": {\"color\": \"rgba(44, 130, 201, 1)\", \"size\": 5}, \"name\": \"Witch\", \"type\": \"scatter3d\", \"x\": [0, 0.053687476876845816], \"y\": [0, 0.019006751077144075], \"z\": [0, 0.04122035523256371]}, {\"line\": {\"color\": \"rgba(44, 130, 201, 1)\", \"width\": 3}, \"marker\": {\"color\": \"rgba(44, 130, 201, 1)\", \"size\": 5}, \"name\": \"Barbarians\", \"type\": \"scatter3d\", \"x\": [0, 0.0443240040888753], \"y\": [0, 0.026959220191983414], \"z\": [0, -0.05597146851368765]}, {\"line\": {\"color\": \"rgba(44, 130, 201, 1)\", \"width\": 3}, \"marker\": {\"color\": \"rgba(44, 130, 201, 1)\", \"size\": 5}, \"name\": \"Golem\", \"type\": \"scatter3d\", \"x\": [0, 0.4656185467212207], \"y\": [0, -0.20722676912441076], \"z\": [0, 0.13594373927608516]}, {\"line\": {\"color\": \"rgba(44, 130, 201, 1)\", \"width\": 3}, \"marker\": {\"color\": \"rgba(44, 130, 201, 1)\", \"size\": 5}, \"name\": \"Skeletons\", \"type\": \"scatter3d\", \"x\": [0, 0.006120643392796068], \"y\": [0, 0.01815557879026887], \"z\": [0, -0.03045152543164922]}, {\"line\": {\"color\": \"rgba(44, 130, 201, 1)\", \"width\": 3}, \"marker\": {\"color\": \"rgba(44, 130, 201, 1)\", \"size\": 5}, \"name\": \"Valkyrie\", \"type\": \"scatter3d\", \"x\": [0, 0.1279573190042301], \"y\": [0, 0.021254948087061833], \"z\": [0, -0.05248733404940574]}, {\"line\": {\"color\": \"rgba(44, 130, 201, 1)\", \"width\": 3}, \"marker\": {\"color\": \"rgba(44, 130, 201, 1)\", \"size\": 5}, \"name\": \"Skeleton Army\", \"type\": \"scatter3d\", \"x\": [0, 0.006074513093707322], \"y\": [0, 0.01793803824010816], \"z\": [0, -0.03051413122372305]}, {\"line\": {\"color\": \"rgba(44, 130, 201, 1)\", \"width\": 3}, \"marker\": {\"color\": \"rgba(44, 130, 201, 1)\", \"size\": 5}, \"name\": \"Bomber\", \"type\": \"scatter3d\", \"x\": [0, 0.03434754950262862], \"y\": [0, 0.09298395037421961], \"z\": [0, -0.1312640111610612]}, {\"line\": {\"color\": \"rgba(44, 130, 201, 1)\", \"width\": 3}, \"marker\": {\"color\": \"rgba(44, 130, 201, 1)\", \"size\": 5}, \"name\": \"Musketeer\", \"type\": \"scatter3d\", \"x\": [0, 0.04776515004332213], \"y\": [0, 0.04650703052701318], \"z\": [0, 0.03928177769387832]}, {\"line\": {\"color\": \"rgba(44, 130, 201, 1)\", \"width\": 3}, \"marker\": {\"color\": \"rgba(44, 130, 201, 1)\", \"size\": 5}, \"name\": \"Baby Dragon\", \"type\": \"scatter3d\", \"x\": [0, 0.07397346695120435], \"y\": [0, 0.024806303013074828], \"z\": [0, 0.043494775941365964]}, {\"line\": {\"color\": \"rgba(44, 130, 201, 1)\", \"width\": 3}, \"marker\": {\"color\": \"rgba(44, 130, 201, 1)\", \"size\": 5}, \"name\": \"Prince\", \"type\": \"scatter3d\", \"x\": [0, 0.13086155710457925], \"y\": [0, 0.03350753417869725], \"z\": [0, -0.09237413860009003]}, {\"line\": {\"color\": \"rgba(44, 130, 201, 1)\", \"width\": 3}, \"marker\": {\"color\": \"rgba(44, 130, 201, 1)\", \"size\": 5}, \"name\": \"Wizard\", \"type\": \"scatter3d\", \"x\": [0, 0.048557980701311294], \"y\": [0, 0.08838114961981261], \"z\": [0, 0.032007071560092255]}, {\"line\": {\"color\": \"rgba(44, 130, 201, 1)\", \"width\": 3}, \"marker\": {\"color\": \"rgba(44, 130, 201, 1)\", \"size\": 5}, \"name\": \"Mini P.E.K.K.A\", \"type\": \"scatter3d\", \"x\": [0, 0.09483019175818297], \"y\": [0, 0.14156810988554172], \"z\": [0, -0.2496210713117258]}, {\"line\": {\"color\": \"rgba(44, 130, 201, 1)\", \"width\": 3}, \"marker\": {\"color\": \"rgba(44, 130, 201, 1)\", \"size\": 5}, \"name\": \"Spear Goblins\", \"type\": \"scatter3d\", \"x\": [0, 0.009268358235630518], \"y\": [0, 0.021595667520205926], \"z\": [0, 0.009920676282277474]}, {\"line\": {\"color\": \"rgba(44, 130, 201, 1)\", \"width\": 3}, \"marker\": {\"color\": \"rgba(44, 130, 201, 1)\", \"size\": 5}, \"name\": \"Giant Skeleton\", \"type\": \"scatter3d\", \"x\": [0, 0.21217963815853297], \"y\": [0, -0.07803465451056209], \"z\": [0, 0.05098179473636104]}, {\"line\": {\"color\": \"rgba(44, 130, 201, 1)\", \"width\": 3}, \"marker\": {\"color\": \"rgba(44, 130, 201, 1)\", \"size\": 5}, \"name\": \"Hog Rider\", \"type\": \"scatter3d\", \"x\": [0, 0.10907358735550406], \"y\": [0, -0.006621504408683389], \"z\": [0, -0.06699050377285663]}, {\"line\": {\"color\": \"rgba(44, 130, 201, 1)\", \"width\": 3}, \"marker\": {\"color\": \"rgba(44, 130, 201, 1)\", \"size\": 5}, \"name\": \"Minion Horde\", \"type\": \"scatter3d\", \"x\": [0, 0.015549406557460399], \"y\": [0, 0.02499819413812392], \"z\": [0, 0.014590133821271568]}, {\"line\": {\"color\": \"rgba(44, 130, 201, 1)\", \"width\": 3}, \"marker\": {\"color\": \"rgba(44, 130, 201, 1)\", \"size\": 5}, \"name\": \"Ice Wizard\", \"type\": \"scatter3d\", \"x\": [0, 0.045468999411446706], \"y\": [0, 0.011782261368650267], \"z\": [0, 0.026559557593752194]}, {\"line\": {\"color\": \"rgba(44, 130, 201, 1)\", \"width\": 3}, \"marker\": {\"color\": \"rgba(44, 130, 201, 1)\", \"size\": 5}, \"name\": \"Royal Giant\", \"type\": \"scatter3d\", \"x\": [0, 0.19433313628554655], \"y\": [0, -0.0553012143517845], \"z\": [0, -0.015662606567804892]}, {\"line\": {\"color\": \"rgba(44, 130, 201, 1)\", \"width\": 3}, \"marker\": {\"color\": \"rgba(44, 130, 201, 1)\", \"size\": 5}, \"name\": \"Guards\", \"type\": \"scatter3d\", \"x\": [0, 0.008227299329831211], \"y\": [0, 0.024414030705700775], \"z\": [0, -0.04089405969537666]}, {\"line\": {\"color\": \"rgba(44, 130, 201, 1)\", \"width\": 3}, \"marker\": {\"color\": \"rgba(44, 130, 201, 1)\", \"size\": 5}, \"name\": \"Princess\", \"type\": \"scatter3d\", \"x\": [0, 0.018346079571960546], \"y\": [0, 0.058478168490990766], \"z\": [0, 0.013276347985579858]}, {\"line\": {\"color\": \"rgba(44, 130, 201, 1)\", \"width\": 3}, \"marker\": {\"color\": \"rgba(44, 130, 201, 1)\", \"size\": 5}, \"name\": \"Dark Prince\", \"type\": \"scatter3d\", \"x\": [0, 0.09575973349625905], \"y\": [0, 0.03264519925177745], \"z\": [0, -0.061760579157608964]}, {\"line\": {\"color\": \"rgba(44, 130, 201, 1)\", \"width\": 3}, \"marker\": {\"color\": \"rgba(44, 130, 201, 1)\", \"size\": 5}, \"name\": \"Three Musketeers\", \"type\": \"scatter3d\", \"x\": [0, 0.047742675274016246], \"y\": [0, 0.04640079522020042], \"z\": [0, 0.03925952270355964]}, {\"line\": {\"color\": \"rgba(44, 130, 201, 1)\", \"width\": 3}, \"marker\": {\"color\": \"rgba(44, 130, 201, 1)\", \"size\": 5}, \"name\": \"Lava Hound\", \"type\": \"scatter3d\", \"x\": [0, 0.23771863733489318], \"y\": [0, -0.103146569812059], \"z\": [0, 0.14239161785086007]}, {\"line\": {\"color\": \"rgba(44, 130, 201, 1)\", \"width\": 3}, \"marker\": {\"color\": \"rgba(44, 130, 201, 1)\", \"size\": 5}, \"name\": \"Ice Spirit\", \"type\": \"scatter3d\", \"x\": [0, 0.015622402551115279], \"y\": [0, 0.03446429975301165], \"z\": [0, 0.012743379541316926]}, {\"line\": {\"color\": \"rgba(44, 130, 201, 1)\", \"width\": 3}, \"marker\": {\"color\": \"rgba(44, 130, 201, 1)\", \"size\": 5}, \"name\": \"Fire Spirits\", \"type\": \"scatter3d\", \"x\": [0, 0.00959670611712915], \"y\": [0, 0.08224561429679127], \"z\": [0, 0.009425858614969328]}, {\"line\": {\"color\": \"rgba(44, 130, 201, 1)\", \"width\": 3}, \"marker\": {\"color\": \"rgba(44, 130, 201, 1)\", \"size\": 5}, \"name\": \"Miner\", \"type\": \"scatter3d\", \"x\": [0, 0.0772089648520487], \"y\": [0, 0.0013329272279392237], \"z\": [0, 0.0043796498632227045]}, {\"line\": {\"color\": \"rgba(44, 130, 201, 1)\", \"width\": 3}, \"marker\": {\"color\": \"rgba(44, 130, 201, 1)\", \"size\": 5}, \"name\": \"Sparky\", \"type\": \"scatter3d\", \"x\": [0, 0.10832706178140417], \"y\": [0, 0.3951681963773423], \"z\": [0, -0.5496936509689705]}, {\"line\": {\"color\": \"rgba(44, 130, 201, 1)\", \"width\": 3}, \"marker\": {\"color\": \"rgba(44, 130, 201, 1)\", \"size\": 5}, \"name\": \"Bowler\", \"type\": \"scatter3d\", \"x\": [0, 0.12387181943456416], \"y\": [0, 0.030808079779298447], \"z\": [0, -0.06469100816893689]}, {\"line\": {\"color\": \"rgba(44, 130, 201, 1)\", \"width\": 3}, \"marker\": {\"color\": \"rgba(44, 130, 201, 1)\", \"size\": 5}, \"name\": \"Lumberjack\", \"type\": \"scatter3d\", \"x\": [0, 0.08299504191667234], \"y\": [0, 0.019219926485070583], \"z\": [0, -0.055506578861102995]}, {\"line\": {\"color\": \"rgba(44, 130, 201, 1)\", \"width\": 3}, \"marker\": {\"color\": \"rgba(44, 130, 201, 1)\", \"size\": 5}, \"name\": \"Battle Ram\", \"type\": \"scatter3d\", \"x\": [0, 0.10076603481719214], \"y\": [0, -0.013810081175299692], \"z\": [0, -0.010545072152215278]}, {\"line\": {\"color\": \"rgba(44, 130, 201, 1)\", \"width\": 3}, \"marker\": {\"color\": \"rgba(44, 130, 201, 1)\", \"size\": 5}, \"name\": \"Inferno Dragon\", \"type\": \"scatter3d\", \"x\": [0, 0.08340380467601015], \"y\": [0, 0.030730242425144598], \"z\": [0, 0.05940067943227304]}, {\"line\": {\"color\": \"rgba(44, 130, 201, 1)\", \"width\": 3}, \"marker\": {\"color\": \"rgba(44, 130, 201, 1)\", \"size\": 5}, \"name\": \"Ice Golem\", \"type\": \"scatter3d\", \"x\": [0, 0.07551179568721457], \"y\": [0, -0.028615986513586322], \"z\": [0, 0.009250597015589739]}, {\"line\": {\"color\": \"rgba(44, 130, 201, 1)\", \"width\": 3}, \"marker\": {\"color\": \"rgba(44, 130, 201, 1)\", \"size\": 5}, \"name\": \"Mega Minion\", \"type\": \"scatter3d\", \"x\": [0, 0.05629217978404119], \"y\": [0, 0.07294166706753874], \"z\": [0, 0.04956983940739048]}, {\"line\": {\"color\": \"rgba(44, 130, 201, 1)\", \"width\": 3}, \"marker\": {\"color\": \"rgba(44, 130, 201, 1)\", \"size\": 5}, \"name\": \"Dart Goblin\", \"type\": \"scatter3d\", \"x\": [0, 0.017768808147228834], \"y\": [0, 0.030290786669626032], \"z\": [0, 0.016986657891608716]}, {\"line\": {\"color\": \"rgba(44, 130, 201, 1)\", \"width\": 3}, \"marker\": {\"color\": \"rgba(44, 130, 201, 1)\", \"size\": 5}, \"name\": \"Goblin Gang\", \"type\": \"scatter3d\", \"x\": [0, 0.01166728830047876], \"y\": [0, 0.025406425882101156], \"z\": [0, 0.003160255028624599]}, {\"line\": {\"color\": \"rgba(44, 130, 201, 1)\", \"width\": 3}, \"marker\": {\"color\": \"rgba(44, 130, 201, 1)\", \"size\": 5}, \"name\": \"Electro Wizard\", \"type\": \"scatter3d\", \"x\": [0, 0.04733431161985726], \"y\": [0, 0.051153619489945054], \"z\": [0, 0.039845493652522254]}, {\"line\": {\"color\": \"rgba(44, 130, 201, 1)\", \"width\": 3}, \"marker\": {\"color\": \"rgba(44, 130, 201, 1)\", \"size\": 5}, \"name\": \"Elite Barbarians\", \"type\": \"scatter3d\", \"x\": [0, 0.07790204540026863], \"y\": [0, 0.05461647158341506], \"z\": [0, -0.10919547075312572]}, {\"line\": {\"color\": \"rgba(44, 130, 201, 1)\", \"width\": 3}, \"marker\": {\"color\": \"rgba(44, 130, 201, 1)\", \"size\": 5}, \"name\": \"Hunter\", \"type\": \"scatter3d\", \"x\": [0, 0.0632217983326471], \"y\": [0, 0.3098454316346503], \"z\": [0, 0.05102529388596755]}, {\"line\": {\"color\": \"rgba(44, 130, 201, 1)\", \"width\": 3}, \"marker\": {\"color\": \"rgba(44, 130, 201, 1)\", \"size\": 5}, \"name\": \"Executioner\", \"type\": \"scatter3d\", \"x\": [0, 0.08024214730022997], \"y\": [0, 0.09367875256558983], \"z\": [0, 0.05038203392154497]}, {\"line\": {\"color\": \"rgba(44, 130, 201, 1)\", \"width\": 3}, \"marker\": {\"color\": \"rgba(44, 130, 201, 1)\", \"size\": 5}, \"name\": \"Bandit\", \"type\": \"scatter3d\", \"x\": [0, 0.05900720669225407], \"y\": [0, 0.019299779742660426], \"z\": [0, -0.04844922312162539]}, {\"line\": {\"color\": \"rgba(44, 130, 201, 1)\", \"width\": 3}, \"marker\": {\"color\": \"rgba(44, 130, 201, 1)\", \"size\": 5}, \"name\": \"Royal Recruits\", \"type\": \"scatter3d\", \"x\": [0, 0.04966024940700546], \"y\": [0, 0.005220831731944408], \"z\": [0, -0.023833522780908705]}, {\"line\": {\"color\": \"rgba(44, 130, 201, 1)\", \"width\": 3}, \"marker\": {\"color\": \"rgba(44, 130, 201, 1)\", \"size\": 5}, \"name\": \"Night Witch\", \"type\": \"scatter3d\", \"x\": [0, 0.05898717200186171], \"y\": [0, 0.025634624702094714], \"z\": [0, -0.011571256605971733]}, {\"line\": {\"color\": \"rgba(44, 130, 201, 1)\", \"width\": 3}, \"marker\": {\"color\": \"rgba(44, 130, 201, 1)\", \"size\": 5}, \"name\": \"Bats\", \"type\": \"scatter3d\", \"x\": [0, 0.0060480355949887425], \"y\": [0, 0.023418628470261466], \"z\": [0, 0.008165484402438097]}, {\"line\": {\"color\": \"rgba(44, 130, 201, 1)\", \"width\": 3}, \"marker\": {\"color\": \"rgba(44, 130, 201, 1)\", \"size\": 5}, \"name\": \"Royal Ghost\", \"type\": \"scatter3d\", \"x\": [0, 0.0787090744887022], \"y\": [0, 0.04609052209534064], \"z\": [0, -0.07660601213422255]}, {\"line\": {\"color\": \"rgba(44, 130, 201, 1)\", \"width\": 3}, \"marker\": {\"color\": \"rgba(44, 130, 201, 1)\", \"size\": 5}, \"name\": \"Ram Rider\", \"type\": \"scatter3d\", \"x\": [0, 0.11278628528792786], \"y\": [0, -0.00033168348705373446], \"z\": [0, 0.0036089719369761346]}, {\"line\": {\"color\": \"rgba(44, 130, 201, 1)\", \"width\": 3}, \"marker\": {\"color\": \"rgba(44, 130, 201, 1)\", \"size\": 5}, \"name\": \"Zappies\", \"type\": \"scatter3d\", \"x\": [0, 0.03433898953131898], \"y\": [0, 0.014710824414829507], \"z\": [0, 0.0248464534039416]}, {\"line\": {\"color\": \"rgba(44, 130, 201, 1)\", \"width\": 3}, \"marker\": {\"color\": \"rgba(44, 130, 201, 1)\", \"size\": 5}, \"name\": \"Rascals\", \"type\": \"scatter3d\", \"x\": [0, 0.14804447447370545], \"y\": [0, -0.03691789246833059], \"z\": [0, 0.08881942817930884]}, {\"line\": {\"color\": \"rgba(44, 130, 201, 1)\", \"width\": 3}, \"marker\": {\"color\": \"rgba(44, 130, 201, 1)\", \"size\": 5}, \"name\": \"Cannon Cart\", \"type\": \"scatter3d\", \"x\": [0, 0.11444691912319765], \"y\": [0, -0.005844466686674164], \"z\": [0, -0.026250405173487222]}, {\"line\": {\"color\": \"rgba(44, 130, 201, 1)\", \"width\": 3}, \"marker\": {\"color\": \"rgba(44, 130, 201, 1)\", \"size\": 5}, \"name\": \"Mega Knight\", \"type\": \"scatter3d\", \"x\": [0, 0.2517067709817466], \"y\": [0, -0.04597311928973721], \"z\": [0, 0.01450691150370424]}, {\"line\": {\"color\": \"rgba(44, 130, 201, 1)\", \"width\": 3}, \"marker\": {\"color\": \"rgba(44, 130, 201, 1)\", \"size\": 5}, \"name\": \"Skeleton Barrel\", \"type\": \"scatter3d\", \"x\": [0, 0.04167927154816205], \"y\": [0, 0.00870390824326118], \"z\": [0, -0.017505584718090765]}, {\"line\": {\"color\": \"rgba(44, 130, 201, 1)\", \"width\": 3}, \"marker\": {\"color\": \"rgba(44, 130, 201, 1)\", \"size\": 5}, \"name\": \"Flying Machine\", \"type\": \"scatter3d\", \"x\": [0, 0.04053133293457833], \"y\": [0, 0.034748050332075814], \"z\": [0, 0.032480987940114184]}, {\"line\": {\"color\": \"rgba(44, 130, 201, 1)\", \"width\": 3}, \"marker\": {\"color\": \"rgba(44, 130, 201, 1)\", \"size\": 5}, \"name\": \"Wall Breakers\", \"type\": \"scatter3d\", \"x\": [0, 0.025525020036211956], \"y\": [0, 0.1399878283308535], \"z\": [0, 0.029025293636123464]}, {\"line\": {\"color\": \"rgba(44, 130, 201, 1)\", \"width\": 3}, \"marker\": {\"color\": \"rgba(44, 130, 201, 1)\", \"size\": 5}, \"name\": \"Royal Hogs\", \"type\": \"scatter3d\", \"x\": [0, 0.05292450118139533], \"y\": [0, -0.017306140285728175], \"z\": [0, 0.0005831574338751005]}, {\"line\": {\"color\": \"rgba(44, 130, 201, 1)\", \"width\": 3}, \"marker\": {\"color\": \"rgba(44, 130, 201, 1)\", \"size\": 5}, \"name\": \"Goblin Giant\", \"type\": \"scatter3d\", \"x\": [0, 0.20692767182617428], \"y\": [0, -0.06217925809278527], \"z\": [0, 0.11577591586623467]}, {\"line\": {\"color\": \"rgba(44, 130, 201, 1)\", \"width\": 3}, \"marker\": {\"color\": \"rgba(44, 130, 201, 1)\", \"size\": 5}, \"name\": \"Fisherman\", \"type\": \"scatter3d\", \"x\": [0, 0.06276118302026566], \"y\": [0, 0.017223682867484824], \"z\": [0, -0.046403795931233345]}, {\"line\": {\"color\": \"rgba(44, 130, 201, 1)\", \"width\": 3}, \"marker\": {\"color\": \"rgba(44, 130, 201, 1)\", \"size\": 5}, \"name\": \"Magic Archer\", \"type\": \"scatter3d\", \"x\": [0, 0.034747565482517596], \"y\": [0, 0.035321613876192454], \"z\": [0, 0.021558711441284233]}, {\"line\": {\"color\": \"rgba(44, 130, 201, 1)\", \"width\": 3}, \"marker\": {\"color\": \"rgba(44, 130, 201, 1)\", \"size\": 5}, \"name\": \"Electro Dragon\", \"type\": \"scatter3d\", \"x\": [0, 0.06184575946142919], \"y\": [0, 0.02992886755478688], \"z\": [0, 0.0453530515146934]}, {\"line\": {\"color\": \"rgba(44, 130, 201, 1)\", \"width\": 3}, \"marker\": {\"color\": \"rgba(44, 130, 201, 1)\", \"size\": 5}, \"name\": \"Firecracker\", \"type\": \"scatter3d\", \"x\": [0, 0.023020563890996087], \"y\": [0, 0.11753597374192734], \"z\": [0, 0.01878703896044391]}, {\"line\": {\"color\": \"rgba(44, 130, 201, 1)\", \"width\": 3}, \"marker\": {\"color\": \"rgba(44, 130, 201, 1)\", \"size\": 5}, \"name\": \"Elixir Golem\", \"type\": \"scatter3d\", \"x\": [0, 0.16541180697800922], \"y\": [0, -0.06492041119179862], \"z\": [0, 0.02908650520563404]}, {\"line\": {\"color\": \"rgba(44, 130, 201, 1)\", \"width\": 3}, \"marker\": {\"color\": \"rgba(44, 130, 201, 1)\", \"size\": 5}, \"name\": \"Battle Healer\", \"type\": \"scatter3d\", \"x\": [0, 0.1091457776845119], \"y\": [0, -0.019999967704325484], \"z\": [0, -0.002429179891196807]}, {\"line\": {\"color\": \"rgba(44, 130, 201, 1)\", \"width\": 3}, \"marker\": {\"color\": \"rgba(44, 130, 201, 1)\", \"size\": 5}, \"name\": \"Skeleton Dragons\", \"type\": \"scatter3d\", \"x\": [0, 0.03524187270112602], \"y\": [0, 0.05036346647891106], \"z\": [0, 0.022560101758839633]}, {\"line\": {\"color\": \"rgba(44, 130, 201, 1)\", \"width\": 3}, \"marker\": {\"color\": \"rgba(44, 130, 201, 1)\", \"size\": 5}, \"name\": \"Cannon\", \"type\": \"scatter3d\", \"x\": [0, 0.05755135085630624], \"y\": [0, 0.010852111099794887], \"z\": [0, 0.01554627966105559]}, {\"line\": {\"color\": \"rgba(44, 130, 201, 1)\", \"width\": 3}, \"marker\": {\"color\": \"rgba(44, 130, 201, 1)\", \"size\": 5}, \"name\": \"Goblin Hut\", \"type\": \"scatter3d\", \"x\": [0, 0.06428706896745873], \"y\": [0, -0.0093440245391436], \"z\": [0, 0.040160790269568356]}, {\"line\": {\"color\": \"rgba(44, 130, 201, 1)\", \"width\": 3}, \"marker\": {\"color\": \"rgba(44, 130, 201, 1)\", \"size\": 5}, \"name\": \"Mortar\", \"type\": \"scatter3d\", \"x\": [0, 0.0950960052072525], \"y\": [0, 0.03801455431499822], \"z\": [0, -0.06973023745907672]}, {\"line\": {\"color\": \"rgba(44, 130, 201, 1)\", \"width\": 3}, \"marker\": {\"color\": \"rgba(44, 130, 201, 1)\", \"size\": 5}, \"name\": \"Inferno Tower\", \"type\": \"scatter3d\", \"x\": [0, 0.11271386272249753], \"y\": [0, 0.057714702970656305], \"z\": [0, 0.24108335033212624]}, {\"line\": {\"color\": \"rgba(44, 130, 201, 1)\", \"width\": 3}, \"marker\": {\"color\": \"rgba(44, 130, 201, 1)\", \"size\": 5}, \"name\": \"Bomb Tower\", \"type\": \"scatter3d\", \"x\": [0, 0.08624870163076868], \"y\": [0, 0.007136359474014887], \"z\": [0, 0.029675745751253566]}, {\"line\": {\"color\": \"rgba(44, 130, 201, 1)\", \"width\": 3}, \"marker\": {\"color\": \"rgba(44, 130, 201, 1)\", \"size\": 5}, \"name\": \"Barbarian Hut\", \"type\": \"scatter3d\", \"x\": [0, 0.11183251118137565], \"y\": [0, -0.0060341538124158945], \"z\": [0, -0.026404508050365597]}, {\"line\": {\"color\": \"rgba(44, 130, 201, 1)\", \"width\": 3}, \"marker\": {\"color\": \"rgba(44, 130, 201, 1)\", \"size\": 5}, \"name\": \"Tesla\", \"type\": \"scatter3d\", \"x\": [0, 0.07346348122482488], \"y\": [0, 0.020746355443372534], \"z\": [0, 0.13252984895535322]}, {\"line\": {\"color\": \"rgba(44, 130, 201, 1)\", \"width\": 3}, \"marker\": {\"color\": \"rgba(44, 130, 201, 1)\", \"size\": 5}, \"name\": \"Elixir Collector\", \"type\": \"scatter3d\", \"x\": [0, 0.06650870269519031], \"y\": [0, -0.03770284245313339], \"z\": [0, 0.03669062855719251]}, {\"line\": {\"color\": \"rgba(44, 130, 201, 1)\", \"width\": 3}, \"marker\": {\"color\": \"rgba(44, 130, 201, 1)\", \"size\": 5}, \"name\": \"X-Bow\", \"type\": \"scatter3d\", \"x\": [0, 0.10421233097892421], \"y\": [0, -0.049554967909536965], \"z\": [0, 0.043986387184275694]}, {\"line\": {\"color\": \"rgba(44, 130, 201, 1)\", \"width\": 3}, \"marker\": {\"color\": \"rgba(44, 130, 201, 1)\", \"size\": 5}, \"name\": \"Tombstone\", \"type\": \"scatter3d\", \"x\": [0, 0.03263327708323199], \"y\": [0, 0.0027135245078427437], \"z\": [0, -0.01578597440098194]}, {\"line\": {\"color\": \"rgba(44, 130, 201, 1)\", \"width\": 3}, \"marker\": {\"color\": \"rgba(44, 130, 201, 1)\", \"size\": 5}, \"name\": \"Furnace\", \"type\": \"scatter3d\", \"x\": [0, 0.06494703172489126], \"y\": [0, 0.01746230876218642], \"z\": [0, 0.03829170523357024]}, {\"line\": {\"color\": \"rgba(44, 130, 201, 1)\", \"width\": 3}, \"marker\": {\"color\": \"rgba(44, 130, 201, 1)\", \"size\": 5}, \"name\": \"Goblin Cage\", \"type\": \"scatter3d\", \"x\": [0, 0.12882826511982146], \"y\": [0, 0.0193846966312217], \"z\": [0, -0.07018667252090155]}, {\"line\": {\"color\": \"rgba(44, 130, 201, 1)\", \"width\": 3}, \"marker\": {\"color\": \"rgba(44, 130, 201, 1)\", \"size\": 5}, \"name\": \"Fireball\", \"type\": \"scatter3d\", \"x\": [0, 0.006767403169391586], \"y\": [0, 0.24895768128897278], \"z\": [0, 0.17021123794212184]}, {\"line\": {\"color\": \"rgba(44, 130, 201, 1)\", \"width\": 3}, \"marker\": {\"color\": \"rgba(44, 130, 201, 1)\", \"size\": 5}, \"name\": \"Arrows\", \"type\": \"scatter3d\", \"x\": [0, 0.003578745913460392], \"y\": [0, 0.131922154415804], \"z\": [0, 0.08952731848515262]}, {\"line\": {\"color\": \"rgba(44, 130, 201, 1)\", \"width\": 3}, \"marker\": {\"color\": \"rgba(44, 130, 201, 1)\", \"size\": 5}, \"name\": \"Rage\", \"type\": \"scatter3d\", \"x\": [0, -5.358940928437344e-05], \"y\": [0, -0.00025802818108598333], \"z\": [0, 4.843373612060622e-06]}, {\"line\": {\"color\": \"rgba(44, 130, 201, 1)\", \"width\": 3}, \"marker\": {\"color\": \"rgba(44, 130, 201, 1)\", \"size\": 5}, \"name\": \"Rocket\", \"type\": \"scatter3d\", \"x\": [0, 0.014598038038298155], \"y\": [0, 0.5362759964819153], \"z\": [0, 0.3670095633037084]}, {\"line\": {\"color\": \"rgba(44, 130, 201, 1)\", \"width\": 3}, \"marker\": {\"color\": \"rgba(44, 130, 201, 1)\", \"size\": 5}, \"name\": \"Goblin Barrel\", \"type\": \"scatter3d\", \"x\": [0, 0.00160328732777266], \"y\": [0, 0.030901517077534905], \"z\": [0, -0.04904815030123418]}, {\"line\": {\"color\": \"rgba(44, 130, 201, 1)\", \"width\": 3}, \"marker\": {\"color\": \"rgba(44, 130, 201, 1)\", \"size\": 5}, \"name\": \"Freeze\", \"type\": \"scatter3d\", \"x\": [0, 0.0010900407030779843], \"y\": [0, 0.04121411936248483], \"z\": [0, 0.028011687959013234]}, {\"line\": {\"color\": \"rgba(44, 130, 201, 1)\", \"width\": 3}, \"marker\": {\"color\": \"rgba(44, 130, 201, 1)\", \"size\": 5}, \"name\": \"Mirror\", \"type\": \"scatter3d\", \"x\": [0, -2.9463023116730412e-05], \"y\": [0, -0.00013886354349276783], \"z\": [0, -2.963571280950062e-05]}, {\"line\": {\"color\": \"rgba(44, 130, 201, 1)\", \"width\": 3}, \"marker\": {\"color\": \"rgba(44, 130, 201, 1)\", \"size\": 5}, \"name\": \"Lightning\", \"type\": \"scatter3d\", \"x\": [0, 0.010533753806358601], \"y\": [0, 0.30291680649030317], \"z\": [0, 0.3049482286470739]}, {\"line\": {\"color\": \"rgba(44, 130, 201, 1)\", \"width\": 3}, \"marker\": {\"color\": \"rgba(44, 130, 201, 1)\", \"size\": 5}, \"name\": \"Zap\", \"type\": \"scatter3d\", \"x\": [0, 0.0018681187659216941], \"y\": [0, 0.06914854499203128], \"z\": [0, 0.04724968193115747]}, {\"line\": {\"color\": \"rgba(44, 130, 201, 1)\", \"width\": 3}, \"marker\": {\"color\": \"rgba(44, 130, 201, 1)\", \"size\": 5}, \"name\": \"Poison\", \"type\": \"scatter3d\", \"x\": [0, 0.00082831464516851], \"y\": [0, 0.03238894897319383], \"z\": [0, 0.022048749497716017]}, {\"line\": {\"color\": \"rgba(44, 130, 201, 1)\", \"width\": 3}, \"marker\": {\"color\": \"rgba(44, 130, 201, 1)\", \"size\": 5}, \"name\": \"Graveyard\", \"type\": \"scatter3d\", \"x\": [0, 0.006003157470094473], \"y\": [0, 0.017593602498255718], \"z\": [0, -0.030517147671525687]}, {\"line\": {\"color\": \"rgba(44, 130, 201, 1)\", \"width\": 3}, \"marker\": {\"color\": \"rgba(44, 130, 201, 1)\", \"size\": 5}, \"name\": \"The Log\", \"type\": \"scatter3d\", \"x\": [0, 0.0030216459523578075], \"y\": [0, 0.08546005595846431], \"z\": [0, -0.06893012084147995]}, {\"line\": {\"color\": \"rgba(44, 130, 201, 1)\", \"width\": 3}, \"marker\": {\"color\": \"rgba(44, 130, 201, 1)\", \"size\": 5}, \"name\": \"Tornado\", \"type\": \"scatter3d\", \"x\": [0, 0.0014681474498489716], \"y\": [0, 0.05885851225402007], \"z\": [0, 0.051937951841018674]}, {\"line\": {\"color\": \"rgba(44, 130, 201, 1)\", \"width\": 3}, \"marker\": {\"color\": \"rgba(44, 130, 201, 1)\", \"size\": 5}, \"name\": \"Clone\", \"type\": \"scatter3d\", \"x\": [0, 3.876166808902136e-05], \"y\": [0, -0.0002117084269778311], \"z\": [0, 6.440665310145576e-06]}, {\"line\": {\"color\": \"rgba(44, 130, 201, 1)\", \"width\": 3}, \"marker\": {\"color\": \"rgba(44, 130, 201, 1)\", \"size\": 5}, \"name\": \"Earthquake\", \"type\": \"scatter3d\", \"x\": [0, 0.002760009950361979], \"y\": [0, 0.05374952964600418], \"z\": [0, -0.10129588256270067]}, {\"line\": {\"color\": \"rgba(44, 130, 201, 1)\", \"width\": 3}, \"marker\": {\"color\": \"rgba(44, 130, 201, 1)\", \"size\": 5}, \"name\": \"Barbarian Barrel\", \"type\": \"scatter3d\", \"x\": [0, 0.04440783134935959], \"y\": [0, 0.029393894198777037], \"z\": [0, -0.056430949823401334]}, {\"line\": {\"color\": \"rgba(44, 130, 201, 1)\", \"width\": 3}, \"marker\": {\"color\": \"rgba(44, 130, 201, 1)\", \"size\": 5}, \"name\": \"Heal Spirit\", \"type\": \"scatter3d\", \"x\": [0, 0.014342491093616506], \"y\": [0, -0.007920056416710262], \"z\": [0, 0.007820197182977842]}, {\"line\": {\"color\": \"rgba(44, 130, 201, 1)\", \"width\": 3}, \"marker\": {\"color\": \"rgba(44, 130, 201, 1)\", \"size\": 5}, \"name\": \"Giant Snowball\", \"type\": \"scatter3d\", \"x\": [0, 0.0018681187659216941], \"y\": [0, 0.06914854499203128], \"z\": [0, 0.04724968193115747]}, {\"line\": {\"color\": \"rgba(44, 130, 201, 1)\", \"width\": 3}, \"marker\": {\"color\": \"rgba(44, 130, 201, 1)\", \"size\": 5}, \"name\": \"Royal Delivery\", \"type\": \"scatter3d\", \"x\": [0, 0.04961351100722157], \"y\": [0, 0.03780773004350206], \"z\": [0, -0.04175886131313856]}],\n",
       "                        {\"margin\": {\"b\": 0, \"l\": 0, \"r\": 0, \"t\": 0}, \"scene\": {\"xaxis\": {\"title\": {\"text\": \"PC 1\"}}, \"yaxis\": {\"title\": {\"text\": \"PC 2\"}}, \"zaxis\": {\"title\": {\"text\": \"PC 3\"}}}, \"template\": {\"data\": {\"bar\": [{\"error_x\": {\"color\": \"#2a3f5f\"}, \"error_y\": {\"color\": \"#2a3f5f\"}, \"marker\": {\"line\": {\"color\": \"#E5ECF6\", \"width\": 0.5}}, \"type\": \"bar\"}], \"barpolar\": [{\"marker\": {\"line\": {\"color\": \"#E5ECF6\", \"width\": 0.5}}, \"type\": \"barpolar\"}], \"carpet\": [{\"aaxis\": {\"endlinecolor\": \"#2a3f5f\", \"gridcolor\": \"white\", \"linecolor\": \"white\", \"minorgridcolor\": \"white\", \"startlinecolor\": \"#2a3f5f\"}, \"baxis\": {\"endlinecolor\": \"#2a3f5f\", \"gridcolor\": \"white\", \"linecolor\": \"white\", \"minorgridcolor\": \"white\", \"startlinecolor\": \"#2a3f5f\"}, \"type\": \"carpet\"}], \"choropleth\": [{\"colorbar\": {\"outlinewidth\": 0, \"ticks\": \"\"}, \"type\": \"choropleth\"}], \"contour\": [{\"colorbar\": {\"outlinewidth\": 0, \"ticks\": \"\"}, \"colorscale\": [[0.0, \"#0d0887\"], [0.1111111111111111, \"#46039f\"], [0.2222222222222222, \"#7201a8\"], [0.3333333333333333, \"#9c179e\"], [0.4444444444444444, \"#bd3786\"], [0.5555555555555556, \"#d8576b\"], [0.6666666666666666, \"#ed7953\"], [0.7777777777777778, \"#fb9f3a\"], [0.8888888888888888, \"#fdca26\"], [1.0, \"#f0f921\"]], \"type\": \"contour\"}], \"contourcarpet\": [{\"colorbar\": {\"outlinewidth\": 0, \"ticks\": \"\"}, \"type\": \"contourcarpet\"}], \"heatmap\": [{\"colorbar\": {\"outlinewidth\": 0, \"ticks\": \"\"}, \"colorscale\": [[0.0, \"#0d0887\"], [0.1111111111111111, \"#46039f\"], [0.2222222222222222, \"#7201a8\"], [0.3333333333333333, \"#9c179e\"], [0.4444444444444444, \"#bd3786\"], [0.5555555555555556, \"#d8576b\"], [0.6666666666666666, \"#ed7953\"], [0.7777777777777778, \"#fb9f3a\"], [0.8888888888888888, \"#fdca26\"], [1.0, \"#f0f921\"]], \"type\": \"heatmap\"}], \"heatmapgl\": [{\"colorbar\": {\"outlinewidth\": 0, \"ticks\": \"\"}, \"colorscale\": [[0.0, \"#0d0887\"], [0.1111111111111111, \"#46039f\"], [0.2222222222222222, \"#7201a8\"], [0.3333333333333333, \"#9c179e\"], [0.4444444444444444, \"#bd3786\"], [0.5555555555555556, \"#d8576b\"], [0.6666666666666666, \"#ed7953\"], [0.7777777777777778, \"#fb9f3a\"], [0.8888888888888888, \"#fdca26\"], [1.0, \"#f0f921\"]], \"type\": \"heatmapgl\"}], \"histogram\": [{\"marker\": {\"colorbar\": {\"outlinewidth\": 0, \"ticks\": \"\"}}, \"type\": \"histogram\"}], \"histogram2d\": [{\"colorbar\": {\"outlinewidth\": 0, \"ticks\": \"\"}, \"colorscale\": [[0.0, \"#0d0887\"], [0.1111111111111111, \"#46039f\"], [0.2222222222222222, \"#7201a8\"], [0.3333333333333333, \"#9c179e\"], [0.4444444444444444, \"#bd3786\"], [0.5555555555555556, \"#d8576b\"], [0.6666666666666666, \"#ed7953\"], [0.7777777777777778, \"#fb9f3a\"], [0.8888888888888888, \"#fdca26\"], [1.0, \"#f0f921\"]], \"type\": \"histogram2d\"}], \"histogram2dcontour\": [{\"colorbar\": {\"outlinewidth\": 0, \"ticks\": \"\"}, \"colorscale\": [[0.0, \"#0d0887\"], [0.1111111111111111, \"#46039f\"], [0.2222222222222222, \"#7201a8\"], [0.3333333333333333, \"#9c179e\"], [0.4444444444444444, \"#bd3786\"], [0.5555555555555556, \"#d8576b\"], [0.6666666666666666, \"#ed7953\"], [0.7777777777777778, \"#fb9f3a\"], [0.8888888888888888, \"#fdca26\"], [1.0, \"#f0f921\"]], \"type\": \"histogram2dcontour\"}], \"mesh3d\": [{\"colorbar\": {\"outlinewidth\": 0, \"ticks\": \"\"}, \"type\": \"mesh3d\"}], \"parcoords\": [{\"line\": {\"colorbar\": {\"outlinewidth\": 0, \"ticks\": \"\"}}, \"type\": \"parcoords\"}], \"pie\": [{\"automargin\": true, \"type\": \"pie\"}], \"scatter\": [{\"marker\": {\"colorbar\": {\"outlinewidth\": 0, \"ticks\": \"\"}}, \"type\": \"scatter\"}], \"scatter3d\": [{\"line\": {\"colorbar\": {\"outlinewidth\": 0, \"ticks\": \"\"}}, \"marker\": {\"colorbar\": {\"outlinewidth\": 0, \"ticks\": \"\"}}, \"type\": \"scatter3d\"}], \"scattercarpet\": [{\"marker\": {\"colorbar\": {\"outlinewidth\": 0, \"ticks\": \"\"}}, \"type\": \"scattercarpet\"}], \"scattergeo\": [{\"marker\": {\"colorbar\": {\"outlinewidth\": 0, \"ticks\": \"\"}}, \"type\": \"scattergeo\"}], \"scattergl\": [{\"marker\": {\"colorbar\": {\"outlinewidth\": 0, \"ticks\": \"\"}}, \"type\": \"scattergl\"}], \"scattermapbox\": [{\"marker\": {\"colorbar\": {\"outlinewidth\": 0, \"ticks\": \"\"}}, \"type\": \"scattermapbox\"}], \"scatterpolar\": [{\"marker\": {\"colorbar\": {\"outlinewidth\": 0, \"ticks\": \"\"}}, \"type\": \"scatterpolar\"}], \"scatterpolargl\": [{\"marker\": {\"colorbar\": {\"outlinewidth\": 0, \"ticks\": \"\"}}, \"type\": \"scatterpolargl\"}], \"scatterternary\": [{\"marker\": {\"colorbar\": {\"outlinewidth\": 0, \"ticks\": \"\"}}, \"type\": \"scatterternary\"}], \"surface\": [{\"colorbar\": {\"outlinewidth\": 0, \"ticks\": \"\"}, \"colorscale\": [[0.0, \"#0d0887\"], [0.1111111111111111, \"#46039f\"], [0.2222222222222222, \"#7201a8\"], [0.3333333333333333, \"#9c179e\"], [0.4444444444444444, \"#bd3786\"], [0.5555555555555556, \"#d8576b\"], [0.6666666666666666, \"#ed7953\"], [0.7777777777777778, \"#fb9f3a\"], [0.8888888888888888, \"#fdca26\"], [1.0, \"#f0f921\"]], \"type\": \"surface\"}], \"table\": [{\"cells\": {\"fill\": {\"color\": \"#EBF0F8\"}, \"line\": {\"color\": \"white\"}}, \"header\": {\"fill\": {\"color\": \"#C8D4E3\"}, \"line\": {\"color\": \"white\"}}, \"type\": \"table\"}]}, \"layout\": {\"annotationdefaults\": {\"arrowcolor\": \"#2a3f5f\", \"arrowhead\": 0, \"arrowwidth\": 1}, \"coloraxis\": {\"colorbar\": {\"outlinewidth\": 0, \"ticks\": \"\"}}, \"colorscale\": {\"diverging\": [[0, \"#8e0152\"], [0.1, \"#c51b7d\"], [0.2, \"#de77ae\"], [0.3, \"#f1b6da\"], [0.4, \"#fde0ef\"], [0.5, \"#f7f7f7\"], [0.6, \"#e6f5d0\"], [0.7, \"#b8e186\"], [0.8, \"#7fbc41\"], [0.9, \"#4d9221\"], [1, \"#276419\"]], \"sequential\": [[0.0, \"#0d0887\"], [0.1111111111111111, \"#46039f\"], [0.2222222222222222, \"#7201a8\"], [0.3333333333333333, \"#9c179e\"], [0.4444444444444444, \"#bd3786\"], [0.5555555555555556, \"#d8576b\"], [0.6666666666666666, \"#ed7953\"], [0.7777777777777778, \"#fb9f3a\"], [0.8888888888888888, \"#fdca26\"], [1.0, \"#f0f921\"]], \"sequentialminus\": [[0.0, \"#0d0887\"], [0.1111111111111111, \"#46039f\"], [0.2222222222222222, \"#7201a8\"], [0.3333333333333333, \"#9c179e\"], [0.4444444444444444, \"#bd3786\"], [0.5555555555555556, \"#d8576b\"], [0.6666666666666666, \"#ed7953\"], [0.7777777777777778, \"#fb9f3a\"], [0.8888888888888888, \"#fdca26\"], [1.0, \"#f0f921\"]]}, \"colorway\": [\"#636efa\", \"#EF553B\", \"#00cc96\", \"#ab63fa\", \"#FFA15A\", \"#19d3f3\", \"#FF6692\", \"#B6E880\", \"#FF97FF\", \"#FECB52\"], \"font\": {\"color\": \"#2a3f5f\"}, \"geo\": {\"bgcolor\": \"white\", \"lakecolor\": \"white\", \"landcolor\": \"#E5ECF6\", \"showlakes\": true, \"showland\": true, \"subunitcolor\": \"white\"}, \"hoverlabel\": {\"align\": \"left\"}, \"hovermode\": \"closest\", \"mapbox\": {\"style\": \"light\"}, \"paper_bgcolor\": \"white\", \"plot_bgcolor\": \"#E5ECF6\", \"polar\": {\"angularaxis\": {\"gridcolor\": \"white\", \"linecolor\": \"white\", \"ticks\": \"\"}, \"bgcolor\": \"#E5ECF6\", \"radialaxis\": {\"gridcolor\": \"white\", \"linecolor\": \"white\", \"ticks\": \"\"}}, \"scene\": {\"xaxis\": {\"backgroundcolor\": \"#E5ECF6\", \"gridcolor\": \"white\", \"gridwidth\": 2, \"linecolor\": \"white\", \"showbackground\": true, \"ticks\": \"\", \"zerolinecolor\": \"white\"}, \"yaxis\": {\"backgroundcolor\": \"#E5ECF6\", \"gridcolor\": \"white\", \"gridwidth\": 2, \"linecolor\": \"white\", \"showbackground\": true, \"ticks\": \"\", \"zerolinecolor\": \"white\"}, \"zaxis\": {\"backgroundcolor\": \"#E5ECF6\", \"gridcolor\": \"white\", \"gridwidth\": 2, \"linecolor\": \"white\", \"showbackground\": true, \"ticks\": \"\", \"zerolinecolor\": \"white\"}}, \"shapedefaults\": {\"line\": {\"color\": \"#2a3f5f\"}}, \"ternary\": {\"aaxis\": {\"gridcolor\": \"white\", \"linecolor\": \"white\", \"ticks\": \"\"}, \"baxis\": {\"gridcolor\": \"white\", \"linecolor\": \"white\", \"ticks\": \"\"}, \"bgcolor\": \"#E5ECF6\", \"caxis\": {\"gridcolor\": \"white\", \"linecolor\": \"white\", \"ticks\": \"\"}}, \"title\": {\"x\": 0.05}, \"xaxis\": {\"automargin\": true, \"gridcolor\": \"white\", \"linecolor\": \"white\", \"ticks\": \"\", \"title\": {\"standoff\": 15}, \"zerolinecolor\": \"white\", \"zerolinewidth\": 2}, \"yaxis\": {\"automargin\": true, \"gridcolor\": \"white\", \"linecolor\": \"white\", \"ticks\": \"\", \"title\": {\"standoff\": 15}, \"zerolinecolor\": \"white\", \"zerolinewidth\": 2}}}},\n",
       "                        {\"responsive\": true}\n",
       "                    ).then(function(){\n",
       "                            \n",
       "var gd = document.getElementById('85b18634-d770-4e1e-be2d-ed523a0a20b7');\n",
       "var x = new MutationObserver(function (mutations, observer) {{\n",
       "        var display = window.getComputedStyle(gd).display;\n",
       "        if (!display || display === 'none') {{\n",
       "            console.log([gd, 'removed!']);\n",
       "            Plotly.purge(gd);\n",
       "            observer.disconnect();\n",
       "        }}\n",
       "}});\n",
       "\n",
       "// Listen for the removal of the full notebook cells\n",
       "var notebookContainer = gd.closest('#notebook-container');\n",
       "if (notebookContainer) {{\n",
       "    x.observe(notebookContainer, {childList: true});\n",
       "}}\n",
       "\n",
       "// Listen for the clearing of the current output cell\n",
       "var outputEl = gd.closest('.output');\n",
       "if (outputEl) {{\n",
       "    x.observe(outputEl, {childList: true});\n",
       "}}\n",
       "\n",
       "                        })\n",
       "                };\n",
       "                });\n",
       "            </script>\n",
       "        </div>"
      ]
     },
     "metadata": {},
     "output_type": "display_data"
    }
   ],
   "source": [
    "# Perform PCA with 3 components\n",
    "n_components = 3\n",
    "pca = PCA(random_state=42).fit(vals.T)\n",
    "X_transformed = pca.transform(vals.T)\n",
    "eigenvectors = pca.components_.T\n",
    "loadings = eigenvectors * np.sqrt(pca.explained_variance_)\n",
    "\n",
    "# Plot the first three principal components\n",
    "plot_3d(X_transformed, names, eigenvectors, loadings)"
   ]
  },
  {
   "cell_type": "code",
   "execution_count": 8,
   "metadata": {},
   "outputs": [
    {
     "data": {
      "application/vnd.plotly.v1+json": {
       "config": {
        "plotlyServerURL": "https://plot.ly"
       },
       "data": [
        {
         "hovertemplate": "color=Knight<br>0=%{x}<br>1=%{y}<extra></extra>",
         "legendgroup": "Knight",
         "marker": {
          "color": "#636efa",
          "symbol": "circle"
         },
         "mode": "markers",
         "name": "Knight",
         "orientation": "v",
         "showlegend": true,
         "type": "scatter",
         "x": [
          571.2348178741614
         ],
         "xaxis": "x",
         "y": [
          -107.78884379980921
         ],
         "yaxis": "y"
        },
        {
         "hovertemplate": "color=Archers<br>0=%{x}<br>1=%{y}<extra></extra>",
         "legendgroup": "Archers",
         "marker": {
          "color": "#EF553B",
          "symbol": "circle"
         },
         "mode": "markers",
         "name": "Archers",
         "orientation": "v",
         "showlegend": true,
         "type": "scatter",
         "x": [
          -633.6361292442901
         ],
         "xaxis": "x",
         "y": [
          -186.91070192108887
         ],
         "yaxis": "y"
        },
        {
         "hovertemplate": "color=Goblins<br>0=%{x}<br>1=%{y}<extra></extra>",
         "legendgroup": "Goblins",
         "marker": {
          "color": "#00cc96",
          "symbol": "circle"
         },
         "mode": "markers",
         "name": "Goblins",
         "orientation": "v",
         "showlegend": true,
         "type": "scatter",
         "x": [
          -713.8035383912546
         ],
         "xaxis": "x",
         "y": [
          -204.56405715224344
         ],
         "yaxis": "y"
        },
        {
         "hovertemplate": "color=Giant<br>0=%{x}<br>1=%{y}<extra></extra>",
         "legendgroup": "Giant",
         "marker": {
          "color": "#ab63fa",
          "symbol": "circle"
         },
         "mode": "markers",
         "name": "Giant",
         "orientation": "v",
         "showlegend": true,
         "type": "scatter",
         "x": [
          2392.2883485716047
         ],
         "xaxis": "x",
         "y": [
          -153.97337314256146
         ],
         "yaxis": "y"
        },
        {
         "hovertemplate": "color=P.E.K.K.A<br>0=%{x}<br>1=%{y}<extra></extra>",
         "legendgroup": "P.E.K.K.A",
         "marker": {
          "color": "#FFA15A",
          "symbol": "circle"
         },
         "mode": "markers",
         "name": "P.E.K.K.A",
         "orientation": "v",
         "showlegend": true,
         "type": "scatter",
         "x": [
          2271.428748505758
         ],
         "xaxis": "x",
         "y": [
          611.9644331672505
         ],
         "yaxis": "y"
        },
        {
         "hovertemplate": "color=Minions<br>0=%{x}<br>1=%{y}<extra></extra>",
         "legendgroup": "Minions",
         "marker": {
          "color": "#19d3f3",
          "symbol": "circle"
         },
         "mode": "markers",
         "name": "Minions",
         "orientation": "v",
         "showlegend": true,
         "type": "scatter",
         "x": [
          -695.5296140666276
         ],
         "xaxis": "x",
         "y": [
          -195.77475958707896
         ],
         "yaxis": "y"
        },
        {
         "hovertemplate": "color=Balloon<br>0=%{x}<br>1=%{y}<extra></extra>",
         "legendgroup": "Balloon",
         "marker": {
          "color": "#FF6692",
          "symbol": "circle"
         },
         "mode": "markers",
         "name": "Balloon",
         "orientation": "v",
         "showlegend": true,
         "type": "scatter",
         "x": [
          550.3575810452271
         ],
         "xaxis": "x",
         "y": [
          723.5260160428851
         ],
         "yaxis": "y"
        },
        {
         "hovertemplate": "color=Witch<br>0=%{x}<br>1=%{y}<extra></extra>",
         "legendgroup": "Witch",
         "marker": {
          "color": "#B6E880",
          "symbol": "circle"
         },
         "mode": "markers",
         "name": "Witch",
         "orientation": "v",
         "showlegend": true,
         "type": "scatter",
         "x": [
          -194.75152283481017
         ],
         "xaxis": "x",
         "y": [
          -124.72785206021416
         ],
         "yaxis": "y"
        },
        {
         "hovertemplate": "color=Barbarians<br>0=%{x}<br>1=%{y}<extra></extra>",
         "legendgroup": "Barbarians",
         "marker": {
          "color": "#FF97FF",
          "symbol": "circle"
         },
         "mode": "markers",
         "name": "Barbarians",
         "orientation": "v",
         "showlegend": true,
         "type": "scatter",
         "x": [
          -323.2547491956851
         ],
         "xaxis": "x",
         "y": [
          -119.8746637045659
         ],
         "yaxis": "y"
        },
        {
         "hovertemplate": "color=Golem<br>0=%{x}<br>1=%{y}<extra></extra>",
         "legendgroup": "Golem",
         "marker": {
          "color": "#FECB52",
          "symbol": "circle"
         },
         "mode": "markers",
         "name": "Golem",
         "orientation": "v",
         "showlegend": true,
         "type": "scatter",
         "x": [
          5274.4702270803955
         ],
         "xaxis": "x",
         "y": [
          -107.57383193604032
         ],
         "yaxis": "y"
        },
        {
         "hovertemplate": "color=Skeletons<br>0=%{x}<br>1=%{y}<extra></extra>",
         "legendgroup": "Skeletons",
         "marker": {
          "color": "#636efa",
          "symbol": "circle"
         },
         "mode": "markers",
         "name": "Skeletons",
         "orientation": "v",
         "showlegend": true,
         "type": "scatter",
         "x": [
          -815.5232561348574
         ],
         "xaxis": "x",
         "y": [
          -249.63295687345493
         ],
         "yaxis": "y"
        },
        {
         "hovertemplate": "color=Valkyrie<br>0=%{x}<br>1=%{y}<extra></extra>",
         "legendgroup": "Valkyrie",
         "marker": {
          "color": "#EF553B",
          "symbol": "circle"
         },
         "mode": "markers",
         "name": "Valkyrie",
         "orientation": "v",
         "showlegend": true,
         "type": "scatter",
         "x": [
          770.2891920445113
         ],
         "xaxis": "x",
         "y": [
          65.91036834654214
         ],
         "yaxis": "y"
        },
        {
         "hovertemplate": "color=Skeleton Army<br>0=%{x}<br>1=%{y}<extra></extra>",
         "legendgroup": "Skeleton Army",
         "marker": {
          "color": "#00cc96",
          "symbol": "circle"
         },
         "mode": "markers",
         "name": "Skeleton Army",
         "orientation": "v",
         "showlegend": true,
         "type": "scatter",
         "x": [
          -815.5270303312547
         ],
         "xaxis": "x",
         "y": [
          -249.65120060722072
         ],
         "yaxis": "y"
        },
        {
         "hovertemplate": "color=Bomber<br>0=%{x}<br>1=%{y}<extra></extra>",
         "legendgroup": "Bomber",
         "marker": {
          "color": "#ab63fa",
          "symbol": "circle"
         },
         "mode": "markers",
         "name": "Bomber",
         "orientation": "v",
         "showlegend": true,
         "type": "scatter",
         "x": [
          -479.5622830610958
         ],
         "xaxis": "x",
         "y": [
          157.09467321901457
         ],
         "yaxis": "y"
        },
        {
         "hovertemplate": "color=Musketeer<br>0=%{x}<br>1=%{y}<extra></extra>",
         "legendgroup": "Musketeer",
         "marker": {
          "color": "#FFA15A",
          "symbol": "circle"
         },
         "mode": "markers",
         "name": "Musketeer",
         "orientation": "v",
         "showlegend": true,
         "type": "scatter",
         "x": [
          -286.926897794986
         ],
         "xaxis": "x",
         "y": [
          -24.591862946676116
         ],
         "yaxis": "y"
        },
        {
         "hovertemplate": "color=Baby Dragon<br>0=%{x}<br>1=%{y}<extra></extra>",
         "legendgroup": "Baby Dragon",
         "marker": {
          "color": "#19d3f3",
          "symbol": "circle"
         },
         "mode": "markers",
         "name": "Baby Dragon",
         "orientation": "v",
         "showlegend": true,
         "type": "scatter",
         "x": [
          66.43324115513701
         ],
         "xaxis": "x",
         "y": [
          -50.02909345351522
         ],
         "yaxis": "y"
        },
        {
         "hovertemplate": "color=Prince<br>0=%{x}<br>1=%{y}<extra></extra>",
         "legendgroup": "Prince",
         "marker": {
          "color": "#FF6692",
          "symbol": "circle"
         },
         "mode": "markers",
         "name": "Prince",
         "orientation": "v",
         "showlegend": true,
         "type": "scatter",
         "x": [
          797.6563153914751
         ],
         "xaxis": "x",
         "y": [
          114.47769499131272
         ],
         "yaxis": "y"
        },
        {
         "hovertemplate": "color=Wizard<br>0=%{x}<br>1=%{y}<extra></extra>",
         "legendgroup": "Wizard",
         "marker": {
          "color": "#B6E880",
          "symbol": "circle"
         },
         "mode": "markers",
         "name": "Wizard",
         "orientation": "v",
         "showlegend": true,
         "type": "scatter",
         "x": [
          -291.91850213096683
         ],
         "xaxis": "x",
         "y": [
          172.08814580547582
         ],
         "yaxis": "y"
        },
        {
         "hovertemplate": "color=Mini P.E.K.K.A<br>0=%{x}<br>1=%{y}<extra></extra>",
         "legendgroup": "Mini P.E.K.K.A",
         "marker": {
          "color": "#FF97FF",
          "symbol": "circle"
         },
         "mode": "markers",
         "name": "Mini P.E.K.K.A",
         "orientation": "v",
         "showlegend": true,
         "type": "scatter",
         "x": [
          277.01573187005215
         ],
         "xaxis": "x",
         "y": [
          497.6614571633485
         ],
         "yaxis": "y"
        },
        {
         "hovertemplate": "color=Spear Goblins<br>0=%{x}<br>1=%{y}<extra></extra>",
         "legendgroup": "Spear Goblins",
         "marker": {
          "color": "#FECB52",
          "symbol": "circle"
         },
         "mode": "markers",
         "name": "Spear Goblins",
         "orientation": "v",
         "showlegend": true,
         "type": "scatter",
         "x": [
          -775.6070042879318
         ],
         "xaxis": "x",
         "y": [
          -225.78318949568614
         ],
         "yaxis": "y"
        },
        {
         "hovertemplate": "color=Giant Skeleton<br>0=%{x}<br>1=%{y}<extra></extra>",
         "legendgroup": "Giant Skeleton",
         "marker": {
          "color": "#636efa",
          "symbol": "circle"
         },
         "mode": "markers",
         "name": "Giant Skeleton",
         "orientation": "v",
         "showlegend": true,
         "type": "scatter",
         "x": [
          1943.1002277464665
         ],
         "xaxis": "x",
         "y": [
          -95.03644030589288
         ],
         "yaxis": "y"
        },
        {
         "hovertemplate": "color=Hog Rider<br>0=%{x}<br>1=%{y}<extra></extra>",
         "legendgroup": "Hog Rider",
         "marker": {
          "color": "#EF553B",
          "symbol": "circle"
         },
         "mode": "markers",
         "name": "Hog Rider",
         "orientation": "v",
         "showlegend": true,
         "type": "scatter",
         "x": [
          535.331659329369
         ],
         "xaxis": "x",
         "y": [
          -108.79063116575283
         ],
         "yaxis": "y"
        },
        {
         "hovertemplate": "color=Minion Horde<br>0=%{x}<br>1=%{y}<extra></extra>",
         "legendgroup": "Minion Horde",
         "marker": {
          "color": "#00cc96",
          "symbol": "circle"
         },
         "mode": "markers",
         "name": "Minion Horde",
         "orientation": "v",
         "showlegend": true,
         "type": "scatter",
         "x": [
          -695.5282467044964
         ],
         "xaxis": "x",
         "y": [
          -195.77688006978994
         ],
         "yaxis": "y"
        },
        {
         "hovertemplate": "color=Ice Wizard<br>0=%{x}<br>1=%{y}<extra></extra>",
         "legendgroup": "Ice Wizard",
         "marker": {
          "color": "#ab63fa",
          "symbol": "circle"
         },
         "mode": "markers",
         "name": "Ice Wizard",
         "orientation": "v",
         "showlegend": true,
         "type": "scatter",
         "x": [
          -299.0065411641413
         ],
         "xaxis": "x",
         "y": [
          -178.11680393121458
         ],
         "yaxis": "y"
        },
        {
         "hovertemplate": "color=Royal Giant<br>0=%{x}<br>1=%{y}<extra></extra>",
         "legendgroup": "Royal Giant",
         "marker": {
          "color": "#FFA15A",
          "symbol": "circle"
         },
         "mode": "markers",
         "name": "Royal Giant",
         "orientation": "v",
         "showlegend": true,
         "type": "scatter",
         "x": [
          1666.7957436402096
         ],
         "xaxis": "x",
         "y": [
          -116.58183382036638
         ],
         "yaxis": "y"
        },
        {
         "hovertemplate": "color=Guards<br>0=%{x}<br>1=%{y}<extra></extra>",
         "legendgroup": "Guards",
         "marker": {
          "color": "#19d3f3",
          "symbol": "circle"
         },
         "mode": "markers",
         "name": "Guards",
         "orientation": "v",
         "showlegend": true,
         "type": "scatter",
         "x": [
          -791.121098234246
         ],
         "xaxis": "x",
         "y": [
          -217.28365092896934
         ],
         "yaxis": "y"
        },
        {
         "hovertemplate": "color=Princess<br>0=%{x}<br>1=%{y}<extra></extra>",
         "legendgroup": "Princess",
         "marker": {
          "color": "#FF6692",
          "symbol": "circle"
         },
         "mode": "markers",
         "name": "Princess",
         "orientation": "v",
         "showlegend": true,
         "type": "scatter",
         "x": [
          -672.1077559228867
         ],
         "xaxis": "x",
         "y": [
          -35.30300514113995
         ],
         "yaxis": "y"
        },
        {
         "hovertemplate": "color=Dark Prince<br>0=%{x}<br>1=%{y}<extra></extra>",
         "legendgroup": "Dark Prince",
         "marker": {
          "color": "#B6E880",
          "symbol": "circle"
         },
         "mode": "markers",
         "name": "Dark Prince",
         "orientation": "v",
         "showlegend": true,
         "type": "scatter",
         "x": [
          346.1476594826432
         ],
         "xaxis": "x",
         "y": [
          37.80627814083057
         ],
         "yaxis": "y"
        },
        {
         "hovertemplate": "color=Three Musketeers<br>0=%{x}<br>1=%{y}<extra></extra>",
         "legendgroup": "Three Musketeers",
         "marker": {
          "color": "#FF97FF",
          "symbol": "circle"
         },
         "mode": "markers",
         "name": "Three Musketeers",
         "orientation": "v",
         "showlegend": true,
         "type": "scatter",
         "x": [
          -286.9231674062084
         ],
         "xaxis": "x",
         "y": [
          -24.59027461507202
         ],
         "yaxis": "y"
        },
        {
         "hovertemplate": "color=Lava Hound<br>0=%{x}<br>1=%{y}<extra></extra>",
         "legendgroup": "Lava Hound",
         "marker": {
          "color": "#FECB52",
          "symbol": "circle"
         },
         "mode": "markers",
         "name": "Lava Hound",
         "orientation": "v",
         "showlegend": true,
         "type": "scatter",
         "x": [
          2253.2535723639
         ],
         "xaxis": "x",
         "y": [
          -222.13487996096276
         ],
         "yaxis": "y"
        },
        {
         "hovertemplate": "color=Ice Spirit<br>0=%{x}<br>1=%{y}<extra></extra>",
         "legendgroup": "Ice Spirit",
         "marker": {
          "color": "#636efa",
          "symbol": "circle"
         },
         "mode": "markers",
         "name": "Ice Spirit",
         "orientation": "v",
         "showlegend": true,
         "type": "scatter",
         "x": [
          -694.4156518829379
         ],
         "xaxis": "x",
         "y": [
          -142.82914832497332
         ],
         "yaxis": "y"
        },
        {
         "hovertemplate": "color=Fire Spirits<br>0=%{x}<br>1=%{y}<extra></extra>",
         "legendgroup": "Fire Spirits",
         "marker": {
          "color": "#EF553B",
          "symbol": "circle"
         },
         "mode": "markers",
         "name": "Fire Spirits",
         "orientation": "v",
         "showlegend": true,
         "type": "scatter",
         "x": [
          -796.9009631405004
         ],
         "xaxis": "x",
         "y": [
          48.26738064997494
         ],
         "yaxis": "y"
        },
        {
         "hovertemplate": "color=Miner<br>0=%{x}<br>1=%{y}<extra></extra>",
         "legendgroup": "Miner",
         "marker": {
          "color": "#00cc96",
          "symbol": "circle"
         },
         "mode": "markers",
         "name": "Miner",
         "orientation": "v",
         "showlegend": true,
         "type": "scatter",
         "x": [
          115.48006936457459
         ],
         "xaxis": "x",
         "y": [
          -154.74076218162347
         ],
         "yaxis": "y"
        },
        {
         "hovertemplate": "color=Sparky<br>0=%{x}<br>1=%{y}<extra></extra>",
         "legendgroup": "Sparky",
         "marker": {
          "color": "#ab63fa",
          "symbol": "circle"
         },
         "mode": "markers",
         "name": "Sparky",
         "orientation": "v",
         "showlegend": true,
         "type": "scatter",
         "x": [
          351.4856897122691
         ],
         "xaxis": "x",
         "y": [
          1689.134814177508
         ],
         "yaxis": "y"
        },
        {
         "hovertemplate": "color=Bowler<br>0=%{x}<br>1=%{y}<extra></extra>",
         "legendgroup": "Bowler",
         "marker": {
          "color": "#FFA15A",
          "symbol": "circle"
         },
         "mode": "markers",
         "name": "Bowler",
         "orientation": "v",
         "showlegend": true,
         "type": "scatter",
         "x": [
          713.1752785492703
         ],
         "xaxis": "x",
         "y": [
          99.10706043382798
         ],
         "yaxis": "y"
        },
        {
         "hovertemplate": "color=Lumberjack<br>0=%{x}<br>1=%{y}<extra></extra>",
         "legendgroup": "Lumberjack",
         "marker": {
          "color": "#19d3f3",
          "symbol": "circle"
         },
         "mode": "markers",
         "name": "Lumberjack",
         "orientation": "v",
         "showlegend": true,
         "type": "scatter",
         "x": [
          182.6773979008725
         ],
         "xaxis": "x",
         "y": [
          -61.7742664895644
         ],
         "yaxis": "y"
        },
        {
         "hovertemplate": "color=Battle Ram<br>0=%{x}<br>1=%{y}<extra></extra>",
         "legendgroup": "Battle Ram",
         "marker": {
          "color": "#FF6692",
          "symbol": "circle"
         },
         "mode": "markers",
         "name": "Battle Ram",
         "orientation": "v",
         "showlegend": true,
         "type": "scatter",
         "x": [
          445.646771657782
         ],
         "xaxis": "x",
         "y": [
          -125.52015309173905
         ],
         "yaxis": "y"
        },
        {
         "hovertemplate": "color=Inferno Dragon<br>0=%{x}<br>1=%{y}<extra></extra>",
         "legendgroup": "Inferno Dragon",
         "marker": {
          "color": "#B6E880",
          "symbol": "circle"
         },
         "mode": "markers",
         "name": "Inferno Dragon",
         "orientation": "v",
         "showlegend": true,
         "type": "scatter",
         "x": [
          183.66483949488693
         ],
         "xaxis": "x",
         "y": [
          -8.304694728797228
         ],
         "yaxis": "y"
        },
        {
         "hovertemplate": "color=Ice Golem<br>0=%{x}<br>1=%{y}<extra></extra>",
         "legendgroup": "Ice Golem",
         "marker": {
          "color": "#FF97FF",
          "symbol": "circle"
         },
         "mode": "markers",
         "name": "Ice Golem",
         "orientation": "v",
         "showlegend": true,
         "type": "scatter",
         "x": [
          111.56615476190154
         ],
         "xaxis": "x",
         "y": [
          -280.621986079592
         ],
         "yaxis": "y"
        },
        {
         "hovertemplate": "color=Mega Minion<br>0=%{x}<br>1=%{y}<extra></extra>",
         "legendgroup": "Mega Minion",
         "marker": {
          "color": "#FECB52",
          "symbol": "circle"
         },
         "mode": "markers",
         "name": "Mega Minion",
         "orientation": "v",
         "showlegend": true,
         "type": "scatter",
         "x": [
          -188.6858894274562
         ],
         "xaxis": "x",
         "y": [
          111.0788644064043
         ],
         "yaxis": "y"
        },
        {
         "hovertemplate": "color=Dart Goblin<br>0=%{x}<br>1=%{y}<extra></extra>",
         "legendgroup": "Dart Goblin",
         "marker": {
          "color": "#636efa",
          "symbol": "circle"
         },
         "mode": "markers",
         "name": "Dart Goblin",
         "orientation": "v",
         "showlegend": true,
         "type": "scatter",
         "x": [
          -669.290427491969
         ],
         "xaxis": "x",
         "y": [
          -167.57415499461223
         ],
         "yaxis": "y"
        },
        {
         "hovertemplate": "color=Goblin Gang<br>0=%{x}<br>1=%{y}<extra></extra>",
         "legendgroup": "Goblin Gang",
         "marker": {
          "color": "#EF553B",
          "symbol": "circle"
         },
         "mode": "markers",
         "name": "Goblin Gang",
         "orientation": "v",
         "showlegend": true,
         "type": "scatter",
         "x": [
          -746.1752187862609
         ],
         "xaxis": "x",
         "y": [
          -203.27214159775073
         ],
         "yaxis": "y"
        },
        {
         "hovertemplate": "color=Electro Wizard<br>0=%{x}<br>1=%{y}<extra></extra>",
         "legendgroup": "Electro Wizard",
         "marker": {
          "color": "#00cc96",
          "symbol": "circle"
         },
         "mode": "markers",
         "name": "Electro Wizard",
         "orientation": "v",
         "showlegend": true,
         "type": "scatter",
         "x": [
          -294.67570390894076
         ],
         "xaxis": "x",
         "y": [
          -5.230235094177683
         ],
         "yaxis": "y"
        },
        {
         "hovertemplate": "color=Elite Barbarians<br>0=%{x}<br>1=%{y}<extra></extra>",
         "legendgroup": "Elite Barbarians",
         "marker": {
          "color": "#ab63fa",
          "symbol": "circle"
         },
         "mode": "markers",
         "name": "Elite Barbarians",
         "orientation": "v",
         "showlegend": true,
         "type": "scatter",
         "x": [
          99.47152430369674
         ],
         "xaxis": "x",
         "y": [
          80.09349691600822
         ],
         "yaxis": "y"
        },
        {
         "hovertemplate": "color=Hunter<br>0=%{x}<br>1=%{y}<extra></extra>",
         "legendgroup": "Hunter",
         "marker": {
          "color": "#FFA15A",
          "symbol": "circle"
         },
         "mode": "markers",
         "name": "Hunter",
         "orientation": "v",
         "showlegend": true,
         "type": "scatter",
         "x": [
          -196.8485122773968
         ],
         "xaxis": "x",
         "y": [
          1198.5390227309988
         ],
         "yaxis": "y"
        },
        {
         "hovertemplate": "color=Executioner<br>0=%{x}<br>1=%{y}<extra></extra>",
         "legendgroup": "Executioner",
         "marker": {
          "color": "#19d3f3",
          "symbol": "circle"
         },
         "mode": "markers",
         "name": "Executioner",
         "orientation": "v",
         "showlegend": true,
         "type": "scatter",
         "x": [
          118.4361644215312
         ],
         "xaxis": "x",
         "y": [
          273.78805539826453
         ],
         "yaxis": "y"
        },
        {
         "hovertemplate": "color=Bandit<br>0=%{x}<br>1=%{y}<extra></extra>",
         "legendgroup": "Bandit",
         "marker": {
          "color": "#FF6692",
          "symbol": "circle"
         },
         "mode": "markers",
         "name": "Bandit",
         "orientation": "v",
         "showlegend": true,
         "type": "scatter",
         "x": [
          -128.84830025347262
         ],
         "xaxis": "x",
         "y": [
          -118.28237345860155
         ],
         "yaxis": "y"
        },
        {
         "hovertemplate": "color=Royal Recruits<br>0=%{x}<br>1=%{y}<extra></extra>",
         "legendgroup": "Royal Recruits",
         "marker": {
          "color": "#B6E880",
          "symbol": "circle"
         },
         "mode": "markers",
         "name": "Royal Recruits",
         "orientation": "v",
         "showlegend": true,
         "type": "scatter",
         "x": [
          -243.26304167439096
         ],
         "xaxis": "x",
         "y": [
          -201.31225285766317
         ],
         "yaxis": "y"
        },
        {
         "hovertemplate": "color=Night Witch<br>0=%{x}<br>1=%{y}<extra></extra>",
         "legendgroup": "Night Witch",
         "marker": {
          "color": "#FF97FF",
          "symbol": "circle"
         },
         "mode": "markers",
         "name": "Night Witch",
         "orientation": "v",
         "showlegend": true,
         "type": "scatter",
         "x": [
          -131.56020699147678
         ],
         "xaxis": "x",
         "y": [
          -89.55658587542646
         ],
         "yaxis": "y"
        },
        {
         "hovertemplate": "color=Bats<br>0=%{x}<br>1=%{y}<extra></extra>",
         "legendgroup": "Bats",
         "marker": {
          "color": "#FECB52",
          "symbol": "circle"
         },
         "mode": "markers",
         "name": "Bats",
         "orientation": "v",
         "showlegend": true,
         "type": "scatter",
         "x": [
          -818.4630537115489
         ],
         "xaxis": "x",
         "y": [
          -225.82736433179613
         ],
         "yaxis": "y"
        },
        {
         "hovertemplate": "color=Royal Ghost<br>0=%{x}<br>1=%{y}<extra></extra>",
         "legendgroup": "Royal Ghost",
         "marker": {
          "color": "#636efa",
          "symbol": "circle"
         },
         "mode": "markers",
         "name": "Royal Ghost",
         "orientation": "v",
         "showlegend": true,
         "type": "scatter",
         "x": [
          118.3018297378462
         ],
         "xaxis": "x",
         "y": [
          56.063219789545414
         ],
         "yaxis": "y"
        },
        {
         "hovertemplate": "color=Ram Rider<br>0=%{x}<br>1=%{y}<extra></extra>",
         "legendgroup": "Ram Rider",
         "marker": {
          "color": "#EF553B",
          "symbol": "circle"
         },
         "mode": "markers",
         "name": "Ram Rider",
         "orientation": "v",
         "showlegend": true,
         "type": "scatter",
         "x": [
          580.7090712074731
         ],
         "xaxis": "x",
         "y": [
          -72.41494387759683
         ],
         "yaxis": "y"
        },
        {
         "hovertemplate": "color=Zappies<br>0=%{x}<br>1=%{y}<extra></extra>",
         "legendgroup": "Zappies",
         "marker": {
          "color": "#00cc96",
          "symbol": "circle"
         },
         "mode": "markers",
         "name": "Zappies",
         "orientation": "v",
         "showlegend": true,
         "type": "scatter",
         "x": [
          -446.3710260126493
         ],
         "xaxis": "x",
         "y": [
          -195.53908080213395
         ],
         "yaxis": "y"
        },
        {
         "hovertemplate": "color=Rascals<br>0=%{x}<br>1=%{y}<extra></extra>",
         "legendgroup": "Rascals",
         "marker": {
          "color": "#ab63fa",
          "symbol": "circle"
         },
         "mode": "markers",
         "name": "Rascals",
         "orientation": "v",
         "showlegend": true,
         "type": "scatter",
         "x": [
          1056.0782036006722
         ],
         "xaxis": "x",
         "y": [
          -148.351522317106
         ],
         "yaxis": "y"
        },
        {
         "hovertemplate": "color=Cannon Cart<br>0=%{x}<br>1=%{y}<extra></extra>",
         "legendgroup": "Cannon Cart",
         "marker": {
          "color": "#FFA15A",
          "symbol": "circle"
         },
         "mode": "markers",
         "name": "Cannon Cart",
         "orientation": "v",
         "showlegend": true,
         "type": "scatter",
         "x": [
          603.7066786909439
         ],
         "xaxis": "x",
         "y": [
          -95.10777044506686
         ],
         "yaxis": "y"
        },
        {
         "hovertemplate": "color=Mega Knight<br>0=%{x}<br>1=%{y}<extra></extra>",
         "legendgroup": "Mega Knight",
         "marker": {
          "color": "#19d3f3",
          "symbol": "circle"
         },
         "mode": "markers",
         "name": "Mega Knight",
         "orientation": "v",
         "showlegend": true,
         "type": "scatter",
         "x": [
          2410.780585018991
         ],
         "xaxis": "x",
         "y": [
          69.29723508570319
         ],
         "yaxis": "y"
        },
        {
         "hovertemplate": "color=Skeleton Barrel<br>0=%{x}<br>1=%{y}<extra></extra>",
         "legendgroup": "Skeleton Barrel",
         "marker": {
          "color": "#FF6692",
          "symbol": "circle"
         },
         "mode": "markers",
         "name": "Skeleton Barrel",
         "orientation": "v",
         "showlegend": true,
         "type": "scatter",
         "x": [
          -342.48716464881363
         ],
         "xaxis": "x",
         "y": [
          -190.251000893495
         ],
         "yaxis": "y"
        },
        {
         "hovertemplate": "color=Flying Machine<br>0=%{x}<br>1=%{y}<extra></extra>",
         "legendgroup": "Flying Machine",
         "marker": {
          "color": "#B6E880",
          "symbol": "circle"
         },
         "mode": "markers",
         "name": "Flying Machine",
         "orientation": "v",
         "showlegend": true,
         "type": "scatter",
         "x": [
          -375.42506544800364
         ],
         "xaxis": "x",
         "y": [
          -93.34498811627417
         ],
         "yaxis": "y"
        },
        {
         "hovertemplate": "color=Wall Breakers<br>0=%{x}<br>1=%{y}<extra></extra>",
         "legendgroup": "Wall Breakers",
         "marker": {
          "color": "#FF97FF",
          "symbol": "circle"
         },
         "mode": "markers",
         "name": "Wall Breakers",
         "orientation": "v",
         "showlegend": true,
         "type": "scatter",
         "x": [
          -602.4332377488844
         ],
         "xaxis": "x",
         "y": [
          373.7247930480153
         ],
         "yaxis": "y"
        },
        {
         "hovertemplate": "color=Royal Hogs<br>0=%{x}<br>1=%{y}<extra></extra>",
         "legendgroup": "Royal Hogs",
         "marker": {
          "color": "#FECB52",
          "symbol": "circle"
         },
         "mode": "markers",
         "name": "Royal Hogs",
         "orientation": "v",
         "showlegend": true,
         "type": "scatter",
         "x": [
          -189.76837696224976
         ],
         "xaxis": "x",
         "y": [
          -290.97220687379905
         ],
         "yaxis": "y"
        },
        {
         "hovertemplate": "color=Goblin Giant<br>0=%{x}<br>1=%{y}<extra></extra>",
         "legendgroup": "Goblin Giant",
         "marker": {
          "color": "#636efa",
          "symbol": "circle"
         },
         "mode": "markers",
         "name": "Goblin Giant",
         "orientation": "v",
         "showlegend": true,
         "type": "scatter",
         "x": [
          1833.5630449039147
         ],
         "xaxis": "x",
         "y": [
          -117.1837305337235
         ],
         "yaxis": "y"
        },
        {
         "hovertemplate": "color=Fisherman<br>0=%{x}<br>1=%{y}<extra></extra>",
         "legendgroup": "Fisherman",
         "marker": {
          "color": "#EF553B",
          "symbol": "circle"
         },
         "mode": "markers",
         "name": "Fisherman",
         "orientation": "v",
         "showlegend": true,
         "type": "scatter",
         "x": [
          -79.01651818558261
         ],
         "xaxis": "x",
         "y": [
          -118.23499828301446
         ],
         "yaxis": "y"
        },
        {
         "hovertemplate": "color=Magic Archer<br>0=%{x}<br>1=%{y}<extra></extra>",
         "legendgroup": "Magic Archer",
         "marker": {
          "color": "#00cc96",
          "symbol": "circle"
         },
         "mode": "markers",
         "name": "Magic Archer",
         "orientation": "v",
         "showlegend": true,
         "type": "scatter",
         "x": [
          -448.70094755919143
         ],
         "xaxis": "x",
         "y": [
          -98.96653976354818
         ],
         "yaxis": "y"
        },
        {
         "hovertemplate": "color=Electro Dragon<br>0=%{x}<br>1=%{y}<extra></extra>",
         "legendgroup": "Electro Dragon",
         "marker": {
          "color": "#ab63fa",
          "symbol": "circle"
         },
         "mode": "markers",
         "name": "Electro Dragon",
         "orientation": "v",
         "showlegend": true,
         "type": "scatter",
         "x": [
          -96.02124623643401
         ],
         "xaxis": "x",
         "y": [
          -63.14829771856976
         ],
         "yaxis": "y"
        },
        {
         "hovertemplate": "color=Firecracker<br>0=%{x}<br>1=%{y}<extra></extra>",
         "legendgroup": "Firecracker",
         "marker": {
          "color": "#FFA15A",
          "symbol": "circle"
         },
         "mode": "markers",
         "name": "Firecracker",
         "orientation": "v",
         "showlegend": true,
         "type": "scatter",
         "x": [
          -636.9264483880659
         ],
         "xaxis": "x",
         "y": [
          240.04124590847522
         ],
         "yaxis": "y"
        },
        {
         "hovertemplate": "color=Elixir Golem<br>0=%{x}<br>1=%{y}<extra></extra>",
         "legendgroup": "Elixir Golem",
         "marker": {
          "color": "#19d3f3",
          "symbol": "circle"
         },
         "mode": "markers",
         "name": "Elixir Golem",
         "orientation": "v",
         "showlegend": true,
         "type": "scatter",
         "x": [
          1295.0854777987422
         ],
         "xaxis": "x",
         "y": [
          -228.78232756541337
         ],
         "yaxis": "y"
        },
        {
         "hovertemplate": "color=Battle Healer<br>0=%{x}<br>1=%{y}<extra></extra>",
         "legendgroup": "Battle Healer",
         "marker": {
          "color": "#FF6692",
          "symbol": "circle"
         },
         "mode": "markers",
         "name": "Battle Healer",
         "orientation": "v",
         "showlegend": true,
         "type": "scatter",
         "x": [
          541.4998905229108
         ],
         "xaxis": "x",
         "y": [
          -169.65296234239554
         ],
         "yaxis": "y"
        },
        {
         "hovertemplate": "color=Skeleton Dragons<br>0=%{x}<br>1=%{y}<extra></extra>",
         "legendgroup": "Skeleton Dragons",
         "marker": {
          "color": "#B6E880",
          "symbol": "circle"
         },
         "mode": "markers",
         "name": "Skeleton Dragons",
         "orientation": "v",
         "showlegend": true,
         "type": "scatter",
         "x": [
          -448.8743583779176
         ],
         "xaxis": "x",
         "y": [
          -30.6911193774686
         ],
         "yaxis": "y"
        },
        {
         "hovertemplate": "color=Cannon<br>0=%{x}<br>1=%{y}<extra></extra>",
         "legendgroup": "Cannon",
         "marker": {
          "color": "#FF97FF",
          "symbol": "circle"
         },
         "mode": "markers",
         "name": "Cannon",
         "orientation": "v",
         "showlegend": true,
         "type": "scatter",
         "x": [
          -143.96924266781457
         ],
         "xaxis": "x",
         "y": [
          -159.1032463722056
         ],
         "yaxis": "y"
        },
        {
         "hovertemplate": "color=Goblin Hut<br>0=%{x}<br>1=%{y}<extra></extra>",
         "legendgroup": "Goblin Hut",
         "marker": {
          "color": "#FECB52",
          "symbol": "circle"
         },
         "mode": "markers",
         "name": "Goblin Hut",
         "orientation": "v",
         "showlegend": true,
         "type": "scatter",
         "x": [
          -44.06173070507273
         ],
         "xaxis": "x",
         "y": [
          -225.31277666286533
         ],
         "yaxis": "y"
        },
        {
         "hovertemplate": "color=Mortar<br>0=%{x}<br>1=%{y}<extra></extra>",
         "legendgroup": "Mortar",
         "marker": {
          "color": "#636efa",
          "symbol": "circle"
         },
         "mode": "markers",
         "name": "Mortar",
         "orientation": "v",
         "showlegend": true,
         "type": "scatter",
         "x": [
          336.7325166739245
         ],
         "xaxis": "x",
         "y": [
          63.506061859576036
         ],
         "yaxis": "y"
        },
        {
         "hovertemplate": "color=Inferno Tower<br>0=%{x}<br>1=%{y}<extra></extra>",
         "legendgroup": "Inferno Tower",
         "marker": {
          "color": "#EF553B",
          "symbol": "circle"
         },
         "mode": "markers",
         "name": "Inferno Tower",
         "orientation": "v",
         "showlegend": true,
         "type": "scatter",
         "x": [
          550.8922191431708
         ],
         "xaxis": "x",
         "y": [
          177.59898785688554
         ],
         "yaxis": "y"
        },
        {
         "hovertemplate": "color=Bomb Tower<br>0=%{x}<br>1=%{y}<extra></extra>",
         "legendgroup": "Bomb Tower",
         "marker": {
          "color": "#00cc96",
          "symbol": "circle"
         },
         "mode": "markers",
         "name": "Bomb Tower",
         "orientation": "v",
         "showlegend": true,
         "type": "scatter",
         "x": [
          247.63993765269296
         ],
         "xaxis": "x",
         "y": [
          -66.2478908429831
         ],
         "yaxis": "y"
        },
        {
         "hovertemplate": "color=Barbarian Hut<br>0=%{x}<br>1=%{y}<extra></extra>",
         "legendgroup": "Barbarian Hut",
         "marker": {
          "color": "#ab63fa",
          "symbol": "circle"
         },
         "mode": "markers",
         "name": "Barbarian Hut",
         "orientation": "v",
         "showlegend": true,
         "type": "scatter",
         "x": [
          571.7100321471966
         ],
         "xaxis": "x",
         "y": [
          -98.21614622662108
         ],
         "yaxis": "y"
        },
        {
         "hovertemplate": "color=Tesla<br>0=%{x}<br>1=%{y}<extra></extra>",
         "legendgroup": "Tesla",
         "marker": {
          "color": "#FFA15A",
          "symbol": "circle"
         },
         "mode": "markers",
         "name": "Tesla",
         "orientation": "v",
         "showlegend": true,
         "type": "scatter",
         "x": [
          59.25031113948734
         ],
         "xaxis": "x",
         "y": [
          -75.62604460428236
         ],
         "yaxis": "y"
        },
        {
         "hovertemplate": "color=Elixir Collector<br>0=%{x}<br>1=%{y}<extra></extra>",
         "legendgroup": "Elixir Collector",
         "marker": {
          "color": "#19d3f3",
          "symbol": "circle"
         },
         "mode": "markers",
         "name": "Elixir Collector",
         "orientation": "v",
         "showlegend": true,
         "type": "scatter",
         "x": [
          -1.5576760195572579
         ],
         "xaxis": "x",
         "y": [
          -343.3862517761912
         ],
         "yaxis": "y"
        },
        {
         "hovertemplate": "color=X-Bow<br>0=%{x}<br>1=%{y}<extra></extra>",
         "legendgroup": "X-Bow",
         "marker": {
          "color": "#FF6692",
          "symbol": "circle"
         },
         "mode": "markers",
         "name": "X-Bow",
         "orientation": "v",
         "showlegend": true,
         "type": "scatter",
         "x": [
          493.42950093043646
         ],
         "xaxis": "x",
         "y": [
          -306.22558823589304
         ],
         "yaxis": "y"
        },
        {
         "hovertemplate": "color=Tombstone<br>0=%{x}<br>1=%{y}<extra></extra>",
         "legendgroup": "Tombstone",
         "marker": {
          "color": "#B6E880",
          "symbol": "circle"
         },
         "mode": "markers",
         "name": "Tombstone",
         "orientation": "v",
         "showlegend": true,
         "type": "scatter",
         "x": [
          -461.7028599086488
         ],
         "xaxis": "x",
         "y": [
          -249.52433533088322
         ],
         "yaxis": "y"
        },
        {
         "hovertemplate": "color=Furnace<br>0=%{x}<br>1=%{y}<extra></extra>",
         "legendgroup": "Furnace",
         "marker": {
          "color": "#FF97FF",
          "symbol": "circle"
         },
         "mode": "markers",
         "name": "Furnace",
         "orientation": "v",
         "showlegend": true,
         "type": "scatter",
         "x": [
          -46.03898129886021
         ],
         "xaxis": "x",
         "y": [
          -101.06874499064094
         ],
         "yaxis": "y"
        },
        {
         "hovertemplate": "color=Goblin Cage<br>0=%{x}<br>1=%{y}<extra></extra>",
         "legendgroup": "Goblin Cage",
         "marker": {
          "color": "#FECB52",
          "symbol": "circle"
         },
         "mode": "markers",
         "name": "Goblin Cage",
         "orientation": "v",
         "showlegend": true,
         "type": "scatter",
         "x": [
          778.7637797510359
         ],
         "xaxis": "x",
         "y": [
          49.70752141598432
         ],
         "yaxis": "y"
        },
        {
         "hovertemplate": "color=Fireball<br>0=%{x}<br>1=%{y}<extra></extra>",
         "legendgroup": "Fireball",
         "marker": {
          "color": "#636efa",
          "symbol": "circle"
         },
         "mode": "markers",
         "name": "Fireball",
         "orientation": "v",
         "showlegend": true,
         "type": "scatter",
         "x": [
          -907.0161131444663
         ],
         "xaxis": "x",
         "y": [
          785.0804057877583
         ],
         "yaxis": "y"
        },
        {
         "hovertemplate": "color=Arrows<br>0=%{x}<br>1=%{y}<extra></extra>",
         "legendgroup": "Arrows",
         "marker": {
          "color": "#EF553B",
          "symbol": "circle"
         },
         "mode": "markers",
         "name": "Arrows",
         "orientation": "v",
         "showlegend": true,
         "type": "scatter",
         "x": [
          -897.3454616925031
         ],
         "xaxis": "x",
         "y": [
          254.7041441506785
         ],
         "yaxis": "y"
        },
        {
         "hovertemplate": "color=Rage<br>0=%{x}<br>1=%{y}<extra></extra>",
         "legendgroup": "Rage",
         "marker": {
          "color": "#00cc96",
          "symbol": "circle"
         },
         "mode": "markers",
         "name": "Rage",
         "orientation": "v",
         "showlegend": true,
         "type": "scatter",
         "x": [
          -886.598982805914
         ],
         "xaxis": "x",
         "y": [
          -343.8921367667292
         ],
         "yaxis": "y"
        },
        {
         "hovertemplate": "color=Rocket<br>0=%{x}<br>1=%{y}<extra></extra>",
         "legendgroup": "Rocket",
         "marker": {
          "color": "#ab63fa",
          "symbol": "circle"
         },
         "mode": "markers",
         "name": "Rocket",
         "orientation": "v",
         "showlegend": true,
         "type": "scatter",
         "x": [
          -930.6145010929911
         ],
         "xaxis": "x",
         "y": [
          2087.370838875449
         ],
         "yaxis": "y"
        },
        {
         "hovertemplate": "color=Goblin Barrel<br>0=%{x}<br>1=%{y}<extra></extra>",
         "legendgroup": "Goblin Barrel",
         "marker": {
          "color": "#FFA15A",
          "symbol": "circle"
         },
         "mode": "markers",
         "name": "Goblin Barrel",
         "orientation": "v",
         "showlegend": true,
         "type": "scatter",
         "x": [
          -880.2402143256626
         ],
         "xaxis": "x",
         "y": [
          -204.71812594015512
         ],
         "yaxis": "y"
        },
        {
         "hovertemplate": "color=Freeze<br>0=%{x}<br>1=%{y}<extra></extra>",
         "legendgroup": "Freeze",
         "marker": {
          "color": "#19d3f3",
          "symbol": "circle"
         },
         "mode": "markers",
         "name": "Freeze",
         "orientation": "v",
         "showlegend": true,
         "type": "scatter",
         "x": [
          -889.9600465901048
         ],
         "xaxis": "x",
         "y": [
          -156.15731679535273
         ],
         "yaxis": "y"
        },
        {
         "hovertemplate": "color=Mirror<br>0=%{x}<br>1=%{y}<extra></extra>",
         "legendgroup": "Mirror",
         "marker": {
          "color": "#FF6692",
          "symbol": "circle"
         },
         "mode": "markers",
         "name": "Mirror",
         "orientation": "v",
         "showlegend": true,
         "type": "scatter",
         "x": [
          -886.598134314015
         ],
         "xaxis": "x",
         "y": [
          -343.8530154379746
         ],
         "yaxis": "y"
        },
        {
         "hovertemplate": "color=Lightning<br>0=%{x}<br>1=%{y}<extra></extra>",
         "legendgroup": "Lightning",
         "marker": {
          "color": "#B6E880",
          "symbol": "circle"
         },
         "mode": "markers",
         "name": "Lightning",
         "orientation": "v",
         "showlegend": true,
         "type": "scatter",
         "x": [
          -895.1970284727017
         ],
         "xaxis": "x",
         "y": [
          999.2663296736777
         ],
         "yaxis": "y"
        },
        {
         "hovertemplate": "color=Zap<br>0=%{x}<br>1=%{y}<extra></extra>",
         "legendgroup": "Zap",
         "marker": {
          "color": "#FF97FF",
          "symbol": "circle"
         },
         "mode": "markers",
         "name": "Zap",
         "orientation": "v",
         "showlegend": true,
         "type": "scatter",
         "x": [
          -892.2708191966653
         ],
         "xaxis": "x",
         "y": [
          -29.997504880153656
         ],
         "yaxis": "y"
        },
        {
         "hovertemplate": "color=Poison<br>0=%{x}<br>1=%{y}<extra></extra>",
         "legendgroup": "Poison",
         "marker": {
          "color": "#FECB52",
          "symbol": "circle"
         },
         "mode": "markers",
         "name": "Poison",
         "orientation": "v",
         "showlegend": true,
         "type": "scatter",
         "x": [
          -889.2429247315164
         ],
         "xaxis": "x",
         "y": [
          -195.64048467075534
         ],
         "yaxis": "y"
        },
        {
         "hovertemplate": "color=Graveyard<br>0=%{x}<br>1=%{y}<extra></extra>",
         "legendgroup": "Graveyard",
         "marker": {
          "color": "#636efa",
          "symbol": "circle"
         },
         "mode": "markers",
         "name": "Graveyard",
         "orientation": "v",
         "showlegend": true,
         "type": "scatter",
         "x": [
          -815.5250240537831
         ],
         "xaxis": "x",
         "y": [
          -249.70843232348585
         ],
         "yaxis": "y"
        },
        {
         "hovertemplate": "color=The Log<br>0=%{x}<br>1=%{y}<extra></extra>",
         "legendgroup": "The Log",
         "marker": {
          "color": "#EF553B",
          "symbol": "circle"
         },
         "mode": "markers",
         "name": "The Log",
         "orientation": "v",
         "showlegend": true,
         "type": "scatter",
         "x": [
          -884.4208031632679
         ],
         "xaxis": "x",
         "y": [
          46.187738035159356
         ],
         "yaxis": "y"
        },
        {
         "hovertemplate": "color=Tornado<br>0=%{x}<br>1=%{y}<extra></extra>",
         "legendgroup": "Tornado",
         "marker": {
          "color": "#00cc96",
          "symbol": "circle"
         },
         "mode": "markers",
         "name": "Tornado",
         "orientation": "v",
         "showlegend": true,
         "type": "scatter",
         "x": [
          -892.7679521012088
         ],
         "xaxis": "x",
         "y": [
          -76.43352386388695
         ],
         "yaxis": "y"
        },
        {
         "hovertemplate": "color=Clone<br>0=%{x}<br>1=%{y}<extra></extra>",
         "legendgroup": "Clone",
         "marker": {
          "color": "#ab63fa",
          "symbol": "circle"
         },
         "mode": "markers",
         "name": "Clone",
         "orientation": "v",
         "showlegend": true,
         "type": "scatter",
         "x": [
          -885.6037974299936
         ],
         "xaxis": "x",
         "y": [
          -343.852149946901
         ],
         "yaxis": "y"
        },
        {
         "hovertemplate": "color=Earthquake<br>0=%{x}<br>1=%{y}<extra></extra>",
         "legendgroup": "Earthquake",
         "marker": {
          "color": "#FFA15A",
          "symbol": "circle"
         },
         "mode": "markers",
         "name": "Earthquake",
         "orientation": "v",
         "showlegend": true,
         "type": "scatter",
         "x": [
          -874.3734359017865
         ],
         "xaxis": "x",
         "y": [
          -97.84492865205
         ],
         "yaxis": "y"
        },
        {
         "hovertemplate": "color=Barbarian Barrel<br>0=%{x}<br>1=%{y}<extra></extra>",
         "legendgroup": "Barbarian Barrel",
         "marker": {
          "color": "#19d3f3",
          "symbol": "circle"
         },
         "mode": "markers",
         "name": "Barbarian Barrel",
         "orientation": "v",
         "showlegend": true,
         "type": "scatter",
         "x": [
          -323.38917085463487
         ],
         "xaxis": "x",
         "y": [
          -109.20946730883186
         ],
         "yaxis": "y"
        },
        {
         "hovertemplate": "color=Heal Spirit<br>0=%{x}<br>1=%{y}<extra></extra>",
         "legendgroup": "Heal Spirit",
         "marker": {
          "color": "#FF6692",
          "symbol": "circle"
         },
         "mode": "markers",
         "name": "Heal Spirit",
         "orientation": "v",
         "showlegend": true,
         "type": "scatter",
         "x": [
          -696.2457450331998
         ],
         "xaxis": "x",
         "y": [
          -343.6792814874287
         ],
         "yaxis": "y"
        },
        {
         "hovertemplate": "color=Giant Snowball<br>0=%{x}<br>1=%{y}<extra></extra>",
         "legendgroup": "Giant Snowball",
         "marker": {
          "color": "#B6E880",
          "symbol": "circle"
         },
         "mode": "markers",
         "name": "Giant Snowball",
         "orientation": "v",
         "showlegend": true,
         "type": "scatter",
         "x": [
          -892.2708191966658
         ],
         "xaxis": "x",
         "y": [
          -29.997504880153656
         ],
         "yaxis": "y"
        },
        {
         "hovertemplate": "color=Royal Delivery<br>0=%{x}<br>1=%{y}<extra></extra>",
         "legendgroup": "Royal Delivery",
         "marker": {
          "color": "#FF97FF",
          "symbol": "circle"
         },
         "mode": "markers",
         "name": "Royal Delivery",
         "orientation": "v",
         "showlegend": true,
         "type": "scatter",
         "x": [
          -252.65987446620326
         ],
         "xaxis": "x",
         "y": [
          -41.41299044488776
         ],
         "yaxis": "y"
        }
       ],
       "layout": {
        "legend": {
         "title": {
          "text": "color"
         },
         "tracegroupgap": 0
        },
        "margin": {
         "t": 60
        },
        "template": {
         "data": {
          "bar": [
           {
            "error_x": {
             "color": "#2a3f5f"
            },
            "error_y": {
             "color": "#2a3f5f"
            },
            "marker": {
             "line": {
              "color": "#E5ECF6",
              "width": 0.5
             }
            },
            "type": "bar"
           }
          ],
          "barpolar": [
           {
            "marker": {
             "line": {
              "color": "#E5ECF6",
              "width": 0.5
             }
            },
            "type": "barpolar"
           }
          ],
          "carpet": [
           {
            "aaxis": {
             "endlinecolor": "#2a3f5f",
             "gridcolor": "white",
             "linecolor": "white",
             "minorgridcolor": "white",
             "startlinecolor": "#2a3f5f"
            },
            "baxis": {
             "endlinecolor": "#2a3f5f",
             "gridcolor": "white",
             "linecolor": "white",
             "minorgridcolor": "white",
             "startlinecolor": "#2a3f5f"
            },
            "type": "carpet"
           }
          ],
          "choropleth": [
           {
            "colorbar": {
             "outlinewidth": 0,
             "ticks": ""
            },
            "type": "choropleth"
           }
          ],
          "contour": [
           {
            "colorbar": {
             "outlinewidth": 0,
             "ticks": ""
            },
            "colorscale": [
             [
              0,
              "#0d0887"
             ],
             [
              0.1111111111111111,
              "#46039f"
             ],
             [
              0.2222222222222222,
              "#7201a8"
             ],
             [
              0.3333333333333333,
              "#9c179e"
             ],
             [
              0.4444444444444444,
              "#bd3786"
             ],
             [
              0.5555555555555556,
              "#d8576b"
             ],
             [
              0.6666666666666666,
              "#ed7953"
             ],
             [
              0.7777777777777778,
              "#fb9f3a"
             ],
             [
              0.8888888888888888,
              "#fdca26"
             ],
             [
              1,
              "#f0f921"
             ]
            ],
            "type": "contour"
           }
          ],
          "contourcarpet": [
           {
            "colorbar": {
             "outlinewidth": 0,
             "ticks": ""
            },
            "type": "contourcarpet"
           }
          ],
          "heatmap": [
           {
            "colorbar": {
             "outlinewidth": 0,
             "ticks": ""
            },
            "colorscale": [
             [
              0,
              "#0d0887"
             ],
             [
              0.1111111111111111,
              "#46039f"
             ],
             [
              0.2222222222222222,
              "#7201a8"
             ],
             [
              0.3333333333333333,
              "#9c179e"
             ],
             [
              0.4444444444444444,
              "#bd3786"
             ],
             [
              0.5555555555555556,
              "#d8576b"
             ],
             [
              0.6666666666666666,
              "#ed7953"
             ],
             [
              0.7777777777777778,
              "#fb9f3a"
             ],
             [
              0.8888888888888888,
              "#fdca26"
             ],
             [
              1,
              "#f0f921"
             ]
            ],
            "type": "heatmap"
           }
          ],
          "heatmapgl": [
           {
            "colorbar": {
             "outlinewidth": 0,
             "ticks": ""
            },
            "colorscale": [
             [
              0,
              "#0d0887"
             ],
             [
              0.1111111111111111,
              "#46039f"
             ],
             [
              0.2222222222222222,
              "#7201a8"
             ],
             [
              0.3333333333333333,
              "#9c179e"
             ],
             [
              0.4444444444444444,
              "#bd3786"
             ],
             [
              0.5555555555555556,
              "#d8576b"
             ],
             [
              0.6666666666666666,
              "#ed7953"
             ],
             [
              0.7777777777777778,
              "#fb9f3a"
             ],
             [
              0.8888888888888888,
              "#fdca26"
             ],
             [
              1,
              "#f0f921"
             ]
            ],
            "type": "heatmapgl"
           }
          ],
          "histogram": [
           {
            "marker": {
             "colorbar": {
              "outlinewidth": 0,
              "ticks": ""
             }
            },
            "type": "histogram"
           }
          ],
          "histogram2d": [
           {
            "colorbar": {
             "outlinewidth": 0,
             "ticks": ""
            },
            "colorscale": [
             [
              0,
              "#0d0887"
             ],
             [
              0.1111111111111111,
              "#46039f"
             ],
             [
              0.2222222222222222,
              "#7201a8"
             ],
             [
              0.3333333333333333,
              "#9c179e"
             ],
             [
              0.4444444444444444,
              "#bd3786"
             ],
             [
              0.5555555555555556,
              "#d8576b"
             ],
             [
              0.6666666666666666,
              "#ed7953"
             ],
             [
              0.7777777777777778,
              "#fb9f3a"
             ],
             [
              0.8888888888888888,
              "#fdca26"
             ],
             [
              1,
              "#f0f921"
             ]
            ],
            "type": "histogram2d"
           }
          ],
          "histogram2dcontour": [
           {
            "colorbar": {
             "outlinewidth": 0,
             "ticks": ""
            },
            "colorscale": [
             [
              0,
              "#0d0887"
             ],
             [
              0.1111111111111111,
              "#46039f"
             ],
             [
              0.2222222222222222,
              "#7201a8"
             ],
             [
              0.3333333333333333,
              "#9c179e"
             ],
             [
              0.4444444444444444,
              "#bd3786"
             ],
             [
              0.5555555555555556,
              "#d8576b"
             ],
             [
              0.6666666666666666,
              "#ed7953"
             ],
             [
              0.7777777777777778,
              "#fb9f3a"
             ],
             [
              0.8888888888888888,
              "#fdca26"
             ],
             [
              1,
              "#f0f921"
             ]
            ],
            "type": "histogram2dcontour"
           }
          ],
          "mesh3d": [
           {
            "colorbar": {
             "outlinewidth": 0,
             "ticks": ""
            },
            "type": "mesh3d"
           }
          ],
          "parcoords": [
           {
            "line": {
             "colorbar": {
              "outlinewidth": 0,
              "ticks": ""
             }
            },
            "type": "parcoords"
           }
          ],
          "pie": [
           {
            "automargin": true,
            "type": "pie"
           }
          ],
          "scatter": [
           {
            "marker": {
             "colorbar": {
              "outlinewidth": 0,
              "ticks": ""
             }
            },
            "type": "scatter"
           }
          ],
          "scatter3d": [
           {
            "line": {
             "colorbar": {
              "outlinewidth": 0,
              "ticks": ""
             }
            },
            "marker": {
             "colorbar": {
              "outlinewidth": 0,
              "ticks": ""
             }
            },
            "type": "scatter3d"
           }
          ],
          "scattercarpet": [
           {
            "marker": {
             "colorbar": {
              "outlinewidth": 0,
              "ticks": ""
             }
            },
            "type": "scattercarpet"
           }
          ],
          "scattergeo": [
           {
            "marker": {
             "colorbar": {
              "outlinewidth": 0,
              "ticks": ""
             }
            },
            "type": "scattergeo"
           }
          ],
          "scattergl": [
           {
            "marker": {
             "colorbar": {
              "outlinewidth": 0,
              "ticks": ""
             }
            },
            "type": "scattergl"
           }
          ],
          "scattermapbox": [
           {
            "marker": {
             "colorbar": {
              "outlinewidth": 0,
              "ticks": ""
             }
            },
            "type": "scattermapbox"
           }
          ],
          "scatterpolar": [
           {
            "marker": {
             "colorbar": {
              "outlinewidth": 0,
              "ticks": ""
             }
            },
            "type": "scatterpolar"
           }
          ],
          "scatterpolargl": [
           {
            "marker": {
             "colorbar": {
              "outlinewidth": 0,
              "ticks": ""
             }
            },
            "type": "scatterpolargl"
           }
          ],
          "scatterternary": [
           {
            "marker": {
             "colorbar": {
              "outlinewidth": 0,
              "ticks": ""
             }
            },
            "type": "scatterternary"
           }
          ],
          "surface": [
           {
            "colorbar": {
             "outlinewidth": 0,
             "ticks": ""
            },
            "colorscale": [
             [
              0,
              "#0d0887"
             ],
             [
              0.1111111111111111,
              "#46039f"
             ],
             [
              0.2222222222222222,
              "#7201a8"
             ],
             [
              0.3333333333333333,
              "#9c179e"
             ],
             [
              0.4444444444444444,
              "#bd3786"
             ],
             [
              0.5555555555555556,
              "#d8576b"
             ],
             [
              0.6666666666666666,
              "#ed7953"
             ],
             [
              0.7777777777777778,
              "#fb9f3a"
             ],
             [
              0.8888888888888888,
              "#fdca26"
             ],
             [
              1,
              "#f0f921"
             ]
            ],
            "type": "surface"
           }
          ],
          "table": [
           {
            "cells": {
             "fill": {
              "color": "#EBF0F8"
             },
             "line": {
              "color": "white"
             }
            },
            "header": {
             "fill": {
              "color": "#C8D4E3"
             },
             "line": {
              "color": "white"
             }
            },
            "type": "table"
           }
          ]
         },
         "layout": {
          "annotationdefaults": {
           "arrowcolor": "#2a3f5f",
           "arrowhead": 0,
           "arrowwidth": 1
          },
          "coloraxis": {
           "colorbar": {
            "outlinewidth": 0,
            "ticks": ""
           }
          },
          "colorscale": {
           "diverging": [
            [
             0,
             "#8e0152"
            ],
            [
             0.1,
             "#c51b7d"
            ],
            [
             0.2,
             "#de77ae"
            ],
            [
             0.3,
             "#f1b6da"
            ],
            [
             0.4,
             "#fde0ef"
            ],
            [
             0.5,
             "#f7f7f7"
            ],
            [
             0.6,
             "#e6f5d0"
            ],
            [
             0.7,
             "#b8e186"
            ],
            [
             0.8,
             "#7fbc41"
            ],
            [
             0.9,
             "#4d9221"
            ],
            [
             1,
             "#276419"
            ]
           ],
           "sequential": [
            [
             0,
             "#0d0887"
            ],
            [
             0.1111111111111111,
             "#46039f"
            ],
            [
             0.2222222222222222,
             "#7201a8"
            ],
            [
             0.3333333333333333,
             "#9c179e"
            ],
            [
             0.4444444444444444,
             "#bd3786"
            ],
            [
             0.5555555555555556,
             "#d8576b"
            ],
            [
             0.6666666666666666,
             "#ed7953"
            ],
            [
             0.7777777777777778,
             "#fb9f3a"
            ],
            [
             0.8888888888888888,
             "#fdca26"
            ],
            [
             1,
             "#f0f921"
            ]
           ],
           "sequentialminus": [
            [
             0,
             "#0d0887"
            ],
            [
             0.1111111111111111,
             "#46039f"
            ],
            [
             0.2222222222222222,
             "#7201a8"
            ],
            [
             0.3333333333333333,
             "#9c179e"
            ],
            [
             0.4444444444444444,
             "#bd3786"
            ],
            [
             0.5555555555555556,
             "#d8576b"
            ],
            [
             0.6666666666666666,
             "#ed7953"
            ],
            [
             0.7777777777777778,
             "#fb9f3a"
            ],
            [
             0.8888888888888888,
             "#fdca26"
            ],
            [
             1,
             "#f0f921"
            ]
           ]
          },
          "colorway": [
           "#636efa",
           "#EF553B",
           "#00cc96",
           "#ab63fa",
           "#FFA15A",
           "#19d3f3",
           "#FF6692",
           "#B6E880",
           "#FF97FF",
           "#FECB52"
          ],
          "font": {
           "color": "#2a3f5f"
          },
          "geo": {
           "bgcolor": "white",
           "lakecolor": "white",
           "landcolor": "#E5ECF6",
           "showlakes": true,
           "showland": true,
           "subunitcolor": "white"
          },
          "hoverlabel": {
           "align": "left"
          },
          "hovermode": "closest",
          "mapbox": {
           "style": "light"
          },
          "paper_bgcolor": "white",
          "plot_bgcolor": "#E5ECF6",
          "polar": {
           "angularaxis": {
            "gridcolor": "white",
            "linecolor": "white",
            "ticks": ""
           },
           "bgcolor": "#E5ECF6",
           "radialaxis": {
            "gridcolor": "white",
            "linecolor": "white",
            "ticks": ""
           }
          },
          "scene": {
           "xaxis": {
            "backgroundcolor": "#E5ECF6",
            "gridcolor": "white",
            "gridwidth": 2,
            "linecolor": "white",
            "showbackground": true,
            "ticks": "",
            "zerolinecolor": "white"
           },
           "yaxis": {
            "backgroundcolor": "#E5ECF6",
            "gridcolor": "white",
            "gridwidth": 2,
            "linecolor": "white",
            "showbackground": true,
            "ticks": "",
            "zerolinecolor": "white"
           },
           "zaxis": {
            "backgroundcolor": "#E5ECF6",
            "gridcolor": "white",
            "gridwidth": 2,
            "linecolor": "white",
            "showbackground": true,
            "ticks": "",
            "zerolinecolor": "white"
           }
          },
          "shapedefaults": {
           "line": {
            "color": "#2a3f5f"
           }
          },
          "ternary": {
           "aaxis": {
            "gridcolor": "white",
            "linecolor": "white",
            "ticks": ""
           },
           "baxis": {
            "gridcolor": "white",
            "linecolor": "white",
            "ticks": ""
           },
           "bgcolor": "#E5ECF6",
           "caxis": {
            "gridcolor": "white",
            "linecolor": "white",
            "ticks": ""
           }
          },
          "title": {
           "x": 0.05
          },
          "xaxis": {
           "automargin": true,
           "gridcolor": "white",
           "linecolor": "white",
           "ticks": "",
           "title": {
            "standoff": 15
           },
           "zerolinecolor": "white",
           "zerolinewidth": 2
          },
          "yaxis": {
           "automargin": true,
           "gridcolor": "white",
           "linecolor": "white",
           "ticks": "",
           "title": {
            "standoff": 15
           },
           "zerolinecolor": "white",
           "zerolinewidth": 2
          }
         }
        },
        "xaxis": {
         "anchor": "y",
         "domain": [
          0,
          1
         ],
         "title": {
          "text": "0"
         }
        },
        "yaxis": {
         "anchor": "x",
         "domain": [
          0,
          1
         ],
         "title": {
          "text": "1"
         }
        }
       }
      },
      "text/html": [
       "<div>\n",
       "        \n",
       "        \n",
       "            <div id=\"86939986-41a6-4306-8afa-4501f70cfa1f\" class=\"plotly-graph-div\" style=\"height:525px; width:100%;\"></div>\n",
       "            <script type=\"text/javascript\">\n",
       "                require([\"plotly\"], function(Plotly) {\n",
       "                    window.PLOTLYENV=window.PLOTLYENV || {};\n",
       "                    \n",
       "                if (document.getElementById(\"86939986-41a6-4306-8afa-4501f70cfa1f\")) {\n",
       "                    Plotly.newPlot(\n",
       "                        '86939986-41a6-4306-8afa-4501f70cfa1f',\n",
       "                        [{\"hovertemplate\": \"color=Knight<br>0=%{x}<br>1=%{y}<extra></extra>\", \"legendgroup\": \"Knight\", \"marker\": {\"color\": \"#636efa\", \"symbol\": \"circle\"}, \"mode\": \"markers\", \"name\": \"Knight\", \"orientation\": \"v\", \"showlegend\": true, \"type\": \"scatter\", \"x\": [571.2348178741614], \"xaxis\": \"x\", \"y\": [-107.78884379980921], \"yaxis\": \"y\"}, {\"hovertemplate\": \"color=Archers<br>0=%{x}<br>1=%{y}<extra></extra>\", \"legendgroup\": \"Archers\", \"marker\": {\"color\": \"#EF553B\", \"symbol\": \"circle\"}, \"mode\": \"markers\", \"name\": \"Archers\", \"orientation\": \"v\", \"showlegend\": true, \"type\": \"scatter\", \"x\": [-633.6361292442901], \"xaxis\": \"x\", \"y\": [-186.91070192108887], \"yaxis\": \"y\"}, {\"hovertemplate\": \"color=Goblins<br>0=%{x}<br>1=%{y}<extra></extra>\", \"legendgroup\": \"Goblins\", \"marker\": {\"color\": \"#00cc96\", \"symbol\": \"circle\"}, \"mode\": \"markers\", \"name\": \"Goblins\", \"orientation\": \"v\", \"showlegend\": true, \"type\": \"scatter\", \"x\": [-713.8035383912546], \"xaxis\": \"x\", \"y\": [-204.56405715224344], \"yaxis\": \"y\"}, {\"hovertemplate\": \"color=Giant<br>0=%{x}<br>1=%{y}<extra></extra>\", \"legendgroup\": \"Giant\", \"marker\": {\"color\": \"#ab63fa\", \"symbol\": \"circle\"}, \"mode\": \"markers\", \"name\": \"Giant\", \"orientation\": \"v\", \"showlegend\": true, \"type\": \"scatter\", \"x\": [2392.2883485716047], \"xaxis\": \"x\", \"y\": [-153.97337314256146], \"yaxis\": \"y\"}, {\"hovertemplate\": \"color=P.E.K.K.A<br>0=%{x}<br>1=%{y}<extra></extra>\", \"legendgroup\": \"P.E.K.K.A\", \"marker\": {\"color\": \"#FFA15A\", \"symbol\": \"circle\"}, \"mode\": \"markers\", \"name\": \"P.E.K.K.A\", \"orientation\": \"v\", \"showlegend\": true, \"type\": \"scatter\", \"x\": [2271.428748505758], \"xaxis\": \"x\", \"y\": [611.9644331672505], \"yaxis\": \"y\"}, {\"hovertemplate\": \"color=Minions<br>0=%{x}<br>1=%{y}<extra></extra>\", \"legendgroup\": \"Minions\", \"marker\": {\"color\": \"#19d3f3\", \"symbol\": \"circle\"}, \"mode\": \"markers\", \"name\": \"Minions\", \"orientation\": \"v\", \"showlegend\": true, \"type\": \"scatter\", \"x\": [-695.5296140666276], \"xaxis\": \"x\", \"y\": [-195.77475958707896], \"yaxis\": \"y\"}, {\"hovertemplate\": \"color=Balloon<br>0=%{x}<br>1=%{y}<extra></extra>\", \"legendgroup\": \"Balloon\", \"marker\": {\"color\": \"#FF6692\", \"symbol\": \"circle\"}, \"mode\": \"markers\", \"name\": \"Balloon\", \"orientation\": \"v\", \"showlegend\": true, \"type\": \"scatter\", \"x\": [550.3575810452271], \"xaxis\": \"x\", \"y\": [723.5260160428851], \"yaxis\": \"y\"}, {\"hovertemplate\": \"color=Witch<br>0=%{x}<br>1=%{y}<extra></extra>\", \"legendgroup\": \"Witch\", \"marker\": {\"color\": \"#B6E880\", \"symbol\": \"circle\"}, \"mode\": \"markers\", \"name\": \"Witch\", \"orientation\": \"v\", \"showlegend\": true, \"type\": \"scatter\", \"x\": [-194.75152283481017], \"xaxis\": \"x\", \"y\": [-124.72785206021416], \"yaxis\": \"y\"}, {\"hovertemplate\": \"color=Barbarians<br>0=%{x}<br>1=%{y}<extra></extra>\", \"legendgroup\": \"Barbarians\", \"marker\": {\"color\": \"#FF97FF\", \"symbol\": \"circle\"}, \"mode\": \"markers\", \"name\": \"Barbarians\", \"orientation\": \"v\", \"showlegend\": true, \"type\": \"scatter\", \"x\": [-323.2547491956851], \"xaxis\": \"x\", \"y\": [-119.8746637045659], \"yaxis\": \"y\"}, {\"hovertemplate\": \"color=Golem<br>0=%{x}<br>1=%{y}<extra></extra>\", \"legendgroup\": \"Golem\", \"marker\": {\"color\": \"#FECB52\", \"symbol\": \"circle\"}, \"mode\": \"markers\", \"name\": \"Golem\", \"orientation\": \"v\", \"showlegend\": true, \"type\": \"scatter\", \"x\": [5274.4702270803955], \"xaxis\": \"x\", \"y\": [-107.57383193604032], \"yaxis\": \"y\"}, {\"hovertemplate\": \"color=Skeletons<br>0=%{x}<br>1=%{y}<extra></extra>\", \"legendgroup\": \"Skeletons\", \"marker\": {\"color\": \"#636efa\", \"symbol\": \"circle\"}, \"mode\": \"markers\", \"name\": \"Skeletons\", \"orientation\": \"v\", \"showlegend\": true, \"type\": \"scatter\", \"x\": [-815.5232561348574], \"xaxis\": \"x\", \"y\": [-249.63295687345493], \"yaxis\": \"y\"}, {\"hovertemplate\": \"color=Valkyrie<br>0=%{x}<br>1=%{y}<extra></extra>\", \"legendgroup\": \"Valkyrie\", \"marker\": {\"color\": \"#EF553B\", \"symbol\": \"circle\"}, \"mode\": \"markers\", \"name\": \"Valkyrie\", \"orientation\": \"v\", \"showlegend\": true, \"type\": \"scatter\", \"x\": [770.2891920445113], \"xaxis\": \"x\", \"y\": [65.91036834654214], \"yaxis\": \"y\"}, {\"hovertemplate\": \"color=Skeleton Army<br>0=%{x}<br>1=%{y}<extra></extra>\", \"legendgroup\": \"Skeleton Army\", \"marker\": {\"color\": \"#00cc96\", \"symbol\": \"circle\"}, \"mode\": \"markers\", \"name\": \"Skeleton Army\", \"orientation\": \"v\", \"showlegend\": true, \"type\": \"scatter\", \"x\": [-815.5270303312547], \"xaxis\": \"x\", \"y\": [-249.65120060722072], \"yaxis\": \"y\"}, {\"hovertemplate\": \"color=Bomber<br>0=%{x}<br>1=%{y}<extra></extra>\", \"legendgroup\": \"Bomber\", \"marker\": {\"color\": \"#ab63fa\", \"symbol\": \"circle\"}, \"mode\": \"markers\", \"name\": \"Bomber\", \"orientation\": \"v\", \"showlegend\": true, \"type\": \"scatter\", \"x\": [-479.5622830610958], \"xaxis\": \"x\", \"y\": [157.09467321901457], \"yaxis\": \"y\"}, {\"hovertemplate\": \"color=Musketeer<br>0=%{x}<br>1=%{y}<extra></extra>\", \"legendgroup\": \"Musketeer\", \"marker\": {\"color\": \"#FFA15A\", \"symbol\": \"circle\"}, \"mode\": \"markers\", \"name\": \"Musketeer\", \"orientation\": \"v\", \"showlegend\": true, \"type\": \"scatter\", \"x\": [-286.926897794986], \"xaxis\": \"x\", \"y\": [-24.591862946676116], \"yaxis\": \"y\"}, {\"hovertemplate\": \"color=Baby Dragon<br>0=%{x}<br>1=%{y}<extra></extra>\", \"legendgroup\": \"Baby Dragon\", \"marker\": {\"color\": \"#19d3f3\", \"symbol\": \"circle\"}, \"mode\": \"markers\", \"name\": \"Baby Dragon\", \"orientation\": \"v\", \"showlegend\": true, \"type\": \"scatter\", \"x\": [66.43324115513701], \"xaxis\": \"x\", \"y\": [-50.02909345351522], \"yaxis\": \"y\"}, {\"hovertemplate\": \"color=Prince<br>0=%{x}<br>1=%{y}<extra></extra>\", \"legendgroup\": \"Prince\", \"marker\": {\"color\": \"#FF6692\", \"symbol\": \"circle\"}, \"mode\": \"markers\", \"name\": \"Prince\", \"orientation\": \"v\", \"showlegend\": true, \"type\": \"scatter\", \"x\": [797.6563153914751], \"xaxis\": \"x\", \"y\": [114.47769499131272], \"yaxis\": \"y\"}, {\"hovertemplate\": \"color=Wizard<br>0=%{x}<br>1=%{y}<extra></extra>\", \"legendgroup\": \"Wizard\", \"marker\": {\"color\": \"#B6E880\", \"symbol\": \"circle\"}, \"mode\": \"markers\", \"name\": \"Wizard\", \"orientation\": \"v\", \"showlegend\": true, \"type\": \"scatter\", \"x\": [-291.91850213096683], \"xaxis\": \"x\", \"y\": [172.08814580547582], \"yaxis\": \"y\"}, {\"hovertemplate\": \"color=Mini P.E.K.K.A<br>0=%{x}<br>1=%{y}<extra></extra>\", \"legendgroup\": \"Mini P.E.K.K.A\", \"marker\": {\"color\": \"#FF97FF\", \"symbol\": \"circle\"}, \"mode\": \"markers\", \"name\": \"Mini P.E.K.K.A\", \"orientation\": \"v\", \"showlegend\": true, \"type\": \"scatter\", \"x\": [277.01573187005215], \"xaxis\": \"x\", \"y\": [497.6614571633485], \"yaxis\": \"y\"}, {\"hovertemplate\": \"color=Spear Goblins<br>0=%{x}<br>1=%{y}<extra></extra>\", \"legendgroup\": \"Spear Goblins\", \"marker\": {\"color\": \"#FECB52\", \"symbol\": \"circle\"}, \"mode\": \"markers\", \"name\": \"Spear Goblins\", \"orientation\": \"v\", \"showlegend\": true, \"type\": \"scatter\", \"x\": [-775.6070042879318], \"xaxis\": \"x\", \"y\": [-225.78318949568614], \"yaxis\": \"y\"}, {\"hovertemplate\": \"color=Giant Skeleton<br>0=%{x}<br>1=%{y}<extra></extra>\", \"legendgroup\": \"Giant Skeleton\", \"marker\": {\"color\": \"#636efa\", \"symbol\": \"circle\"}, \"mode\": \"markers\", \"name\": \"Giant Skeleton\", \"orientation\": \"v\", \"showlegend\": true, \"type\": \"scatter\", \"x\": [1943.1002277464665], \"xaxis\": \"x\", \"y\": [-95.03644030589288], \"yaxis\": \"y\"}, {\"hovertemplate\": \"color=Hog Rider<br>0=%{x}<br>1=%{y}<extra></extra>\", \"legendgroup\": \"Hog Rider\", \"marker\": {\"color\": \"#EF553B\", \"symbol\": \"circle\"}, \"mode\": \"markers\", \"name\": \"Hog Rider\", \"orientation\": \"v\", \"showlegend\": true, \"type\": \"scatter\", \"x\": [535.331659329369], \"xaxis\": \"x\", \"y\": [-108.79063116575283], \"yaxis\": \"y\"}, {\"hovertemplate\": \"color=Minion Horde<br>0=%{x}<br>1=%{y}<extra></extra>\", \"legendgroup\": \"Minion Horde\", \"marker\": {\"color\": \"#00cc96\", \"symbol\": \"circle\"}, \"mode\": \"markers\", \"name\": \"Minion Horde\", \"orientation\": \"v\", \"showlegend\": true, \"type\": \"scatter\", \"x\": [-695.5282467044964], \"xaxis\": \"x\", \"y\": [-195.77688006978994], \"yaxis\": \"y\"}, {\"hovertemplate\": \"color=Ice Wizard<br>0=%{x}<br>1=%{y}<extra></extra>\", \"legendgroup\": \"Ice Wizard\", \"marker\": {\"color\": \"#ab63fa\", \"symbol\": \"circle\"}, \"mode\": \"markers\", \"name\": \"Ice Wizard\", \"orientation\": \"v\", \"showlegend\": true, \"type\": \"scatter\", \"x\": [-299.0065411641413], \"xaxis\": \"x\", \"y\": [-178.11680393121458], \"yaxis\": \"y\"}, {\"hovertemplate\": \"color=Royal Giant<br>0=%{x}<br>1=%{y}<extra></extra>\", \"legendgroup\": \"Royal Giant\", \"marker\": {\"color\": \"#FFA15A\", \"symbol\": \"circle\"}, \"mode\": \"markers\", \"name\": \"Royal Giant\", \"orientation\": \"v\", \"showlegend\": true, \"type\": \"scatter\", \"x\": [1666.7957436402096], \"xaxis\": \"x\", \"y\": [-116.58183382036638], \"yaxis\": \"y\"}, {\"hovertemplate\": \"color=Guards<br>0=%{x}<br>1=%{y}<extra></extra>\", \"legendgroup\": \"Guards\", \"marker\": {\"color\": \"#19d3f3\", \"symbol\": \"circle\"}, \"mode\": \"markers\", \"name\": \"Guards\", \"orientation\": \"v\", \"showlegend\": true, \"type\": \"scatter\", \"x\": [-791.121098234246], \"xaxis\": \"x\", \"y\": [-217.28365092896934], \"yaxis\": \"y\"}, {\"hovertemplate\": \"color=Princess<br>0=%{x}<br>1=%{y}<extra></extra>\", \"legendgroup\": \"Princess\", \"marker\": {\"color\": \"#FF6692\", \"symbol\": \"circle\"}, \"mode\": \"markers\", \"name\": \"Princess\", \"orientation\": \"v\", \"showlegend\": true, \"type\": \"scatter\", \"x\": [-672.1077559228867], \"xaxis\": \"x\", \"y\": [-35.30300514113995], \"yaxis\": \"y\"}, {\"hovertemplate\": \"color=Dark Prince<br>0=%{x}<br>1=%{y}<extra></extra>\", \"legendgroup\": \"Dark Prince\", \"marker\": {\"color\": \"#B6E880\", \"symbol\": \"circle\"}, \"mode\": \"markers\", \"name\": \"Dark Prince\", \"orientation\": \"v\", \"showlegend\": true, \"type\": \"scatter\", \"x\": [346.1476594826432], \"xaxis\": \"x\", \"y\": [37.80627814083057], \"yaxis\": \"y\"}, {\"hovertemplate\": \"color=Three Musketeers<br>0=%{x}<br>1=%{y}<extra></extra>\", \"legendgroup\": \"Three Musketeers\", \"marker\": {\"color\": \"#FF97FF\", \"symbol\": \"circle\"}, \"mode\": \"markers\", \"name\": \"Three Musketeers\", \"orientation\": \"v\", \"showlegend\": true, \"type\": \"scatter\", \"x\": [-286.9231674062084], \"xaxis\": \"x\", \"y\": [-24.59027461507202], \"yaxis\": \"y\"}, {\"hovertemplate\": \"color=Lava Hound<br>0=%{x}<br>1=%{y}<extra></extra>\", \"legendgroup\": \"Lava Hound\", \"marker\": {\"color\": \"#FECB52\", \"symbol\": \"circle\"}, \"mode\": \"markers\", \"name\": \"Lava Hound\", \"orientation\": \"v\", \"showlegend\": true, \"type\": \"scatter\", \"x\": [2253.2535723639], \"xaxis\": \"x\", \"y\": [-222.13487996096276], \"yaxis\": \"y\"}, {\"hovertemplate\": \"color=Ice Spirit<br>0=%{x}<br>1=%{y}<extra></extra>\", \"legendgroup\": \"Ice Spirit\", \"marker\": {\"color\": \"#636efa\", \"symbol\": \"circle\"}, \"mode\": \"markers\", \"name\": \"Ice Spirit\", \"orientation\": \"v\", \"showlegend\": true, \"type\": \"scatter\", \"x\": [-694.4156518829379], \"xaxis\": \"x\", \"y\": [-142.82914832497332], \"yaxis\": \"y\"}, {\"hovertemplate\": \"color=Fire Spirits<br>0=%{x}<br>1=%{y}<extra></extra>\", \"legendgroup\": \"Fire Spirits\", \"marker\": {\"color\": \"#EF553B\", \"symbol\": \"circle\"}, \"mode\": \"markers\", \"name\": \"Fire Spirits\", \"orientation\": \"v\", \"showlegend\": true, \"type\": \"scatter\", \"x\": [-796.9009631405004], \"xaxis\": \"x\", \"y\": [48.26738064997494], \"yaxis\": \"y\"}, {\"hovertemplate\": \"color=Miner<br>0=%{x}<br>1=%{y}<extra></extra>\", \"legendgroup\": \"Miner\", \"marker\": {\"color\": \"#00cc96\", \"symbol\": \"circle\"}, \"mode\": \"markers\", \"name\": \"Miner\", \"orientation\": \"v\", \"showlegend\": true, \"type\": \"scatter\", \"x\": [115.48006936457459], \"xaxis\": \"x\", \"y\": [-154.74076218162347], \"yaxis\": \"y\"}, {\"hovertemplate\": \"color=Sparky<br>0=%{x}<br>1=%{y}<extra></extra>\", \"legendgroup\": \"Sparky\", \"marker\": {\"color\": \"#ab63fa\", \"symbol\": \"circle\"}, \"mode\": \"markers\", \"name\": \"Sparky\", \"orientation\": \"v\", \"showlegend\": true, \"type\": \"scatter\", \"x\": [351.4856897122691], \"xaxis\": \"x\", \"y\": [1689.134814177508], \"yaxis\": \"y\"}, {\"hovertemplate\": \"color=Bowler<br>0=%{x}<br>1=%{y}<extra></extra>\", \"legendgroup\": \"Bowler\", \"marker\": {\"color\": \"#FFA15A\", \"symbol\": \"circle\"}, \"mode\": \"markers\", \"name\": \"Bowler\", \"orientation\": \"v\", \"showlegend\": true, \"type\": \"scatter\", \"x\": [713.1752785492703], \"xaxis\": \"x\", \"y\": [99.10706043382798], \"yaxis\": \"y\"}, {\"hovertemplate\": \"color=Lumberjack<br>0=%{x}<br>1=%{y}<extra></extra>\", \"legendgroup\": \"Lumberjack\", \"marker\": {\"color\": \"#19d3f3\", \"symbol\": \"circle\"}, \"mode\": \"markers\", \"name\": \"Lumberjack\", \"orientation\": \"v\", \"showlegend\": true, \"type\": \"scatter\", \"x\": [182.6773979008725], \"xaxis\": \"x\", \"y\": [-61.7742664895644], \"yaxis\": \"y\"}, {\"hovertemplate\": \"color=Battle Ram<br>0=%{x}<br>1=%{y}<extra></extra>\", \"legendgroup\": \"Battle Ram\", \"marker\": {\"color\": \"#FF6692\", \"symbol\": \"circle\"}, \"mode\": \"markers\", \"name\": \"Battle Ram\", \"orientation\": \"v\", \"showlegend\": true, \"type\": \"scatter\", \"x\": [445.646771657782], \"xaxis\": \"x\", \"y\": [-125.52015309173905], \"yaxis\": \"y\"}, {\"hovertemplate\": \"color=Inferno Dragon<br>0=%{x}<br>1=%{y}<extra></extra>\", \"legendgroup\": \"Inferno Dragon\", \"marker\": {\"color\": \"#B6E880\", \"symbol\": \"circle\"}, \"mode\": \"markers\", \"name\": \"Inferno Dragon\", \"orientation\": \"v\", \"showlegend\": true, \"type\": \"scatter\", \"x\": [183.66483949488693], \"xaxis\": \"x\", \"y\": [-8.304694728797228], \"yaxis\": \"y\"}, {\"hovertemplate\": \"color=Ice Golem<br>0=%{x}<br>1=%{y}<extra></extra>\", \"legendgroup\": \"Ice Golem\", \"marker\": {\"color\": \"#FF97FF\", \"symbol\": \"circle\"}, \"mode\": \"markers\", \"name\": \"Ice Golem\", \"orientation\": \"v\", \"showlegend\": true, \"type\": \"scatter\", \"x\": [111.56615476190154], \"xaxis\": \"x\", \"y\": [-280.621986079592], \"yaxis\": \"y\"}, {\"hovertemplate\": \"color=Mega Minion<br>0=%{x}<br>1=%{y}<extra></extra>\", \"legendgroup\": \"Mega Minion\", \"marker\": {\"color\": \"#FECB52\", \"symbol\": \"circle\"}, \"mode\": \"markers\", \"name\": \"Mega Minion\", \"orientation\": \"v\", \"showlegend\": true, \"type\": \"scatter\", \"x\": [-188.6858894274562], \"xaxis\": \"x\", \"y\": [111.0788644064043], \"yaxis\": \"y\"}, {\"hovertemplate\": \"color=Dart Goblin<br>0=%{x}<br>1=%{y}<extra></extra>\", \"legendgroup\": \"Dart Goblin\", \"marker\": {\"color\": \"#636efa\", \"symbol\": \"circle\"}, \"mode\": \"markers\", \"name\": \"Dart Goblin\", \"orientation\": \"v\", \"showlegend\": true, \"type\": \"scatter\", \"x\": [-669.290427491969], \"xaxis\": \"x\", \"y\": [-167.57415499461223], \"yaxis\": \"y\"}, {\"hovertemplate\": \"color=Goblin Gang<br>0=%{x}<br>1=%{y}<extra></extra>\", \"legendgroup\": \"Goblin Gang\", \"marker\": {\"color\": \"#EF553B\", \"symbol\": \"circle\"}, \"mode\": \"markers\", \"name\": \"Goblin Gang\", \"orientation\": \"v\", \"showlegend\": true, \"type\": \"scatter\", \"x\": [-746.1752187862609], \"xaxis\": \"x\", \"y\": [-203.27214159775073], \"yaxis\": \"y\"}, {\"hovertemplate\": \"color=Electro Wizard<br>0=%{x}<br>1=%{y}<extra></extra>\", \"legendgroup\": \"Electro Wizard\", \"marker\": {\"color\": \"#00cc96\", \"symbol\": \"circle\"}, \"mode\": \"markers\", \"name\": \"Electro Wizard\", \"orientation\": \"v\", \"showlegend\": true, \"type\": \"scatter\", \"x\": [-294.67570390894076], \"xaxis\": \"x\", \"y\": [-5.230235094177683], \"yaxis\": \"y\"}, {\"hovertemplate\": \"color=Elite Barbarians<br>0=%{x}<br>1=%{y}<extra></extra>\", \"legendgroup\": \"Elite Barbarians\", \"marker\": {\"color\": \"#ab63fa\", \"symbol\": \"circle\"}, \"mode\": \"markers\", \"name\": \"Elite Barbarians\", \"orientation\": \"v\", \"showlegend\": true, \"type\": \"scatter\", \"x\": [99.47152430369674], \"xaxis\": \"x\", \"y\": [80.09349691600822], \"yaxis\": \"y\"}, {\"hovertemplate\": \"color=Hunter<br>0=%{x}<br>1=%{y}<extra></extra>\", \"legendgroup\": \"Hunter\", \"marker\": {\"color\": \"#FFA15A\", \"symbol\": \"circle\"}, \"mode\": \"markers\", \"name\": \"Hunter\", \"orientation\": \"v\", \"showlegend\": true, \"type\": \"scatter\", \"x\": [-196.8485122773968], \"xaxis\": \"x\", \"y\": [1198.5390227309988], \"yaxis\": \"y\"}, {\"hovertemplate\": \"color=Executioner<br>0=%{x}<br>1=%{y}<extra></extra>\", \"legendgroup\": \"Executioner\", \"marker\": {\"color\": \"#19d3f3\", \"symbol\": \"circle\"}, \"mode\": \"markers\", \"name\": \"Executioner\", \"orientation\": \"v\", \"showlegend\": true, \"type\": \"scatter\", \"x\": [118.4361644215312], \"xaxis\": \"x\", \"y\": [273.78805539826453], \"yaxis\": \"y\"}, {\"hovertemplate\": \"color=Bandit<br>0=%{x}<br>1=%{y}<extra></extra>\", \"legendgroup\": \"Bandit\", \"marker\": {\"color\": \"#FF6692\", \"symbol\": \"circle\"}, \"mode\": \"markers\", \"name\": \"Bandit\", \"orientation\": \"v\", \"showlegend\": true, \"type\": \"scatter\", \"x\": [-128.84830025347262], \"xaxis\": \"x\", \"y\": [-118.28237345860155], \"yaxis\": \"y\"}, {\"hovertemplate\": \"color=Royal Recruits<br>0=%{x}<br>1=%{y}<extra></extra>\", \"legendgroup\": \"Royal Recruits\", \"marker\": {\"color\": \"#B6E880\", \"symbol\": \"circle\"}, \"mode\": \"markers\", \"name\": \"Royal Recruits\", \"orientation\": \"v\", \"showlegend\": true, \"type\": \"scatter\", \"x\": [-243.26304167439096], \"xaxis\": \"x\", \"y\": [-201.31225285766317], \"yaxis\": \"y\"}, {\"hovertemplate\": \"color=Night Witch<br>0=%{x}<br>1=%{y}<extra></extra>\", \"legendgroup\": \"Night Witch\", \"marker\": {\"color\": \"#FF97FF\", \"symbol\": \"circle\"}, \"mode\": \"markers\", \"name\": \"Night Witch\", \"orientation\": \"v\", \"showlegend\": true, \"type\": \"scatter\", \"x\": [-131.56020699147678], \"xaxis\": \"x\", \"y\": [-89.55658587542646], \"yaxis\": \"y\"}, {\"hovertemplate\": \"color=Bats<br>0=%{x}<br>1=%{y}<extra></extra>\", \"legendgroup\": \"Bats\", \"marker\": {\"color\": \"#FECB52\", \"symbol\": \"circle\"}, \"mode\": \"markers\", \"name\": \"Bats\", \"orientation\": \"v\", \"showlegend\": true, \"type\": \"scatter\", \"x\": [-818.4630537115489], \"xaxis\": \"x\", \"y\": [-225.82736433179613], \"yaxis\": \"y\"}, {\"hovertemplate\": \"color=Royal Ghost<br>0=%{x}<br>1=%{y}<extra></extra>\", \"legendgroup\": \"Royal Ghost\", \"marker\": {\"color\": \"#636efa\", \"symbol\": \"circle\"}, \"mode\": \"markers\", \"name\": \"Royal Ghost\", \"orientation\": \"v\", \"showlegend\": true, \"type\": \"scatter\", \"x\": [118.3018297378462], \"xaxis\": \"x\", \"y\": [56.063219789545414], \"yaxis\": \"y\"}, {\"hovertemplate\": \"color=Ram Rider<br>0=%{x}<br>1=%{y}<extra></extra>\", \"legendgroup\": \"Ram Rider\", \"marker\": {\"color\": \"#EF553B\", \"symbol\": \"circle\"}, \"mode\": \"markers\", \"name\": \"Ram Rider\", \"orientation\": \"v\", \"showlegend\": true, \"type\": \"scatter\", \"x\": [580.7090712074731], \"xaxis\": \"x\", \"y\": [-72.41494387759683], \"yaxis\": \"y\"}, {\"hovertemplate\": \"color=Zappies<br>0=%{x}<br>1=%{y}<extra></extra>\", \"legendgroup\": \"Zappies\", \"marker\": {\"color\": \"#00cc96\", \"symbol\": \"circle\"}, \"mode\": \"markers\", \"name\": \"Zappies\", \"orientation\": \"v\", \"showlegend\": true, \"type\": \"scatter\", \"x\": [-446.3710260126493], \"xaxis\": \"x\", \"y\": [-195.53908080213395], \"yaxis\": \"y\"}, {\"hovertemplate\": \"color=Rascals<br>0=%{x}<br>1=%{y}<extra></extra>\", \"legendgroup\": \"Rascals\", \"marker\": {\"color\": \"#ab63fa\", \"symbol\": \"circle\"}, \"mode\": \"markers\", \"name\": \"Rascals\", \"orientation\": \"v\", \"showlegend\": true, \"type\": \"scatter\", \"x\": [1056.0782036006722], \"xaxis\": \"x\", \"y\": [-148.351522317106], \"yaxis\": \"y\"}, {\"hovertemplate\": \"color=Cannon Cart<br>0=%{x}<br>1=%{y}<extra></extra>\", \"legendgroup\": \"Cannon Cart\", \"marker\": {\"color\": \"#FFA15A\", \"symbol\": \"circle\"}, \"mode\": \"markers\", \"name\": \"Cannon Cart\", \"orientation\": \"v\", \"showlegend\": true, \"type\": \"scatter\", \"x\": [603.7066786909439], \"xaxis\": \"x\", \"y\": [-95.10777044506686], \"yaxis\": \"y\"}, {\"hovertemplate\": \"color=Mega Knight<br>0=%{x}<br>1=%{y}<extra></extra>\", \"legendgroup\": \"Mega Knight\", \"marker\": {\"color\": \"#19d3f3\", \"symbol\": \"circle\"}, \"mode\": \"markers\", \"name\": \"Mega Knight\", \"orientation\": \"v\", \"showlegend\": true, \"type\": \"scatter\", \"x\": [2410.780585018991], \"xaxis\": \"x\", \"y\": [69.29723508570319], \"yaxis\": \"y\"}, {\"hovertemplate\": \"color=Skeleton Barrel<br>0=%{x}<br>1=%{y}<extra></extra>\", \"legendgroup\": \"Skeleton Barrel\", \"marker\": {\"color\": \"#FF6692\", \"symbol\": \"circle\"}, \"mode\": \"markers\", \"name\": \"Skeleton Barrel\", \"orientation\": \"v\", \"showlegend\": true, \"type\": \"scatter\", \"x\": [-342.48716464881363], \"xaxis\": \"x\", \"y\": [-190.251000893495], \"yaxis\": \"y\"}, {\"hovertemplate\": \"color=Flying Machine<br>0=%{x}<br>1=%{y}<extra></extra>\", \"legendgroup\": \"Flying Machine\", \"marker\": {\"color\": \"#B6E880\", \"symbol\": \"circle\"}, \"mode\": \"markers\", \"name\": \"Flying Machine\", \"orientation\": \"v\", \"showlegend\": true, \"type\": \"scatter\", \"x\": [-375.42506544800364], \"xaxis\": \"x\", \"y\": [-93.34498811627417], \"yaxis\": \"y\"}, {\"hovertemplate\": \"color=Wall Breakers<br>0=%{x}<br>1=%{y}<extra></extra>\", \"legendgroup\": \"Wall Breakers\", \"marker\": {\"color\": \"#FF97FF\", \"symbol\": \"circle\"}, \"mode\": \"markers\", \"name\": \"Wall Breakers\", \"orientation\": \"v\", \"showlegend\": true, \"type\": \"scatter\", \"x\": [-602.4332377488844], \"xaxis\": \"x\", \"y\": [373.7247930480153], \"yaxis\": \"y\"}, {\"hovertemplate\": \"color=Royal Hogs<br>0=%{x}<br>1=%{y}<extra></extra>\", \"legendgroup\": \"Royal Hogs\", \"marker\": {\"color\": \"#FECB52\", \"symbol\": \"circle\"}, \"mode\": \"markers\", \"name\": \"Royal Hogs\", \"orientation\": \"v\", \"showlegend\": true, \"type\": \"scatter\", \"x\": [-189.76837696224976], \"xaxis\": \"x\", \"y\": [-290.97220687379905], \"yaxis\": \"y\"}, {\"hovertemplate\": \"color=Goblin Giant<br>0=%{x}<br>1=%{y}<extra></extra>\", \"legendgroup\": \"Goblin Giant\", \"marker\": {\"color\": \"#636efa\", \"symbol\": \"circle\"}, \"mode\": \"markers\", \"name\": \"Goblin Giant\", \"orientation\": \"v\", \"showlegend\": true, \"type\": \"scatter\", \"x\": [1833.5630449039147], \"xaxis\": \"x\", \"y\": [-117.1837305337235], \"yaxis\": \"y\"}, {\"hovertemplate\": \"color=Fisherman<br>0=%{x}<br>1=%{y}<extra></extra>\", \"legendgroup\": \"Fisherman\", \"marker\": {\"color\": \"#EF553B\", \"symbol\": \"circle\"}, \"mode\": \"markers\", \"name\": \"Fisherman\", \"orientation\": \"v\", \"showlegend\": true, \"type\": \"scatter\", \"x\": [-79.01651818558261], \"xaxis\": \"x\", \"y\": [-118.23499828301446], \"yaxis\": \"y\"}, {\"hovertemplate\": \"color=Magic Archer<br>0=%{x}<br>1=%{y}<extra></extra>\", \"legendgroup\": \"Magic Archer\", \"marker\": {\"color\": \"#00cc96\", \"symbol\": \"circle\"}, \"mode\": \"markers\", \"name\": \"Magic Archer\", \"orientation\": \"v\", \"showlegend\": true, \"type\": \"scatter\", \"x\": [-448.70094755919143], \"xaxis\": \"x\", \"y\": [-98.96653976354818], \"yaxis\": \"y\"}, {\"hovertemplate\": \"color=Electro Dragon<br>0=%{x}<br>1=%{y}<extra></extra>\", \"legendgroup\": \"Electro Dragon\", \"marker\": {\"color\": \"#ab63fa\", \"symbol\": \"circle\"}, \"mode\": \"markers\", \"name\": \"Electro Dragon\", \"orientation\": \"v\", \"showlegend\": true, \"type\": \"scatter\", \"x\": [-96.02124623643401], \"xaxis\": \"x\", \"y\": [-63.14829771856976], \"yaxis\": \"y\"}, {\"hovertemplate\": \"color=Firecracker<br>0=%{x}<br>1=%{y}<extra></extra>\", \"legendgroup\": \"Firecracker\", \"marker\": {\"color\": \"#FFA15A\", \"symbol\": \"circle\"}, \"mode\": \"markers\", \"name\": \"Firecracker\", \"orientation\": \"v\", \"showlegend\": true, \"type\": \"scatter\", \"x\": [-636.9264483880659], \"xaxis\": \"x\", \"y\": [240.04124590847522], \"yaxis\": \"y\"}, {\"hovertemplate\": \"color=Elixir Golem<br>0=%{x}<br>1=%{y}<extra></extra>\", \"legendgroup\": \"Elixir Golem\", \"marker\": {\"color\": \"#19d3f3\", \"symbol\": \"circle\"}, \"mode\": \"markers\", \"name\": \"Elixir Golem\", \"orientation\": \"v\", \"showlegend\": true, \"type\": \"scatter\", \"x\": [1295.0854777987422], \"xaxis\": \"x\", \"y\": [-228.78232756541337], \"yaxis\": \"y\"}, {\"hovertemplate\": \"color=Battle Healer<br>0=%{x}<br>1=%{y}<extra></extra>\", \"legendgroup\": \"Battle Healer\", \"marker\": {\"color\": \"#FF6692\", \"symbol\": \"circle\"}, \"mode\": \"markers\", \"name\": \"Battle Healer\", \"orientation\": \"v\", \"showlegend\": true, \"type\": \"scatter\", \"x\": [541.4998905229108], \"xaxis\": \"x\", \"y\": [-169.65296234239554], \"yaxis\": \"y\"}, {\"hovertemplate\": \"color=Skeleton Dragons<br>0=%{x}<br>1=%{y}<extra></extra>\", \"legendgroup\": \"Skeleton Dragons\", \"marker\": {\"color\": \"#B6E880\", \"symbol\": \"circle\"}, \"mode\": \"markers\", \"name\": \"Skeleton Dragons\", \"orientation\": \"v\", \"showlegend\": true, \"type\": \"scatter\", \"x\": [-448.8743583779176], \"xaxis\": \"x\", \"y\": [-30.6911193774686], \"yaxis\": \"y\"}, {\"hovertemplate\": \"color=Cannon<br>0=%{x}<br>1=%{y}<extra></extra>\", \"legendgroup\": \"Cannon\", \"marker\": {\"color\": \"#FF97FF\", \"symbol\": \"circle\"}, \"mode\": \"markers\", \"name\": \"Cannon\", \"orientation\": \"v\", \"showlegend\": true, \"type\": \"scatter\", \"x\": [-143.96924266781457], \"xaxis\": \"x\", \"y\": [-159.1032463722056], \"yaxis\": \"y\"}, {\"hovertemplate\": \"color=Goblin Hut<br>0=%{x}<br>1=%{y}<extra></extra>\", \"legendgroup\": \"Goblin Hut\", \"marker\": {\"color\": \"#FECB52\", \"symbol\": \"circle\"}, \"mode\": \"markers\", \"name\": \"Goblin Hut\", \"orientation\": \"v\", \"showlegend\": true, \"type\": \"scatter\", \"x\": [-44.06173070507273], \"xaxis\": \"x\", \"y\": [-225.31277666286533], \"yaxis\": \"y\"}, {\"hovertemplate\": \"color=Mortar<br>0=%{x}<br>1=%{y}<extra></extra>\", \"legendgroup\": \"Mortar\", \"marker\": {\"color\": \"#636efa\", \"symbol\": \"circle\"}, \"mode\": \"markers\", \"name\": \"Mortar\", \"orientation\": \"v\", \"showlegend\": true, \"type\": \"scatter\", \"x\": [336.7325166739245], \"xaxis\": \"x\", \"y\": [63.506061859576036], \"yaxis\": \"y\"}, {\"hovertemplate\": \"color=Inferno Tower<br>0=%{x}<br>1=%{y}<extra></extra>\", \"legendgroup\": \"Inferno Tower\", \"marker\": {\"color\": \"#EF553B\", \"symbol\": \"circle\"}, \"mode\": \"markers\", \"name\": \"Inferno Tower\", \"orientation\": \"v\", \"showlegend\": true, \"type\": \"scatter\", \"x\": [550.8922191431708], \"xaxis\": \"x\", \"y\": [177.59898785688554], \"yaxis\": \"y\"}, {\"hovertemplate\": \"color=Bomb Tower<br>0=%{x}<br>1=%{y}<extra></extra>\", \"legendgroup\": \"Bomb Tower\", \"marker\": {\"color\": \"#00cc96\", \"symbol\": \"circle\"}, \"mode\": \"markers\", \"name\": \"Bomb Tower\", \"orientation\": \"v\", \"showlegend\": true, \"type\": \"scatter\", \"x\": [247.63993765269296], \"xaxis\": \"x\", \"y\": [-66.2478908429831], \"yaxis\": \"y\"}, {\"hovertemplate\": \"color=Barbarian Hut<br>0=%{x}<br>1=%{y}<extra></extra>\", \"legendgroup\": \"Barbarian Hut\", \"marker\": {\"color\": \"#ab63fa\", \"symbol\": \"circle\"}, \"mode\": \"markers\", \"name\": \"Barbarian Hut\", \"orientation\": \"v\", \"showlegend\": true, \"type\": \"scatter\", \"x\": [571.7100321471966], \"xaxis\": \"x\", \"y\": [-98.21614622662108], \"yaxis\": \"y\"}, {\"hovertemplate\": \"color=Tesla<br>0=%{x}<br>1=%{y}<extra></extra>\", \"legendgroup\": \"Tesla\", \"marker\": {\"color\": \"#FFA15A\", \"symbol\": \"circle\"}, \"mode\": \"markers\", \"name\": \"Tesla\", \"orientation\": \"v\", \"showlegend\": true, \"type\": \"scatter\", \"x\": [59.25031113948734], \"xaxis\": \"x\", \"y\": [-75.62604460428236], \"yaxis\": \"y\"}, {\"hovertemplate\": \"color=Elixir Collector<br>0=%{x}<br>1=%{y}<extra></extra>\", \"legendgroup\": \"Elixir Collector\", \"marker\": {\"color\": \"#19d3f3\", \"symbol\": \"circle\"}, \"mode\": \"markers\", \"name\": \"Elixir Collector\", \"orientation\": \"v\", \"showlegend\": true, \"type\": \"scatter\", \"x\": [-1.5576760195572579], \"xaxis\": \"x\", \"y\": [-343.3862517761912], \"yaxis\": \"y\"}, {\"hovertemplate\": \"color=X-Bow<br>0=%{x}<br>1=%{y}<extra></extra>\", \"legendgroup\": \"X-Bow\", \"marker\": {\"color\": \"#FF6692\", \"symbol\": \"circle\"}, \"mode\": \"markers\", \"name\": \"X-Bow\", \"orientation\": \"v\", \"showlegend\": true, \"type\": \"scatter\", \"x\": [493.42950093043646], \"xaxis\": \"x\", \"y\": [-306.22558823589304], \"yaxis\": \"y\"}, {\"hovertemplate\": \"color=Tombstone<br>0=%{x}<br>1=%{y}<extra></extra>\", \"legendgroup\": \"Tombstone\", \"marker\": {\"color\": \"#B6E880\", \"symbol\": \"circle\"}, \"mode\": \"markers\", \"name\": \"Tombstone\", \"orientation\": \"v\", \"showlegend\": true, \"type\": \"scatter\", \"x\": [-461.7028599086488], \"xaxis\": \"x\", \"y\": [-249.52433533088322], \"yaxis\": \"y\"}, {\"hovertemplate\": \"color=Furnace<br>0=%{x}<br>1=%{y}<extra></extra>\", \"legendgroup\": \"Furnace\", \"marker\": {\"color\": \"#FF97FF\", \"symbol\": \"circle\"}, \"mode\": \"markers\", \"name\": \"Furnace\", \"orientation\": \"v\", \"showlegend\": true, \"type\": \"scatter\", \"x\": [-46.03898129886021], \"xaxis\": \"x\", \"y\": [-101.06874499064094], \"yaxis\": \"y\"}, {\"hovertemplate\": \"color=Goblin Cage<br>0=%{x}<br>1=%{y}<extra></extra>\", \"legendgroup\": \"Goblin Cage\", \"marker\": {\"color\": \"#FECB52\", \"symbol\": \"circle\"}, \"mode\": \"markers\", \"name\": \"Goblin Cage\", \"orientation\": \"v\", \"showlegend\": true, \"type\": \"scatter\", \"x\": [778.7637797510359], \"xaxis\": \"x\", \"y\": [49.70752141598432], \"yaxis\": \"y\"}, {\"hovertemplate\": \"color=Fireball<br>0=%{x}<br>1=%{y}<extra></extra>\", \"legendgroup\": \"Fireball\", \"marker\": {\"color\": \"#636efa\", \"symbol\": \"circle\"}, \"mode\": \"markers\", \"name\": \"Fireball\", \"orientation\": \"v\", \"showlegend\": true, \"type\": \"scatter\", \"x\": [-907.0161131444663], \"xaxis\": \"x\", \"y\": [785.0804057877583], \"yaxis\": \"y\"}, {\"hovertemplate\": \"color=Arrows<br>0=%{x}<br>1=%{y}<extra></extra>\", \"legendgroup\": \"Arrows\", \"marker\": {\"color\": \"#EF553B\", \"symbol\": \"circle\"}, \"mode\": \"markers\", \"name\": \"Arrows\", \"orientation\": \"v\", \"showlegend\": true, \"type\": \"scatter\", \"x\": [-897.3454616925031], \"xaxis\": \"x\", \"y\": [254.7041441506785], \"yaxis\": \"y\"}, {\"hovertemplate\": \"color=Rage<br>0=%{x}<br>1=%{y}<extra></extra>\", \"legendgroup\": \"Rage\", \"marker\": {\"color\": \"#00cc96\", \"symbol\": \"circle\"}, \"mode\": \"markers\", \"name\": \"Rage\", \"orientation\": \"v\", \"showlegend\": true, \"type\": \"scatter\", \"x\": [-886.598982805914], \"xaxis\": \"x\", \"y\": [-343.8921367667292], \"yaxis\": \"y\"}, {\"hovertemplate\": \"color=Rocket<br>0=%{x}<br>1=%{y}<extra></extra>\", \"legendgroup\": \"Rocket\", \"marker\": {\"color\": \"#ab63fa\", \"symbol\": \"circle\"}, \"mode\": \"markers\", \"name\": \"Rocket\", \"orientation\": \"v\", \"showlegend\": true, \"type\": \"scatter\", \"x\": [-930.6145010929911], \"xaxis\": \"x\", \"y\": [2087.370838875449], \"yaxis\": \"y\"}, {\"hovertemplate\": \"color=Goblin Barrel<br>0=%{x}<br>1=%{y}<extra></extra>\", \"legendgroup\": \"Goblin Barrel\", \"marker\": {\"color\": \"#FFA15A\", \"symbol\": \"circle\"}, \"mode\": \"markers\", \"name\": \"Goblin Barrel\", \"orientation\": \"v\", \"showlegend\": true, \"type\": \"scatter\", \"x\": [-880.2402143256626], \"xaxis\": \"x\", \"y\": [-204.71812594015512], \"yaxis\": \"y\"}, {\"hovertemplate\": \"color=Freeze<br>0=%{x}<br>1=%{y}<extra></extra>\", \"legendgroup\": \"Freeze\", \"marker\": {\"color\": \"#19d3f3\", \"symbol\": \"circle\"}, \"mode\": \"markers\", \"name\": \"Freeze\", \"orientation\": \"v\", \"showlegend\": true, \"type\": \"scatter\", \"x\": [-889.9600465901048], \"xaxis\": \"x\", \"y\": [-156.15731679535273], \"yaxis\": \"y\"}, {\"hovertemplate\": \"color=Mirror<br>0=%{x}<br>1=%{y}<extra></extra>\", \"legendgroup\": \"Mirror\", \"marker\": {\"color\": \"#FF6692\", \"symbol\": \"circle\"}, \"mode\": \"markers\", \"name\": \"Mirror\", \"orientation\": \"v\", \"showlegend\": true, \"type\": \"scatter\", \"x\": [-886.598134314015], \"xaxis\": \"x\", \"y\": [-343.8530154379746], \"yaxis\": \"y\"}, {\"hovertemplate\": \"color=Lightning<br>0=%{x}<br>1=%{y}<extra></extra>\", \"legendgroup\": \"Lightning\", \"marker\": {\"color\": \"#B6E880\", \"symbol\": \"circle\"}, \"mode\": \"markers\", \"name\": \"Lightning\", \"orientation\": \"v\", \"showlegend\": true, \"type\": \"scatter\", \"x\": [-895.1970284727017], \"xaxis\": \"x\", \"y\": [999.2663296736777], \"yaxis\": \"y\"}, {\"hovertemplate\": \"color=Zap<br>0=%{x}<br>1=%{y}<extra></extra>\", \"legendgroup\": \"Zap\", \"marker\": {\"color\": \"#FF97FF\", \"symbol\": \"circle\"}, \"mode\": \"markers\", \"name\": \"Zap\", \"orientation\": \"v\", \"showlegend\": true, \"type\": \"scatter\", \"x\": [-892.2708191966653], \"xaxis\": \"x\", \"y\": [-29.997504880153656], \"yaxis\": \"y\"}, {\"hovertemplate\": \"color=Poison<br>0=%{x}<br>1=%{y}<extra></extra>\", \"legendgroup\": \"Poison\", \"marker\": {\"color\": \"#FECB52\", \"symbol\": \"circle\"}, \"mode\": \"markers\", \"name\": \"Poison\", \"orientation\": \"v\", \"showlegend\": true, \"type\": \"scatter\", \"x\": [-889.2429247315164], \"xaxis\": \"x\", \"y\": [-195.64048467075534], \"yaxis\": \"y\"}, {\"hovertemplate\": \"color=Graveyard<br>0=%{x}<br>1=%{y}<extra></extra>\", \"legendgroup\": \"Graveyard\", \"marker\": {\"color\": \"#636efa\", \"symbol\": \"circle\"}, \"mode\": \"markers\", \"name\": \"Graveyard\", \"orientation\": \"v\", \"showlegend\": true, \"type\": \"scatter\", \"x\": [-815.5250240537831], \"xaxis\": \"x\", \"y\": [-249.70843232348585], \"yaxis\": \"y\"}, {\"hovertemplate\": \"color=The Log<br>0=%{x}<br>1=%{y}<extra></extra>\", \"legendgroup\": \"The Log\", \"marker\": {\"color\": \"#EF553B\", \"symbol\": \"circle\"}, \"mode\": \"markers\", \"name\": \"The Log\", \"orientation\": \"v\", \"showlegend\": true, \"type\": \"scatter\", \"x\": [-884.4208031632679], \"xaxis\": \"x\", \"y\": [46.187738035159356], \"yaxis\": \"y\"}, {\"hovertemplate\": \"color=Tornado<br>0=%{x}<br>1=%{y}<extra></extra>\", \"legendgroup\": \"Tornado\", \"marker\": {\"color\": \"#00cc96\", \"symbol\": \"circle\"}, \"mode\": \"markers\", \"name\": \"Tornado\", \"orientation\": \"v\", \"showlegend\": true, \"type\": \"scatter\", \"x\": [-892.7679521012088], \"xaxis\": \"x\", \"y\": [-76.43352386388695], \"yaxis\": \"y\"}, {\"hovertemplate\": \"color=Clone<br>0=%{x}<br>1=%{y}<extra></extra>\", \"legendgroup\": \"Clone\", \"marker\": {\"color\": \"#ab63fa\", \"symbol\": \"circle\"}, \"mode\": \"markers\", \"name\": \"Clone\", \"orientation\": \"v\", \"showlegend\": true, \"type\": \"scatter\", \"x\": [-885.6037974299936], \"xaxis\": \"x\", \"y\": [-343.852149946901], \"yaxis\": \"y\"}, {\"hovertemplate\": \"color=Earthquake<br>0=%{x}<br>1=%{y}<extra></extra>\", \"legendgroup\": \"Earthquake\", \"marker\": {\"color\": \"#FFA15A\", \"symbol\": \"circle\"}, \"mode\": \"markers\", \"name\": \"Earthquake\", \"orientation\": \"v\", \"showlegend\": true, \"type\": \"scatter\", \"x\": [-874.3734359017865], \"xaxis\": \"x\", \"y\": [-97.84492865205], \"yaxis\": \"y\"}, {\"hovertemplate\": \"color=Barbarian Barrel<br>0=%{x}<br>1=%{y}<extra></extra>\", \"legendgroup\": \"Barbarian Barrel\", \"marker\": {\"color\": \"#19d3f3\", \"symbol\": \"circle\"}, \"mode\": \"markers\", \"name\": \"Barbarian Barrel\", \"orientation\": \"v\", \"showlegend\": true, \"type\": \"scatter\", \"x\": [-323.38917085463487], \"xaxis\": \"x\", \"y\": [-109.20946730883186], \"yaxis\": \"y\"}, {\"hovertemplate\": \"color=Heal Spirit<br>0=%{x}<br>1=%{y}<extra></extra>\", \"legendgroup\": \"Heal Spirit\", \"marker\": {\"color\": \"#FF6692\", \"symbol\": \"circle\"}, \"mode\": \"markers\", \"name\": \"Heal Spirit\", \"orientation\": \"v\", \"showlegend\": true, \"type\": \"scatter\", \"x\": [-696.2457450331998], \"xaxis\": \"x\", \"y\": [-343.6792814874287], \"yaxis\": \"y\"}, {\"hovertemplate\": \"color=Giant Snowball<br>0=%{x}<br>1=%{y}<extra></extra>\", \"legendgroup\": \"Giant Snowball\", \"marker\": {\"color\": \"#B6E880\", \"symbol\": \"circle\"}, \"mode\": \"markers\", \"name\": \"Giant Snowball\", \"orientation\": \"v\", \"showlegend\": true, \"type\": \"scatter\", \"x\": [-892.2708191966658], \"xaxis\": \"x\", \"y\": [-29.997504880153656], \"yaxis\": \"y\"}, {\"hovertemplate\": \"color=Royal Delivery<br>0=%{x}<br>1=%{y}<extra></extra>\", \"legendgroup\": \"Royal Delivery\", \"marker\": {\"color\": \"#FF97FF\", \"symbol\": \"circle\"}, \"mode\": \"markers\", \"name\": \"Royal Delivery\", \"orientation\": \"v\", \"showlegend\": true, \"type\": \"scatter\", \"x\": [-252.65987446620326], \"xaxis\": \"x\", \"y\": [-41.41299044488776], \"yaxis\": \"y\"}],\n",
       "                        {\"legend\": {\"title\": {\"text\": \"color\"}, \"tracegroupgap\": 0}, \"margin\": {\"t\": 60}, \"template\": {\"data\": {\"bar\": [{\"error_x\": {\"color\": \"#2a3f5f\"}, \"error_y\": {\"color\": \"#2a3f5f\"}, \"marker\": {\"line\": {\"color\": \"#E5ECF6\", \"width\": 0.5}}, \"type\": \"bar\"}], \"barpolar\": [{\"marker\": {\"line\": {\"color\": \"#E5ECF6\", \"width\": 0.5}}, \"type\": \"barpolar\"}], \"carpet\": [{\"aaxis\": {\"endlinecolor\": \"#2a3f5f\", \"gridcolor\": \"white\", \"linecolor\": \"white\", \"minorgridcolor\": \"white\", \"startlinecolor\": \"#2a3f5f\"}, \"baxis\": {\"endlinecolor\": \"#2a3f5f\", \"gridcolor\": \"white\", \"linecolor\": \"white\", \"minorgridcolor\": \"white\", \"startlinecolor\": \"#2a3f5f\"}, \"type\": \"carpet\"}], \"choropleth\": [{\"colorbar\": {\"outlinewidth\": 0, \"ticks\": \"\"}, \"type\": \"choropleth\"}], \"contour\": [{\"colorbar\": {\"outlinewidth\": 0, \"ticks\": \"\"}, \"colorscale\": [[0.0, \"#0d0887\"], [0.1111111111111111, \"#46039f\"], [0.2222222222222222, \"#7201a8\"], [0.3333333333333333, \"#9c179e\"], [0.4444444444444444, \"#bd3786\"], [0.5555555555555556, \"#d8576b\"], [0.6666666666666666, \"#ed7953\"], [0.7777777777777778, \"#fb9f3a\"], [0.8888888888888888, \"#fdca26\"], [1.0, \"#f0f921\"]], \"type\": \"contour\"}], \"contourcarpet\": [{\"colorbar\": {\"outlinewidth\": 0, \"ticks\": \"\"}, \"type\": \"contourcarpet\"}], \"heatmap\": [{\"colorbar\": {\"outlinewidth\": 0, \"ticks\": \"\"}, \"colorscale\": [[0.0, \"#0d0887\"], [0.1111111111111111, \"#46039f\"], [0.2222222222222222, \"#7201a8\"], [0.3333333333333333, \"#9c179e\"], [0.4444444444444444, \"#bd3786\"], [0.5555555555555556, \"#d8576b\"], [0.6666666666666666, \"#ed7953\"], [0.7777777777777778, \"#fb9f3a\"], [0.8888888888888888, \"#fdca26\"], [1.0, \"#f0f921\"]], \"type\": \"heatmap\"}], \"heatmapgl\": [{\"colorbar\": {\"outlinewidth\": 0, \"ticks\": \"\"}, \"colorscale\": [[0.0, \"#0d0887\"], [0.1111111111111111, \"#46039f\"], [0.2222222222222222, \"#7201a8\"], [0.3333333333333333, \"#9c179e\"], [0.4444444444444444, \"#bd3786\"], [0.5555555555555556, \"#d8576b\"], [0.6666666666666666, \"#ed7953\"], [0.7777777777777778, \"#fb9f3a\"], [0.8888888888888888, \"#fdca26\"], [1.0, \"#f0f921\"]], \"type\": \"heatmapgl\"}], \"histogram\": [{\"marker\": {\"colorbar\": {\"outlinewidth\": 0, \"ticks\": \"\"}}, \"type\": \"histogram\"}], \"histogram2d\": [{\"colorbar\": {\"outlinewidth\": 0, \"ticks\": \"\"}, \"colorscale\": [[0.0, \"#0d0887\"], [0.1111111111111111, \"#46039f\"], [0.2222222222222222, \"#7201a8\"], [0.3333333333333333, \"#9c179e\"], [0.4444444444444444, \"#bd3786\"], [0.5555555555555556, \"#d8576b\"], [0.6666666666666666, \"#ed7953\"], [0.7777777777777778, \"#fb9f3a\"], [0.8888888888888888, \"#fdca26\"], [1.0, \"#f0f921\"]], \"type\": \"histogram2d\"}], \"histogram2dcontour\": [{\"colorbar\": {\"outlinewidth\": 0, \"ticks\": \"\"}, \"colorscale\": [[0.0, \"#0d0887\"], [0.1111111111111111, \"#46039f\"], [0.2222222222222222, \"#7201a8\"], [0.3333333333333333, \"#9c179e\"], [0.4444444444444444, \"#bd3786\"], [0.5555555555555556, \"#d8576b\"], [0.6666666666666666, \"#ed7953\"], [0.7777777777777778, \"#fb9f3a\"], [0.8888888888888888, \"#fdca26\"], [1.0, \"#f0f921\"]], \"type\": \"histogram2dcontour\"}], \"mesh3d\": [{\"colorbar\": {\"outlinewidth\": 0, \"ticks\": \"\"}, \"type\": \"mesh3d\"}], \"parcoords\": [{\"line\": {\"colorbar\": {\"outlinewidth\": 0, \"ticks\": \"\"}}, \"type\": \"parcoords\"}], \"pie\": [{\"automargin\": true, \"type\": \"pie\"}], \"scatter\": [{\"marker\": {\"colorbar\": {\"outlinewidth\": 0, \"ticks\": \"\"}}, \"type\": \"scatter\"}], \"scatter3d\": [{\"line\": {\"colorbar\": {\"outlinewidth\": 0, \"ticks\": \"\"}}, \"marker\": {\"colorbar\": {\"outlinewidth\": 0, \"ticks\": \"\"}}, \"type\": \"scatter3d\"}], \"scattercarpet\": [{\"marker\": {\"colorbar\": {\"outlinewidth\": 0, \"ticks\": \"\"}}, \"type\": \"scattercarpet\"}], \"scattergeo\": [{\"marker\": {\"colorbar\": {\"outlinewidth\": 0, \"ticks\": \"\"}}, \"type\": \"scattergeo\"}], \"scattergl\": [{\"marker\": {\"colorbar\": {\"outlinewidth\": 0, \"ticks\": \"\"}}, \"type\": \"scattergl\"}], \"scattermapbox\": [{\"marker\": {\"colorbar\": {\"outlinewidth\": 0, \"ticks\": \"\"}}, \"type\": \"scattermapbox\"}], \"scatterpolar\": [{\"marker\": {\"colorbar\": {\"outlinewidth\": 0, \"ticks\": \"\"}}, \"type\": \"scatterpolar\"}], \"scatterpolargl\": [{\"marker\": {\"colorbar\": {\"outlinewidth\": 0, \"ticks\": \"\"}}, \"type\": \"scatterpolargl\"}], \"scatterternary\": [{\"marker\": {\"colorbar\": {\"outlinewidth\": 0, \"ticks\": \"\"}}, \"type\": \"scatterternary\"}], \"surface\": [{\"colorbar\": {\"outlinewidth\": 0, \"ticks\": \"\"}, \"colorscale\": [[0.0, \"#0d0887\"], [0.1111111111111111, \"#46039f\"], [0.2222222222222222, \"#7201a8\"], [0.3333333333333333, \"#9c179e\"], [0.4444444444444444, \"#bd3786\"], [0.5555555555555556, \"#d8576b\"], [0.6666666666666666, \"#ed7953\"], [0.7777777777777778, \"#fb9f3a\"], [0.8888888888888888, \"#fdca26\"], [1.0, \"#f0f921\"]], \"type\": \"surface\"}], \"table\": [{\"cells\": {\"fill\": {\"color\": \"#EBF0F8\"}, \"line\": {\"color\": \"white\"}}, \"header\": {\"fill\": {\"color\": \"#C8D4E3\"}, \"line\": {\"color\": \"white\"}}, \"type\": \"table\"}]}, \"layout\": {\"annotationdefaults\": {\"arrowcolor\": \"#2a3f5f\", \"arrowhead\": 0, \"arrowwidth\": 1}, \"coloraxis\": {\"colorbar\": {\"outlinewidth\": 0, \"ticks\": \"\"}}, \"colorscale\": {\"diverging\": [[0, \"#8e0152\"], [0.1, \"#c51b7d\"], [0.2, \"#de77ae\"], [0.3, \"#f1b6da\"], [0.4, \"#fde0ef\"], [0.5, \"#f7f7f7\"], [0.6, \"#e6f5d0\"], [0.7, \"#b8e186\"], [0.8, \"#7fbc41\"], [0.9, \"#4d9221\"], [1, \"#276419\"]], \"sequential\": [[0.0, \"#0d0887\"], [0.1111111111111111, \"#46039f\"], [0.2222222222222222, \"#7201a8\"], [0.3333333333333333, \"#9c179e\"], [0.4444444444444444, \"#bd3786\"], [0.5555555555555556, \"#d8576b\"], [0.6666666666666666, \"#ed7953\"], [0.7777777777777778, \"#fb9f3a\"], [0.8888888888888888, \"#fdca26\"], [1.0, \"#f0f921\"]], \"sequentialminus\": [[0.0, \"#0d0887\"], [0.1111111111111111, \"#46039f\"], [0.2222222222222222, \"#7201a8\"], [0.3333333333333333, \"#9c179e\"], [0.4444444444444444, \"#bd3786\"], [0.5555555555555556, \"#d8576b\"], [0.6666666666666666, \"#ed7953\"], [0.7777777777777778, \"#fb9f3a\"], [0.8888888888888888, \"#fdca26\"], [1.0, \"#f0f921\"]]}, \"colorway\": [\"#636efa\", \"#EF553B\", \"#00cc96\", \"#ab63fa\", \"#FFA15A\", \"#19d3f3\", \"#FF6692\", \"#B6E880\", \"#FF97FF\", \"#FECB52\"], \"font\": {\"color\": \"#2a3f5f\"}, \"geo\": {\"bgcolor\": \"white\", \"lakecolor\": \"white\", \"landcolor\": \"#E5ECF6\", \"showlakes\": true, \"showland\": true, \"subunitcolor\": \"white\"}, \"hoverlabel\": {\"align\": \"left\"}, \"hovermode\": \"closest\", \"mapbox\": {\"style\": \"light\"}, \"paper_bgcolor\": \"white\", \"plot_bgcolor\": \"#E5ECF6\", \"polar\": {\"angularaxis\": {\"gridcolor\": \"white\", \"linecolor\": \"white\", \"ticks\": \"\"}, \"bgcolor\": \"#E5ECF6\", \"radialaxis\": {\"gridcolor\": \"white\", \"linecolor\": \"white\", \"ticks\": \"\"}}, \"scene\": {\"xaxis\": {\"backgroundcolor\": \"#E5ECF6\", \"gridcolor\": \"white\", \"gridwidth\": 2, \"linecolor\": \"white\", \"showbackground\": true, \"ticks\": \"\", \"zerolinecolor\": \"white\"}, \"yaxis\": {\"backgroundcolor\": \"#E5ECF6\", \"gridcolor\": \"white\", \"gridwidth\": 2, \"linecolor\": \"white\", \"showbackground\": true, \"ticks\": \"\", \"zerolinecolor\": \"white\"}, \"zaxis\": {\"backgroundcolor\": \"#E5ECF6\", \"gridcolor\": \"white\", \"gridwidth\": 2, \"linecolor\": \"white\", \"showbackground\": true, \"ticks\": \"\", \"zerolinecolor\": \"white\"}}, \"shapedefaults\": {\"line\": {\"color\": \"#2a3f5f\"}}, \"ternary\": {\"aaxis\": {\"gridcolor\": \"white\", \"linecolor\": \"white\", \"ticks\": \"\"}, \"baxis\": {\"gridcolor\": \"white\", \"linecolor\": \"white\", \"ticks\": \"\"}, \"bgcolor\": \"#E5ECF6\", \"caxis\": {\"gridcolor\": \"white\", \"linecolor\": \"white\", \"ticks\": \"\"}}, \"title\": {\"x\": 0.05}, \"xaxis\": {\"automargin\": true, \"gridcolor\": \"white\", \"linecolor\": \"white\", \"ticks\": \"\", \"title\": {\"standoff\": 15}, \"zerolinecolor\": \"white\", \"zerolinewidth\": 2}, \"yaxis\": {\"automargin\": true, \"gridcolor\": \"white\", \"linecolor\": \"white\", \"ticks\": \"\", \"title\": {\"standoff\": 15}, \"zerolinecolor\": \"white\", \"zerolinewidth\": 2}}}, \"xaxis\": {\"anchor\": \"y\", \"domain\": [0.0, 1.0], \"title\": {\"text\": \"0\"}}, \"yaxis\": {\"anchor\": \"x\", \"domain\": [0.0, 1.0], \"title\": {\"text\": \"1\"}}},\n",
       "                        {\"responsive\": true}\n",
       "                    ).then(function(){\n",
       "                            \n",
       "var gd = document.getElementById('86939986-41a6-4306-8afa-4501f70cfa1f');\n",
       "var x = new MutationObserver(function (mutations, observer) {{\n",
       "        var display = window.getComputedStyle(gd).display;\n",
       "        if (!display || display === 'none') {{\n",
       "            console.log([gd, 'removed!']);\n",
       "            Plotly.purge(gd);\n",
       "            observer.disconnect();\n",
       "        }}\n",
       "}});\n",
       "\n",
       "// Listen for the removal of the full notebook cells\n",
       "var notebookContainer = gd.closest('#notebook-container');\n",
       "if (notebookContainer) {{\n",
       "    x.observe(notebookContainer, {childList: true});\n",
       "}}\n",
       "\n",
       "// Listen for the clearing of the current output cell\n",
       "var outputEl = gd.closest('.output');\n",
       "if (outputEl) {{\n",
       "    x.observe(outputEl, {childList: true});\n",
       "}}\n",
       "\n",
       "                        })\n",
       "                };\n",
       "                });\n",
       "            </script>\n",
       "        </div>"
      ]
     },
     "metadata": {},
     "output_type": "display_data"
    }
   ],
   "source": [
    "# https://plotly.com/python/pca-visualization/\n",
    "import plotly.express as px\n",
    "from sklearn.decomposition import PCA\n",
    "\n",
    "pca = PCA(n_components=2)\n",
    "components = pca.fit_transform(vals)\n",
    "\n",
    "fig = px.scatter(components, x=0, y=1, color=names)\n",
    "fig.show()"
   ]
  },
  {
   "cell_type": "code",
   "execution_count": 9,
   "metadata": {},
   "outputs": [
    {
     "data": {
      "application/vnd.plotly.v1+json": {
       "config": {
        "plotlyServerURL": "https://plot.ly"
       },
       "data": [
        {
         "hovertemplate": "color=Knight<br>PC 1=%{x}<br>PC 2=%{y}<br>PC 3=%{z}<extra></extra>",
         "legendgroup": "Knight",
         "marker": {
          "color": "#636efa",
          "symbol": "circle"
         },
         "mode": "markers",
         "name": "Knight",
         "scene": "scene",
         "showlegend": true,
         "type": "scatter3d",
         "x": [
          571.2348178741614
         ],
         "y": [
          -107.78884379980921
         ],
         "z": [
          37.372413587502734
         ]
        },
        {
         "hovertemplate": "color=Archers<br>PC 1=%{x}<br>PC 2=%{y}<br>PC 3=%{z}<extra></extra>",
         "legendgroup": "Archers",
         "marker": {
          "color": "#EF553B",
          "symbol": "circle"
         },
         "mode": "markers",
         "name": "Archers",
         "scene": "scene",
         "showlegend": true,
         "type": "scatter3d",
         "x": [
          -633.6361292442901
         ],
         "y": [
          -186.91070192108887
         ],
         "z": [
          -15.530399324794857
         ]
        },
        {
         "hovertemplate": "color=Goblins<br>PC 1=%{x}<br>PC 2=%{y}<br>PC 3=%{z}<extra></extra>",
         "legendgroup": "Goblins",
         "marker": {
          "color": "#00cc96",
          "symbol": "circle"
         },
         "mode": "markers",
         "name": "Goblins",
         "scene": "scene",
         "showlegend": true,
         "type": "scatter3d",
         "x": [
          -713.8035383912546
         ],
         "y": [
          -204.56405715224344
         ],
         "z": [
          68.5524913905862
         ]
        },
        {
         "hovertemplate": "color=Giant<br>PC 1=%{x}<br>PC 2=%{y}<br>PC 3=%{z}<extra></extra>",
         "legendgroup": "Giant",
         "marker": {
          "color": "#ab63fa",
          "symbol": "circle"
         },
         "mode": "markers",
         "name": "Giant",
         "scene": "scene",
         "showlegend": true,
         "type": "scatter3d",
         "x": [
          2392.2883485716047
         ],
         "y": [
          -153.97337314256146
         ],
         "z": [
          -50.90752283476274
         ]
        },
        {
         "hovertemplate": "color=P.E.K.K.A<br>PC 1=%{x}<br>PC 2=%{y}<br>PC 3=%{z}<extra></extra>",
         "legendgroup": "P.E.K.K.A",
         "marker": {
          "color": "#FFA15A",
          "symbol": "circle"
         },
         "mode": "markers",
         "name": "P.E.K.K.A",
         "scene": "scene",
         "showlegend": true,
         "type": "scatter3d",
         "x": [
          2271.428748505758
         ],
         "y": [
          611.9644331672505
         ],
         "z": [
          292.26649793948843
         ]
        },
        {
         "hovertemplate": "color=Minions<br>PC 1=%{x}<br>PC 2=%{y}<br>PC 3=%{z}<extra></extra>",
         "legendgroup": "Minions",
         "marker": {
          "color": "#19d3f3",
          "symbol": "circle"
         },
         "mode": "markers",
         "name": "Minions",
         "scene": "scene",
         "showlegend": true,
         "type": "scatter3d",
         "x": [
          -695.5296140666276
         ],
         "y": [
          -195.77475958707896
         ],
         "z": [
          -11.185750267391555
         ]
        },
        {
         "hovertemplate": "color=Balloon<br>PC 1=%{x}<br>PC 2=%{y}<br>PC 3=%{z}<extra></extra>",
         "legendgroup": "Balloon",
         "marker": {
          "color": "#FF6692",
          "symbol": "circle"
         },
         "mode": "markers",
         "name": "Balloon",
         "scene": "scene",
         "showlegend": true,
         "type": "scatter3d",
         "x": [
          550.3575810452271
         ],
         "y": [
          723.5260160428851
         ],
         "z": [
          241.2864335842419
         ]
        },
        {
         "hovertemplate": "color=Witch<br>PC 1=%{x}<br>PC 2=%{y}<br>PC 3=%{z}<extra></extra>",
         "legendgroup": "Witch",
         "marker": {
          "color": "#B6E880",
          "symbol": "circle"
         },
         "mode": "markers",
         "name": "Witch",
         "scene": "scene",
         "showlegend": true,
         "type": "scatter3d",
         "x": [
          -194.75152283481017
         ],
         "y": [
          -124.72785206021416
         ],
         "z": [
          -53.42234986651742
         ]
        },
        {
         "hovertemplate": "color=Barbarians<br>PC 1=%{x}<br>PC 2=%{y}<br>PC 3=%{z}<extra></extra>",
         "legendgroup": "Barbarians",
         "marker": {
          "color": "#FF97FF",
          "symbol": "circle"
         },
         "mode": "markers",
         "name": "Barbarians",
         "scene": "scene",
         "showlegend": true,
         "type": "scatter3d",
         "x": [
          -323.2547491956851
         ],
         "y": [
          -119.8746637045659
         ],
         "z": [
          86.74570267032178
         ]
        },
        {
         "hovertemplate": "color=Golem<br>PC 1=%{x}<br>PC 2=%{y}<br>PC 3=%{z}<extra></extra>",
         "legendgroup": "Golem",
         "marker": {
          "color": "#FECB52",
          "symbol": "circle"
         },
         "mode": "markers",
         "name": "Golem",
         "scene": "scene",
         "showlegend": true,
         "type": "scatter3d",
         "x": [
          5274.4702270803955
         ],
         "y": [
          -107.57383193604032
         ],
         "z": [
          -208.97378596130457
         ]
        },
        {
         "hovertemplate": "color=Skeletons<br>PC 1=%{x}<br>PC 2=%{y}<br>PC 3=%{z}<extra></extra>",
         "legendgroup": "Skeletons",
         "marker": {
          "color": "#636efa",
          "symbol": "circle"
         },
         "mode": "markers",
         "name": "Skeletons",
         "scene": "scene",
         "showlegend": true,
         "type": "scatter3d",
         "x": [
          -815.5232561348574
         ],
         "y": [
          -249.63295687345493
         ],
         "z": [
          52.29914086959351
         ]
        },
        {
         "hovertemplate": "color=Valkyrie<br>PC 1=%{x}<br>PC 2=%{y}<br>PC 3=%{z}<extra></extra>",
         "legendgroup": "Valkyrie",
         "marker": {
          "color": "#EF553B",
          "symbol": "circle"
         },
         "mode": "markers",
         "name": "Valkyrie",
         "scene": "scene",
         "showlegend": true,
         "type": "scatter3d",
         "x": [
          770.2891920445113
         ],
         "y": [
          65.91036834654214
         ],
         "z": [
          71.99373125495366
         ]
        },
        {
         "hovertemplate": "color=Skeleton Army<br>PC 1=%{x}<br>PC 2=%{y}<br>PC 3=%{z}<extra></extra>",
         "legendgroup": "Skeleton Army",
         "marker": {
          "color": "#00cc96",
          "symbol": "circle"
         },
         "mode": "markers",
         "name": "Skeleton Army",
         "scene": "scene",
         "showlegend": true,
         "type": "scatter3d",
         "x": [
          -815.5270303312547
         ],
         "y": [
          -249.65120060722072
         ],
         "z": [
          52.32054571921521
         ]
        },
        {
         "hovertemplate": "color=Bomber<br>PC 1=%{x}<br>PC 2=%{y}<br>PC 3=%{z}<extra></extra>",
         "legendgroup": "Bomber",
         "marker": {
          "color": "#ab63fa",
          "symbol": "circle"
         },
         "mode": "markers",
         "name": "Bomber",
         "scene": "scene",
         "showlegend": true,
         "type": "scatter3d",
         "x": [
          -479.5622830610958
         ],
         "y": [
          157.09467321901457
         ],
         "z": [
          186.01088186910246
         ]
        },
        {
         "hovertemplate": "color=Musketeer<br>PC 1=%{x}<br>PC 2=%{y}<br>PC 3=%{z}<extra></extra>",
         "legendgroup": "Musketeer",
         "marker": {
          "color": "#FFA15A",
          "symbol": "circle"
         },
         "mode": "markers",
         "name": "Musketeer",
         "scene": "scene",
         "showlegend": true,
         "type": "scatter3d",
         "x": [
          -286.926897794986
         ],
         "y": [
          -24.591862946676116
         ],
         "z": [
          -46.682467598596055
         ]
        },
        {
         "hovertemplate": "color=Baby Dragon<br>PC 1=%{x}<br>PC 2=%{y}<br>PC 3=%{z}<extra></extra>",
         "legendgroup": "Baby Dragon",
         "marker": {
          "color": "#19d3f3",
          "symbol": "circle"
         },
         "mode": "markers",
         "name": "Baby Dragon",
         "scene": "scene",
         "showlegend": true,
         "type": "scatter3d",
         "x": [
          66.43324115513701
         ],
         "y": [
          -50.02909345351522
         ],
         "z": [
          -57.93194258132098
         ]
        },
        {
         "hovertemplate": "color=Prince<br>PC 1=%{x}<br>PC 2=%{y}<br>PC 3=%{z}<extra></extra>",
         "legendgroup": "Prince",
         "marker": {
          "color": "#FF6692",
          "symbol": "circle"
         },
         "mode": "markers",
         "name": "Prince",
         "scene": "scene",
         "showlegend": true,
         "type": "scatter3d",
         "x": [
          797.6563153914751
         ],
         "y": [
          114.47769499131272
         ],
         "z": [
          134.58321417720992
         ]
        },
        {
         "hovertemplate": "color=Wizard<br>PC 1=%{x}<br>PC 2=%{y}<br>PC 3=%{z}<extra></extra>",
         "legendgroup": "Wizard",
         "marker": {
          "color": "#B6E880",
          "symbol": "circle"
         },
         "mode": "markers",
         "name": "Wizard",
         "scene": "scene",
         "showlegend": true,
         "type": "scatter3d",
         "x": [
          -291.91850213096683
         ],
         "y": [
          172.08814580547582
         ],
         "z": [
          -42.63956384893244
         ]
        },
        {
         "hovertemplate": "color=Mini P.E.K.K.A<br>PC 1=%{x}<br>PC 2=%{y}<br>PC 3=%{z}<extra></extra>",
         "legendgroup": "Mini P.E.K.K.A",
         "marker": {
          "color": "#FF97FF",
          "symbol": "circle"
         },
         "mode": "markers",
         "name": "Mini P.E.K.K.A",
         "scene": "scene",
         "showlegend": true,
         "type": "scatter3d",
         "x": [
          277.01573187005215
         ],
         "y": [
          497.6614571633485
         ],
         "z": [
          358.61702392452116
         ]
        },
        {
         "hovertemplate": "color=Spear Goblins<br>PC 1=%{x}<br>PC 2=%{y}<br>PC 3=%{z}<extra></extra>",
         "legendgroup": "Spear Goblins",
         "marker": {
          "color": "#FECB52",
          "symbol": "circle"
         },
         "mode": "markers",
         "name": "Spear Goblins",
         "scene": "scene",
         "showlegend": true,
         "type": "scatter3d",
         "x": [
          -775.6070042879318
         ],
         "y": [
          -225.78318949568614
         ],
         "z": [
          -4.445870525277937
         ]
        },
        {
         "hovertemplate": "color=Giant Skeleton<br>PC 1=%{x}<br>PC 2=%{y}<br>PC 3=%{z}<extra></extra>",
         "legendgroup": "Giant Skeleton",
         "marker": {
          "color": "#636efa",
          "symbol": "circle"
         },
         "mode": "markers",
         "name": "Giant Skeleton",
         "scene": "scene",
         "showlegend": true,
         "type": "scatter3d",
         "x": [
          1943.1002277464665
         ],
         "y": [
          -95.03644030589288
         ],
         "z": [
          -91.4007966333857
         ]
        },
        {
         "hovertemplate": "color=Hog Rider<br>PC 1=%{x}<br>PC 2=%{y}<br>PC 3=%{z}<extra></extra>",
         "legendgroup": "Hog Rider",
         "marker": {
          "color": "#EF553B",
          "symbol": "circle"
         },
         "mode": "markers",
         "name": "Hog Rider",
         "scene": "scene",
         "showlegend": true,
         "type": "scatter3d",
         "x": [
          535.331659329369
         ],
         "y": [
          -108.79063116575283
         ],
         "z": [
          98.71405088431558
         ]
        },
        {
         "hovertemplate": "color=Minion Horde<br>PC 1=%{x}<br>PC 2=%{y}<br>PC 3=%{z}<extra></extra>",
         "legendgroup": "Minion Horde",
         "marker": {
          "color": "#00cc96",
          "symbol": "circle"
         },
         "mode": "markers",
         "name": "Minion Horde",
         "scene": "scene",
         "showlegend": true,
         "type": "scatter3d",
         "x": [
          -695.5282467044964
         ],
         "y": [
          -195.77688006978994
         ],
         "z": [
          -11.183313842442656
         ]
        },
        {
         "hovertemplate": "color=Ice Wizard<br>PC 1=%{x}<br>PC 2=%{y}<br>PC 3=%{z}<extra></extra>",
         "legendgroup": "Ice Wizard",
         "marker": {
          "color": "#ab63fa",
          "symbol": "circle"
         },
         "mode": "markers",
         "name": "Ice Wizard",
         "scene": "scene",
         "showlegend": true,
         "type": "scatter3d",
         "x": [
          -299.0065411641413
         ],
         "y": [
          -178.11680393121458
         ],
         "z": [
          -31.59504243619837
         ]
        },
        {
         "hovertemplate": "color=Royal Giant<br>PC 1=%{x}<br>PC 2=%{y}<br>PC 3=%{z}<extra></extra>",
         "legendgroup": "Royal Giant",
         "marker": {
          "color": "#FFA15A",
          "symbol": "circle"
         },
         "mode": "markers",
         "name": "Royal Giant",
         "scene": "scene",
         "showlegend": true,
         "type": "scatter3d",
         "x": [
          1666.7957436402096
         ],
         "y": [
          -116.58183382036638
         ],
         "z": [
          22.4555888346965
         ]
        },
        {
         "hovertemplate": "color=Guards<br>PC 1=%{x}<br>PC 2=%{y}<br>PC 3=%{z}<extra></extra>",
         "legendgroup": "Guards",
         "marker": {
          "color": "#19d3f3",
          "symbol": "circle"
         },
         "mode": "markers",
         "name": "Guards",
         "scene": "scene",
         "showlegend": true,
         "type": "scatter3d",
         "x": [
          -791.121098234246
         ],
         "y": [
          -217.28365092896934
         ],
         "z": [
          66.9740483050106
         ]
        },
        {
         "hovertemplate": "color=Princess<br>PC 1=%{x}<br>PC 2=%{y}<br>PC 3=%{z}<extra></extra>",
         "legendgroup": "Princess",
         "marker": {
          "color": "#FF6692",
          "symbol": "circle"
         },
         "mode": "markers",
         "name": "Princess",
         "scene": "scene",
         "showlegend": true,
         "type": "scatter3d",
         "x": [
          -672.1077559228867
         ],
         "y": [
          -35.30300514113995
         ],
         "z": [
          -12.990222040065335
         ]
        },
        {
         "hovertemplate": "color=Dark Prince<br>PC 1=%{x}<br>PC 2=%{y}<br>PC 3=%{z}<extra></extra>",
         "legendgroup": "Dark Prince",
         "marker": {
          "color": "#B6E880",
          "symbol": "circle"
         },
         "mode": "markers",
         "name": "Dark Prince",
         "scene": "scene",
         "showlegend": true,
         "type": "scatter3d",
         "x": [
          346.1476594826432
         ],
         "y": [
          37.80627814083057
         ],
         "z": [
          86.9162475536359
         ]
        },
        {
         "hovertemplate": "color=Three Musketeers<br>PC 1=%{x}<br>PC 2=%{y}<br>PC 3=%{z}<extra></extra>",
         "legendgroup": "Three Musketeers",
         "marker": {
          "color": "#FF97FF",
          "symbol": "circle"
         },
         "mode": "markers",
         "name": "Three Musketeers",
         "scene": "scene",
         "showlegend": true,
         "type": "scatter3d",
         "x": [
          -286.9231674062084
         ],
         "y": [
          -24.59027461507202
         ],
         "z": [
          -46.684400126834525
         ]
        },
        {
         "hovertemplate": "color=Lava Hound<br>PC 1=%{x}<br>PC 2=%{y}<br>PC 3=%{z}<extra></extra>",
         "legendgroup": "Lava Hound",
         "marker": {
          "color": "#FECB52",
          "symbol": "circle"
         },
         "mode": "markers",
         "name": "Lava Hound",
         "scene": "scene",
         "showlegend": true,
         "type": "scatter3d",
         "x": [
          2253.2535723639
         ],
         "y": [
          -222.13487996096276
         ],
         "z": [
          -201.56619093667746
         ]
        },
        {
         "hovertemplate": "color=Ice Spirit<br>PC 1=%{x}<br>PC 2=%{y}<br>PC 3=%{z}<extra></extra>",
         "legendgroup": "Ice Spirit",
         "marker": {
          "color": "#636efa",
          "symbol": "circle"
         },
         "mode": "markers",
         "name": "Ice Spirit",
         "scene": "scene",
         "showlegend": true,
         "type": "scatter3d",
         "x": [
          -694.4156518829379
         ],
         "y": [
          -142.82914832497332
         ],
         "z": [
          -12.912841573713944
         ]
        },
        {
         "hovertemplate": "color=Fire Spirits<br>PC 1=%{x}<br>PC 2=%{y}<br>PC 3=%{z}<extra></extra>",
         "legendgroup": "Fire Spirits",
         "marker": {
          "color": "#EF553B",
          "symbol": "circle"
         },
         "mode": "markers",
         "name": "Fire Spirits",
         "scene": "scene",
         "showlegend": true,
         "type": "scatter3d",
         "x": [
          -796.9009631405004
         ],
         "y": [
          48.26738064997494
         ],
         "z": [
          -7.8500684004585715
         ]
        },
        {
         "hovertemplate": "color=Miner<br>PC 1=%{x}<br>PC 2=%{y}<br>PC 3=%{z}<extra></extra>",
         "legendgroup": "Miner",
         "marker": {
          "color": "#00cc96",
          "symbol": "circle"
         },
         "mode": "markers",
         "name": "Miner",
         "scene": "scene",
         "showlegend": true,
         "type": "scatter3d",
         "x": [
          115.48006936457459
         ],
         "y": [
          -154.74076218162347
         ],
         "z": [
          0.40955994740484636
         ]
        },
        {
         "hovertemplate": "color=Sparky<br>PC 1=%{x}<br>PC 2=%{y}<br>PC 3=%{z}<extra></extra>",
         "legendgroup": "Sparky",
         "marker": {
          "color": "#ab63fa",
          "symbol": "circle"
         },
         "mode": "markers",
         "name": "Sparky",
         "scene": "scene",
         "showlegend": true,
         "type": "scatter3d",
         "x": [
          351.4856897122691
         ],
         "y": [
          1689.134814177508
         ],
         "z": [
          751.3217144796045
         ]
        },
        {
         "hovertemplate": "color=Bowler<br>PC 1=%{x}<br>PC 2=%{y}<br>PC 3=%{z}<extra></extra>",
         "legendgroup": "Bowler",
         "marker": {
          "color": "#FFA15A",
          "symbol": "circle"
         },
         "mode": "markers",
         "name": "Bowler",
         "scene": "scene",
         "showlegend": true,
         "type": "scatter3d",
         "x": [
          713.1752785492703
         ],
         "y": [
          99.10706043382798
         ],
         "z": [
          88.88861366435195
         ]
        },
        {
         "hovertemplate": "color=Lumberjack<br>PC 1=%{x}<br>PC 2=%{y}<br>PC 3=%{z}<extra></extra>",
         "legendgroup": "Lumberjack",
         "marker": {
          "color": "#19d3f3",
          "symbol": "circle"
         },
         "mode": "markers",
         "name": "Lumberjack",
         "scene": "scene",
         "showlegend": true,
         "type": "scatter3d",
         "x": [
          182.6773979008725
         ],
         "y": [
          -61.7742664895644
         ],
         "z": [
          84.46996792442852
         ]
        },
        {
         "hovertemplate": "color=Battle Ram<br>PC 1=%{x}<br>PC 2=%{y}<br>PC 3=%{z}<extra></extra>",
         "legendgroup": "Battle Ram",
         "marker": {
          "color": "#FF6692",
          "symbol": "circle"
         },
         "mode": "markers",
         "name": "Battle Ram",
         "scene": "scene",
         "showlegend": true,
         "type": "scatter3d",
         "x": [
          445.646771657782
         ],
         "y": [
          -125.52015309173905
         ],
         "z": [
          11.065379740699377
         ]
        },
        {
         "hovertemplate": "color=Inferno Dragon<br>PC 1=%{x}<br>PC 2=%{y}<br>PC 3=%{z}<extra></extra>",
         "legendgroup": "Inferno Dragon",
         "marker": {
          "color": "#B6E880",
          "symbol": "circle"
         },
         "mode": "markers",
         "name": "Inferno Dragon",
         "scene": "scene",
         "showlegend": true,
         "type": "scatter3d",
         "x": [
          183.66483949488693
         ],
         "y": [
          -8.304694728797228
         ],
         "z": [
          -76.57654503729478
         ]
        },
        {
         "hovertemplate": "color=Ice Golem<br>PC 1=%{x}<br>PC 2=%{y}<br>PC 3=%{z}<extra></extra>",
         "legendgroup": "Ice Golem",
         "marker": {
          "color": "#FF97FF",
          "symbol": "circle"
         },
         "mode": "markers",
         "name": "Ice Golem",
         "scene": "scene",
         "showlegend": true,
         "type": "scatter3d",
         "x": [
          111.56615476190154
         ],
         "y": [
          -280.621986079592
         ],
         "z": [
          -8.50976327839172
         ]
        },
        {
         "hovertemplate": "color=Mega Minion<br>PC 1=%{x}<br>PC 2=%{y}<br>PC 3=%{z}<extra></extra>",
         "legendgroup": "Mega Minion",
         "marker": {
          "color": "#FECB52",
          "symbol": "circle"
         },
         "mode": "markers",
         "name": "Mega Minion",
         "scene": "scene",
         "showlegend": true,
         "type": "scatter3d",
         "x": [
          -188.6858894274562
         ],
         "y": [
          111.0788644064043
         ],
         "z": [
          -60.94354197131349
         ]
        },
        {
         "hovertemplate": "color=Dart Goblin<br>PC 1=%{x}<br>PC 2=%{y}<br>PC 3=%{z}<extra></extra>",
         "legendgroup": "Dart Goblin",
         "marker": {
          "color": "#636efa",
          "symbol": "circle"
         },
         "mode": "markers",
         "name": "Dart Goblin",
         "scene": "scene",
         "showlegend": true,
         "type": "scatter3d",
         "x": [
          -669.290427491969
         ],
         "y": [
          -167.57415499461223
         ],
         "z": [
          -14.519285160984627
         ]
        },
        {
         "hovertemplate": "color=Goblin Gang<br>PC 1=%{x}<br>PC 2=%{y}<br>PC 3=%{z}<extra></extra>",
         "legendgroup": "Goblin Gang",
         "marker": {
          "color": "#EF553B",
          "symbol": "circle"
         },
         "mode": "markers",
         "name": "Goblin Gang",
         "scene": "scene",
         "showlegend": true,
         "type": "scatter3d",
         "x": [
          -746.1752187862609
         ],
         "y": [
          -203.27214159775073
         ],
         "z": [
          5.000451172722368
         ]
        },
        {
         "hovertemplate": "color=Electro Wizard<br>PC 1=%{x}<br>PC 2=%{y}<br>PC 3=%{z}<extra></extra>",
         "legendgroup": "Electro Wizard",
         "marker": {
          "color": "#00cc96",
          "symbol": "circle"
         },
         "mode": "markers",
         "name": "Electro Wizard",
         "scene": "scene",
         "showlegend": true,
         "type": "scatter3d",
         "x": [
          -294.67570390894076
         ],
         "y": [
          -5.230235094177683
         ],
         "z": [
          -47.3768717826953
         ]
        },
        {
         "hovertemplate": "color=Elite Barbarians<br>PC 1=%{x}<br>PC 2=%{y}<br>PC 3=%{z}<extra></extra>",
         "legendgroup": "Elite Barbarians",
         "marker": {
          "color": "#ab63fa",
          "symbol": "circle"
         },
         "mode": "markers",
         "name": "Elite Barbarians",
         "scene": "scene",
         "showlegend": true,
         "type": "scatter3d",
         "x": [
          99.47152430369674
         ],
         "y": [
          80.09349691600822
         ],
         "z": [
          160.62987422154058
         ]
        },
        {
         "hovertemplate": "color=Hunter<br>PC 1=%{x}<br>PC 2=%{y}<br>PC 3=%{z}<extra></extra>",
         "legendgroup": "Hunter",
         "marker": {
          "color": "#FFA15A",
          "symbol": "circle"
         },
         "mode": "markers",
         "name": "Hunter",
         "scene": "scene",
         "showlegend": true,
         "type": "scatter3d",
         "x": [
          -196.8485122773968
         ],
         "y": [
          1198.5390227309988
         ],
         "z": [
          -79.55993799368309
         ]
        },
        {
         "hovertemplate": "color=Executioner<br>PC 1=%{x}<br>PC 2=%{y}<br>PC 3=%{z}<extra></extra>",
         "legendgroup": "Executioner",
         "marker": {
          "color": "#19d3f3",
          "symbol": "circle"
         },
         "mode": "markers",
         "name": "Executioner",
         "scene": "scene",
         "showlegend": true,
         "type": "scatter3d",
         "x": [
          118.4361644215312
         ],
         "y": [
          273.78805539826453
         ],
         "z": [
          -70.93231550891595
         ]
        },
        {
         "hovertemplate": "color=Bandit<br>PC 1=%{x}<br>PC 2=%{y}<br>PC 3=%{z}<extra></extra>",
         "legendgroup": "Bandit",
         "marker": {
          "color": "#FF6692",
          "symbol": "circle"
         },
         "mode": "markers",
         "name": "Bandit",
         "scene": "scene",
         "showlegend": true,
         "type": "scatter3d",
         "x": [
          -128.84830025347262
         ],
         "y": [
          -118.28237345860155
         ],
         "z": [
          75.4858335954716
         ]
        },
        {
         "hovertemplate": "color=Royal Recruits<br>PC 1=%{x}<br>PC 2=%{y}<br>PC 3=%{z}<extra></extra>",
         "legendgroup": "Royal Recruits",
         "marker": {
          "color": "#B6E880",
          "symbol": "circle"
         },
         "mode": "markers",
         "name": "Royal Recruits",
         "scene": "scene",
         "showlegend": true,
         "type": "scatter3d",
         "x": [
          -243.26304167439096
         ],
         "y": [
          -201.31225285766317
         ],
         "z": [
          41.030855659702425
         ]
        },
        {
         "hovertemplate": "color=Night Witch<br>PC 1=%{x}<br>PC 2=%{y}<br>PC 3=%{z}<extra></extra>",
         "legendgroup": "Night Witch",
         "marker": {
          "color": "#FF97FF",
          "symbol": "circle"
         },
         "mode": "markers",
         "name": "Night Witch",
         "scene": "scene",
         "showlegend": true,
         "type": "scatter3d",
         "x": [
          -131.56020699147678
         ],
         "y": [
          -89.55658587542646
         ],
         "z": [
          23.82726086671209
         ]
        },
        {
         "hovertemplate": "color=Bats<br>PC 1=%{x}<br>PC 2=%{y}<br>PC 3=%{z}<extra></extra>",
         "legendgroup": "Bats",
         "marker": {
          "color": "#FECB52",
          "symbol": "circle"
         },
         "mode": "markers",
         "name": "Bats",
         "scene": "scene",
         "showlegend": true,
         "type": "scatter3d",
         "x": [
          -818.4630537115489
         ],
         "y": [
          -225.82736433179613
         ],
         "z": [
          -1.805568035266735
         ]
        },
        {
         "hovertemplate": "color=Royal Ghost<br>PC 1=%{x}<br>PC 2=%{y}<br>PC 3=%{z}<extra></extra>",
         "legendgroup": "Royal Ghost",
         "marker": {
          "color": "#636efa",
          "symbol": "circle"
         },
         "mode": "markers",
         "name": "Royal Ghost",
         "scene": "scene",
         "showlegend": true,
         "type": "scatter3d",
         "x": [
          118.3018297378462
         ],
         "y": [
          56.063219789545414
         ],
         "z": [
          108.36426372433698
         ]
        },
        {
         "hovertemplate": "color=Ram Rider<br>PC 1=%{x}<br>PC 2=%{y}<br>PC 3=%{z}<extra></extra>",
         "legendgroup": "Ram Rider",
         "marker": {
          "color": "#EF553B",
          "symbol": "circle"
         },
         "mode": "markers",
         "name": "Ram Rider",
         "scene": "scene",
         "showlegend": true,
         "type": "scatter3d",
         "x": [
          580.7090712074731
         ],
         "y": [
          -72.41494387759683
         ],
         "z": [
          -0.23220207902459972
         ]
        },
        {
         "hovertemplate": "color=Zappies<br>PC 1=%{x}<br>PC 2=%{y}<br>PC 3=%{z}<extra></extra>",
         "legendgroup": "Zappies",
         "marker": {
          "color": "#00cc96",
          "symbol": "circle"
         },
         "mode": "markers",
         "name": "Zappies",
         "scene": "scene",
         "showlegend": true,
         "type": "scatter3d",
         "x": [
          -446.3710260126493
         ],
         "y": [
          -195.53908080213395
         ],
         "z": [
          -26.505464035762277
         ]
        },
        {
         "hovertemplate": "color=Rascals<br>PC 1=%{x}<br>PC 2=%{y}<br>PC 3=%{z}<extra></extra>",
         "legendgroup": "Rascals",
         "marker": {
          "color": "#ab63fa",
          "symbol": "circle"
         },
         "mode": "markers",
         "name": "Rascals",
         "scene": "scene",
         "showlegend": true,
         "type": "scatter3d",
         "x": [
          1056.0782036006722
         ],
         "y": [
          -148.351522317106
         ],
         "z": [
          -121.65780669292063
         ]
        },
        {
         "hovertemplate": "color=Cannon Cart<br>PC 1=%{x}<br>PC 2=%{y}<br>PC 3=%{z}<extra></extra>",
         "legendgroup": "Cannon Cart",
         "marker": {
          "color": "#FFA15A",
          "symbol": "circle"
         },
         "mode": "markers",
         "name": "Cannon Cart",
         "scene": "scene",
         "showlegend": true,
         "type": "scatter3d",
         "x": [
          603.7066786909439
         ],
         "y": [
          -95.10777044506686
         ],
         "z": [
          41.69790878589982
         ]
        },
        {
         "hovertemplate": "color=Mega Knight<br>PC 1=%{x}<br>PC 2=%{y}<br>PC 3=%{z}<extra></extra>",
         "legendgroup": "Mega Knight",
         "marker": {
          "color": "#19d3f3",
          "symbol": "circle"
         },
         "mode": "markers",
         "name": "Mega Knight",
         "scene": "scene",
         "showlegend": true,
         "type": "scatter3d",
         "x": [
          2410.780585018991
         ],
         "y": [
          69.29723508570319
         ],
         "z": [
          -28.122161338210784
         ]
        },
        {
         "hovertemplate": "color=Skeleton Barrel<br>PC 1=%{x}<br>PC 2=%{y}<br>PC 3=%{z}<extra></extra>",
         "legendgroup": "Skeleton Barrel",
         "marker": {
          "color": "#FF6692",
          "symbol": "circle"
         },
         "mode": "markers",
         "name": "Skeleton Barrel",
         "scene": "scene",
         "showlegend": true,
         "type": "scatter3d",
         "x": [
          -342.48716464881363
         ],
         "y": [
          -190.251000893495
         ],
         "z": [
          27.034772857313865
         ]
        },
        {
         "hovertemplate": "color=Flying Machine<br>PC 1=%{x}<br>PC 2=%{y}<br>PC 3=%{z}<extra></extra>",
         "legendgroup": "Flying Machine",
         "marker": {
          "color": "#B6E880",
          "symbol": "circle"
         },
         "mode": "markers",
         "name": "Flying Machine",
         "scene": "scene",
         "showlegend": true,
         "type": "scatter3d",
         "x": [
          -375.42506544800364
         ],
         "y": [
          -93.34498811627417
         ],
         "z": [
          -37.07450110093094
         ]
        },
        {
         "hovertemplate": "color=Wall Breakers<br>PC 1=%{x}<br>PC 2=%{y}<br>PC 3=%{z}<extra></extra>",
         "legendgroup": "Wall Breakers",
         "marker": {
          "color": "#FF97FF",
          "symbol": "circle"
         },
         "mode": "markers",
         "name": "Wall Breakers",
         "scene": "scene",
         "showlegend": true,
         "type": "scatter3d",
         "x": [
          -602.4332377488844
         ],
         "y": [
          373.7247930480153
         ],
         "z": [
          -45.894617200284145
         ]
        },
        {
         "hovertemplate": "color=Royal Hogs<br>PC 1=%{x}<br>PC 2=%{y}<br>PC 3=%{z}<extra></extra>",
         "legendgroup": "Royal Hogs",
         "marker": {
          "color": "#FECB52",
          "symbol": "circle"
         },
         "mode": "markers",
         "name": "Royal Hogs",
         "scene": "scene",
         "showlegend": true,
         "type": "scatter3d",
         "x": [
          -189.76837696224976
         ],
         "y": [
          -290.97220687379905
         ],
         "z": [
          6.165954407157307
         ]
        },
        {
         "hovertemplate": "color=Goblin Giant<br>PC 1=%{x}<br>PC 2=%{y}<br>PC 3=%{z}<extra></extra>",
         "legendgroup": "Goblin Giant",
         "marker": {
          "color": "#636efa",
          "symbol": "circle"
         },
         "mode": "markers",
         "name": "Goblin Giant",
         "scene": "scene",
         "showlegend": true,
         "type": "scatter3d",
         "x": [
          1833.5630449039147
         ],
         "y": [
          -117.1837305337235
         ],
         "z": [
          -162.27814786460627
         ]
        },
        {
         "hovertemplate": "color=Fisherman<br>PC 1=%{x}<br>PC 2=%{y}<br>PC 3=%{z}<extra></extra>",
         "legendgroup": "Fisherman",
         "marker": {
          "color": "#EF553B",
          "symbol": "circle"
         },
         "mode": "markers",
         "name": "Fisherman",
         "scene": "scene",
         "showlegend": true,
         "type": "scatter3d",
         "x": [
          -79.01651818558261
         ],
         "y": [
          -118.23499828301446
         ],
         "z": [
          72.42362015229722
         ]
        },
        {
         "hovertemplate": "color=Magic Archer<br>PC 1=%{x}<br>PC 2=%{y}<br>PC 3=%{z}<extra></extra>",
         "legendgroup": "Magic Archer",
         "marker": {
          "color": "#00cc96",
          "symbol": "circle"
         },
         "mode": "markers",
         "name": "Magic Archer",
         "scene": "scene",
         "showlegend": true,
         "type": "scatter3d",
         "x": [
          -448.70094755919143
         ],
         "y": [
          -98.96653976354818
         ],
         "z": [
          -24.799256513908084
         ]
        },
        {
         "hovertemplate": "color=Electro Dragon<br>PC 1=%{x}<br>PC 2=%{y}<br>PC 3=%{z}<extra></extra>",
         "legendgroup": "Electro Dragon",
         "marker": {
          "color": "#ab63fa",
          "symbol": "circle"
         },
         "mode": "markers",
         "name": "Electro Dragon",
         "scene": "scene",
         "showlegend": true,
         "type": "scatter3d",
         "x": [
          -96.02124623643401
         ],
         "y": [
          -63.14829771856976
         ],
         "z": [
          -56.064363634843865
         ]
        },
        {
         "hovertemplate": "color=Firecracker<br>PC 1=%{x}<br>PC 2=%{y}<br>PC 3=%{z}<extra></extra>",
         "legendgroup": "Firecracker",
         "marker": {
          "color": "#FFA15A",
          "symbol": "circle"
         },
         "mode": "markers",
         "name": "Firecracker",
         "scene": "scene",
         "showlegend": true,
         "type": "scatter3d",
         "x": [
          -636.9264483880659
         ],
         "y": [
          240.04124590847522
         ],
         "z": [
          -23.487371619195613
         ]
        },
        {
         "hovertemplate": "color=Elixir Golem<br>PC 1=%{x}<br>PC 2=%{y}<br>PC 3=%{z}<extra></extra>",
         "legendgroup": "Elixir Golem",
         "marker": {
          "color": "#19d3f3",
          "symbol": "circle"
         },
         "mode": "markers",
         "name": "Elixir Golem",
         "scene": "scene",
         "showlegend": true,
         "type": "scatter3d",
         "x": [
          1295.0854777987422
         ],
         "y": [
          -228.78232756541337
         ],
         "z": [
          -39.19804325526891
         ]
        },
        {
         "hovertemplate": "color=Battle Healer<br>PC 1=%{x}<br>PC 2=%{y}<br>PC 3=%{z}<extra></extra>",
         "legendgroup": "Battle Healer",
         "marker": {
          "color": "#FF6692",
          "symbol": "circle"
         },
         "mode": "markers",
         "name": "Battle Healer",
         "scene": "scene",
         "showlegend": true,
         "type": "scatter3d",
         "x": [
          541.4998905229108
         ],
         "y": [
          -169.65296234239554
         ],
         "z": [
          8.249681269827594
         ]
        },
        {
         "hovertemplate": "color=Skeleton Dragons<br>PC 1=%{x}<br>PC 2=%{y}<br>PC 3=%{z}<extra></extra>",
         "legendgroup": "Skeleton Dragons",
         "marker": {
          "color": "#B6E880",
          "symbol": "circle"
         },
         "mode": "markers",
         "name": "Skeleton Dragons",
         "scene": "scene",
         "showlegend": true,
         "type": "scatter3d",
         "x": [
          -448.8743583779176
         ],
         "y": [
          -30.6911193774686
         ],
         "z": [
          -26.84805226446752
         ]
        },
        {
         "hovertemplate": "color=Cannon<br>PC 1=%{x}<br>PC 2=%{y}<br>PC 3=%{z}<extra></extra>",
         "legendgroup": "Cannon",
         "marker": {
          "color": "#FF97FF",
          "symbol": "circle"
         },
         "mode": "markers",
         "name": "Cannon",
         "scene": "scene",
         "showlegend": true,
         "type": "scatter3d",
         "x": [
          -143.96924266781457
         ],
         "y": [
          -159.1032463722056
         ],
         "z": [
          -14.390325932357353
         ]
        },
        {
         "hovertemplate": "color=Goblin Hut<br>PC 1=%{x}<br>PC 2=%{y}<br>PC 3=%{z}<extra></extra>",
         "legendgroup": "Goblin Hut",
         "marker": {
          "color": "#FECB52",
          "symbol": "circle"
         },
         "mode": "markers",
         "name": "Goblin Hut",
         "scene": "scene",
         "showlegend": true,
         "type": "scatter3d",
         "x": [
          -44.06173070507273
         ],
         "y": [
          -225.31277666286533
         ],
         "z": [
          -49.8045489877867
         ]
        },
        {
         "hovertemplate": "color=Mortar<br>PC 1=%{x}<br>PC 2=%{y}<br>PC 3=%{z}<extra></extra>",
         "legendgroup": "Mortar",
         "marker": {
          "color": "#636efa",
          "symbol": "circle"
         },
         "mode": "markers",
         "name": "Mortar",
         "scene": "scene",
         "showlegend": true,
         "type": "scatter3d",
         "x": [
          336.7325166739245
         ],
         "y": [
          63.506061859576036
         ],
         "z": [
          97.62069967972698
         ]
        },
        {
         "hovertemplate": "color=Inferno Tower<br>PC 1=%{x}<br>PC 2=%{y}<br>PC 3=%{z}<extra></extra>",
         "legendgroup": "Inferno Tower",
         "marker": {
          "color": "#EF553B",
          "symbol": "circle"
         },
         "mode": "markers",
         "name": "Inferno Tower",
         "scene": "scene",
         "showlegend": true,
         "type": "scatter3d",
         "x": [
          550.8922191431708
         ],
         "y": [
          177.59898785688554
         ],
         "z": [
          -332.0165006318616
         ]
        },
        {
         "hovertemplate": "color=Bomb Tower<br>PC 1=%{x}<br>PC 2=%{y}<br>PC 3=%{z}<extra></extra>",
         "legendgroup": "Bomb Tower",
         "marker": {
          "color": "#00cc96",
          "symbol": "circle"
         },
         "mode": "markers",
         "name": "Bomb Tower",
         "scene": "scene",
         "showlegend": true,
         "type": "scatter3d",
         "x": [
          247.63993765269296
         ],
         "y": [
          -66.2478908429831
         ],
         "z": [
          -48.379719550720665
         ]
        },
        {
         "hovertemplate": "color=Barbarian Hut<br>PC 1=%{x}<br>PC 2=%{y}<br>PC 3=%{z}<extra></extra>",
         "legendgroup": "Barbarian Hut",
         "marker": {
          "color": "#ab63fa",
          "symbol": "circle"
         },
         "mode": "markers",
         "name": "Barbarian Hut",
         "scene": "scene",
         "showlegend": true,
         "type": "scatter3d",
         "x": [
          571.7100321471966
         ],
         "y": [
          -98.21614622662108
         ],
         "z": [
          41.78963344937979
         ]
        },
        {
         "hovertemplate": "color=Tesla<br>PC 1=%{x}<br>PC 2=%{y}<br>PC 3=%{z}<extra></extra>",
         "legendgroup": "Tesla",
         "marker": {
          "color": "#FFA15A",
          "symbol": "circle"
         },
         "mode": "markers",
         "name": "Tesla",
         "scene": "scene",
         "showlegend": true,
         "type": "scatter3d",
         "x": [
          59.25031113948734
         ],
         "y": [
          -75.62604460428236
         ],
         "z": [
          -178.9913585929331
         ]
        },
        {
         "hovertemplate": "color=Elixir Collector<br>PC 1=%{x}<br>PC 2=%{y}<br>PC 3=%{z}<extra></extra>",
         "legendgroup": "Elixir Collector",
         "marker": {
          "color": "#19d3f3",
          "symbol": "circle"
         },
         "mode": "markers",
         "name": "Elixir Collector",
         "scene": "scene",
         "showlegend": true,
         "type": "scatter3d",
         "x": [
          -1.5576760195572579
         ],
         "y": [
          -343.3862517761912
         ],
         "z": [
          -45.56101222875084
         ]
        },
        {
         "hovertemplate": "color=X-Bow<br>PC 1=%{x}<br>PC 2=%{y}<br>PC 3=%{z}<extra></extra>",
         "legendgroup": "X-Bow",
         "marker": {
          "color": "#FF6692",
          "symbol": "circle"
         },
         "mode": "markers",
         "name": "X-Bow",
         "scene": "scene",
         "showlegend": true,
         "type": "scatter3d",
         "x": [
          493.42950093043646
         ],
         "y": [
          -306.22558823589304
         ],
         "z": [
          -57.42608537081985
         ]
        },
        {
         "hovertemplate": "color=Tombstone<br>PC 1=%{x}<br>PC 2=%{y}<br>PC 3=%{z}<extra></extra>",
         "legendgroup": "Tombstone",
         "marker": {
          "color": "#B6E880",
          "symbol": "circle"
         },
         "mode": "markers",
         "name": "Tombstone",
         "scene": "scene",
         "showlegend": true,
         "type": "scatter3d",
         "x": [
          -461.7028599086488
         ],
         "y": [
          -249.52433533088322
         ],
         "z": [
          30.172991189474835
         ]
        },
        {
         "hovertemplate": "color=Furnace<br>PC 1=%{x}<br>PC 2=%{y}<br>PC 3=%{z}<extra></extra>",
         "legendgroup": "Furnace",
         "marker": {
          "color": "#FF97FF",
          "symbol": "circle"
         },
         "mode": "markers",
         "name": "Furnace",
         "scene": "scene",
         "showlegend": true,
         "type": "scatter3d",
         "x": [
          -46.03898129886021
         ],
         "y": [
          -101.06874499064094
         ],
         "z": [
          -49.95032801830218
         ]
        },
        {
         "hovertemplate": "color=Goblin Cage<br>PC 1=%{x}<br>PC 2=%{y}<br>PC 3=%{z}<extra></extra>",
         "legendgroup": "Goblin Cage",
         "marker": {
          "color": "#FECB52",
          "symbol": "circle"
         },
         "mode": "markers",
         "name": "Goblin Cage",
         "scene": "scene",
         "showlegend": true,
         "type": "scatter3d",
         "x": [
          778.7637797510359
         ],
         "y": [
          49.70752141598432
         ],
         "z": [
          103.19368869886661
         ]
        },
        {
         "hovertemplate": "color=Fireball<br>PC 1=%{x}<br>PC 2=%{y}<br>PC 3=%{z}<extra></extra>",
         "legendgroup": "Fireball",
         "marker": {
          "color": "#636efa",
          "symbol": "circle"
         },
         "mode": "markers",
         "name": "Fireball",
         "scene": "scene",
         "showlegend": true,
         "type": "scatter3d",
         "x": [
          -907.0161131444663
         ],
         "y": [
          785.0804057877583
         ],
         "z": [
          -241.62619088083247
         ]
        },
        {
         "hovertemplate": "color=Arrows<br>PC 1=%{x}<br>PC 2=%{y}<br>PC 3=%{z}<extra></extra>",
         "legendgroup": "Arrows",
         "marker": {
          "color": "#EF553B",
          "symbol": "circle"
         },
         "mode": "markers",
         "name": "Arrows",
         "scene": "scene",
         "showlegend": true,
         "type": "scatter3d",
         "x": [
          -897.3454616925031
         ],
         "y": [
          254.7041441506785
         ],
         "z": [
          -122.6408085510663
         ]
        },
        {
         "hovertemplate": "color=Rage<br>PC 1=%{x}<br>PC 2=%{y}<br>PC 3=%{z}<extra></extra>",
         "legendgroup": "Rage",
         "marker": {
          "color": "#00cc96",
          "symbol": "circle"
         },
         "mode": "markers",
         "name": "Rage",
         "scene": "scene",
         "showlegend": true,
         "type": "scatter3d",
         "x": [
          -886.598982805914
         ],
         "y": [
          -343.8921367667292
         ],
         "z": [
          9.44673009041059
         ]
        },
        {
         "hovertemplate": "color=Rocket<br>PC 1=%{x}<br>PC 2=%{y}<br>PC 3=%{z}<extra></extra>",
         "legendgroup": "Rocket",
         "marker": {
          "color": "#ab63fa",
          "symbol": "circle"
         },
         "mode": "markers",
         "name": "Rocket",
         "scene": "scene",
         "showlegend": true,
         "type": "scatter3d",
         "x": [
          -930.6145010929911
         ],
         "y": [
          2087.370838875449
         ],
         "z": [
          -531.9428811981169
         ]
        },
        {
         "hovertemplate": "color=Goblin Barrel<br>PC 1=%{x}<br>PC 2=%{y}<br>PC 3=%{z}<extra></extra>",
         "legendgroup": "Goblin Barrel",
         "marker": {
          "color": "#FFA15A",
          "symbol": "circle"
         },
         "mode": "markers",
         "name": "Goblin Barrel",
         "scene": "scene",
         "showlegend": true,
         "type": "scatter3d",
         "x": [
          -880.2402143256626
         ],
         "y": [
          -204.71812594015512
         ],
         "z": [
          78.78059916733324
         ]
        },
        {
         "hovertemplate": "color=Freeze<br>PC 1=%{x}<br>PC 2=%{y}<br>PC 3=%{z}<extra></extra>",
         "legendgroup": "Freeze",
         "marker": {
          "color": "#19d3f3",
          "symbol": "circle"
         },
         "mode": "markers",
         "name": "Freeze",
         "scene": "scene",
         "showlegend": true,
         "type": "scatter3d",
         "x": [
          -889.9600465901048
         ],
         "y": [
          -156.15731679535273
         ],
         "z": [
          -31.875318824017686
         ]
        },
        {
         "hovertemplate": "color=Mirror<br>PC 1=%{x}<br>PC 2=%{y}<br>PC 3=%{z}<extra></extra>",
         "legendgroup": "Mirror",
         "marker": {
          "color": "#FF6692",
          "symbol": "circle"
         },
         "mode": "markers",
         "name": "Mirror",
         "scene": "scene",
         "showlegend": true,
         "type": "scatter3d",
         "x": [
          -886.598134314015
         ],
         "y": [
          -343.8530154379746
         ],
         "z": [
          9.526799315224912
         ]
        },
        {
         "hovertemplate": "color=Lightning<br>PC 1=%{x}<br>PC 2=%{y}<br>PC 3=%{z}<extra></extra>",
         "legendgroup": "Lightning",
         "marker": {
          "color": "#B6E880",
          "symbol": "circle"
         },
         "mode": "markers",
         "name": "Lightning",
         "scene": "scene",
         "showlegend": true,
         "type": "scatter3d",
         "x": [
          -895.1970284727017
         ],
         "y": [
          999.2663296736777
         ],
         "z": [
          -412.8485374167878
         ]
        },
        {
         "hovertemplate": "color=Zap<br>PC 1=%{x}<br>PC 2=%{y}<br>PC 3=%{z}<extra></extra>",
         "legendgroup": "Zap",
         "marker": {
          "color": "#FF97FF",
          "symbol": "circle"
         },
         "mode": "markers",
         "name": "Zap",
         "scene": "scene",
         "showlegend": true,
         "type": "scatter3d",
         "x": [
          -892.2708191966653
         ],
         "y": [
          -29.997504880153656
         ],
         "z": [
          -60.21500005138515
         ]
        },
        {
         "hovertemplate": "color=Poison<br>PC 1=%{x}<br>PC 2=%{y}<br>PC 3=%{z}<extra></extra>",
         "legendgroup": "Poison",
         "marker": {
          "color": "#FECB52",
          "symbol": "circle"
         },
         "mode": "markers",
         "name": "Poison",
         "scene": "scene",
         "showlegend": true,
         "type": "scatter3d",
         "x": [
          -889.2429247315164
         ],
         "y": [
          -195.64048467075534
         ],
         "z": [
          -23.113631092113746
         ]
        },
        {
         "hovertemplate": "color=Graveyard<br>PC 1=%{x}<br>PC 2=%{y}<br>PC 3=%{z}<extra></extra>",
         "legendgroup": "Graveyard",
         "marker": {
          "color": "#636efa",
          "symbol": "circle"
         },
         "mode": "markers",
         "name": "Graveyard",
         "scene": "scene",
         "showlegend": true,
         "type": "scatter3d",
         "x": [
          -815.5250240537831
         ],
         "y": [
          -249.70843232348585
         ],
         "z": [
          52.22417404262621
         ]
        },
        {
         "hovertemplate": "color=The Log<br>PC 1=%{x}<br>PC 2=%{y}<br>PC 3=%{z}<extra></extra>",
         "legendgroup": "The Log",
         "marker": {
          "color": "#EF553B",
          "symbol": "circle"
         },
         "mode": "markers",
         "name": "The Log",
         "scene": "scene",
         "showlegend": true,
         "type": "scatter3d",
         "x": [
          -884.4208031632679
         ],
         "y": [
          46.187738035159356
         ],
         "z": [
          100.63334264662274
         ]
        },
        {
         "hovertemplate": "color=Tornado<br>PC 1=%{x}<br>PC 2=%{y}<br>PC 3=%{z}<extra></extra>",
         "legendgroup": "Tornado",
         "marker": {
          "color": "#00cc96",
          "symbol": "circle"
         },
         "mode": "markers",
         "name": "Tornado",
         "scene": "scene",
         "showlegend": true,
         "type": "scatter3d",
         "x": [
          -892.7679521012088
         ],
         "y": [
          -76.43352386388695
         ],
         "z": [
          -66.43718225366091
         ]
        },
        {
         "hovertemplate": "color=Clone<br>PC 1=%{x}<br>PC 2=%{y}<br>PC 3=%{z}<extra></extra>",
         "legendgroup": "Clone",
         "marker": {
          "color": "#ab63fa",
          "symbol": "circle"
         },
         "mode": "markers",
         "name": "Clone",
         "scene": "scene",
         "showlegend": true,
         "type": "scatter3d",
         "x": [
          -885.6037974299936
         ],
         "y": [
          -343.852149946901
         ],
         "z": [
          9.461587805292972
         ]
        },
        {
         "hovertemplate": "color=Earthquake<br>PC 1=%{x}<br>PC 2=%{y}<br>PC 3=%{z}<extra></extra>",
         "legendgroup": "Earthquake",
         "marker": {
          "color": "#FFA15A",
          "symbol": "circle"
         },
         "mode": "markers",
         "name": "Earthquake",
         "scene": "scene",
         "showlegend": true,
         "type": "scatter3d",
         "x": [
          -874.3734359017865
         ],
         "y": [
          -97.84492865205
         ],
         "z": [
          150.2814750883593
         ]
        },
        {
         "hovertemplate": "color=Barbarian Barrel<br>PC 1=%{x}<br>PC 2=%{y}<br>PC 3=%{z}<extra></extra>",
         "legendgroup": "Barbarian Barrel",
         "marker": {
          "color": "#19d3f3",
          "symbol": "circle"
         },
         "mode": "markers",
         "name": "Barbarian Barrel",
         "scene": "scene",
         "showlegend": true,
         "type": "scatter3d",
         "x": [
          -323.38917085463487
         ],
         "y": [
          -109.20946730883186
         ],
         "z": [
          87.45094780606529
         ]
        },
        {
         "hovertemplate": "color=Heal Spirit<br>PC 1=%{x}<br>PC 2=%{y}<br>PC 3=%{z}<extra></extra>",
         "legendgroup": "Heal Spirit",
         "marker": {
          "color": "#FF6692",
          "symbol": "circle"
         },
         "mode": "markers",
         "name": "Heal Spirit",
         "scene": "scene",
         "showlegend": true,
         "type": "scatter3d",
         "x": [
          -696.2457450331998
         ],
         "y": [
          -343.6792814874287
         ],
         "z": [
          -2.1725692405717756
         ]
        },
        {
         "hovertemplate": "color=Giant Snowball<br>PC 1=%{x}<br>PC 2=%{y}<br>PC 3=%{z}<extra></extra>",
         "legendgroup": "Giant Snowball",
         "marker": {
          "color": "#B6E880",
          "symbol": "circle"
         },
         "mode": "markers",
         "name": "Giant Snowball",
         "scene": "scene",
         "showlegend": true,
         "type": "scatter3d",
         "x": [
          -892.2708191966658
         ],
         "y": [
          -29.997504880153656
         ],
         "z": [
          -60.21500005138515
         ]
        },
        {
         "hovertemplate": "color=Royal Delivery<br>PC 1=%{x}<br>PC 2=%{y}<br>PC 3=%{z}<extra></extra>",
         "legendgroup": "Royal Delivery",
         "marker": {
          "color": "#FF97FF",
          "symbol": "circle"
         },
         "mode": "markers",
         "name": "Royal Delivery",
         "scene": "scene",
         "showlegend": true,
         "type": "scatter3d",
         "x": [
          -252.65987446620326
         ],
         "y": [
          -41.41299044488776
         ],
         "z": [
          56.13895002686576
         ]
        }
       ],
       "layout": {
        "legend": {
         "title": {
          "text": "color"
         },
         "tracegroupgap": 0
        },
        "scene": {
         "domain": {
          "x": [
           0,
           1
          ],
          "y": [
           0,
           1
          ]
         },
         "xaxis": {
          "title": {
           "text": "PC 1"
          }
         },
         "yaxis": {
          "title": {
           "text": "PC 2"
          }
         },
         "zaxis": {
          "title": {
           "text": "PC 3"
          }
         }
        },
        "template": {
         "data": {
          "bar": [
           {
            "error_x": {
             "color": "#2a3f5f"
            },
            "error_y": {
             "color": "#2a3f5f"
            },
            "marker": {
             "line": {
              "color": "#E5ECF6",
              "width": 0.5
             }
            },
            "type": "bar"
           }
          ],
          "barpolar": [
           {
            "marker": {
             "line": {
              "color": "#E5ECF6",
              "width": 0.5
             }
            },
            "type": "barpolar"
           }
          ],
          "carpet": [
           {
            "aaxis": {
             "endlinecolor": "#2a3f5f",
             "gridcolor": "white",
             "linecolor": "white",
             "minorgridcolor": "white",
             "startlinecolor": "#2a3f5f"
            },
            "baxis": {
             "endlinecolor": "#2a3f5f",
             "gridcolor": "white",
             "linecolor": "white",
             "minorgridcolor": "white",
             "startlinecolor": "#2a3f5f"
            },
            "type": "carpet"
           }
          ],
          "choropleth": [
           {
            "colorbar": {
             "outlinewidth": 0,
             "ticks": ""
            },
            "type": "choropleth"
           }
          ],
          "contour": [
           {
            "colorbar": {
             "outlinewidth": 0,
             "ticks": ""
            },
            "colorscale": [
             [
              0,
              "#0d0887"
             ],
             [
              0.1111111111111111,
              "#46039f"
             ],
             [
              0.2222222222222222,
              "#7201a8"
             ],
             [
              0.3333333333333333,
              "#9c179e"
             ],
             [
              0.4444444444444444,
              "#bd3786"
             ],
             [
              0.5555555555555556,
              "#d8576b"
             ],
             [
              0.6666666666666666,
              "#ed7953"
             ],
             [
              0.7777777777777778,
              "#fb9f3a"
             ],
             [
              0.8888888888888888,
              "#fdca26"
             ],
             [
              1,
              "#f0f921"
             ]
            ],
            "type": "contour"
           }
          ],
          "contourcarpet": [
           {
            "colorbar": {
             "outlinewidth": 0,
             "ticks": ""
            },
            "type": "contourcarpet"
           }
          ],
          "heatmap": [
           {
            "colorbar": {
             "outlinewidth": 0,
             "ticks": ""
            },
            "colorscale": [
             [
              0,
              "#0d0887"
             ],
             [
              0.1111111111111111,
              "#46039f"
             ],
             [
              0.2222222222222222,
              "#7201a8"
             ],
             [
              0.3333333333333333,
              "#9c179e"
             ],
             [
              0.4444444444444444,
              "#bd3786"
             ],
             [
              0.5555555555555556,
              "#d8576b"
             ],
             [
              0.6666666666666666,
              "#ed7953"
             ],
             [
              0.7777777777777778,
              "#fb9f3a"
             ],
             [
              0.8888888888888888,
              "#fdca26"
             ],
             [
              1,
              "#f0f921"
             ]
            ],
            "type": "heatmap"
           }
          ],
          "heatmapgl": [
           {
            "colorbar": {
             "outlinewidth": 0,
             "ticks": ""
            },
            "colorscale": [
             [
              0,
              "#0d0887"
             ],
             [
              0.1111111111111111,
              "#46039f"
             ],
             [
              0.2222222222222222,
              "#7201a8"
             ],
             [
              0.3333333333333333,
              "#9c179e"
             ],
             [
              0.4444444444444444,
              "#bd3786"
             ],
             [
              0.5555555555555556,
              "#d8576b"
             ],
             [
              0.6666666666666666,
              "#ed7953"
             ],
             [
              0.7777777777777778,
              "#fb9f3a"
             ],
             [
              0.8888888888888888,
              "#fdca26"
             ],
             [
              1,
              "#f0f921"
             ]
            ],
            "type": "heatmapgl"
           }
          ],
          "histogram": [
           {
            "marker": {
             "colorbar": {
              "outlinewidth": 0,
              "ticks": ""
             }
            },
            "type": "histogram"
           }
          ],
          "histogram2d": [
           {
            "colorbar": {
             "outlinewidth": 0,
             "ticks": ""
            },
            "colorscale": [
             [
              0,
              "#0d0887"
             ],
             [
              0.1111111111111111,
              "#46039f"
             ],
             [
              0.2222222222222222,
              "#7201a8"
             ],
             [
              0.3333333333333333,
              "#9c179e"
             ],
             [
              0.4444444444444444,
              "#bd3786"
             ],
             [
              0.5555555555555556,
              "#d8576b"
             ],
             [
              0.6666666666666666,
              "#ed7953"
             ],
             [
              0.7777777777777778,
              "#fb9f3a"
             ],
             [
              0.8888888888888888,
              "#fdca26"
             ],
             [
              1,
              "#f0f921"
             ]
            ],
            "type": "histogram2d"
           }
          ],
          "histogram2dcontour": [
           {
            "colorbar": {
             "outlinewidth": 0,
             "ticks": ""
            },
            "colorscale": [
             [
              0,
              "#0d0887"
             ],
             [
              0.1111111111111111,
              "#46039f"
             ],
             [
              0.2222222222222222,
              "#7201a8"
             ],
             [
              0.3333333333333333,
              "#9c179e"
             ],
             [
              0.4444444444444444,
              "#bd3786"
             ],
             [
              0.5555555555555556,
              "#d8576b"
             ],
             [
              0.6666666666666666,
              "#ed7953"
             ],
             [
              0.7777777777777778,
              "#fb9f3a"
             ],
             [
              0.8888888888888888,
              "#fdca26"
             ],
             [
              1,
              "#f0f921"
             ]
            ],
            "type": "histogram2dcontour"
           }
          ],
          "mesh3d": [
           {
            "colorbar": {
             "outlinewidth": 0,
             "ticks": ""
            },
            "type": "mesh3d"
           }
          ],
          "parcoords": [
           {
            "line": {
             "colorbar": {
              "outlinewidth": 0,
              "ticks": ""
             }
            },
            "type": "parcoords"
           }
          ],
          "pie": [
           {
            "automargin": true,
            "type": "pie"
           }
          ],
          "scatter": [
           {
            "marker": {
             "colorbar": {
              "outlinewidth": 0,
              "ticks": ""
             }
            },
            "type": "scatter"
           }
          ],
          "scatter3d": [
           {
            "line": {
             "colorbar": {
              "outlinewidth": 0,
              "ticks": ""
             }
            },
            "marker": {
             "colorbar": {
              "outlinewidth": 0,
              "ticks": ""
             }
            },
            "type": "scatter3d"
           }
          ],
          "scattercarpet": [
           {
            "marker": {
             "colorbar": {
              "outlinewidth": 0,
              "ticks": ""
             }
            },
            "type": "scattercarpet"
           }
          ],
          "scattergeo": [
           {
            "marker": {
             "colorbar": {
              "outlinewidth": 0,
              "ticks": ""
             }
            },
            "type": "scattergeo"
           }
          ],
          "scattergl": [
           {
            "marker": {
             "colorbar": {
              "outlinewidth": 0,
              "ticks": ""
             }
            },
            "type": "scattergl"
           }
          ],
          "scattermapbox": [
           {
            "marker": {
             "colorbar": {
              "outlinewidth": 0,
              "ticks": ""
             }
            },
            "type": "scattermapbox"
           }
          ],
          "scatterpolar": [
           {
            "marker": {
             "colorbar": {
              "outlinewidth": 0,
              "ticks": ""
             }
            },
            "type": "scatterpolar"
           }
          ],
          "scatterpolargl": [
           {
            "marker": {
             "colorbar": {
              "outlinewidth": 0,
              "ticks": ""
             }
            },
            "type": "scatterpolargl"
           }
          ],
          "scatterternary": [
           {
            "marker": {
             "colorbar": {
              "outlinewidth": 0,
              "ticks": ""
             }
            },
            "type": "scatterternary"
           }
          ],
          "surface": [
           {
            "colorbar": {
             "outlinewidth": 0,
             "ticks": ""
            },
            "colorscale": [
             [
              0,
              "#0d0887"
             ],
             [
              0.1111111111111111,
              "#46039f"
             ],
             [
              0.2222222222222222,
              "#7201a8"
             ],
             [
              0.3333333333333333,
              "#9c179e"
             ],
             [
              0.4444444444444444,
              "#bd3786"
             ],
             [
              0.5555555555555556,
              "#d8576b"
             ],
             [
              0.6666666666666666,
              "#ed7953"
             ],
             [
              0.7777777777777778,
              "#fb9f3a"
             ],
             [
              0.8888888888888888,
              "#fdca26"
             ],
             [
              1,
              "#f0f921"
             ]
            ],
            "type": "surface"
           }
          ],
          "table": [
           {
            "cells": {
             "fill": {
              "color": "#EBF0F8"
             },
             "line": {
              "color": "white"
             }
            },
            "header": {
             "fill": {
              "color": "#C8D4E3"
             },
             "line": {
              "color": "white"
             }
            },
            "type": "table"
           }
          ]
         },
         "layout": {
          "annotationdefaults": {
           "arrowcolor": "#2a3f5f",
           "arrowhead": 0,
           "arrowwidth": 1
          },
          "coloraxis": {
           "colorbar": {
            "outlinewidth": 0,
            "ticks": ""
           }
          },
          "colorscale": {
           "diverging": [
            [
             0,
             "#8e0152"
            ],
            [
             0.1,
             "#c51b7d"
            ],
            [
             0.2,
             "#de77ae"
            ],
            [
             0.3,
             "#f1b6da"
            ],
            [
             0.4,
             "#fde0ef"
            ],
            [
             0.5,
             "#f7f7f7"
            ],
            [
             0.6,
             "#e6f5d0"
            ],
            [
             0.7,
             "#b8e186"
            ],
            [
             0.8,
             "#7fbc41"
            ],
            [
             0.9,
             "#4d9221"
            ],
            [
             1,
             "#276419"
            ]
           ],
           "sequential": [
            [
             0,
             "#0d0887"
            ],
            [
             0.1111111111111111,
             "#46039f"
            ],
            [
             0.2222222222222222,
             "#7201a8"
            ],
            [
             0.3333333333333333,
             "#9c179e"
            ],
            [
             0.4444444444444444,
             "#bd3786"
            ],
            [
             0.5555555555555556,
             "#d8576b"
            ],
            [
             0.6666666666666666,
             "#ed7953"
            ],
            [
             0.7777777777777778,
             "#fb9f3a"
            ],
            [
             0.8888888888888888,
             "#fdca26"
            ],
            [
             1,
             "#f0f921"
            ]
           ],
           "sequentialminus": [
            [
             0,
             "#0d0887"
            ],
            [
             0.1111111111111111,
             "#46039f"
            ],
            [
             0.2222222222222222,
             "#7201a8"
            ],
            [
             0.3333333333333333,
             "#9c179e"
            ],
            [
             0.4444444444444444,
             "#bd3786"
            ],
            [
             0.5555555555555556,
             "#d8576b"
            ],
            [
             0.6666666666666666,
             "#ed7953"
            ],
            [
             0.7777777777777778,
             "#fb9f3a"
            ],
            [
             0.8888888888888888,
             "#fdca26"
            ],
            [
             1,
             "#f0f921"
            ]
           ]
          },
          "colorway": [
           "#636efa",
           "#EF553B",
           "#00cc96",
           "#ab63fa",
           "#FFA15A",
           "#19d3f3",
           "#FF6692",
           "#B6E880",
           "#FF97FF",
           "#FECB52"
          ],
          "font": {
           "color": "#2a3f5f"
          },
          "geo": {
           "bgcolor": "white",
           "lakecolor": "white",
           "landcolor": "#E5ECF6",
           "showlakes": true,
           "showland": true,
           "subunitcolor": "white"
          },
          "hoverlabel": {
           "align": "left"
          },
          "hovermode": "closest",
          "mapbox": {
           "style": "light"
          },
          "paper_bgcolor": "white",
          "plot_bgcolor": "#E5ECF6",
          "polar": {
           "angularaxis": {
            "gridcolor": "white",
            "linecolor": "white",
            "ticks": ""
           },
           "bgcolor": "#E5ECF6",
           "radialaxis": {
            "gridcolor": "white",
            "linecolor": "white",
            "ticks": ""
           }
          },
          "scene": {
           "xaxis": {
            "backgroundcolor": "#E5ECF6",
            "gridcolor": "white",
            "gridwidth": 2,
            "linecolor": "white",
            "showbackground": true,
            "ticks": "",
            "zerolinecolor": "white"
           },
           "yaxis": {
            "backgroundcolor": "#E5ECF6",
            "gridcolor": "white",
            "gridwidth": 2,
            "linecolor": "white",
            "showbackground": true,
            "ticks": "",
            "zerolinecolor": "white"
           },
           "zaxis": {
            "backgroundcolor": "#E5ECF6",
            "gridcolor": "white",
            "gridwidth": 2,
            "linecolor": "white",
            "showbackground": true,
            "ticks": "",
            "zerolinecolor": "white"
           }
          },
          "shapedefaults": {
           "line": {
            "color": "#2a3f5f"
           }
          },
          "ternary": {
           "aaxis": {
            "gridcolor": "white",
            "linecolor": "white",
            "ticks": ""
           },
           "baxis": {
            "gridcolor": "white",
            "linecolor": "white",
            "ticks": ""
           },
           "bgcolor": "#E5ECF6",
           "caxis": {
            "gridcolor": "white",
            "linecolor": "white",
            "ticks": ""
           }
          },
          "title": {
           "x": 0.05
          },
          "xaxis": {
           "automargin": true,
           "gridcolor": "white",
           "linecolor": "white",
           "ticks": "",
           "title": {
            "standoff": 15
           },
           "zerolinecolor": "white",
           "zerolinewidth": 2
          },
          "yaxis": {
           "automargin": true,
           "gridcolor": "white",
           "linecolor": "white",
           "ticks": "",
           "title": {
            "standoff": 15
           },
           "zerolinecolor": "white",
           "zerolinewidth": 2
          }
         }
        },
        "title": {
         "text": "Total Explained Variance: 97.04%"
        }
       }
      },
      "text/html": [
       "<div>\n",
       "        \n",
       "        \n",
       "            <div id=\"38b608a6-cab9-4cdd-be37-6631828339e3\" class=\"plotly-graph-div\" style=\"height:525px; width:100%;\"></div>\n",
       "            <script type=\"text/javascript\">\n",
       "                require([\"plotly\"], function(Plotly) {\n",
       "                    window.PLOTLYENV=window.PLOTLYENV || {};\n",
       "                    \n",
       "                if (document.getElementById(\"38b608a6-cab9-4cdd-be37-6631828339e3\")) {\n",
       "                    Plotly.newPlot(\n",
       "                        '38b608a6-cab9-4cdd-be37-6631828339e3',\n",
       "                        [{\"hovertemplate\": \"color=Knight<br>PC 1=%{x}<br>PC 2=%{y}<br>PC 3=%{z}<extra></extra>\", \"legendgroup\": \"Knight\", \"marker\": {\"color\": \"#636efa\", \"symbol\": \"circle\"}, \"mode\": \"markers\", \"name\": \"Knight\", \"scene\": \"scene\", \"showlegend\": true, \"type\": \"scatter3d\", \"x\": [571.2348178741614], \"y\": [-107.78884379980921], \"z\": [37.372413587502734]}, {\"hovertemplate\": \"color=Archers<br>PC 1=%{x}<br>PC 2=%{y}<br>PC 3=%{z}<extra></extra>\", \"legendgroup\": \"Archers\", \"marker\": {\"color\": \"#EF553B\", \"symbol\": \"circle\"}, \"mode\": \"markers\", \"name\": \"Archers\", \"scene\": \"scene\", \"showlegend\": true, \"type\": \"scatter3d\", \"x\": [-633.6361292442901], \"y\": [-186.91070192108887], \"z\": [-15.530399324794857]}, {\"hovertemplate\": \"color=Goblins<br>PC 1=%{x}<br>PC 2=%{y}<br>PC 3=%{z}<extra></extra>\", \"legendgroup\": \"Goblins\", \"marker\": {\"color\": \"#00cc96\", \"symbol\": \"circle\"}, \"mode\": \"markers\", \"name\": \"Goblins\", \"scene\": \"scene\", \"showlegend\": true, \"type\": \"scatter3d\", \"x\": [-713.8035383912546], \"y\": [-204.56405715224344], \"z\": [68.5524913905862]}, {\"hovertemplate\": \"color=Giant<br>PC 1=%{x}<br>PC 2=%{y}<br>PC 3=%{z}<extra></extra>\", \"legendgroup\": \"Giant\", \"marker\": {\"color\": \"#ab63fa\", \"symbol\": \"circle\"}, \"mode\": \"markers\", \"name\": \"Giant\", \"scene\": \"scene\", \"showlegend\": true, \"type\": \"scatter3d\", \"x\": [2392.2883485716047], \"y\": [-153.97337314256146], \"z\": [-50.90752283476274]}, {\"hovertemplate\": \"color=P.E.K.K.A<br>PC 1=%{x}<br>PC 2=%{y}<br>PC 3=%{z}<extra></extra>\", \"legendgroup\": \"P.E.K.K.A\", \"marker\": {\"color\": \"#FFA15A\", \"symbol\": \"circle\"}, \"mode\": \"markers\", \"name\": \"P.E.K.K.A\", \"scene\": \"scene\", \"showlegend\": true, \"type\": \"scatter3d\", \"x\": [2271.428748505758], \"y\": [611.9644331672505], \"z\": [292.26649793948843]}, {\"hovertemplate\": \"color=Minions<br>PC 1=%{x}<br>PC 2=%{y}<br>PC 3=%{z}<extra></extra>\", \"legendgroup\": \"Minions\", \"marker\": {\"color\": \"#19d3f3\", \"symbol\": \"circle\"}, \"mode\": \"markers\", \"name\": \"Minions\", \"scene\": \"scene\", \"showlegend\": true, \"type\": \"scatter3d\", \"x\": [-695.5296140666276], \"y\": [-195.77475958707896], \"z\": [-11.185750267391555]}, {\"hovertemplate\": \"color=Balloon<br>PC 1=%{x}<br>PC 2=%{y}<br>PC 3=%{z}<extra></extra>\", \"legendgroup\": \"Balloon\", \"marker\": {\"color\": \"#FF6692\", \"symbol\": \"circle\"}, \"mode\": \"markers\", \"name\": \"Balloon\", \"scene\": \"scene\", \"showlegend\": true, \"type\": \"scatter3d\", \"x\": [550.3575810452271], \"y\": [723.5260160428851], \"z\": [241.2864335842419]}, {\"hovertemplate\": \"color=Witch<br>PC 1=%{x}<br>PC 2=%{y}<br>PC 3=%{z}<extra></extra>\", \"legendgroup\": \"Witch\", \"marker\": {\"color\": \"#B6E880\", \"symbol\": \"circle\"}, \"mode\": \"markers\", \"name\": \"Witch\", \"scene\": \"scene\", \"showlegend\": true, \"type\": \"scatter3d\", \"x\": [-194.75152283481017], \"y\": [-124.72785206021416], \"z\": [-53.42234986651742]}, {\"hovertemplate\": \"color=Barbarians<br>PC 1=%{x}<br>PC 2=%{y}<br>PC 3=%{z}<extra></extra>\", \"legendgroup\": \"Barbarians\", \"marker\": {\"color\": \"#FF97FF\", \"symbol\": \"circle\"}, \"mode\": \"markers\", \"name\": \"Barbarians\", \"scene\": \"scene\", \"showlegend\": true, \"type\": \"scatter3d\", \"x\": [-323.2547491956851], \"y\": [-119.8746637045659], \"z\": [86.74570267032178]}, {\"hovertemplate\": \"color=Golem<br>PC 1=%{x}<br>PC 2=%{y}<br>PC 3=%{z}<extra></extra>\", \"legendgroup\": \"Golem\", \"marker\": {\"color\": \"#FECB52\", \"symbol\": \"circle\"}, \"mode\": \"markers\", \"name\": \"Golem\", \"scene\": \"scene\", \"showlegend\": true, \"type\": \"scatter3d\", \"x\": [5274.4702270803955], \"y\": [-107.57383193604032], \"z\": [-208.97378596130457]}, {\"hovertemplate\": \"color=Skeletons<br>PC 1=%{x}<br>PC 2=%{y}<br>PC 3=%{z}<extra></extra>\", \"legendgroup\": \"Skeletons\", \"marker\": {\"color\": \"#636efa\", \"symbol\": \"circle\"}, \"mode\": \"markers\", \"name\": \"Skeletons\", \"scene\": \"scene\", \"showlegend\": true, \"type\": \"scatter3d\", \"x\": [-815.5232561348574], \"y\": [-249.63295687345493], \"z\": [52.29914086959351]}, {\"hovertemplate\": \"color=Valkyrie<br>PC 1=%{x}<br>PC 2=%{y}<br>PC 3=%{z}<extra></extra>\", \"legendgroup\": \"Valkyrie\", \"marker\": {\"color\": \"#EF553B\", \"symbol\": \"circle\"}, \"mode\": \"markers\", \"name\": \"Valkyrie\", \"scene\": \"scene\", \"showlegend\": true, \"type\": \"scatter3d\", \"x\": [770.2891920445113], \"y\": [65.91036834654214], \"z\": [71.99373125495366]}, {\"hovertemplate\": \"color=Skeleton Army<br>PC 1=%{x}<br>PC 2=%{y}<br>PC 3=%{z}<extra></extra>\", \"legendgroup\": \"Skeleton Army\", \"marker\": {\"color\": \"#00cc96\", \"symbol\": \"circle\"}, \"mode\": \"markers\", \"name\": \"Skeleton Army\", \"scene\": \"scene\", \"showlegend\": true, \"type\": \"scatter3d\", \"x\": [-815.5270303312547], \"y\": [-249.65120060722072], \"z\": [52.32054571921521]}, {\"hovertemplate\": \"color=Bomber<br>PC 1=%{x}<br>PC 2=%{y}<br>PC 3=%{z}<extra></extra>\", \"legendgroup\": \"Bomber\", \"marker\": {\"color\": \"#ab63fa\", \"symbol\": \"circle\"}, \"mode\": \"markers\", \"name\": \"Bomber\", \"scene\": \"scene\", \"showlegend\": true, \"type\": \"scatter3d\", \"x\": [-479.5622830610958], \"y\": [157.09467321901457], \"z\": [186.01088186910246]}, {\"hovertemplate\": \"color=Musketeer<br>PC 1=%{x}<br>PC 2=%{y}<br>PC 3=%{z}<extra></extra>\", \"legendgroup\": \"Musketeer\", \"marker\": {\"color\": \"#FFA15A\", \"symbol\": \"circle\"}, \"mode\": \"markers\", \"name\": \"Musketeer\", \"scene\": \"scene\", \"showlegend\": true, \"type\": \"scatter3d\", \"x\": [-286.926897794986], \"y\": [-24.591862946676116], \"z\": [-46.682467598596055]}, {\"hovertemplate\": \"color=Baby Dragon<br>PC 1=%{x}<br>PC 2=%{y}<br>PC 3=%{z}<extra></extra>\", \"legendgroup\": \"Baby Dragon\", \"marker\": {\"color\": \"#19d3f3\", \"symbol\": \"circle\"}, \"mode\": \"markers\", \"name\": \"Baby Dragon\", \"scene\": \"scene\", \"showlegend\": true, \"type\": \"scatter3d\", \"x\": [66.43324115513701], \"y\": [-50.02909345351522], \"z\": [-57.93194258132098]}, {\"hovertemplate\": \"color=Prince<br>PC 1=%{x}<br>PC 2=%{y}<br>PC 3=%{z}<extra></extra>\", \"legendgroup\": \"Prince\", \"marker\": {\"color\": \"#FF6692\", \"symbol\": \"circle\"}, \"mode\": \"markers\", \"name\": \"Prince\", \"scene\": \"scene\", \"showlegend\": true, \"type\": \"scatter3d\", \"x\": [797.6563153914751], \"y\": [114.47769499131272], \"z\": [134.58321417720992]}, {\"hovertemplate\": \"color=Wizard<br>PC 1=%{x}<br>PC 2=%{y}<br>PC 3=%{z}<extra></extra>\", \"legendgroup\": \"Wizard\", \"marker\": {\"color\": \"#B6E880\", \"symbol\": \"circle\"}, \"mode\": \"markers\", \"name\": \"Wizard\", \"scene\": \"scene\", \"showlegend\": true, \"type\": \"scatter3d\", \"x\": [-291.91850213096683], \"y\": [172.08814580547582], \"z\": [-42.63956384893244]}, {\"hovertemplate\": \"color=Mini P.E.K.K.A<br>PC 1=%{x}<br>PC 2=%{y}<br>PC 3=%{z}<extra></extra>\", \"legendgroup\": \"Mini P.E.K.K.A\", \"marker\": {\"color\": \"#FF97FF\", \"symbol\": \"circle\"}, \"mode\": \"markers\", \"name\": \"Mini P.E.K.K.A\", \"scene\": \"scene\", \"showlegend\": true, \"type\": \"scatter3d\", \"x\": [277.01573187005215], \"y\": [497.6614571633485], \"z\": [358.61702392452116]}, {\"hovertemplate\": \"color=Spear Goblins<br>PC 1=%{x}<br>PC 2=%{y}<br>PC 3=%{z}<extra></extra>\", \"legendgroup\": \"Spear Goblins\", \"marker\": {\"color\": \"#FECB52\", \"symbol\": \"circle\"}, \"mode\": \"markers\", \"name\": \"Spear Goblins\", \"scene\": \"scene\", \"showlegend\": true, \"type\": \"scatter3d\", \"x\": [-775.6070042879318], \"y\": [-225.78318949568614], \"z\": [-4.445870525277937]}, {\"hovertemplate\": \"color=Giant Skeleton<br>PC 1=%{x}<br>PC 2=%{y}<br>PC 3=%{z}<extra></extra>\", \"legendgroup\": \"Giant Skeleton\", \"marker\": {\"color\": \"#636efa\", \"symbol\": \"circle\"}, \"mode\": \"markers\", \"name\": \"Giant Skeleton\", \"scene\": \"scene\", \"showlegend\": true, \"type\": \"scatter3d\", \"x\": [1943.1002277464665], \"y\": [-95.03644030589288], \"z\": [-91.4007966333857]}, {\"hovertemplate\": \"color=Hog Rider<br>PC 1=%{x}<br>PC 2=%{y}<br>PC 3=%{z}<extra></extra>\", \"legendgroup\": \"Hog Rider\", \"marker\": {\"color\": \"#EF553B\", \"symbol\": \"circle\"}, \"mode\": \"markers\", \"name\": \"Hog Rider\", \"scene\": \"scene\", \"showlegend\": true, \"type\": \"scatter3d\", \"x\": [535.331659329369], \"y\": [-108.79063116575283], \"z\": [98.71405088431558]}, {\"hovertemplate\": \"color=Minion Horde<br>PC 1=%{x}<br>PC 2=%{y}<br>PC 3=%{z}<extra></extra>\", \"legendgroup\": \"Minion Horde\", \"marker\": {\"color\": \"#00cc96\", \"symbol\": \"circle\"}, \"mode\": \"markers\", \"name\": \"Minion Horde\", \"scene\": \"scene\", \"showlegend\": true, \"type\": \"scatter3d\", \"x\": [-695.5282467044964], \"y\": [-195.77688006978994], \"z\": [-11.183313842442656]}, {\"hovertemplate\": \"color=Ice Wizard<br>PC 1=%{x}<br>PC 2=%{y}<br>PC 3=%{z}<extra></extra>\", \"legendgroup\": \"Ice Wizard\", \"marker\": {\"color\": \"#ab63fa\", \"symbol\": \"circle\"}, \"mode\": \"markers\", \"name\": \"Ice Wizard\", \"scene\": \"scene\", \"showlegend\": true, \"type\": \"scatter3d\", \"x\": [-299.0065411641413], \"y\": [-178.11680393121458], \"z\": [-31.59504243619837]}, {\"hovertemplate\": \"color=Royal Giant<br>PC 1=%{x}<br>PC 2=%{y}<br>PC 3=%{z}<extra></extra>\", \"legendgroup\": \"Royal Giant\", \"marker\": {\"color\": \"#FFA15A\", \"symbol\": \"circle\"}, \"mode\": \"markers\", \"name\": \"Royal Giant\", \"scene\": \"scene\", \"showlegend\": true, \"type\": \"scatter3d\", \"x\": [1666.7957436402096], \"y\": [-116.58183382036638], \"z\": [22.4555888346965]}, {\"hovertemplate\": \"color=Guards<br>PC 1=%{x}<br>PC 2=%{y}<br>PC 3=%{z}<extra></extra>\", \"legendgroup\": \"Guards\", \"marker\": {\"color\": \"#19d3f3\", \"symbol\": \"circle\"}, \"mode\": \"markers\", \"name\": \"Guards\", \"scene\": \"scene\", \"showlegend\": true, \"type\": \"scatter3d\", \"x\": [-791.121098234246], \"y\": [-217.28365092896934], \"z\": [66.9740483050106]}, {\"hovertemplate\": \"color=Princess<br>PC 1=%{x}<br>PC 2=%{y}<br>PC 3=%{z}<extra></extra>\", \"legendgroup\": \"Princess\", \"marker\": {\"color\": \"#FF6692\", \"symbol\": \"circle\"}, \"mode\": \"markers\", \"name\": \"Princess\", \"scene\": \"scene\", \"showlegend\": true, \"type\": \"scatter3d\", \"x\": [-672.1077559228867], \"y\": [-35.30300514113995], \"z\": [-12.990222040065335]}, {\"hovertemplate\": \"color=Dark Prince<br>PC 1=%{x}<br>PC 2=%{y}<br>PC 3=%{z}<extra></extra>\", \"legendgroup\": \"Dark Prince\", \"marker\": {\"color\": \"#B6E880\", \"symbol\": \"circle\"}, \"mode\": \"markers\", \"name\": \"Dark Prince\", \"scene\": \"scene\", \"showlegend\": true, \"type\": \"scatter3d\", \"x\": [346.1476594826432], \"y\": [37.80627814083057], \"z\": [86.9162475536359]}, {\"hovertemplate\": \"color=Three Musketeers<br>PC 1=%{x}<br>PC 2=%{y}<br>PC 3=%{z}<extra></extra>\", \"legendgroup\": \"Three Musketeers\", \"marker\": {\"color\": \"#FF97FF\", \"symbol\": \"circle\"}, \"mode\": \"markers\", \"name\": \"Three Musketeers\", \"scene\": \"scene\", \"showlegend\": true, \"type\": \"scatter3d\", \"x\": [-286.9231674062084], \"y\": [-24.59027461507202], \"z\": [-46.684400126834525]}, {\"hovertemplate\": \"color=Lava Hound<br>PC 1=%{x}<br>PC 2=%{y}<br>PC 3=%{z}<extra></extra>\", \"legendgroup\": \"Lava Hound\", \"marker\": {\"color\": \"#FECB52\", \"symbol\": \"circle\"}, \"mode\": \"markers\", \"name\": \"Lava Hound\", \"scene\": \"scene\", \"showlegend\": true, \"type\": \"scatter3d\", \"x\": [2253.2535723639], \"y\": [-222.13487996096276], \"z\": [-201.56619093667746]}, {\"hovertemplate\": \"color=Ice Spirit<br>PC 1=%{x}<br>PC 2=%{y}<br>PC 3=%{z}<extra></extra>\", \"legendgroup\": \"Ice Spirit\", \"marker\": {\"color\": \"#636efa\", \"symbol\": \"circle\"}, \"mode\": \"markers\", \"name\": \"Ice Spirit\", \"scene\": \"scene\", \"showlegend\": true, \"type\": \"scatter3d\", \"x\": [-694.4156518829379], \"y\": [-142.82914832497332], \"z\": [-12.912841573713944]}, {\"hovertemplate\": \"color=Fire Spirits<br>PC 1=%{x}<br>PC 2=%{y}<br>PC 3=%{z}<extra></extra>\", \"legendgroup\": \"Fire Spirits\", \"marker\": {\"color\": \"#EF553B\", \"symbol\": \"circle\"}, \"mode\": \"markers\", \"name\": \"Fire Spirits\", \"scene\": \"scene\", \"showlegend\": true, \"type\": \"scatter3d\", \"x\": [-796.9009631405004], \"y\": [48.26738064997494], \"z\": [-7.8500684004585715]}, {\"hovertemplate\": \"color=Miner<br>PC 1=%{x}<br>PC 2=%{y}<br>PC 3=%{z}<extra></extra>\", \"legendgroup\": \"Miner\", \"marker\": {\"color\": \"#00cc96\", \"symbol\": \"circle\"}, \"mode\": \"markers\", \"name\": \"Miner\", \"scene\": \"scene\", \"showlegend\": true, \"type\": \"scatter3d\", \"x\": [115.48006936457459], \"y\": [-154.74076218162347], \"z\": [0.40955994740484636]}, {\"hovertemplate\": \"color=Sparky<br>PC 1=%{x}<br>PC 2=%{y}<br>PC 3=%{z}<extra></extra>\", \"legendgroup\": \"Sparky\", \"marker\": {\"color\": \"#ab63fa\", \"symbol\": \"circle\"}, \"mode\": \"markers\", \"name\": \"Sparky\", \"scene\": \"scene\", \"showlegend\": true, \"type\": \"scatter3d\", \"x\": [351.4856897122691], \"y\": [1689.134814177508], \"z\": [751.3217144796045]}, {\"hovertemplate\": \"color=Bowler<br>PC 1=%{x}<br>PC 2=%{y}<br>PC 3=%{z}<extra></extra>\", \"legendgroup\": \"Bowler\", \"marker\": {\"color\": \"#FFA15A\", \"symbol\": \"circle\"}, \"mode\": \"markers\", \"name\": \"Bowler\", \"scene\": \"scene\", \"showlegend\": true, \"type\": \"scatter3d\", \"x\": [713.1752785492703], \"y\": [99.10706043382798], \"z\": [88.88861366435195]}, {\"hovertemplate\": \"color=Lumberjack<br>PC 1=%{x}<br>PC 2=%{y}<br>PC 3=%{z}<extra></extra>\", \"legendgroup\": \"Lumberjack\", \"marker\": {\"color\": \"#19d3f3\", \"symbol\": \"circle\"}, \"mode\": \"markers\", \"name\": \"Lumberjack\", \"scene\": \"scene\", \"showlegend\": true, \"type\": \"scatter3d\", \"x\": [182.6773979008725], \"y\": [-61.7742664895644], \"z\": [84.46996792442852]}, {\"hovertemplate\": \"color=Battle Ram<br>PC 1=%{x}<br>PC 2=%{y}<br>PC 3=%{z}<extra></extra>\", \"legendgroup\": \"Battle Ram\", \"marker\": {\"color\": \"#FF6692\", \"symbol\": \"circle\"}, \"mode\": \"markers\", \"name\": \"Battle Ram\", \"scene\": \"scene\", \"showlegend\": true, \"type\": \"scatter3d\", \"x\": [445.646771657782], \"y\": [-125.52015309173905], \"z\": [11.065379740699377]}, {\"hovertemplate\": \"color=Inferno Dragon<br>PC 1=%{x}<br>PC 2=%{y}<br>PC 3=%{z}<extra></extra>\", \"legendgroup\": \"Inferno Dragon\", \"marker\": {\"color\": \"#B6E880\", \"symbol\": \"circle\"}, \"mode\": \"markers\", \"name\": \"Inferno Dragon\", \"scene\": \"scene\", \"showlegend\": true, \"type\": \"scatter3d\", \"x\": [183.66483949488693], \"y\": [-8.304694728797228], \"z\": [-76.57654503729478]}, {\"hovertemplate\": \"color=Ice Golem<br>PC 1=%{x}<br>PC 2=%{y}<br>PC 3=%{z}<extra></extra>\", \"legendgroup\": \"Ice Golem\", \"marker\": {\"color\": \"#FF97FF\", \"symbol\": \"circle\"}, \"mode\": \"markers\", \"name\": \"Ice Golem\", \"scene\": \"scene\", \"showlegend\": true, \"type\": \"scatter3d\", \"x\": [111.56615476190154], \"y\": [-280.621986079592], \"z\": [-8.50976327839172]}, {\"hovertemplate\": \"color=Mega Minion<br>PC 1=%{x}<br>PC 2=%{y}<br>PC 3=%{z}<extra></extra>\", \"legendgroup\": \"Mega Minion\", \"marker\": {\"color\": \"#FECB52\", \"symbol\": \"circle\"}, \"mode\": \"markers\", \"name\": \"Mega Minion\", \"scene\": \"scene\", \"showlegend\": true, \"type\": \"scatter3d\", \"x\": [-188.6858894274562], \"y\": [111.0788644064043], \"z\": [-60.94354197131349]}, {\"hovertemplate\": \"color=Dart Goblin<br>PC 1=%{x}<br>PC 2=%{y}<br>PC 3=%{z}<extra></extra>\", \"legendgroup\": \"Dart Goblin\", \"marker\": {\"color\": \"#636efa\", \"symbol\": \"circle\"}, \"mode\": \"markers\", \"name\": \"Dart Goblin\", \"scene\": \"scene\", \"showlegend\": true, \"type\": \"scatter3d\", \"x\": [-669.290427491969], \"y\": [-167.57415499461223], \"z\": [-14.519285160984627]}, {\"hovertemplate\": \"color=Goblin Gang<br>PC 1=%{x}<br>PC 2=%{y}<br>PC 3=%{z}<extra></extra>\", \"legendgroup\": \"Goblin Gang\", \"marker\": {\"color\": \"#EF553B\", \"symbol\": \"circle\"}, \"mode\": \"markers\", \"name\": \"Goblin Gang\", \"scene\": \"scene\", \"showlegend\": true, \"type\": \"scatter3d\", \"x\": [-746.1752187862609], \"y\": [-203.27214159775073], \"z\": [5.000451172722368]}, {\"hovertemplate\": \"color=Electro Wizard<br>PC 1=%{x}<br>PC 2=%{y}<br>PC 3=%{z}<extra></extra>\", \"legendgroup\": \"Electro Wizard\", \"marker\": {\"color\": \"#00cc96\", \"symbol\": \"circle\"}, \"mode\": \"markers\", \"name\": \"Electro Wizard\", \"scene\": \"scene\", \"showlegend\": true, \"type\": \"scatter3d\", \"x\": [-294.67570390894076], \"y\": [-5.230235094177683], \"z\": [-47.3768717826953]}, {\"hovertemplate\": \"color=Elite Barbarians<br>PC 1=%{x}<br>PC 2=%{y}<br>PC 3=%{z}<extra></extra>\", \"legendgroup\": \"Elite Barbarians\", \"marker\": {\"color\": \"#ab63fa\", \"symbol\": \"circle\"}, \"mode\": \"markers\", \"name\": \"Elite Barbarians\", \"scene\": \"scene\", \"showlegend\": true, \"type\": \"scatter3d\", \"x\": [99.47152430369674], \"y\": [80.09349691600822], \"z\": [160.62987422154058]}, {\"hovertemplate\": \"color=Hunter<br>PC 1=%{x}<br>PC 2=%{y}<br>PC 3=%{z}<extra></extra>\", \"legendgroup\": \"Hunter\", \"marker\": {\"color\": \"#FFA15A\", \"symbol\": \"circle\"}, \"mode\": \"markers\", \"name\": \"Hunter\", \"scene\": \"scene\", \"showlegend\": true, \"type\": \"scatter3d\", \"x\": [-196.8485122773968], \"y\": [1198.5390227309988], \"z\": [-79.55993799368309]}, {\"hovertemplate\": \"color=Executioner<br>PC 1=%{x}<br>PC 2=%{y}<br>PC 3=%{z}<extra></extra>\", \"legendgroup\": \"Executioner\", \"marker\": {\"color\": \"#19d3f3\", \"symbol\": \"circle\"}, \"mode\": \"markers\", \"name\": \"Executioner\", \"scene\": \"scene\", \"showlegend\": true, \"type\": \"scatter3d\", \"x\": [118.4361644215312], \"y\": [273.78805539826453], \"z\": [-70.93231550891595]}, {\"hovertemplate\": \"color=Bandit<br>PC 1=%{x}<br>PC 2=%{y}<br>PC 3=%{z}<extra></extra>\", \"legendgroup\": \"Bandit\", \"marker\": {\"color\": \"#FF6692\", \"symbol\": \"circle\"}, \"mode\": \"markers\", \"name\": \"Bandit\", \"scene\": \"scene\", \"showlegend\": true, \"type\": \"scatter3d\", \"x\": [-128.84830025347262], \"y\": [-118.28237345860155], \"z\": [75.4858335954716]}, {\"hovertemplate\": \"color=Royal Recruits<br>PC 1=%{x}<br>PC 2=%{y}<br>PC 3=%{z}<extra></extra>\", \"legendgroup\": \"Royal Recruits\", \"marker\": {\"color\": \"#B6E880\", \"symbol\": \"circle\"}, \"mode\": \"markers\", \"name\": \"Royal Recruits\", \"scene\": \"scene\", \"showlegend\": true, \"type\": \"scatter3d\", \"x\": [-243.26304167439096], \"y\": [-201.31225285766317], \"z\": [41.030855659702425]}, {\"hovertemplate\": \"color=Night Witch<br>PC 1=%{x}<br>PC 2=%{y}<br>PC 3=%{z}<extra></extra>\", \"legendgroup\": \"Night Witch\", \"marker\": {\"color\": \"#FF97FF\", \"symbol\": \"circle\"}, \"mode\": \"markers\", \"name\": \"Night Witch\", \"scene\": \"scene\", \"showlegend\": true, \"type\": \"scatter3d\", \"x\": [-131.56020699147678], \"y\": [-89.55658587542646], \"z\": [23.82726086671209]}, {\"hovertemplate\": \"color=Bats<br>PC 1=%{x}<br>PC 2=%{y}<br>PC 3=%{z}<extra></extra>\", \"legendgroup\": \"Bats\", \"marker\": {\"color\": \"#FECB52\", \"symbol\": \"circle\"}, \"mode\": \"markers\", \"name\": \"Bats\", \"scene\": \"scene\", \"showlegend\": true, \"type\": \"scatter3d\", \"x\": [-818.4630537115489], \"y\": [-225.82736433179613], \"z\": [-1.805568035266735]}, {\"hovertemplate\": \"color=Royal Ghost<br>PC 1=%{x}<br>PC 2=%{y}<br>PC 3=%{z}<extra></extra>\", \"legendgroup\": \"Royal Ghost\", \"marker\": {\"color\": \"#636efa\", \"symbol\": \"circle\"}, \"mode\": \"markers\", \"name\": \"Royal Ghost\", \"scene\": \"scene\", \"showlegend\": true, \"type\": \"scatter3d\", \"x\": [118.3018297378462], \"y\": [56.063219789545414], \"z\": [108.36426372433698]}, {\"hovertemplate\": \"color=Ram Rider<br>PC 1=%{x}<br>PC 2=%{y}<br>PC 3=%{z}<extra></extra>\", \"legendgroup\": \"Ram Rider\", \"marker\": {\"color\": \"#EF553B\", \"symbol\": \"circle\"}, \"mode\": \"markers\", \"name\": \"Ram Rider\", \"scene\": \"scene\", \"showlegend\": true, \"type\": \"scatter3d\", \"x\": [580.7090712074731], \"y\": [-72.41494387759683], \"z\": [-0.23220207902459972]}, {\"hovertemplate\": \"color=Zappies<br>PC 1=%{x}<br>PC 2=%{y}<br>PC 3=%{z}<extra></extra>\", \"legendgroup\": \"Zappies\", \"marker\": {\"color\": \"#00cc96\", \"symbol\": \"circle\"}, \"mode\": \"markers\", \"name\": \"Zappies\", \"scene\": \"scene\", \"showlegend\": true, \"type\": \"scatter3d\", \"x\": [-446.3710260126493], \"y\": [-195.53908080213395], \"z\": [-26.505464035762277]}, {\"hovertemplate\": \"color=Rascals<br>PC 1=%{x}<br>PC 2=%{y}<br>PC 3=%{z}<extra></extra>\", \"legendgroup\": \"Rascals\", \"marker\": {\"color\": \"#ab63fa\", \"symbol\": \"circle\"}, \"mode\": \"markers\", \"name\": \"Rascals\", \"scene\": \"scene\", \"showlegend\": true, \"type\": \"scatter3d\", \"x\": [1056.0782036006722], \"y\": [-148.351522317106], \"z\": [-121.65780669292063]}, {\"hovertemplate\": \"color=Cannon Cart<br>PC 1=%{x}<br>PC 2=%{y}<br>PC 3=%{z}<extra></extra>\", \"legendgroup\": \"Cannon Cart\", \"marker\": {\"color\": \"#FFA15A\", \"symbol\": \"circle\"}, \"mode\": \"markers\", \"name\": \"Cannon Cart\", \"scene\": \"scene\", \"showlegend\": true, \"type\": \"scatter3d\", \"x\": [603.7066786909439], \"y\": [-95.10777044506686], \"z\": [41.69790878589982]}, {\"hovertemplate\": \"color=Mega Knight<br>PC 1=%{x}<br>PC 2=%{y}<br>PC 3=%{z}<extra></extra>\", \"legendgroup\": \"Mega Knight\", \"marker\": {\"color\": \"#19d3f3\", \"symbol\": \"circle\"}, \"mode\": \"markers\", \"name\": \"Mega Knight\", \"scene\": \"scene\", \"showlegend\": true, \"type\": \"scatter3d\", \"x\": [2410.780585018991], \"y\": [69.29723508570319], \"z\": [-28.122161338210784]}, {\"hovertemplate\": \"color=Skeleton Barrel<br>PC 1=%{x}<br>PC 2=%{y}<br>PC 3=%{z}<extra></extra>\", \"legendgroup\": \"Skeleton Barrel\", \"marker\": {\"color\": \"#FF6692\", \"symbol\": \"circle\"}, \"mode\": \"markers\", \"name\": \"Skeleton Barrel\", \"scene\": \"scene\", \"showlegend\": true, \"type\": \"scatter3d\", \"x\": [-342.48716464881363], \"y\": [-190.251000893495], \"z\": [27.034772857313865]}, {\"hovertemplate\": \"color=Flying Machine<br>PC 1=%{x}<br>PC 2=%{y}<br>PC 3=%{z}<extra></extra>\", \"legendgroup\": \"Flying Machine\", \"marker\": {\"color\": \"#B6E880\", \"symbol\": \"circle\"}, \"mode\": \"markers\", \"name\": \"Flying Machine\", \"scene\": \"scene\", \"showlegend\": true, \"type\": \"scatter3d\", \"x\": [-375.42506544800364], \"y\": [-93.34498811627417], \"z\": [-37.07450110093094]}, {\"hovertemplate\": \"color=Wall Breakers<br>PC 1=%{x}<br>PC 2=%{y}<br>PC 3=%{z}<extra></extra>\", \"legendgroup\": \"Wall Breakers\", \"marker\": {\"color\": \"#FF97FF\", \"symbol\": \"circle\"}, \"mode\": \"markers\", \"name\": \"Wall Breakers\", \"scene\": \"scene\", \"showlegend\": true, \"type\": \"scatter3d\", \"x\": [-602.4332377488844], \"y\": [373.7247930480153], \"z\": [-45.894617200284145]}, {\"hovertemplate\": \"color=Royal Hogs<br>PC 1=%{x}<br>PC 2=%{y}<br>PC 3=%{z}<extra></extra>\", \"legendgroup\": \"Royal Hogs\", \"marker\": {\"color\": \"#FECB52\", \"symbol\": \"circle\"}, \"mode\": \"markers\", \"name\": \"Royal Hogs\", \"scene\": \"scene\", \"showlegend\": true, \"type\": \"scatter3d\", \"x\": [-189.76837696224976], \"y\": [-290.97220687379905], \"z\": [6.165954407157307]}, {\"hovertemplate\": \"color=Goblin Giant<br>PC 1=%{x}<br>PC 2=%{y}<br>PC 3=%{z}<extra></extra>\", \"legendgroup\": \"Goblin Giant\", \"marker\": {\"color\": \"#636efa\", \"symbol\": \"circle\"}, \"mode\": \"markers\", \"name\": \"Goblin Giant\", \"scene\": \"scene\", \"showlegend\": true, \"type\": \"scatter3d\", \"x\": [1833.5630449039147], \"y\": [-117.1837305337235], \"z\": [-162.27814786460627]}, {\"hovertemplate\": \"color=Fisherman<br>PC 1=%{x}<br>PC 2=%{y}<br>PC 3=%{z}<extra></extra>\", \"legendgroup\": \"Fisherman\", \"marker\": {\"color\": \"#EF553B\", \"symbol\": \"circle\"}, \"mode\": \"markers\", \"name\": \"Fisherman\", \"scene\": \"scene\", \"showlegend\": true, \"type\": \"scatter3d\", \"x\": [-79.01651818558261], \"y\": [-118.23499828301446], \"z\": [72.42362015229722]}, {\"hovertemplate\": \"color=Magic Archer<br>PC 1=%{x}<br>PC 2=%{y}<br>PC 3=%{z}<extra></extra>\", \"legendgroup\": \"Magic Archer\", \"marker\": {\"color\": \"#00cc96\", \"symbol\": \"circle\"}, \"mode\": \"markers\", \"name\": \"Magic Archer\", \"scene\": \"scene\", \"showlegend\": true, \"type\": \"scatter3d\", \"x\": [-448.70094755919143], \"y\": [-98.96653976354818], \"z\": [-24.799256513908084]}, {\"hovertemplate\": \"color=Electro Dragon<br>PC 1=%{x}<br>PC 2=%{y}<br>PC 3=%{z}<extra></extra>\", \"legendgroup\": \"Electro Dragon\", \"marker\": {\"color\": \"#ab63fa\", \"symbol\": \"circle\"}, \"mode\": \"markers\", \"name\": \"Electro Dragon\", \"scene\": \"scene\", \"showlegend\": true, \"type\": \"scatter3d\", \"x\": [-96.02124623643401], \"y\": [-63.14829771856976], \"z\": [-56.064363634843865]}, {\"hovertemplate\": \"color=Firecracker<br>PC 1=%{x}<br>PC 2=%{y}<br>PC 3=%{z}<extra></extra>\", \"legendgroup\": \"Firecracker\", \"marker\": {\"color\": \"#FFA15A\", \"symbol\": \"circle\"}, \"mode\": \"markers\", \"name\": \"Firecracker\", \"scene\": \"scene\", \"showlegend\": true, \"type\": \"scatter3d\", \"x\": [-636.9264483880659], \"y\": [240.04124590847522], \"z\": [-23.487371619195613]}, {\"hovertemplate\": \"color=Elixir Golem<br>PC 1=%{x}<br>PC 2=%{y}<br>PC 3=%{z}<extra></extra>\", \"legendgroup\": \"Elixir Golem\", \"marker\": {\"color\": \"#19d3f3\", \"symbol\": \"circle\"}, \"mode\": \"markers\", \"name\": \"Elixir Golem\", \"scene\": \"scene\", \"showlegend\": true, \"type\": \"scatter3d\", \"x\": [1295.0854777987422], \"y\": [-228.78232756541337], \"z\": [-39.19804325526891]}, {\"hovertemplate\": \"color=Battle Healer<br>PC 1=%{x}<br>PC 2=%{y}<br>PC 3=%{z}<extra></extra>\", \"legendgroup\": \"Battle Healer\", \"marker\": {\"color\": \"#FF6692\", \"symbol\": \"circle\"}, \"mode\": \"markers\", \"name\": \"Battle Healer\", \"scene\": \"scene\", \"showlegend\": true, \"type\": \"scatter3d\", \"x\": [541.4998905229108], \"y\": [-169.65296234239554], \"z\": [8.249681269827594]}, {\"hovertemplate\": \"color=Skeleton Dragons<br>PC 1=%{x}<br>PC 2=%{y}<br>PC 3=%{z}<extra></extra>\", \"legendgroup\": \"Skeleton Dragons\", \"marker\": {\"color\": \"#B6E880\", \"symbol\": \"circle\"}, \"mode\": \"markers\", \"name\": \"Skeleton Dragons\", \"scene\": \"scene\", \"showlegend\": true, \"type\": \"scatter3d\", \"x\": [-448.8743583779176], \"y\": [-30.6911193774686], \"z\": [-26.84805226446752]}, {\"hovertemplate\": \"color=Cannon<br>PC 1=%{x}<br>PC 2=%{y}<br>PC 3=%{z}<extra></extra>\", \"legendgroup\": \"Cannon\", \"marker\": {\"color\": \"#FF97FF\", \"symbol\": \"circle\"}, \"mode\": \"markers\", \"name\": \"Cannon\", \"scene\": \"scene\", \"showlegend\": true, \"type\": \"scatter3d\", \"x\": [-143.96924266781457], \"y\": [-159.1032463722056], \"z\": [-14.390325932357353]}, {\"hovertemplate\": \"color=Goblin Hut<br>PC 1=%{x}<br>PC 2=%{y}<br>PC 3=%{z}<extra></extra>\", \"legendgroup\": \"Goblin Hut\", \"marker\": {\"color\": \"#FECB52\", \"symbol\": \"circle\"}, \"mode\": \"markers\", \"name\": \"Goblin Hut\", \"scene\": \"scene\", \"showlegend\": true, \"type\": \"scatter3d\", \"x\": [-44.06173070507273], \"y\": [-225.31277666286533], \"z\": [-49.8045489877867]}, {\"hovertemplate\": \"color=Mortar<br>PC 1=%{x}<br>PC 2=%{y}<br>PC 3=%{z}<extra></extra>\", \"legendgroup\": \"Mortar\", \"marker\": {\"color\": \"#636efa\", \"symbol\": \"circle\"}, \"mode\": \"markers\", \"name\": \"Mortar\", \"scene\": \"scene\", \"showlegend\": true, \"type\": \"scatter3d\", \"x\": [336.7325166739245], \"y\": [63.506061859576036], \"z\": [97.62069967972698]}, {\"hovertemplate\": \"color=Inferno Tower<br>PC 1=%{x}<br>PC 2=%{y}<br>PC 3=%{z}<extra></extra>\", \"legendgroup\": \"Inferno Tower\", \"marker\": {\"color\": \"#EF553B\", \"symbol\": \"circle\"}, \"mode\": \"markers\", \"name\": \"Inferno Tower\", \"scene\": \"scene\", \"showlegend\": true, \"type\": \"scatter3d\", \"x\": [550.8922191431708], \"y\": [177.59898785688554], \"z\": [-332.0165006318616]}, {\"hovertemplate\": \"color=Bomb Tower<br>PC 1=%{x}<br>PC 2=%{y}<br>PC 3=%{z}<extra></extra>\", \"legendgroup\": \"Bomb Tower\", \"marker\": {\"color\": \"#00cc96\", \"symbol\": \"circle\"}, \"mode\": \"markers\", \"name\": \"Bomb Tower\", \"scene\": \"scene\", \"showlegend\": true, \"type\": \"scatter3d\", \"x\": [247.63993765269296], \"y\": [-66.2478908429831], \"z\": [-48.379719550720665]}, {\"hovertemplate\": \"color=Barbarian Hut<br>PC 1=%{x}<br>PC 2=%{y}<br>PC 3=%{z}<extra></extra>\", \"legendgroup\": \"Barbarian Hut\", \"marker\": {\"color\": \"#ab63fa\", \"symbol\": \"circle\"}, \"mode\": \"markers\", \"name\": \"Barbarian Hut\", \"scene\": \"scene\", \"showlegend\": true, \"type\": \"scatter3d\", \"x\": [571.7100321471966], \"y\": [-98.21614622662108], \"z\": [41.78963344937979]}, {\"hovertemplate\": \"color=Tesla<br>PC 1=%{x}<br>PC 2=%{y}<br>PC 3=%{z}<extra></extra>\", \"legendgroup\": \"Tesla\", \"marker\": {\"color\": \"#FFA15A\", \"symbol\": \"circle\"}, \"mode\": \"markers\", \"name\": \"Tesla\", \"scene\": \"scene\", \"showlegend\": true, \"type\": \"scatter3d\", \"x\": [59.25031113948734], \"y\": [-75.62604460428236], \"z\": [-178.9913585929331]}, {\"hovertemplate\": \"color=Elixir Collector<br>PC 1=%{x}<br>PC 2=%{y}<br>PC 3=%{z}<extra></extra>\", \"legendgroup\": \"Elixir Collector\", \"marker\": {\"color\": \"#19d3f3\", \"symbol\": \"circle\"}, \"mode\": \"markers\", \"name\": \"Elixir Collector\", \"scene\": \"scene\", \"showlegend\": true, \"type\": \"scatter3d\", \"x\": [-1.5576760195572579], \"y\": [-343.3862517761912], \"z\": [-45.56101222875084]}, {\"hovertemplate\": \"color=X-Bow<br>PC 1=%{x}<br>PC 2=%{y}<br>PC 3=%{z}<extra></extra>\", \"legendgroup\": \"X-Bow\", \"marker\": {\"color\": \"#FF6692\", \"symbol\": \"circle\"}, \"mode\": \"markers\", \"name\": \"X-Bow\", \"scene\": \"scene\", \"showlegend\": true, \"type\": \"scatter3d\", \"x\": [493.42950093043646], \"y\": [-306.22558823589304], \"z\": [-57.42608537081985]}, {\"hovertemplate\": \"color=Tombstone<br>PC 1=%{x}<br>PC 2=%{y}<br>PC 3=%{z}<extra></extra>\", \"legendgroup\": \"Tombstone\", \"marker\": {\"color\": \"#B6E880\", \"symbol\": \"circle\"}, \"mode\": \"markers\", \"name\": \"Tombstone\", \"scene\": \"scene\", \"showlegend\": true, \"type\": \"scatter3d\", \"x\": [-461.7028599086488], \"y\": [-249.52433533088322], \"z\": [30.172991189474835]}, {\"hovertemplate\": \"color=Furnace<br>PC 1=%{x}<br>PC 2=%{y}<br>PC 3=%{z}<extra></extra>\", \"legendgroup\": \"Furnace\", \"marker\": {\"color\": \"#FF97FF\", \"symbol\": \"circle\"}, \"mode\": \"markers\", \"name\": \"Furnace\", \"scene\": \"scene\", \"showlegend\": true, \"type\": \"scatter3d\", \"x\": [-46.03898129886021], \"y\": [-101.06874499064094], \"z\": [-49.95032801830218]}, {\"hovertemplate\": \"color=Goblin Cage<br>PC 1=%{x}<br>PC 2=%{y}<br>PC 3=%{z}<extra></extra>\", \"legendgroup\": \"Goblin Cage\", \"marker\": {\"color\": \"#FECB52\", \"symbol\": \"circle\"}, \"mode\": \"markers\", \"name\": \"Goblin Cage\", \"scene\": \"scene\", \"showlegend\": true, \"type\": \"scatter3d\", \"x\": [778.7637797510359], \"y\": [49.70752141598432], \"z\": [103.19368869886661]}, {\"hovertemplate\": \"color=Fireball<br>PC 1=%{x}<br>PC 2=%{y}<br>PC 3=%{z}<extra></extra>\", \"legendgroup\": \"Fireball\", \"marker\": {\"color\": \"#636efa\", \"symbol\": \"circle\"}, \"mode\": \"markers\", \"name\": \"Fireball\", \"scene\": \"scene\", \"showlegend\": true, \"type\": \"scatter3d\", \"x\": [-907.0161131444663], \"y\": [785.0804057877583], \"z\": [-241.62619088083247]}, {\"hovertemplate\": \"color=Arrows<br>PC 1=%{x}<br>PC 2=%{y}<br>PC 3=%{z}<extra></extra>\", \"legendgroup\": \"Arrows\", \"marker\": {\"color\": \"#EF553B\", \"symbol\": \"circle\"}, \"mode\": \"markers\", \"name\": \"Arrows\", \"scene\": \"scene\", \"showlegend\": true, \"type\": \"scatter3d\", \"x\": [-897.3454616925031], \"y\": [254.7041441506785], \"z\": [-122.6408085510663]}, {\"hovertemplate\": \"color=Rage<br>PC 1=%{x}<br>PC 2=%{y}<br>PC 3=%{z}<extra></extra>\", \"legendgroup\": \"Rage\", \"marker\": {\"color\": \"#00cc96\", \"symbol\": \"circle\"}, \"mode\": \"markers\", \"name\": \"Rage\", \"scene\": \"scene\", \"showlegend\": true, \"type\": \"scatter3d\", \"x\": [-886.598982805914], \"y\": [-343.8921367667292], \"z\": [9.44673009041059]}, {\"hovertemplate\": \"color=Rocket<br>PC 1=%{x}<br>PC 2=%{y}<br>PC 3=%{z}<extra></extra>\", \"legendgroup\": \"Rocket\", \"marker\": {\"color\": \"#ab63fa\", \"symbol\": \"circle\"}, \"mode\": \"markers\", \"name\": \"Rocket\", \"scene\": \"scene\", \"showlegend\": true, \"type\": \"scatter3d\", \"x\": [-930.6145010929911], \"y\": [2087.370838875449], \"z\": [-531.9428811981169]}, {\"hovertemplate\": \"color=Goblin Barrel<br>PC 1=%{x}<br>PC 2=%{y}<br>PC 3=%{z}<extra></extra>\", \"legendgroup\": \"Goblin Barrel\", \"marker\": {\"color\": \"#FFA15A\", \"symbol\": \"circle\"}, \"mode\": \"markers\", \"name\": \"Goblin Barrel\", \"scene\": \"scene\", \"showlegend\": true, \"type\": \"scatter3d\", \"x\": [-880.2402143256626], \"y\": [-204.71812594015512], \"z\": [78.78059916733324]}, {\"hovertemplate\": \"color=Freeze<br>PC 1=%{x}<br>PC 2=%{y}<br>PC 3=%{z}<extra></extra>\", \"legendgroup\": \"Freeze\", \"marker\": {\"color\": \"#19d3f3\", \"symbol\": \"circle\"}, \"mode\": \"markers\", \"name\": \"Freeze\", \"scene\": \"scene\", \"showlegend\": true, \"type\": \"scatter3d\", \"x\": [-889.9600465901048], \"y\": [-156.15731679535273], \"z\": [-31.875318824017686]}, {\"hovertemplate\": \"color=Mirror<br>PC 1=%{x}<br>PC 2=%{y}<br>PC 3=%{z}<extra></extra>\", \"legendgroup\": \"Mirror\", \"marker\": {\"color\": \"#FF6692\", \"symbol\": \"circle\"}, \"mode\": \"markers\", \"name\": \"Mirror\", \"scene\": \"scene\", \"showlegend\": true, \"type\": \"scatter3d\", \"x\": [-886.598134314015], \"y\": [-343.8530154379746], \"z\": [9.526799315224912]}, {\"hovertemplate\": \"color=Lightning<br>PC 1=%{x}<br>PC 2=%{y}<br>PC 3=%{z}<extra></extra>\", \"legendgroup\": \"Lightning\", \"marker\": {\"color\": \"#B6E880\", \"symbol\": \"circle\"}, \"mode\": \"markers\", \"name\": \"Lightning\", \"scene\": \"scene\", \"showlegend\": true, \"type\": \"scatter3d\", \"x\": [-895.1970284727017], \"y\": [999.2663296736777], \"z\": [-412.8485374167878]}, {\"hovertemplate\": \"color=Zap<br>PC 1=%{x}<br>PC 2=%{y}<br>PC 3=%{z}<extra></extra>\", \"legendgroup\": \"Zap\", \"marker\": {\"color\": \"#FF97FF\", \"symbol\": \"circle\"}, \"mode\": \"markers\", \"name\": \"Zap\", \"scene\": \"scene\", \"showlegend\": true, \"type\": \"scatter3d\", \"x\": [-892.2708191966653], \"y\": [-29.997504880153656], \"z\": [-60.21500005138515]}, {\"hovertemplate\": \"color=Poison<br>PC 1=%{x}<br>PC 2=%{y}<br>PC 3=%{z}<extra></extra>\", \"legendgroup\": \"Poison\", \"marker\": {\"color\": \"#FECB52\", \"symbol\": \"circle\"}, \"mode\": \"markers\", \"name\": \"Poison\", \"scene\": \"scene\", \"showlegend\": true, \"type\": \"scatter3d\", \"x\": [-889.2429247315164], \"y\": [-195.64048467075534], \"z\": [-23.113631092113746]}, {\"hovertemplate\": \"color=Graveyard<br>PC 1=%{x}<br>PC 2=%{y}<br>PC 3=%{z}<extra></extra>\", \"legendgroup\": \"Graveyard\", \"marker\": {\"color\": \"#636efa\", \"symbol\": \"circle\"}, \"mode\": \"markers\", \"name\": \"Graveyard\", \"scene\": \"scene\", \"showlegend\": true, \"type\": \"scatter3d\", \"x\": [-815.5250240537831], \"y\": [-249.70843232348585], \"z\": [52.22417404262621]}, {\"hovertemplate\": \"color=The Log<br>PC 1=%{x}<br>PC 2=%{y}<br>PC 3=%{z}<extra></extra>\", \"legendgroup\": \"The Log\", \"marker\": {\"color\": \"#EF553B\", \"symbol\": \"circle\"}, \"mode\": \"markers\", \"name\": \"The Log\", \"scene\": \"scene\", \"showlegend\": true, \"type\": \"scatter3d\", \"x\": [-884.4208031632679], \"y\": [46.187738035159356], \"z\": [100.63334264662274]}, {\"hovertemplate\": \"color=Tornado<br>PC 1=%{x}<br>PC 2=%{y}<br>PC 3=%{z}<extra></extra>\", \"legendgroup\": \"Tornado\", \"marker\": {\"color\": \"#00cc96\", \"symbol\": \"circle\"}, \"mode\": \"markers\", \"name\": \"Tornado\", \"scene\": \"scene\", \"showlegend\": true, \"type\": \"scatter3d\", \"x\": [-892.7679521012088], \"y\": [-76.43352386388695], \"z\": [-66.43718225366091]}, {\"hovertemplate\": \"color=Clone<br>PC 1=%{x}<br>PC 2=%{y}<br>PC 3=%{z}<extra></extra>\", \"legendgroup\": \"Clone\", \"marker\": {\"color\": \"#ab63fa\", \"symbol\": \"circle\"}, \"mode\": \"markers\", \"name\": \"Clone\", \"scene\": \"scene\", \"showlegend\": true, \"type\": \"scatter3d\", \"x\": [-885.6037974299936], \"y\": [-343.852149946901], \"z\": [9.461587805292972]}, {\"hovertemplate\": \"color=Earthquake<br>PC 1=%{x}<br>PC 2=%{y}<br>PC 3=%{z}<extra></extra>\", \"legendgroup\": \"Earthquake\", \"marker\": {\"color\": \"#FFA15A\", \"symbol\": \"circle\"}, \"mode\": \"markers\", \"name\": \"Earthquake\", \"scene\": \"scene\", \"showlegend\": true, \"type\": \"scatter3d\", \"x\": [-874.3734359017865], \"y\": [-97.84492865205], \"z\": [150.2814750883593]}, {\"hovertemplate\": \"color=Barbarian Barrel<br>PC 1=%{x}<br>PC 2=%{y}<br>PC 3=%{z}<extra></extra>\", \"legendgroup\": \"Barbarian Barrel\", \"marker\": {\"color\": \"#19d3f3\", \"symbol\": \"circle\"}, \"mode\": \"markers\", \"name\": \"Barbarian Barrel\", \"scene\": \"scene\", \"showlegend\": true, \"type\": \"scatter3d\", \"x\": [-323.38917085463487], \"y\": [-109.20946730883186], \"z\": [87.45094780606529]}, {\"hovertemplate\": \"color=Heal Spirit<br>PC 1=%{x}<br>PC 2=%{y}<br>PC 3=%{z}<extra></extra>\", \"legendgroup\": \"Heal Spirit\", \"marker\": {\"color\": \"#FF6692\", \"symbol\": \"circle\"}, \"mode\": \"markers\", \"name\": \"Heal Spirit\", \"scene\": \"scene\", \"showlegend\": true, \"type\": \"scatter3d\", \"x\": [-696.2457450331998], \"y\": [-343.6792814874287], \"z\": [-2.1725692405717756]}, {\"hovertemplate\": \"color=Giant Snowball<br>PC 1=%{x}<br>PC 2=%{y}<br>PC 3=%{z}<extra></extra>\", \"legendgroup\": \"Giant Snowball\", \"marker\": {\"color\": \"#B6E880\", \"symbol\": \"circle\"}, \"mode\": \"markers\", \"name\": \"Giant Snowball\", \"scene\": \"scene\", \"showlegend\": true, \"type\": \"scatter3d\", \"x\": [-892.2708191966658], \"y\": [-29.997504880153656], \"z\": [-60.21500005138515]}, {\"hovertemplate\": \"color=Royal Delivery<br>PC 1=%{x}<br>PC 2=%{y}<br>PC 3=%{z}<extra></extra>\", \"legendgroup\": \"Royal Delivery\", \"marker\": {\"color\": \"#FF97FF\", \"symbol\": \"circle\"}, \"mode\": \"markers\", \"name\": \"Royal Delivery\", \"scene\": \"scene\", \"showlegend\": true, \"type\": \"scatter3d\", \"x\": [-252.65987446620326], \"y\": [-41.41299044488776], \"z\": [56.13895002686576]}],\n",
       "                        {\"legend\": {\"title\": {\"text\": \"color\"}, \"tracegroupgap\": 0}, \"scene\": {\"domain\": {\"x\": [0.0, 1.0], \"y\": [0.0, 1.0]}, \"xaxis\": {\"title\": {\"text\": \"PC 1\"}}, \"yaxis\": {\"title\": {\"text\": \"PC 2\"}}, \"zaxis\": {\"title\": {\"text\": \"PC 3\"}}}, \"template\": {\"data\": {\"bar\": [{\"error_x\": {\"color\": \"#2a3f5f\"}, \"error_y\": {\"color\": \"#2a3f5f\"}, \"marker\": {\"line\": {\"color\": \"#E5ECF6\", \"width\": 0.5}}, \"type\": \"bar\"}], \"barpolar\": [{\"marker\": {\"line\": {\"color\": \"#E5ECF6\", \"width\": 0.5}}, \"type\": \"barpolar\"}], \"carpet\": [{\"aaxis\": {\"endlinecolor\": \"#2a3f5f\", \"gridcolor\": \"white\", \"linecolor\": \"white\", \"minorgridcolor\": \"white\", \"startlinecolor\": \"#2a3f5f\"}, \"baxis\": {\"endlinecolor\": \"#2a3f5f\", \"gridcolor\": \"white\", \"linecolor\": \"white\", \"minorgridcolor\": \"white\", \"startlinecolor\": \"#2a3f5f\"}, \"type\": \"carpet\"}], \"choropleth\": [{\"colorbar\": {\"outlinewidth\": 0, \"ticks\": \"\"}, \"type\": \"choropleth\"}], \"contour\": [{\"colorbar\": {\"outlinewidth\": 0, \"ticks\": \"\"}, \"colorscale\": [[0.0, \"#0d0887\"], [0.1111111111111111, \"#46039f\"], [0.2222222222222222, \"#7201a8\"], [0.3333333333333333, \"#9c179e\"], [0.4444444444444444, \"#bd3786\"], [0.5555555555555556, \"#d8576b\"], [0.6666666666666666, \"#ed7953\"], [0.7777777777777778, \"#fb9f3a\"], [0.8888888888888888, \"#fdca26\"], [1.0, \"#f0f921\"]], \"type\": \"contour\"}], \"contourcarpet\": [{\"colorbar\": {\"outlinewidth\": 0, \"ticks\": \"\"}, \"type\": \"contourcarpet\"}], \"heatmap\": [{\"colorbar\": {\"outlinewidth\": 0, \"ticks\": \"\"}, \"colorscale\": [[0.0, \"#0d0887\"], [0.1111111111111111, \"#46039f\"], [0.2222222222222222, \"#7201a8\"], [0.3333333333333333, \"#9c179e\"], [0.4444444444444444, \"#bd3786\"], [0.5555555555555556, \"#d8576b\"], [0.6666666666666666, \"#ed7953\"], [0.7777777777777778, \"#fb9f3a\"], [0.8888888888888888, \"#fdca26\"], [1.0, \"#f0f921\"]], \"type\": \"heatmap\"}], \"heatmapgl\": [{\"colorbar\": {\"outlinewidth\": 0, \"ticks\": \"\"}, \"colorscale\": [[0.0, \"#0d0887\"], [0.1111111111111111, \"#46039f\"], [0.2222222222222222, \"#7201a8\"], [0.3333333333333333, \"#9c179e\"], [0.4444444444444444, \"#bd3786\"], [0.5555555555555556, \"#d8576b\"], [0.6666666666666666, \"#ed7953\"], [0.7777777777777778, \"#fb9f3a\"], [0.8888888888888888, \"#fdca26\"], [1.0, \"#f0f921\"]], \"type\": \"heatmapgl\"}], \"histogram\": [{\"marker\": {\"colorbar\": {\"outlinewidth\": 0, \"ticks\": \"\"}}, \"type\": \"histogram\"}], \"histogram2d\": [{\"colorbar\": {\"outlinewidth\": 0, \"ticks\": \"\"}, \"colorscale\": [[0.0, \"#0d0887\"], [0.1111111111111111, \"#46039f\"], [0.2222222222222222, \"#7201a8\"], [0.3333333333333333, \"#9c179e\"], [0.4444444444444444, \"#bd3786\"], [0.5555555555555556, \"#d8576b\"], [0.6666666666666666, \"#ed7953\"], [0.7777777777777778, \"#fb9f3a\"], [0.8888888888888888, \"#fdca26\"], [1.0, \"#f0f921\"]], \"type\": \"histogram2d\"}], \"histogram2dcontour\": [{\"colorbar\": {\"outlinewidth\": 0, \"ticks\": \"\"}, \"colorscale\": [[0.0, \"#0d0887\"], [0.1111111111111111, \"#46039f\"], [0.2222222222222222, \"#7201a8\"], [0.3333333333333333, \"#9c179e\"], [0.4444444444444444, \"#bd3786\"], [0.5555555555555556, \"#d8576b\"], [0.6666666666666666, \"#ed7953\"], [0.7777777777777778, \"#fb9f3a\"], [0.8888888888888888, \"#fdca26\"], [1.0, \"#f0f921\"]], \"type\": \"histogram2dcontour\"}], \"mesh3d\": [{\"colorbar\": {\"outlinewidth\": 0, \"ticks\": \"\"}, \"type\": \"mesh3d\"}], \"parcoords\": [{\"line\": {\"colorbar\": {\"outlinewidth\": 0, \"ticks\": \"\"}}, \"type\": \"parcoords\"}], \"pie\": [{\"automargin\": true, \"type\": \"pie\"}], \"scatter\": [{\"marker\": {\"colorbar\": {\"outlinewidth\": 0, \"ticks\": \"\"}}, \"type\": \"scatter\"}], \"scatter3d\": [{\"line\": {\"colorbar\": {\"outlinewidth\": 0, \"ticks\": \"\"}}, \"marker\": {\"colorbar\": {\"outlinewidth\": 0, \"ticks\": \"\"}}, \"type\": \"scatter3d\"}], \"scattercarpet\": [{\"marker\": {\"colorbar\": {\"outlinewidth\": 0, \"ticks\": \"\"}}, \"type\": \"scattercarpet\"}], \"scattergeo\": [{\"marker\": {\"colorbar\": {\"outlinewidth\": 0, \"ticks\": \"\"}}, \"type\": \"scattergeo\"}], \"scattergl\": [{\"marker\": {\"colorbar\": {\"outlinewidth\": 0, \"ticks\": \"\"}}, \"type\": \"scattergl\"}], \"scattermapbox\": [{\"marker\": {\"colorbar\": {\"outlinewidth\": 0, \"ticks\": \"\"}}, \"type\": \"scattermapbox\"}], \"scatterpolar\": [{\"marker\": {\"colorbar\": {\"outlinewidth\": 0, \"ticks\": \"\"}}, \"type\": \"scatterpolar\"}], \"scatterpolargl\": [{\"marker\": {\"colorbar\": {\"outlinewidth\": 0, \"ticks\": \"\"}}, \"type\": \"scatterpolargl\"}], \"scatterternary\": [{\"marker\": {\"colorbar\": {\"outlinewidth\": 0, \"ticks\": \"\"}}, \"type\": \"scatterternary\"}], \"surface\": [{\"colorbar\": {\"outlinewidth\": 0, \"ticks\": \"\"}, \"colorscale\": [[0.0, \"#0d0887\"], [0.1111111111111111, \"#46039f\"], [0.2222222222222222, \"#7201a8\"], [0.3333333333333333, \"#9c179e\"], [0.4444444444444444, \"#bd3786\"], [0.5555555555555556, \"#d8576b\"], [0.6666666666666666, \"#ed7953\"], [0.7777777777777778, \"#fb9f3a\"], [0.8888888888888888, \"#fdca26\"], [1.0, \"#f0f921\"]], \"type\": \"surface\"}], \"table\": [{\"cells\": {\"fill\": {\"color\": \"#EBF0F8\"}, \"line\": {\"color\": \"white\"}}, \"header\": {\"fill\": {\"color\": \"#C8D4E3\"}, \"line\": {\"color\": \"white\"}}, \"type\": \"table\"}]}, \"layout\": {\"annotationdefaults\": {\"arrowcolor\": \"#2a3f5f\", \"arrowhead\": 0, \"arrowwidth\": 1}, \"coloraxis\": {\"colorbar\": {\"outlinewidth\": 0, \"ticks\": \"\"}}, \"colorscale\": {\"diverging\": [[0, \"#8e0152\"], [0.1, \"#c51b7d\"], [0.2, \"#de77ae\"], [0.3, \"#f1b6da\"], [0.4, \"#fde0ef\"], [0.5, \"#f7f7f7\"], [0.6, \"#e6f5d0\"], [0.7, \"#b8e186\"], [0.8, \"#7fbc41\"], [0.9, \"#4d9221\"], [1, \"#276419\"]], \"sequential\": [[0.0, \"#0d0887\"], [0.1111111111111111, \"#46039f\"], [0.2222222222222222, \"#7201a8\"], [0.3333333333333333, \"#9c179e\"], [0.4444444444444444, \"#bd3786\"], [0.5555555555555556, \"#d8576b\"], [0.6666666666666666, \"#ed7953\"], [0.7777777777777778, \"#fb9f3a\"], [0.8888888888888888, \"#fdca26\"], [1.0, \"#f0f921\"]], \"sequentialminus\": [[0.0, \"#0d0887\"], [0.1111111111111111, \"#46039f\"], [0.2222222222222222, \"#7201a8\"], [0.3333333333333333, \"#9c179e\"], [0.4444444444444444, \"#bd3786\"], [0.5555555555555556, \"#d8576b\"], [0.6666666666666666, \"#ed7953\"], [0.7777777777777778, \"#fb9f3a\"], [0.8888888888888888, \"#fdca26\"], [1.0, \"#f0f921\"]]}, \"colorway\": [\"#636efa\", \"#EF553B\", \"#00cc96\", \"#ab63fa\", \"#FFA15A\", \"#19d3f3\", \"#FF6692\", \"#B6E880\", \"#FF97FF\", \"#FECB52\"], \"font\": {\"color\": \"#2a3f5f\"}, \"geo\": {\"bgcolor\": \"white\", \"lakecolor\": \"white\", \"landcolor\": \"#E5ECF6\", \"showlakes\": true, \"showland\": true, \"subunitcolor\": \"white\"}, \"hoverlabel\": {\"align\": \"left\"}, \"hovermode\": \"closest\", \"mapbox\": {\"style\": \"light\"}, \"paper_bgcolor\": \"white\", \"plot_bgcolor\": \"#E5ECF6\", \"polar\": {\"angularaxis\": {\"gridcolor\": \"white\", \"linecolor\": \"white\", \"ticks\": \"\"}, \"bgcolor\": \"#E5ECF6\", \"radialaxis\": {\"gridcolor\": \"white\", \"linecolor\": \"white\", \"ticks\": \"\"}}, \"scene\": {\"xaxis\": {\"backgroundcolor\": \"#E5ECF6\", \"gridcolor\": \"white\", \"gridwidth\": 2, \"linecolor\": \"white\", \"showbackground\": true, \"ticks\": \"\", \"zerolinecolor\": \"white\"}, \"yaxis\": {\"backgroundcolor\": \"#E5ECF6\", \"gridcolor\": \"white\", \"gridwidth\": 2, \"linecolor\": \"white\", \"showbackground\": true, \"ticks\": \"\", \"zerolinecolor\": \"white\"}, \"zaxis\": {\"backgroundcolor\": \"#E5ECF6\", \"gridcolor\": \"white\", \"gridwidth\": 2, \"linecolor\": \"white\", \"showbackground\": true, \"ticks\": \"\", \"zerolinecolor\": \"white\"}}, \"shapedefaults\": {\"line\": {\"color\": \"#2a3f5f\"}}, \"ternary\": {\"aaxis\": {\"gridcolor\": \"white\", \"linecolor\": \"white\", \"ticks\": \"\"}, \"baxis\": {\"gridcolor\": \"white\", \"linecolor\": \"white\", \"ticks\": \"\"}, \"bgcolor\": \"#E5ECF6\", \"caxis\": {\"gridcolor\": \"white\", \"linecolor\": \"white\", \"ticks\": \"\"}}, \"title\": {\"x\": 0.05}, \"xaxis\": {\"automargin\": true, \"gridcolor\": \"white\", \"linecolor\": \"white\", \"ticks\": \"\", \"title\": {\"standoff\": 15}, \"zerolinecolor\": \"white\", \"zerolinewidth\": 2}, \"yaxis\": {\"automargin\": true, \"gridcolor\": \"white\", \"linecolor\": \"white\", \"ticks\": \"\", \"title\": {\"standoff\": 15}, \"zerolinecolor\": \"white\", \"zerolinewidth\": 2}}}, \"title\": {\"text\": \"Total Explained Variance: 97.04%\"}},\n",
       "                        {\"responsive\": true}\n",
       "                    ).then(function(){\n",
       "                            \n",
       "var gd = document.getElementById('38b608a6-cab9-4cdd-be37-6631828339e3');\n",
       "var x = new MutationObserver(function (mutations, observer) {{\n",
       "        var display = window.getComputedStyle(gd).display;\n",
       "        if (!display || display === 'none') {{\n",
       "            console.log([gd, 'removed!']);\n",
       "            Plotly.purge(gd);\n",
       "            observer.disconnect();\n",
       "        }}\n",
       "}});\n",
       "\n",
       "// Listen for the removal of the full notebook cells\n",
       "var notebookContainer = gd.closest('#notebook-container');\n",
       "if (notebookContainer) {{\n",
       "    x.observe(notebookContainer, {childList: true});\n",
       "}}\n",
       "\n",
       "// Listen for the clearing of the current output cell\n",
       "var outputEl = gd.closest('.output');\n",
       "if (outputEl) {{\n",
       "    x.observe(outputEl, {childList: true});\n",
       "}}\n",
       "\n",
       "                        })\n",
       "                };\n",
       "                });\n",
       "            </script>\n",
       "        </div>"
      ]
     },
     "metadata": {},
     "output_type": "display_data"
    }
   ],
   "source": [
    "pca = PCA(n_components=3)\n",
    "components = pca.fit_transform(vals)\n",
    "\n",
    "total_var = pca.explained_variance_ratio_.sum() * 100\n",
    "\n",
    "fig = px.scatter_3d(\n",
    "    components, x=0, y=1, z=2, color=df_stats['name'],\n",
    "    title=f'Total Explained Variance: {total_var:.2f}%',\n",
    "    labels={'0': 'PC 1', '1': 'PC 2', '2': 'PC 3'}\n",
    ")\n",
    "fig.show()"
   ]
  },
  {
   "cell_type": "code",
   "execution_count": 13,
   "metadata": {},
   "outputs": [
    {
     "data": {
      "application/vnd.plotly.v1+json": {
       "config": {
        "plotlyServerURL": "https://plot.ly"
       },
       "data": [
        {
         "hovertemplate": "color=Knight<br>0=%{x}<br>1=%{y}<extra></extra>",
         "legendgroup": "Knight",
         "marker": {
          "color": "#636efa",
          "symbol": "circle"
         },
         "mode": "markers",
         "name": "Knight",
         "orientation": "v",
         "showlegend": true,
         "type": "scatter",
         "x": [
          571.2348178741614
         ],
         "xaxis": "x",
         "y": [
          -107.78884379980921
         ],
         "yaxis": "y"
        },
        {
         "hovertemplate": "color=Archers<br>0=%{x}<br>1=%{y}<extra></extra>",
         "legendgroup": "Archers",
         "marker": {
          "color": "#EF553B",
          "symbol": "circle"
         },
         "mode": "markers",
         "name": "Archers",
         "orientation": "v",
         "showlegend": true,
         "type": "scatter",
         "x": [
          -633.6361292442901
         ],
         "xaxis": "x",
         "y": [
          -186.91070192108887
         ],
         "yaxis": "y"
        },
        {
         "hovertemplate": "color=Goblins<br>0=%{x}<br>1=%{y}<extra></extra>",
         "legendgroup": "Goblins",
         "marker": {
          "color": "#00cc96",
          "symbol": "circle"
         },
         "mode": "markers",
         "name": "Goblins",
         "orientation": "v",
         "showlegend": true,
         "type": "scatter",
         "x": [
          -713.8035383912546
         ],
         "xaxis": "x",
         "y": [
          -204.56405715224344
         ],
         "yaxis": "y"
        },
        {
         "hovertemplate": "color=Giant<br>0=%{x}<br>1=%{y}<extra></extra>",
         "legendgroup": "Giant",
         "marker": {
          "color": "#ab63fa",
          "symbol": "circle"
         },
         "mode": "markers",
         "name": "Giant",
         "orientation": "v",
         "showlegend": true,
         "type": "scatter",
         "x": [
          2392.2883485716047
         ],
         "xaxis": "x",
         "y": [
          -153.97337314256146
         ],
         "yaxis": "y"
        },
        {
         "hovertemplate": "color=P.E.K.K.A<br>0=%{x}<br>1=%{y}<extra></extra>",
         "legendgroup": "P.E.K.K.A",
         "marker": {
          "color": "#FFA15A",
          "symbol": "circle"
         },
         "mode": "markers",
         "name": "P.E.K.K.A",
         "orientation": "v",
         "showlegend": true,
         "type": "scatter",
         "x": [
          2271.428748505758
         ],
         "xaxis": "x",
         "y": [
          611.9644331672505
         ],
         "yaxis": "y"
        },
        {
         "hovertemplate": "color=Minions<br>0=%{x}<br>1=%{y}<extra></extra>",
         "legendgroup": "Minions",
         "marker": {
          "color": "#19d3f3",
          "symbol": "circle"
         },
         "mode": "markers",
         "name": "Minions",
         "orientation": "v",
         "showlegend": true,
         "type": "scatter",
         "x": [
          -695.5296140666276
         ],
         "xaxis": "x",
         "y": [
          -195.77475958707896
         ],
         "yaxis": "y"
        },
        {
         "hovertemplate": "color=Balloon<br>0=%{x}<br>1=%{y}<extra></extra>",
         "legendgroup": "Balloon",
         "marker": {
          "color": "#FF6692",
          "symbol": "circle"
         },
         "mode": "markers",
         "name": "Balloon",
         "orientation": "v",
         "showlegend": true,
         "type": "scatter",
         "x": [
          550.3575810452271
         ],
         "xaxis": "x",
         "y": [
          723.5260160428851
         ],
         "yaxis": "y"
        },
        {
         "hovertemplate": "color=Witch<br>0=%{x}<br>1=%{y}<extra></extra>",
         "legendgroup": "Witch",
         "marker": {
          "color": "#B6E880",
          "symbol": "circle"
         },
         "mode": "markers",
         "name": "Witch",
         "orientation": "v",
         "showlegend": true,
         "type": "scatter",
         "x": [
          -194.75152283481017
         ],
         "xaxis": "x",
         "y": [
          -124.72785206021416
         ],
         "yaxis": "y"
        },
        {
         "hovertemplate": "color=Barbarians<br>0=%{x}<br>1=%{y}<extra></extra>",
         "legendgroup": "Barbarians",
         "marker": {
          "color": "#FF97FF",
          "symbol": "circle"
         },
         "mode": "markers",
         "name": "Barbarians",
         "orientation": "v",
         "showlegend": true,
         "type": "scatter",
         "x": [
          -323.2547491956851
         ],
         "xaxis": "x",
         "y": [
          -119.8746637045659
         ],
         "yaxis": "y"
        },
        {
         "hovertemplate": "color=Golem<br>0=%{x}<br>1=%{y}<extra></extra>",
         "legendgroup": "Golem",
         "marker": {
          "color": "#FECB52",
          "symbol": "circle"
         },
         "mode": "markers",
         "name": "Golem",
         "orientation": "v",
         "showlegend": true,
         "type": "scatter",
         "x": [
          5274.4702270803955
         ],
         "xaxis": "x",
         "y": [
          -107.57383193604032
         ],
         "yaxis": "y"
        },
        {
         "hovertemplate": "color=Skeletons<br>0=%{x}<br>1=%{y}<extra></extra>",
         "legendgroup": "Skeletons",
         "marker": {
          "color": "#636efa",
          "symbol": "circle"
         },
         "mode": "markers",
         "name": "Skeletons",
         "orientation": "v",
         "showlegend": true,
         "type": "scatter",
         "x": [
          -815.5232561348574
         ],
         "xaxis": "x",
         "y": [
          -249.63295687345493
         ],
         "yaxis": "y"
        },
        {
         "hovertemplate": "color=Valkyrie<br>0=%{x}<br>1=%{y}<extra></extra>",
         "legendgroup": "Valkyrie",
         "marker": {
          "color": "#EF553B",
          "symbol": "circle"
         },
         "mode": "markers",
         "name": "Valkyrie",
         "orientation": "v",
         "showlegend": true,
         "type": "scatter",
         "x": [
          770.2891920445113
         ],
         "xaxis": "x",
         "y": [
          65.91036834654214
         ],
         "yaxis": "y"
        },
        {
         "hovertemplate": "color=Skeleton Army<br>0=%{x}<br>1=%{y}<extra></extra>",
         "legendgroup": "Skeleton Army",
         "marker": {
          "color": "#00cc96",
          "symbol": "circle"
         },
         "mode": "markers",
         "name": "Skeleton Army",
         "orientation": "v",
         "showlegend": true,
         "type": "scatter",
         "x": [
          -815.5270303312547
         ],
         "xaxis": "x",
         "y": [
          -249.65120060722072
         ],
         "yaxis": "y"
        },
        {
         "hovertemplate": "color=Bomber<br>0=%{x}<br>1=%{y}<extra></extra>",
         "legendgroup": "Bomber",
         "marker": {
          "color": "#ab63fa",
          "symbol": "circle"
         },
         "mode": "markers",
         "name": "Bomber",
         "orientation": "v",
         "showlegend": true,
         "type": "scatter",
         "x": [
          -479.5622830610958
         ],
         "xaxis": "x",
         "y": [
          157.09467321901457
         ],
         "yaxis": "y"
        },
        {
         "hovertemplate": "color=Musketeer<br>0=%{x}<br>1=%{y}<extra></extra>",
         "legendgroup": "Musketeer",
         "marker": {
          "color": "#FFA15A",
          "symbol": "circle"
         },
         "mode": "markers",
         "name": "Musketeer",
         "orientation": "v",
         "showlegend": true,
         "type": "scatter",
         "x": [
          -286.926897794986
         ],
         "xaxis": "x",
         "y": [
          -24.591862946676116
         ],
         "yaxis": "y"
        },
        {
         "hovertemplate": "color=Baby Dragon<br>0=%{x}<br>1=%{y}<extra></extra>",
         "legendgroup": "Baby Dragon",
         "marker": {
          "color": "#19d3f3",
          "symbol": "circle"
         },
         "mode": "markers",
         "name": "Baby Dragon",
         "orientation": "v",
         "showlegend": true,
         "type": "scatter",
         "x": [
          66.43324115513701
         ],
         "xaxis": "x",
         "y": [
          -50.02909345351522
         ],
         "yaxis": "y"
        },
        {
         "hovertemplate": "color=Prince<br>0=%{x}<br>1=%{y}<extra></extra>",
         "legendgroup": "Prince",
         "marker": {
          "color": "#FF6692",
          "symbol": "circle"
         },
         "mode": "markers",
         "name": "Prince",
         "orientation": "v",
         "showlegend": true,
         "type": "scatter",
         "x": [
          797.6563153914751
         ],
         "xaxis": "x",
         "y": [
          114.47769499131272
         ],
         "yaxis": "y"
        },
        {
         "hovertemplate": "color=Wizard<br>0=%{x}<br>1=%{y}<extra></extra>",
         "legendgroup": "Wizard",
         "marker": {
          "color": "#B6E880",
          "symbol": "circle"
         },
         "mode": "markers",
         "name": "Wizard",
         "orientation": "v",
         "showlegend": true,
         "type": "scatter",
         "x": [
          -291.91850213096683
         ],
         "xaxis": "x",
         "y": [
          172.08814580547582
         ],
         "yaxis": "y"
        },
        {
         "hovertemplate": "color=Mini P.E.K.K.A<br>0=%{x}<br>1=%{y}<extra></extra>",
         "legendgroup": "Mini P.E.K.K.A",
         "marker": {
          "color": "#FF97FF",
          "symbol": "circle"
         },
         "mode": "markers",
         "name": "Mini P.E.K.K.A",
         "orientation": "v",
         "showlegend": true,
         "type": "scatter",
         "x": [
          277.01573187005215
         ],
         "xaxis": "x",
         "y": [
          497.6614571633485
         ],
         "yaxis": "y"
        },
        {
         "hovertemplate": "color=Spear Goblins<br>0=%{x}<br>1=%{y}<extra></extra>",
         "legendgroup": "Spear Goblins",
         "marker": {
          "color": "#FECB52",
          "symbol": "circle"
         },
         "mode": "markers",
         "name": "Spear Goblins",
         "orientation": "v",
         "showlegend": true,
         "type": "scatter",
         "x": [
          -775.6070042879318
         ],
         "xaxis": "x",
         "y": [
          -225.78318949568614
         ],
         "yaxis": "y"
        },
        {
         "hovertemplate": "color=Giant Skeleton<br>0=%{x}<br>1=%{y}<extra></extra>",
         "legendgroup": "Giant Skeleton",
         "marker": {
          "color": "#636efa",
          "symbol": "circle"
         },
         "mode": "markers",
         "name": "Giant Skeleton",
         "orientation": "v",
         "showlegend": true,
         "type": "scatter",
         "x": [
          1943.1002277464665
         ],
         "xaxis": "x",
         "y": [
          -95.03644030589288
         ],
         "yaxis": "y"
        },
        {
         "hovertemplate": "color=Hog Rider<br>0=%{x}<br>1=%{y}<extra></extra>",
         "legendgroup": "Hog Rider",
         "marker": {
          "color": "#EF553B",
          "symbol": "circle"
         },
         "mode": "markers",
         "name": "Hog Rider",
         "orientation": "v",
         "showlegend": true,
         "type": "scatter",
         "x": [
          535.331659329369
         ],
         "xaxis": "x",
         "y": [
          -108.79063116575283
         ],
         "yaxis": "y"
        },
        {
         "hovertemplate": "color=Minion Horde<br>0=%{x}<br>1=%{y}<extra></extra>",
         "legendgroup": "Minion Horde",
         "marker": {
          "color": "#00cc96",
          "symbol": "circle"
         },
         "mode": "markers",
         "name": "Minion Horde",
         "orientation": "v",
         "showlegend": true,
         "type": "scatter",
         "x": [
          -695.5282467044964
         ],
         "xaxis": "x",
         "y": [
          -195.77688006978994
         ],
         "yaxis": "y"
        },
        {
         "hovertemplate": "color=Ice Wizard<br>0=%{x}<br>1=%{y}<extra></extra>",
         "legendgroup": "Ice Wizard",
         "marker": {
          "color": "#ab63fa",
          "symbol": "circle"
         },
         "mode": "markers",
         "name": "Ice Wizard",
         "orientation": "v",
         "showlegend": true,
         "type": "scatter",
         "x": [
          -299.0065411641413
         ],
         "xaxis": "x",
         "y": [
          -178.11680393121458
         ],
         "yaxis": "y"
        },
        {
         "hovertemplate": "color=Royal Giant<br>0=%{x}<br>1=%{y}<extra></extra>",
         "legendgroup": "Royal Giant",
         "marker": {
          "color": "#FFA15A",
          "symbol": "circle"
         },
         "mode": "markers",
         "name": "Royal Giant",
         "orientation": "v",
         "showlegend": true,
         "type": "scatter",
         "x": [
          1666.7957436402096
         ],
         "xaxis": "x",
         "y": [
          -116.58183382036638
         ],
         "yaxis": "y"
        },
        {
         "hovertemplate": "color=Guards<br>0=%{x}<br>1=%{y}<extra></extra>",
         "legendgroup": "Guards",
         "marker": {
          "color": "#19d3f3",
          "symbol": "circle"
         },
         "mode": "markers",
         "name": "Guards",
         "orientation": "v",
         "showlegend": true,
         "type": "scatter",
         "x": [
          -791.121098234246
         ],
         "xaxis": "x",
         "y": [
          -217.28365092896934
         ],
         "yaxis": "y"
        },
        {
         "hovertemplate": "color=Princess<br>0=%{x}<br>1=%{y}<extra></extra>",
         "legendgroup": "Princess",
         "marker": {
          "color": "#FF6692",
          "symbol": "circle"
         },
         "mode": "markers",
         "name": "Princess",
         "orientation": "v",
         "showlegend": true,
         "type": "scatter",
         "x": [
          -672.1077559228867
         ],
         "xaxis": "x",
         "y": [
          -35.30300514113995
         ],
         "yaxis": "y"
        },
        {
         "hovertemplate": "color=Dark Prince<br>0=%{x}<br>1=%{y}<extra></extra>",
         "legendgroup": "Dark Prince",
         "marker": {
          "color": "#B6E880",
          "symbol": "circle"
         },
         "mode": "markers",
         "name": "Dark Prince",
         "orientation": "v",
         "showlegend": true,
         "type": "scatter",
         "x": [
          346.1476594826432
         ],
         "xaxis": "x",
         "y": [
          37.80627814083057
         ],
         "yaxis": "y"
        },
        {
         "hovertemplate": "color=Three Musketeers<br>0=%{x}<br>1=%{y}<extra></extra>",
         "legendgroup": "Three Musketeers",
         "marker": {
          "color": "#FF97FF",
          "symbol": "circle"
         },
         "mode": "markers",
         "name": "Three Musketeers",
         "orientation": "v",
         "showlegend": true,
         "type": "scatter",
         "x": [
          -286.9231674062084
         ],
         "xaxis": "x",
         "y": [
          -24.59027461507202
         ],
         "yaxis": "y"
        },
        {
         "hovertemplate": "color=Lava Hound<br>0=%{x}<br>1=%{y}<extra></extra>",
         "legendgroup": "Lava Hound",
         "marker": {
          "color": "#FECB52",
          "symbol": "circle"
         },
         "mode": "markers",
         "name": "Lava Hound",
         "orientation": "v",
         "showlegend": true,
         "type": "scatter",
         "x": [
          2253.2535723639
         ],
         "xaxis": "x",
         "y": [
          -222.13487996096276
         ],
         "yaxis": "y"
        },
        {
         "hovertemplate": "color=Ice Spirit<br>0=%{x}<br>1=%{y}<extra></extra>",
         "legendgroup": "Ice Spirit",
         "marker": {
          "color": "#636efa",
          "symbol": "circle"
         },
         "mode": "markers",
         "name": "Ice Spirit",
         "orientation": "v",
         "showlegend": true,
         "type": "scatter",
         "x": [
          -694.4156518829379
         ],
         "xaxis": "x",
         "y": [
          -142.82914832497332
         ],
         "yaxis": "y"
        },
        {
         "hovertemplate": "color=Fire Spirits<br>0=%{x}<br>1=%{y}<extra></extra>",
         "legendgroup": "Fire Spirits",
         "marker": {
          "color": "#EF553B",
          "symbol": "circle"
         },
         "mode": "markers",
         "name": "Fire Spirits",
         "orientation": "v",
         "showlegend": true,
         "type": "scatter",
         "x": [
          -796.9009631405004
         ],
         "xaxis": "x",
         "y": [
          48.26738064997494
         ],
         "yaxis": "y"
        },
        {
         "hovertemplate": "color=Miner<br>0=%{x}<br>1=%{y}<extra></extra>",
         "legendgroup": "Miner",
         "marker": {
          "color": "#00cc96",
          "symbol": "circle"
         },
         "mode": "markers",
         "name": "Miner",
         "orientation": "v",
         "showlegend": true,
         "type": "scatter",
         "x": [
          115.48006936457459
         ],
         "xaxis": "x",
         "y": [
          -154.74076218162347
         ],
         "yaxis": "y"
        },
        {
         "hovertemplate": "color=Sparky<br>0=%{x}<br>1=%{y}<extra></extra>",
         "legendgroup": "Sparky",
         "marker": {
          "color": "#ab63fa",
          "symbol": "circle"
         },
         "mode": "markers",
         "name": "Sparky",
         "orientation": "v",
         "showlegend": true,
         "type": "scatter",
         "x": [
          351.4856897122691
         ],
         "xaxis": "x",
         "y": [
          1689.134814177508
         ],
         "yaxis": "y"
        },
        {
         "hovertemplate": "color=Bowler<br>0=%{x}<br>1=%{y}<extra></extra>",
         "legendgroup": "Bowler",
         "marker": {
          "color": "#FFA15A",
          "symbol": "circle"
         },
         "mode": "markers",
         "name": "Bowler",
         "orientation": "v",
         "showlegend": true,
         "type": "scatter",
         "x": [
          713.1752785492703
         ],
         "xaxis": "x",
         "y": [
          99.10706043382798
         ],
         "yaxis": "y"
        },
        {
         "hovertemplate": "color=Lumberjack<br>0=%{x}<br>1=%{y}<extra></extra>",
         "legendgroup": "Lumberjack",
         "marker": {
          "color": "#19d3f3",
          "symbol": "circle"
         },
         "mode": "markers",
         "name": "Lumberjack",
         "orientation": "v",
         "showlegend": true,
         "type": "scatter",
         "x": [
          182.6773979008725
         ],
         "xaxis": "x",
         "y": [
          -61.7742664895644
         ],
         "yaxis": "y"
        },
        {
         "hovertemplate": "color=Battle Ram<br>0=%{x}<br>1=%{y}<extra></extra>",
         "legendgroup": "Battle Ram",
         "marker": {
          "color": "#FF6692",
          "symbol": "circle"
         },
         "mode": "markers",
         "name": "Battle Ram",
         "orientation": "v",
         "showlegend": true,
         "type": "scatter",
         "x": [
          445.646771657782
         ],
         "xaxis": "x",
         "y": [
          -125.52015309173905
         ],
         "yaxis": "y"
        },
        {
         "hovertemplate": "color=Inferno Dragon<br>0=%{x}<br>1=%{y}<extra></extra>",
         "legendgroup": "Inferno Dragon",
         "marker": {
          "color": "#B6E880",
          "symbol": "circle"
         },
         "mode": "markers",
         "name": "Inferno Dragon",
         "orientation": "v",
         "showlegend": true,
         "type": "scatter",
         "x": [
          183.66483949488693
         ],
         "xaxis": "x",
         "y": [
          -8.304694728797228
         ],
         "yaxis": "y"
        },
        {
         "hovertemplate": "color=Ice Golem<br>0=%{x}<br>1=%{y}<extra></extra>",
         "legendgroup": "Ice Golem",
         "marker": {
          "color": "#FF97FF",
          "symbol": "circle"
         },
         "mode": "markers",
         "name": "Ice Golem",
         "orientation": "v",
         "showlegend": true,
         "type": "scatter",
         "x": [
          111.56615476190154
         ],
         "xaxis": "x",
         "y": [
          -280.621986079592
         ],
         "yaxis": "y"
        },
        {
         "hovertemplate": "color=Mega Minion<br>0=%{x}<br>1=%{y}<extra></extra>",
         "legendgroup": "Mega Minion",
         "marker": {
          "color": "#FECB52",
          "symbol": "circle"
         },
         "mode": "markers",
         "name": "Mega Minion",
         "orientation": "v",
         "showlegend": true,
         "type": "scatter",
         "x": [
          -188.6858894274562
         ],
         "xaxis": "x",
         "y": [
          111.0788644064043
         ],
         "yaxis": "y"
        },
        {
         "hovertemplate": "color=Dart Goblin<br>0=%{x}<br>1=%{y}<extra></extra>",
         "legendgroup": "Dart Goblin",
         "marker": {
          "color": "#636efa",
          "symbol": "circle"
         },
         "mode": "markers",
         "name": "Dart Goblin",
         "orientation": "v",
         "showlegend": true,
         "type": "scatter",
         "x": [
          -669.290427491969
         ],
         "xaxis": "x",
         "y": [
          -167.57415499461223
         ],
         "yaxis": "y"
        },
        {
         "hovertemplate": "color=Goblin Gang<br>0=%{x}<br>1=%{y}<extra></extra>",
         "legendgroup": "Goblin Gang",
         "marker": {
          "color": "#EF553B",
          "symbol": "circle"
         },
         "mode": "markers",
         "name": "Goblin Gang",
         "orientation": "v",
         "showlegend": true,
         "type": "scatter",
         "x": [
          -746.1752187862609
         ],
         "xaxis": "x",
         "y": [
          -203.27214159775073
         ],
         "yaxis": "y"
        },
        {
         "hovertemplate": "color=Electro Wizard<br>0=%{x}<br>1=%{y}<extra></extra>",
         "legendgroup": "Electro Wizard",
         "marker": {
          "color": "#00cc96",
          "symbol": "circle"
         },
         "mode": "markers",
         "name": "Electro Wizard",
         "orientation": "v",
         "showlegend": true,
         "type": "scatter",
         "x": [
          -294.67570390894076
         ],
         "xaxis": "x",
         "y": [
          -5.230235094177683
         ],
         "yaxis": "y"
        },
        {
         "hovertemplate": "color=Elite Barbarians<br>0=%{x}<br>1=%{y}<extra></extra>",
         "legendgroup": "Elite Barbarians",
         "marker": {
          "color": "#ab63fa",
          "symbol": "circle"
         },
         "mode": "markers",
         "name": "Elite Barbarians",
         "orientation": "v",
         "showlegend": true,
         "type": "scatter",
         "x": [
          99.47152430369674
         ],
         "xaxis": "x",
         "y": [
          80.09349691600822
         ],
         "yaxis": "y"
        },
        {
         "hovertemplate": "color=Hunter<br>0=%{x}<br>1=%{y}<extra></extra>",
         "legendgroup": "Hunter",
         "marker": {
          "color": "#FFA15A",
          "symbol": "circle"
         },
         "mode": "markers",
         "name": "Hunter",
         "orientation": "v",
         "showlegend": true,
         "type": "scatter",
         "x": [
          -196.8485122773968
         ],
         "xaxis": "x",
         "y": [
          1198.5390227309988
         ],
         "yaxis": "y"
        },
        {
         "hovertemplate": "color=Executioner<br>0=%{x}<br>1=%{y}<extra></extra>",
         "legendgroup": "Executioner",
         "marker": {
          "color": "#19d3f3",
          "symbol": "circle"
         },
         "mode": "markers",
         "name": "Executioner",
         "orientation": "v",
         "showlegend": true,
         "type": "scatter",
         "x": [
          118.4361644215312
         ],
         "xaxis": "x",
         "y": [
          273.78805539826453
         ],
         "yaxis": "y"
        },
        {
         "hovertemplate": "color=Bandit<br>0=%{x}<br>1=%{y}<extra></extra>",
         "legendgroup": "Bandit",
         "marker": {
          "color": "#FF6692",
          "symbol": "circle"
         },
         "mode": "markers",
         "name": "Bandit",
         "orientation": "v",
         "showlegend": true,
         "type": "scatter",
         "x": [
          -128.84830025347262
         ],
         "xaxis": "x",
         "y": [
          -118.28237345860155
         ],
         "yaxis": "y"
        },
        {
         "hovertemplate": "color=Royal Recruits<br>0=%{x}<br>1=%{y}<extra></extra>",
         "legendgroup": "Royal Recruits",
         "marker": {
          "color": "#B6E880",
          "symbol": "circle"
         },
         "mode": "markers",
         "name": "Royal Recruits",
         "orientation": "v",
         "showlegend": true,
         "type": "scatter",
         "x": [
          -243.26304167439096
         ],
         "xaxis": "x",
         "y": [
          -201.31225285766317
         ],
         "yaxis": "y"
        },
        {
         "hovertemplate": "color=Night Witch<br>0=%{x}<br>1=%{y}<extra></extra>",
         "legendgroup": "Night Witch",
         "marker": {
          "color": "#FF97FF",
          "symbol": "circle"
         },
         "mode": "markers",
         "name": "Night Witch",
         "orientation": "v",
         "showlegend": true,
         "type": "scatter",
         "x": [
          -131.56020699147678
         ],
         "xaxis": "x",
         "y": [
          -89.55658587542646
         ],
         "yaxis": "y"
        },
        {
         "hovertemplate": "color=Bats<br>0=%{x}<br>1=%{y}<extra></extra>",
         "legendgroup": "Bats",
         "marker": {
          "color": "#FECB52",
          "symbol": "circle"
         },
         "mode": "markers",
         "name": "Bats",
         "orientation": "v",
         "showlegend": true,
         "type": "scatter",
         "x": [
          -818.4630537115489
         ],
         "xaxis": "x",
         "y": [
          -225.82736433179613
         ],
         "yaxis": "y"
        },
        {
         "hovertemplate": "color=Royal Ghost<br>0=%{x}<br>1=%{y}<extra></extra>",
         "legendgroup": "Royal Ghost",
         "marker": {
          "color": "#636efa",
          "symbol": "circle"
         },
         "mode": "markers",
         "name": "Royal Ghost",
         "orientation": "v",
         "showlegend": true,
         "type": "scatter",
         "x": [
          118.3018297378462
         ],
         "xaxis": "x",
         "y": [
          56.063219789545414
         ],
         "yaxis": "y"
        },
        {
         "hovertemplate": "color=Ram Rider<br>0=%{x}<br>1=%{y}<extra></extra>",
         "legendgroup": "Ram Rider",
         "marker": {
          "color": "#EF553B",
          "symbol": "circle"
         },
         "mode": "markers",
         "name": "Ram Rider",
         "orientation": "v",
         "showlegend": true,
         "type": "scatter",
         "x": [
          580.7090712074731
         ],
         "xaxis": "x",
         "y": [
          -72.41494387759683
         ],
         "yaxis": "y"
        },
        {
         "hovertemplate": "color=Zappies<br>0=%{x}<br>1=%{y}<extra></extra>",
         "legendgroup": "Zappies",
         "marker": {
          "color": "#00cc96",
          "symbol": "circle"
         },
         "mode": "markers",
         "name": "Zappies",
         "orientation": "v",
         "showlegend": true,
         "type": "scatter",
         "x": [
          -446.3710260126493
         ],
         "xaxis": "x",
         "y": [
          -195.53908080213395
         ],
         "yaxis": "y"
        },
        {
         "hovertemplate": "color=Rascals<br>0=%{x}<br>1=%{y}<extra></extra>",
         "legendgroup": "Rascals",
         "marker": {
          "color": "#ab63fa",
          "symbol": "circle"
         },
         "mode": "markers",
         "name": "Rascals",
         "orientation": "v",
         "showlegend": true,
         "type": "scatter",
         "x": [
          1056.0782036006722
         ],
         "xaxis": "x",
         "y": [
          -148.351522317106
         ],
         "yaxis": "y"
        },
        {
         "hovertemplate": "color=Cannon Cart<br>0=%{x}<br>1=%{y}<extra></extra>",
         "legendgroup": "Cannon Cart",
         "marker": {
          "color": "#FFA15A",
          "symbol": "circle"
         },
         "mode": "markers",
         "name": "Cannon Cart",
         "orientation": "v",
         "showlegend": true,
         "type": "scatter",
         "x": [
          603.7066786909439
         ],
         "xaxis": "x",
         "y": [
          -95.10777044506686
         ],
         "yaxis": "y"
        },
        {
         "hovertemplate": "color=Mega Knight<br>0=%{x}<br>1=%{y}<extra></extra>",
         "legendgroup": "Mega Knight",
         "marker": {
          "color": "#19d3f3",
          "symbol": "circle"
         },
         "mode": "markers",
         "name": "Mega Knight",
         "orientation": "v",
         "showlegend": true,
         "type": "scatter",
         "x": [
          2410.780585018991
         ],
         "xaxis": "x",
         "y": [
          69.29723508570319
         ],
         "yaxis": "y"
        },
        {
         "hovertemplate": "color=Skeleton Barrel<br>0=%{x}<br>1=%{y}<extra></extra>",
         "legendgroup": "Skeleton Barrel",
         "marker": {
          "color": "#FF6692",
          "symbol": "circle"
         },
         "mode": "markers",
         "name": "Skeleton Barrel",
         "orientation": "v",
         "showlegend": true,
         "type": "scatter",
         "x": [
          -342.48716464881363
         ],
         "xaxis": "x",
         "y": [
          -190.251000893495
         ],
         "yaxis": "y"
        },
        {
         "hovertemplate": "color=Flying Machine<br>0=%{x}<br>1=%{y}<extra></extra>",
         "legendgroup": "Flying Machine",
         "marker": {
          "color": "#B6E880",
          "symbol": "circle"
         },
         "mode": "markers",
         "name": "Flying Machine",
         "orientation": "v",
         "showlegend": true,
         "type": "scatter",
         "x": [
          -375.42506544800364
         ],
         "xaxis": "x",
         "y": [
          -93.34498811627417
         ],
         "yaxis": "y"
        },
        {
         "hovertemplate": "color=Wall Breakers<br>0=%{x}<br>1=%{y}<extra></extra>",
         "legendgroup": "Wall Breakers",
         "marker": {
          "color": "#FF97FF",
          "symbol": "circle"
         },
         "mode": "markers",
         "name": "Wall Breakers",
         "orientation": "v",
         "showlegend": true,
         "type": "scatter",
         "x": [
          -602.4332377488844
         ],
         "xaxis": "x",
         "y": [
          373.7247930480153
         ],
         "yaxis": "y"
        },
        {
         "hovertemplate": "color=Royal Hogs<br>0=%{x}<br>1=%{y}<extra></extra>",
         "legendgroup": "Royal Hogs",
         "marker": {
          "color": "#FECB52",
          "symbol": "circle"
         },
         "mode": "markers",
         "name": "Royal Hogs",
         "orientation": "v",
         "showlegend": true,
         "type": "scatter",
         "x": [
          -189.76837696224976
         ],
         "xaxis": "x",
         "y": [
          -290.97220687379905
         ],
         "yaxis": "y"
        },
        {
         "hovertemplate": "color=Goblin Giant<br>0=%{x}<br>1=%{y}<extra></extra>",
         "legendgroup": "Goblin Giant",
         "marker": {
          "color": "#636efa",
          "symbol": "circle"
         },
         "mode": "markers",
         "name": "Goblin Giant",
         "orientation": "v",
         "showlegend": true,
         "type": "scatter",
         "x": [
          1833.5630449039147
         ],
         "xaxis": "x",
         "y": [
          -117.1837305337235
         ],
         "yaxis": "y"
        },
        {
         "hovertemplate": "color=Fisherman<br>0=%{x}<br>1=%{y}<extra></extra>",
         "legendgroup": "Fisherman",
         "marker": {
          "color": "#EF553B",
          "symbol": "circle"
         },
         "mode": "markers",
         "name": "Fisherman",
         "orientation": "v",
         "showlegend": true,
         "type": "scatter",
         "x": [
          -79.01651818558261
         ],
         "xaxis": "x",
         "y": [
          -118.23499828301446
         ],
         "yaxis": "y"
        },
        {
         "hovertemplate": "color=Magic Archer<br>0=%{x}<br>1=%{y}<extra></extra>",
         "legendgroup": "Magic Archer",
         "marker": {
          "color": "#00cc96",
          "symbol": "circle"
         },
         "mode": "markers",
         "name": "Magic Archer",
         "orientation": "v",
         "showlegend": true,
         "type": "scatter",
         "x": [
          -448.70094755919143
         ],
         "xaxis": "x",
         "y": [
          -98.96653976354818
         ],
         "yaxis": "y"
        },
        {
         "hovertemplate": "color=Electro Dragon<br>0=%{x}<br>1=%{y}<extra></extra>",
         "legendgroup": "Electro Dragon",
         "marker": {
          "color": "#ab63fa",
          "symbol": "circle"
         },
         "mode": "markers",
         "name": "Electro Dragon",
         "orientation": "v",
         "showlegend": true,
         "type": "scatter",
         "x": [
          -96.02124623643401
         ],
         "xaxis": "x",
         "y": [
          -63.14829771856976
         ],
         "yaxis": "y"
        },
        {
         "hovertemplate": "color=Firecracker<br>0=%{x}<br>1=%{y}<extra></extra>",
         "legendgroup": "Firecracker",
         "marker": {
          "color": "#FFA15A",
          "symbol": "circle"
         },
         "mode": "markers",
         "name": "Firecracker",
         "orientation": "v",
         "showlegend": true,
         "type": "scatter",
         "x": [
          -636.9264483880659
         ],
         "xaxis": "x",
         "y": [
          240.04124590847522
         ],
         "yaxis": "y"
        },
        {
         "hovertemplate": "color=Elixir Golem<br>0=%{x}<br>1=%{y}<extra></extra>",
         "legendgroup": "Elixir Golem",
         "marker": {
          "color": "#19d3f3",
          "symbol": "circle"
         },
         "mode": "markers",
         "name": "Elixir Golem",
         "orientation": "v",
         "showlegend": true,
         "type": "scatter",
         "x": [
          1295.0854777987422
         ],
         "xaxis": "x",
         "y": [
          -228.78232756541337
         ],
         "yaxis": "y"
        },
        {
         "hovertemplate": "color=Battle Healer<br>0=%{x}<br>1=%{y}<extra></extra>",
         "legendgroup": "Battle Healer",
         "marker": {
          "color": "#FF6692",
          "symbol": "circle"
         },
         "mode": "markers",
         "name": "Battle Healer",
         "orientation": "v",
         "showlegend": true,
         "type": "scatter",
         "x": [
          541.4998905229108
         ],
         "xaxis": "x",
         "y": [
          -169.65296234239554
         ],
         "yaxis": "y"
        },
        {
         "hovertemplate": "color=Skeleton Dragons<br>0=%{x}<br>1=%{y}<extra></extra>",
         "legendgroup": "Skeleton Dragons",
         "marker": {
          "color": "#B6E880",
          "symbol": "circle"
         },
         "mode": "markers",
         "name": "Skeleton Dragons",
         "orientation": "v",
         "showlegend": true,
         "type": "scatter",
         "x": [
          -448.8743583779176
         ],
         "xaxis": "x",
         "y": [
          -30.6911193774686
         ],
         "yaxis": "y"
        },
        {
         "hovertemplate": "color=Cannon<br>0=%{x}<br>1=%{y}<extra></extra>",
         "legendgroup": "Cannon",
         "marker": {
          "color": "#FF97FF",
          "symbol": "circle"
         },
         "mode": "markers",
         "name": "Cannon",
         "orientation": "v",
         "showlegend": true,
         "type": "scatter",
         "x": [
          -143.96924266781457
         ],
         "xaxis": "x",
         "y": [
          -159.1032463722056
         ],
         "yaxis": "y"
        },
        {
         "hovertemplate": "color=Goblin Hut<br>0=%{x}<br>1=%{y}<extra></extra>",
         "legendgroup": "Goblin Hut",
         "marker": {
          "color": "#FECB52",
          "symbol": "circle"
         },
         "mode": "markers",
         "name": "Goblin Hut",
         "orientation": "v",
         "showlegend": true,
         "type": "scatter",
         "x": [
          -44.06173070507273
         ],
         "xaxis": "x",
         "y": [
          -225.31277666286533
         ],
         "yaxis": "y"
        },
        {
         "hovertemplate": "color=Mortar<br>0=%{x}<br>1=%{y}<extra></extra>",
         "legendgroup": "Mortar",
         "marker": {
          "color": "#636efa",
          "symbol": "circle"
         },
         "mode": "markers",
         "name": "Mortar",
         "orientation": "v",
         "showlegend": true,
         "type": "scatter",
         "x": [
          336.7325166739245
         ],
         "xaxis": "x",
         "y": [
          63.506061859576036
         ],
         "yaxis": "y"
        },
        {
         "hovertemplate": "color=Inferno Tower<br>0=%{x}<br>1=%{y}<extra></extra>",
         "legendgroup": "Inferno Tower",
         "marker": {
          "color": "#EF553B",
          "symbol": "circle"
         },
         "mode": "markers",
         "name": "Inferno Tower",
         "orientation": "v",
         "showlegend": true,
         "type": "scatter",
         "x": [
          550.8922191431708
         ],
         "xaxis": "x",
         "y": [
          177.59898785688554
         ],
         "yaxis": "y"
        },
        {
         "hovertemplate": "color=Bomb Tower<br>0=%{x}<br>1=%{y}<extra></extra>",
         "legendgroup": "Bomb Tower",
         "marker": {
          "color": "#00cc96",
          "symbol": "circle"
         },
         "mode": "markers",
         "name": "Bomb Tower",
         "orientation": "v",
         "showlegend": true,
         "type": "scatter",
         "x": [
          247.63993765269296
         ],
         "xaxis": "x",
         "y": [
          -66.2478908429831
         ],
         "yaxis": "y"
        },
        {
         "hovertemplate": "color=Barbarian Hut<br>0=%{x}<br>1=%{y}<extra></extra>",
         "legendgroup": "Barbarian Hut",
         "marker": {
          "color": "#ab63fa",
          "symbol": "circle"
         },
         "mode": "markers",
         "name": "Barbarian Hut",
         "orientation": "v",
         "showlegend": true,
         "type": "scatter",
         "x": [
          571.7100321471966
         ],
         "xaxis": "x",
         "y": [
          -98.21614622662108
         ],
         "yaxis": "y"
        },
        {
         "hovertemplate": "color=Tesla<br>0=%{x}<br>1=%{y}<extra></extra>",
         "legendgroup": "Tesla",
         "marker": {
          "color": "#FFA15A",
          "symbol": "circle"
         },
         "mode": "markers",
         "name": "Tesla",
         "orientation": "v",
         "showlegend": true,
         "type": "scatter",
         "x": [
          59.25031113948734
         ],
         "xaxis": "x",
         "y": [
          -75.62604460428236
         ],
         "yaxis": "y"
        },
        {
         "hovertemplate": "color=Elixir Collector<br>0=%{x}<br>1=%{y}<extra></extra>",
         "legendgroup": "Elixir Collector",
         "marker": {
          "color": "#19d3f3",
          "symbol": "circle"
         },
         "mode": "markers",
         "name": "Elixir Collector",
         "orientation": "v",
         "showlegend": true,
         "type": "scatter",
         "x": [
          -1.5576760195572579
         ],
         "xaxis": "x",
         "y": [
          -343.3862517761912
         ],
         "yaxis": "y"
        },
        {
         "hovertemplate": "color=X-Bow<br>0=%{x}<br>1=%{y}<extra></extra>",
         "legendgroup": "X-Bow",
         "marker": {
          "color": "#FF6692",
          "symbol": "circle"
         },
         "mode": "markers",
         "name": "X-Bow",
         "orientation": "v",
         "showlegend": true,
         "type": "scatter",
         "x": [
          493.42950093043646
         ],
         "xaxis": "x",
         "y": [
          -306.22558823589304
         ],
         "yaxis": "y"
        },
        {
         "hovertemplate": "color=Tombstone<br>0=%{x}<br>1=%{y}<extra></extra>",
         "legendgroup": "Tombstone",
         "marker": {
          "color": "#B6E880",
          "symbol": "circle"
         },
         "mode": "markers",
         "name": "Tombstone",
         "orientation": "v",
         "showlegend": true,
         "type": "scatter",
         "x": [
          -461.7028599086488
         ],
         "xaxis": "x",
         "y": [
          -249.52433533088322
         ],
         "yaxis": "y"
        },
        {
         "hovertemplate": "color=Furnace<br>0=%{x}<br>1=%{y}<extra></extra>",
         "legendgroup": "Furnace",
         "marker": {
          "color": "#FF97FF",
          "symbol": "circle"
         },
         "mode": "markers",
         "name": "Furnace",
         "orientation": "v",
         "showlegend": true,
         "type": "scatter",
         "x": [
          -46.03898129886021
         ],
         "xaxis": "x",
         "y": [
          -101.06874499064094
         ],
         "yaxis": "y"
        },
        {
         "hovertemplate": "color=Goblin Cage<br>0=%{x}<br>1=%{y}<extra></extra>",
         "legendgroup": "Goblin Cage",
         "marker": {
          "color": "#FECB52",
          "symbol": "circle"
         },
         "mode": "markers",
         "name": "Goblin Cage",
         "orientation": "v",
         "showlegend": true,
         "type": "scatter",
         "x": [
          778.7637797510359
         ],
         "xaxis": "x",
         "y": [
          49.70752141598432
         ],
         "yaxis": "y"
        },
        {
         "hovertemplate": "color=Fireball<br>0=%{x}<br>1=%{y}<extra></extra>",
         "legendgroup": "Fireball",
         "marker": {
          "color": "#636efa",
          "symbol": "circle"
         },
         "mode": "markers",
         "name": "Fireball",
         "orientation": "v",
         "showlegend": true,
         "type": "scatter",
         "x": [
          -907.0161131444663
         ],
         "xaxis": "x",
         "y": [
          785.0804057877583
         ],
         "yaxis": "y"
        },
        {
         "hovertemplate": "color=Arrows<br>0=%{x}<br>1=%{y}<extra></extra>",
         "legendgroup": "Arrows",
         "marker": {
          "color": "#EF553B",
          "symbol": "circle"
         },
         "mode": "markers",
         "name": "Arrows",
         "orientation": "v",
         "showlegend": true,
         "type": "scatter",
         "x": [
          -897.3454616925031
         ],
         "xaxis": "x",
         "y": [
          254.7041441506785
         ],
         "yaxis": "y"
        },
        {
         "hovertemplate": "color=Rage<br>0=%{x}<br>1=%{y}<extra></extra>",
         "legendgroup": "Rage",
         "marker": {
          "color": "#00cc96",
          "symbol": "circle"
         },
         "mode": "markers",
         "name": "Rage",
         "orientation": "v",
         "showlegend": true,
         "type": "scatter",
         "x": [
          -886.598982805914
         ],
         "xaxis": "x",
         "y": [
          -343.8921367667292
         ],
         "yaxis": "y"
        },
        {
         "hovertemplate": "color=Rocket<br>0=%{x}<br>1=%{y}<extra></extra>",
         "legendgroup": "Rocket",
         "marker": {
          "color": "#ab63fa",
          "symbol": "circle"
         },
         "mode": "markers",
         "name": "Rocket",
         "orientation": "v",
         "showlegend": true,
         "type": "scatter",
         "x": [
          -930.6145010929911
         ],
         "xaxis": "x",
         "y": [
          2087.370838875449
         ],
         "yaxis": "y"
        },
        {
         "hovertemplate": "color=Goblin Barrel<br>0=%{x}<br>1=%{y}<extra></extra>",
         "legendgroup": "Goblin Barrel",
         "marker": {
          "color": "#FFA15A",
          "symbol": "circle"
         },
         "mode": "markers",
         "name": "Goblin Barrel",
         "orientation": "v",
         "showlegend": true,
         "type": "scatter",
         "x": [
          -880.2402143256626
         ],
         "xaxis": "x",
         "y": [
          -204.71812594015512
         ],
         "yaxis": "y"
        },
        {
         "hovertemplate": "color=Freeze<br>0=%{x}<br>1=%{y}<extra></extra>",
         "legendgroup": "Freeze",
         "marker": {
          "color": "#19d3f3",
          "symbol": "circle"
         },
         "mode": "markers",
         "name": "Freeze",
         "orientation": "v",
         "showlegend": true,
         "type": "scatter",
         "x": [
          -889.9600465901048
         ],
         "xaxis": "x",
         "y": [
          -156.15731679535273
         ],
         "yaxis": "y"
        },
        {
         "hovertemplate": "color=Mirror<br>0=%{x}<br>1=%{y}<extra></extra>",
         "legendgroup": "Mirror",
         "marker": {
          "color": "#FF6692",
          "symbol": "circle"
         },
         "mode": "markers",
         "name": "Mirror",
         "orientation": "v",
         "showlegend": true,
         "type": "scatter",
         "x": [
          -886.598134314015
         ],
         "xaxis": "x",
         "y": [
          -343.8530154379746
         ],
         "yaxis": "y"
        },
        {
         "hovertemplate": "color=Lightning<br>0=%{x}<br>1=%{y}<extra></extra>",
         "legendgroup": "Lightning",
         "marker": {
          "color": "#B6E880",
          "symbol": "circle"
         },
         "mode": "markers",
         "name": "Lightning",
         "orientation": "v",
         "showlegend": true,
         "type": "scatter",
         "x": [
          -895.1970284727017
         ],
         "xaxis": "x",
         "y": [
          999.2663296736777
         ],
         "yaxis": "y"
        },
        {
         "hovertemplate": "color=Zap<br>0=%{x}<br>1=%{y}<extra></extra>",
         "legendgroup": "Zap",
         "marker": {
          "color": "#FF97FF",
          "symbol": "circle"
         },
         "mode": "markers",
         "name": "Zap",
         "orientation": "v",
         "showlegend": true,
         "type": "scatter",
         "x": [
          -892.2708191966653
         ],
         "xaxis": "x",
         "y": [
          -29.997504880153656
         ],
         "yaxis": "y"
        },
        {
         "hovertemplate": "color=Poison<br>0=%{x}<br>1=%{y}<extra></extra>",
         "legendgroup": "Poison",
         "marker": {
          "color": "#FECB52",
          "symbol": "circle"
         },
         "mode": "markers",
         "name": "Poison",
         "orientation": "v",
         "showlegend": true,
         "type": "scatter",
         "x": [
          -889.2429247315164
         ],
         "xaxis": "x",
         "y": [
          -195.64048467075534
         ],
         "yaxis": "y"
        },
        {
         "hovertemplate": "color=Graveyard<br>0=%{x}<br>1=%{y}<extra></extra>",
         "legendgroup": "Graveyard",
         "marker": {
          "color": "#636efa",
          "symbol": "circle"
         },
         "mode": "markers",
         "name": "Graveyard",
         "orientation": "v",
         "showlegend": true,
         "type": "scatter",
         "x": [
          -815.5250240537831
         ],
         "xaxis": "x",
         "y": [
          -249.70843232348585
         ],
         "yaxis": "y"
        },
        {
         "hovertemplate": "color=The Log<br>0=%{x}<br>1=%{y}<extra></extra>",
         "legendgroup": "The Log",
         "marker": {
          "color": "#EF553B",
          "symbol": "circle"
         },
         "mode": "markers",
         "name": "The Log",
         "orientation": "v",
         "showlegend": true,
         "type": "scatter",
         "x": [
          -884.4208031632679
         ],
         "xaxis": "x",
         "y": [
          46.187738035159356
         ],
         "yaxis": "y"
        },
        {
         "hovertemplate": "color=Tornado<br>0=%{x}<br>1=%{y}<extra></extra>",
         "legendgroup": "Tornado",
         "marker": {
          "color": "#00cc96",
          "symbol": "circle"
         },
         "mode": "markers",
         "name": "Tornado",
         "orientation": "v",
         "showlegend": true,
         "type": "scatter",
         "x": [
          -892.7679521012088
         ],
         "xaxis": "x",
         "y": [
          -76.43352386388695
         ],
         "yaxis": "y"
        },
        {
         "hovertemplate": "color=Clone<br>0=%{x}<br>1=%{y}<extra></extra>",
         "legendgroup": "Clone",
         "marker": {
          "color": "#ab63fa",
          "symbol": "circle"
         },
         "mode": "markers",
         "name": "Clone",
         "orientation": "v",
         "showlegend": true,
         "type": "scatter",
         "x": [
          -885.6037974299936
         ],
         "xaxis": "x",
         "y": [
          -343.852149946901
         ],
         "yaxis": "y"
        },
        {
         "hovertemplate": "color=Earthquake<br>0=%{x}<br>1=%{y}<extra></extra>",
         "legendgroup": "Earthquake",
         "marker": {
          "color": "#FFA15A",
          "symbol": "circle"
         },
         "mode": "markers",
         "name": "Earthquake",
         "orientation": "v",
         "showlegend": true,
         "type": "scatter",
         "x": [
          -874.3734359017865
         ],
         "xaxis": "x",
         "y": [
          -97.84492865205
         ],
         "yaxis": "y"
        },
        {
         "hovertemplate": "color=Barbarian Barrel<br>0=%{x}<br>1=%{y}<extra></extra>",
         "legendgroup": "Barbarian Barrel",
         "marker": {
          "color": "#19d3f3",
          "symbol": "circle"
         },
         "mode": "markers",
         "name": "Barbarian Barrel",
         "orientation": "v",
         "showlegend": true,
         "type": "scatter",
         "x": [
          -323.38917085463487
         ],
         "xaxis": "x",
         "y": [
          -109.20946730883186
         ],
         "yaxis": "y"
        },
        {
         "hovertemplate": "color=Heal Spirit<br>0=%{x}<br>1=%{y}<extra></extra>",
         "legendgroup": "Heal Spirit",
         "marker": {
          "color": "#FF6692",
          "symbol": "circle"
         },
         "mode": "markers",
         "name": "Heal Spirit",
         "orientation": "v",
         "showlegend": true,
         "type": "scatter",
         "x": [
          -696.2457450331998
         ],
         "xaxis": "x",
         "y": [
          -343.6792814874287
         ],
         "yaxis": "y"
        },
        {
         "hovertemplate": "color=Giant Snowball<br>0=%{x}<br>1=%{y}<extra></extra>",
         "legendgroup": "Giant Snowball",
         "marker": {
          "color": "#B6E880",
          "symbol": "circle"
         },
         "mode": "markers",
         "name": "Giant Snowball",
         "orientation": "v",
         "showlegend": true,
         "type": "scatter",
         "x": [
          -892.2708191966658
         ],
         "xaxis": "x",
         "y": [
          -29.997504880153656
         ],
         "yaxis": "y"
        },
        {
         "hovertemplate": "color=Royal Delivery<br>0=%{x}<br>1=%{y}<extra></extra>",
         "legendgroup": "Royal Delivery",
         "marker": {
          "color": "#FF97FF",
          "symbol": "circle"
         },
         "mode": "markers",
         "name": "Royal Delivery",
         "orientation": "v",
         "showlegend": true,
         "type": "scatter",
         "x": [
          -252.65987446620326
         ],
         "xaxis": "x",
         "y": [
          -41.41299044488776
         ],
         "yaxis": "y"
        }
       ],
       "layout": {
        "annotations": [
         {
          "ax": 0,
          "ay": 0,
          "text": "rarity_common",
          "x": -0.09630581489593551,
          "xanchor": "center",
          "y": -0.060038510984972114,
          "yanchor": "bottom"
         },
         {
          "ax": 0,
          "ay": 0,
          "text": "rarity_rare",
          "x": 0.01916671971010069,
          "xanchor": "center",
          "y": 0.014951915579533435,
          "yanchor": "bottom"
         },
         {
          "ax": 0,
          "ay": 0,
          "text": "rarity_epic",
          "x": 0.051428243357445225,
          "xanchor": "center",
          "y": 0.03306859167703199,
          "yanchor": "bottom"
         },
         {
          "ax": 0,
          "ay": 0,
          "text": "rarity_legendary",
          "x": 0.025710851828656157,
          "xanchor": "center",
          "y": 0.012018003728250138,
          "yanchor": "bottom"
         },
         {
          "ax": 0,
          "ay": 0,
          "text": "troop",
          "x": 0.10424129144923915,
          "xanchor": "center",
          "y": -0.03529245098409307,
          "yanchor": "bottom"
         },
         {
          "ax": 0,
          "ay": 0,
          "text": "troop_ground",
          "x": 0.12089871112862047,
          "xanchor": "center",
          "y": -0.06042355889287166,
          "yanchor": "bottom"
         },
         {
          "ax": 0,
          "ay": 0,
          "text": "troop_air",
          "x": -0.026432719233842782,
          "xanchor": "center",
          "y": -0.03267857438557439,
          "yanchor": "bottom"
         },
         {
          "ax": 0,
          "ay": 0,
          "text": "building",
          "x": 0.030998340146252464,
          "xanchor": "center",
          "y": -0.03834169840353115,
          "yanchor": "bottom"
         },
         {
          "ax": 0,
          "ay": 0,
          "text": "spell",
          "x": -0.1602097701795618,
          "xanchor": "center",
          "y": 0.04420747938704473,
          "yanchor": "bottom"
         },
         {
          "ax": 0,
          "ay": 0,
          "text": "elixir",
          "x": 0.9108264723013947,
          "xanchor": "center",
          "y": 0.38056094216483144,
          "yanchor": "bottom"
         },
         {
          "ax": 0,
          "ay": 0,
          "text": "number_troops",
          "x": -0.4689989461231004,
          "xanchor": "center",
          "y": -0.6493738874161537,
          "yanchor": "bottom"
         },
         {
          "ax": 0,
          "ay": 0,
          "text": "number_troops_on_death",
          "x": 0.38034183046652675,
          "xanchor": "center",
          "y": -0.18484999674627067,
          "yanchor": "bottom"
         },
         {
          "ax": 0,
          "ay": 0,
          "text": "death_damage",
          "x": 35.51583052649977,
          "xanchor": "center",
          "y": 1.7763531566361577,
          "yanchor": "bottom"
         },
         {
          "ax": 0,
          "ay": 0,
          "text": "damage_troops",
          "x": -6.299312849554538,
          "xanchor": "center",
          "y": 197.7754911283094,
          "yanchor": "bottom"
         },
         {
          "ax": 0,
          "ay": 0,
          "text": "damage_troops_speed",
          "x": 0.07371254260538097,
          "xanchor": "center",
          "y": 0.15240367602662172,
          "yanchor": "bottom"
         },
         {
          "ax": 0,
          "ay": 0,
          "text": "damage_air",
          "x": -42.53032487065717,
          "xanchor": "center",
          "y": 135.13892114781254,
          "yanchor": "bottom"
         },
         {
          "ax": 0,
          "ay": 0,
          "text": "damage_air_speed",
          "x": -0.08775826867491617,
          "xanchor": "center",
          "y": -0.009094308230608347,
          "yanchor": "bottom"
         },
         {
          "ax": 0,
          "ay": 0,
          "text": "damage_buildings",
          "x": 23.568709626763205,
          "xanchor": "center",
          "y": 202.5557216398421,
          "yanchor": "bottom"
         },
         {
          "ax": 0,
          "ay": 0,
          "text": "damage_buildings_speed",
          "x": 0.3243104478650974,
          "xanchor": "center",
          "y": 0.15090186741273395,
          "yanchor": "bottom"
         },
         {
          "ax": 0,
          "ay": 0,
          "text": "area_damage",
          "x": -25.155850763325247,
          "xanchor": "center",
          "y": 167.98083582954405,
          "yanchor": "bottom"
         },
         {
          "ax": 0,
          "ay": 0,
          "text": "crown_tower_damage",
          "x": 45.010464117743815,
          "xanchor": "center",
          "y": 134.17549171098415,
          "yanchor": "bottom"
         },
         {
          "ax": 0,
          "ay": 0,
          "text": "move_speed_slow",
          "x": 0.17189278378999762,
          "xanchor": "center",
          "y": 0.03462645635622983,
          "yanchor": "bottom"
         },
         {
          "ax": 0,
          "ay": 0,
          "text": "move_speed_medium",
          "x": 0.09578601871475827,
          "xanchor": "center",
          "y": 0.003957754528174218,
          "yanchor": "bottom"
         },
         {
          "ax": 0,
          "ay": 0,
          "text": "move_speed_fast",
          "x": -0.05640084065908903,
          "xanchor": "center",
          "y": -0.04028828614985677,
          "yanchor": "bottom"
         },
         {
          "ax": 0,
          "ay": 0,
          "text": "move_speed_very_fast",
          "x": -0.07355407640255786,
          "xanchor": "center",
          "y": -0.056174421941049685,
          "yanchor": "bottom"
         },
         {
          "ax": 0,
          "ay": 0,
          "text": "radius",
          "x": -0.4368039607653622,
          "xanchor": "center",
          "y": 0.11823040762572136,
          "yanchor": "bottom"
         },
         {
          "ax": 0,
          "ay": 0,
          "text": "width",
          "x": -0.0451591858332775,
          "xanchor": "center",
          "y": -0.002785393841775525,
          "yanchor": "bottom"
         },
         {
          "ax": 0,
          "ay": 0,
          "text": "range",
          "x": -0.03646144017377698,
          "xanchor": "center",
          "y": 0.01752192793375056,
          "yanchor": "bottom"
         },
         {
          "ax": 0,
          "ay": 0,
          "text": "range_melee_short",
          "x": 0.06578088575760935,
          "xanchor": "center",
          "y": -0.06028531751291675,
          "yanchor": "bottom"
         },
         {
          "ax": 0,
          "ay": 0,
          "text": "range_melee_medium",
          "x": 0.08844658506604071,
          "xanchor": "center",
          "y": 0.0010726988465347346,
          "yanchor": "bottom"
         },
         {
          "ax": 0,
          "ay": 0,
          "text": "range_melee_long",
          "x": 0.006253383739643494,
          "xanchor": "center",
          "y": -0.029711290097384158,
          "yanchor": "bottom"
         },
         {
          "ax": 0,
          "ay": 0,
          "text": "spawner",
          "x": -0.0036123377630517283,
          "xanchor": "center",
          "y": -0.029203082338900763,
          "yanchor": "bottom"
         },
         {
          "ax": 0,
          "ay": 0,
          "text": "duration",
          "x": 0.45091676456015783,
          "xanchor": "center",
          "y": -1.978216187852885,
          "yanchor": "bottom"
         },
         {
          "ax": 0,
          "ay": 0,
          "text": "hitpoints",
          "x": 966.1035831177247,
          "xanchor": "center",
          "y": 0.3550238359933518,
          "yanchor": "bottom"
         }
        ],
        "legend": {
         "title": {
          "text": "color"
         },
         "tracegroupgap": 0
        },
        "margin": {
         "t": 60
        },
        "shapes": [
         {
          "type": "line",
          "x0": 0,
          "x1": -0.09630581489593551,
          "y0": 0,
          "y1": -0.060038510984972114
         },
         {
          "type": "line",
          "x0": 0,
          "x1": 0.01916671971010069,
          "y0": 0,
          "y1": 0.014951915579533435
         },
         {
          "type": "line",
          "x0": 0,
          "x1": 0.051428243357445225,
          "y0": 0,
          "y1": 0.03306859167703199
         },
         {
          "type": "line",
          "x0": 0,
          "x1": 0.025710851828656157,
          "y0": 0,
          "y1": 0.012018003728250138
         },
         {
          "type": "line",
          "x0": 0,
          "x1": 0.10424129144923915,
          "y0": 0,
          "y1": -0.03529245098409307
         },
         {
          "type": "line",
          "x0": 0,
          "x1": 0.12089871112862047,
          "y0": 0,
          "y1": -0.06042355889287166
         },
         {
          "type": "line",
          "x0": 0,
          "x1": -0.026432719233842782,
          "y0": 0,
          "y1": -0.03267857438557439
         },
         {
          "type": "line",
          "x0": 0,
          "x1": 0.030998340146252464,
          "y0": 0,
          "y1": -0.03834169840353115
         },
         {
          "type": "line",
          "x0": 0,
          "x1": -0.1602097701795618,
          "y0": 0,
          "y1": 0.04420747938704473
         },
         {
          "type": "line",
          "x0": 0,
          "x1": 0.9108264723013947,
          "y0": 0,
          "y1": 0.38056094216483144
         },
         {
          "type": "line",
          "x0": 0,
          "x1": -0.4689989461231004,
          "y0": 0,
          "y1": -0.6493738874161537
         },
         {
          "type": "line",
          "x0": 0,
          "x1": 0.38034183046652675,
          "y0": 0,
          "y1": -0.18484999674627067
         },
         {
          "type": "line",
          "x0": 0,
          "x1": 35.51583052649977,
          "y0": 0,
          "y1": 1.7763531566361577
         },
         {
          "type": "line",
          "x0": 0,
          "x1": -6.299312849554538,
          "y0": 0,
          "y1": 197.7754911283094
         },
         {
          "type": "line",
          "x0": 0,
          "x1": 0.07371254260538097,
          "y0": 0,
          "y1": 0.15240367602662172
         },
         {
          "type": "line",
          "x0": 0,
          "x1": -42.53032487065717,
          "y0": 0,
          "y1": 135.13892114781254
         },
         {
          "type": "line",
          "x0": 0,
          "x1": -0.08775826867491617,
          "y0": 0,
          "y1": -0.009094308230608347
         },
         {
          "type": "line",
          "x0": 0,
          "x1": 23.568709626763205,
          "y0": 0,
          "y1": 202.5557216398421
         },
         {
          "type": "line",
          "x0": 0,
          "x1": 0.3243104478650974,
          "y0": 0,
          "y1": 0.15090186741273395
         },
         {
          "type": "line",
          "x0": 0,
          "x1": -25.155850763325247,
          "y0": 0,
          "y1": 167.98083582954405
         },
         {
          "type": "line",
          "x0": 0,
          "x1": 45.010464117743815,
          "y0": 0,
          "y1": 134.17549171098415
         },
         {
          "type": "line",
          "x0": 0,
          "x1": 0.17189278378999762,
          "y0": 0,
          "y1": 0.03462645635622983
         },
         {
          "type": "line",
          "x0": 0,
          "x1": 0.09578601871475827,
          "y0": 0,
          "y1": 0.003957754528174218
         },
         {
          "type": "line",
          "x0": 0,
          "x1": -0.05640084065908903,
          "y0": 0,
          "y1": -0.04028828614985677
         },
         {
          "type": "line",
          "x0": 0,
          "x1": -0.07355407640255786,
          "y0": 0,
          "y1": -0.056174421941049685
         },
         {
          "type": "line",
          "x0": 0,
          "x1": -0.4368039607653622,
          "y0": 0,
          "y1": 0.11823040762572136
         },
         {
          "type": "line",
          "x0": 0,
          "x1": -0.0451591858332775,
          "y0": 0,
          "y1": -0.002785393841775525
         },
         {
          "type": "line",
          "x0": 0,
          "x1": -0.03646144017377698,
          "y0": 0,
          "y1": 0.01752192793375056
         },
         {
          "type": "line",
          "x0": 0,
          "x1": 0.06578088575760935,
          "y0": 0,
          "y1": -0.06028531751291675
         },
         {
          "type": "line",
          "x0": 0,
          "x1": 0.08844658506604071,
          "y0": 0,
          "y1": 0.0010726988465347346
         },
         {
          "type": "line",
          "x0": 0,
          "x1": 0.006253383739643494,
          "y0": 0,
          "y1": -0.029711290097384158
         },
         {
          "type": "line",
          "x0": 0,
          "x1": -0.0036123377630517283,
          "y0": 0,
          "y1": -0.029203082338900763
         },
         {
          "type": "line",
          "x0": 0,
          "x1": 0.45091676456015783,
          "y0": 0,
          "y1": -1.978216187852885
         },
         {
          "type": "line",
          "x0": 0,
          "x1": 966.1035831177247,
          "y0": 0,
          "y1": 0.3550238359933518
         }
        ],
        "template": {
         "data": {
          "bar": [
           {
            "error_x": {
             "color": "#2a3f5f"
            },
            "error_y": {
             "color": "#2a3f5f"
            },
            "marker": {
             "line": {
              "color": "#E5ECF6",
              "width": 0.5
             }
            },
            "type": "bar"
           }
          ],
          "barpolar": [
           {
            "marker": {
             "line": {
              "color": "#E5ECF6",
              "width": 0.5
             }
            },
            "type": "barpolar"
           }
          ],
          "carpet": [
           {
            "aaxis": {
             "endlinecolor": "#2a3f5f",
             "gridcolor": "white",
             "linecolor": "white",
             "minorgridcolor": "white",
             "startlinecolor": "#2a3f5f"
            },
            "baxis": {
             "endlinecolor": "#2a3f5f",
             "gridcolor": "white",
             "linecolor": "white",
             "minorgridcolor": "white",
             "startlinecolor": "#2a3f5f"
            },
            "type": "carpet"
           }
          ],
          "choropleth": [
           {
            "colorbar": {
             "outlinewidth": 0,
             "ticks": ""
            },
            "type": "choropleth"
           }
          ],
          "contour": [
           {
            "colorbar": {
             "outlinewidth": 0,
             "ticks": ""
            },
            "colorscale": [
             [
              0,
              "#0d0887"
             ],
             [
              0.1111111111111111,
              "#46039f"
             ],
             [
              0.2222222222222222,
              "#7201a8"
             ],
             [
              0.3333333333333333,
              "#9c179e"
             ],
             [
              0.4444444444444444,
              "#bd3786"
             ],
             [
              0.5555555555555556,
              "#d8576b"
             ],
             [
              0.6666666666666666,
              "#ed7953"
             ],
             [
              0.7777777777777778,
              "#fb9f3a"
             ],
             [
              0.8888888888888888,
              "#fdca26"
             ],
             [
              1,
              "#f0f921"
             ]
            ],
            "type": "contour"
           }
          ],
          "contourcarpet": [
           {
            "colorbar": {
             "outlinewidth": 0,
             "ticks": ""
            },
            "type": "contourcarpet"
           }
          ],
          "heatmap": [
           {
            "colorbar": {
             "outlinewidth": 0,
             "ticks": ""
            },
            "colorscale": [
             [
              0,
              "#0d0887"
             ],
             [
              0.1111111111111111,
              "#46039f"
             ],
             [
              0.2222222222222222,
              "#7201a8"
             ],
             [
              0.3333333333333333,
              "#9c179e"
             ],
             [
              0.4444444444444444,
              "#bd3786"
             ],
             [
              0.5555555555555556,
              "#d8576b"
             ],
             [
              0.6666666666666666,
              "#ed7953"
             ],
             [
              0.7777777777777778,
              "#fb9f3a"
             ],
             [
              0.8888888888888888,
              "#fdca26"
             ],
             [
              1,
              "#f0f921"
             ]
            ],
            "type": "heatmap"
           }
          ],
          "heatmapgl": [
           {
            "colorbar": {
             "outlinewidth": 0,
             "ticks": ""
            },
            "colorscale": [
             [
              0,
              "#0d0887"
             ],
             [
              0.1111111111111111,
              "#46039f"
             ],
             [
              0.2222222222222222,
              "#7201a8"
             ],
             [
              0.3333333333333333,
              "#9c179e"
             ],
             [
              0.4444444444444444,
              "#bd3786"
             ],
             [
              0.5555555555555556,
              "#d8576b"
             ],
             [
              0.6666666666666666,
              "#ed7953"
             ],
             [
              0.7777777777777778,
              "#fb9f3a"
             ],
             [
              0.8888888888888888,
              "#fdca26"
             ],
             [
              1,
              "#f0f921"
             ]
            ],
            "type": "heatmapgl"
           }
          ],
          "histogram": [
           {
            "marker": {
             "colorbar": {
              "outlinewidth": 0,
              "ticks": ""
             }
            },
            "type": "histogram"
           }
          ],
          "histogram2d": [
           {
            "colorbar": {
             "outlinewidth": 0,
             "ticks": ""
            },
            "colorscale": [
             [
              0,
              "#0d0887"
             ],
             [
              0.1111111111111111,
              "#46039f"
             ],
             [
              0.2222222222222222,
              "#7201a8"
             ],
             [
              0.3333333333333333,
              "#9c179e"
             ],
             [
              0.4444444444444444,
              "#bd3786"
             ],
             [
              0.5555555555555556,
              "#d8576b"
             ],
             [
              0.6666666666666666,
              "#ed7953"
             ],
             [
              0.7777777777777778,
              "#fb9f3a"
             ],
             [
              0.8888888888888888,
              "#fdca26"
             ],
             [
              1,
              "#f0f921"
             ]
            ],
            "type": "histogram2d"
           }
          ],
          "histogram2dcontour": [
           {
            "colorbar": {
             "outlinewidth": 0,
             "ticks": ""
            },
            "colorscale": [
             [
              0,
              "#0d0887"
             ],
             [
              0.1111111111111111,
              "#46039f"
             ],
             [
              0.2222222222222222,
              "#7201a8"
             ],
             [
              0.3333333333333333,
              "#9c179e"
             ],
             [
              0.4444444444444444,
              "#bd3786"
             ],
             [
              0.5555555555555556,
              "#d8576b"
             ],
             [
              0.6666666666666666,
              "#ed7953"
             ],
             [
              0.7777777777777778,
              "#fb9f3a"
             ],
             [
              0.8888888888888888,
              "#fdca26"
             ],
             [
              1,
              "#f0f921"
             ]
            ],
            "type": "histogram2dcontour"
           }
          ],
          "mesh3d": [
           {
            "colorbar": {
             "outlinewidth": 0,
             "ticks": ""
            },
            "type": "mesh3d"
           }
          ],
          "parcoords": [
           {
            "line": {
             "colorbar": {
              "outlinewidth": 0,
              "ticks": ""
             }
            },
            "type": "parcoords"
           }
          ],
          "pie": [
           {
            "automargin": true,
            "type": "pie"
           }
          ],
          "scatter": [
           {
            "marker": {
             "colorbar": {
              "outlinewidth": 0,
              "ticks": ""
             }
            },
            "type": "scatter"
           }
          ],
          "scatter3d": [
           {
            "line": {
             "colorbar": {
              "outlinewidth": 0,
              "ticks": ""
             }
            },
            "marker": {
             "colorbar": {
              "outlinewidth": 0,
              "ticks": ""
             }
            },
            "type": "scatter3d"
           }
          ],
          "scattercarpet": [
           {
            "marker": {
             "colorbar": {
              "outlinewidth": 0,
              "ticks": ""
             }
            },
            "type": "scattercarpet"
           }
          ],
          "scattergeo": [
           {
            "marker": {
             "colorbar": {
              "outlinewidth": 0,
              "ticks": ""
             }
            },
            "type": "scattergeo"
           }
          ],
          "scattergl": [
           {
            "marker": {
             "colorbar": {
              "outlinewidth": 0,
              "ticks": ""
             }
            },
            "type": "scattergl"
           }
          ],
          "scattermapbox": [
           {
            "marker": {
             "colorbar": {
              "outlinewidth": 0,
              "ticks": ""
             }
            },
            "type": "scattermapbox"
           }
          ],
          "scatterpolar": [
           {
            "marker": {
             "colorbar": {
              "outlinewidth": 0,
              "ticks": ""
             }
            },
            "type": "scatterpolar"
           }
          ],
          "scatterpolargl": [
           {
            "marker": {
             "colorbar": {
              "outlinewidth": 0,
              "ticks": ""
             }
            },
            "type": "scatterpolargl"
           }
          ],
          "scatterternary": [
           {
            "marker": {
             "colorbar": {
              "outlinewidth": 0,
              "ticks": ""
             }
            },
            "type": "scatterternary"
           }
          ],
          "surface": [
           {
            "colorbar": {
             "outlinewidth": 0,
             "ticks": ""
            },
            "colorscale": [
             [
              0,
              "#0d0887"
             ],
             [
              0.1111111111111111,
              "#46039f"
             ],
             [
              0.2222222222222222,
              "#7201a8"
             ],
             [
              0.3333333333333333,
              "#9c179e"
             ],
             [
              0.4444444444444444,
              "#bd3786"
             ],
             [
              0.5555555555555556,
              "#d8576b"
             ],
             [
              0.6666666666666666,
              "#ed7953"
             ],
             [
              0.7777777777777778,
              "#fb9f3a"
             ],
             [
              0.8888888888888888,
              "#fdca26"
             ],
             [
              1,
              "#f0f921"
             ]
            ],
            "type": "surface"
           }
          ],
          "table": [
           {
            "cells": {
             "fill": {
              "color": "#EBF0F8"
             },
             "line": {
              "color": "white"
             }
            },
            "header": {
             "fill": {
              "color": "#C8D4E3"
             },
             "line": {
              "color": "white"
             }
            },
            "type": "table"
           }
          ]
         },
         "layout": {
          "annotationdefaults": {
           "arrowcolor": "#2a3f5f",
           "arrowhead": 0,
           "arrowwidth": 1
          },
          "coloraxis": {
           "colorbar": {
            "outlinewidth": 0,
            "ticks": ""
           }
          },
          "colorscale": {
           "diverging": [
            [
             0,
             "#8e0152"
            ],
            [
             0.1,
             "#c51b7d"
            ],
            [
             0.2,
             "#de77ae"
            ],
            [
             0.3,
             "#f1b6da"
            ],
            [
             0.4,
             "#fde0ef"
            ],
            [
             0.5,
             "#f7f7f7"
            ],
            [
             0.6,
             "#e6f5d0"
            ],
            [
             0.7,
             "#b8e186"
            ],
            [
             0.8,
             "#7fbc41"
            ],
            [
             0.9,
             "#4d9221"
            ],
            [
             1,
             "#276419"
            ]
           ],
           "sequential": [
            [
             0,
             "#0d0887"
            ],
            [
             0.1111111111111111,
             "#46039f"
            ],
            [
             0.2222222222222222,
             "#7201a8"
            ],
            [
             0.3333333333333333,
             "#9c179e"
            ],
            [
             0.4444444444444444,
             "#bd3786"
            ],
            [
             0.5555555555555556,
             "#d8576b"
            ],
            [
             0.6666666666666666,
             "#ed7953"
            ],
            [
             0.7777777777777778,
             "#fb9f3a"
            ],
            [
             0.8888888888888888,
             "#fdca26"
            ],
            [
             1,
             "#f0f921"
            ]
           ],
           "sequentialminus": [
            [
             0,
             "#0d0887"
            ],
            [
             0.1111111111111111,
             "#46039f"
            ],
            [
             0.2222222222222222,
             "#7201a8"
            ],
            [
             0.3333333333333333,
             "#9c179e"
            ],
            [
             0.4444444444444444,
             "#bd3786"
            ],
            [
             0.5555555555555556,
             "#d8576b"
            ],
            [
             0.6666666666666666,
             "#ed7953"
            ],
            [
             0.7777777777777778,
             "#fb9f3a"
            ],
            [
             0.8888888888888888,
             "#fdca26"
            ],
            [
             1,
             "#f0f921"
            ]
           ]
          },
          "colorway": [
           "#636efa",
           "#EF553B",
           "#00cc96",
           "#ab63fa",
           "#FFA15A",
           "#19d3f3",
           "#FF6692",
           "#B6E880",
           "#FF97FF",
           "#FECB52"
          ],
          "font": {
           "color": "#2a3f5f"
          },
          "geo": {
           "bgcolor": "white",
           "lakecolor": "white",
           "landcolor": "#E5ECF6",
           "showlakes": true,
           "showland": true,
           "subunitcolor": "white"
          },
          "hoverlabel": {
           "align": "left"
          },
          "hovermode": "closest",
          "mapbox": {
           "style": "light"
          },
          "paper_bgcolor": "white",
          "plot_bgcolor": "#E5ECF6",
          "polar": {
           "angularaxis": {
            "gridcolor": "white",
            "linecolor": "white",
            "ticks": ""
           },
           "bgcolor": "#E5ECF6",
           "radialaxis": {
            "gridcolor": "white",
            "linecolor": "white",
            "ticks": ""
           }
          },
          "scene": {
           "xaxis": {
            "backgroundcolor": "#E5ECF6",
            "gridcolor": "white",
            "gridwidth": 2,
            "linecolor": "white",
            "showbackground": true,
            "ticks": "",
            "zerolinecolor": "white"
           },
           "yaxis": {
            "backgroundcolor": "#E5ECF6",
            "gridcolor": "white",
            "gridwidth": 2,
            "linecolor": "white",
            "showbackground": true,
            "ticks": "",
            "zerolinecolor": "white"
           },
           "zaxis": {
            "backgroundcolor": "#E5ECF6",
            "gridcolor": "white",
            "gridwidth": 2,
            "linecolor": "white",
            "showbackground": true,
            "ticks": "",
            "zerolinecolor": "white"
           }
          },
          "shapedefaults": {
           "line": {
            "color": "#2a3f5f"
           }
          },
          "ternary": {
           "aaxis": {
            "gridcolor": "white",
            "linecolor": "white",
            "ticks": ""
           },
           "baxis": {
            "gridcolor": "white",
            "linecolor": "white",
            "ticks": ""
           },
           "bgcolor": "#E5ECF6",
           "caxis": {
            "gridcolor": "white",
            "linecolor": "white",
            "ticks": ""
           }
          },
          "title": {
           "x": 0.05
          },
          "xaxis": {
           "automargin": true,
           "gridcolor": "white",
           "linecolor": "white",
           "ticks": "",
           "title": {
            "standoff": 15
           },
           "zerolinecolor": "white",
           "zerolinewidth": 2
          },
          "yaxis": {
           "automargin": true,
           "gridcolor": "white",
           "linecolor": "white",
           "ticks": "",
           "title": {
            "standoff": 15
           },
           "zerolinecolor": "white",
           "zerolinewidth": 2
          }
         }
        },
        "xaxis": {
         "anchor": "y",
         "domain": [
          0,
          1
         ],
         "title": {
          "text": "0"
         }
        },
        "yaxis": {
         "anchor": "x",
         "domain": [
          0,
          1
         ],
         "title": {
          "text": "1"
         }
        }
       }
      },
      "text/html": [
       "<div>\n",
       "        \n",
       "        \n",
       "            <div id=\"d4fa0b42-0f1f-4742-9222-9325b15c5f4f\" class=\"plotly-graph-div\" style=\"height:525px; width:100%;\"></div>\n",
       "            <script type=\"text/javascript\">\n",
       "                require([\"plotly\"], function(Plotly) {\n",
       "                    window.PLOTLYENV=window.PLOTLYENV || {};\n",
       "                    \n",
       "                if (document.getElementById(\"d4fa0b42-0f1f-4742-9222-9325b15c5f4f\")) {\n",
       "                    Plotly.newPlot(\n",
       "                        'd4fa0b42-0f1f-4742-9222-9325b15c5f4f',\n",
       "                        [{\"hovertemplate\": \"color=Knight<br>0=%{x}<br>1=%{y}<extra></extra>\", \"legendgroup\": \"Knight\", \"marker\": {\"color\": \"#636efa\", \"symbol\": \"circle\"}, \"mode\": \"markers\", \"name\": \"Knight\", \"orientation\": \"v\", \"showlegend\": true, \"type\": \"scatter\", \"x\": [571.2348178741614], \"xaxis\": \"x\", \"y\": [-107.78884379980921], \"yaxis\": \"y\"}, {\"hovertemplate\": \"color=Archers<br>0=%{x}<br>1=%{y}<extra></extra>\", \"legendgroup\": \"Archers\", \"marker\": {\"color\": \"#EF553B\", \"symbol\": \"circle\"}, \"mode\": \"markers\", \"name\": \"Archers\", \"orientation\": \"v\", \"showlegend\": true, \"type\": \"scatter\", \"x\": [-633.6361292442901], \"xaxis\": \"x\", \"y\": [-186.91070192108887], \"yaxis\": \"y\"}, {\"hovertemplate\": \"color=Goblins<br>0=%{x}<br>1=%{y}<extra></extra>\", \"legendgroup\": \"Goblins\", \"marker\": {\"color\": \"#00cc96\", \"symbol\": \"circle\"}, \"mode\": \"markers\", \"name\": \"Goblins\", \"orientation\": \"v\", \"showlegend\": true, \"type\": \"scatter\", \"x\": [-713.8035383912546], \"xaxis\": \"x\", \"y\": [-204.56405715224344], \"yaxis\": \"y\"}, {\"hovertemplate\": \"color=Giant<br>0=%{x}<br>1=%{y}<extra></extra>\", \"legendgroup\": \"Giant\", \"marker\": {\"color\": \"#ab63fa\", \"symbol\": \"circle\"}, \"mode\": \"markers\", \"name\": \"Giant\", \"orientation\": \"v\", \"showlegend\": true, \"type\": \"scatter\", \"x\": [2392.2883485716047], \"xaxis\": \"x\", \"y\": [-153.97337314256146], \"yaxis\": \"y\"}, {\"hovertemplate\": \"color=P.E.K.K.A<br>0=%{x}<br>1=%{y}<extra></extra>\", \"legendgroup\": \"P.E.K.K.A\", \"marker\": {\"color\": \"#FFA15A\", \"symbol\": \"circle\"}, \"mode\": \"markers\", \"name\": \"P.E.K.K.A\", \"orientation\": \"v\", \"showlegend\": true, \"type\": \"scatter\", \"x\": [2271.428748505758], \"xaxis\": \"x\", \"y\": [611.9644331672505], \"yaxis\": \"y\"}, {\"hovertemplate\": \"color=Minions<br>0=%{x}<br>1=%{y}<extra></extra>\", \"legendgroup\": \"Minions\", \"marker\": {\"color\": \"#19d3f3\", \"symbol\": \"circle\"}, \"mode\": \"markers\", \"name\": \"Minions\", \"orientation\": \"v\", \"showlegend\": true, \"type\": \"scatter\", \"x\": [-695.5296140666276], \"xaxis\": \"x\", \"y\": [-195.77475958707896], \"yaxis\": \"y\"}, {\"hovertemplate\": \"color=Balloon<br>0=%{x}<br>1=%{y}<extra></extra>\", \"legendgroup\": \"Balloon\", \"marker\": {\"color\": \"#FF6692\", \"symbol\": \"circle\"}, \"mode\": \"markers\", \"name\": \"Balloon\", \"orientation\": \"v\", \"showlegend\": true, \"type\": \"scatter\", \"x\": [550.3575810452271], \"xaxis\": \"x\", \"y\": [723.5260160428851], \"yaxis\": \"y\"}, {\"hovertemplate\": \"color=Witch<br>0=%{x}<br>1=%{y}<extra></extra>\", \"legendgroup\": \"Witch\", \"marker\": {\"color\": \"#B6E880\", \"symbol\": \"circle\"}, \"mode\": \"markers\", \"name\": \"Witch\", \"orientation\": \"v\", \"showlegend\": true, \"type\": \"scatter\", \"x\": [-194.75152283481017], \"xaxis\": \"x\", \"y\": [-124.72785206021416], \"yaxis\": \"y\"}, {\"hovertemplate\": \"color=Barbarians<br>0=%{x}<br>1=%{y}<extra></extra>\", \"legendgroup\": \"Barbarians\", \"marker\": {\"color\": \"#FF97FF\", \"symbol\": \"circle\"}, \"mode\": \"markers\", \"name\": \"Barbarians\", \"orientation\": \"v\", \"showlegend\": true, \"type\": \"scatter\", \"x\": [-323.2547491956851], \"xaxis\": \"x\", \"y\": [-119.8746637045659], \"yaxis\": \"y\"}, {\"hovertemplate\": \"color=Golem<br>0=%{x}<br>1=%{y}<extra></extra>\", \"legendgroup\": \"Golem\", \"marker\": {\"color\": \"#FECB52\", \"symbol\": \"circle\"}, \"mode\": \"markers\", \"name\": \"Golem\", \"orientation\": \"v\", \"showlegend\": true, \"type\": \"scatter\", \"x\": [5274.4702270803955], \"xaxis\": \"x\", \"y\": [-107.57383193604032], \"yaxis\": \"y\"}, {\"hovertemplate\": \"color=Skeletons<br>0=%{x}<br>1=%{y}<extra></extra>\", \"legendgroup\": \"Skeletons\", \"marker\": {\"color\": \"#636efa\", \"symbol\": \"circle\"}, \"mode\": \"markers\", \"name\": \"Skeletons\", \"orientation\": \"v\", \"showlegend\": true, \"type\": \"scatter\", \"x\": [-815.5232561348574], \"xaxis\": \"x\", \"y\": [-249.63295687345493], \"yaxis\": \"y\"}, {\"hovertemplate\": \"color=Valkyrie<br>0=%{x}<br>1=%{y}<extra></extra>\", \"legendgroup\": \"Valkyrie\", \"marker\": {\"color\": \"#EF553B\", \"symbol\": \"circle\"}, \"mode\": \"markers\", \"name\": \"Valkyrie\", \"orientation\": \"v\", \"showlegend\": true, \"type\": \"scatter\", \"x\": [770.2891920445113], \"xaxis\": \"x\", \"y\": [65.91036834654214], \"yaxis\": \"y\"}, {\"hovertemplate\": \"color=Skeleton Army<br>0=%{x}<br>1=%{y}<extra></extra>\", \"legendgroup\": \"Skeleton Army\", \"marker\": {\"color\": \"#00cc96\", \"symbol\": \"circle\"}, \"mode\": \"markers\", \"name\": \"Skeleton Army\", \"orientation\": \"v\", \"showlegend\": true, \"type\": \"scatter\", \"x\": [-815.5270303312547], \"xaxis\": \"x\", \"y\": [-249.65120060722072], \"yaxis\": \"y\"}, {\"hovertemplate\": \"color=Bomber<br>0=%{x}<br>1=%{y}<extra></extra>\", \"legendgroup\": \"Bomber\", \"marker\": {\"color\": \"#ab63fa\", \"symbol\": \"circle\"}, \"mode\": \"markers\", \"name\": \"Bomber\", \"orientation\": \"v\", \"showlegend\": true, \"type\": \"scatter\", \"x\": [-479.5622830610958], \"xaxis\": \"x\", \"y\": [157.09467321901457], \"yaxis\": \"y\"}, {\"hovertemplate\": \"color=Musketeer<br>0=%{x}<br>1=%{y}<extra></extra>\", \"legendgroup\": \"Musketeer\", \"marker\": {\"color\": \"#FFA15A\", \"symbol\": \"circle\"}, \"mode\": \"markers\", \"name\": \"Musketeer\", \"orientation\": \"v\", \"showlegend\": true, \"type\": \"scatter\", \"x\": [-286.926897794986], \"xaxis\": \"x\", \"y\": [-24.591862946676116], \"yaxis\": \"y\"}, {\"hovertemplate\": \"color=Baby Dragon<br>0=%{x}<br>1=%{y}<extra></extra>\", \"legendgroup\": \"Baby Dragon\", \"marker\": {\"color\": \"#19d3f3\", \"symbol\": \"circle\"}, \"mode\": \"markers\", \"name\": \"Baby Dragon\", \"orientation\": \"v\", \"showlegend\": true, \"type\": \"scatter\", \"x\": [66.43324115513701], \"xaxis\": \"x\", \"y\": [-50.02909345351522], \"yaxis\": \"y\"}, {\"hovertemplate\": \"color=Prince<br>0=%{x}<br>1=%{y}<extra></extra>\", \"legendgroup\": \"Prince\", \"marker\": {\"color\": \"#FF6692\", \"symbol\": \"circle\"}, \"mode\": \"markers\", \"name\": \"Prince\", \"orientation\": \"v\", \"showlegend\": true, \"type\": \"scatter\", \"x\": [797.6563153914751], \"xaxis\": \"x\", \"y\": [114.47769499131272], \"yaxis\": \"y\"}, {\"hovertemplate\": \"color=Wizard<br>0=%{x}<br>1=%{y}<extra></extra>\", \"legendgroup\": \"Wizard\", \"marker\": {\"color\": \"#B6E880\", \"symbol\": \"circle\"}, \"mode\": \"markers\", \"name\": \"Wizard\", \"orientation\": \"v\", \"showlegend\": true, \"type\": \"scatter\", \"x\": [-291.91850213096683], \"xaxis\": \"x\", \"y\": [172.08814580547582], \"yaxis\": \"y\"}, {\"hovertemplate\": \"color=Mini P.E.K.K.A<br>0=%{x}<br>1=%{y}<extra></extra>\", \"legendgroup\": \"Mini P.E.K.K.A\", \"marker\": {\"color\": \"#FF97FF\", \"symbol\": \"circle\"}, \"mode\": \"markers\", \"name\": \"Mini P.E.K.K.A\", \"orientation\": \"v\", \"showlegend\": true, \"type\": \"scatter\", \"x\": [277.01573187005215], \"xaxis\": \"x\", \"y\": [497.6614571633485], \"yaxis\": \"y\"}, {\"hovertemplate\": \"color=Spear Goblins<br>0=%{x}<br>1=%{y}<extra></extra>\", \"legendgroup\": \"Spear Goblins\", \"marker\": {\"color\": \"#FECB52\", \"symbol\": \"circle\"}, \"mode\": \"markers\", \"name\": \"Spear Goblins\", \"orientation\": \"v\", \"showlegend\": true, \"type\": \"scatter\", \"x\": [-775.6070042879318], \"xaxis\": \"x\", \"y\": [-225.78318949568614], \"yaxis\": \"y\"}, {\"hovertemplate\": \"color=Giant Skeleton<br>0=%{x}<br>1=%{y}<extra></extra>\", \"legendgroup\": \"Giant Skeleton\", \"marker\": {\"color\": \"#636efa\", \"symbol\": \"circle\"}, \"mode\": \"markers\", \"name\": \"Giant Skeleton\", \"orientation\": \"v\", \"showlegend\": true, \"type\": \"scatter\", \"x\": [1943.1002277464665], \"xaxis\": \"x\", \"y\": [-95.03644030589288], \"yaxis\": \"y\"}, {\"hovertemplate\": \"color=Hog Rider<br>0=%{x}<br>1=%{y}<extra></extra>\", \"legendgroup\": \"Hog Rider\", \"marker\": {\"color\": \"#EF553B\", \"symbol\": \"circle\"}, \"mode\": \"markers\", \"name\": \"Hog Rider\", \"orientation\": \"v\", \"showlegend\": true, \"type\": \"scatter\", \"x\": [535.331659329369], \"xaxis\": \"x\", \"y\": [-108.79063116575283], \"yaxis\": \"y\"}, {\"hovertemplate\": \"color=Minion Horde<br>0=%{x}<br>1=%{y}<extra></extra>\", \"legendgroup\": \"Minion Horde\", \"marker\": {\"color\": \"#00cc96\", \"symbol\": \"circle\"}, \"mode\": \"markers\", \"name\": \"Minion Horde\", \"orientation\": \"v\", \"showlegend\": true, \"type\": \"scatter\", \"x\": [-695.5282467044964], \"xaxis\": \"x\", \"y\": [-195.77688006978994], \"yaxis\": \"y\"}, {\"hovertemplate\": \"color=Ice Wizard<br>0=%{x}<br>1=%{y}<extra></extra>\", \"legendgroup\": \"Ice Wizard\", \"marker\": {\"color\": \"#ab63fa\", \"symbol\": \"circle\"}, \"mode\": \"markers\", \"name\": \"Ice Wizard\", \"orientation\": \"v\", \"showlegend\": true, \"type\": \"scatter\", \"x\": [-299.0065411641413], \"xaxis\": \"x\", \"y\": [-178.11680393121458], \"yaxis\": \"y\"}, {\"hovertemplate\": \"color=Royal Giant<br>0=%{x}<br>1=%{y}<extra></extra>\", \"legendgroup\": \"Royal Giant\", \"marker\": {\"color\": \"#FFA15A\", \"symbol\": \"circle\"}, \"mode\": \"markers\", \"name\": \"Royal Giant\", \"orientation\": \"v\", \"showlegend\": true, \"type\": \"scatter\", \"x\": [1666.7957436402096], \"xaxis\": \"x\", \"y\": [-116.58183382036638], \"yaxis\": \"y\"}, {\"hovertemplate\": \"color=Guards<br>0=%{x}<br>1=%{y}<extra></extra>\", \"legendgroup\": \"Guards\", \"marker\": {\"color\": \"#19d3f3\", \"symbol\": \"circle\"}, \"mode\": \"markers\", \"name\": \"Guards\", \"orientation\": \"v\", \"showlegend\": true, \"type\": \"scatter\", \"x\": [-791.121098234246], \"xaxis\": \"x\", \"y\": [-217.28365092896934], \"yaxis\": \"y\"}, {\"hovertemplate\": \"color=Princess<br>0=%{x}<br>1=%{y}<extra></extra>\", \"legendgroup\": \"Princess\", \"marker\": {\"color\": \"#FF6692\", \"symbol\": \"circle\"}, \"mode\": \"markers\", \"name\": \"Princess\", \"orientation\": \"v\", \"showlegend\": true, \"type\": \"scatter\", \"x\": [-672.1077559228867], \"xaxis\": \"x\", \"y\": [-35.30300514113995], \"yaxis\": \"y\"}, {\"hovertemplate\": \"color=Dark Prince<br>0=%{x}<br>1=%{y}<extra></extra>\", \"legendgroup\": \"Dark Prince\", \"marker\": {\"color\": \"#B6E880\", \"symbol\": \"circle\"}, \"mode\": \"markers\", \"name\": \"Dark Prince\", \"orientation\": \"v\", \"showlegend\": true, \"type\": \"scatter\", \"x\": [346.1476594826432], \"xaxis\": \"x\", \"y\": [37.80627814083057], \"yaxis\": \"y\"}, {\"hovertemplate\": \"color=Three Musketeers<br>0=%{x}<br>1=%{y}<extra></extra>\", \"legendgroup\": \"Three Musketeers\", \"marker\": {\"color\": \"#FF97FF\", \"symbol\": \"circle\"}, \"mode\": \"markers\", \"name\": \"Three Musketeers\", \"orientation\": \"v\", \"showlegend\": true, \"type\": \"scatter\", \"x\": [-286.9231674062084], \"xaxis\": \"x\", \"y\": [-24.59027461507202], \"yaxis\": \"y\"}, {\"hovertemplate\": \"color=Lava Hound<br>0=%{x}<br>1=%{y}<extra></extra>\", \"legendgroup\": \"Lava Hound\", \"marker\": {\"color\": \"#FECB52\", \"symbol\": \"circle\"}, \"mode\": \"markers\", \"name\": \"Lava Hound\", \"orientation\": \"v\", \"showlegend\": true, \"type\": \"scatter\", \"x\": [2253.2535723639], \"xaxis\": \"x\", \"y\": [-222.13487996096276], \"yaxis\": \"y\"}, {\"hovertemplate\": \"color=Ice Spirit<br>0=%{x}<br>1=%{y}<extra></extra>\", \"legendgroup\": \"Ice Spirit\", \"marker\": {\"color\": \"#636efa\", \"symbol\": \"circle\"}, \"mode\": \"markers\", \"name\": \"Ice Spirit\", \"orientation\": \"v\", \"showlegend\": true, \"type\": \"scatter\", \"x\": [-694.4156518829379], \"xaxis\": \"x\", \"y\": [-142.82914832497332], \"yaxis\": \"y\"}, {\"hovertemplate\": \"color=Fire Spirits<br>0=%{x}<br>1=%{y}<extra></extra>\", \"legendgroup\": \"Fire Spirits\", \"marker\": {\"color\": \"#EF553B\", \"symbol\": \"circle\"}, \"mode\": \"markers\", \"name\": \"Fire Spirits\", \"orientation\": \"v\", \"showlegend\": true, \"type\": \"scatter\", \"x\": [-796.9009631405004], \"xaxis\": \"x\", \"y\": [48.26738064997494], \"yaxis\": \"y\"}, {\"hovertemplate\": \"color=Miner<br>0=%{x}<br>1=%{y}<extra></extra>\", \"legendgroup\": \"Miner\", \"marker\": {\"color\": \"#00cc96\", \"symbol\": \"circle\"}, \"mode\": \"markers\", \"name\": \"Miner\", \"orientation\": \"v\", \"showlegend\": true, \"type\": \"scatter\", \"x\": [115.48006936457459], \"xaxis\": \"x\", \"y\": [-154.74076218162347], \"yaxis\": \"y\"}, {\"hovertemplate\": \"color=Sparky<br>0=%{x}<br>1=%{y}<extra></extra>\", \"legendgroup\": \"Sparky\", \"marker\": {\"color\": \"#ab63fa\", \"symbol\": \"circle\"}, \"mode\": \"markers\", \"name\": \"Sparky\", \"orientation\": \"v\", \"showlegend\": true, \"type\": \"scatter\", \"x\": [351.4856897122691], \"xaxis\": \"x\", \"y\": [1689.134814177508], \"yaxis\": \"y\"}, {\"hovertemplate\": \"color=Bowler<br>0=%{x}<br>1=%{y}<extra></extra>\", \"legendgroup\": \"Bowler\", \"marker\": {\"color\": \"#FFA15A\", \"symbol\": \"circle\"}, \"mode\": \"markers\", \"name\": \"Bowler\", \"orientation\": \"v\", \"showlegend\": true, \"type\": \"scatter\", \"x\": [713.1752785492703], \"xaxis\": \"x\", \"y\": [99.10706043382798], \"yaxis\": \"y\"}, {\"hovertemplate\": \"color=Lumberjack<br>0=%{x}<br>1=%{y}<extra></extra>\", \"legendgroup\": \"Lumberjack\", \"marker\": {\"color\": \"#19d3f3\", \"symbol\": \"circle\"}, \"mode\": \"markers\", \"name\": \"Lumberjack\", \"orientation\": \"v\", \"showlegend\": true, \"type\": \"scatter\", \"x\": [182.6773979008725], \"xaxis\": \"x\", \"y\": [-61.7742664895644], \"yaxis\": \"y\"}, {\"hovertemplate\": \"color=Battle Ram<br>0=%{x}<br>1=%{y}<extra></extra>\", \"legendgroup\": \"Battle Ram\", \"marker\": {\"color\": \"#FF6692\", \"symbol\": \"circle\"}, \"mode\": \"markers\", \"name\": \"Battle Ram\", \"orientation\": \"v\", \"showlegend\": true, \"type\": \"scatter\", \"x\": [445.646771657782], \"xaxis\": \"x\", \"y\": [-125.52015309173905], \"yaxis\": \"y\"}, {\"hovertemplate\": \"color=Inferno Dragon<br>0=%{x}<br>1=%{y}<extra></extra>\", \"legendgroup\": \"Inferno Dragon\", \"marker\": {\"color\": \"#B6E880\", \"symbol\": \"circle\"}, \"mode\": \"markers\", \"name\": \"Inferno Dragon\", \"orientation\": \"v\", \"showlegend\": true, \"type\": \"scatter\", \"x\": [183.66483949488693], \"xaxis\": \"x\", \"y\": [-8.304694728797228], \"yaxis\": \"y\"}, {\"hovertemplate\": \"color=Ice Golem<br>0=%{x}<br>1=%{y}<extra></extra>\", \"legendgroup\": \"Ice Golem\", \"marker\": {\"color\": \"#FF97FF\", \"symbol\": \"circle\"}, \"mode\": \"markers\", \"name\": \"Ice Golem\", \"orientation\": \"v\", \"showlegend\": true, \"type\": \"scatter\", \"x\": [111.56615476190154], \"xaxis\": \"x\", \"y\": [-280.621986079592], \"yaxis\": \"y\"}, {\"hovertemplate\": \"color=Mega Minion<br>0=%{x}<br>1=%{y}<extra></extra>\", \"legendgroup\": \"Mega Minion\", \"marker\": {\"color\": \"#FECB52\", \"symbol\": \"circle\"}, \"mode\": \"markers\", \"name\": \"Mega Minion\", \"orientation\": \"v\", \"showlegend\": true, \"type\": \"scatter\", \"x\": [-188.6858894274562], \"xaxis\": \"x\", \"y\": [111.0788644064043], \"yaxis\": \"y\"}, {\"hovertemplate\": \"color=Dart Goblin<br>0=%{x}<br>1=%{y}<extra></extra>\", \"legendgroup\": \"Dart Goblin\", \"marker\": {\"color\": \"#636efa\", \"symbol\": \"circle\"}, \"mode\": \"markers\", \"name\": \"Dart Goblin\", \"orientation\": \"v\", \"showlegend\": true, \"type\": \"scatter\", \"x\": [-669.290427491969], \"xaxis\": \"x\", \"y\": [-167.57415499461223], \"yaxis\": \"y\"}, {\"hovertemplate\": \"color=Goblin Gang<br>0=%{x}<br>1=%{y}<extra></extra>\", \"legendgroup\": \"Goblin Gang\", \"marker\": {\"color\": \"#EF553B\", \"symbol\": \"circle\"}, \"mode\": \"markers\", \"name\": \"Goblin Gang\", \"orientation\": \"v\", \"showlegend\": true, \"type\": \"scatter\", \"x\": [-746.1752187862609], \"xaxis\": \"x\", \"y\": [-203.27214159775073], \"yaxis\": \"y\"}, {\"hovertemplate\": \"color=Electro Wizard<br>0=%{x}<br>1=%{y}<extra></extra>\", \"legendgroup\": \"Electro Wizard\", \"marker\": {\"color\": \"#00cc96\", \"symbol\": \"circle\"}, \"mode\": \"markers\", \"name\": \"Electro Wizard\", \"orientation\": \"v\", \"showlegend\": true, \"type\": \"scatter\", \"x\": [-294.67570390894076], \"xaxis\": \"x\", \"y\": [-5.230235094177683], \"yaxis\": \"y\"}, {\"hovertemplate\": \"color=Elite Barbarians<br>0=%{x}<br>1=%{y}<extra></extra>\", \"legendgroup\": \"Elite Barbarians\", \"marker\": {\"color\": \"#ab63fa\", \"symbol\": \"circle\"}, \"mode\": \"markers\", \"name\": \"Elite Barbarians\", \"orientation\": \"v\", \"showlegend\": true, \"type\": \"scatter\", \"x\": [99.47152430369674], \"xaxis\": \"x\", \"y\": [80.09349691600822], \"yaxis\": \"y\"}, {\"hovertemplate\": \"color=Hunter<br>0=%{x}<br>1=%{y}<extra></extra>\", \"legendgroup\": \"Hunter\", \"marker\": {\"color\": \"#FFA15A\", \"symbol\": \"circle\"}, \"mode\": \"markers\", \"name\": \"Hunter\", \"orientation\": \"v\", \"showlegend\": true, \"type\": \"scatter\", \"x\": [-196.8485122773968], \"xaxis\": \"x\", \"y\": [1198.5390227309988], \"yaxis\": \"y\"}, {\"hovertemplate\": \"color=Executioner<br>0=%{x}<br>1=%{y}<extra></extra>\", \"legendgroup\": \"Executioner\", \"marker\": {\"color\": \"#19d3f3\", \"symbol\": \"circle\"}, \"mode\": \"markers\", \"name\": \"Executioner\", \"orientation\": \"v\", \"showlegend\": true, \"type\": \"scatter\", \"x\": [118.4361644215312], \"xaxis\": \"x\", \"y\": [273.78805539826453], \"yaxis\": \"y\"}, {\"hovertemplate\": \"color=Bandit<br>0=%{x}<br>1=%{y}<extra></extra>\", \"legendgroup\": \"Bandit\", \"marker\": {\"color\": \"#FF6692\", \"symbol\": \"circle\"}, \"mode\": \"markers\", \"name\": \"Bandit\", \"orientation\": \"v\", \"showlegend\": true, \"type\": \"scatter\", \"x\": [-128.84830025347262], \"xaxis\": \"x\", \"y\": [-118.28237345860155], \"yaxis\": \"y\"}, {\"hovertemplate\": \"color=Royal Recruits<br>0=%{x}<br>1=%{y}<extra></extra>\", \"legendgroup\": \"Royal Recruits\", \"marker\": {\"color\": \"#B6E880\", \"symbol\": \"circle\"}, \"mode\": \"markers\", \"name\": \"Royal Recruits\", \"orientation\": \"v\", \"showlegend\": true, \"type\": \"scatter\", \"x\": [-243.26304167439096], \"xaxis\": \"x\", \"y\": [-201.31225285766317], \"yaxis\": \"y\"}, {\"hovertemplate\": \"color=Night Witch<br>0=%{x}<br>1=%{y}<extra></extra>\", \"legendgroup\": \"Night Witch\", \"marker\": {\"color\": \"#FF97FF\", \"symbol\": \"circle\"}, \"mode\": \"markers\", \"name\": \"Night Witch\", \"orientation\": \"v\", \"showlegend\": true, \"type\": \"scatter\", \"x\": [-131.56020699147678], \"xaxis\": \"x\", \"y\": [-89.55658587542646], \"yaxis\": \"y\"}, {\"hovertemplate\": \"color=Bats<br>0=%{x}<br>1=%{y}<extra></extra>\", \"legendgroup\": \"Bats\", \"marker\": {\"color\": \"#FECB52\", \"symbol\": \"circle\"}, \"mode\": \"markers\", \"name\": \"Bats\", \"orientation\": \"v\", \"showlegend\": true, \"type\": \"scatter\", \"x\": [-818.4630537115489], \"xaxis\": \"x\", \"y\": [-225.82736433179613], \"yaxis\": \"y\"}, {\"hovertemplate\": \"color=Royal Ghost<br>0=%{x}<br>1=%{y}<extra></extra>\", \"legendgroup\": \"Royal Ghost\", \"marker\": {\"color\": \"#636efa\", \"symbol\": \"circle\"}, \"mode\": \"markers\", \"name\": \"Royal Ghost\", \"orientation\": \"v\", \"showlegend\": true, \"type\": \"scatter\", \"x\": [118.3018297378462], \"xaxis\": \"x\", \"y\": [56.063219789545414], \"yaxis\": \"y\"}, {\"hovertemplate\": \"color=Ram Rider<br>0=%{x}<br>1=%{y}<extra></extra>\", \"legendgroup\": \"Ram Rider\", \"marker\": {\"color\": \"#EF553B\", \"symbol\": \"circle\"}, \"mode\": \"markers\", \"name\": \"Ram Rider\", \"orientation\": \"v\", \"showlegend\": true, \"type\": \"scatter\", \"x\": [580.7090712074731], \"xaxis\": \"x\", \"y\": [-72.41494387759683], \"yaxis\": \"y\"}, {\"hovertemplate\": \"color=Zappies<br>0=%{x}<br>1=%{y}<extra></extra>\", \"legendgroup\": \"Zappies\", \"marker\": {\"color\": \"#00cc96\", \"symbol\": \"circle\"}, \"mode\": \"markers\", \"name\": \"Zappies\", \"orientation\": \"v\", \"showlegend\": true, \"type\": \"scatter\", \"x\": [-446.3710260126493], \"xaxis\": \"x\", \"y\": [-195.53908080213395], \"yaxis\": \"y\"}, {\"hovertemplate\": \"color=Rascals<br>0=%{x}<br>1=%{y}<extra></extra>\", \"legendgroup\": \"Rascals\", \"marker\": {\"color\": \"#ab63fa\", \"symbol\": \"circle\"}, \"mode\": \"markers\", \"name\": \"Rascals\", \"orientation\": \"v\", \"showlegend\": true, \"type\": \"scatter\", \"x\": [1056.0782036006722], \"xaxis\": \"x\", \"y\": [-148.351522317106], \"yaxis\": \"y\"}, {\"hovertemplate\": \"color=Cannon Cart<br>0=%{x}<br>1=%{y}<extra></extra>\", \"legendgroup\": \"Cannon Cart\", \"marker\": {\"color\": \"#FFA15A\", \"symbol\": \"circle\"}, \"mode\": \"markers\", \"name\": \"Cannon Cart\", \"orientation\": \"v\", \"showlegend\": true, \"type\": \"scatter\", \"x\": [603.7066786909439], \"xaxis\": \"x\", \"y\": [-95.10777044506686], \"yaxis\": \"y\"}, {\"hovertemplate\": \"color=Mega Knight<br>0=%{x}<br>1=%{y}<extra></extra>\", \"legendgroup\": \"Mega Knight\", \"marker\": {\"color\": \"#19d3f3\", \"symbol\": \"circle\"}, \"mode\": \"markers\", \"name\": \"Mega Knight\", \"orientation\": \"v\", \"showlegend\": true, \"type\": \"scatter\", \"x\": [2410.780585018991], \"xaxis\": \"x\", \"y\": [69.29723508570319], \"yaxis\": \"y\"}, {\"hovertemplate\": \"color=Skeleton Barrel<br>0=%{x}<br>1=%{y}<extra></extra>\", \"legendgroup\": \"Skeleton Barrel\", \"marker\": {\"color\": \"#FF6692\", \"symbol\": \"circle\"}, \"mode\": \"markers\", \"name\": \"Skeleton Barrel\", \"orientation\": \"v\", \"showlegend\": true, \"type\": \"scatter\", \"x\": [-342.48716464881363], \"xaxis\": \"x\", \"y\": [-190.251000893495], \"yaxis\": \"y\"}, {\"hovertemplate\": \"color=Flying Machine<br>0=%{x}<br>1=%{y}<extra></extra>\", \"legendgroup\": \"Flying Machine\", \"marker\": {\"color\": \"#B6E880\", \"symbol\": \"circle\"}, \"mode\": \"markers\", \"name\": \"Flying Machine\", \"orientation\": \"v\", \"showlegend\": true, \"type\": \"scatter\", \"x\": [-375.42506544800364], \"xaxis\": \"x\", \"y\": [-93.34498811627417], \"yaxis\": \"y\"}, {\"hovertemplate\": \"color=Wall Breakers<br>0=%{x}<br>1=%{y}<extra></extra>\", \"legendgroup\": \"Wall Breakers\", \"marker\": {\"color\": \"#FF97FF\", \"symbol\": \"circle\"}, \"mode\": \"markers\", \"name\": \"Wall Breakers\", \"orientation\": \"v\", \"showlegend\": true, \"type\": \"scatter\", \"x\": [-602.4332377488844], \"xaxis\": \"x\", \"y\": [373.7247930480153], \"yaxis\": \"y\"}, {\"hovertemplate\": \"color=Royal Hogs<br>0=%{x}<br>1=%{y}<extra></extra>\", \"legendgroup\": \"Royal Hogs\", \"marker\": {\"color\": \"#FECB52\", \"symbol\": \"circle\"}, \"mode\": \"markers\", \"name\": \"Royal Hogs\", \"orientation\": \"v\", \"showlegend\": true, \"type\": \"scatter\", \"x\": [-189.76837696224976], \"xaxis\": \"x\", \"y\": [-290.97220687379905], \"yaxis\": \"y\"}, {\"hovertemplate\": \"color=Goblin Giant<br>0=%{x}<br>1=%{y}<extra></extra>\", \"legendgroup\": \"Goblin Giant\", \"marker\": {\"color\": \"#636efa\", \"symbol\": \"circle\"}, \"mode\": \"markers\", \"name\": \"Goblin Giant\", \"orientation\": \"v\", \"showlegend\": true, \"type\": \"scatter\", \"x\": [1833.5630449039147], \"xaxis\": \"x\", \"y\": [-117.1837305337235], \"yaxis\": \"y\"}, {\"hovertemplate\": \"color=Fisherman<br>0=%{x}<br>1=%{y}<extra></extra>\", \"legendgroup\": \"Fisherman\", \"marker\": {\"color\": \"#EF553B\", \"symbol\": \"circle\"}, \"mode\": \"markers\", \"name\": \"Fisherman\", \"orientation\": \"v\", \"showlegend\": true, \"type\": \"scatter\", \"x\": [-79.01651818558261], \"xaxis\": \"x\", \"y\": [-118.23499828301446], \"yaxis\": \"y\"}, {\"hovertemplate\": \"color=Magic Archer<br>0=%{x}<br>1=%{y}<extra></extra>\", \"legendgroup\": \"Magic Archer\", \"marker\": {\"color\": \"#00cc96\", \"symbol\": \"circle\"}, \"mode\": \"markers\", \"name\": \"Magic Archer\", \"orientation\": \"v\", \"showlegend\": true, \"type\": \"scatter\", \"x\": [-448.70094755919143], \"xaxis\": \"x\", \"y\": [-98.96653976354818], \"yaxis\": \"y\"}, {\"hovertemplate\": \"color=Electro Dragon<br>0=%{x}<br>1=%{y}<extra></extra>\", \"legendgroup\": \"Electro Dragon\", \"marker\": {\"color\": \"#ab63fa\", \"symbol\": \"circle\"}, \"mode\": \"markers\", \"name\": \"Electro Dragon\", \"orientation\": \"v\", \"showlegend\": true, \"type\": \"scatter\", \"x\": [-96.02124623643401], \"xaxis\": \"x\", \"y\": [-63.14829771856976], \"yaxis\": \"y\"}, {\"hovertemplate\": \"color=Firecracker<br>0=%{x}<br>1=%{y}<extra></extra>\", \"legendgroup\": \"Firecracker\", \"marker\": {\"color\": \"#FFA15A\", \"symbol\": \"circle\"}, \"mode\": \"markers\", \"name\": \"Firecracker\", \"orientation\": \"v\", \"showlegend\": true, \"type\": \"scatter\", \"x\": [-636.9264483880659], \"xaxis\": \"x\", \"y\": [240.04124590847522], \"yaxis\": \"y\"}, {\"hovertemplate\": \"color=Elixir Golem<br>0=%{x}<br>1=%{y}<extra></extra>\", \"legendgroup\": \"Elixir Golem\", \"marker\": {\"color\": \"#19d3f3\", \"symbol\": \"circle\"}, \"mode\": \"markers\", \"name\": \"Elixir Golem\", \"orientation\": \"v\", \"showlegend\": true, \"type\": \"scatter\", \"x\": [1295.0854777987422], \"xaxis\": \"x\", \"y\": [-228.78232756541337], \"yaxis\": \"y\"}, {\"hovertemplate\": \"color=Battle Healer<br>0=%{x}<br>1=%{y}<extra></extra>\", \"legendgroup\": \"Battle Healer\", \"marker\": {\"color\": \"#FF6692\", \"symbol\": \"circle\"}, \"mode\": \"markers\", \"name\": \"Battle Healer\", \"orientation\": \"v\", \"showlegend\": true, \"type\": \"scatter\", \"x\": [541.4998905229108], \"xaxis\": \"x\", \"y\": [-169.65296234239554], \"yaxis\": \"y\"}, {\"hovertemplate\": \"color=Skeleton Dragons<br>0=%{x}<br>1=%{y}<extra></extra>\", \"legendgroup\": \"Skeleton Dragons\", \"marker\": {\"color\": \"#B6E880\", \"symbol\": \"circle\"}, \"mode\": \"markers\", \"name\": \"Skeleton Dragons\", \"orientation\": \"v\", \"showlegend\": true, \"type\": \"scatter\", \"x\": [-448.8743583779176], \"xaxis\": \"x\", \"y\": [-30.6911193774686], \"yaxis\": \"y\"}, {\"hovertemplate\": \"color=Cannon<br>0=%{x}<br>1=%{y}<extra></extra>\", \"legendgroup\": \"Cannon\", \"marker\": {\"color\": \"#FF97FF\", \"symbol\": \"circle\"}, \"mode\": \"markers\", \"name\": \"Cannon\", \"orientation\": \"v\", \"showlegend\": true, \"type\": \"scatter\", \"x\": [-143.96924266781457], \"xaxis\": \"x\", \"y\": [-159.1032463722056], \"yaxis\": \"y\"}, {\"hovertemplate\": \"color=Goblin Hut<br>0=%{x}<br>1=%{y}<extra></extra>\", \"legendgroup\": \"Goblin Hut\", \"marker\": {\"color\": \"#FECB52\", \"symbol\": \"circle\"}, \"mode\": \"markers\", \"name\": \"Goblin Hut\", \"orientation\": \"v\", \"showlegend\": true, \"type\": \"scatter\", \"x\": [-44.06173070507273], \"xaxis\": \"x\", \"y\": [-225.31277666286533], \"yaxis\": \"y\"}, {\"hovertemplate\": \"color=Mortar<br>0=%{x}<br>1=%{y}<extra></extra>\", \"legendgroup\": \"Mortar\", \"marker\": {\"color\": \"#636efa\", \"symbol\": \"circle\"}, \"mode\": \"markers\", \"name\": \"Mortar\", \"orientation\": \"v\", \"showlegend\": true, \"type\": \"scatter\", \"x\": [336.7325166739245], \"xaxis\": \"x\", \"y\": [63.506061859576036], \"yaxis\": \"y\"}, {\"hovertemplate\": \"color=Inferno Tower<br>0=%{x}<br>1=%{y}<extra></extra>\", \"legendgroup\": \"Inferno Tower\", \"marker\": {\"color\": \"#EF553B\", \"symbol\": \"circle\"}, \"mode\": \"markers\", \"name\": \"Inferno Tower\", \"orientation\": \"v\", \"showlegend\": true, \"type\": \"scatter\", \"x\": [550.8922191431708], \"xaxis\": \"x\", \"y\": [177.59898785688554], \"yaxis\": \"y\"}, {\"hovertemplate\": \"color=Bomb Tower<br>0=%{x}<br>1=%{y}<extra></extra>\", \"legendgroup\": \"Bomb Tower\", \"marker\": {\"color\": \"#00cc96\", \"symbol\": \"circle\"}, \"mode\": \"markers\", \"name\": \"Bomb Tower\", \"orientation\": \"v\", \"showlegend\": true, \"type\": \"scatter\", \"x\": [247.63993765269296], \"xaxis\": \"x\", \"y\": [-66.2478908429831], \"yaxis\": \"y\"}, {\"hovertemplate\": \"color=Barbarian Hut<br>0=%{x}<br>1=%{y}<extra></extra>\", \"legendgroup\": \"Barbarian Hut\", \"marker\": {\"color\": \"#ab63fa\", \"symbol\": \"circle\"}, \"mode\": \"markers\", \"name\": \"Barbarian Hut\", \"orientation\": \"v\", \"showlegend\": true, \"type\": \"scatter\", \"x\": [571.7100321471966], \"xaxis\": \"x\", \"y\": [-98.21614622662108], \"yaxis\": \"y\"}, {\"hovertemplate\": \"color=Tesla<br>0=%{x}<br>1=%{y}<extra></extra>\", \"legendgroup\": \"Tesla\", \"marker\": {\"color\": \"#FFA15A\", \"symbol\": \"circle\"}, \"mode\": \"markers\", \"name\": \"Tesla\", \"orientation\": \"v\", \"showlegend\": true, \"type\": \"scatter\", \"x\": [59.25031113948734], \"xaxis\": \"x\", \"y\": [-75.62604460428236], \"yaxis\": \"y\"}, {\"hovertemplate\": \"color=Elixir Collector<br>0=%{x}<br>1=%{y}<extra></extra>\", \"legendgroup\": \"Elixir Collector\", \"marker\": {\"color\": \"#19d3f3\", \"symbol\": \"circle\"}, \"mode\": \"markers\", \"name\": \"Elixir Collector\", \"orientation\": \"v\", \"showlegend\": true, \"type\": \"scatter\", \"x\": [-1.5576760195572579], \"xaxis\": \"x\", \"y\": [-343.3862517761912], \"yaxis\": \"y\"}, {\"hovertemplate\": \"color=X-Bow<br>0=%{x}<br>1=%{y}<extra></extra>\", \"legendgroup\": \"X-Bow\", \"marker\": {\"color\": \"#FF6692\", \"symbol\": \"circle\"}, \"mode\": \"markers\", \"name\": \"X-Bow\", \"orientation\": \"v\", \"showlegend\": true, \"type\": \"scatter\", \"x\": [493.42950093043646], \"xaxis\": \"x\", \"y\": [-306.22558823589304], \"yaxis\": \"y\"}, {\"hovertemplate\": \"color=Tombstone<br>0=%{x}<br>1=%{y}<extra></extra>\", \"legendgroup\": \"Tombstone\", \"marker\": {\"color\": \"#B6E880\", \"symbol\": \"circle\"}, \"mode\": \"markers\", \"name\": \"Tombstone\", \"orientation\": \"v\", \"showlegend\": true, \"type\": \"scatter\", \"x\": [-461.7028599086488], \"xaxis\": \"x\", \"y\": [-249.52433533088322], \"yaxis\": \"y\"}, {\"hovertemplate\": \"color=Furnace<br>0=%{x}<br>1=%{y}<extra></extra>\", \"legendgroup\": \"Furnace\", \"marker\": {\"color\": \"#FF97FF\", \"symbol\": \"circle\"}, \"mode\": \"markers\", \"name\": \"Furnace\", \"orientation\": \"v\", \"showlegend\": true, \"type\": \"scatter\", \"x\": [-46.03898129886021], \"xaxis\": \"x\", \"y\": [-101.06874499064094], \"yaxis\": \"y\"}, {\"hovertemplate\": \"color=Goblin Cage<br>0=%{x}<br>1=%{y}<extra></extra>\", \"legendgroup\": \"Goblin Cage\", \"marker\": {\"color\": \"#FECB52\", \"symbol\": \"circle\"}, \"mode\": \"markers\", \"name\": \"Goblin Cage\", \"orientation\": \"v\", \"showlegend\": true, \"type\": \"scatter\", \"x\": [778.7637797510359], \"xaxis\": \"x\", \"y\": [49.70752141598432], \"yaxis\": \"y\"}, {\"hovertemplate\": \"color=Fireball<br>0=%{x}<br>1=%{y}<extra></extra>\", \"legendgroup\": \"Fireball\", \"marker\": {\"color\": \"#636efa\", \"symbol\": \"circle\"}, \"mode\": \"markers\", \"name\": \"Fireball\", \"orientation\": \"v\", \"showlegend\": true, \"type\": \"scatter\", \"x\": [-907.0161131444663], \"xaxis\": \"x\", \"y\": [785.0804057877583], \"yaxis\": \"y\"}, {\"hovertemplate\": \"color=Arrows<br>0=%{x}<br>1=%{y}<extra></extra>\", \"legendgroup\": \"Arrows\", \"marker\": {\"color\": \"#EF553B\", \"symbol\": \"circle\"}, \"mode\": \"markers\", \"name\": \"Arrows\", \"orientation\": \"v\", \"showlegend\": true, \"type\": \"scatter\", \"x\": [-897.3454616925031], \"xaxis\": \"x\", \"y\": [254.7041441506785], \"yaxis\": \"y\"}, {\"hovertemplate\": \"color=Rage<br>0=%{x}<br>1=%{y}<extra></extra>\", \"legendgroup\": \"Rage\", \"marker\": {\"color\": \"#00cc96\", \"symbol\": \"circle\"}, \"mode\": \"markers\", \"name\": \"Rage\", \"orientation\": \"v\", \"showlegend\": true, \"type\": \"scatter\", \"x\": [-886.598982805914], \"xaxis\": \"x\", \"y\": [-343.8921367667292], \"yaxis\": \"y\"}, {\"hovertemplate\": \"color=Rocket<br>0=%{x}<br>1=%{y}<extra></extra>\", \"legendgroup\": \"Rocket\", \"marker\": {\"color\": \"#ab63fa\", \"symbol\": \"circle\"}, \"mode\": \"markers\", \"name\": \"Rocket\", \"orientation\": \"v\", \"showlegend\": true, \"type\": \"scatter\", \"x\": [-930.6145010929911], \"xaxis\": \"x\", \"y\": [2087.370838875449], \"yaxis\": \"y\"}, {\"hovertemplate\": \"color=Goblin Barrel<br>0=%{x}<br>1=%{y}<extra></extra>\", \"legendgroup\": \"Goblin Barrel\", \"marker\": {\"color\": \"#FFA15A\", \"symbol\": \"circle\"}, \"mode\": \"markers\", \"name\": \"Goblin Barrel\", \"orientation\": \"v\", \"showlegend\": true, \"type\": \"scatter\", \"x\": [-880.2402143256626], \"xaxis\": \"x\", \"y\": [-204.71812594015512], \"yaxis\": \"y\"}, {\"hovertemplate\": \"color=Freeze<br>0=%{x}<br>1=%{y}<extra></extra>\", \"legendgroup\": \"Freeze\", \"marker\": {\"color\": \"#19d3f3\", \"symbol\": \"circle\"}, \"mode\": \"markers\", \"name\": \"Freeze\", \"orientation\": \"v\", \"showlegend\": true, \"type\": \"scatter\", \"x\": [-889.9600465901048], \"xaxis\": \"x\", \"y\": [-156.15731679535273], \"yaxis\": \"y\"}, {\"hovertemplate\": \"color=Mirror<br>0=%{x}<br>1=%{y}<extra></extra>\", \"legendgroup\": \"Mirror\", \"marker\": {\"color\": \"#FF6692\", \"symbol\": \"circle\"}, \"mode\": \"markers\", \"name\": \"Mirror\", \"orientation\": \"v\", \"showlegend\": true, \"type\": \"scatter\", \"x\": [-886.598134314015], \"xaxis\": \"x\", \"y\": [-343.8530154379746], \"yaxis\": \"y\"}, {\"hovertemplate\": \"color=Lightning<br>0=%{x}<br>1=%{y}<extra></extra>\", \"legendgroup\": \"Lightning\", \"marker\": {\"color\": \"#B6E880\", \"symbol\": \"circle\"}, \"mode\": \"markers\", \"name\": \"Lightning\", \"orientation\": \"v\", \"showlegend\": true, \"type\": \"scatter\", \"x\": [-895.1970284727017], \"xaxis\": \"x\", \"y\": [999.2663296736777], \"yaxis\": \"y\"}, {\"hovertemplate\": \"color=Zap<br>0=%{x}<br>1=%{y}<extra></extra>\", \"legendgroup\": \"Zap\", \"marker\": {\"color\": \"#FF97FF\", \"symbol\": \"circle\"}, \"mode\": \"markers\", \"name\": \"Zap\", \"orientation\": \"v\", \"showlegend\": true, \"type\": \"scatter\", \"x\": [-892.2708191966653], \"xaxis\": \"x\", \"y\": [-29.997504880153656], \"yaxis\": \"y\"}, {\"hovertemplate\": \"color=Poison<br>0=%{x}<br>1=%{y}<extra></extra>\", \"legendgroup\": \"Poison\", \"marker\": {\"color\": \"#FECB52\", \"symbol\": \"circle\"}, \"mode\": \"markers\", \"name\": \"Poison\", \"orientation\": \"v\", \"showlegend\": true, \"type\": \"scatter\", \"x\": [-889.2429247315164], \"xaxis\": \"x\", \"y\": [-195.64048467075534], \"yaxis\": \"y\"}, {\"hovertemplate\": \"color=Graveyard<br>0=%{x}<br>1=%{y}<extra></extra>\", \"legendgroup\": \"Graveyard\", \"marker\": {\"color\": \"#636efa\", \"symbol\": \"circle\"}, \"mode\": \"markers\", \"name\": \"Graveyard\", \"orientation\": \"v\", \"showlegend\": true, \"type\": \"scatter\", \"x\": [-815.5250240537831], \"xaxis\": \"x\", \"y\": [-249.70843232348585], \"yaxis\": \"y\"}, {\"hovertemplate\": \"color=The Log<br>0=%{x}<br>1=%{y}<extra></extra>\", \"legendgroup\": \"The Log\", \"marker\": {\"color\": \"#EF553B\", \"symbol\": \"circle\"}, \"mode\": \"markers\", \"name\": \"The Log\", \"orientation\": \"v\", \"showlegend\": true, \"type\": \"scatter\", \"x\": [-884.4208031632679], \"xaxis\": \"x\", \"y\": [46.187738035159356], \"yaxis\": \"y\"}, {\"hovertemplate\": \"color=Tornado<br>0=%{x}<br>1=%{y}<extra></extra>\", \"legendgroup\": \"Tornado\", \"marker\": {\"color\": \"#00cc96\", \"symbol\": \"circle\"}, \"mode\": \"markers\", \"name\": \"Tornado\", \"orientation\": \"v\", \"showlegend\": true, \"type\": \"scatter\", \"x\": [-892.7679521012088], \"xaxis\": \"x\", \"y\": [-76.43352386388695], \"yaxis\": \"y\"}, {\"hovertemplate\": \"color=Clone<br>0=%{x}<br>1=%{y}<extra></extra>\", \"legendgroup\": \"Clone\", \"marker\": {\"color\": \"#ab63fa\", \"symbol\": \"circle\"}, \"mode\": \"markers\", \"name\": \"Clone\", \"orientation\": \"v\", \"showlegend\": true, \"type\": \"scatter\", \"x\": [-885.6037974299936], \"xaxis\": \"x\", \"y\": [-343.852149946901], \"yaxis\": \"y\"}, {\"hovertemplate\": \"color=Earthquake<br>0=%{x}<br>1=%{y}<extra></extra>\", \"legendgroup\": \"Earthquake\", \"marker\": {\"color\": \"#FFA15A\", \"symbol\": \"circle\"}, \"mode\": \"markers\", \"name\": \"Earthquake\", \"orientation\": \"v\", \"showlegend\": true, \"type\": \"scatter\", \"x\": [-874.3734359017865], \"xaxis\": \"x\", \"y\": [-97.84492865205], \"yaxis\": \"y\"}, {\"hovertemplate\": \"color=Barbarian Barrel<br>0=%{x}<br>1=%{y}<extra></extra>\", \"legendgroup\": \"Barbarian Barrel\", \"marker\": {\"color\": \"#19d3f3\", \"symbol\": \"circle\"}, \"mode\": \"markers\", \"name\": \"Barbarian Barrel\", \"orientation\": \"v\", \"showlegend\": true, \"type\": \"scatter\", \"x\": [-323.38917085463487], \"xaxis\": \"x\", \"y\": [-109.20946730883186], \"yaxis\": \"y\"}, {\"hovertemplate\": \"color=Heal Spirit<br>0=%{x}<br>1=%{y}<extra></extra>\", \"legendgroup\": \"Heal Spirit\", \"marker\": {\"color\": \"#FF6692\", \"symbol\": \"circle\"}, \"mode\": \"markers\", \"name\": \"Heal Spirit\", \"orientation\": \"v\", \"showlegend\": true, \"type\": \"scatter\", \"x\": [-696.2457450331998], \"xaxis\": \"x\", \"y\": [-343.6792814874287], \"yaxis\": \"y\"}, {\"hovertemplate\": \"color=Giant Snowball<br>0=%{x}<br>1=%{y}<extra></extra>\", \"legendgroup\": \"Giant Snowball\", \"marker\": {\"color\": \"#B6E880\", \"symbol\": \"circle\"}, \"mode\": \"markers\", \"name\": \"Giant Snowball\", \"orientation\": \"v\", \"showlegend\": true, \"type\": \"scatter\", \"x\": [-892.2708191966658], \"xaxis\": \"x\", \"y\": [-29.997504880153656], \"yaxis\": \"y\"}, {\"hovertemplate\": \"color=Royal Delivery<br>0=%{x}<br>1=%{y}<extra></extra>\", \"legendgroup\": \"Royal Delivery\", \"marker\": {\"color\": \"#FF97FF\", \"symbol\": \"circle\"}, \"mode\": \"markers\", \"name\": \"Royal Delivery\", \"orientation\": \"v\", \"showlegend\": true, \"type\": \"scatter\", \"x\": [-252.65987446620326], \"xaxis\": \"x\", \"y\": [-41.41299044488776], \"yaxis\": \"y\"}],\n",
       "                        {\"annotations\": [{\"ax\": 0, \"ay\": 0, \"text\": \"rarity_common\", \"x\": -0.09630581489593551, \"xanchor\": \"center\", \"y\": -0.060038510984972114, \"yanchor\": \"bottom\"}, {\"ax\": 0, \"ay\": 0, \"text\": \"rarity_rare\", \"x\": 0.01916671971010069, \"xanchor\": \"center\", \"y\": 0.014951915579533435, \"yanchor\": \"bottom\"}, {\"ax\": 0, \"ay\": 0, \"text\": \"rarity_epic\", \"x\": 0.051428243357445225, \"xanchor\": \"center\", \"y\": 0.03306859167703199, \"yanchor\": \"bottom\"}, {\"ax\": 0, \"ay\": 0, \"text\": \"rarity_legendary\", \"x\": 0.025710851828656157, \"xanchor\": \"center\", \"y\": 0.012018003728250138, \"yanchor\": \"bottom\"}, {\"ax\": 0, \"ay\": 0, \"text\": \"troop\", \"x\": 0.10424129144923915, \"xanchor\": \"center\", \"y\": -0.03529245098409307, \"yanchor\": \"bottom\"}, {\"ax\": 0, \"ay\": 0, \"text\": \"troop_ground\", \"x\": 0.12089871112862047, \"xanchor\": \"center\", \"y\": -0.06042355889287166, \"yanchor\": \"bottom\"}, {\"ax\": 0, \"ay\": 0, \"text\": \"troop_air\", \"x\": -0.026432719233842782, \"xanchor\": \"center\", \"y\": -0.03267857438557439, \"yanchor\": \"bottom\"}, {\"ax\": 0, \"ay\": 0, \"text\": \"building\", \"x\": 0.030998340146252464, \"xanchor\": \"center\", \"y\": -0.03834169840353115, \"yanchor\": \"bottom\"}, {\"ax\": 0, \"ay\": 0, \"text\": \"spell\", \"x\": -0.1602097701795618, \"xanchor\": \"center\", \"y\": 0.04420747938704473, \"yanchor\": \"bottom\"}, {\"ax\": 0, \"ay\": 0, \"text\": \"elixir\", \"x\": 0.9108264723013947, \"xanchor\": \"center\", \"y\": 0.38056094216483144, \"yanchor\": \"bottom\"}, {\"ax\": 0, \"ay\": 0, \"text\": \"number_troops\", \"x\": -0.4689989461231004, \"xanchor\": \"center\", \"y\": -0.6493738874161537, \"yanchor\": \"bottom\"}, {\"ax\": 0, \"ay\": 0, \"text\": \"number_troops_on_death\", \"x\": 0.38034183046652675, \"xanchor\": \"center\", \"y\": -0.18484999674627067, \"yanchor\": \"bottom\"}, {\"ax\": 0, \"ay\": 0, \"text\": \"death_damage\", \"x\": 35.51583052649977, \"xanchor\": \"center\", \"y\": 1.7763531566361577, \"yanchor\": \"bottom\"}, {\"ax\": 0, \"ay\": 0, \"text\": \"damage_troops\", \"x\": -6.299312849554538, \"xanchor\": \"center\", \"y\": 197.7754911283094, \"yanchor\": \"bottom\"}, {\"ax\": 0, \"ay\": 0, \"text\": \"damage_troops_speed\", \"x\": 0.07371254260538097, \"xanchor\": \"center\", \"y\": 0.15240367602662172, \"yanchor\": \"bottom\"}, {\"ax\": 0, \"ay\": 0, \"text\": \"damage_air\", \"x\": -42.53032487065717, \"xanchor\": \"center\", \"y\": 135.13892114781254, \"yanchor\": \"bottom\"}, {\"ax\": 0, \"ay\": 0, \"text\": \"damage_air_speed\", \"x\": -0.08775826867491617, \"xanchor\": \"center\", \"y\": -0.009094308230608347, \"yanchor\": \"bottom\"}, {\"ax\": 0, \"ay\": 0, \"text\": \"damage_buildings\", \"x\": 23.568709626763205, \"xanchor\": \"center\", \"y\": 202.5557216398421, \"yanchor\": \"bottom\"}, {\"ax\": 0, \"ay\": 0, \"text\": \"damage_buildings_speed\", \"x\": 0.3243104478650974, \"xanchor\": \"center\", \"y\": 0.15090186741273395, \"yanchor\": \"bottom\"}, {\"ax\": 0, \"ay\": 0, \"text\": \"area_damage\", \"x\": -25.155850763325247, \"xanchor\": \"center\", \"y\": 167.98083582954405, \"yanchor\": \"bottom\"}, {\"ax\": 0, \"ay\": 0, \"text\": \"crown_tower_damage\", \"x\": 45.010464117743815, \"xanchor\": \"center\", \"y\": 134.17549171098415, \"yanchor\": \"bottom\"}, {\"ax\": 0, \"ay\": 0, \"text\": \"move_speed_slow\", \"x\": 0.17189278378999762, \"xanchor\": \"center\", \"y\": 0.03462645635622983, \"yanchor\": \"bottom\"}, {\"ax\": 0, \"ay\": 0, \"text\": \"move_speed_medium\", \"x\": 0.09578601871475827, \"xanchor\": \"center\", \"y\": 0.003957754528174218, \"yanchor\": \"bottom\"}, {\"ax\": 0, \"ay\": 0, \"text\": \"move_speed_fast\", \"x\": -0.05640084065908903, \"xanchor\": \"center\", \"y\": -0.04028828614985677, \"yanchor\": \"bottom\"}, {\"ax\": 0, \"ay\": 0, \"text\": \"move_speed_very_fast\", \"x\": -0.07355407640255786, \"xanchor\": \"center\", \"y\": -0.056174421941049685, \"yanchor\": \"bottom\"}, {\"ax\": 0, \"ay\": 0, \"text\": \"radius\", \"x\": -0.4368039607653622, \"xanchor\": \"center\", \"y\": 0.11823040762572136, \"yanchor\": \"bottom\"}, {\"ax\": 0, \"ay\": 0, \"text\": \"width\", \"x\": -0.0451591858332775, \"xanchor\": \"center\", \"y\": -0.002785393841775525, \"yanchor\": \"bottom\"}, {\"ax\": 0, \"ay\": 0, \"text\": \"range\", \"x\": -0.03646144017377698, \"xanchor\": \"center\", \"y\": 0.01752192793375056, \"yanchor\": \"bottom\"}, {\"ax\": 0, \"ay\": 0, \"text\": \"range_melee_short\", \"x\": 0.06578088575760935, \"xanchor\": \"center\", \"y\": -0.06028531751291675, \"yanchor\": \"bottom\"}, {\"ax\": 0, \"ay\": 0, \"text\": \"range_melee_medium\", \"x\": 0.08844658506604071, \"xanchor\": \"center\", \"y\": 0.0010726988465347346, \"yanchor\": \"bottom\"}, {\"ax\": 0, \"ay\": 0, \"text\": \"range_melee_long\", \"x\": 0.006253383739643494, \"xanchor\": \"center\", \"y\": -0.029711290097384158, \"yanchor\": \"bottom\"}, {\"ax\": 0, \"ay\": 0, \"text\": \"spawner\", \"x\": -0.0036123377630517283, \"xanchor\": \"center\", \"y\": -0.029203082338900763, \"yanchor\": \"bottom\"}, {\"ax\": 0, \"ay\": 0, \"text\": \"duration\", \"x\": 0.45091676456015783, \"xanchor\": \"center\", \"y\": -1.978216187852885, \"yanchor\": \"bottom\"}, {\"ax\": 0, \"ay\": 0, \"text\": \"hitpoints\", \"x\": 966.1035831177247, \"xanchor\": \"center\", \"y\": 0.3550238359933518, \"yanchor\": \"bottom\"}], \"legend\": {\"title\": {\"text\": \"color\"}, \"tracegroupgap\": 0}, \"margin\": {\"t\": 60}, \"shapes\": [{\"type\": \"line\", \"x0\": 0, \"x1\": -0.09630581489593551, \"y0\": 0, \"y1\": -0.060038510984972114}, {\"type\": \"line\", \"x0\": 0, \"x1\": 0.01916671971010069, \"y0\": 0, \"y1\": 0.014951915579533435}, {\"type\": \"line\", \"x0\": 0, \"x1\": 0.051428243357445225, \"y0\": 0, \"y1\": 0.03306859167703199}, {\"type\": \"line\", \"x0\": 0, \"x1\": 0.025710851828656157, \"y0\": 0, \"y1\": 0.012018003728250138}, {\"type\": \"line\", \"x0\": 0, \"x1\": 0.10424129144923915, \"y0\": 0, \"y1\": -0.03529245098409307}, {\"type\": \"line\", \"x0\": 0, \"x1\": 0.12089871112862047, \"y0\": 0, \"y1\": -0.06042355889287166}, {\"type\": \"line\", \"x0\": 0, \"x1\": -0.026432719233842782, \"y0\": 0, \"y1\": -0.03267857438557439}, {\"type\": \"line\", \"x0\": 0, \"x1\": 0.030998340146252464, \"y0\": 0, \"y1\": -0.03834169840353115}, {\"type\": \"line\", \"x0\": 0, \"x1\": -0.1602097701795618, \"y0\": 0, \"y1\": 0.04420747938704473}, {\"type\": \"line\", \"x0\": 0, \"x1\": 0.9108264723013947, \"y0\": 0, \"y1\": 0.38056094216483144}, {\"type\": \"line\", \"x0\": 0, \"x1\": -0.4689989461231004, \"y0\": 0, \"y1\": -0.6493738874161537}, {\"type\": \"line\", \"x0\": 0, \"x1\": 0.38034183046652675, \"y0\": 0, \"y1\": -0.18484999674627067}, {\"type\": \"line\", \"x0\": 0, \"x1\": 35.51583052649977, \"y0\": 0, \"y1\": 1.7763531566361577}, {\"type\": \"line\", \"x0\": 0, \"x1\": -6.299312849554538, \"y0\": 0, \"y1\": 197.7754911283094}, {\"type\": \"line\", \"x0\": 0, \"x1\": 0.07371254260538097, \"y0\": 0, \"y1\": 0.15240367602662172}, {\"type\": \"line\", \"x0\": 0, \"x1\": -42.53032487065717, \"y0\": 0, \"y1\": 135.13892114781254}, {\"type\": \"line\", \"x0\": 0, \"x1\": -0.08775826867491617, \"y0\": 0, \"y1\": -0.009094308230608347}, {\"type\": \"line\", \"x0\": 0, \"x1\": 23.568709626763205, \"y0\": 0, \"y1\": 202.5557216398421}, {\"type\": \"line\", \"x0\": 0, \"x1\": 0.3243104478650974, \"y0\": 0, \"y1\": 0.15090186741273395}, {\"type\": \"line\", \"x0\": 0, \"x1\": -25.155850763325247, \"y0\": 0, \"y1\": 167.98083582954405}, {\"type\": \"line\", \"x0\": 0, \"x1\": 45.010464117743815, \"y0\": 0, \"y1\": 134.17549171098415}, {\"type\": \"line\", \"x0\": 0, \"x1\": 0.17189278378999762, \"y0\": 0, \"y1\": 0.03462645635622983}, {\"type\": \"line\", \"x0\": 0, \"x1\": 0.09578601871475827, \"y0\": 0, \"y1\": 0.003957754528174218}, {\"type\": \"line\", \"x0\": 0, \"x1\": -0.05640084065908903, \"y0\": 0, \"y1\": -0.04028828614985677}, {\"type\": \"line\", \"x0\": 0, \"x1\": -0.07355407640255786, \"y0\": 0, \"y1\": -0.056174421941049685}, {\"type\": \"line\", \"x0\": 0, \"x1\": -0.4368039607653622, \"y0\": 0, \"y1\": 0.11823040762572136}, {\"type\": \"line\", \"x0\": 0, \"x1\": -0.0451591858332775, \"y0\": 0, \"y1\": -0.002785393841775525}, {\"type\": \"line\", \"x0\": 0, \"x1\": -0.03646144017377698, \"y0\": 0, \"y1\": 0.01752192793375056}, {\"type\": \"line\", \"x0\": 0, \"x1\": 0.06578088575760935, \"y0\": 0, \"y1\": -0.06028531751291675}, {\"type\": \"line\", \"x0\": 0, \"x1\": 0.08844658506604071, \"y0\": 0, \"y1\": 0.0010726988465347346}, {\"type\": \"line\", \"x0\": 0, \"x1\": 0.006253383739643494, \"y0\": 0, \"y1\": -0.029711290097384158}, {\"type\": \"line\", \"x0\": 0, \"x1\": -0.0036123377630517283, \"y0\": 0, \"y1\": -0.029203082338900763}, {\"type\": \"line\", \"x0\": 0, \"x1\": 0.45091676456015783, \"y0\": 0, \"y1\": -1.978216187852885}, {\"type\": \"line\", \"x0\": 0, \"x1\": 966.1035831177247, \"y0\": 0, \"y1\": 0.3550238359933518}], \"template\": {\"data\": {\"bar\": [{\"error_x\": {\"color\": \"#2a3f5f\"}, \"error_y\": {\"color\": \"#2a3f5f\"}, \"marker\": {\"line\": {\"color\": \"#E5ECF6\", \"width\": 0.5}}, \"type\": \"bar\"}], \"barpolar\": [{\"marker\": {\"line\": {\"color\": \"#E5ECF6\", \"width\": 0.5}}, \"type\": \"barpolar\"}], \"carpet\": [{\"aaxis\": {\"endlinecolor\": \"#2a3f5f\", \"gridcolor\": \"white\", \"linecolor\": \"white\", \"minorgridcolor\": \"white\", \"startlinecolor\": \"#2a3f5f\"}, \"baxis\": {\"endlinecolor\": \"#2a3f5f\", \"gridcolor\": \"white\", \"linecolor\": \"white\", \"minorgridcolor\": \"white\", \"startlinecolor\": \"#2a3f5f\"}, \"type\": \"carpet\"}], \"choropleth\": [{\"colorbar\": {\"outlinewidth\": 0, \"ticks\": \"\"}, \"type\": \"choropleth\"}], \"contour\": [{\"colorbar\": {\"outlinewidth\": 0, \"ticks\": \"\"}, \"colorscale\": [[0.0, \"#0d0887\"], [0.1111111111111111, \"#46039f\"], [0.2222222222222222, \"#7201a8\"], [0.3333333333333333, \"#9c179e\"], [0.4444444444444444, \"#bd3786\"], [0.5555555555555556, \"#d8576b\"], [0.6666666666666666, \"#ed7953\"], [0.7777777777777778, \"#fb9f3a\"], [0.8888888888888888, \"#fdca26\"], [1.0, \"#f0f921\"]], \"type\": \"contour\"}], \"contourcarpet\": [{\"colorbar\": {\"outlinewidth\": 0, \"ticks\": \"\"}, \"type\": \"contourcarpet\"}], \"heatmap\": [{\"colorbar\": {\"outlinewidth\": 0, \"ticks\": \"\"}, \"colorscale\": [[0.0, \"#0d0887\"], [0.1111111111111111, \"#46039f\"], [0.2222222222222222, \"#7201a8\"], [0.3333333333333333, \"#9c179e\"], [0.4444444444444444, \"#bd3786\"], [0.5555555555555556, \"#d8576b\"], [0.6666666666666666, \"#ed7953\"], [0.7777777777777778, \"#fb9f3a\"], [0.8888888888888888, \"#fdca26\"], [1.0, \"#f0f921\"]], \"type\": \"heatmap\"}], \"heatmapgl\": [{\"colorbar\": {\"outlinewidth\": 0, \"ticks\": \"\"}, \"colorscale\": [[0.0, \"#0d0887\"], [0.1111111111111111, \"#46039f\"], [0.2222222222222222, \"#7201a8\"], [0.3333333333333333, \"#9c179e\"], [0.4444444444444444, \"#bd3786\"], [0.5555555555555556, \"#d8576b\"], [0.6666666666666666, \"#ed7953\"], [0.7777777777777778, \"#fb9f3a\"], [0.8888888888888888, \"#fdca26\"], [1.0, \"#f0f921\"]], \"type\": \"heatmapgl\"}], \"histogram\": [{\"marker\": {\"colorbar\": {\"outlinewidth\": 0, \"ticks\": \"\"}}, \"type\": \"histogram\"}], \"histogram2d\": [{\"colorbar\": {\"outlinewidth\": 0, \"ticks\": \"\"}, \"colorscale\": [[0.0, \"#0d0887\"], [0.1111111111111111, \"#46039f\"], [0.2222222222222222, \"#7201a8\"], [0.3333333333333333, \"#9c179e\"], [0.4444444444444444, \"#bd3786\"], [0.5555555555555556, \"#d8576b\"], [0.6666666666666666, \"#ed7953\"], [0.7777777777777778, \"#fb9f3a\"], [0.8888888888888888, \"#fdca26\"], [1.0, \"#f0f921\"]], \"type\": \"histogram2d\"}], \"histogram2dcontour\": [{\"colorbar\": {\"outlinewidth\": 0, \"ticks\": \"\"}, \"colorscale\": [[0.0, \"#0d0887\"], [0.1111111111111111, \"#46039f\"], [0.2222222222222222, \"#7201a8\"], [0.3333333333333333, \"#9c179e\"], [0.4444444444444444, \"#bd3786\"], [0.5555555555555556, \"#d8576b\"], [0.6666666666666666, \"#ed7953\"], [0.7777777777777778, \"#fb9f3a\"], [0.8888888888888888, \"#fdca26\"], [1.0, \"#f0f921\"]], \"type\": \"histogram2dcontour\"}], \"mesh3d\": [{\"colorbar\": {\"outlinewidth\": 0, \"ticks\": \"\"}, \"type\": \"mesh3d\"}], \"parcoords\": [{\"line\": {\"colorbar\": {\"outlinewidth\": 0, \"ticks\": \"\"}}, \"type\": \"parcoords\"}], \"pie\": [{\"automargin\": true, \"type\": \"pie\"}], \"scatter\": [{\"marker\": {\"colorbar\": {\"outlinewidth\": 0, \"ticks\": \"\"}}, \"type\": \"scatter\"}], \"scatter3d\": [{\"line\": {\"colorbar\": {\"outlinewidth\": 0, \"ticks\": \"\"}}, \"marker\": {\"colorbar\": {\"outlinewidth\": 0, \"ticks\": \"\"}}, \"type\": \"scatter3d\"}], \"scattercarpet\": [{\"marker\": {\"colorbar\": {\"outlinewidth\": 0, \"ticks\": \"\"}}, \"type\": \"scattercarpet\"}], \"scattergeo\": [{\"marker\": {\"colorbar\": {\"outlinewidth\": 0, \"ticks\": \"\"}}, \"type\": \"scattergeo\"}], \"scattergl\": [{\"marker\": {\"colorbar\": {\"outlinewidth\": 0, \"ticks\": \"\"}}, \"type\": \"scattergl\"}], \"scattermapbox\": [{\"marker\": {\"colorbar\": {\"outlinewidth\": 0, \"ticks\": \"\"}}, \"type\": \"scattermapbox\"}], \"scatterpolar\": [{\"marker\": {\"colorbar\": {\"outlinewidth\": 0, \"ticks\": \"\"}}, \"type\": \"scatterpolar\"}], \"scatterpolargl\": [{\"marker\": {\"colorbar\": {\"outlinewidth\": 0, \"ticks\": \"\"}}, \"type\": \"scatterpolargl\"}], \"scatterternary\": [{\"marker\": {\"colorbar\": {\"outlinewidth\": 0, \"ticks\": \"\"}}, \"type\": \"scatterternary\"}], \"surface\": [{\"colorbar\": {\"outlinewidth\": 0, \"ticks\": \"\"}, \"colorscale\": [[0.0, \"#0d0887\"], [0.1111111111111111, \"#46039f\"], [0.2222222222222222, \"#7201a8\"], [0.3333333333333333, \"#9c179e\"], [0.4444444444444444, \"#bd3786\"], [0.5555555555555556, \"#d8576b\"], [0.6666666666666666, \"#ed7953\"], [0.7777777777777778, \"#fb9f3a\"], [0.8888888888888888, \"#fdca26\"], [1.0, \"#f0f921\"]], \"type\": \"surface\"}], \"table\": [{\"cells\": {\"fill\": {\"color\": \"#EBF0F8\"}, \"line\": {\"color\": \"white\"}}, \"header\": {\"fill\": {\"color\": \"#C8D4E3\"}, \"line\": {\"color\": \"white\"}}, \"type\": \"table\"}]}, \"layout\": {\"annotationdefaults\": {\"arrowcolor\": \"#2a3f5f\", \"arrowhead\": 0, \"arrowwidth\": 1}, \"coloraxis\": {\"colorbar\": {\"outlinewidth\": 0, \"ticks\": \"\"}}, \"colorscale\": {\"diverging\": [[0, \"#8e0152\"], [0.1, \"#c51b7d\"], [0.2, \"#de77ae\"], [0.3, \"#f1b6da\"], [0.4, \"#fde0ef\"], [0.5, \"#f7f7f7\"], [0.6, \"#e6f5d0\"], [0.7, \"#b8e186\"], [0.8, \"#7fbc41\"], [0.9, \"#4d9221\"], [1, \"#276419\"]], \"sequential\": [[0.0, \"#0d0887\"], [0.1111111111111111, \"#46039f\"], [0.2222222222222222, \"#7201a8\"], [0.3333333333333333, \"#9c179e\"], [0.4444444444444444, \"#bd3786\"], [0.5555555555555556, \"#d8576b\"], [0.6666666666666666, \"#ed7953\"], [0.7777777777777778, \"#fb9f3a\"], [0.8888888888888888, \"#fdca26\"], [1.0, \"#f0f921\"]], \"sequentialminus\": [[0.0, \"#0d0887\"], [0.1111111111111111, \"#46039f\"], [0.2222222222222222, \"#7201a8\"], [0.3333333333333333, \"#9c179e\"], [0.4444444444444444, \"#bd3786\"], [0.5555555555555556, \"#d8576b\"], [0.6666666666666666, \"#ed7953\"], [0.7777777777777778, \"#fb9f3a\"], [0.8888888888888888, \"#fdca26\"], [1.0, \"#f0f921\"]]}, \"colorway\": [\"#636efa\", \"#EF553B\", \"#00cc96\", \"#ab63fa\", \"#FFA15A\", \"#19d3f3\", \"#FF6692\", \"#B6E880\", \"#FF97FF\", \"#FECB52\"], \"font\": {\"color\": \"#2a3f5f\"}, \"geo\": {\"bgcolor\": \"white\", \"lakecolor\": \"white\", \"landcolor\": \"#E5ECF6\", \"showlakes\": true, \"showland\": true, \"subunitcolor\": \"white\"}, \"hoverlabel\": {\"align\": \"left\"}, \"hovermode\": \"closest\", \"mapbox\": {\"style\": \"light\"}, \"paper_bgcolor\": \"white\", \"plot_bgcolor\": \"#E5ECF6\", \"polar\": {\"angularaxis\": {\"gridcolor\": \"white\", \"linecolor\": \"white\", \"ticks\": \"\"}, \"bgcolor\": \"#E5ECF6\", \"radialaxis\": {\"gridcolor\": \"white\", \"linecolor\": \"white\", \"ticks\": \"\"}}, \"scene\": {\"xaxis\": {\"backgroundcolor\": \"#E5ECF6\", \"gridcolor\": \"white\", \"gridwidth\": 2, \"linecolor\": \"white\", \"showbackground\": true, \"ticks\": \"\", \"zerolinecolor\": \"white\"}, \"yaxis\": {\"backgroundcolor\": \"#E5ECF6\", \"gridcolor\": \"white\", \"gridwidth\": 2, \"linecolor\": \"white\", \"showbackground\": true, \"ticks\": \"\", \"zerolinecolor\": \"white\"}, \"zaxis\": {\"backgroundcolor\": \"#E5ECF6\", \"gridcolor\": \"white\", \"gridwidth\": 2, \"linecolor\": \"white\", \"showbackground\": true, \"ticks\": \"\", \"zerolinecolor\": \"white\"}}, \"shapedefaults\": {\"line\": {\"color\": \"#2a3f5f\"}}, \"ternary\": {\"aaxis\": {\"gridcolor\": \"white\", \"linecolor\": \"white\", \"ticks\": \"\"}, \"baxis\": {\"gridcolor\": \"white\", \"linecolor\": \"white\", \"ticks\": \"\"}, \"bgcolor\": \"#E5ECF6\", \"caxis\": {\"gridcolor\": \"white\", \"linecolor\": \"white\", \"ticks\": \"\"}}, \"title\": {\"x\": 0.05}, \"xaxis\": {\"automargin\": true, \"gridcolor\": \"white\", \"linecolor\": \"white\", \"ticks\": \"\", \"title\": {\"standoff\": 15}, \"zerolinecolor\": \"white\", \"zerolinewidth\": 2}, \"yaxis\": {\"automargin\": true, \"gridcolor\": \"white\", \"linecolor\": \"white\", \"ticks\": \"\", \"title\": {\"standoff\": 15}, \"zerolinecolor\": \"white\", \"zerolinewidth\": 2}}}, \"xaxis\": {\"anchor\": \"y\", \"domain\": [0.0, 1.0], \"title\": {\"text\": \"0\"}}, \"yaxis\": {\"anchor\": \"x\", \"domain\": [0.0, 1.0], \"title\": {\"text\": \"1\"}}},\n",
       "                        {\"responsive\": true}\n",
       "                    ).then(function(){\n",
       "                            \n",
       "var gd = document.getElementById('d4fa0b42-0f1f-4742-9222-9325b15c5f4f');\n",
       "var x = new MutationObserver(function (mutations, observer) {{\n",
       "        var display = window.getComputedStyle(gd).display;\n",
       "        if (!display || display === 'none') {{\n",
       "            console.log([gd, 'removed!']);\n",
       "            Plotly.purge(gd);\n",
       "            observer.disconnect();\n",
       "        }}\n",
       "}});\n",
       "\n",
       "// Listen for the removal of the full notebook cells\n",
       "var notebookContainer = gd.closest('#notebook-container');\n",
       "if (notebookContainer) {{\n",
       "    x.observe(notebookContainer, {childList: true});\n",
       "}}\n",
       "\n",
       "// Listen for the clearing of the current output cell\n",
       "var outputEl = gd.closest('.output');\n",
       "if (outputEl) {{\n",
       "    x.observe(outputEl, {childList: true});\n",
       "}}\n",
       "\n",
       "                        })\n",
       "                };\n",
       "                });\n",
       "            </script>\n",
       "        </div>"
      ]
     },
     "metadata": {},
     "output_type": "display_data"
    }
   ],
   "source": [
    "import plotly.express as px\n",
    "from sklearn.decomposition import PCA\n",
    "from sklearn import datasets\n",
    "from sklearn.preprocessing import StandardScaler\n",
    "\n",
    "df = df_stats\n",
    "features = df_stats.columns[1:]\n",
    "X = df[features]\n",
    "\n",
    "pca = PCA(n_components=2)\n",
    "components = pca.fit_transform(X)\n",
    "\n",
    "loadings = pca.components_.T * np.sqrt(pca.explained_variance_)\n",
    "\n",
    "fig = px.scatter(components, x=0, y=1, color=df['name'])\n",
    "\n",
    "for i, feature in enumerate(features):\n",
    "    fig.add_shape(\n",
    "        type='line',\n",
    "        x0=0, y0=0,\n",
    "        x1=loadings[i, 0],\n",
    "        y1=loadings[i, 1]\n",
    "    )\n",
    "    fig.add_annotation(\n",
    "        x=loadings[i, 0],\n",
    "        y=loadings[i, 1],\n",
    "        ax=0, ay=0,\n",
    "        xanchor=\"center\",\n",
    "        yanchor=\"bottom\",\n",
    "        text=feature,\n",
    "    )\n",
    "fig.show()"
   ]
  },
  {
   "cell_type": "code",
   "execution_count": 23,
   "metadata": {},
   "outputs": [
    {
     "data": {
      "text/plain": [
       "(99, 34)"
      ]
     },
     "execution_count": 23,
     "metadata": {},
     "output_type": "execute_result"
    }
   ],
   "source": [
    "loadings.shape"
   ]
  },
  {
   "cell_type": "code",
   "execution_count": null,
   "metadata": {},
   "outputs": [],
   "source": []
  }
 ],
 "metadata": {
  "kernelspec": {
   "display_name": "Python 3",
   "language": "python",
   "name": "python3"
  },
  "language_info": {
   "codemirror_mode": {
    "name": "ipython",
    "version": 3
   },
   "file_extension": ".py",
   "mimetype": "text/x-python",
   "name": "python",
   "nbconvert_exporter": "python",
   "pygments_lexer": "ipython3",
   "version": "3.6.7"
  }
 },
 "nbformat": 4,
 "nbformat_minor": 2
}
